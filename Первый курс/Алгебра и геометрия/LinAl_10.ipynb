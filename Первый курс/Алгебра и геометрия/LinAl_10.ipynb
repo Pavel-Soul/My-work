{
 "cells": [
  {
   "cell_type": "code",
   "execution_count": 1,
   "metadata": {},
   "outputs": [],
   "source": [
    "from sympy.abc import x, y, z\n",
    "import numpy as np\n",
    "from sympy import *\n",
    "import IPython\n",
    "from PIL import Image\n",
    "from matplotlib.pyplot import imshow, show\n",
    "from IPython.display import display\n",
    "import re\n",
    "from icecream import ic\n",
    "import mpmath\n",
    "\n",
    "init_printing()"
   ]
  },
  {
   "cell_type": "code",
   "execution_count": 328,
   "metadata": {},
   "outputs": [
    {
     "data": {
      "image/png": "[encoded data removed]",
      "text/latex": [
       "$\\displaystyle 2 x^{2} + 3 x + 11$"
      ],
      "text/plain": [
       "   2           \n",
       "2⋅x  + 3⋅x + 11"
      ]
     },
     "metadata": {},
     "output_type": "display_data"
    },
    {
     "data": {
      "image/png": "[encoded data removed]",
      "text/latex": [
       "$\\displaystyle 25 x - 5$"
      ],
      "text/plain": [
       "25⋅x - 5"
      ]
     },
     "metadata": {},
     "output_type": "display_data"
    },
    {
     "data": {
      "text/plain": [
       "True"
      ]
     },
     "execution_count": 328,
     "metadata": {},
     "output_type": "execute_result"
    }
   ],
   "source": [
    "# 10.1\n",
    "\n",
    "f = 2*x**4 - 3*x**3 + 4*x**2 - 5*x + 6\n",
    "g = x**2 - 3*x + 1\n",
    "Q,R = div(f, g)\n",
    "display(Q)\n",
    "display(R)\n",
    "\n",
    "simplify(Q * g + R) == f\n"
   ]
  },
  {
   "cell_type": "code",
   "execution_count": 3,
   "metadata": {},
   "outputs": [
    {
     "ename": "NameError",
     "evalue": "name 'x' is not defined",
     "output_type": "error",
     "traceback": [
      "\u001b[1;31m---------------------------------------------------------------------------\u001b[0m",
      "\u001b[1;31mNameError\u001b[0m                                 Traceback (most recent call last)",
      "Cell \u001b[1;32mIn [3], line 3\u001b[0m\n\u001b[0;32m      1\u001b[0m \u001b[39m# 10.2\u001b[39;00m\n\u001b[1;32m----> 3\u001b[0m f \u001b[39m=\u001b[39m x\u001b[39m*\u001b[39m\u001b[39m*\u001b[39m\u001b[39m5\u001b[39m \u001b[39m+\u001b[39m \u001b[39m3\u001b[39m\u001b[39m*\u001b[39mx\u001b[39m*\u001b[39m\u001b[39m*\u001b[39m\u001b[39m4\u001b[39m \u001b[39m-\u001b[39m \u001b[39m12\u001b[39m\u001b[39m*\u001b[39mx\u001b[39m*\u001b[39m\u001b[39m*\u001b[39m\u001b[39m3\u001b[39m \u001b[39m-\u001b[39m \u001b[39m52\u001b[39m\u001b[39m*\u001b[39mx\u001b[39m*\u001b[39m\u001b[39m*\u001b[39m\u001b[39m2\u001b[39m \u001b[39m-\u001b[39m \u001b[39m52\u001b[39m\u001b[39m*\u001b[39mx \u001b[39m-\u001b[39m \u001b[39m12\u001b[39m\n\u001b[0;32m      4\u001b[0m g \u001b[39m=\u001b[39m x\u001b[39m*\u001b[39m\u001b[39m*\u001b[39m\u001b[39m4\u001b[39m \u001b[39m+\u001b[39m \u001b[39m3\u001b[39m\u001b[39m*\u001b[39mx\u001b[39m*\u001b[39m\u001b[39m*\u001b[39m\u001b[39m3\u001b[39m \u001b[39m-\u001b[39m \u001b[39m6\u001b[39m\u001b[39m*\u001b[39mx\u001b[39m*\u001b[39m\u001b[39m*\u001b[39m\u001b[39m2\u001b[39m \u001b[39m-\u001b[39m \u001b[39m22\u001b[39m\u001b[39m*\u001b[39mx \u001b[39m-\u001b[39m \u001b[39m12\u001b[39m\n\u001b[0;32m      5\u001b[0m u, v, GCD \u001b[39m=\u001b[39m gcdex(f, g)\n",
      "\u001b[1;31mNameError\u001b[0m: name 'x' is not defined"
     ]
    }
   ],
   "source": [
    "# 10.2\n",
    "\n",
    "f = x**5 + 3*x**4 - 12*x**3 - 52*x**2 - 52*x - 12\n",
    "g = x**4 + 3*x**3 - 6*x**2 - 22*x - 12\n",
    "u, v, GCD = gcdex(f, g)\n",
    "display(u, v, GCD)\n",
    "simplify(f*u + g*v) == GCD"
   ]
  },
  {
   "cell_type": "code",
   "execution_count": 330,
   "metadata": {},
   "outputs": [
    {
     "data": {
      "image/png": "[encoded data removed]",
      "text/latex": [
       "$\\displaystyle x^{5} - 6 x^{4} + 2 x^{3} + 36 x^{2} - 27 x - 54$"
      ],
      "text/plain": [
       " 5      4      3       2            \n",
       "x  - 6⋅x  + 2⋅x  + 36⋅x  - 27⋅x - 54"
      ]
     },
     "metadata": {},
     "output_type": "display_data"
    }
   ],
   "source": [
    "def _f(line):\n",
    "    line = line.replace('−', '-')\n",
    "    line = re.sub(r'(?<!=[^\\d\\s(])(\\d+)(?=\\s)', r'**\\1', line)\n",
    "    line = re.sub(r'(\\d)(?=[^\\d\\s])', r'\\1*', line)\n",
    "    # print(line)\n",
    "    return simplify(line)\n",
    "\n",
    "\n",
    "line = \"x5 − 6x4 + 2x3 + 36x2 − 27x − 54\"\n",
    "display(_f(line))\n"
   ]
  },
  {
   "cell_type": "code",
   "execution_count": 331,
   "metadata": {},
   "outputs": [
    {
     "data": {
      "image/png": "[encoded data removed]",
      "text/latex": [
       "$\\displaystyle \\left(x - 3\\right)^{3} \\left(x + 1\\right) \\left(x + 2\\right)$"
      ],
      "text/plain": [
       "       3                \n",
       "(x - 3) ⋅(x + 1)⋅(x + 2)"
      ]
     },
     "metadata": {},
     "output_type": "display_data"
    },
    {
     "data": {
      "image/png": "[encoded data removed]",
      "text/latex": [
       "$\\displaystyle \\left[ \\right]$"
      ],
      "text/plain": [
       "[]"
      ]
     },
     "metadata": {},
     "output_type": "display_data"
    }
   ],
   "source": [
    "# 10.3 a\n",
    "\n",
    "f = _f('x5 − 6x4 + 2x3 + 36x2 − 27x − 54')\n",
    "display(factor(f), solve(f, x))\n",
    "# Кратность корня 3 равна 3, остальных - 1"
   ]
  },
  {
   "cell_type": "code",
   "execution_count": 332,
   "metadata": {},
   "outputs": [
    {
     "data": {
      "image/png": "[encoded data removed]",
      "text/latex": [
       "$\\displaystyle 1.0 \\left(x - 3.0 i\\right) \\left(x - 1.0 i\\right) \\left(x + 1.0 - 2.0 i\\right) \\left(x + 2.0 - 2.0 i\\right)$"
      ],
      "text/plain": [
       "1.0⋅(x - 3.0⋅ⅈ)⋅(x - ⅈ)⋅(x + 1.0 - 2.0⋅ⅈ)⋅(x + 2.0 - 2.0⋅ⅈ)"
      ]
     },
     "execution_count": 332,
     "metadata": {},
     "output_type": "execute_result"
    }
   ],
   "source": [
    "# 10.3 b\n",
    "i = 1j\n",
    "f = x**4 + (3 - 8*i)*x**3 - (21 + 18*i )*x**2 - (33 - 20*i)*x + 6 + 18*i\n",
    "\n",
    "def to_parts(func):\n",
    "    roots = solve(func, x)\n",
    "    res = 1\n",
    "    for root in roots:\n",
    "        while not div(func, x-root)[1]:\n",
    "            res *= (x-root)\n",
    "            func = div(func, x-root)[0]\n",
    "    res *= func\n",
    "    # display(res)\n",
    "    return res\n",
    "    \n",
    "\n",
    "\n",
    "to_parts(f)\n",
    "# div(f, x-i)[0]\n",
    "\n",
    "# display(factor(f), solve(f, x))\n",
    "# display(solve(f, x))\n",
    "\n",
    "# Кратность всех корней 1\n"
   ]
  },
  {
   "cell_type": "code",
   "execution_count": 333,
   "metadata": {},
   "outputs": [
    {
     "data": {
      "image/png": "[encoded data removed]",
      "text/latex": [
       "$\\displaystyle \\tilde{\\infty} \\left(x + 1\\right) \\left(- a x + x^{4} - x^{3} + x^{2} - x + 1\\right)$"
      ],
      "text/plain": [
       "            ⎛        4    3    2        ⎞\n",
       "zoo⋅(x + 1)⋅⎝-a⋅x + x  - x  + x  - x + 1⎠"
      ]
     },
     "execution_count": 333,
     "metadata": {},
     "output_type": "execute_result"
    }
   ],
   "source": [
    "# 10.4 a\n",
    "f = _f(\"x5 − a*x2 − a*x + 1\")\n",
    "# f = f.subs({a:-5})\n",
    "f\n",
    "factor(f)\n",
    "(factor(f)/(x + 1)).subs(x, -1)\n"
   ]
  },
  {
   "cell_type": "code",
   "execution_count": 334,
   "metadata": {},
   "outputs": [
    {
     "ename": "NameError",
     "evalue": "name 'a' is not defined",
     "output_type": "error",
     "traceback": [
      "\u001b[1;31m---------------------------------------------------------------------------\u001b[0m",
      "\u001b[1;31mNameError\u001b[0m                                 Traceback (most recent call last)",
      "Cell \u001b[1;32mIn [334], line 3\u001b[0m\n\u001b[0;32m      1\u001b[0m \u001b[39m# 10.4 b\u001b[39;00m\n\u001b[1;32m----> 3\u001b[0m f \u001b[39m=\u001b[39m x\u001b[39m*\u001b[39m\u001b[39m*\u001b[39m\u001b[39m5\u001b[39m \u001b[39m+\u001b[39m a\u001b[39m*\u001b[39mx\u001b[39m*\u001b[39m\u001b[39m*\u001b[39m\u001b[39m3\u001b[39m \u001b[39m+\u001b[39m b\n\u001b[0;32m      4\u001b[0m fd \u001b[39m=\u001b[39m \u001b[39m5\u001b[39m\u001b[39m*\u001b[39mx\u001b[39m*\u001b[39m\u001b[39m*\u001b[39m\u001b[39m4\u001b[39m \u001b[39m+\u001b[39m \u001b[39m3\u001b[39m\u001b[39m*\u001b[39ma\u001b[39m*\u001b[39mx\u001b[39m*\u001b[39m\u001b[39m*\u001b[39m\u001b[39m2\u001b[39m\n\u001b[0;32m      5\u001b[0m \u001b[39mfor\u001b[39;00m i \u001b[39min\u001b[39;00m solve(fd, x)[\u001b[39m1\u001b[39m:]:\n",
      "\u001b[1;31mNameError\u001b[0m: name 'a' is not defined"
     ]
    }
   ],
   "source": [
    "# 10.4 b\n",
    "\n",
    "f = x**5 + a*x**3 + b\n",
    "fd = 5*x**4 + 3*a*x**2\n",
    "for i in solve(fd, x)[1:]:\n",
    "    display(solve(f.subs({x: i}), b))"
   ]
  },
  {
   "cell_type": "code",
   "execution_count": null,
   "metadata": {},
   "outputs": [
    {
     "data": {
      "image/png": "[encoded data removed]",
      "text/latex": [
       "$\\displaystyle \\left(x^{2} - \\sqrt{2} x + 1\\right) \\left(x^{2} + \\sqrt{2} x + 1\\right) \\left(x^{2} - x \\sqrt{2 - \\sqrt{2}} + 1\\right) \\left(x^{2} + x \\sqrt{2 - \\sqrt{2}} + 1\\right) \\left(x^{2} - x \\sqrt{\\sqrt{2} + 2} + 1\\right) \\left(x^{2} + x \\sqrt{\\sqrt{2} + 2} + 1\\right)$"
      ],
      "text/plain": [
       "⎛ 2           ⎞ ⎛ 2           ⎞ ⎛ 2       ________    ⎞ ⎛ 2       ________    \n",
       "⎝x  - √2⋅x + 1⎠⋅⎝x  + √2⋅x + 1⎠⋅⎝x  - x⋅╲╱ 2 - √2  + 1⎠⋅⎝x  + x⋅╲╱ 2 - √2  + 1\n",
       "\n",
       "⎞ ⎛ 2       ________    ⎞ ⎛ 2       ________    ⎞\n",
       "⎠⋅⎝x  - x⋅╲╱ √2 + 2  + 1⎠⋅⎝x  + x⋅╲╱ √2 + 2  + 1⎠"
      ]
     },
     "execution_count": 453,
     "metadata": {},
     "output_type": "execute_result"
    }
   ],
   "source": [
    "x = Symbol('x', real=False)\n",
    "f = x**12 + x**8+x**4+1\n",
    "result = 1\n",
    "for i in range(0, 3, 2):\n",
    "    result *= simplify((x - solve(f)[i])*(x - solve(f)[i+1]))\n",
    "\n",
    "mass = solve(x**8+1)\n",
    "\n",
    "for i in range(4):\n",
    "    result *= simplify((x-mass[i])*(x-conjugate(mass[i])))\n",
    "result\n"
   ]
  },
  {
   "cell_type": "code",
   "execution_count": 393,
   "metadata": {},
   "outputs": [
    {
     "name": "stdout",
     "output_type": "stream",
     "text": [
      "1.08060173735785\n",
      "11.97338446971213\n"
     ]
    }
   ],
   "source": [
    "# 10.6\n",
    "\n",
    "x = symbols('x', field='Complex')\n",
    "p = x**11 + x**10 + x**8 - 2*x**7 - x**5 + x**4 + 2*x**2 + 2*x + 2\n",
    "# e = solve(p)\n",
    "# roots(p)\n",
    "roots = [\n",
    "    -1.77676902492102, \n",
    "    - 0.0125001805645488 - 1.1826990817461j,\n",
    "    - 0.0125001805645488 + 1.1826990817461j,\n",
    "    - 0.707434455211921 - 0.464374725864871j,\n",
    "    - 0.707434455211921 + 0.464374725864871j,\n",
    "    - 0.450037112743447 - 0.803923144248076j,\n",
    "    - 0.450037112743447 + 0.803923144248076j,\n",
    "    0.47775452362258 - 0.901075230537856j,\n",
    "    0.47775452362258 + 0.901075230537856j,\n",
    "    1.08060173735785 - 0.323893118840002j,\n",
    "    1.08060173735785 + 0.323893118840002j,\n",
    "]\n",
    "print(1.08060173735785)\n",
    "print(sum(map(abs, roots)))\n"
   ]
  },
  {
   "cell_type": "code",
   "execution_count": 394,
   "metadata": {},
   "outputs": [
    {
     "data": {
      "image/png": "[encoded data removed]",
      "text/latex": [
       "$\\displaystyle -16 - \\sin^{2}{\\left(\\frac{\\pi}{7} \\right)} + \\cos^{2}{\\left(\\frac{\\pi}{7} \\right)} + 9 \\cos{\\left(\\frac{\\pi}{7} \\right)}$"
      ],
      "text/plain": [
       "         2⎛π⎞      2⎛π⎞        ⎛π⎞\n",
       "-16 - sin ⎜─⎟ + cos ⎜─⎟ + 9⋅cos⎜─⎟\n",
       "          ⎝7⎠       ⎝7⎠        ⎝7⎠"
      ]
     },
     "metadata": {},
     "output_type": "display_data"
    },
    {
     "data": {
      "image/png": "[encoded data removed]",
      "text/latex": [
       "$\\displaystyle 2 \\sin{\\left(\\frac{\\pi}{7} \\right)} \\cos{\\left(\\frac{\\pi}{7} \\right)} + 9 \\sin{\\left(\\frac{\\pi}{7} \\right)}$"
      ],
      "text/plain": [
       "     ⎛π⎞    ⎛π⎞        ⎛π⎞\n",
       "2⋅sin⎜─⎟⋅cos⎜─⎟ + 9⋅sin⎜─⎟\n",
       "     ⎝7⎠    ⎝7⎠        ⎝7⎠"
      ]
     },
     "metadata": {},
     "output_type": "display_data"
    }
   ],
   "source": [
    "# 10.7\n",
    "\n",
    "k = symbols('k', field='Complex')\n",
    "n = max(filter(lambda x: x.as_real_imag()[1] > 0, solve('k**14-1')), key=lambda x: x.as_real_imag()[0])\n",
    "A = Matrix([[7, 5], [6, 2]])\n",
    "display(*(n*eye(2) + A).det().as_real_imag())\n"
   ]
  },
  {
   "cell_type": "code",
   "execution_count": null,
   "metadata": {},
   "outputs": [
    {
     "data": {
      "text/plain": [
       "(s1**2*s2 - s1*s3 - 2*s2**2, True)"
      ]
     },
     "execution_count": 323,
     "metadata": {},
     "output_type": "execute_result"
    }
   ],
   "source": [
    "# 11.1 a\n",
    "\n",
    "x1, x2, x3, x4 = symbols('x(1:5)')\n",
    "f = x1**3*x2 + x1*x2**3 + x2**3*x3 + x2*x3**3 + x1**3*x3 + x1*x3**3\n",
    "symmetrize(f, formal=True)[0], expand(f) == expand(symmetrize(f)[0])\n"
   ]
  },
  {
   "cell_type": "code",
   "execution_count": null,
   "metadata": {},
   "outputs": [
    {
     "data": {
      "text/plain": [
       "(3*s1**3 - 16*s1*s2 + 64*s3, True)"
      ]
     },
     "execution_count": 324,
     "metadata": {},
     "output_type": "execute_result"
    }
   ],
   "source": [
    "# 11.1 б\n",
    "\n",
    "f = (3*x1-x2-x3)*(3*x2-x1-x3)*(3*x3-x1-x2)\n",
    "symmetrize(f, formal=True)[0], expand(f) == expand(symmetrize(f)[0])"
   ]
  },
  {
   "cell_type": "code",
   "execution_count": null,
   "metadata": {},
   "outputs": [
    {
     "data": {
      "text/plain": [
       "(-s1**2*s4 + s1*s2*s3 - s3**2, True)"
      ]
     },
     "execution_count": 325,
     "metadata": {},
     "output_type": "execute_result"
    }
   ],
   "source": [
    "# 11.1 с\n",
    "\n",
    "f = (x1 + x2)*(x1 + x3)*(x1 + x4)*(x2 + x3)*(x2 + x4)*(x3 + x4)\n",
    "symmetrize(f, formal=True)[0], expand(f) == expand(symmetrize(f)[0])"
   ]
  },
  {
   "cell_type": "code",
   "execution_count": 340,
   "metadata": {},
   "outputs": [
    {
     "data": {
      "image/png": "[encoded data removed]",
      "text/latex": [
       "$\\displaystyle -35$"
      ],
      "text/plain": [
       "-35"
      ]
     },
     "execution_count": 340,
     "metadata": {},
     "output_type": "execute_result"
    }
   ],
   "source": [
    "c1, c2, c3 = solve(_f('x3 − x2 − 4x + 1'))\n",
    "simplify((c2 + c3)*c1**3 + (c1 + c2)*c3**3 + (c1 + c3)*c2**3)"
   ]
  },
  {
   "cell_type": "code",
   "execution_count": 395,
   "metadata": {},
   "outputs": [
    {
     "data": {
      "image/png": "[encoded data removed]",
      "text/latex": [
       "$\\displaystyle - \\frac{1174}{625}$"
      ],
      "text/plain": [
       "-1174 \n",
       "──────\n",
       " 625  "
      ]
     },
     "execution_count": 395,
     "metadata": {},
     "output_type": "execute_result"
    }
   ],
   "source": [
    "c1, c2, c3 = solve(_f('5x3 + 2x2 + 3x + 4'))\n",
    "simplify(c1**4*c2 + c2**4*c1 + c1**4*c3 + c3**4*c1 + c2**4*c3 + c3**4*c2)\n"
   ]
  },
  {
   "cell_type": "code",
   "execution_count": 364,
   "metadata": {},
   "outputs": [
    {
     "data": {
      "image/png": "[encoded data removed]",
      "text/latex": [
       "$\\displaystyle 5.10699588477366$"
      ],
      "text/plain": [
       "5.106995884773663"
      ]
     },
     "execution_count": 364,
     "metadata": {},
     "output_type": "execute_result"
    }
   ],
   "source": [
    "c1, c2, c3, c4 = solve(_f('3x4 + 2x3 + 5x2 + x + 7'))\n",
    "f = c1**5*c2**3 + c2**5*c1**3 +\\\n",
    "    c1**5*c3**3 + c3**5*c1**3 +\\\n",
    "    c1**5*c4**3 + c4**5*c1**3 +\\\n",
    "    c2**5*c3**3 + c3**5*c2**3 +\\\n",
    "    c2**5*c4**3 + c4**5*c2**3 +\\\n",
    "    c3**5*c4**3 + c4**5*c3**3\n",
    "abs(complex(f))\n",
    "\n"
   ]
  },
  {
   "cell_type": "code",
   "execution_count": 365,
   "metadata": {},
   "outputs": [
    {
     "data": {
      "image/png": "[encoded data removed]",
      "text/latex": [
       "$\\displaystyle \\left(x - 1\\right)^{2} \\left(x^{9} - 2 x + 7\\right)$"
      ],
      "text/plain": [
       "       2 ⎛ 9          ⎞\n",
       "(x - 1) ⋅⎝x  - 2⋅x + 7⎠"
      ]
     },
     "execution_count": 365,
     "metadata": {},
     "output_type": "execute_result"
    }
   ],
   "source": [
    "# 11.3 a\n",
    "\n",
    "factor(_f('x11 − 2x10 + x9 − 2x3 + 11x2 − 16x + 7'))\n"
   ]
  },
  {
   "cell_type": "code",
   "execution_count": 392,
   "metadata": {},
   "outputs": [
    {
     "data": {
      "image/png": "[encoded data removed]",
      "text/latex": [
       "$\\displaystyle - \\frac{\\sqrt{3}}{3}$"
      ],
      "text/plain": [
       "-√3 \n",
       "────\n",
       " 3  "
      ]
     },
     "metadata": {},
     "output_type": "display_data"
    },
    {
     "data": {
      "image/png": "[encoded data removed]",
      "text/latex": [
       "$\\displaystyle \\frac{\\sqrt{3}}{3}$"
      ],
      "text/plain": [
       "√3\n",
       "──\n",
       "3 "
      ]
     },
     "metadata": {},
     "output_type": "display_data"
    }
   ],
   "source": [
    "# 11.3\n",
    "f = _f('x3 − x + b')\n",
    "x = symbols('x')\n",
    "\n",
    "for i in solve(3*x**2-1):\n",
    "    ans = solve(f.subs('x', i))[0]\n",
    "    display(i)\n",
    "    # nf = f.subs('b', ans)\n",
    "    # display(simplify(div(nf, x-ans)))\n",
    "    # # display(factor(f.subs('b', ans)))\n",
    "    # display(ans)\n",
    "\n",
    "\n"
   ]
  },
  {
   "cell_type": "code",
   "execution_count": null,
   "metadata": {},
   "outputs": [],
   "source": [
    "def get_power(exprecion):\n",
    "  x1, x2, x3, x4 = symbols('x1 x2 x3 x4')\n",
    "  f = exprecion\n",
    "  s = str(f.as_poly())[5:].split()[0]\n",
    "  print(s)\n",
    "  power = 0\n",
    "  x = s.count('x')\n",
    "  list1 = []\n",
    "  for i in range(len(s) - 1):\n",
    "    if s[i] == s[i + 1] == \"*\":\n",
    "      list1.append(int(s[i + 2]))\n",
    "  while len(list1) < x:\n",
    "    list1.append(1)\n",
    "  for i in range(x):\n",
    "    power += list1[i]\n",
    "  return power\n"
   ]
  },
  {
   "cell_type": "code",
   "execution_count": null,
   "metadata": {},
   "outputs": [
    {
     "data": {
      "text/plain": [
       "{'s1': 'x1+x2+x3+x4',\n",
       " 's2': 'x1*x2+x1*x3+x1*x4+x2*x3+x2*x4+x3*x4',\n",
       " 's3': 'x1*x2*x3+x1*x2*x4+x1*x3*x4+x2*x3*x4',\n",
       " 's4': 'x1*x2*x3*x4'}"
      ]
     },
     "execution_count": 217,
     "metadata": {},
     "output_type": "execute_result"
    }
   ],
   "source": [
    "import itertools\n",
    "\n",
    "def get_ex_sigmas(x_count):\n",
    "    d = {}\n",
    "    for i in range(1, x_count+1):\n",
    "        mas = list(itertools.combinations(range(1, x_count+1), i))\n",
    "        # print(mas)\n",
    "        d[f's{i}'] = '+'.join(map(lambda nm: '*'.join(map(lambda x: f'x{x}', nm)), mas))\n",
    "    return d\n",
    "\n",
    "\n",
    "get_ex_sigmas(4)"
   ]
  },
  {
   "cell_type": "code",
   "execution_count": null,
   "metadata": {},
   "outputs": [
    {
     "data": {
      "text/plain": [
       "['x1*x2*x3',\n",
       " 'x1*x2*x4',\n",
       " 'x1*x2*x5',\n",
       " 'x1*x3*x4',\n",
       " 'x1*x3*x5',\n",
       " 'x1*x4*x5',\n",
       " 'x2*x3*x4',\n",
       " 'x2*x3*x5',\n",
       " 'x2*x4*x5',\n",
       " 'x3*x4*x5']"
      ]
     },
     "execution_count": 193,
     "metadata": {},
     "output_type": "execute_result"
    }
   ],
   "source": [
    "mas = list(itertools.combinations(range(1, 6), 3))\n",
    "list(map(lambda nm: '*'.join(map(lambda x: f'x{x}', nm)), mas))\n"
   ]
  },
  {
   "cell_type": "code",
   "execution_count": null,
   "metadata": {},
   "outputs": [
    {
     "name": "stdout",
     "output_type": "stream",
     "text": [
      "[[1, 1, 1, 1], [1, 1, 1, 2], [1, 1, 1, 3], [1, 1, 1, 4], [1, 1, 1, 5], [1, 1, 1, 6], [1, 1, 1, 7]]\n"
     ]
    }
   ],
   "source": [
    "def make_sets(num, x_count):\n",
    "  start = int('1'*x_count)\n",
    "  _list = [list(map(int, str(i))) for i in range(start, start+num)]\n",
    "  \n",
    "  return _list\n",
    "\n",
    "\n",
    "print(make_sets(7, 4))\n"
   ]
  },
  {
   "cell_type": "code",
   "execution_count": null,
   "metadata": {},
   "outputs": [],
   "source": [
    "\n",
    "from itertools import product\n",
    "f = (x1 + x2)*(x1 + x3)*(x1 + x4)*(x2 + x3)*(x2 + x4)*(x3 + x4)\n",
    "\n",
    "\n",
    "def get_new_func(n, le):\n",
    "    sigmas = np.array(symbols(f\"s(1:{n+1}\"))\n",
    "    masses = []\n",
    "    for i in product(range(n), repeat=le):\n",
    "        if sum(i) == n and all(el >= i[t+1] for t, el in enumerate(i[:-1])):\n",
    "            masses.append(i)\n",
    "    # masses.sort()\n",
    "    res = ''\n",
    "    for num, i in enumerate(masses[::-1]):\n",
    "        print(i)\n",
    "        i = [*i, 0]\n",
    "        if num:\n",
    "            res += f'k{num}*'\n",
    "        for k, e in enumerate(i[:-1]):\n",
    "            if pow := e-i[k+1]:\n",
    "                if pow == 1:\n",
    "                    res += f's{k+1}*'\n",
    "                else:\n",
    "                    res += f's{k+1}**{pow}*'\n",
    "        res = res[:-1]+'+'\n",
    "    return simplify(res[:-1])\n",
    "\n",
    "\n",
    "def present(func, le):\n",
    "    func = (x1 + x2)*(x1 + x3)*(x1 + x4)*(x2 + x3)*(x2 + x4)*(x3 + x4)\n",
    "    new_func = simplify('s1 * s2 * s3 + A * s1 ** 2 * s4 + B * s3 ** 2 + C * s2 * s4')\n",
    "    # power = get_power(func)\n",
    "    # power = get_power(func)\n",
    "    # new_func = get_new_func(power, le)\n",
    "    # new_func = func\n",
    "    # print(get_ex_sigmas(le))\n",
    "    counter = new_func.subs(get_ex_sigmas(le))\n",
    "    print(counter)\n",
    "    nub = []\n",
    "    for _set in make_sets(3, le):\n",
    "        data = {f'x{n+1}': el for n, el in enumerate(_set)}\n",
    "        nub.append(counter.subs(data)-func.subs(data))\n",
    "    display(nub)\n",
    "    answer = solve(nub, 'k1')\n",
    "    print(answer)\n"
   ]
  },
  {
   "cell_type": "code",
   "execution_count": null,
   "metadata": {},
   "outputs": [
    {
     "data": {
      "image/png": "[encoded data removed]",
      "text/latex": [
       "$\\displaystyle 360$"
      ],
      "text/plain": [
       "360"
      ]
     },
     "execution_count": 312,
     "metadata": {},
     "output_type": "execute_result"
    }
   ],
   "source": [
    "f = (3*x1-x2-x3)*(3*x2-x1-x3)*(3*x3-x1-x2)\n",
    "f = (x1 + x2)*(x1 + x3)*(x1 + x4)*(x2 + x3)*(x2 + x4)*(x3 + x4)\n",
    "symmetrize(f, formal=True)\n",
    "symmetrize(f)[0].subs({f'x{i+1}': i for i in range(4)})\n",
    "f.subs({f'x{i+1}': i for i in range(4)})"
   ]
  },
  {
   "cell_type": "code",
   "execution_count": null,
   "metadata": {},
   "outputs": [
    {
     "data": {
      "image/png": "[encoded data removed]",
      "text/latex": [
       "$\\displaystyle \\operatorname{Poly}{\\left( x_{1}^{3}x_{2}^{2}x_{3} + x_{1}^{3}x_{2}^{2}x_{4} + x_{1}^{3}x_{2}x_{3}^{2} + 2 x_{1}^{3}x_{2}x_{3}x_{4} + x_{1}^{3}x_{2}x_{4}^{2} + x_{1}^{3}x_{3}^{2}x_{4} + x_{1}^{3}x_{3}x_{4}^{2} + x_{1}^{2}x_{2}^{3}x_{3} + x_{1}^{2}x_{2}^{3}x_{4} + 2 x_{1}^{2}x_{2}^{2}x_{3}^{2} + 4 x_{1}^{2}x_{2}^{2}x_{3}x_{4} + 2 x_{1}^{2}x_{2}^{2}x_{4}^{2} + x_{1}^{2}x_{2}x_{3}^{3} + 4 x_{1}^{2}x_{2}x_{3}^{2}x_{4} + 4 x_{1}^{2}x_{2}x_{3}x_{4}^{2} + x_{1}^{2}x_{2}x_{4}^{3} + x_{1}^{2}x_{3}^{3}x_{4} + 2 x_{1}^{2}x_{3}^{2}x_{4}^{2} + x_{1}^{2}x_{3}x_{4}^{3} + x_{1}x_{2}^{3}x_{3}^{2} + 2 x_{1}x_{2}^{3}x_{3}x_{4} + x_{1}x_{2}^{3}x_{4}^{2} + x_{1}x_{2}^{2}x_{3}^{3} + 4 x_{1}x_{2}^{2}x_{3}^{2}x_{4} + 4 x_{1}x_{2}^{2}x_{3}x_{4}^{2} + x_{1}x_{2}^{2}x_{4}^{3} + 2 x_{1}x_{2}x_{3}^{3}x_{4} + 4 x_{1}x_{2}x_{3}^{2}x_{4}^{2} + 2 x_{1}x_{2}x_{3}x_{4}^{3} + x_{1}x_{3}^{3}x_{4}^{2} + x_{1}x_{3}^{2}x_{4}^{3} + x_{2}^{3}x_{3}^{2}x_{4} + x_{2}^{3}x_{3}x_{4}^{2} + x_{2}^{2}x_{3}^{3}x_{4} + 2 x_{2}^{2}x_{3}^{2}x_{4}^{2} + x_{2}^{2}x_{3}x_{4}^{3} + x_{2}x_{3}^{3}x_{4}^{2} + x_{2}x_{3}^{2}x_{4}^{3}, x_{1}, x_{2}, x_{3}, x_{4}, domain=\\mathbb{Z} \\right)}$"
      ],
      "text/plain": [
       "Poly(x1**3*x2**2*x3 + x1**3*x2**2*x4 + x1**3*x2*x3**2 + 2*x1**3*x2*x3*x4 + x1*\n",
       "*3*x2*x4**2 + x1**3*x3**2*x4 + x1**3*x3*x4**2 + x1**2*x2**3*x3 + x1**2*x2**3*x\n",
       "4 + 2*x1**2*x2**2*x3**2 + 4*x1**2*x2**2*x3*x4 + 2*x1**2*x2**2*x4**2 + x1**2*x2\n",
       "*x3**3 + 4*x1**2*x2*x3**2*x4 + 4*x1**2*x2*x3*x4**2 + x1**2*x2*x4**3 + x1**2*x3\n",
       "**3*x4 + 2*x1**2*x3**2*x4**2 + x1**2*x3*x4**3 + x1*x2**3*x3**2 + 2*x1*x2**3*x3\n",
       "*x4 + x1*x2**3*x4**2 + x1*x2**2*x3**3 + 4*x1*x2**2*x3**2*x4 + 4*x1*x2**2*x3*x4\n",
       "**2 + x1*x2**2*x4**3 + 2*x1*x2*x3**3*x4 + 4*x1*x2*x3**2*x4**2 + 2*x1*x2*x3*x4*\n",
       "*3 + x1*x3**3*x4**2 + x1*x3**2*x4**3 + x2**3*x3**2*x4 + x2**3*x3*x4**2 + x2**2\n",
       "*x3**3*x4 + 2*x2**2*x3**2*x4**2 + x2**2*x3*x4**3 + x2*x3**3*x4**2 + x2*x3**2*x\n",
       "4**3, x1, x2, x3, x4, domain='ZZ')"
      ]
     },
     "metadata": {},
     "output_type": "display_data"
    }
   ],
   "source": [
    "# 11.1 в\n",
    "\n",
    "f = (x1 + x2)*(x1 + x3)*(x1 + x4)*(x2 + x3)*(x2 + x4)*(x3 + x4)\n",
    "display(f.as_poly())\n",
    "# 6 \n",
    "# 3 2 1 0 = s1 * s2 * s3\n",
    "# 3 1 1 1 = A s1 ** 2 * s4\n",
    "# 2 2 2 0 = B s3 ** 2\n",
    "# 2 2 1 1 = C s2 * s4\n",
    "f = 's1 * s2 * s3 + A * s1 ** 2 * s4 + B * s3 ** 2 + C * s2 * s4'\n",
    "# 1 1 1 1 => 64 = 4 6 3 1\n",
    "# 1 0 1 1 => \n",
    "# 1 0 1 1 => \n",
    "\n"
   ]
  }
 ],
 "metadata": {
  "kernelspec": {
   "display_name": "Python 3.11.0 64-bit",
   "language": "python",
   "name": "python3"
  },
  "language_info": {
   "codemirror_mode": {
    "name": "ipython",
    "version": 3
   },
   "file_extension": ".py",
   "mimetype": "text/x-python",
   "name": "python",
   "nbconvert_exporter": "python",
   "pygments_lexer": "ipython3",
   "version": "3.11.0 (main, Oct 24 2022, 18:26:48) [MSC v.1933 64 bit (AMD64)]"
  },
  "orig_nbformat": 4,
  "vscode": {
   "interpreter": {
    "hash": "52afb8ebcac5aa8032177177fdc4e98c9d7316bff28e5396e7ea1b3acb0cd9a6"
   }
  }
 },
 "nbformat": 4,
 "nbformat_minor": 2
}
