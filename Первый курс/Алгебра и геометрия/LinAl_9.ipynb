{
 "cells": [
  {
   "cell_type": "code",
   "execution_count": 5,
   "metadata": {},
   "outputs": [],
   "source": [
    "from math import cos, e, pi\n",
    "from sympy import symbols, solve, simplify"
   ]
  },
  {
   "cell_type": "code",
   "execution_count": 39,
   "metadata": {},
   "outputs": [
    {
     "name": "stdout",
     "output_type": "stream",
     "text": [
      "(-0.5000000000000002+1.3228756555322954j)\n",
      "(-0.5000000000000004-1.3228756555322958j)\n"
     ]
    },
    {
     "data": {
      "text/plain": [
       "(True, True)"
      ]
     },
     "execution_count": 39,
     "metadata": {},
     "output_type": "execute_result"
    }
   ],
   "source": [
    "# 9.6\n",
    "\n",
    "i = 1j\n",
    "E = e**(2*pi*i/7)\n",
    "\n",
    "a = E + E**2 + E**4\n",
    "b = E**3 + E**5 + E**6\n",
    "\n",
    "# a + b = -1 \n",
    "# a * b = 2\n",
    "print(a)\n",
    "print(b)\n",
    "abs(a + b + 1) < 1e-10, abs(a * b -2) < 1e-10"
   ]
  },
  {
   "cell_type": "code",
   "execution_count": 63,
   "metadata": {},
   "outputs": [
    {
     "name": "stdout",
     "output_type": "stream",
     "text": [
      "x₀: -1.50000000000000\n",
      "y₀: -6.50000000000000\n",
      "R:  √110.500000000000\n"
     ]
    }
   ],
   "source": [
    "# 9.9\n",
    "import IPython\n",
    "def point_4_on_circle(*points: list[complex]):\n",
    "    x0, y0, R2 = symbols('x0 y0 R2')\n",
    "    mas = []\n",
    "    for point in points:\n",
    "        x, y = point.real, point.imag\n",
    "        mas.append((x-x0)**2 + (y-y0)**2 - R2)\n",
    "    if answer := solve(mas, [x0, y0, R2]):\n",
    "        print('x₀:', answer[0][0])\n",
    "        print('y₀:', answer[0][1])\n",
    "        print('R:  √', answer[0][2], sep='')\n",
    "    else:\n",
    "        print('Не на одной окружности')\n",
    "\n",
    "\n",
    "point_4_on_circle(-1+4j, -2+4j, 9-6j, -6+3j)"
   ]
  },
  {
   "cell_type": "code",
   "execution_count": 150,
   "metadata": {},
   "outputs": [
    {
     "name": "stdout",
     "output_type": "stream",
     "text": [
      "√110\n"
     ]
    }
   ],
   "source": [
    "def devs(num):\n",
    "    mas = []\n",
    "    for i in range(2, int(num**0.5)+1):\n",
    "        while num % i == 0:\n",
    "            num //= i\n",
    "            mas.append(i)\n",
    "    if num - 1:\n",
    "        mas.append(num)\n",
    "    return mas\n",
    "\n",
    "\n",
    "def root(num, power=2):\n",
    "\n",
    "    def clear(n):\n",
    "        if '.' in str(n):\n",
    "            return str(n).strip('0').strip('.')\n",
    "    mul = 0\n",
    "    comp = ['', 'i'][(1-power % 2)*(num < 0)]\n",
    "    less_0 = ['', '-'][(power % 2)*(num < 0)]\n",
    "    num = abs(num)\n",
    "    if isinstance(num, float):\n",
    "        mul = len(str(num).split('.')[1].rstrip('0'))\n",
    "        num = int(num*10**mul)\n",
    "    dev = devs(num)\n",
    "    out_root = 1\n",
    "    in_root = 1\n",
    "    for i in set(dev):\n",
    "        in_root *= i ** (dev.count(i) % power)\n",
    "        out_root *= i ** (dev.count(i) // power)\n",
    "    out_root = clear(out_root / 10**(mul // power))\n",
    "    in_root = clear(in_root / 10**(mul % power))\n",
    "\n",
    "    in_root = '' if in_root == '1' else '√'+in_root\n",
    "    out_root = '' if out_root == '1' else out_root\n",
    "    print(f'{less_0}{out_root}{comp}{in_root}')\n",
    "\n",
    "\n",
    "root(110)\n"
   ]
  }
 ],
 "metadata": {
  "kernelspec": {
   "display_name": "Python 3.11.0 64-bit",
   "language": "python",
   "name": "python3"
  },
  "language_info": {
   "codemirror_mode": {
    "name": "ipython",
    "version": 3
   },
   "file_extension": ".py",
   "mimetype": "text/x-python",
   "name": "python",
   "nbconvert_exporter": "python",
   "pygments_lexer": "ipython3",
   "version": "3.11.0 (main, Oct 24 2022, 18:26:48) [MSC v.1933 64 bit (AMD64)]"
  },
  "orig_nbformat": 4,
  "vscode": {
   "interpreter": {
    "hash": "52afb8ebcac5aa8032177177fdc4e98c9d7316bff28e5396e7ea1b3acb0cd9a6"
   }
  }
 },
 "nbformat": 4,
 "nbformat_minor": 2
}
