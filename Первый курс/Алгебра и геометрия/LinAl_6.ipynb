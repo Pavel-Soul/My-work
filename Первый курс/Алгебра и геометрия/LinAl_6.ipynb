{
 "cells": [
  {
   "cell_type": "code",
   "execution_count": 2,
   "metadata": {},
   "outputs": [],
   "source": [
    "from sympy import Matrix, init_printing, symbols, solve, simplify, zeros as O, eye as I\n",
    "import numpy as np\n",
    "import IPython\n",
    "from PIL import Image\n",
    "from matplotlib.pyplot import imshow, show\n",
    "init_printing()"
   ]
  },
  {
   "cell_type": "code",
   "execution_count": 95,
   "metadata": {},
   "outputs": [
    {
     "data": {
      "image/png": "[encoded data removed]",
      "text/latex": [
       "$\\displaystyle 753$"
      ],
      "text/plain": [
       "753"
      ]
     },
     "execution_count": 95,
     "metadata": {},
     "output_type": "execute_result"
    }
   ],
   "source": [
    "# Даны матрицы\n",
    "A = Matrix([[6, 1, 4, 2],\n",
    "            [1, 3, 7, 9]])\n",
    "\n",
    "B = Matrix([[5, 5, 6, 5],\n",
    "            [9, 9, 3, 3]])\n",
    "\n",
    "C = A * B.T\n",
    "D = A.T * B\n",
    "K = np.kron(C, D)\n",
    "# Сумма элементов D\n",
    "sum(D)"
   ]
  },
  {
   "cell_type": "code",
   "execution_count": 96,
   "metadata": {},
   "outputs": [
    {
     "data": {
      "image/png": "[encoded data removed]",
      "text/latex": [
       "$\\displaystyle 107$"
      ],
      "text/plain": [
       "107"
      ]
     },
     "execution_count": 96,
     "metadata": {},
     "output_type": "execute_result"
    }
   ],
   "source": [
    "# Максимальный элемент C\n",
    "max(C)"
   ]
  },
  {
   "cell_type": "code",
   "execution_count": 97,
   "metadata": {},
   "outputs": [
    {
     "data": {
      "image/png": "[encoded data removed]",
      "text/latex": [
       "$\\displaystyle \\left( 153, \\  23409\\right)$"
      ],
      "text/plain": [
       "(153, 23409)"
      ]
     },
     "execution_count": 97,
     "metadata": {},
     "output_type": "execute_result"
    }
   ],
   "source": [
    "# Следы C и K\n",
    "C.trace(), K.trace()"
   ]
  },
  {
   "cell_type": "code",
   "execution_count": 98,
   "metadata": {},
   "outputs": [
    {
     "data": {
      "image/png": "[encoded data removed]",
      "text/latex": [
       "$\\displaystyle \\left( \\frac{337}{196}, \\  \\frac{32}{49}\\right)$"
      ],
      "text/plain": [
       "⎛337  32⎞\n",
       "⎜───, ──⎟\n",
       "⎝196  49⎠"
      ]
     },
     "execution_count": 98,
     "metadata": {},
     "output_type": "execute_result"
    }
   ],
   "source": [
    "# 6.2\n",
    "A = Matrix([[6, 5], [4, 8]])\n",
    "B = Matrix([[6, 7], [8, 7]])\n",
    "C = Matrix([[15, 27], [14, 20]])\n",
    "X = (A**-1 * C * B**-1).T\n",
    "X.trace(), sum(X)\n"
   ]
  },
  {
   "cell_type": "code",
   "execution_count": 194,
   "metadata": {},
   "outputs": [
    {
     "data": {
      "image/png": "[encoded data removed]",
      "text/latex": [
       "$\\displaystyle \\left[ \\left\\{ t : 14\\right\\}\\right]$"
      ],
      "text/plain": [
       "[{t: 14}]"
      ]
     },
     "execution_count": 194,
     "metadata": {},
     "output_type": "execute_result"
    }
   ],
   "source": [
    "\n",
    "# 6.3\n",
    "t = symbols('t')\n",
    "A = Matrix([[4, 0, 2, 0],\n",
    "            [6, 5, 9, 8],\n",
    "            [5, 7, 4, 3],\n",
    "            [7, 1, 0, 3]])\n",
    "\n",
    "B = Matrix([[9, 2, 5, 1],\n",
    "            [2, 4, 6, 4],\n",
    "            [1, 3, t, 1],\n",
    "            [6, 3, 3, 3]])\n",
    "\n",
    "X = A*B\n",
    "\n",
    "solve(X.det(), 0, t)\n",
    "\n",
    "x + b if x != 0 else b + 5\n",
    "b + (x or 5)"
   ]
  },
  {
   "cell_type": "code",
   "execution_count": 34,
   "metadata": {},
   "outputs": [],
   "source": [
    "# 6.4\n",
    "\n",
    "d = 0.02/79999\n",
    "d\n",
    "p = 1\n",
    "a = 0.99\n",
    "for i in range(2, 80000):\n",
    "    p *= a + i*d\n",
    "\n",
    "mal_mat = Matrix([[0.99, 0.57],\n",
    "                  [0.03, 0.99 + d]])\n",
    "det = p * mal_mat.det()\n"
   ]
  },
  {
   "cell_type": "code",
   "execution_count": 35,
   "metadata": {},
   "outputs": [
    {
     "data": {
      "image/png": "[encoded data removed]",
      "text/latex": [
       "$\\displaystyle 80002.7027660855$"
      ],
      "text/plain": [
       "80002.7027660855"
      ]
     },
     "execution_count": 35,
     "metadata": {},
     "output_type": "execute_result"
    }
   ],
   "source": [
    "s = mal_mat.inv()[0, 0] + mal_mat.inv()[1, 1]\n",
    "a = 0.99\n",
    "for i in range(2, 80000):\n",
    "    s += 1/(a + i*d)\n",
    "s\n"
   ]
  },
  {
   "cell_type": "code",
   "execution_count": 23,
   "metadata": {},
   "outputs": [
    {
     "data": {
      "text/plain": [
       "True"
      ]
     },
     "execution_count": 23,
     "metadata": {},
     "output_type": "execute_result"
    }
   ],
   "source": [
    "A = Matrix([[0,  1,  2,  3,  4,  0,  0,  0,  0,  0],\n",
    "            [10, 11, 12, 13, 14,  0,  0,  0,  0,  0],\n",
    "            [20, 21, 45, 23, 24,  0,  0,  0,  0,  0],\n",
    "            [30, 23, 32, 33, 34,  0,  0,  0,  0,  0],\n",
    "            [40, 41, 42, 43, 25,  0,  0,  0,  0,  0],\n",
    "            [0,  0,  0,  0,  0, 55,  0,  0,  0,  0],\n",
    "            [0,  0,  0,  0,  0,  0, 66,  0,  0,  0],\n",
    "            [0,  0,  0,  0,  0,  0,  0, 12,  0,  0],\n",
    "            [0,  0,  0,  0,  0,  0,  0,  0, 85,  0],\n",
    "            [0,  0,  0,  0,  0,  0,  0,  0,  0, 99]])\n",
    "\n",
    "k = 1\n",
    "for i in range(5, 10):\n",
    "    k *= A[i, i]\n",
    "\n",
    "A.det() == A[:5, :5].det() * k\n"
   ]
  },
  {
   "cell_type": "code",
   "execution_count": null,
   "metadata": {},
   "outputs": [],
   "source": []
  },
  {
   "cell_type": "code",
   "execution_count": 106,
   "metadata": {},
   "outputs": [],
   "source": [
    "# 6.6\n",
    "y = symbols('y')\n",
    "A = y * Matrix([[7,14], [9,1]])\n"
   ]
  },
  {
   "cell_type": "code",
   "execution_count": 107,
   "metadata": {},
   "outputs": [
    {
     "data": {
      "image/png": "[encoded data removed]",
      "text/latex": [
       "$\\displaystyle 3.60967903080346$"
      ],
      "text/plain": [
       "3.60967903080346"
      ]
     },
     "execution_count": 107,
     "metadata": {},
     "output_type": "execute_result"
    }
   ],
   "source": [
    "# 6.6 1\n",
    "S = O(2)\n",
    "for i in range(4, 71):\n",
    "    S += A**i\n",
    "\n",
    "max(S.subs(y, 0.057))\n"
   ]
  },
  {
   "cell_type": "code",
   "execution_count": 109,
   "metadata": {},
   "outputs": [
    {
     "data": {
      "image/png": "[encoded data removed]",
      "text/latex": [
       "$\\displaystyle 3.61117467810966$"
      ],
      "text/plain": [
       "3.61117467810966"
      ]
     },
     "execution_count": 109,
     "metadata": {},
     "output_type": "execute_result"
    }
   ],
   "source": [
    "# 6.6 2\n",
    "B = (I(2) - A)**-1*A**4\n",
    "max(B.subs(y, 0.057))\n"
   ]
  },
  {
   "cell_type": "code",
   "execution_count": 241,
   "metadata": {},
   "outputs": [
    {
     "name": "stdout",
     "output_type": "stream",
     "text": [
      "89\n"
     ]
    }
   ],
   "source": [
    "# 6.6 3\n",
    "def max_n(k, n=150):\n",
    "    A = 0.057 * Matrix([[7, 14], [9, 1]])\n",
    "    S = O(2)\n",
    "    for i in range(k, n+1):\n",
    "        S += A**i\n",
    "    return max(S)\n",
    "mas = [0,0]\n",
    "\n",
    "for i in range(2,200):\n",
    "    if max_n(i) < 0.0002:\n",
    "        print(i)\n",
    "        break\n",
    "\n",
    "# Ну это просто перебор, надо с этим разобраться\n"
   ]
  },
  {
   "cell_type": "code",
   "execution_count": 119,
   "metadata": {},
   "outputs": [
    {
     "data": {
      "image/png": "[encoded data removed]",
      "text/latex": [
       "$\\displaystyle 16 x^{2} - 116 x + 576$"
      ],
      "text/plain": [
       "    2              \n",
       "16⋅x  - 116⋅x + 576"
      ]
     },
     "execution_count": 119,
     "metadata": {},
     "output_type": "execute_result"
    }
   ],
   "source": [
    "# 6.7\n",
    "x = symbols('x')\n",
    "M = Matrix([[7, 5, 5, x],\n",
    "            [2, 2, 6, 9],\n",
    "            [3, x, 8, 0],\n",
    "            [3, 1, 1, 0]])\n",
    "\n",
    "M.det()"
   ]
  },
  {
   "cell_type": "code",
   "execution_count": 246,
   "metadata": {},
   "outputs": [
    {
     "data": {
      "image/png": "[encoded data removed]",
      "text/plain": [
       "<Figure size 432x288 with 1 Axes>"
      ]
     },
     "metadata": {
      "needs_background": "dark"
     },
     "output_type": "display_data"
    }
   ],
   "source": [
    "# 6.8\n",
    "from math import comb\n",
    "img = np.zeros((100, 100), dtype='int8')\n",
    "for i in range(100):\n",
    "    for j in range(100):\n",
    "        img[i, j] = 1-comb(i, j) % 2\n",
    "imshow(img)\n",
    "show()\n"
   ]
  },
  {
   "cell_type": "code",
   "execution_count": 250,
   "metadata": {},
   "outputs": [
    {
     "data": {
      "image/png": "[encoded data removed]",
      "text/latex": [
       "$\\displaystyle \\left( \\left[\\begin{matrix}1\\end{matrix}\\right], \\  \\left[\\begin{matrix}1 & 1\\\\1 & -1\\end{matrix}\\right], \\  \\left[\\begin{matrix}1 & 1 & 1 & 1\\\\1 & -1 & 1 & -1\\\\1 & 1 & -1 & -1\\\\1 & -1 & -1 & 1\\end{matrix}\\right]\\right)$"
      ],
      "text/plain": [
       "⎛              ⎡1  1   1   1 ⎤⎞\n",
       "⎜              ⎢             ⎥⎟\n",
       "⎜     ⎡1  1 ⎤  ⎢1  -1  1   -1⎥⎟\n",
       "⎜[1], ⎢     ⎥, ⎢             ⎥⎟\n",
       "⎜     ⎣1  -1⎦  ⎢1  1   -1  -1⎥⎟\n",
       "⎜              ⎢             ⎥⎟\n",
       "⎝              ⎣1  -1  -1  1 ⎦⎠"
      ]
     },
     "execution_count": 250,
     "metadata": {},
     "output_type": "execute_result"
    }
   ],
   "source": [
    "# 6.9 а\n",
    "from scipy.linalg import hadamard\n",
    "H1 = hadamard(1)\n",
    "H2 = hadamard(2)\n",
    "H4 = hadamard(4)\n",
    "Matrix(H1),Matrix(H2),Matrix(H4)"
   ]
  },
  {
   "cell_type": "code",
   "execution_count": 252,
   "metadata": {},
   "outputs": [
    {
     "data": {
      "image/png": "[encoded data removed]",
      "text/plain": [
       "<Figure size 432x288 with 1 Axes>"
      ]
     },
     "metadata": {
      "needs_background": "dark"
     },
     "output_type": "display_data"
    }
   ],
   "source": [
    "# 6.9 г\n",
    "from matplotlib import pyplot\n",
    "def fu(mas):\n",
    "    c = 0\n",
    "    for i in range(1, len(mas)):\n",
    "        if mas[i]!=mas[i-1]:\n",
    "            c+=1\n",
    "    return c\n",
    "    \n",
    "m = hadamard(2**6)\n",
    "m = m[np.apply_along_axis(fu, axis=1, arr=m).argsort()]\n",
    "\n",
    "pyplot.imshow(m)\n",
    "pyplot.show()\n"
   ]
  },
  {
   "cell_type": "markdown",
   "metadata": {},
   "source": []
  }
 ],
 "metadata": {
  "kernelspec": {
   "display_name": "Python 3.11.0 64-bit",
   "language": "python",
   "name": "python3"
  },
  "language_info": {
   "codemirror_mode": {
    "name": "ipython",
    "version": 3
   },
   "file_extension": ".py",
   "mimetype": "text/x-python",
   "name": "python",
   "nbconvert_exporter": "python",
   "pygments_lexer": "ipython3",
   "version": "3.11.0"
  },
  "orig_nbformat": 4,
  "vscode": {
   "interpreter": {
    "hash": "52afb8ebcac5aa8032177177fdc4e98c9d7316bff28e5396e7ea1b3acb0cd9a6"
   }
  }
 },
 "nbformat": 4,
 "nbformat_minor": 2
}
