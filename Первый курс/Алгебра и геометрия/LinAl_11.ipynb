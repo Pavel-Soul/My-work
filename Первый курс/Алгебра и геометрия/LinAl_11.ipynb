{
 "cells": [
  {
   "cell_type": "code",
   "execution_count": 60,
   "metadata": {},
   "outputs": [],
   "source": [
    "from sympy.abc import *\n",
    "from sympy import *\n",
    "import numpy as np\n",
    "import IPython\n",
    "from PIL import Image\n",
    "from matplotlib.pyplot import imshow, show\n",
    "from IPython.display import display\n",
    "import IPython.display as Display\n",
    "import re\n",
    "from icecream import ic\n",
    "import mpmath\n"
   ]
  },
  {
   "cell_type": "code",
   "execution_count": 2,
   "metadata": {},
   "outputs": [],
   "source": [
    "def _f(line):\n",
    "    line = line.replace('−', '-')\n",
    "    line = re.sub(r'(?<!=[^\\d\\s(])(\\d+)(?=\\s)', r'**\\1', line)\n",
    "    line = re.sub(r'(\\d)(?=[^\\d\\s])', r'\\1*', line)\n",
    "    # print(line)\n",
    "    return simplify(line)\n"
   ]
  },
  {
   "cell_type": "code",
   "execution_count": 84,
   "metadata": {},
   "outputs": [
    {
     "data": {
      "text/plain": [
       "[CRootOf(11*x**10 - 20*x**9 + 9*x**8 - 6*x**2 - 16, 0),\n",
       " CRootOf(11*x**10 - 20*x**9 + 9*x**8 - 6*x**2 - 16, 1),\n",
       " CRootOf(11*x**10 - 20*x**9 + 9*x**8 - 6*x**2 - 16, 2),\n",
       " CRootOf(11*x**10 - 20*x**9 + 9*x**8 - 6*x**2 - 16, 3),\n",
       " CRootOf(11*x**10 - 20*x**9 + 9*x**8 - 6*x**2 - 16, 4),\n",
       " CRootOf(11*x**10 - 20*x**9 + 9*x**8 - 6*x**2 - 16, 5),\n",
       " CRootOf(11*x**10 - 20*x**9 + 9*x**8 - 6*x**2 - 16, 6),\n",
       " CRootOf(11*x**10 - 20*x**9 + 9*x**8 - 6*x**2 - 16, 7),\n",
       " CRootOf(11*x**10 - 20*x**9 + 9*x**8 - 6*x**2 - 16, 8),\n",
       " CRootOf(11*x**10 - 20*x**9 + 9*x**8 - 6*x**2 - 16, 9)]"
      ]
     },
     "execution_count": 84,
     "metadata": {},
     "output_type": "execute_result"
    }
   ],
   "source": [
    "f = _f(\"x11 − 2x10 + x9 − 2x3 + 11x2 − 16x - a\")\n",
    "fs = 11*x**10 - 20*x**9 + 9*x**8 - 6*x**2 - 16\n",
    "fs2 = 110*x**9 - 180*x**8 + 72*x**7 - 12*x\n",
    "solve(fs)\n",
    "\n"
   ]
  },
  {
   "cell_type": "code",
   "execution_count": 67,
   "metadata": {},
   "outputs": [],
   "source": [
    "def display_solve(x):\n",
    "    for i in x:\n",
    "        # print(list(i))\n",
    "        for k, v in list(i.items()):\n",
    "            print(k, end=': ')\n",
    "            print(Display.TextDisplayObject(str(v)))\n"
   ]
  },
  {
   "cell_type": "code",
   "execution_count": 33,
   "metadata": {},
   "outputs": [
    {
     "data": {
      "text/latex": [
       "$\\displaystyle 18$"
      ],
      "text/plain": [
       "18"
      ]
     },
     "metadata": {},
     "output_type": "display_data"
    },
    {
     "data": {
      "text/latex": [
       "$\\displaystyle 8 - 2 \\sqrt{10}$"
      ],
      "text/plain": [
       "8 - 2*sqrt(10)"
      ]
     },
     "metadata": {},
     "output_type": "display_data"
    },
    {
     "data": {
      "text/latex": [
       "$\\displaystyle 2 \\sqrt{10} + 8$"
      ],
      "text/plain": [
       "2*sqrt(10) + 8"
      ]
     },
     "metadata": {},
     "output_type": "display_data"
    }
   ],
   "source": [
    "# 4\n",
    "\n",
    "f = _f(\"x3 − 5x2 − 7x − 1\")\n",
    "g = _f(\"x3 − 8x2 + 9x + b\")\n",
    "_ = [display(list(i.values())[0]) for i in solve((g, f))]\n"
   ]
  },
  {
   "cell_type": "code",
   "execution_count": 69,
   "metadata": {},
   "outputs": [
    {
     "data": {
      "text/plain": [
       "[{x: -1, y: 2},\n",
       " {x: -1, y: 3},\n",
       " {x: 0, y: 1},\n",
       " {x: 0, y: 3},\n",
       " {x: 2, y: 1 - sqrt(2)*I},\n",
       " {x: 2, y: 1 + sqrt(2)*I}]"
      ]
     },
     "execution_count": 69,
     "metadata": {},
     "output_type": "execute_result"
    }
   ],
   "source": [
    "# 5\n",
    "\n",
    "answer = solve([\n",
    "    x**2 + (x-4)*y - 2*x + y**2 + 3,\n",
    "    x**3 - x**2 + (x+7)*y - 5*x + y**3 - 5*y**2 - 3\n",
    "])\n",
    "answer"
   ]
  },
  {
   "cell_type": "code",
   "execution_count": 80,
   "metadata": {},
   "outputs": [
    {
     "data": {
      "text/latex": [
       "$\\displaystyle 0$"
      ],
      "text/plain": [
       "0"
      ]
     },
     "execution_count": 80,
     "metadata": {},
     "output_type": "execute_result"
    }
   ],
   "source": [
    "f = x**4 - 10*x**2 + 1\n",
    "g = x**4 - 4*sqrt(2)*x**3 + 6*x**2 + 4*sqrt(2)*x + 1\n",
    "v = f\n",
    "u = -g\n",
    "# print(resultant(f, g))\n",
    "# u_x = ...\n",
    "# v_x = ...\n",
    "simplify((f*u+g*v))\n",
    "# solve([v, u])"
   ]
  }
 ],
 "metadata": {
  "kernelspec": {
   "display_name": "Python 3.11.0 64-bit",
   "language": "python",
   "name": "python3"
  },
  "language_info": {
   "codemirror_mode": {
    "name": "ipython",
    "version": 3
   },
   "file_extension": ".py",
   "mimetype": "text/x-python",
   "name": "python",
   "nbconvert_exporter": "python",
   "pygments_lexer": "ipython3",
   "version": "3.11.0 (main, Oct 24 2022, 18:26:48) [MSC v.1933 64 bit (AMD64)]"
  },
  "orig_nbformat": 4,
  "vscode": {
   "interpreter": {
    "hash": "52afb8ebcac5aa8032177177fdc4e98c9d7316bff28e5396e7ea1b3acb0cd9a6"
   }
  }
 },
 "nbformat": 4,
 "nbformat_minor": 2
}
