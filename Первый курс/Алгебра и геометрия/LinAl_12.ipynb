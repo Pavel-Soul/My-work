{
 "cells": [
  {
   "cell_type": "code",
   "execution_count": 2,
   "metadata": {},
   "outputs": [],
   "source": [
    "from sympy.abc import *\n",
    "from sympy import *\n",
    "import numpy as np\n",
    "import IPython\n",
    "from PIL import Image\n",
    "from matplotlib.pyplot import imshow, show\n",
    "from IPython.display import display\n",
    "import IPython.display as Display\n",
    "import re\n",
    "from icecream import ic\n",
    "import mpmath\n",
    "\n",
    "init_printing()\n"
   ]
  },
  {
   "cell_type": "code",
   "execution_count": 3,
   "metadata": {},
   "outputs": [],
   "source": [
    "# 1\n",
    "\n",
    "e1 = np.array([1, 2, -1, -2])\n",
    "e2 = np.array([2, 3, 0, -1])\n",
    "e3 = np.array([1, 2, 1, 4])\n",
    "e4 = np.array([1, 3, -1, 0])\n",
    "x = np.array([[7, 14, -1, 2]]).T\n",
    "# t = np.array([5, 0, 3, -1]).T\n"
   ]
  },
  {
   "cell_type": "code",
   "execution_count": 4,
   "metadata": {},
   "outputs": [
    {
     "data": {
      "image/png": "[encoded data removed]",
      "text/latex": [
       "$\\displaystyle 2$"
      ],
      "text/plain": [
       "2"
      ]
     },
     "execution_count": 4,
     "metadata": {},
     "output_type": "execute_result"
    }
   ],
   "source": [
    "matrix = np.array([e1, e2, e3, e4]).T\n",
    "\n",
    "Matrix(matrix).det()\n"
   ]
  },
  {
   "cell_type": "code",
   "execution_count": 5,
   "metadata": {},
   "outputs": [
    {
     "data": {
      "image/png": "[encoded data removed]",
      "text/latex": [
       "$\\displaystyle \\left[\\begin{matrix}0\\\\2\\\\1\\\\2\\end{matrix}\\right]$"
      ],
      "text/plain": [
       "⎡0⎤\n",
       "⎢ ⎥\n",
       "⎢2⎥\n",
       "⎢ ⎥\n",
       "⎢1⎥\n",
       "⎢ ⎥\n",
       "⎣2⎦"
      ]
     },
     "execution_count": 5,
     "metadata": {},
     "output_type": "execute_result"
    }
   ],
   "source": [
    "matrix_n = np.hstack([matrix, x])\n",
    "np.hstack([matrix, x])\n",
    "Matrix(matrix_n).rref()[0][:, -1]\n"
   ]
  },
  {
   "cell_type": "code",
   "execution_count": 6,
   "metadata": {},
   "outputs": [],
   "source": [
    "# 2\n",
    "\n",
    "# e0 = 1\n",
    "# e1 = x\n",
    "# e2 = x**2\n",
    "# e3 = x**3\n",
    "# e4 = x**4\n",
    "\n",
    "e0 = 1\n",
    "e1 = (x-7)\n",
    "e2 = (x-7)**2\n",
    "e3 = (x-7)**3\n",
    "e4 = (x-7)**4\n",
    "P = 1 + 2*x + - 3*x**2 + 4*x**3 - 9*x**4\n",
    "# t = np.array([5, 0, 3, -1]).T\n"
   ]
  },
  {
   "cell_type": "code",
   "execution_count": 7,
   "metadata": {},
   "outputs": [
    {
     "ename": "NotImplementedError",
     "evalue": "SymPy supports just 1D and 2D matrices",
     "output_type": "error",
     "traceback": [
      "\u001b[1;31m---------------------------------------------------------------------------\u001b[0m",
      "\u001b[1;31mNotImplementedError\u001b[0m                       Traceback (most recent call last)",
      "Cell \u001b[1;32mIn [7], line 3\u001b[0m\n\u001b[0;32m      1\u001b[0m matrix \u001b[39m=\u001b[39m np\u001b[39m.\u001b[39marray([e1, e2, e3, e4])\u001b[39m.\u001b[39mT\n\u001b[1;32m----> 3\u001b[0m Matrix(matrix)\u001b[39m.\u001b[39mdet()\n",
      "File \u001b[1;32mc:\\Programs\\Python\\Python311\\Lib\\site-packages\\sympy\\matrices\\repmatrix.py:329\u001b[0m, in \u001b[0;36mMutableRepMatrix.__new__\u001b[1;34m(cls, *args, **kwargs)\u001b[0m\n\u001b[0;32m    328\u001b[0m \u001b[39mdef\u001b[39;00m \u001b[39m__new__\u001b[39m(\u001b[39mcls\u001b[39m, \u001b[39m*\u001b[39margs, \u001b[39m*\u001b[39m\u001b[39m*\u001b[39mkwargs):\n\u001b[1;32m--> 329\u001b[0m     \u001b[39mreturn\u001b[39;00m \u001b[39mcls\u001b[39;49m\u001b[39m.\u001b[39;49m_new(\u001b[39m*\u001b[39;49margs, \u001b[39m*\u001b[39;49m\u001b[39m*\u001b[39;49mkwargs)\n",
      "File \u001b[1;32mc:\\Programs\\Python\\Python311\\Lib\\site-packages\\sympy\\matrices\\repmatrix.py:340\u001b[0m, in \u001b[0;36mMutableRepMatrix._new\u001b[1;34m(cls, copy, *args, **kwargs)\u001b[0m\n\u001b[0;32m    338\u001b[0m     rows, cols, flat_list \u001b[39m=\u001b[39m args\n\u001b[0;32m    339\u001b[0m \u001b[39melse\u001b[39;00m:\n\u001b[1;32m--> 340\u001b[0m     rows, cols, flat_list \u001b[39m=\u001b[39m \u001b[39mcls\u001b[39;49m\u001b[39m.\u001b[39;49m_handle_creation_inputs(\u001b[39m*\u001b[39;49margs, \u001b[39m*\u001b[39;49m\u001b[39m*\u001b[39;49mkwargs)\n\u001b[0;32m    341\u001b[0m     flat_list \u001b[39m=\u001b[39m \u001b[39mlist\u001b[39m(flat_list) \u001b[39m# create a shallow copy\u001b[39;00m\n\u001b[0;32m    343\u001b[0m rep \u001b[39m=\u001b[39m \u001b[39mcls\u001b[39m\u001b[39m.\u001b[39m_flat_list_to_DomainMatrix(rows, cols, flat_list)\n",
      "File \u001b[1;32mc:\\Programs\\Python\\Python311\\Lib\\site-packages\\sympy\\matrices\\matrices.py:995\u001b[0m, in \u001b[0;36mMatrixBase._handle_creation_inputs\u001b[1;34m(cls, *args, **kwargs)\u001b[0m\n\u001b[0;32m    993\u001b[0m \u001b[39m# Matrix(numpy.ones((2, 2)))\u001b[39;00m\n\u001b[0;32m    994\u001b[0m \u001b[39melif\u001b[39;00m \u001b[39mhasattr\u001b[39m(args[\u001b[39m0\u001b[39m], \u001b[39m\"\u001b[39m\u001b[39m__array__\u001b[39m\u001b[39m\"\u001b[39m):\n\u001b[1;32m--> 995\u001b[0m     \u001b[39mreturn\u001b[39;00m \u001b[39mcls\u001b[39;49m\u001b[39m.\u001b[39;49m_handle_ndarray(args[\u001b[39m0\u001b[39;49m])\n\u001b[0;32m    997\u001b[0m \u001b[39m# Matrix([1, 2, 3]) or Matrix([[1, 2], [3, 4]])\u001b[39;00m\n\u001b[0;32m    998\u001b[0m \u001b[39melif\u001b[39;00m is_sequence(args[\u001b[39m0\u001b[39m]) \\\n\u001b[0;32m    999\u001b[0m         \u001b[39mand\u001b[39;00m \u001b[39mnot\u001b[39;00m \u001b[39misinstance\u001b[39m(args[\u001b[39m0\u001b[39m], DeferredVector):\n",
      "File \u001b[1;32mc:\\Programs\\Python\\Python311\\Lib\\site-packages\\sympy\\matrices\\matrices.py:920\u001b[0m, in \u001b[0;36mMatrixBase._handle_ndarray\u001b[1;34m(cls, arg)\u001b[0m\n\u001b[0;32m    918\u001b[0m     \u001b[39mreturn\u001b[39;00m arr\u001b[39m.\u001b[39mshape[\u001b[39m0\u001b[39m], \u001b[39m1\u001b[39m, flat_list\n\u001b[0;32m    919\u001b[0m \u001b[39melse\u001b[39;00m:\n\u001b[1;32m--> 920\u001b[0m     \u001b[39mraise\u001b[39;00m \u001b[39mNotImplementedError\u001b[39;00m(\n\u001b[0;32m    921\u001b[0m         \u001b[39m\"\u001b[39m\u001b[39mSymPy supports just 1D and 2D matrices\u001b[39m\u001b[39m\"\u001b[39m)\n",
      "\u001b[1;31mNotImplementedError\u001b[0m: SymPy supports just 1D and 2D matrices"
     ]
    }
   ],
   "source": [
    "matrix = np.array([e1, e2, e3, e4]).T\n",
    "\n",
    "Matrix(matrix).det()\n"
   ]
  },
  {
   "cell_type": "code",
   "execution_count": null,
   "metadata": {},
   "outputs": [
    {
     "data": {
      "text/latex": [
       "$\\displaystyle \\left[\\begin{matrix}5\\\\0\\\\3\\\\-1\\end{matrix}\\right]$"
      ],
      "text/plain": [
       "Matrix([\n",
       "[ 5],\n",
       "[ 0],\n",
       "[ 3],\n",
       "[-1]])"
      ]
     },
     "execution_count": 61,
     "metadata": {},
     "output_type": "execute_result"
    }
   ],
   "source": [
    "matrix_n = np.hstack([matrix, x])\n",
    "Matrix(matrix_n).rref()[0][:, -1]"
   ]
  },
  {
   "cell_type": "code",
   "execution_count": null,
   "metadata": {},
   "outputs": [],
   "source": [
    "# 12.3\n",
    "\n",
    "L1 = np.array([[1, 1, 1],\n",
    "               [1, 0, 3],\n",
    "               [1, 1, 0],\n",
    "               [1, -1, -4]])\n",
    "L2 = np.array([[1, 2, 1],\n",
    "               [2, 3, 2],\n",
    "               [1, 1, 2],\n",
    "               [-2, 0, -3]])\n",
    "\n",
    "\n",
    "U1 = np.array(Matrix(L1.T).rref()[0])\n",
    "U2 = np.array(Matrix(L2.T).rref()[0])\n",
    "U1 = U1[:, np.count_nonzero(U1, axis=0) != 1]\n",
    "U2 = U2[:, np.count_nonzero(U2, axis=0) != 1]\n",
    "# U2\n",
    "# Matrix(\n",
    "#     [[10, -2, -9, 1],\n",
    "#     [-5, 3, 1, 1]]\n",
    "# ).rref()[0]*4\n"
   ]
  },
  {
   "cell_type": "code",
   "execution_count": null,
   "metadata": {},
   "outputs": [
    {
     "data": {
      "text/latex": [
       "$\\displaystyle \\left[\\begin{matrix}1 & 1 & 1 & 1\\\\1 & 0 & 3 & 2\\\\1 & 1 & 0 & 1\\\\1 & -1 & -4 & -2\\end{matrix}\\right]$"
      ],
      "text/plain": [
       "Matrix([\n",
       "[1,  1,  1,  1],\n",
       "[1,  0,  3,  2],\n",
       "[1,  1,  0,  1],\n",
       "[1, -1, -4, -2]])"
      ]
     },
     "execution_count": 75,
     "metadata": {},
     "output_type": "execute_result"
    }
   ],
   "source": [
    "\n",
    "m = np.hstack([L1, L2])\n",
    "\n",
    "ref = Matrix(m).rref()[0]\n",
    "\n",
    "Matrix(m[:, np.count_nonzero(ref, axis=0) == 1])\n"
   ]
  },
  {
   "cell_type": "code",
   "execution_count": null,
   "metadata": {},
   "outputs": [
    {
     "data": {
      "text/plain": [
       "True"
      ]
     },
     "execution_count": 64,
     "metadata": {},
     "output_type": "execute_result"
    }
   ],
   "source": [
    "# 12.4\n",
    "\n",
    "L1 = np.array([[1, 2, 0, 1],\n",
    "               [1, 1, 1, 0]])\n",
    "\n",
    "L2 = np.array([[3, -1, -3, 0],\n",
    "               [0, 1, 0, -3]])\n",
    "\n",
    "# L1 + L2\n",
    "L1 in L2\n",
    "# Matrix(np.hstack([L1.T, L2.T]))"
   ]
  },
  {
   "cell_type": "code",
   "execution_count": null,
   "metadata": {},
   "outputs": [
    {
     "data": {
      "image/png": "[encoded data removed]",
      "text/latex": [
       "$\\displaystyle \\left[\\begin{matrix}1 & 2 & 0 & 1\\\\1 & 1 & 1 & 0\\\\3 & -1 & -3 & 0\\\\0 & 1 & 0 & -3\\end{matrix}\\right]$"
      ],
      "text/plain": [
       "⎡1  2   0   1 ⎤\n",
       "⎢             ⎥\n",
       "⎢1  1   1   0 ⎥\n",
       "⎢             ⎥\n",
       "⎢3  -1  -3  0 ⎥\n",
       "⎢             ⎥\n",
       "⎣0  1   0   -3⎦"
      ]
     },
     "execution_count": 49,
     "metadata": {},
     "output_type": "execute_result"
    }
   ],
   "source": [
    "# L1 ⋂ L2\n",
    "Matrix(np.vstack([L1, L2]))"
   ]
  },
  {
   "cell_type": "code",
   "execution_count": null,
   "metadata": {},
   "outputs": [
    {
     "data": {
      "image/png": "[encoded data removed]",
      "text/latex": [
       "$\\displaystyle \\left[\\begin{matrix}1 & 1 & 1 & 1\\\\0 & 1 & 1 & 1\\\\0 & 0 & 2 & -5\\\\0 & 0 & 0 & -13\\end{matrix}\\right]$"
      ],
      "text/plain": [
       "⎡1  1  1   1 ⎤\n",
       "⎢            ⎥\n",
       "⎢0  1  1   1 ⎥\n",
       "⎢            ⎥\n",
       "⎢0  0  2  -5 ⎥\n",
       "⎢            ⎥\n",
       "⎣0  0  0  -13⎦"
      ]
     },
     "execution_count": 63,
     "metadata": {},
     "output_type": "execute_result"
    }
   ],
   "source": [
    "L1 = np.array([[1, 1, 1, 1],\n",
    "               [0, 1, 1, 1]])\n",
    "\n",
    "L2 = np.array([[1, 2, 4, -3],\n",
    "               [3, 5, 6, -4]])\n",
    "\n",
    "Matrix(np.vstack([L1, L2])).echelon_form()\n",
    "\n",
    "\n",
    "\n"
   ]
  },
  {
   "cell_type": "code",
   "execution_count": 20,
   "metadata": {},
   "outputs": [
    {
     "data": {
      "text/plain": [
       "array([[ 1, -1,  2],\n",
       "       [ 6, -6, 12],\n",
       "       [ 1, -1,  2]])"
      ]
     },
     "execution_count": 20,
     "metadata": {},
     "output_type": "execute_result"
    }
   ],
   "source": [
    "a = np.array([[1, -1, 2]])\n",
    "b = np.array([[1, 6, 1]]).T\n",
    "\n",
    "b @ a\n",
    "\n"
   ]
  }
 ],
 "metadata": {
  "kernelspec": {
   "display_name": "Python 3.11.0 64-bit",
   "language": "python",
   "name": "python3"
  },
  "language_info": {
   "codemirror_mode": {
    "name": "ipython",
    "version": 3
   },
   "file_extension": ".py",
   "mimetype": "text/x-python",
   "name": "python",
   "nbconvert_exporter": "python",
   "pygments_lexer": "ipython3",
   "version": "3.11.0 (main, Oct 24 2022, 18:26:48) [MSC v.1933 64 bit (AMD64)]"
  },
  "orig_nbformat": 4,
  "vscode": {
   "interpreter": {
    "hash": "52afb8ebcac5aa8032177177fdc4e98c9d7316bff28e5396e7ea1b3acb0cd9a6"
   }
  }
 },
 "nbformat": 4,
 "nbformat_minor": 2
}
