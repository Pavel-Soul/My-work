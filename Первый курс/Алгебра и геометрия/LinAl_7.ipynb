{
 "cells": [
  {
   "cell_type": "code",
   "execution_count": 1,
   "metadata": {},
   "outputs": [],
   "source": [
    "from sympy import *\n",
    "import numpy as np\n",
    "import IPython\n",
    "from PIL import Image\n",
    "from matplotlib.pyplot import imshow, show\n",
    "init_printing()"
   ]
  },
  {
   "cell_type": "code",
   "execution_count": 5,
   "metadata": {},
   "outputs": [],
   "source": [
    "def to_matrix(text):\n",
    "    text = text.replace('−', '-')\n",
    "    mat = []\n",
    "    text.splitlines\n",
    "    for row in text.splitlines():\n",
    "        if not row:\n",
    "            continue\n",
    "        mat.append([])\n",
    "        for col in row.split():\n",
    "            if col.strip('-').isdigit():\n",
    "                mat[-1].append(int(col))\n",
    "            else:\n",
    "                mat[-1].append(symbols(col))\n",
    "    return Matrix(mat)\n"
   ]
  },
  {
   "cell_type": "code",
   "execution_count": 14,
   "metadata": {},
   "outputs": [
    {
     "data": {
      "image/png": "[encoded data removed]",
      "text/latex": [
       "$\\displaystyle -18016$"
      ],
      "text/plain": [
       "-18016"
      ]
     },
     "execution_count": 14,
     "metadata": {},
     "output_type": "execute_result"
    }
   ],
   "source": [
    "# 9\n",
    "\n",
    "M = Matrix([[x**2 - 1,  ],\n",
    "            [],\n",
    "            []])"
   ]
  },
  {
   "cell_type": "code",
   "execution_count": 4,
   "metadata": {},
   "outputs": [
    {
     "data": {
      "text/latex": [
       "$\\displaystyle 12$"
      ],
      "text/plain": [
       "12"
      ]
     },
     "execution_count": 4,
     "metadata": {},
     "output_type": "execute_result"
    }
   ],
   "source": [
    "from sympy.abc import x, y, z\n",
    "\n",
    "u = x**2*y + z**2*x + y**2*z - z**2*y - y**2*x - x**2*z\n",
    "u1 = x**2*y + z**2*x - z**2*y  - x**2*z + y**2*(z - x)\n",
    "u4 = (x-z)*(x*z + x*y + y*z - y**2)\n",
    "u1.subs({x: 2, y:6, z:3})"
   ]
  },
  {
   "cell_type": "code",
   "execution_count": 12,
   "metadata": {},
   "outputs": [
    {
     "data": {
      "image/png": "[encoded data removed]",
      "text/latex": [
       "$\\displaystyle 23$"
      ],
      "text/plain": [
       "23"
      ]
     },
     "execution_count": 12,
     "metadata": {},
     "output_type": "execute_result"
    }
   ],
   "source": [
    "    \n",
    "k = 23\n",
    "M = np.zeros((k,k), dtype=np.int8)\n",
    "for i in range(k):\n",
    "    for j in range(k):\n",
    "        M[i, j] = max(i+1, j+1)\n",
    "\n",
    "M\n",
    "Matrix(M).det()\n"
   ]
  },
  {
   "cell_type": "code",
   "execution_count": 44,
   "metadata": {},
   "outputs": [],
   "source": [
    "def line_to_matrix(line, func=None):\n",
    "    matrix = np.array(list(line), dtype=int).reshape(int(len(line)**0.5), -1)\n",
    "    # Если передана функция применяем ко всем элементам матрицы\n",
    "    if func is not None:\n",
    "        matrix = func(matrix)\n",
    "        print(matrix)\n",
    "    return matrix\n",
    "\n",
    "\n",
    "def line_det(line, func=None):\n",
    "    return np.linalg.det(line_to_matrix(line, func))"
   ]
  },
  {
   "cell_type": "code",
   "execution_count": 53,
   "metadata": {},
   "outputs": [
    {
     "data": {
      "image/png": "[encoded data removed]",
      "text/latex": [
       "$\\displaystyle \\left( \\left[\\begin{matrix}0 & 1 & 1\\\\1 & 0 & 1\\\\1 & 1 & 0\\end{matrix}\\right], \\  2.0\\right)$"
      ],
      "text/plain": [
       "⎛⎡0  1  1⎤     ⎞\n",
       "⎜⎢       ⎥     ⎟\n",
       "⎜⎢1  0  1⎥, 2.0⎟\n",
       "⎜⎢       ⎥     ⎟\n",
       "⎝⎣1  1  0⎦     ⎠"
      ]
     },
     "execution_count": 53,
     "metadata": {},
     "output_type": "execute_result"
    }
   ],
   "source": [
    "rang = 3\n",
    "length = rang ** 2\n",
    "mat = None\n",
    "max_det = float('-inf')\n",
    "for i in range(2**length):\n",
    "    line = bin(i)[2:].zfill(length)\n",
    "    if (det := line_det(line)) > max_det:\n",
    "        max_det = det\n",
    "        mat = line_to_matrix(line)\n",
    "\n",
    "Matrix(mat), max_det"
   ]
  },
  {
   "cell_type": "code",
   "execution_count": 54,
   "metadata": {},
   "outputs": [
    {
     "data": {
      "image/png": "[encoded data removed]",
      "text/latex": [
       "$\\displaystyle \\left( \\left[\\begin{matrix}-1 & -1 & -1\\\\-1 & -1 & 1\\\\-1 & 1 & -1\\end{matrix}\\right], \\  4.0\\right)$"
      ],
      "text/plain": [
       "⎛⎡-1  -1  -1⎤     ⎞\n",
       "⎜⎢          ⎥     ⎟\n",
       "⎜⎢-1  -1  1 ⎥, 4.0⎟\n",
       "⎜⎢          ⎥     ⎟\n",
       "⎝⎣-1  1   -1⎦     ⎠"
      ]
     },
     "execution_count": 54,
     "metadata": {},
     "output_type": "execute_result"
    }
   ],
   "source": [
    "rang = 3\n",
    "length = rang ** 2\n",
    "mat = None\n",
    "max_det = float('-inf')\n",
    "for i in range(2**length):\n",
    "    line = bin(i)[2:].zfill(length)\n",
    "    if (det := line_det(line, lambda x: x*2-1)) > max_det:\n",
    "        max_det = det\n",
    "        mat = line_to_matrix(line, lambda x: x*2-1)\n",
    "\n",
    "Matrix(mat), max_det"
   ]
  },
  {
   "cell_type": "code",
   "execution_count": 34,
   "metadata": {},
   "outputs": [
    {
     "data": {
      "image/png": "[encoded data removed]",
      "text/latex": [
       "$\\displaystyle 4$"
      ],
      "text/plain": [
       "4"
      ]
     },
     "execution_count": 34,
     "metadata": {},
     "output_type": "execute_result"
    }
   ],
   "source": [
    "def print_as_line(num, length):\n",
    "    print(bin(num)[2:].zfill(length))\n",
    "\n",
    "def lines_gen(length=6):\n",
    "    lines = []\n",
    "    for i in range(2**length):\n",
    "        for l in lines:\n",
    "            if i ^ l == 2**(length)-1:\n",
    "                # print_as_line(i, length)\n",
    "                # print_as_line(l, length)\n",
    "                # print_as_line(i^l, length)\n",
    "                # print_as_line(2**(length)-1, length)\n",
    "                # print()\n",
    "                break\n",
    "        else:\n",
    "            lines.append(i)\n",
    "    return lines\n",
    "\n",
    "l = 3\n",
    "# for line in lines_gen(l):\n",
    "#     print_as_line(line, l)\n",
    "len(lines_gen(l))\n",
    "\n",
    "# p = 1\n",
    "# for i in range(27, 33):\n",
    "#     p *= i\n",
    "# p"
   ]
  },
  {
   "cell_type": "code",
   "execution_count": 104,
   "metadata": {},
   "outputs": [
    {
     "data": {
      "text/plain": [
       "array([[ 1,  2,  3,  4,  5],\n",
       "       [ 6,  7,  8,  9, 10],\n",
       "       [11, 12, 13, 14, 15],\n",
       "       [16, 17, 18, 19, 20]])"
      ]
     },
     "execution_count": 104,
     "metadata": {},
     "output_type": "execute_result"
    }
   ],
   "source": [
    "M = np.arange(1, 21).reshape((4, -1))\n",
    "# M = Matrix(4, 5, range(1, 21))\n",
    "M"
   ]
  },
  {
   "cell_type": "code",
   "execution_count": 106,
   "metadata": {},
   "outputs": [],
   "source": [
    "\n",
    "\n",
    "def get_minor(matrix, y, x):\n",
    "    if isinstance(x, int):\n",
    "        x = [x]\n",
    "    if isinstance(y, int):\n",
    "        y = [y]\n",
    "    m = np.array(matrix)\n",
    "    height, width = m.shape\n",
    "    assert width - len(x) == height - len(y), 'Не квадратная матрица'\n",
    "    rows = np.expand_dims(sorted(set(range(height)) - set(y)), 1)\n",
    "    columns = sorted(set(range(width)) - set(x))\n",
    "    M\n",
    "    # return M[np.repeat(rows, len(columns), 1), columns]\n",
    "    return np.linalg.det(m[np.repeat(rows, len(columns), 1), columns])\n"
   ]
  },
  {
   "cell_type": "code",
   "execution_count": 107,
   "metadata": {},
   "outputs": [
    {
     "data": {
      "image/png": "[encoded data removed]",
      "text/latex": [
       "$\\displaystyle -5.00000000000001$"
      ],
      "text/plain": [
       "-5.000000000000006"
      ]
     },
     "execution_count": 107,
     "metadata": {},
     "output_type": "execute_result"
    }
   ],
   "source": [
    "get_minor(M, [0, 1], [0, 1, 2])"
   ]
  }
 ],
 "metadata": {
  "kernelspec": {
   "display_name": "Python 3.11.0 64-bit",
   "language": "python",
   "name": "python3"
  },
  "language_info": {
   "codemirror_mode": {
    "name": "ipython",
    "version": 3
   },
   "file_extension": ".py",
   "mimetype": "text/x-python",
   "name": "python",
   "nbconvert_exporter": "python",
   "pygments_lexer": "ipython3",
   "version": "3.11.0"
  },
  "orig_nbformat": 4,
  "vscode": {
   "interpreter": {
    "hash": "52afb8ebcac5aa8032177177fdc4e98c9d7316bff28e5396e7ea1b3acb0cd9a6"
   }
  }
 },
 "nbformat": 4,
 "nbformat_minor": 2
}
