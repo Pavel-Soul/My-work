{
 "cells": [
  {
   "cell_type": "code",
   "execution_count": 1,
   "metadata": {},
   "outputs": [],
   "source": [
    "from sympy import Matrix, init_printing, symbols, solve, simplify, zeros as O, eye as I\n",
    "import numpy as np\n",
    "import IPython\n",
    "from PIL import Image\n",
    "from matplotlib.pyplot import imshow, show\n",
    "init_printing()\n",
    "from icecream import ic"
   ]
  },
  {
   "cell_type": "code",
   "execution_count": 15,
   "metadata": {},
   "outputs": [
    {
     "data": {
      "image/png": "[encoded data removed]",
      "text/latex": [
       "$\\displaystyle -60$"
      ],
      "text/plain": [
       "-60"
      ]
     },
     "execution_count": 15,
     "metadata": {},
     "output_type": "execute_result"
    }
   ],
   "source": [
    "# 3 а\n",
    "M = Matrix(4, 5, range(1, 21))\n",
    "\n",
    "min_minor = float('inf')\n",
    "for row1 in range(3):\n",
    "    for row2 in range(row1+1, 4):\n",
    "        for col1 in range(4): \n",
    "            for col2 in range(col1+1, 5):\n",
    "                minor = M[row1, col1] * M[row2, col2] - M[row2, col1] * M[row1, col2]\n",
    "                min_minor = min(min_minor, minor)\n",
    "min_minor\n"
   ]
  },
  {
   "cell_type": "code",
   "execution_count": 11,
   "metadata": {},
   "outputs": [
    {
     "data": {
      "image/png": "[encoded data removed]",
      "text/latex": [
       "$\\displaystyle 0$"
      ],
      "text/plain": [
       "0"
      ]
     },
     "execution_count": 11,
     "metadata": {},
     "output_type": "execute_result"
    }
   ],
   "source": [
    "# 3 а\n",
    "M = Matrix(4, 5, range(1, 21))\n",
    "\n",
    "min_minor = float('inf')\n",
    "for row1 in range(2):\n",
    "    for row2 in range(row1+1, 3):\n",
    "        for row3 in range(row2+1, 4):\n",
    "            for col1 in range(3):\n",
    "                for col2 in range(col1+1, 4):\n",
    "                    for col3 in range(col2+1, 5):\n",
    "                        minor = Matrix(3,3,np.array(M, dtype=int)[[row1, row1, row1, row2,\n",
    "                                   row2, row2, row3, row3, row3],\n",
    "                                    [col1, col2, col3, col1,\n",
    "                                    col2, col3, col1, col2, col3]]).det()\n",
    "                        min_minor = min(min_minor, minor)\n",
    "min_minor"
   ]
  },
  {
   "cell_type": "code",
   "execution_count": 36,
   "metadata": {},
   "outputs": [
    {
     "data": {
      "image/png": "[encoded data removed]",
      "text/latex": [
       "$\\displaystyle \\left( \\left[\\begin{matrix}-5 & -10 & -15 & -20 & -5 & -10 & -15 & -5 & -10 & -5\\\\-10 & -20 & -30 & -40 & -10 & -20 & -30 & -10 & -20 & -10\\\\-15 & -30 & -45 & -60 & -15 & -30 & -45 & -15 & -30 & -15\\\\-5 & -10 & -15 & -20 & -5 & -10 & -15 & -5 & -10 & -5\\\\-10 & -20 & -30 & -40 & -10 & -20 & -30 & -10 & -20 & -10\\\\-5 & -10 & -15 & -20 & -5 & -10 & -15 & -5 & -10 & -5\\end{matrix}\\right], \\  1\\right)$"
      ],
      "text/plain": [
       "⎛⎡-5   -10  -15  -20  -5   -10  -15  -5   -10  -5 ⎤   ⎞\n",
       "⎜⎢                                                ⎥   ⎟\n",
       "⎜⎢-10  -20  -30  -40  -10  -20  -30  -10  -20  -10⎥   ⎟\n",
       "⎜⎢                                                ⎥   ⎟\n",
       "⎜⎢-15  -30  -45  -60  -15  -30  -45  -15  -30  -15⎥   ⎟\n",
       "⎜⎢                                                ⎥, 1⎟\n",
       "⎜⎢-5   -10  -15  -20  -5   -10  -15  -5   -10  -5 ⎥   ⎟\n",
       "⎜⎢                                                ⎥   ⎟\n",
       "⎜⎢-10  -20  -30  -40  -10  -20  -30  -10  -20  -10⎥   ⎟\n",
       "⎜⎢                                                ⎥   ⎟\n",
       "⎝⎣-5   -10  -15  -20  -5   -10  -15  -5   -10  -5 ⎦   ⎠"
      ]
     },
     "execution_count": 36,
     "metadata": {},
     "output_type": "execute_result"
    }
   ],
   "source": [
    "# 3 б\n",
    "M = Matrix(4, 5, range(1, 21))\n",
    "\n",
    "minor_matrix = np.zeros((6, 10), dtype=int)\n",
    "count_row = -1\n",
    "count_col = -1\n",
    "for row1 in range(3):\n",
    "    for row2 in range(row1+1, 4):\n",
    "        count_row += 1\n",
    "        for col1 in range(4):\n",
    "            for col2 in range(col1+1, 5):\n",
    "                count_col += 1\n",
    "                cc = count_col % 10\n",
    "                # ic(count_row, cc)\n",
    "                minor = M[row1, col1] * M[row2, col2] - \\\n",
    "                    M[row2, col1] * M[row1, col2]\n",
    "                minor_matrix[count_row, cc] = minor\n",
    "N = Matrix(minor_matrix)\n",
    "N, N.rank()\n",
    "# ic(count_col)\n"
   ]
  },
  {
   "cell_type": "markdown",
   "metadata": {},
   "source": [
    "### 4\n",
    "\n",
    "==**a**==\n",
    "$det(adj(A))$\n",
    "\n",
    "$adj(A) \\cdot \\frac{1}{det(A)} = A^{-1}$\n",
    "\n",
    "$adj(A)=A^{-1}\\cdot det(A)$\n",
    "\n",
    "$det(adj(A)) = det(A^{-1}\\cdot det(A)) = det^{n}(A) \\cdot det(A^{-1})$\n",
    "\n",
    "$det(A^{-1})= \\frac{1}{det(A)}$\n",
    "\n",
    "$det^{n}(A) \\cdot det(A^{-1}) = det^{n}(A) \\cdot\\frac{1}{det(A)} = det^{n-1}(A)$\n",
    "\n",
    "---\n",
    "==**b**==\n",
    "\n",
    "Если А обратима, то\n",
    "$A^{-1}=A^{\\vee} \\frac{1}{det(A)}$\n",
    "\n",
    "$det(A) * A^{-1} = A^{\\vee}$\n",
    "\n",
    "$(A^{\\vee})^{-1} = (det(A) \\cdot A^{-1})^{-1}=A \\cdot \\frac{1}{det(A)}$\n",
    "\n",
    "---\n",
    "Предположим\n",
    "$(A^{-1})^{\\vee}=(A^{\\vee})^{-1}$\n",
    "\n",
    "$A \\cdot \\frac{1}{det(A)}=(A^{-1})^{\\vee}$\n",
    "\n",
    "$A \\cdot \\frac{1}{det(A)}=det(A^{-1}) \\cdot A$\n",
    "\n",
    "$\\frac{1}{det(A)}=det(A^{-1})$\n",
    "\n",
    "$det^{-1}(A)=det(A^{-1})$\n",
    "\n",
    "верно, значит верно и предположение\n",
    "\n",
    "\n",
    "---\n",
    "==**c**==\n",
    "Если А обратима, то\n",
    "\n",
    "$$\n",
    "\\begin{align}\n",
    "&A^{\\vee \\vee}=\\\\\n",
    "&(A^{-1}det(A))^{-1} \\cdot det(A^{-1}det(A))=\\\\\n",
    "&det^{-1}(A) \\cdot A \\cdot det^{n}(A) \\cdot det(A^{-1})=\\\\\n",
    "&A \\cdot det^{n-2}(A)\n",
    "\\end{align}\n",
    "$$\n"
   ]
  },
  {
   "cell_type": "code",
   "execution_count": 54,
   "metadata": {},
   "outputs": [
    {
     "data": {
      "image/png": "[encoded data removed]",
      "text/latex": [
       "$\\displaystyle \\left[\\begin{matrix}0 & 0 & 0 & 0\\\\0 & 0 & 0 & 0\\\\0 & 0 & 0 & 0\\\\0 & 0 & 0 & 0\\end{matrix}\\right]$"
      ],
      "text/plain": [
       "⎡0  0  0  0⎤\n",
       "⎢          ⎥\n",
       "⎢0  0  0  0⎥\n",
       "⎢          ⎥\n",
       "⎢0  0  0  0⎥\n",
       "⎢          ⎥\n",
       "⎣0  0  0  0⎦"
      ]
     },
     "execution_count": 54,
     "metadata": {},
     "output_type": "execute_result"
    }
   ],
   "source": [
    "M = Matrix([\n",
    "    [1, 2, 3, 4],\n",
    "    [2, 4, 6, 8],\n",
    "    [3, 6, 9, 12],\n",
    "    [4, 8, 12, 16]\n",
    "])\n",
    "M.adjugate()\n"
   ]
  },
  {
   "cell_type": "code",
   "execution_count": 51,
   "metadata": {},
   "outputs": [
    {
     "data": {
      "image/png": "[encoded data removed]",
      "text/latex": [
       "$\\displaystyle \\left( \\left[\\begin{matrix}1 & 1 & 1 & 1\\\\1 & 1 & 1 & 1\\\\1 & 1 & 1 & 1\\\\1 & 1 & 1 & 1\\end{matrix}\\right], \\  \\left[\\begin{matrix}0 & 0 & 0 & 0\\\\0 & 0 & 0 & 0\\\\0 & 0 & 0 & 0\\\\0 & 0 & 0 & 0\\end{matrix}\\right]\\right)$"
      ],
      "text/plain": [
       "⎛⎡1  1  1  1⎤  ⎡0  0  0  0⎤⎞\n",
       "⎜⎢          ⎥  ⎢          ⎥⎟\n",
       "⎜⎢1  1  1  1⎥  ⎢0  0  0  0⎥⎟\n",
       "⎜⎢          ⎥, ⎢          ⎥⎟\n",
       "⎜⎢1  1  1  1⎥  ⎢0  0  0  0⎥⎟\n",
       "⎜⎢          ⎥  ⎢          ⎥⎟\n",
       "⎝⎣1  1  1  1⎦  ⎣0  0  0  0⎦⎠"
      ]
     },
     "execution_count": 51,
     "metadata": {},
     "output_type": "execute_result"
    }
   ],
   "source": [
    "\n",
    "M = Matrix(np.full((4, 4), 1))\n",
    "M, M.adjugate()"
   ]
  },
  {
   "cell_type": "code",
   "execution_count": 14,
   "metadata": {},
   "outputs": [
    {
     "data": {
      "image/png": "[encoded data removed]",
      "text/latex": [
       "$\\displaystyle \\left[ -5.0, \\  3.0, \\  1.0\\right]$"
      ],
      "text/plain": [
       "[-4.999999999999999, 3.000000000000002, 1.0]"
      ]
     },
     "execution_count": 14,
     "metadata": {},
     "output_type": "execute_result"
    }
   ],
   "source": [
    "# 6\n",
    "\n",
    "A = np.array([[1, 2, 3],\n",
    "              [1, 4, 9], \n",
    "              [1, 8, 27]])\n",
    "\n",
    "b = [4, 16, 46]\n",
    "\n",
    "def CramerRule(A, b):\n",
    "    answer = []\n",
    "    A = np.array(A)\n",
    "    det = np.linalg.det(A)\n",
    "    for i in range(A.shape[1]):\n",
    "        K = A.copy()\n",
    "        K[:, i] = b\n",
    "        answer.append(np.linalg.det(K) / det)\n",
    "    return answer\n",
    "\n",
    "CramerRule(A, b)\n",
    "# A ** -1 * b\n"
   ]
  },
  {
   "cell_type": "code",
   "execution_count": null,
   "metadata": {},
   "outputs": [],
   "source": [
    "# 7\n",
    "\n",
    "# a) Инверсий 8, четная\n",
    "# b) Инверсий (n-1) * n / 2\n",
    "# n % 4 == 0 или 1 - четная\n",
    "# n % 4 == 2 или 3 - нечетная"
   ]
  },
  {
   "cell_type": "markdown",
   "metadata": {},
   "source": [
    "### 8\n",
    "$a_{47}a_{63}a_{1i}a_{55}a_{7k}a_{24}a_{31}$"
   ]
  },
  {
   "cell_type": "code",
   "execution_count": null,
   "metadata": {},
   "outputs": [],
   "source": [
    "# 8\n",
    "i = k = 0\n",
    "\n",
    "[4, 6, 1, 5, 7, 2, 3]\n",
    "[7, 3, i, 5, k, 4, 1]\n",
    "\n",
    "[1, 2, 3, 4, 5, 6, 7]\n",
    "[i, 4, 1, 7, 5, 3, k]\n",
    "\n",
    "[1, 2, 3, 4, 5, 6, 7]\n",
    "[6, 4, 1, 7, 5, 3, 2]\n",
    "# так как перестановка"
   ]
  },
  {
   "cell_type": "code",
   "execution_count": 16,
   "metadata": {},
   "outputs": [
    {
     "data": {
      "image/png": "[encoded data removed]",
      "text/latex": [
       "$\\displaystyle \\left[ \\left( 1, \\  2, \\  3\\right), \\  \\left( 4, \\  5, \\  6\\right)\\right]$"
      ],
      "text/plain": [
       "[(1, 2, 3), (4, 5, 6)]"
      ]
     },
     "execution_count": 16,
     "metadata": {},
     "output_type": "execute_result"
    }
   ],
   "source": [
    "# 9\n",
    "[1, 2, 3, 4]\n",
    "[0, 0, 2, 0]\n",
    "\n",
    "[1, 2, 3, 4]\n",
    "[1, 3, 2, 4]  # 1\n",
    "\n",
    "[1, 2, 3, 4]\n",
    "[1, 4, 2, 3]  # 2 +\n",
    "\n",
    "[1, 2, 3, 4]\n",
    "[3, 1, 2, 4]  # 2 +\n",
    "\n",
    "[1, 2, 3, 4]\n",
    "[3, 4, 2, 1]  # 5\n",
    "\n",
    "[1, 2, 3, 4]\n",
    "[4, 1, 2, 3]  # 3\n",
    "\n",
    "[1, 2, 3, 4]\n",
    "[4, 3, 2, 1]  # 6 +\n",
    "\n",
    "# 1) a13 a21 a32 a44\n",
    "# 2) a14 a23 a32 a41\n",
    "# 3) a11 a24 a32 a43"
   ]
  },
  {
   "cell_type": "code",
   "execution_count": null,
   "metadata": {},
   "outputs": [],
   "source": [
    "# 10\n",
    "\n",
    "# n % 4 == 0 или 1 => +\n",
    "# n % 4 == 2 или 3 => -\n",
    "# sign((-1) ** (n % 4 > 1))"
   ]
  },
  {
   "cell_type": "code",
   "execution_count": null,
   "metadata": {},
   "outputs": [],
   "source": [
    "# 11 a\n",
    "\n",
    "[[1, 2, 3, 4, 5, 6, 7, 8, 9],  # 20\n",
    " [5, 9, 1, 8, 2, 6, 4, 7, 3]]  # 4 + 7 + 5 + 2 + 1 + 1 = 20\n"
   ]
  },
  {
   "cell_type": "code",
   "execution_count": 33,
   "metadata": {},
   "outputs": [
    {
     "name": "stdout",
     "output_type": "stream",
     "text": [
      "[(0, 1), (1, 3), (2, 5), (3, 6), (4, 5), (5, 3), (6, 1)]\n",
      "[(0, 1), (1, 3), (2, 5), (3, 6), (4, 5), (5, 3), (6, 1)]\n"
     ]
    }
   ],
   "source": [
    "# 11 b\n",
    "\n",
    "from itertools import permutations\n",
    "\n",
    "def invers(a):\n",
    "    res = 0\n",
    "    for i in range(len(a)-1):\n",
    "        for j in range(i+1, len(a)):\n",
    "            res += a[i] > a[j]\n",
    "    return res\n",
    "\n",
    "\n",
    "def index(a):\n",
    "    res = 0\n",
    "    for n, i in enumerate(a[:-1]):\n",
    "        res += (i > a[n+1]) * (n+1)\n",
    "    return res\n",
    "\n",
    "\n",
    "inverses = {}\n",
    "indexes = {}\n",
    "\n",
    "for i in permutations([1, 2, 3, 4]):\n",
    "    inv = invers(i)\n",
    "    print(inv, ind)\n",
    "    inverses[inv] = inverses.get(inv, 0) + 1\n",
    "    indexes[ind] = indexes.get(ind, 0) + 1\n",
    "    \n",
    "print(list(sorted(inverses.items())))\n",
    "print(list(sorted(indexes.items())))"
   ]
  },
  {
   "cell_type": "code",
   "execution_count": 34,
   "metadata": {},
   "outputs": [
    {
     "name": "stdout",
     "output_type": "stream",
     "text": [
      "28\n",
      "28\n"
     ]
    }
   ],
   "source": [
    "# 12\n",
    "\n",
    "res_ind_10_inv_4 = 0\n",
    "res_ind_4_inv_10 = 0\n",
    "\n",
    "for i in permutations(range(1, 10)):\n",
    "    res_ind_10_inv_4 += index(i) == 10 and invers(i) == 4\n",
    "    res_ind_4_inv_10 += index(i) == 4 and invers(i) == 10\n",
    "        \n",
    "print(res_ind_10_inv_4)\n",
    "print(res_ind_4_inv_10)\n"
   ]
  }
 ],
 "metadata": {
  "kernelspec": {
   "display_name": "Python 3.11.0 64-bit",
   "language": "python",
   "name": "python3"
  },
  "language_info": {
   "codemirror_mode": {
    "name": "ipython",
    "version": 3
   },
   "file_extension": ".py",
   "mimetype": "text/x-python",
   "name": "python",
   "nbconvert_exporter": "python",
   "pygments_lexer": "ipython3",
   "version": "3.11.0 (main, Oct 24 2022, 18:26:48) [MSC v.1933 64 bit (AMD64)]"
  },
  "orig_nbformat": 4,
  "vscode": {
   "interpreter": {
    "hash": "52afb8ebcac5aa8032177177fdc4e98c9d7316bff28e5396e7ea1b3acb0cd9a6"
   }
  }
 },
 "nbformat": 4,
 "nbformat_minor": 2
}
