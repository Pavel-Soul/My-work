{
 "cells": [
  {
   "attachments": {},
   "cell_type": "markdown",
   "metadata": {
    "tags": [
     "DaSh-More"
    ]
   },
   "source": [
    "# 27. Функции высшего порядка\n",
    "Вариант №10"
   ]
  },
  {
   "cell_type": "code",
   "execution_count": 3,
   "metadata": {},
   "outputs": [],
   "source": [
    "from functools import reduce\n",
    "import numpy as np"
   ]
  },
  {
   "attachments": {},
   "cell_type": "markdown",
   "metadata": {},
   "source": [
    "---\n",
    "## Задание 1\n",
    "Преобразуйте заданный список кортежей в список строк с помощью\n",
    "функции map"
   ]
  },
  {
   "cell_type": "code",
   "execution_count": 15,
   "metadata": {},
   "outputs": [
    {
     "name": "stdout",
     "output_type": "stream",
     "text": [
      "['red pink', 'white black', 'orange green']\n",
      "['Sheridan Gentry', 'Laila Mckee', 'Ahsan Rivas', 'Conna Gonzalez']\n"
     ]
    }
   ],
   "source": [
    "def unfolding(mas):\n",
    "    return list(map(' '.join, mas))\n",
    "\n",
    "\n",
    "print(unfolding([('red', 'pink'), ('white', 'black'), ('orange', 'green')]))\n",
    "print(unfolding([('Sheridan', 'Gentry'),\n",
    "           ('Laila', 'Mckee'), ('Ahsan', 'Rivas'), ('Conna', 'Gonzalez')]))\n"
   ]
  },
  {
   "attachments": {},
   "cell_type": "markdown",
   "metadata": {},
   "source": [
    "---\n",
    "## Задание 2\n",
    "\n",
    "Сгенерировать список целых чисел\\\n",
    "С помощью функции filter() выбрать из списка все числа кратные 3\\\n",
    "Упорядочить их по возрастанию\\\n",
    "Используя функцию reduce(), найти их произведение\n"
   ]
  },
  {
   "cell_type": "code",
   "execution_count": 14,
   "metadata": {},
   "outputs": [
    {
     "data": {
      "text/plain": [
       "array([ 43,  18,  35,  38,  64,  48,  28,  59,  34,  47,  85,  67, 100,\n",
       "        71,  30,  73,  40,  62,  37,  93,  29,  79,  55,  54,  28,  49,\n",
       "         6,  47,  33,  75])"
      ]
     },
     "execution_count": 14,
     "metadata": {},
     "output_type": "execute_result"
    }
   ],
   "source": [
    "np.random.seed(1223)\n",
    "data = np.random.randint(1, 101, 30)\n",
    "data\n"
   ]
  },
  {
   "cell_type": "code",
   "execution_count": 18,
   "metadata": {},
   "outputs": [
    {
     "data": {
      "text/plain": [
       "[6, 18, 30, 33, 48, 54, 75, 93]"
      ]
     },
     "execution_count": 18,
     "metadata": {},
     "output_type": "execute_result"
    }
   ],
   "source": [
    "data3 = sorted(filter(lambda x: x % 3 == 0, data))\n",
    "data3"
   ]
  },
  {
   "cell_type": "code",
   "execution_count": 22,
   "metadata": {},
   "outputs": [
    {
     "name": "stderr",
     "output_type": "stream",
     "text": [
      "C:\\Users\\DaSh-More\\AppData\\Local\\Temp\\ipykernel_28196\\4294882957.py:1: RuntimeWarning: overflow encountered in scalar multiply\n",
      "  reduce(lambda a, b: a*b, data3)\n"
     ]
    },
    {
     "data": {
      "text/plain": [
       "292780800"
      ]
     },
     "execution_count": 22,
     "metadata": {},
     "output_type": "execute_result"
    }
   ],
   "source": [
    "reduce(lambda a, b: a*b, data3)"
   ]
  }
 ],
 "metadata": {
  "kernelspec": {
   "display_name": "Python 3",
   "language": "python",
   "name": "python3"
  },
  "language_info": {
   "codemirror_mode": {
    "name": "ipython",
    "version": 3
   },
   "file_extension": ".py",
   "mimetype": "text/x-python",
   "name": "python",
   "nbconvert_exporter": "python",
   "pygments_lexer": "ipython3",
   "version": "3.11.0"
  },
  "orig_nbformat": 4,
  "vscode": {
   "interpreter": {
    "hash": "52afb8ebcac5aa8032177177fdc4e98c9d7316bff28e5396e7ea1b3acb0cd9a6"
   }
  }
 },
 "nbformat": 4,
 "nbformat_minor": 2
}
