{
 "cells": [
  {
   "cell_type": "markdown",
   "metadata": {
    "tags": [
     "DaSh-More"
    ]
   },
   "source": [
    "# 24. Работа с классами\n",
    "Вариант №10"
   ]
  },
  {
   "attachments": {},
   "cell_type": "markdown",
   "metadata": {},
   "source": [
    "---\n",
    "Описать класс Account\n",
    "\n",
    "Поля:\n",
    "- Фамилия\n",
    "- Номер счета\n",
    "- Процент начисления за год\n",
    "- Сумма на счету в рублях\n",
    "\n",
    "Методы:\n",
    "- Внесение денег\n",
    "- Снятие денег\n",
    "- Перевод суммы в доллары\n",
    "- Перевод суммы в евро\n",
    "- Начисление процента за n месяцев"
   ]
  },
  {
   "cell_type": "code",
   "execution_count": 4,
   "metadata": {},
   "outputs": [],
   "source": [
    "class Account:\n",
    "    euro = 80\n",
    "    dollar = 75\n",
    "    def __init__(self, sername, account_number, persent, money):\n",
    "        self.__sername = sername\n",
    "        self.__account_number = account_number\n",
    "        self.__persent = persent/100\n",
    "        self.__money = money\n",
    "    \n",
    "    @property\n",
    "    def sername(self):\n",
    "        return self.__sername\n",
    "\n",
    "    @property\n",
    "    def account_number(self):\n",
    "        return self.__account_number\n",
    "    \n",
    "    @property\n",
    "    def persent(self):\n",
    "        return self.__persent*10\n",
    "\n",
    "    def deposit_money(self, sum_: int | float):\n",
    "        \"\"\"\n",
    "        Метод внесения денег на счет\n",
    "\n",
    "        Args:\n",
    "            sum_ (int | float): Вносимая сумма\n",
    "\n",
    "        Raises:\n",
    "            ValueError: Нельзя внести отрицательную сумму\n",
    "        \"\"\"        \n",
    "        if sum_ < 0:\n",
    "            raise ValueError('Вносимая сумма меньше 0')\n",
    "\n",
    "        self.__money += sum_\n",
    "    \n",
    "    def withdraw_money(self, sum_: int | float):\n",
    "        \"\"\"\n",
    "        Метод снятия денег со счета\n",
    "\n",
    "        Args:\n",
    "            sum_ (int | float): Снимаемая сумма\n",
    "\n",
    "        Raises:\n",
    "            ValueError: Нельзя снять отрицательную сумму\n",
    "            ValueError: Нельзя снять сумму больше чем на счету\n",
    "        \"\"\"\n",
    "        if sum_ < 0:\n",
    "            raise ValueError('Вносимая сумма меньше 0')\n",
    "        \n",
    "        if sum_ > self.__money:\n",
    "            raise ValueError('Снимаемая сумма превышает сумму на аккаунте')\n",
    "\n",
    "        self.__money -= sum_\n",
    "\n",
    "    @property\n",
    "    def money(self):\n",
    "        return self.__money\n",
    "    \n",
    "    def get_as_dollar(self):\n",
    "        return self.__money / self.dollar\n",
    "\n",
    "    def get_as_euro(self):\n",
    "        return self.__money / self.euro\n",
    "\n",
    "    def accrue_interest(self, mounths: int):\n",
    "        \"\"\"\n",
    "        Начисляет процент за n месяцев\n",
    "\n",
    "        Args:\n",
    "            mounths (int): Количество месяцев за которые начисляются проценты\n",
    "        \"\"\"        \n",
    "        \n",
    "        self.__money *= (self.__persent/12+1)**mounths"
   ]
  },
  {
   "cell_type": "code",
   "execution_count": 5,
   "metadata": {},
   "outputs": [
    {
     "name": "stdout",
     "output_type": "stream",
     "text": [
      "Shev\n",
      "23122003\n",
      "1000000\n",
      "1123456\n",
      "1111111\n",
      "1207254.1022826203\n"
     ]
    }
   ],
   "source": [
    "Me = Account('Shev', 23122003, 10, 1_000_000)\n",
    "print(Me.sername)\n",
    "print(Me.account_number)\n",
    "print(Me.money)\n",
    "\n",
    "# Вносим деньги\n",
    "Me.deposit_money(123456)\n",
    "print(Me.money)\n",
    "\n",
    "# Снимаем деньги\n",
    "Me.withdraw_money(12345)\n",
    "print(Me.money)\n",
    "\n",
    "# Начисляем проценты\n",
    "Me.accrue_interest(10)\n",
    "print(Me.money)\n"
   ]
  }
 ],
 "metadata": {
  "kernelspec": {
   "display_name": "Python 3",
   "language": "python",
   "name": "python3"
  },
  "language_info": {
   "codemirror_mode": {
    "name": "ipython",
    "version": 3
   },
   "file_extension": ".py",
   "mimetype": "text/x-python",
   "name": "python",
   "nbconvert_exporter": "python",
   "pygments_lexer": "ipython3",
   "version": "3.11.0"
  },
  "orig_nbformat": 4,
  "vscode": {
   "interpreter": {
    "hash": "52afb8ebcac5aa8032177177fdc4e98c9d7316bff28e5396e7ea1b3acb0cd9a6"
   }
  }
 },
 "nbformat": 4,
 "nbformat_minor": 2
}
