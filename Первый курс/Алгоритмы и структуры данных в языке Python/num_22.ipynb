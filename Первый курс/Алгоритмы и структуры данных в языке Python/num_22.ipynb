{
 "cells": [
  {
   "attachments": {},
   "cell_type": "markdown",
   "metadata": {
    "tags": [
     "DaSh-More"
    ]
   },
   "source": [
    "# 22. Методы оптимизации\n",
    "Вариант №10"
   ]
  },
  {
   "cell_type": "code",
   "execution_count": 1,
   "metadata": {},
   "outputs": [],
   "source": [
    "from matplotlib import pyplot as plt\n",
    "import numpy as np\n",
    "from math import sin, cos"
   ]
  },
  {
   "cell_type": "code",
   "execution_count": 2,
   "metadata": {},
   "outputs": [],
   "source": [
    "def graph(f, a, b):\n",
    "    n = 101\n",
    "    X = np.linspace(a, b, n)\n",
    "    Y = list(map(f, X))\n",
    "    plt.plot(X, Y)\n",
    "    plt.show()"
   ]
  },
  {
   "attachments": {},
   "cell_type": "markdown",
   "metadata": {},
   "source": [
    "---\n",
    "### Задание 1\n",
    "Найти минимум функции f(x) отрезке `[a,b]`"
   ]
  },
  {
   "attachments": {},
   "cell_type": "markdown",
   "metadata": {},
   "source": [
    "$$f (x) = 2x^2 - 8x - 7, x \\in [0, 3]$$"
   ]
  },
  {
   "cell_type": "code",
   "execution_count": 3,
   "metadata": {},
   "outputs": [],
   "source": [
    "def f1(x):\n",
    "    return 2*x**2 - 8*x - 7\n",
    "\n",
    "a1, b1 = 0, 3"
   ]
  },
  {
   "attachments": {},
   "cell_type": "markdown",
   "metadata": {},
   "source": [
    "---\n",
    "1) Методом поразрядного поиска"
   ]
  },
  {
   "cell_type": "code",
   "execution_count": 4,
   "metadata": {},
   "outputs": [
    {
     "data": {
      "text/plain": [
       "(2.0000152587890625, -14.999999999534339)"
      ]
     },
     "execution_count": 4,
     "metadata": {},
     "output_type": "execute_result"
    }
   ],
   "source": [
    "def bbb_search(f, a, b, e=0.0001):\n",
    "    h = (b - a) / 4\n",
    "    x0 = a\n",
    "    while True:\n",
    "        x1 = x0 + h\n",
    "        if f(x0) > f(x1):\n",
    "            x0 = x1\n",
    "            if a < x0 < b:\n",
    "                continue\n",
    "        if abs(h) < e:\n",
    "            return x0, f(x0)\n",
    "        x0 = x1\n",
    "        h = -h/4\n",
    "\n",
    "bbb_search(f1, a1, b1)"
   ]
  },
  {
   "attachments": {},
   "cell_type": "markdown",
   "metadata": {},
   "source": [
    "---\n",
    "2) Методом дихотомии"
   ]
  },
  {
   "cell_type": "code",
   "execution_count": 20,
   "metadata": {},
   "outputs": [
    {
     "data": {
      "text/plain": [
       "(1.999967815856933, -14.999999997928363)"
      ]
     },
     "execution_count": 20,
     "metadata": {},
     "output_type": "execute_result"
    }
   ],
   "source": [
    "def dichotomy_search(f, a, b, e=0.0001):\n",
    "    d = e/10\n",
    "    h = (b-a)/2\n",
    "    while True:\n",
    "        x1 = (a + b - d) / 2\n",
    "        x2 = (a + b + d) / 2\n",
    "        if f(x1) <= f(x2):\n",
    "            b = x2\n",
    "        else:\n",
    "            a = x1\n",
    "        h = (b - a) / 2\n",
    "        if h <= e:\n",
    "            x = (a + b) / 2\n",
    "            return x, f(x)\n",
    "\n",
    "\n",
    "dichotomy_search(f1, a1, b1)\n"
   ]
  },
  {
   "attachments": {},
   "cell_type": "markdown",
   "metadata": {},
   "source": [
    "---\n",
    "3) Методом золотого сечения"
   ]
  },
  {
   "cell_type": "code",
   "execution_count": 22,
   "metadata": {},
   "outputs": [
    {
     "data": {
      "text/plain": [
       "(2.000018586167158, -14.999999999309109)"
      ]
     },
     "execution_count": 22,
     "metadata": {},
     "output_type": "execute_result"
    }
   ],
   "source": [
    "def golden_ratio_search(f, a, b, epsilon=0.0001):\n",
    "\n",
    "  h = (1+5**.5) / 2\n",
    "  x1 = b - (b-a) / h\n",
    "  x2 = a + (b-a) / h\n",
    "\n",
    "  while abs(b - a) >= epsilon:\n",
    "    if f(x1) >= f(x2):\n",
    "      a = x1\n",
    "    else:\n",
    "      b = x2\n",
    "\n",
    "    x1 = b - (b-a) / h\n",
    "    x2 = a + (b-a) / h\n",
    "\n",
    "  x = (a+b)/2\n",
    "  return x, f(x)\n",
    "\n",
    "\n",
    "golden_ratio_search(f1, a1, b1)\n"
   ]
  },
  {
   "attachments": {},
   "cell_type": "markdown",
   "metadata": {},
   "source": [
    "---\n",
    "Построить график функции на заданном отрезке"
   ]
  },
  {
   "cell_type": "code",
   "execution_count": 8,
   "metadata": {},
   "outputs": [
    {
     "data": {
      "image/png": "[encoded data removed]",
      "text/plain": [
       "<Figure size 640x480 with 1 Axes>"
      ]
     },
     "metadata": {},
     "output_type": "display_data"
    }
   ],
   "source": [
    "graph(f1, a1, b1)"
   ]
  },
  {
   "attachments": {},
   "cell_type": "markdown",
   "metadata": {},
   "source": [
    "---\n",
    "## Задание 2\n",
    "Найти минимум функции f(x) отрезке `[a,b]`"
   ]
  },
  {
   "attachments": {},
   "cell_type": "markdown",
   "metadata": {},
   "source": [
    "$$x^3 + 4x^2 - 4x + 1, x \\in [-1, 2]$$"
   ]
  },
  {
   "cell_type": "code",
   "execution_count": 9,
   "metadata": {},
   "outputs": [],
   "source": [
    "def f2(x):\n",
    "    return x**3 + 4*x**2 - 4*x + 1\n",
    "\n",
    "a2, b2 = -1, 2"
   ]
  },
  {
   "cell_type": "markdown",
   "metadata": {},
   "source": [
    "---\n",
    "Методом парабол"
   ]
  },
  {
   "cell_type": "code",
   "execution_count": 23,
   "metadata": {},
   "outputs": [
    {
     "data": {
      "text/plain": [
       "(0.43050077963400996, 0.09910567262100467)"
      ]
     },
     "execution_count": 23,
     "metadata": {},
     "output_type": "execute_result"
    }
   ],
   "source": [
    "def parabola_method(f, a, b, e=0.0001):\n",
    "    h = e*10\n",
    "    x = a\n",
    "    while True:\n",
    "        nx = x - h/2 * (f(x+h) - f(x-h))/(f(x+h)-2*f(x)+f(x-h))\n",
    "        if abs(x - nx) < e:\n",
    "            return nx, f(nx)\n",
    "        x = nx\n",
    "parabola_method(f2, a2, b2)"
   ]
  },
  {
   "attachments": {},
   "cell_type": "markdown",
   "metadata": {},
   "source": [
    "---\n",
    "Построить график функции на заданном отрезке"
   ]
  },
  {
   "cell_type": "code",
   "execution_count": 11,
   "metadata": {},
   "outputs": [
    {
     "data": {
      "image/png": "[encoded data removed]",
      "text/plain": [
       "<Figure size 640x480 with 1 Axes>"
      ]
     },
     "metadata": {},
     "output_type": "display_data"
    }
   ],
   "source": [
    "graph(f2, a2, b2)"
   ]
  },
  {
   "attachments": {},
   "cell_type": "markdown",
   "metadata": {},
   "source": [
    "---\n",
    "## Задание 3\n",
    "Найти минимум функции f(x) отрезке `[a,b]`"
   ]
  },
  {
   "attachments": {},
   "cell_type": "markdown",
   "metadata": {},
   "source": [
    "$$\n",
    "\\begin{align}\n",
    "&f(x) = 2\\cos(x) - \\tfrac{1}{2}sin(x)\\\\\n",
    "&f'(x) = -2\\sin(x) - \\tfrac{1}{2}cos(x)\\\\\n",
    "&f''(x) = \\tfrac{1}{2}\\sin(x) - 2cos(x)\\\\\n",
    "&x \\in [2, 4]\n",
    "\\end{align}\n",
    "$$"
   ]
  },
  {
   "cell_type": "code",
   "execution_count": 12,
   "metadata": {},
   "outputs": [],
   "source": [
    "def f3(x):\n",
    "    return 2*cos(x)-1/2*sin(x)\n",
    "\n",
    "\n",
    "def f3_(x):\n",
    "    # Производная f(x)\n",
    "    return -2*sin(x)-1/2*cos(x)\n",
    "\n",
    "def f3__(x):\n",
    "    # Производная f_(x)\n",
    "    return 1/2*sin(x)-2*cos(x)\n",
    "\n",
    "a3, b3 = 2, 4"
   ]
  },
  {
   "attachments": {},
   "cell_type": "markdown",
   "metadata": {},
   "source": [
    "---\n",
    "1) Методом средней точки"
   ]
  },
  {
   "cell_type": "code",
   "execution_count": 13,
   "metadata": {},
   "outputs": [
    {
     "data": {
      "text/plain": [
       "(2.896484375, -2.0615527954916133)"
      ]
     },
     "execution_count": 13,
     "metadata": {},
     "output_type": "execute_result"
    }
   ],
   "source": [
    "def center_point_method(f, f_, a, b, e=0.001):\n",
    "    segment = [a, b]\n",
    "    while True:\n",
    "        nx = sum(segment)/2\n",
    "        if abs(_f := f_(nx)) < e:\n",
    "            return nx, f(nx)\n",
    "        segment[_f > 0] = nx\n",
    "\n",
    "\n",
    "center_point_method(f3, f3_, a3, b3)\n"
   ]
  },
  {
   "attachments": {},
   "cell_type": "markdown",
   "metadata": {},
   "source": [
    "---\n",
    "2) Методом хорд"
   ]
  },
  {
   "cell_type": "code",
   "execution_count": 14,
   "metadata": {},
   "outputs": [
    {
     "data": {
      "text/plain": [
       "(2.896614992728302, -2.0615528128077947)"
      ]
     },
     "execution_count": 14,
     "metadata": {},
     "output_type": "execute_result"
    }
   ],
   "source": [
    "def chord_method(f, f_, a, b, e=0.001):\n",
    "    segment = [a, b]\n",
    "    while True:\n",
    "        a, b = segment\n",
    "        nx = a - f_(a)*(a-b)/(f_(a)-f_(b))\n",
    "        if abs(_f := f_(nx)) < e:\n",
    "            return nx, f(nx)\n",
    "        segment[_f > 0] = nx\n",
    "\n",
    "\n",
    "chord_method(f3, f3_, a3, b3)\n"
   ]
  },
  {
   "attachments": {},
   "cell_type": "markdown",
   "metadata": {},
   "source": [
    "---\n",
    "3) Методом Ньютона"
   ]
  },
  {
   "cell_type": "code",
   "execution_count": 15,
   "metadata": {},
   "outputs": [
    {
     "data": {
      "text/plain": [
       "(2.8966152756780756, -2.0615528128071277)"
      ]
     },
     "execution_count": 15,
     "metadata": {},
     "output_type": "execute_result"
    }
   ],
   "source": [
    "def nyuton_method(f, f_, f__, a, b, e=0.001):\n",
    "    x = a\n",
    "    while True:\n",
    "        x = x - f_(x)/f__(x)\n",
    "        if abs(f_(x)) < e:\n",
    "            return x, f(x)\n",
    "\n",
    "\n",
    "nyuton_method(f3, f3_, f3__, a3, b3)"
   ]
  },
  {
   "attachments": {},
   "cell_type": "markdown",
   "metadata": {},
   "source": [
    "---\n",
    "Построить график функции на заданном отрезке"
   ]
  },
  {
   "cell_type": "code",
   "execution_count": 16,
   "metadata": {},
   "outputs": [
    {
     "data": {
      "image/png": "[encoded data removed]",
      "text/plain": [
       "<Figure size 640x480 with 1 Axes>"
      ]
     },
     "metadata": {},
     "output_type": "display_data"
    }
   ],
   "source": [
    "graph(f3, a3, b3)"
   ]
  }
 ],
 "metadata": {
  "kernelspec": {
   "display_name": "Python 3",
   "language": "python",
   "name": "python3"
  },
  "language_info": {
   "codemirror_mode": {
    "name": "ipython",
    "version": 3
   },
   "file_extension": ".py",
   "mimetype": "text/x-python",
   "name": "python",
   "nbconvert_exporter": "python",
   "pygments_lexer": "ipython3",
   "version": "3.11.0"
  },
  "orig_nbformat": 4,
  "vscode": {
   "interpreter": {
    "hash": "52afb8ebcac5aa8032177177fdc4e98c9d7316bff28e5396e7ea1b3acb0cd9a6"
   }
  }
 },
 "nbformat": 4,
 "nbformat_minor": 2
}
