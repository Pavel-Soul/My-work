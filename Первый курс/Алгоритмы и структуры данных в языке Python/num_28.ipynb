{
 "cells": [
  {
   "attachments": {},
   "cell_type": "markdown",
   "metadata": {
    "tags": [
     "DaSh-More"
    ]
   },
   "source": [
    "# 28. Массивы\n",
    "Вариант №10"
   ]
  },
  {
   "cell_type": "code",
   "execution_count": 13,
   "metadata": {},
   "outputs": [],
   "source": [
    "from numpy import random\n",
    "import numpy as np\n",
    "random.seed(1223)"
   ]
  },
  {
   "attachments": {},
   "cell_type": "markdown",
   "metadata": {},
   "source": [
    "---\n",
    "## Задание 1\n",
    "Дан массив A размера N\\\n",
    "Сформировать новый массив B того же размера по следующему правилу:\\\n",
    "элемент $B_k$ равен сумме элементов массива A с номерами от k до N"
   ]
  },
  {
   "cell_type": "code",
   "execution_count": 11,
   "metadata": {},
   "outputs": [
    {
     "data": {
      "text/plain": [
       "array([ 43,  18,  35,  38,  64,  48,  28,  59,  34,  47,  85,  67, 100,\n",
       "        71,  30,  73,  40,  62,  37,  93])"
      ]
     },
     "execution_count": 11,
     "metadata": {},
     "output_type": "execute_result"
    }
   ],
   "source": [
    "N = 20\n",
    "A = random.randint(1, 101, N)\n",
    "B = [sum(A[k:N]) for k in range(len(A))]\n",
    "B"
   ]
  },
  {
   "attachments": {},
   "cell_type": "markdown",
   "metadata": {},
   "source": [
    "---\n",
    "## Задание 2\n",
    "Дана матрица размера M × N. Упорядочить ее строки так, чтобы их\n",
    "первые элементы образовывали возрастающую последовательность\n"
   ]
  },
  {
   "cell_type": "code",
   "execution_count": 33,
   "metadata": {},
   "outputs": [
    {
     "data": {
      "text/plain": [
       "array([[ 29,  79,  55,  54,  28],\n",
       "       [ 43,  18,  35,  38,  64],\n",
       "       [ 48,  28,  59,  34,  47],\n",
       "       [ 73,  40,  62,  37,  93],\n",
       "       [ 85,  67, 100,  71,  30]])"
      ]
     },
     "execution_count": 33,
     "metadata": {},
     "output_type": "execute_result"
    }
   ],
   "source": [
    "np.random.seed(1223)\n",
    "M, N = 5, 5\n",
    "data = np.random.randint(1, 101, (M, N))\n",
    "data[data[:, 0].argsort()]"
   ]
  }
 ],
 "metadata": {
  "kernelspec": {
   "display_name": "Python 3",
   "language": "python",
   "name": "python3"
  },
  "language_info": {
   "codemirror_mode": {
    "name": "ipython",
    "version": 3
   },
   "file_extension": ".py",
   "mimetype": "text/x-python",
   "name": "python",
   "nbconvert_exporter": "python",
   "pygments_lexer": "ipython3",
   "version": "3.11.0"
  },
  "orig_nbformat": 4,
  "vscode": {
   "interpreter": {
    "hash": "52afb8ebcac5aa8032177177fdc4e98c9d7316bff28e5396e7ea1b3acb0cd9a6"
   }
  }
 },
 "nbformat": 4,
 "nbformat_minor": 2
}
