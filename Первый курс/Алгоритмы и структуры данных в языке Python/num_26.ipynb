{
 "cells": [
  {
   "attachments": {},
   "cell_type": "markdown",
   "metadata": {
    "tags": [
     "DaSh-More"
    ]
   },
   "source": [
    "# 26. Функции высшего порядка\n",
    "Вариант №10"
   ]
  },
  {
   "attachments": {},
   "cell_type": "markdown",
   "metadata": {},
   "source": [
    "---\n",
    "## Задание 1\n",
    "Вывести ряд фибоначчи до n чисел, используя lambda функцию"
   ]
  },
  {
   "cell_type": "code",
   "execution_count": 3,
   "metadata": {},
   "outputs": [
    {
     "data": {
      "text/plain": [
       "[1, 1, 2, 3, 5, 8, 13, 21, 34, 55, 89, 144]"
      ]
     },
     "execution_count": 3,
     "metadata": {},
     "output_type": "execute_result"
    }
   ],
   "source": [
    "n = 10\n",
    "fib = [1, 1]\n",
    "list(map(lambda x: fib.append(sum(fib[x:x+2])), range(n)))\n",
    "fib"
   ]
  },
  {
   "attachments": {},
   "cell_type": "markdown",
   "metadata": {},
   "source": [
    "---\n",
    "## Задание 2\n",
    "Найти следущее после заданого число, полученное перестановкой цифр"
   ]
  },
  {
   "cell_type": "code",
   "execution_count": 7,
   "metadata": {},
   "outputs": [
    {
     "name": "stdout",
     "output_type": "stream",
     "text": [
      "12 -> 21\n",
      "10 -> False\n",
      "201 -> 210\n",
      "102 -> 120\n",
      "445 -> 454\n"
     ]
    }
   ],
   "source": [
    "def find_next(num):\n",
    "    a = range(num+1, 10**(len(str(num))+1))\n",
    "    m = list(filter(lambda x: sorted(str(num)) == sorted(str(x)), a))\n",
    "    return bool(m) and m[0]\n",
    "\n",
    "\n",
    "for n in (12, 10, 201, 102, 445):\n",
    "    print(n, '->', find_next(n))"
   ]
  },
  {
   "cell_type": "code",
   "execution_count": 1,
   "metadata": {},
   "outputs": [
    {
     "data": {
      "text/plain": [
       "['1', '1', '2', '3']"
      ]
     },
     "execution_count": 1,
     "metadata": {},
     "output_type": "execute_result"
    }
   ],
   "source": [
    "sorted('3211')"
   ]
  },
  {
   "attachments": {},
   "cell_type": "markdown",
   "metadata": {},
   "source": [
    "---\n",
    "## Задание 3\n",
    "Поиск элементов с указаной подстрокой, используя lambda функцию"
   ]
  },
  {
   "cell_type": "code",
   "execution_count": 11,
   "metadata": {},
   "outputs": [
    {
     "name": "stdout",
     "output_type": "stream",
     "text": [
      "['black']\n",
      "[]\n"
     ]
    }
   ],
   "source": [
    "def find(line, mas):\n",
    "    return list(filter(lambda el: line in el, mas))\n",
    "\n",
    "mas = ['red', 'black', 'white', 'green', 'orange']\n",
    "\n",
    "print(find('ack', mas))\n",
    "print(find('abc', mas))"
   ]
  }
 ],
 "metadata": {
  "kernelspec": {
   "display_name": "Python 3",
   "language": "python",
   "name": "python3"
  },
  "language_info": {
   "codemirror_mode": {
    "name": "ipython",
    "version": 3
   },
   "file_extension": ".py",
   "mimetype": "text/x-python",
   "name": "python",
   "nbconvert_exporter": "python",
   "pygments_lexer": "ipython3",
   "version": "3.11.0"
  },
  "orig_nbformat": 4,
  "vscode": {
   "interpreter": {
    "hash": "52afb8ebcac5aa8032177177fdc4e98c9d7316bff28e5396e7ea1b3acb0cd9a6"
   }
  }
 },
 "nbformat": 4,
 "nbformat_minor": 2
}
