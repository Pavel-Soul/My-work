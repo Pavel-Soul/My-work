{
 "cells": [
  {
   "attachments": {},
   "cell_type": "markdown",
   "metadata": {
    "tags": [
     "DaSh-More"
    ]
   },
   "source": [
    "# 23. Работа с классами\n",
    "Вариант №10"
   ]
  },
  {
   "cell_type": "code",
   "execution_count": 6,
   "metadata": {},
   "outputs": [],
   "source": [
    "from dataclasses import dataclass"
   ]
  },
  {
   "attachments": {},
   "cell_type": "markdown",
   "metadata": {},
   "source": [
    "---\n",
    "Опишите класс – параллелепипед.\\\n",
    "Поля – ребра a, b, c, площадь и объем\\\n",
    "Методы – расчет площади поверхности и объема параллелепипеда"
   ]
  },
  {
   "cell_type": "code",
   "execution_count": null,
   "metadata": {},
   "outputs": [],
   "source": [
    "@dataclass\n",
    "class Parallelepiped:\n",
    "    a: int | float\n",
    "    b: int | float\n",
    "    c: int | float\n",
    "    \n",
    "    @property\n",
    "    def value(self):\n",
    "        return self.a * self.b * self.c\n",
    "    \n",
    "    def get_value(self):\n",
    "        return self.value\n",
    "    \n",
    "    @property\n",
    "    def surface_area(self):\n",
    "        return (self.a * self.b + self.b * self.c + self.a * self.c) * 2\n",
    "\n",
    "    def get_surface_area(self):\n",
    "        return self.surface_area"
   ]
  },
  {
   "cell_type": "code",
   "execution_count": 8,
   "metadata": {},
   "outputs": [
    {
     "name": "stdout",
     "output_type": "stream",
     "text": [
      "Объем: 60\n",
      "Площадь поверхности: 94\n"
     ]
    }
   ],
   "source": [
    "par1 = Parallelepiped(3, 4, 5)\n",
    "print('Объем:', par1.get_value())\n",
    "print('Площадь поверхности:', par1.surface_area)"
   ]
  },
  {
   "cell_type": "code",
   "execution_count": 9,
   "metadata": {},
   "outputs": [
    {
     "name": "stdout",
     "output_type": "stream",
     "text": [
      "Объем: 210\n",
      "Площадь поверхности: 242\n"
     ]
    }
   ],
   "source": [
    "par2 = Parallelepiped(10, 7, 3)\n",
    "print('Объем:', par2.value)\n",
    "print('Площадь поверхности:', par2.get_surface_area())"
   ]
  }
 ],
 "metadata": {
  "kernelspec": {
   "display_name": "Python 3",
   "language": "python",
   "name": "python3"
  },
  "language_info": {
   "codemirror_mode": {
    "name": "ipython",
    "version": 3
   },
   "file_extension": ".py",
   "mimetype": "text/x-python",
   "name": "python",
   "nbconvert_exporter": "python",
   "pygments_lexer": "ipython3",
   "version": "3.11.0"
  },
  "orig_nbformat": 4,
  "vscode": {
   "interpreter": {
    "hash": "52afb8ebcac5aa8032177177fdc4e98c9d7316bff28e5396e7ea1b3acb0cd9a6"
   }
  }
 },
 "nbformat": 4,
 "nbformat_minor": 2
}
