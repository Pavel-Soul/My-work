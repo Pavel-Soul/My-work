{
 "cells": [
  {
   "attachments": {},
   "cell_type": "markdown",
   "metadata": {
    "tags": [
     "DaSh-More"
    ]
   },
   "source": [
    "# 25. Работа с классами\n",
    "Вариант №10"
   ]
  },
  {
   "attachments": {},
   "cell_type": "markdown",
   "metadata": {},
   "source": [
    "---\n",
    "Создайте класс ИГРУШКА\\\n",
    "Методы:\n",
    "- Вывод информации о товаре\n",
    "- Метод позволяющий определить соответствие критериям поиска"
   ]
  },
  {
   "cell_type": "code",
   "execution_count": 12,
   "metadata": {},
   "outputs": [],
   "source": [
    "class Toy:\n",
    "    data_dict = {}\n",
    "\n",
    "    def print_data(self):\n",
    "        print(type(self).__name__)\n",
    "        for key, value in self.data_dict.items():\n",
    "            print(f\"{key}: {value}\")\n",
    "        print()\n",
    "    \n",
    "    def compare(self, characteristic: dict):\n",
    "        for key, value in characteristic.items():\n",
    "            if self.data_dict.get(key, None) != value:\n",
    "                return False\n",
    "        return True"
   ]
  },
  {
   "attachments": {},
   "cell_type": "markdown",
   "metadata": {},
   "source": [
    "---\n",
    "Создайте дочерние классы, со своими методами вывода информации на экран и определения соответствия заданному цвету"
   ]
  },
  {
   "attachments": {},
   "cell_type": "markdown",
   "metadata": {},
   "source": [
    "---\n",
    "**КУБИК**\n",
    "- цена\n",
    "- цвет\n",
    "- материал\n",
    "- размер ребра"
   ]
  },
  {
   "cell_type": "code",
   "execution_count": 13,
   "metadata": {},
   "outputs": [],
   "source": [
    "class Cube(Toy):\n",
    "    def __init__(self,\n",
    "                 price: int,\n",
    "                 color: str,\n",
    "                 material: str,\n",
    "                 edge: int):\n",
    "                 \n",
    "        self.data_dict = {\n",
    "            'price': price,\n",
    "            'color': color,\n",
    "            'material': material,\n",
    "            'edge': edge\n",
    "        }\n",
    "\n",
    "    def is_color(self, color):\n",
    "        return self.data_dict['color'] == color\n"
   ]
  },
  {
   "attachments": {},
   "cell_type": "markdown",
   "metadata": {},
   "source": [
    "---\n",
    "**МЯЧ**\n",
    "- цена\n",
    "- цвет\n",
    "- материал\n",
    "- диаметр"
   ]
  },
  {
   "cell_type": "code",
   "execution_count": 14,
   "metadata": {},
   "outputs": [],
   "source": [
    "class Ball(Toy):\n",
    "    def __init__(self,\n",
    "                 price: int,\n",
    "                 color: str,\n",
    "                 diameter: int,\n",
    "                 material: str):\n",
    "                 \n",
    "        self.data_dict = {\n",
    "            'price': price,\n",
    "            'color': color,\n",
    "            'material': material,\n",
    "            'diameter': diameter\n",
    "        }\n",
    "\n",
    "    def is_color(self, color):\n",
    "        return self.data_dict['color'] == color\n"
   ]
  },
  {
   "attachments": {},
   "cell_type": "markdown",
   "metadata": {},
   "source": [
    "---\n",
    "**МАШИНКА**\n",
    "- цена\n",
    "- цвет\n",
    "- название\n",
    "- производитель\n"
   ]
  },
  {
   "cell_type": "code",
   "execution_count": 15,
   "metadata": {},
   "outputs": [],
   "source": [
    "class Car(Toy):\n",
    "    def __init__(self,\n",
    "                 price: int,\n",
    "                 color: str,\n",
    "                 name: str,\n",
    "                 manufacturer: str):\n",
    "        \n",
    "        self.data_dict = {\n",
    "            'price': price,\n",
    "            'color': color,\n",
    "            'name': name,\n",
    "            'manufacturer': manufacturer\n",
    "        }\n",
    "\n",
    "    def is_color(self, color):\n",
    "        return self.data_dict['color'] == color\n"
   ]
  },
  {
   "attachments": {},
   "cell_type": "markdown",
   "metadata": {},
   "source": [
    "---\n",
    "Создайте список из n игрушек, выведите полную информацию из базы на экран"
   ]
  },
  {
   "cell_type": "code",
   "execution_count": 17,
   "metadata": {},
   "outputs": [
    {
     "name": "stdout",
     "output_type": "stream",
     "text": [
      "Cube\n",
      "price: 50\n",
      "color: orange\n",
      "material: wood\n",
      "edge: 10\n",
      "\n",
      "Cube\n",
      "price: 50\n",
      "color: red\n",
      "material: wood\n",
      "edge: 10\n",
      "\n",
      "Car\n",
      "price: 100\n",
      "color: red\n",
      "name: Solaris\n",
      "manufacturer: Hyundai\n",
      "\n",
      "Car\n",
      "price: 100\n",
      "color: blue\n",
      "name: Solaris\n",
      "manufacturer: Hyundai\n",
      "\n",
      "Ball\n",
      "price: 200\n",
      "color: white\n",
      "material: leather\n",
      "diameter: 30\n",
      "\n",
      "Ball\n",
      "price: 200\n",
      "color: red\n",
      "material: leather\n",
      "diameter: 30\n",
      "\n",
      "Ball\n",
      "price: 200\n",
      "color: green\n",
      "material: leather\n",
      "diameter: 30\n",
      "\n"
     ]
    }
   ],
   "source": [
    "toys = [\n",
    "    Cube(50, 'orange', 'wood', 10),\n",
    "    Cube(50, 'red', 'wood', 10),\n",
    "    Car(100, 'red', 'Solaris', 'Hyundai'),\n",
    "    Car(100, 'blue', 'Solaris', 'Hyundai'),\n",
    "    Ball(200, 'white', 30, 'leather'),\n",
    "    Ball(200, 'red', 30, 'leather'),\n",
    "    Ball(200, 'green', 30, 'leather')\n",
    "]\n",
    "\n",
    "for toy in toys:\n",
    "    toy.print_data()"
   ]
  },
  {
   "attachments": {},
   "cell_type": "markdown",
   "metadata": {},
   "source": [
    "---\n",
    "Организуйте поиск игрушек заданного цвета"
   ]
  },
  {
   "cell_type": "code",
   "execution_count": 19,
   "metadata": {},
   "outputs": [
    {
     "name": "stdout",
     "output_type": "stream",
     "text": [
      "Cube\n",
      "price: 50\n",
      "color: red\n",
      "material: wood\n",
      "edge: 10\n",
      "\n",
      "Car\n",
      "price: 100\n",
      "color: red\n",
      "name: Solaris\n",
      "manufacturer: Hyundai\n",
      "\n",
      "Ball\n",
      "price: 200\n",
      "color: red\n",
      "material: leather\n",
      "diameter: 30\n",
      "\n"
     ]
    }
   ],
   "source": [
    "color = 'red'\n",
    "\n",
    "for toy in filter(lambda x: x.compare({'color': color}), toys):\n",
    "    toy.print_data()"
   ]
  }
 ],
 "metadata": {
  "kernelspec": {
   "display_name": "Python 3",
   "language": "python",
   "name": "python3"
  },
  "language_info": {
   "codemirror_mode": {
    "name": "ipython",
    "version": 3
   },
   "file_extension": ".py",
   "mimetype": "text/x-python",
   "name": "python",
   "nbconvert_exporter": "python",
   "pygments_lexer": "ipython3",
   "version": "3.11.0"
  },
  "orig_nbformat": 4,
  "vscode": {
   "interpreter": {
    "hash": "52afb8ebcac5aa8032177177fdc4e98c9d7316bff28e5396e7ea1b3acb0cd9a6"
   }
  }
 },
 "nbformat": 4,
 "nbformat_minor": 2
}
