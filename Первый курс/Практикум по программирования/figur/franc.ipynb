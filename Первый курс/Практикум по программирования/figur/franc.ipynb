{
 "cells": [
  {
   "cell_type": "code",
   "execution_count": 15,
   "metadata": {},
   "outputs": [],
   "source": [
    "import math\n",
    "import numpy as np\n",
    "import matplotlib.pyplot as plt\n",
    "from matplotlib.patches import Polygon"
   ]
  },
  {
   "cell_type": "code",
   "execution_count": 13,
   "metadata": {},
   "outputs": [
    {
     "data": {
      "text/plain": [
       "array([6.123234e-17, 1.000000e+00])"
      ]
     },
     "execution_count": 13,
     "metadata": {},
     "output_type": "execute_result"
    }
   ],
   "source": [
    "def dot_rotate(angle, x, y, xc=0, yc=0):\n",
    "    angle = math.radians(angle)\n",
    "    mat = np.array([[math.cos(angle), -math.sin(angle)],\n",
    "              [math.sin(angle), math.cos(angle)]])\n",
    "    return mat @ [x-xc, y-yc] + [xc, yc]\n",
    "\n",
    "dot_rotate(90, 1, 0)"
   ]
  },
  {
   "cell_type": "code",
   "execution_count": 57,
   "metadata": {},
   "outputs": [
    {
     "name": "stdout",
     "output_type": "stream",
     "text": [
      "30.0\n"
     ]
    },
    {
     "data": {
      "image/png": "[encoded data removed]",
      "text/plain": [
       "<Figure size 640x480 with 1 Axes>"
      ]
     },
     "metadata": {},
     "output_type": "display_data"
    }
   ],
   "source": [
    "class Figure:\n",
    "    def __init__(self, n=3, x=0, y=0, side=1):\n",
    "        self.centre = [x, y]\n",
    "        self.n = n\n",
    "        self.radius = side/(2*math.sin(math.pi/n))\n",
    "        self.points = [[x, y+self.radius]]\n",
    "        angle = 360/n\n",
    "\n",
    "        for _ in range(n-1):\n",
    "            self.points.append(dot_rotate(angle, *self.points[-1], x, y))\n",
    "        angle = (180-180*(n-2)/n)/2\n",
    "        print(angle)\n",
    "        if n % 2 == 0:\n",
    "            self.rotate(angle)\n",
    "\n",
    "    def draw(self, ax):\n",
    "        ax.add_patch(Polygon(self.points))\n",
    "    \n",
    "\n",
    "    def rotate(self, angle, center=None):\n",
    "        if center:\n",
    "            x, y = center\n",
    "        else:\n",
    "            x, y = self.centre\n",
    "    \n",
    "        for n, dot in enumerate(self.points):\n",
    "            self.points[n] = dot_rotate(angle, *dot, x, y)\n",
    "\n",
    "f, a = plt.subplots()\n",
    "a.set_xlim([-5, 5])\n",
    "a.set_ylim([-5, 5])\n",
    "a.set_aspect(1)\n",
    "fi = Figure(6, 5,5)\n",
    "fi.draw(a)"
   ]
  }
 ],
 "metadata": {
  "kernelspec": {
   "display_name": "Python 3",
   "language": "python",
   "name": "python3"
  },
  "language_info": {
   "codemirror_mode": {
    "name": "ipython",
    "version": 3
   },
   "file_extension": ".py",
   "mimetype": "text/x-python",
   "name": "python",
   "nbconvert_exporter": "python",
   "pygments_lexer": "ipython3",
   "version": "3.11.0"
  },
  "orig_nbformat": 4
 },
 "nbformat": 4,
 "nbformat_minor": 2
}
