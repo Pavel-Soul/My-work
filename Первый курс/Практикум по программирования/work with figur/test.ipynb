{
 "cells": [
  {
   "cell_type": "code",
   "execution_count": 63,
   "metadata": {},
   "outputs": [],
   "source": [
    "import matplotlib.pyplot as plt\n",
    "from matplotlib. patches import Polygon\n",
    "import numpy as np\n",
    "from math import pi\n",
    "from IPython.display import display\n",
    "from math import pi"
   ]
  },
  {
   "cell_type": "code",
   "execution_count": 67,
   "metadata": {},
   "outputs": [
    {
     "data": {
      "text/plain": [
       "array([[530.        , 270.        ],\n",
       "       [580.        , 270.        ],\n",
       "       [555.        , 313.30127019]])"
      ]
     },
     "execution_count": 67,
     "metadata": {},
     "output_type": "execute_result"
    },
    {
     "data": {
      "image/png": "[encoded data removed]",
      "text/plain": [
       "<Figure size 640x480 with 1 Axes>"
      ]
     },
     "metadata": {},
     "output_type": "display_data"
    }
   ],
   "source": [
    "f, a = plt.subplots()\n",
    "a.set_xlim([400, 600])\n",
    "a.set_ylim([400, 600])\n",
    "a.set_aspect(1)\n",
    "t = Triangle(530, 270, 50)\n",
    "t.draw(a)\n",
    "t.coords\n"
   ]
  },
  {
   "cell_type": "code",
   "execution_count": 64,
   "metadata": {},
   "outputs": [],
   "source": [
    "class Figure:\n",
    "    coords = np.array([])\n",
    "\n",
    "    def __init__(self, x, y, *side, color='cyan'):\n",
    "        self.color = color\n",
    "        if len(side) > 1:\n",
    "            a = np.array([x, y])\n",
    "            b = np.array(side[:2])\n",
    "            # b сверху\n",
    "            if y > b[1]:\n",
    "                a, b = b, a\n",
    "            v = b-a\n",
    "            self.side = sum(v**2)**0.5\n",
    "            angle = np.math.atan(v[1]/v[0])*180/pi\n",
    "            if side[2] == 0:\n",
    "                self.set_coords(*a, self.side)\n",
    "                self.rotate(angle, *a)\n",
    "            else:\n",
    "                self.set_coords(*b, self.side)\n",
    "                self.rotate(angle-180, *b)\n",
    "            print(angle)\n",
    "        else:\n",
    "            self.side = side[0]\n",
    "            self.set_coords(x, y, self.side)\n",
    "\n",
    "    def set_coords(self):\n",
    "        ...\n",
    "\n",
    "    def draw(self, ax):\n",
    "        poly = Polygon(self.coords, fill=True, closed=True, color=self.color)\n",
    "        ax.add_patch(poly)\n",
    "\n",
    "    def rotate(self, angle, x=0, y=0):\n",
    "        mat = np.array([\n",
    "            [np.math.cos(angle*pi/180), -np.math.sin(angle*pi/180)],\n",
    "            [np.math.sin(angle*pi/180), np.math.cos(angle*pi/180)]\n",
    "        ])\n",
    "        for n, cors in enumerate(self.coords):\n",
    "            self.coords[n] = (mat @ (cors - [x, y])) + [x, y]\n",
    "\n",
    "    def mirror(self, x=False, y=False):\n",
    "        if x:\n",
    "            self.coords[:, 0] *= -1\n",
    "        if y:\n",
    "            self.coords[:, 1] *= -1\n",
    "\n",
    "    def move(self, x, y):\n",
    "        self.coords[:, 0] += x\n",
    "        self.coords[:, 1] += y\n",
    "\n",
    "    def gom(self, delta):\n",
    "        self.coords = self.coords / delta\n"
   ]
  },
  {
   "cell_type": "code",
   "execution_count": 65,
   "metadata": {},
   "outputs": [],
   "source": [
    "\n",
    "class Triangle(Figure):\n",
    "    def set_coords(self, x, y, side):\n",
    "        self.coords = np.array([\n",
    "            [x, y],\n",
    "            [x+side, y],\n",
    "            [x+side/2, y+side*3**0.5/2],\n",
    "        ])\n"
   ]
  },
  {
   "cell_type": "code",
   "execution_count": 66,
   "metadata": {},
   "outputs": [
    {
     "name": "stdout",
     "output_type": "stream",
     "text": [
      "45.0\n"
     ]
    },
    {
     "data": {
      "text/plain": [
       "[<matplotlib.lines.Line2D at 0x1d3369b6150>]"
      ]
     },
     "execution_count": 66,
     "metadata": {},
     "output_type": "execute_result"
    },
    {
     "data": {
      "image/png": "[encoded data removed]",
      "text/plain": [
       "<Figure size 640x480 with 1 Axes>"
      ]
     },
     "metadata": {},
     "output_type": "display_data"
    }
   ],
   "source": [
    "figure = Triangle(0, 0, 10, 10, 1, color='red')\n",
    "\n",
    "fig, ax = plt.subplots()\n",
    "x, y = figure.coords.T\n",
    "margin = 10\n",
    "ax.set_xlim([min(x)-margin, max(x)+margin])\n",
    "ax.set_ylim([min(y)-margin, max(y)+margin])\n",
    "ax.set_aspect(1)\n",
    "figure.draw(ax)\n",
    "\n",
    "center = figure.coords.sum(0)/figure.coords.shape[0]\n",
    "ax.plot(*center, 'ok')\n"
   ]
  }
 ],
 "metadata": {
  "kernelspec": {
   "display_name": "Python 3",
   "language": "python",
   "name": "python3"
  },
  "language_info": {
   "codemirror_mode": {
    "name": "ipython",
    "version": 3
   },
   "file_extension": ".py",
   "mimetype": "text/x-python",
   "name": "python",
   "nbconvert_exporter": "python",
   "pygments_lexer": "ipython3",
   "version": "3.11.0"
  },
  "orig_nbformat": 4
 },
 "nbformat": 4,
 "nbformat_minor": 2
}
