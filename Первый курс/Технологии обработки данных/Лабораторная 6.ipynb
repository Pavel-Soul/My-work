{
 "cells": [
  {
   "attachments": {},
   "cell_type": "markdown",
   "metadata": {},
   "source": [
    "## Форматирование строк"
   ]
  },
  {
   "cell_type": "code",
   "execution_count": 74,
   "metadata": {},
   "outputs": [],
   "source": [
    "import pandas as pd\n",
    "import numpy as np"
   ]
  },
  {
   "cell_type": "code",
   "execution_count": 2,
   "metadata": {},
   "outputs": [],
   "source": [
    "recipes = pd.read_csv(\"./src/tables/recipes_sample_6.csv\")"
   ]
  },
  {
   "attachments": {},
   "cell_type": "markdown",
   "metadata": {},
   "source": [
    "---\n",
    "\n",
    "1. Загрузите данные из файла `recipes_sample.csv` (__ЛР2__) в виде `pd.DataFrame` `recipes` При помощи форматирования строк выведите информацию об id рецепта и времени выполнения 5 случайных рецептов в виде таблицы следующего вида:\n",
    "\n",
    "    \n",
    "|      id      |  minutes  |\n",
    "|--------------|-----------|\n",
    "|    61178     |    65     |\n",
    "|    202352    |    80     |\n",
    "|    364322    |    150    |\n",
    "|    26177     |    20     |\n",
    "|    224785    |    35     |\n",
    "    \n",
    "Обратите внимание, что ширина столбцов заранее неизвестна и должна рассчитываться динамически, в зависимости от тех данных, которые были выбраны. "
   ]
  },
  {
   "cell_type": "code",
   "execution_count": 3,
   "metadata": {},
   "outputs": [
    {
     "data": {
      "text/html": [
       "<style type=\"text/css\">\n",
       "</style>\n",
       "<table id=\"T_994e1\">\n",
       "  <thead>\n",
       "    <tr>\n",
       "      <th id=\"T_994e1_level0_col0\" class=\"col_heading level0 col0\" >id</th>\n",
       "      <th id=\"T_994e1_level0_col1\" class=\"col_heading level0 col1\" >minutes</th>\n",
       "    </tr>\n",
       "  </thead>\n",
       "  <tbody>\n",
       "    <tr>\n",
       "      <td id=\"T_994e1_row0_col0\" class=\"data row0 col0\" >335969</td>\n",
       "      <td id=\"T_994e1_row0_col1\" class=\"data row0 col1\" >50</td>\n",
       "    </tr>\n",
       "    <tr>\n",
       "      <td id=\"T_994e1_row1_col0\" class=\"data row1 col0\" >511448</td>\n",
       "      <td id=\"T_994e1_row1_col1\" class=\"data row1 col1\" >15</td>\n",
       "    </tr>\n",
       "    <tr>\n",
       "      <td id=\"T_994e1_row2_col0\" class=\"data row2 col0\" >37842</td>\n",
       "      <td id=\"T_994e1_row2_col1\" class=\"data row2 col1\" >60</td>\n",
       "    </tr>\n",
       "    <tr>\n",
       "      <td id=\"T_994e1_row3_col0\" class=\"data row3 col0\" >88861</td>\n",
       "      <td id=\"T_994e1_row3_col1\" class=\"data row3 col1\" >80</td>\n",
       "    </tr>\n",
       "    <tr>\n",
       "      <td id=\"T_994e1_row4_col0\" class=\"data row4 col0\" >179462</td>\n",
       "      <td id=\"T_994e1_row4_col1\" class=\"data row4 col1\" >30</td>\n",
       "    </tr>\n",
       "  </tbody>\n",
       "</table>\n"
      ],
      "text/plain": [
       "<pandas.io.formats.style.Styler at 0x22ce2578bd0>"
      ]
     },
     "execution_count": 3,
     "metadata": {},
     "output_type": "execute_result"
    }
   ],
   "source": [
    "recipes.sample(5)[['id', 'minutes']].style.hide(axis=\"index\")"
   ]
  },
  {
   "attachments": {},
   "cell_type": "markdown",
   "metadata": {},
   "source": [
    "---\n",
    "2. Напишите функцию `show_info`, которая по данным о рецепте создает строку (в смысле объекта python) с описанием следующего вида:\n",
    "\n",
    "```\n",
    "\"Название Из Нескольких Слов\"\n",
    "\n",
    "1. Шаг 1\n",
    "2. Шаг 2\n",
    "----------\n",
    "Автор: contributor_id\n",
    "Среднее время приготовления: minutes минут\n",
    "```\n",
    "\n",
    "    \n",
    "Данные для создания строки получите из файлов `recipes_sample.csv` (__ЛР2__) и `steps_sample.xml` (__ЛР3__). \n",
    "Вызовите данную функцию для рецепта с id `170895` и выведите (через `print`) полученную строку на экран."
   ]
  },
  {
   "cell_type": "code",
   "execution_count": 4,
   "metadata": {},
   "outputs": [],
   "source": [
    "from lxml import etree\n",
    "with open(\"./src/tables/steps_sample.xml\", 'rb') as f:\n",
    "    data = etree.fromstring(f.read())\n",
    "\n",
    "steps = {}\n",
    "for i in data:\n",
    "    steps[i.find('id').text] = list(map(lambda x: x.text, i.find('steps')))\n"
   ]
  },
  {
   "cell_type": "code",
   "execution_count": 5,
   "metadata": {},
   "outputs": [
    {
     "name": "stdout",
     "output_type": "stream",
     "text": [
      "Leeks And Parsnips  Sauteed Or Creamed\n",
      "\n",
      "1. Clean the leeks and discard the dark green portions\n",
      "2. Cut the leeks lengthwise then into one-inch pieces\n",
      "3. Melt the butter in a medium skillet , med\n",
      "4. Heat\n",
      "5. Add the garlic and fry 'til fragrant\n",
      "6. Add leeks and fry until the leeks are tender , about 6-minutes\n",
      "7. Meanwhile , peel and chunk the parsnips into one-inch pieces\n",
      "8. Place in a steaming basket and steam 'til they are as tender as you prefer\n",
      "9. I like them fork-tender\n",
      "10. Drain parsnips and add to the skillet with the leeks\n",
      "11. Add salt and pepper\n",
      "12. Gently sautee together for 5-minutes\n",
      "13. At this point you can serve it , or continue on and cream it:\n",
      "14. In a jar with a screw top , add the half-n-half and arrowroot\n",
      "15. Shake 'til blended\n",
      "16. Turn heat to low under the leeks and parsnips\n",
      "17. Pour in the arrowroot mixture , stirring gently as you pour\n",
      "18. If too thick , gradually add the water\n",
      "19. Let simmer for a couple of minutes\n",
      "20. Taste to adjust seasoning , probably an additional 1 / 2 teaspoon salt\n",
      "21. Serve warm\n",
      "----------\n",
      "Автор: 8377\n",
      "Среднее время приготовления: 27 минут\n"
     ]
    }
   ],
   "source": [
    "def show_info(recipes, steps, ind):\n",
    "    row = recipes.loc[recipes['id'] == ind]\n",
    "    name, author, minutes = row[['name', 'contributor_id', 'minutes']].values[0]\n",
    "    steps = '\\n'.join(f\"{n+1}. {t.capitalize()}\" for n, t in enumerate(steps[str(ind)]))\n",
    "\n",
    "    return name.title() + '\\n'*2 + steps + '\\n----------\\nАвтор: ' +\\\n",
    "    str(author) + '\\nСреднее время приготовления: ' + str(minutes) + ' минут'\n",
    "\n",
    "\n",
    "\n",
    "print(show_info(recipes, steps, 170895))"
   ]
  },
  {
   "cell_type": "markdown",
   "metadata": {},
   "source": [
    "---\n",
    "## Работа с регулярными выражениями"
   ]
  },
  {
   "attachments": {},
   "cell_type": "markdown",
   "metadata": {},
   "source": [
    "---\n",
    "3. Напишите регулярное выражение, которое ищет следующий паттерн в строке:\n",
    "\n",
    "число(1 цифра или более), затем пробел, затем слова: hour или hours или minute или minutes.\n",
    "\n",
    "Произведите поиск по данному регулярному выражению в каждом шаге рецепта с id 25082.\\\n",
    "Выведите на экран все непустые результаты, найденные по данному шаблону.\n"
   ]
  },
  {
   "cell_type": "code",
   "execution_count": 37,
   "metadata": {},
   "outputs": [
    {
     "name": "stdout",
     "output_type": "stream",
     "text": [
      "20 minutes\n",
      "10 minutes\n",
      "2 hours\n",
      "10 minutes\n",
      "20 minutes\n",
      "30 minutes\n"
     ]
    }
   ],
   "source": [
    "import re\n",
    "\n",
    "\n",
    "pattern = r\"\\d+ (?:hours?|minutes?)\"\n",
    "for step in steps['25082']:\n",
    "    res = re.findall(pattern, step)\n",
    "    if res:\n",
    "        print(*res, sep='\\n')"
   ]
  },
  {
   "attachments": {},
   "cell_type": "markdown",
   "metadata": {},
   "source": [
    "---\n",
    "4. Напишите регулярное выражение, которое ищет шаблон вида `this..., but` в начале строки. Между словом `this` и частью `, but` может находиться произвольное число букв, цифр, знаков подчеркивания и пробелов. Никаких других символов вместо многоточия быть не может. Пробел между запятой и словом `but` может присутствовать или отсутствовать.\n",
    "\n",
    "Используя строковые методы pd.Series, выясните, для каких рецептов данный шаблон содержится в тексте описания. Выведите на экран количество таких рецептов и 3 примера подходящих описаний (текст описания должен быть виден на экране полностью)."
   ]
  },
  {
   "cell_type": "code",
   "execution_count": 35,
   "metadata": {},
   "outputs": [
    {
     "name": "stdout",
     "output_type": "stream",
     "text": [
      "134\n",
      "[\"this is a great meal eaten the same day ,but even better the next day , if you can wait! add your favourite spices, but try it first as it is and i think that you will enjoy the 'vegetable' taste. good for freezing.\"\n",
      " \"this was adapted from a recipe i found on the net, but i added julienne onion to the peppers.  this is a meal in itself, or you could have a small slice with a meat dish.  for those that like to have brunch, it's a bit different to your traditional quiche recipes.  if you love cheese, you could add 1/2 cup of your favorite to the egg mixture, then pour over peppers.\"\n",
      " 'this is kind of similar to some of the other versions out there, but it is the best and easiest i have found']\n"
     ]
    },
    {
     "data": {
      "text/html": [
       "<div>\n",
       "<style scoped>\n",
       "    .dataframe tbody tr th:only-of-type {\n",
       "        vertical-align: middle;\n",
       "    }\n",
       "\n",
       "    .dataframe tbody tr th {\n",
       "        vertical-align: top;\n",
       "    }\n",
       "\n",
       "    .dataframe thead th {\n",
       "        text-align: right;\n",
       "    }\n",
       "</style>\n",
       "<table border=\"1\" class=\"dataframe\">\n",
       "  <thead>\n",
       "    <tr style=\"text-align: right;\">\n",
       "      <th></th>\n",
       "      <th>name</th>\n",
       "      <th>id</th>\n",
       "      <th>minutes</th>\n",
       "      <th>contributor_id</th>\n",
       "      <th>submitted</th>\n",
       "      <th>n_steps</th>\n",
       "      <th>description</th>\n",
       "      <th>n_ingredients</th>\n",
       "    </tr>\n",
       "  </thead>\n",
       "  <tbody>\n",
       "    <tr>\n",
       "      <th>76</th>\n",
       "      <td>neezy peazy lunch</td>\n",
       "      <td>24760</td>\n",
       "      <td>35</td>\n",
       "      <td>29291</td>\n",
       "      <td>2002-04-08</td>\n",
       "      <td>NaN</td>\n",
       "      <td>this is a great meal eaten the same day ,but e...</td>\n",
       "      <td>6.0</td>\n",
       "    </tr>\n",
       "    <tr>\n",
       "      <th>183</th>\n",
       "      <td>3 pepper quiche</td>\n",
       "      <td>311313</td>\n",
       "      <td>75</td>\n",
       "      <td>186802</td>\n",
       "      <td>2008-07-02</td>\n",
       "      <td>NaN</td>\n",
       "      <td>this was adapted from a recipe i found on the ...</td>\n",
       "      <td>13.0</td>\n",
       "    </tr>\n",
       "    <tr>\n",
       "      <th>337</th>\n",
       "      <td>addictive chex mix</td>\n",
       "      <td>277562</td>\n",
       "      <td>21</td>\n",
       "      <td>260464</td>\n",
       "      <td>2008-01-08</td>\n",
       "      <td>NaN</td>\n",
       "      <td>this is kind of similar to some of the other v...</td>\n",
       "      <td>12.0</td>\n",
       "    </tr>\n",
       "  </tbody>\n",
       "</table>\n",
       "</div>"
      ],
      "text/plain": [
       "                   name      id  minutes  contributor_id   submitted  n_steps  \\\n",
       "76    neezy peazy lunch   24760       35           29291  2002-04-08      NaN   \n",
       "183     3 pepper quiche  311313       75          186802  2008-07-02      NaN   \n",
       "337  addictive chex mix  277562       21          260464  2008-01-08      NaN   \n",
       "\n",
       "                                           description  n_ingredients  \n",
       "76   this is a great meal eaten the same day ,but e...            6.0  \n",
       "183  this was adapted from a recipe i found on the ...           13.0  \n",
       "337  this is kind of similar to some of the other v...           12.0  "
      ]
     },
     "execution_count": 35,
     "metadata": {},
     "output_type": "execute_result"
    }
   ],
   "source": [
    "pattern = r'^this[\\w _]*, ?but'\n",
    "mask = recipes['description'].str.contains(pattern)\n",
    "by_pattern = recipes[mask.fillna(False)]\n",
    "print(len(by_pattern))\n",
    "print(by_pattern.head(3)['description'].values)\n",
    "by_pattern.head(3)"
   ]
  },
  {
   "attachments": {},
   "cell_type": "markdown",
   "metadata": {},
   "source": [
    "---\n",
    "5. В текстах шагов рецептов обыкновенные дроби имеют вид \"a / b\". Используя регулярные выражения, уберите в тексте шагов рецепта с id 72367 пробелы до и после символа дроби. Выведите на экран шаги этого рецепта после их изменения."
   ]
  },
  {
   "cell_type": "code",
   "execution_count": 59,
   "metadata": {},
   "outputs": [
    {
     "name": "stdout",
     "output_type": "stream",
     "text": [
      "mix butter , flour , 1/3 c\n",
      "sugar and 1-1/4 t\n",
      "vanilla\n",
      "press into greased 9\" springform pan\n",
      "mix cream cheese , 1/4 c\n",
      "sugar , eggs and 1/2 t\n",
      "vanilla beating until fluffy\n",
      "pour over dough\n",
      "combine apples , 1/3 c\n",
      "sugar and cinnamon\n",
      "arrange on top of cream cheese mixture and sprinkle with almonds\n",
      "bake at 350 for 45-55 minutes , or until tester comes out clean\n"
     ]
    }
   ],
   "source": [
    "new = []\n",
    "for step in steps['72367']:\n",
    "    new.append(re.sub(r'(\\d+) / (\\d+)', r'\\1/\\2', step))\n",
    "steps['72367'] = new\n",
    "print(*steps['72367'], sep='\\n')\n"
   ]
  },
  {
   "attachments": {},
   "cell_type": "markdown",
   "metadata": {},
   "source": [
    "---\n",
    "## Сегментация текста"
   ]
  },
  {
   "attachments": {},
   "cell_type": "markdown",
   "metadata": {},
   "source": [
    "---\n",
    "6. Разбейте тексты шагов рецептов на слова при помощи пакета nltk. Посчитайте и выведите на экран кол-во уникальных слов среди всех рецептов. Словом называется любая последовательность алфавитных символов(для проверки можно воспользоваться str.isalpha). При подсчете количества уникальных слов не учитывайте регистр.\n"
   ]
  },
  {
   "cell_type": "code",
   "execution_count": 73,
   "metadata": {},
   "outputs": [
    {
     "name": "stdout",
     "output_type": "stream",
     "text": [
      "14926\n"
     ]
    }
   ],
   "source": [
    "import nltk\n",
    "\n",
    "words = set()\n",
    "for recipe in steps.values():\n",
    "    for step in recipe:\n",
    "        for word in filter(str.isalpha, nltk.word_tokenize(step.lower())):\n",
    "            words.add(word)\n",
    "\n",
    "print(len(words))\n"
   ]
  },
  {
   "attachments": {},
   "cell_type": "markdown",
   "metadata": {},
   "source": [
    "---\n",
    "7. Разбейте описания рецептов из recipes на предложения при помощи пакета nltk. Найдите 5 самых длинных описаний(по количеству предложений) рецептов в датасете и выведите строки фрейма, соответствующие этим рецептами, в порядке убывания длины.\n"
   ]
  },
  {
   "cell_type": "code",
   "execution_count": 98,
   "metadata": {},
   "outputs": [
    {
     "data": {
      "text/html": [
       "<div>\n",
       "<style scoped>\n",
       "    .dataframe tbody tr th:only-of-type {\n",
       "        vertical-align: middle;\n",
       "    }\n",
       "\n",
       "    .dataframe tbody tr th {\n",
       "        vertical-align: top;\n",
       "    }\n",
       "\n",
       "    .dataframe thead th {\n",
       "        text-align: right;\n",
       "    }\n",
       "</style>\n",
       "<table border=\"1\" class=\"dataframe\">\n",
       "  <thead>\n",
       "    <tr style=\"text-align: right;\">\n",
       "      <th></th>\n",
       "      <th>name</th>\n",
       "      <th>id</th>\n",
       "      <th>minutes</th>\n",
       "      <th>contributor_id</th>\n",
       "      <th>submitted</th>\n",
       "      <th>n_steps</th>\n",
       "      <th>description</th>\n",
       "      <th>n_ingredients</th>\n",
       "    </tr>\n",
       "  </thead>\n",
       "  <tbody>\n",
       "    <tr>\n",
       "      <th>22090</th>\n",
       "      <td>rainforest trail mix</td>\n",
       "      <td>431047</td>\n",
       "      <td>3</td>\n",
       "      <td>542159</td>\n",
       "      <td>2010-06-26</td>\n",
       "      <td>3.0</td>\n",
       "      <td>a nice quick snack to keep on hand. also a goo...</td>\n",
       "      <td>7.0</td>\n",
       "    </tr>\n",
       "    <tr>\n",
       "      <th>14999</th>\n",
       "      <td>jicama mango salad with mozzarella   chilies</td>\n",
       "      <td>81253</td>\n",
       "      <td>15</td>\n",
       "      <td>4470</td>\n",
       "      <td>2004-01-16</td>\n",
       "      <td>2.0</td>\n",
       "      <td>jicama salads are so refreshing and crunchy. w...</td>\n",
       "      <td>9.0</td>\n",
       "    </tr>\n",
       "    <tr>\n",
       "      <th>19831</th>\n",
       "      <td>paprika pork chops</td>\n",
       "      <td>517573</td>\n",
       "      <td>40</td>\n",
       "      <td>204024</td>\n",
       "      <td>2014-07-31</td>\n",
       "      <td>12.0</td>\n",
       "      <td>recipe from ruscuisine.com</td>\n",
       "      <td>NaN</td>\n",
       "    </tr>\n",
       "    <tr>\n",
       "      <th>19830</th>\n",
       "      <td>paprika oven roasted potatoes</td>\n",
       "      <td>185101</td>\n",
       "      <td>40</td>\n",
       "      <td>53932</td>\n",
       "      <td>2006-09-07</td>\n",
       "      <td>18.0</td>\n",
       "      <td>from everybody's san francisco cookbook.</td>\n",
       "      <td>NaN</td>\n",
       "    </tr>\n",
       "    <tr>\n",
       "      <th>19828</th>\n",
       "      <td>paprika chicken in yoghurt</td>\n",
       "      <td>12082</td>\n",
       "      <td>50</td>\n",
       "      <td>16140</td>\n",
       "      <td>2001-09-25</td>\n",
       "      <td>NaN</td>\n",
       "      <td>a simple chicken dish lovely for a midweek sup...</td>\n",
       "      <td>NaN</td>\n",
       "    </tr>\n",
       "  </tbody>\n",
       "</table>\n",
       "</div>"
      ],
      "text/plain": [
       "                                               name      id  minutes  \\\n",
       "22090                          rainforest trail mix  431047        3   \n",
       "14999  jicama mango salad with mozzarella   chilies   81253       15   \n",
       "19831                            paprika pork chops  517573       40   \n",
       "19830                 paprika oven roasted potatoes  185101       40   \n",
       "19828                    paprika chicken in yoghurt   12082       50   \n",
       "\n",
       "       contributor_id   submitted  n_steps  \\\n",
       "22090          542159  2010-06-26      3.0   \n",
       "14999            4470  2004-01-16      2.0   \n",
       "19831          204024  2014-07-31     12.0   \n",
       "19830           53932  2006-09-07     18.0   \n",
       "19828           16140  2001-09-25      NaN   \n",
       "\n",
       "                                             description  n_ingredients  \n",
       "22090  a nice quick snack to keep on hand. also a goo...            7.0  \n",
       "14999  jicama salads are so refreshing and crunchy. w...            9.0  \n",
       "19831                         recipe from ruscuisine.com            NaN  \n",
       "19830           from everybody's san francisco cookbook.            NaN  \n",
       "19828  a simple chicken dish lovely for a midweek sup...            NaN  "
      ]
     },
     "execution_count": 98,
     "metadata": {},
     "output_type": "execute_result"
    }
   ],
   "source": [
    "def f(data):\n",
    "    data = str(data)\n",
    "    if not data:\n",
    "        return 0\n",
    "    return len(nltk.sent_tokenize(data))\n",
    "\n",
    "\n",
    "mask = np.argsort(recipes['description'].apply(f)[::-1])\n",
    "recipes.loc[mask.values].head(5)\n"
   ]
  },
  {
   "attachments": {},
   "cell_type": "markdown",
   "metadata": {},
   "source": [
    "---\n",
    "8. Напишите функцию, которая для заданного предложения выводит информацию о частях речи слов, входящих в предложение, в следующем виде:\n",
    "```\n",
    "PRP   VBD   DT      NNS     CC   VBD      NNS        RB   \n",
    " I  omitted the raspberries and added strawberries instead\n",
    "```\n",
    "Для определения части речи слова можно воспользоваться nltk.pos_tag.\n",
    "\n",
    "Проверьте работоспособность функции на названии рецепта с id 241106.\n",
    "\n",
    "Обратите внимание, что часть речи должна находиться ровно посередине над соотвествующим словом, а между самими словами должен быть ровно один пробел."
   ]
  },
  {
   "cell_type": "code",
   "execution_count": 107,
   "metadata": {},
   "outputs": [
    {
     "name": "stdout",
     "output_type": "stream",
     "text": [
      "   JJ      NNS   IN     NNS     VBP   JJ    CC   JJ    NNS  \n",
      "eggplant steaks with chickpeas feta cheese and black olives \n"
     ]
    }
   ],
   "source": [
    "def parts_of_speech(sent):\n",
    "    r1 = ''\n",
    "    r2 = ''\n",
    "    # for word in sent.split():\n",
    "    for word, ps in nltk.pos_tag(sent.split()):\n",
    "        r2 += word + ' '\n",
    "        r1 += f'{ps:^{len(word)+1}}'\n",
    "    print(r1)\n",
    "    print(r2)\n",
    "\n",
    "parts_of_speech(recipes[recipes['id'] == 241106].name.values[0])\n"
   ]
  }
 ],
 "metadata": {
  "kernelspec": {
   "display_name": "Python 3",
   "language": "python",
   "name": "python3"
  },
  "language_info": {
   "codemirror_mode": {
    "name": "ipython",
    "version": 3
   },
   "file_extension": ".py",
   "mimetype": "text/x-python",
   "name": "python",
   "nbconvert_exporter": "python",
   "pygments_lexer": "ipython3",
   "version": "3.11.0"
  },
  "orig_nbformat": 4
 },
 "nbformat": 4,
 "nbformat_minor": 2
}
