{
 "cells": [
  {
   "cell_type": "code",
   "execution_count": 1,
   "metadata": {
    "id": "940CtajTPd24"
   },
   "outputs": [],
   "source": [
    "import pandas as pd\n",
    "from line_profiler import LineProfiler\n",
    "import numpy as np\n",
    "from numba import jit"
   ]
  },
  {
   "attachments": {},
   "cell_type": "markdown",
   "metadata": {
    "id": "050ydm9wO_9f"
   },
   "source": [
    "1. В файлах recipes_short.csv и reviews_short.csv находится информация об рецептах блюд и отзывах на эти рецепты соответственно. Загрузите данные из файлов в виде pd.DataFrame с названиями recipes и reviews. Обратите внимание на корректное считывание столбца(ов) с индексами. Приведите столбцы к нужным типам.\n"
   ]
  },
  {
   "cell_type": "code",
   "execution_count": 2,
   "metadata": {
    "colab": {
     "base_uri": "https://localhost:8080/",
     "height": 455
    },
    "id": "WKs0Rq09OdjS",
    "outputId": "ef3a1477-4a48-493e-af4d-ece224830f0d"
   },
   "outputs": [],
   "source": [
    "recipes = pd.read_csv('recipes_sample.csv')\n",
    "reviews = pd.read_csv('reviews_sample.csv')\n",
    "reviews.rename(columns={'Unnamed: 0': 'id'}, inplace=True)\n",
    "reviews = reviews.set_index('id')"
   ]
  },
  {
   "attachments": {},
   "cell_type": "markdown",
   "metadata": {
    "id": "loIC38j4PX3g"
   },
   "source": [
    "2. Реализуйте несколько вариантов функции подсчета среднего значения столбца rating из таблицы reviews для отзывов, оставленных в 2010 году.\n",
    "\n",
    "-   С использованием метода DataFrame.iterrows и без использования срезов таблицы\n",
    "-   С использованием метода DataFrame.iterrows и с использованием срезов таблицы\n",
    "-   С использованием метода DataFrame.mean\n",
    "\n",
    "Проверьте, что результаты работы всех написанных функций корректны и совпадают. Измерьте выполнения всех вариантов.\n"
   ]
  },
  {
   "cell_type": "code",
   "execution_count": 19,
   "metadata": {
    "id": "phCBi50BPXkP"
   },
   "outputs": [
    {
     "data": {
      "text/plain": [
       "4.4544402182900615"
      ]
     },
     "execution_count": 19,
     "metadata": {},
     "output_type": "execute_result"
    }
   ],
   "source": [
    "def method1():\n",
    "    data = reviews[((reviews['date'] >= \"2010-01-01\") &\n",
    "                     (reviews['date'] < \"2011-01-01\"))]\n",
    "    s = 0\n",
    "    a = 0\n",
    "    for _, row in data.iterrows():\n",
    "        s += row['rating']\n",
    "        a += 1\n",
    "    return s/a\n",
    "\n",
    "\n",
    "method1()"
   ]
  },
  {
   "cell_type": "code",
   "execution_count": 17,
   "metadata": {
    "id": "DjoigV7SX-0I"
   },
   "outputs": [
    {
     "data": {
      "text/plain": [
       "4.4544402182900615"
      ]
     },
     "execution_count": 17,
     "metadata": {},
     "output_type": "execute_result"
    }
   ],
   "source": [
    "def method2():\n",
    "    total = 0\n",
    "    amount = 0\n",
    "    for _, row in reviews.iterrows():\n",
    "        if row['date'] >= \"2010-01-01\" and row['date'] < \"2011-01-01\":\n",
    "            total += row['rating']\n",
    "            amount += 1\n",
    "    return total/amount\n",
    "\n",
    "method2()"
   ]
  },
  {
   "cell_type": "code",
   "execution_count": 18,
   "metadata": {
    "id": "L_9dZjcAaOMl"
   },
   "outputs": [
    {
     "data": {
      "text/plain": [
       "4.4544402182900615"
      ]
     },
     "execution_count": 18,
     "metadata": {},
     "output_type": "execute_result"
    }
   ],
   "source": [
    "def method3():\n",
    "    data = reviews[((reviews['date'] >= \"2010-01-01\") &\n",
    "                     (reviews['date'] < \"2011-01-01\"))]\n",
    "    return data['rating'].mean()\n",
    "\n",
    "\n",
    "method3()"
   ]
  },
  {
   "attachments": {},
   "cell_type": "markdown",
   "metadata": {
    "id": "ZtZjfGDpbsCz"
   },
   "source": [
    "3. Какая из созданных функций выполняется медленнее? Что наиболее сильно влияет на скорость выполнения? Для ответа использовать профайлер line_profiler. Сохраните результаты работы профайлера в отдельную текстовую ячейку и прокомментируйте результаты его работы.\n",
    "   (\\*). Сможете ли вы ускорить работу функции 2В?\n"
   ]
  },
  {
   "cell_type": "code",
   "execution_count": 12,
   "metadata": {
    "colab": {
     "base_uri": "https://localhost:8080/"
    },
    "id": "agP2tvska6HN",
    "outputId": "01851323-1385-47f7-dc27-732682a7699a"
   },
   "outputs": [
    {
     "name": "stdout",
     "output_type": "stream",
     "text": [
      "Timer unit: 1e-07 s\n",
      "\n",
      "Total time: 1.81433 s\n",
      "\n",
      "Could not find file C:\\Users\\DaSh-More\\AppData\\Local\\Temp\\ipykernel_5304\\1541004323.py\n",
      "Are you sure you are running this program from the same directory\n",
      "that you ran the profiler from?\n",
      "Continuing without the function's contents.\n",
      "\n",
      "Line #      Hits         Time  Per Hit   % Time  Line Contents\n",
      "==============================================================\n",
      "     1                                           \n",
      "     2                                           \n",
      "     3         1      62400.0  62400.0      0.3  \n",
      "     4         1      55411.0  55411.0      0.3  \n",
      "     5         1          4.0      4.0      0.0  \n",
      "     6         1          2.0      2.0      0.0  \n",
      "     7     12094   15696059.0   1297.8     86.5  \n",
      "     8     12094    2276528.0    188.2     12.5  \n",
      "     9     12094      52926.0      4.4      0.3  \n",
      "    10         1          7.0      7.0      0.0  \n",
      "\n",
      "Total time: 0.0135256 s\n",
      "\n",
      "Could not find file C:\\Users\\DaSh-More\\AppData\\Local\\Temp\\ipykernel_5304\\2857053116.py\n",
      "Are you sure you are running this program from the same directory\n",
      "that you ran the profiler from?\n",
      "Continuing without the function's contents.\n",
      "\n",
      "Line #      Hits         Time  Per Hit   % Time  Line Contents\n",
      "==============================================================\n",
      "     1                                           \n",
      "     2         1      70438.0  70438.0     52.1  \n",
      "     3         1      59959.0  59959.0     44.3  \n",
      "     4         1       4859.0   4859.0      3.6  \n",
      "\n",
      "Total time: 20.3464 s\n",
      "\n",
      "Could not find file C:\\Users\\DaSh-More\\AppData\\Local\\Temp\\ipykernel_5304\\3606248909.py\n",
      "Are you sure you are running this program from the same directory\n",
      "that you ran the profiler from?\n",
      "Continuing without the function's contents.\n",
      "\n",
      "Line #      Hits         Time  Per Hit   % Time  Line Contents\n",
      "==============================================================\n",
      "     1                                           \n",
      "     2         1          7.0      7.0      0.0  \n",
      "     3         1          3.0      3.0      0.0  \n",
      "     4    126696  173037085.0   1365.8     85.0  \n",
      "     5                                           \n",
      "     6    114602   28101542.0    245.2     13.8  \n",
      "     7    114602     385905.0      3.4      0.2  \n",
      "     8     12094    1812290.0    149.9      0.9  \n",
      "     9     12094      74095.0      6.1      0.0  \n",
      "    10     12094      52918.0      4.4      0.0  \n",
      "    11         1          9.0      9.0      0.0  \n",
      "\n"
     ]
    }
   ],
   "source": [
    "lp = LineProfiler()\n",
    "lp(method1)()\n",
    "lp(method2)()\n",
    "lp(method3)()\n",
    "lp.print_stats()\n"
   ]
  },
  {
   "attachments": {},
   "cell_type": "markdown",
   "metadata": {
    "id": "nOy_Et-meMSY"
   },
   "source": [
    "Самый медленный способ - тот который проверяет уловие каждый раз, быстрее, тот который единожды проверив условие считает нужное значение, т.к. фильтрация большого объема данных быстрее делается не по отдельности, а сразу, ну и самый быстрый метод - через встроенную функцию, т.к. библиотека по максимуму использует вычислительные способности компьютера не делая лишних действий"
   ]
  },
  {
   "attachments": {},
   "cell_type": "markdown",
   "metadata": {
    "id": "mQCyd09WfXuk"
   },
   "source": [
    "---\n",
    "4. Вам предлагается воспользоваться функцией, которая собирает информацию, сколько отзывов содержат то или иное слово. Измерьте время выполнения этой функции. Сможете ли вы найти узкие места в коде, используя профайлер? Выпишите (словами), что в имеющемся коде реализовано неоптимально. Оптимизируйте функцию и добейтесь значительного прироста в скорости выполнения.\n"
   ]
  },
  {
   "cell_type": "code",
   "execution_count": 21,
   "metadata": {
    "id": "Fv6K9tnpd8ow"
   },
   "outputs": [
    {
     "name": "stdout",
     "output_type": "stream",
     "text": [
      "Timer unit: 1e-07 s\n",
      "\n",
      "Total time: 6.06589 s\n",
      "\n",
      "Could not find file C:\\Users\\DaSh-More\\AppData\\Local\\Temp\\ipykernel_5304\\3917346224.py\n",
      "Are you sure you are running this program from the same directory\n",
      "that you ran the profiler from?\n",
      "Continuing without the function's contents.\n",
      "\n",
      "Line #      Hits         Time  Per Hit   % Time  Line Contents\n",
      "==============================================================\n",
      "     1                                           \n",
      "     2         1        449.0    449.0      0.0  \n",
      "     3         1     192317.0 192317.0      0.3  \n",
      "     4         1          6.0      6.0      0.0  \n",
      "     5    126696    1109036.0      8.8      1.8  \n",
      "     6   7063215   28376903.0      4.0     46.8  \n",
      "     7   6957574   29887717.0      4.3     49.3  \n",
      "     8    105641     577949.0      5.5      1.0  \n",
      "     9    105641     514469.0      4.9      0.8  \n",
      "    10         1          8.0      8.0      0.0  \n",
      "\n"
     ]
    }
   ],
   "source": [
    "def count_words(word):\n",
    "    data = reviews['review']\n",
    "    i = 0\n",
    "    for review in data.fillna(''):\n",
    "        for word_r in review:\n",
    "            if word_r == word:\n",
    "                i += 1\n",
    "                break\n",
    "    return i\n",
    "\n",
    "\n",
    "lp = LineProfiler()\n",
    "lp(count_words)('I')\n",
    "lp.print_stats()\n"
   ]
  },
  {
   "attachments": {},
   "cell_type": "markdown",
   "metadata": {
    "id": "KfLF_6argpKl"
   },
   "source": [
    "Не оптимизировано прохождение по списку, из за двух вложенных `for` проходищих по огромному списку мы получаем очень медленную функцию"
   ]
  },
  {
   "cell_type": "code",
   "execution_count": 3,
   "metadata": {
    "id": "Fm-8dBk3fvGO"
   },
   "outputs": [],
   "source": [
    "def count_words_opt(word):\n",
    "    task = reviews\n",
    "    return task['review'].str.contains('I', na=False).sum()"
   ]
  },
  {
   "cell_type": "code",
   "execution_count": 8,
   "metadata": {},
   "outputs": [
    {
     "name": "stdout",
     "output_type": "stream",
     "text": [
      "Timer unit: 1e-07 s\n",
      "\n",
      "Total time: 0.171287 s\n",
      "\n",
      "Could not find file C:\\Users\\DaSh-More\\AppData\\Local\\Temp\\ipykernel_7592\\1954451170.py\n",
      "Are you sure you are running this program from the same directory\n",
      "that you ran the profiler from?\n",
      "Continuing without the function's contents.\n",
      "\n",
      "Line #      Hits         Time  Per Hit   % Time  Line Contents\n",
      "==============================================================\n",
      "     1                                           \n",
      "     2         1          7.0      7.0      0.0  \n",
      "     3         1    1712866.0 1712866.0    100.0  \n",
      "\n"
     ]
    }
   ],
   "source": [
    "lp = LineProfiler()\n",
    "lp(count_words_opt)('I')\n",
    "\n",
    "lp.print_stats()"
   ]
  },
  {
   "attachments": {},
   "cell_type": "markdown",
   "metadata": {
    "id": "Rp1IsXM0jk22"
   },
   "source": [
    "---\n",
    "5. Напишите несколько версий функции MAPE (см. MAPE) для расчета среднего процентного отклонения значения рейтинга для отзыва от среднего значения рейтинга для этого отзыва.\n",
    "\n",
    "1)  Без использования массивов numpy и numba\n",
    "2)  Без использования массивов numpy, но с использованием numba\n",
    "3)  С использованием массивов numpy, но без использования numba\n",
    "4)  C использованием массивов numpy и numba\n",
    "    Измерьте время выполнения каждой из реализаций.\n",
    "\n",
    "Замечание: удалите из выборки отзывы с нулевым рейтингом.\n"
   ]
  },
  {
   "cell_type": "code",
   "execution_count": 12,
   "metadata": {},
   "outputs": [
    {
     "name": "stdout",
     "output_type": "stream",
     "text": [
      "48.8 ms ± 3.32 ms per loop (mean ± std. dev. of 7 runs, 10 loops each)\n"
     ]
    }
   ],
   "source": [
    "def mape(ratings):\n",
    "    m = sum(ratings)/len(ratings)\n",
    "    s = [abs(rat - m) for rat in ratings]\n",
    "    return 100*sum(s)/len(s)\n",
    "\n",
    "%timeit mape(reviews['rating'])"
   ]
  },
  {
   "cell_type": "code",
   "execution_count": 13,
   "metadata": {},
   "outputs": [
    {
     "name": "stderr",
     "output_type": "stream",
     "text": [
      "C:\\Users\\DaSh-More\\AppData\\Local\\Temp\\ipykernel_12500\\3408752179.py:1: NumbaDeprecationWarning: \u001b[1mThe 'nopython' keyword argument was not supplied to the 'numba.jit' decorator. The implicit default value for this argument is currently False, but it will be changed to True in Numba 0.59.0. See https://numba.readthedocs.io/en/stable/reference/deprecation.html#deprecation-of-object-mode-fall-back-behaviour-when-using-jit for details.\u001b[0m\n",
      "  mape_with_numba = jit(mape)\n",
      "C:\\Users\\DaSh-More\\AppData\\Local\\Temp\\ipykernel_12500\\1283778772.py:1: NumbaWarning: \u001b[1m\n",
      "Compilation is falling back to object mode WITH looplifting enabled because Function \"mape\" failed type inference due to: \u001b[1m\u001b[1mnon-precise type pyobject\u001b[0m\n",
      "\u001b[0m\u001b[1mDuring: typing of argument at C:\\Users\\DaSh-More\\AppData\\Local\\Temp\\ipykernel_12500\\1283778772.py (1)\u001b[0m\n",
      "\u001b[1m\n",
      "File \"C:\\Users\\DaSh-More\\AppData\\Local\\Temp\\ipykernel_12500\\1283778772.py\", line 1:\u001b[0m\n",
      "\u001b[1m\u001b[1mdef mape(ratings):\n",
      "\u001b[0m\u001b[1m^\u001b[0m\u001b[0m\n",
      "\u001b[0m\n",
      "  def mape(ratings):\n",
      "c:\\Programs\\Python\\Python311\\Lib\\site-packages\\numba\\core\\object_mode_passes.py:151: NumbaWarning: \u001b[1mFunction \"mape\" was compiled in object mode without forceobj=True.\n",
      "\u001b[1m\n",
      "File \"C:\\Users\\DaSh-More\\AppData\\Local\\Temp\\ipykernel_12500\\1283778772.py\", line 1:\u001b[0m\n",
      "\u001b[1m\u001b[1mdef mape(ratings):\n",
      "\u001b[0m\u001b[1m^\u001b[0m\u001b[0m\n",
      "\u001b[0m\n",
      "  warnings.warn(errors.NumbaWarning(warn_msg,\n",
      "c:\\Programs\\Python\\Python311\\Lib\\site-packages\\numba\\core\\object_mode_passes.py:161: NumbaDeprecationWarning: \u001b[1m\n",
      "Fall-back from the nopython compilation path to the object mode compilation path has been detected. This is deprecated behaviour that will be removed in Numba 0.59.0.\n",
      "\n",
      "For more information visit https://numba.readthedocs.io/en/stable/reference/deprecation.html#deprecation-of-object-mode-fall-back-behaviour-when-using-jit\n",
      "\u001b[1m\n",
      "File \"C:\\Users\\DaSh-More\\AppData\\Local\\Temp\\ipykernel_12500\\1283778772.py\", line 1:\u001b[0m\n",
      "\u001b[1m\u001b[1mdef mape(ratings):\n",
      "\u001b[0m\u001b[1m^\u001b[0m\u001b[0m\n",
      "\u001b[0m\n",
      "  warnings.warn(errors.NumbaDeprecationWarning(msg,\n"
     ]
    },
    {
     "name": "stdout",
     "output_type": "stream",
     "text": [
      "108 ms ± 30.1 ms per loop (mean ± std. dev. of 7 runs, 1 loop each)\n"
     ]
    }
   ],
   "source": [
    "mape_with_numba = jit(mape)\n",
    "\n",
    "%timeit mape_with_numba(reviews['rating'])\n"
   ]
  },
  {
   "cell_type": "code",
   "execution_count": 14,
   "metadata": {},
   "outputs": [
    {
     "name": "stdout",
     "output_type": "stream",
     "text": [
      "830 µs ± 135 µs per loop (mean ± std. dev. of 7 runs, 1,000 loops each)\n"
     ]
    }
   ],
   "source": [
    "def mape_np(ratings):\n",
    "    ratings = np.array(ratings)\n",
    "    return 100*abs(ratings - ratings.mean()).mean()\n",
    "\n",
    "\n",
    "%timeit mape_np(reviews['rating'])\n"
   ]
  },
  {
   "cell_type": "code",
   "execution_count": 16,
   "metadata": {},
   "outputs": [
    {
     "name": "stderr",
     "output_type": "stream",
     "text": [
      "C:\\Users\\DaSh-More\\AppData\\Local\\Temp\\ipykernel_12500\\680963382.py:1: NumbaDeprecationWarning: \u001b[1mThe 'nopython' keyword argument was not supplied to the 'numba.jit' decorator. The implicit default value for this argument is currently False, but it will be changed to True in Numba 0.59.0. See https://numba.readthedocs.io/en/stable/reference/deprecation.html#deprecation-of-object-mode-fall-back-behaviour-when-using-jit for details.\u001b[0m\n",
      "  mape_np_with_numba = jit(mape_np)\n"
     ]
    },
    {
     "name": "stdout",
     "output_type": "stream",
     "text": [
      "985 µs ± 167 µs per loop (mean ± std. dev. of 7 runs, 1,000 loops each)\n"
     ]
    }
   ],
   "source": [
    "mape_np_with_numba = jit(mape_np)\n",
    "\n",
    "%timeit mape4(reviews['rating'])\n"
   ]
  }
 ],
 "metadata": {
  "colab": {
   "provenance": []
  },
  "kernelspec": {
   "display_name": "Python 3 (ipykernel)",
   "language": "python",
   "name": "python3"
  },
  "language_info": {
   "codemirror_mode": {
    "name": "ipython",
    "version": 3
   },
   "file_extension": ".py",
   "mimetype": "text/x-python",
   "name": "python",
   "nbconvert_exporter": "python",
   "pygments_lexer": "ipython3",
   "version": "3.11.0"
  }
 },
 "nbformat": 4,
 "nbformat_minor": 4
}
