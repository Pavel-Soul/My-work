{
  "nbformat": 4,
  "nbformat_minor": 0,
  "metadata": {
    "colab": {
      "provenance": []
    },
    "kernelspec": {
      "name": "python3",
      "display_name": "Python 3"
    },
    "language_info": {
      "name": "python"
    }
  },
  "cells": [
    {
      "cell_type": "code",
      "execution_count": null,
      "metadata": {
        "id": "d5UIsm3GIvIq",
        "outputId": "f819898b-d211-4eae-84a6-046e61df5807",
        "colab": {
          "base_uri": "https://localhost:8080/"
        }
      },
      "outputs": [
        {
          "output_type": "stream",
          "name": "stdout",
          "text": [
            "pygame 2.5.0 (SDL 2.28.0, Python 3.10.12)\n",
            "Hello from the pygame community. https://www.pygame.org/contribute.html\n"
          ]
        }
      ],
      "source": [
        "import pygame\n",
        "\n",
        "pygame.init()\n",
        "\n",
        "size = (800, 600)\n",
        "\n",
        "screen = pygame.display.set_mode(size)\n",
        "\n",
        "pygame.display.set_caption(\"Шашки\")\n",
        "\n",
        "BLACK = (0, 0, 0)\n",
        "WHITE = (255, 255, 255)\n",
        "RED = (255, 0, 0)\n",
        "\n",
        "width = height = 50\n",
        "\n",
        "rows = cols = 8\n",
        "\n",
        "board = [\n",
        "    [0, 1, 0, 1, 0, 1, 0, 1],\n",
        "    [1, 0, 1, 0, 1, 0, 1, 0],\n",
        "    [0, 1, 0, 1, 0, 1, 0, 1],\n",
        "    [0, 0, 0, 0, 0, 0, 0, 0],\n",
        "    [0, 0, 0, 0, 0, 0, 0, 0],\n",
        "    [2, 0, 2, 0, 2, 0, 2, 0],\n",
        "    [0, 2, 0, 2, 0, 2, 0, 2],\n",
        "    [2, 0, 2, 0, 2, 0, 2, 0]\n",
        "]\n",
        "\n",
        "# Определяем функцию для отрисовки доски\n",
        "def draw_board():\n",
        "    for row in range(rows):\n",
        "        for col in range(cols):\n",
        "            x = col * width\n",
        "            y = row * height\n",
        "            if (row + col) % 2 == 0:\n",
        "                pygame.draw.rect(screen, WHITE, [x, y, width, height])\n",
        "            else:\n",
        "                pygame.draw.rect(screen, BLACK, [x, y, width, height])\n",
        "            if board[row][col] == 1:\n",
        "                pygame.draw.circle(screen, RED, [x + width // 2, y + height // 2], width // 2 - 5)\n",
        "            elif board[row][col] == 2:\n",
        "                pygame.draw.circle(screen, WHITE, [x + width // 2, y + height // 2], width // 2 - 5)\n",
        "\n",
        "def handle_events():\n",
        "    for event in pygame.event.get():\n",
        "        if event.type == pygame.QUIT:\n",
        "            pygame.quit()\n",
        "            quit()\n",
        "\n",
        "def run_game():\n",
        "    while True:\n",
        "        handle_events()\n",
        "        draw_board()\n",
        "        pygame.display.update()\n",
        "\n",
        "run_game()"
      ]
    },
    {
      "cell_type": "code",
      "source": [
        "\n",
        "BOARD_SIZE = 8\n",
        "\n",
        "class Board:\n",
        "    def __init__(self):\n",
        "        self.grid = [['-'] * BOARD_SIZE for _ in range(BOARD_SIZE)]\n",
        "        for i in range(BOARD_SIZE):\n",
        "            for j in range(BOARD_SIZE):\n",
        "                if (i+j)%2 == 0:\n",
        "                    if i < 3:\n",
        "                        self.grid[i][j] = 'O'\n",
        "                    elif i > 4:\n",
        "                        self.grid[i][j] = 'X'\n",
        "\n",
        "    def print_board(self):\n",
        "        print('   '+' '.join(str(i) for i in range(1, BOARD_SIZE+1)))\n",
        "        for i in range(BOARD_SIZE):\n",
        "            print(i+1, end='  ')\n",
        "            for j in range(BOARD_SIZE):\n",
        "                print(self.grid[i][j], end=' ')\n",
        "            print()\n",
        "\n",
        "class Game:\n",
        "    def __init__(self):\n",
        "        self.board = Board()\n",
        "\n",
        "    def play(self):\n",
        "        player = 1\n",
        "        while True:\n",
        "            print(f'Player {player} turn')\n",
        "            self.board.print_board()\n",
        "            row, col = map(int, input('Enter the location of the piece: ').split())\n",
        "            row_dest, col_dest = map(int, input('Enter the destination location: ').split())\n",
        "            # TODO: проверка корректности хода\n",
        "            self.board.grid[row-1][col-1] = '-'\n",
        "            self.board.grid[row_dest-1][col_dest-1] = 'O' if player == 1 else 'X'\n",
        "            player = 2 if player == 1 else 1\n",
        "\n",
        "game = Game()\n",
        "game.play()"
      ],
      "metadata": {
        "id": "6_GZYc62MTGv"
      },
      "execution_count": null,
      "outputs": []
    }
  ]
}