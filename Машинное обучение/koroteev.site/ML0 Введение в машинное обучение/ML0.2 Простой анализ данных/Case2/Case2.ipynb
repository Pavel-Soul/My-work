{
 "cells": [
  {
   "cell_type": "code",
   "execution_count": 1,
   "metadata": {},
   "outputs": [],
   "source": [
    "import pandas as pd\n",
    "from matplotlib import pyplot as plt\n",
    "import numpy as np"
   ]
  },
  {
   "cell_type": "markdown",
   "metadata": {},
   "source": [
    "1. Загрузите данные по вариантам в ноутбук.\n"
   ]
  },
  {
   "cell_type": "code",
   "execution_count": 2,
   "metadata": {},
   "outputs": [
    {
     "data": {
      "text/html": [
       "<div>\n",
       "<style scoped>\n",
       "    .dataframe tbody tr th:only-of-type {\n",
       "        vertical-align: middle;\n",
       "    }\n",
       "\n",
       "    .dataframe tbody tr th {\n",
       "        vertical-align: top;\n",
       "    }\n",
       "\n",
       "    .dataframe thead th {\n",
       "        text-align: right;\n",
       "    }\n",
       "</style>\n",
       "<table border=\"1\" class=\"dataframe\">\n",
       "  <thead>\n",
       "    <tr style=\"text-align: right;\">\n",
       "      <th></th>\n",
       "      <th>№ школы</th>\n",
       "      <th>Класс</th>\n",
       "      <th>Пол</th>\n",
       "      <th>Номер варианта</th>\n",
       "      <th>Задания с кратким ответом</th>\n",
       "      <th>Задания с развёрнутым ответом</th>\n",
       "      <th>Устная часть</th>\n",
       "      <th>Первичный балл</th>\n",
       "      <th>Балл</th>\n",
       "      <th>Минимальный балл</th>\n",
       "    </tr>\n",
       "    <tr>\n",
       "      <th>№</th>\n",
       "      <th></th>\n",
       "      <th></th>\n",
       "      <th></th>\n",
       "      <th></th>\n",
       "      <th></th>\n",
       "      <th></th>\n",
       "      <th></th>\n",
       "      <th></th>\n",
       "      <th></th>\n",
       "      <th></th>\n",
       "    </tr>\n",
       "  </thead>\n",
       "  <tbody>\n",
       "    <tr>\n",
       "      <th>1.0</th>\n",
       "      <td>124.0</td>\n",
       "      <td>11</td>\n",
       "      <td>Ж</td>\n",
       "      <td>341.0</td>\n",
       "      <td>------+-----</td>\n",
       "      <td>0(2)0(2)0(2)0(3)0(3)0(4)0(4)</td>\n",
       "      <td>NaN</td>\n",
       "      <td>1.0</td>\n",
       "      <td>5.0</td>\n",
       "      <td>27.0</td>\n",
       "    </tr>\n",
       "    <tr>\n",
       "      <th>2.0</th>\n",
       "      <td>128.0</td>\n",
       "      <td>11</td>\n",
       "      <td>Ж</td>\n",
       "      <td>345.0</td>\n",
       "      <td>-+----------</td>\n",
       "      <td>0(2)0(2)0(2)0(3)0(3)0(4)0(4)</td>\n",
       "      <td>NaN</td>\n",
       "      <td>1.0</td>\n",
       "      <td>5.0</td>\n",
       "      <td>27.0</td>\n",
       "    </tr>\n",
       "    <tr>\n",
       "      <th>3.0</th>\n",
       "      <td>132.0</td>\n",
       "      <td>11</td>\n",
       "      <td>Ж</td>\n",
       "      <td>340.0</td>\n",
       "      <td>-+----------</td>\n",
       "      <td>0(2)0(2)0(2)0(3)0(3)0(4)0(4)</td>\n",
       "      <td>NaN</td>\n",
       "      <td>1.0</td>\n",
       "      <td>5.0</td>\n",
       "      <td>27.0</td>\n",
       "    </tr>\n",
       "    <tr>\n",
       "      <th>4.0</th>\n",
       "      <td>134.0</td>\n",
       "      <td>11</td>\n",
       "      <td>Ж</td>\n",
       "      <td>339.0</td>\n",
       "      <td>-+----------</td>\n",
       "      <td>0(2)0(2)0(2)0(3)0(3)0(4)0(4)</td>\n",
       "      <td>NaN</td>\n",
       "      <td>1.0</td>\n",
       "      <td>5.0</td>\n",
       "      <td>27.0</td>\n",
       "    </tr>\n",
       "    <tr>\n",
       "      <th>5.0</th>\n",
       "      <td>136.0</td>\n",
       "      <td>11</td>\n",
       "      <td>Ж</td>\n",
       "      <td>348.0</td>\n",
       "      <td>--------+---</td>\n",
       "      <td>0(2)0(2)0(2)0(3)0(3)0(4)0(4)</td>\n",
       "      <td>NaN</td>\n",
       "      <td>1.0</td>\n",
       "      <td>5.0</td>\n",
       "      <td>27.0</td>\n",
       "    </tr>\n",
       "    <tr>\n",
       "      <th>...</th>\n",
       "      <td>...</td>\n",
       "      <td>...</td>\n",
       "      <td>...</td>\n",
       "      <td>...</td>\n",
       "      <td>...</td>\n",
       "      <td>...</td>\n",
       "      <td>...</td>\n",
       "      <td>...</td>\n",
       "      <td>...</td>\n",
       "      <td>...</td>\n",
       "    </tr>\n",
       "    <tr>\n",
       "      <th>2352.0</th>\n",
       "      <td>136.0</td>\n",
       "      <td>11</td>\n",
       "      <td>М</td>\n",
       "      <td>337.0</td>\n",
       "      <td>++++++++++++</td>\n",
       "      <td>2(2)2(2)2(2)3(3)3(3)0(4)1(4)</td>\n",
       "      <td>NaN</td>\n",
       "      <td>25.0</td>\n",
       "      <td>92.0</td>\n",
       "      <td>27.0</td>\n",
       "    </tr>\n",
       "    <tr>\n",
       "      <th>2353.0</th>\n",
       "      <td>136.0</td>\n",
       "      <td>11</td>\n",
       "      <td>М</td>\n",
       "      <td>341.0</td>\n",
       "      <td>++-+++++++++</td>\n",
       "      <td>2(2)2(2)1(2)2(3)2(3)4(4)1(4)</td>\n",
       "      <td>NaN</td>\n",
       "      <td>25.0</td>\n",
       "      <td>92.0</td>\n",
       "      <td>27.0</td>\n",
       "    </tr>\n",
       "    <tr>\n",
       "      <th>2354.0</th>\n",
       "      <td>136.0</td>\n",
       "      <td>11</td>\n",
       "      <td>М</td>\n",
       "      <td>341.0</td>\n",
       "      <td>++++++++++++</td>\n",
       "      <td>2(2)1(2)2(2)1(3)3(3)4(4)2(4)</td>\n",
       "      <td>NaN</td>\n",
       "      <td>27.0</td>\n",
       "      <td>96.0</td>\n",
       "      <td>27.0</td>\n",
       "    </tr>\n",
       "    <tr>\n",
       "      <th>2355.0</th>\n",
       "      <td>136.0</td>\n",
       "      <td>11</td>\n",
       "      <td>М</td>\n",
       "      <td>343.0</td>\n",
       "      <td>++++++++++++</td>\n",
       "      <td>2(2)2(2)2(2)0(3)3(3)4(4)2(4)</td>\n",
       "      <td>NaN</td>\n",
       "      <td>27.0</td>\n",
       "      <td>96.0</td>\n",
       "      <td>27.0</td>\n",
       "    </tr>\n",
       "    <tr>\n",
       "      <th>2356.0</th>\n",
       "      <td>136.0</td>\n",
       "      <td>11</td>\n",
       "      <td>Ж</td>\n",
       "      <td>337.0</td>\n",
       "      <td>++++++++++++</td>\n",
       "      <td>2(2)2(2)2(2)0(3)3(3)4(4)2(4)</td>\n",
       "      <td>NaN</td>\n",
       "      <td>27.0</td>\n",
       "      <td>96.0</td>\n",
       "      <td>27.0</td>\n",
       "    </tr>\n",
       "  </tbody>\n",
       "</table>\n",
       "<p>2356 rows × 10 columns</p>\n",
       "</div>"
      ],
      "text/plain": [
       "        № школы Класс Пол  Номер варианта Задания с кратким ответом  \\\n",
       "№                                                                     \n",
       "1.0       124.0    11   Ж           341.0              ------+-----   \n",
       "2.0       128.0    11   Ж           345.0              -+----------   \n",
       "3.0       132.0    11   Ж           340.0              -+----------   \n",
       "4.0       134.0    11   Ж           339.0              -+----------   \n",
       "5.0       136.0    11   Ж           348.0              --------+---   \n",
       "...         ...   ...  ..             ...                       ...   \n",
       "2352.0    136.0    11   М           337.0              ++++++++++++   \n",
       "2353.0    136.0    11   М           341.0              ++-+++++++++   \n",
       "2354.0    136.0    11   М           341.0              ++++++++++++   \n",
       "2355.0    136.0    11   М           343.0              ++++++++++++   \n",
       "2356.0    136.0    11   Ж           337.0              ++++++++++++   \n",
       "\n",
       "       Задания с развёрнутым ответом Устная часть  Первичный балл  Балл  \\\n",
       "№                                                                         \n",
       "1.0     0(2)0(2)0(2)0(3)0(3)0(4)0(4)          NaN             1.0   5.0   \n",
       "2.0     0(2)0(2)0(2)0(3)0(3)0(4)0(4)          NaN             1.0   5.0   \n",
       "3.0     0(2)0(2)0(2)0(3)0(3)0(4)0(4)          NaN             1.0   5.0   \n",
       "4.0     0(2)0(2)0(2)0(3)0(3)0(4)0(4)          NaN             1.0   5.0   \n",
       "5.0     0(2)0(2)0(2)0(3)0(3)0(4)0(4)          NaN             1.0   5.0   \n",
       "...                              ...          ...             ...   ...   \n",
       "2352.0  2(2)2(2)2(2)3(3)3(3)0(4)1(4)          NaN            25.0  92.0   \n",
       "2353.0  2(2)2(2)1(2)2(3)2(3)4(4)1(4)          NaN            25.0  92.0   \n",
       "2354.0  2(2)1(2)2(2)1(3)3(3)4(4)2(4)          NaN            27.0  96.0   \n",
       "2355.0  2(2)2(2)2(2)0(3)3(3)4(4)2(4)          NaN            27.0  96.0   \n",
       "2356.0  2(2)2(2)2(2)0(3)3(3)4(4)2(4)          NaN            27.0  96.0   \n",
       "\n",
       "        Минимальный балл  \n",
       "№                         \n",
       "1.0                 27.0  \n",
       "2.0                 27.0  \n",
       "3.0                 27.0  \n",
       "4.0                 27.0  \n",
       "5.0                 27.0  \n",
       "...                  ...  \n",
       "2352.0              27.0  \n",
       "2353.0              27.0  \n",
       "2354.0              27.0  \n",
       "2355.0              27.0  \n",
       "2356.0              27.0  \n",
       "\n",
       "[2356 rows x 10 columns]"
      ]
     },
     "execution_count": 2,
     "metadata": {},
     "output_type": "execute_result"
    }
   ],
   "source": [
    "# Загружаем вариант, заголовками берем третью строку, первый столбец берем как индексы\n",
    "table = pd.read_excel(\"Вариант 2.xlsx\", header=2, index_col=0)\n",
    "# Удаляем строку содержащую итоговые данные\n",
    "table = table.drop(table.index[-1])\n",
    "table\n"
   ]
  },
  {
   "cell_type": "code",
   "execution_count": 8,
   "metadata": {},
   "outputs": [
    {
     "data": {
      "text/plain": [
       "10.5"
      ]
     },
     "execution_count": 8,
     "metadata": {},
     "output_type": "execute_result"
    }
   ],
   "source": [
    "from math import factorial\n",
    "def C(n, k):\n",
    "    return factorial(n)/factorial(k)/factorial(n-k)\n",
    "sum([sum(C(t, i)*i/2**t for i in range(1, t+1)) for t in range(1, 7)])"
   ]
  },
  {
   "cell_type": "code",
   "execution_count": 19,
   "metadata": {},
   "outputs": [],
   "source": [
    "import numpy as np\n",
    "from random import randint\n",
    "data = [np.random.randint(0, 2, randint(1, 6)).sum() for _ in range(1000000)]"
   ]
  },
  {
   "cell_type": "code",
   "execution_count": 21,
   "metadata": {},
   "outputs": [
    {
     "data": {
      "text/plain": [
       "1.751329"
      ]
     },
     "execution_count": 21,
     "metadata": {},
     "output_type": "execute_result"
    }
   ],
   "source": [
    "np.array(data).mean()"
   ]
  },
  {
   "cell_type": "code",
   "execution_count": null,
   "metadata": {},
   "outputs": [],
   "source": []
  },
  {
   "cell_type": "markdown",
   "metadata": {},
   "source": [
    "2. Сделайте описательную статистику полученных данных.\n"
   ]
  },
  {
   "cell_type": "code",
   "execution_count": 3,
   "metadata": {},
   "outputs": [
    {
     "data": {
      "text/html": [
       "<div>\n",
       "<style scoped>\n",
       "    .dataframe tbody tr th:only-of-type {\n",
       "        vertical-align: middle;\n",
       "    }\n",
       "\n",
       "    .dataframe tbody tr th {\n",
       "        vertical-align: top;\n",
       "    }\n",
       "\n",
       "    .dataframe thead th {\n",
       "        text-align: right;\n",
       "    }\n",
       "</style>\n",
       "<table border=\"1\" class=\"dataframe\">\n",
       "  <thead>\n",
       "    <tr style=\"text-align: right;\">\n",
       "      <th></th>\n",
       "      <th>№ школы</th>\n",
       "      <th>Номер варианта</th>\n",
       "      <th>Первичный балл</th>\n",
       "      <th>Балл</th>\n",
       "      <th>Минимальный балл</th>\n",
       "    </tr>\n",
       "  </thead>\n",
       "  <tbody>\n",
       "    <tr>\n",
       "      <th>count</th>\n",
       "      <td>2356.000000</td>\n",
       "      <td>2356.000000</td>\n",
       "      <td>2356.000000</td>\n",
       "      <td>2356.000000</td>\n",
       "      <td>2356.0</td>\n",
       "    </tr>\n",
       "    <tr>\n",
       "      <th>mean</th>\n",
       "      <td>132.005518</td>\n",
       "      <td>338.273769</td>\n",
       "      <td>10.123939</td>\n",
       "      <td>49.255093</td>\n",
       "      <td>27.0</td>\n",
       "    </tr>\n",
       "    <tr>\n",
       "      <th>std</th>\n",
       "      <td>5.037984</td>\n",
       "      <td>53.660878</td>\n",
       "      <td>3.820484</td>\n",
       "      <td>17.880420</td>\n",
       "      <td>0.0</td>\n",
       "    </tr>\n",
       "    <tr>\n",
       "      <th>min</th>\n",
       "      <td>121.000000</td>\n",
       "      <td>101.000000</td>\n",
       "      <td>1.000000</td>\n",
       "      <td>5.000000</td>\n",
       "      <td>27.0</td>\n",
       "    </tr>\n",
       "    <tr>\n",
       "      <th>25%</th>\n",
       "      <td>127.000000</td>\n",
       "      <td>339.000000</td>\n",
       "      <td>7.000000</td>\n",
       "      <td>33.000000</td>\n",
       "      <td>27.0</td>\n",
       "    </tr>\n",
       "    <tr>\n",
       "      <th>50%</th>\n",
       "      <td>135.000000</td>\n",
       "      <td>342.500000</td>\n",
       "      <td>10.000000</td>\n",
       "      <td>50.000000</td>\n",
       "      <td>27.0</td>\n",
       "    </tr>\n",
       "    <tr>\n",
       "      <th>75%</th>\n",
       "      <td>136.000000</td>\n",
       "      <td>346.000000</td>\n",
       "      <td>13.000000</td>\n",
       "      <td>68.000000</td>\n",
       "      <td>27.0</td>\n",
       "    </tr>\n",
       "    <tr>\n",
       "      <th>max</th>\n",
       "      <td>137.000000</td>\n",
       "      <td>506.000000</td>\n",
       "      <td>27.000000</td>\n",
       "      <td>96.000000</td>\n",
       "      <td>27.0</td>\n",
       "    </tr>\n",
       "  </tbody>\n",
       "</table>\n",
       "</div>"
      ],
      "text/plain": [
       "           № школы  Номер варианта  Первичный балл         Балл  \\\n",
       "count  2356.000000     2356.000000     2356.000000  2356.000000   \n",
       "mean    132.005518      338.273769       10.123939    49.255093   \n",
       "std       5.037984       53.660878        3.820484    17.880420   \n",
       "min     121.000000      101.000000        1.000000     5.000000   \n",
       "25%     127.000000      339.000000        7.000000    33.000000   \n",
       "50%     135.000000      342.500000       10.000000    50.000000   \n",
       "75%     136.000000      346.000000       13.000000    68.000000   \n",
       "max     137.000000      506.000000       27.000000    96.000000   \n",
       "\n",
       "       Минимальный балл  \n",
       "count            2356.0  \n",
       "mean               27.0  \n",
       "std                 0.0  \n",
       "min                27.0  \n",
       "25%                27.0  \n",
       "50%                27.0  \n",
       "75%                27.0  \n",
       "max                27.0  "
      ]
     },
     "execution_count": 3,
     "metadata": {},
     "output_type": "execute_result"
    }
   ],
   "source": [
    "table.describe()\n"
   ]
  },
  {
   "cell_type": "markdown",
   "metadata": {},
   "source": [
    "3. Найдите процент учащихся, выполнивших работу ниже среднего.\n"
   ]
  },
  {
   "cell_type": "code",
   "execution_count": 4,
   "metadata": {},
   "outputs": [
    {
     "data": {
      "text/plain": [
       "'48.005%'"
      ]
     },
     "execution_count": 4,
     "metadata": {},
     "output_type": "execute_result"
    }
   ],
   "source": [
    "# Для каждой строки указываем меньше ли балл чем средний, считаем количество True через сумму\n",
    "le = (table[\"Балл\"] < table[\"Балл\"].mean()).sum()\n",
    "\n",
    "# Переводим в проценты\n",
    "f\"{le / len(table):.3%}\""
   ]
  },
  {
   "cell_type": "markdown",
   "metadata": {},
   "source": [
    "4. Найти процент учащихся не сдавших экзамен.\n"
   ]
  },
  {
   "cell_type": "code",
   "execution_count": 5,
   "metadata": {},
   "outputs": [
    {
     "data": {
      "text/plain": [
       "'9.211%'"
      ]
     },
     "execution_count": 5,
     "metadata": {},
     "output_type": "execute_result"
    }
   ],
   "source": [
    "# Находим стрки где балл меньше минимального\n",
    "lose = (table[\"Балл\"] < table[\"Минимальный балл\"]).sum()\n",
    "\n",
    "f\"{lose / len(table):.3%}\""
   ]
  },
  {
   "cell_type": "markdown",
   "metadata": {},
   "source": [
    "5. Постройте круговую диаграмму, показывающую распределение сдавших и не сдавших экзамен.\n"
   ]
  },
  {
   "cell_type": "code",
   "execution_count": 6,
   "metadata": {},
   "outputs": [
    {
     "data": {
      "image/png": "[encoded data removed]",
      "text/plain": [
       "<Figure size 640x480 with 1 Axes>"
      ]
     },
     "metadata": {},
     "output_type": "display_data"
    }
   ],
   "source": [
    "# Считаем количество не сдавших\n",
    "failed = (table[\"Балл\"] < table[\"Минимальный балл\"]).sum()\n",
    "# Считаем количество сдавших\n",
    "passed = len(table) - failed\n",
    "plt.pie(\n",
    "    [passed, failed],\n",
    "    labels=[\"Сдали\", \"Не сдали\"],\n",
    "    colors=[\"g\", \"r\"],\n",
    ")\n",
    "None"
   ]
  },
  {
   "cell_type": "markdown",
   "metadata": {},
   "source": [
    "6. Постройте ядерную оценку плотности распределению баллов за экзамен.\n"
   ]
  },
  {
   "cell_type": "code",
   "execution_count": 7,
   "metadata": {},
   "outputs": [
    {
     "data": {
      "text/plain": [
       "<Axes: ylabel='Density'>"
      ]
     },
     "execution_count": 7,
     "metadata": {},
     "output_type": "execute_result"
    },
    {
     "data": {
      "image/png": "[encoded data removed]",
      "text/plain": [
       "<Figure size 640x480 with 1 Axes>"
      ]
     },
     "metadata": {},
     "output_type": "display_data"
    }
   ],
   "source": [
    "table[\"Балл\"].plot.kde()"
   ]
  },
  {
   "cell_type": "markdown",
   "metadata": {},
   "source": [
    "7. Найдите процентное соотношение учащихся, сдавших экзамен на «отлично», «хорошо», «удовлетворительно», «неудовлетворительно».\n"
   ]
  },
  {
   "cell_type": "code",
   "execution_count": 8,
   "metadata": {},
   "outputs": [
    {
     "name": "stdout",
     "output_type": "stream",
     "text": [
      "Отлично: 5.730%\n",
      "Хорошо: 35.399%\n",
      "Удовлетворительно: 49.660%\n",
      "Неудовлетворительно: 9.211%\n",
      "\n"
     ]
    }
   ],
   "source": [
    "great = (table[\"Балл\"] > 75).sum()\n",
    "well = (table[\"Балл\"] > 50).sum() - great\n",
    "sat = (table[\"Балл\"] > 25).sum() - great - well\n",
    "unsat = len(table) - great - well - sat\n",
    "good = np.array([great, well, sat, unsat]) / len(table)\n",
    "print(\n",
    "    \"Отлично: {:.3%}\\nХорошо: {:.3%}\\nУдовлетворительно: {:.3%}\\nНеудовлетворительно: {:.3%}\\n\".format(\n",
    "        *good\n",
    "    )\n",
    ")"
   ]
  },
  {
   "cell_type": "markdown",
   "metadata": {},
   "source": [
    "8. Какое процентное соотношение юношей и девушек писало данный экзамен?\n"
   ]
  },
  {
   "cell_type": "code",
   "execution_count": 9,
   "metadata": {},
   "outputs": [
    {
     "name": "stdout",
     "output_type": "stream",
     "text": [
      "Юноши: 47.156%\n",
      "Девушки: 52.844%\n"
     ]
    }
   ],
   "source": [
    "male = (table[\"Пол\"] == \"М\").sum()\n",
    "female = (table[\"Пол\"] == \"Ж\").sum()\n",
    "print(f\"Юноши: {male/len(table):.3%}\\nДевушки: {female/len(table):.3%}\")"
   ]
  },
  {
   "cell_type": "markdown",
   "metadata": {},
   "source": [
    "9. Сколько школ принимало участие в экзамене?\n"
   ]
  },
  {
   "cell_type": "code",
   "execution_count": 10,
   "metadata": {},
   "outputs": [
    {
     "data": {
      "text/plain": [
       "17"
      ]
     },
     "execution_count": 10,
     "metadata": {},
     "output_type": "execute_result"
    }
   ],
   "source": [
    "# Берем уникальные значения из столбца с номрами школ и считаем их кол-во\n",
    "len(table[\"№ школы\"].unique())"
   ]
  },
  {
   "cell_type": "markdown",
   "metadata": {},
   "source": [
    "10. Сколько всего заданий с кратким ответом? С развернутым ответом?\n"
   ]
  },
  {
   "cell_type": "code",
   "execution_count": 11,
   "metadata": {},
   "outputs": [
    {
     "name": "stdout",
     "output_type": "stream",
     "text": [
      "Задания с длинным ответом 7\n",
      "Задания с коротким ответом 12\n"
     ]
    }
   ],
   "source": [
    "# short_ans_count = len(table['Задания с кратким ответом'].iloc[0])\n",
    "long_ans = len(table['Задания с развёрнутым ответом'].iloc[0])//4\n",
    "short_ans = len(table['Задания с кратким ответом'].iloc[0])\n",
    "print(f\"Задания с длинным ответом {long_ans}\\nЗадания с коротким ответом {short_ans}\")"
   ]
  },
  {
   "cell_type": "markdown",
   "metadata": {},
   "source": [
    "11. Пусть задания с кратким ответом будут задания типа В. Соответственно всего по экзамену вопросов класса В: $В_1$, ... $В_к$ Посчитайте процент выполненных и невыполненных заданий по каждому вопросу класса В.\n"
   ]
  },
  {
   "cell_type": "code",
   "execution_count": 12,
   "metadata": {},
   "outputs": [
    {
     "data": {
      "text/html": [
       "<div>\n",
       "<style scoped>\n",
       "    .dataframe tbody tr th:only-of-type {\n",
       "        vertical-align: middle;\n",
       "    }\n",
       "\n",
       "    .dataframe tbody tr th {\n",
       "        vertical-align: top;\n",
       "    }\n",
       "\n",
       "    .dataframe thead th {\n",
       "        text-align: right;\n",
       "    }\n",
       "</style>\n",
       "<table border=\"1\" class=\"dataframe\">\n",
       "  <thead>\n",
       "    <tr style=\"text-align: right;\">\n",
       "      <th></th>\n",
       "      <th>0</th>\n",
       "      <th>1</th>\n",
       "      <th>2</th>\n",
       "      <th>3</th>\n",
       "      <th>4</th>\n",
       "      <th>5</th>\n",
       "      <th>6</th>\n",
       "      <th>7</th>\n",
       "      <th>8</th>\n",
       "      <th>9</th>\n",
       "      <th>10</th>\n",
       "      <th>11</th>\n",
       "    </tr>\n",
       "  </thead>\n",
       "  <tbody>\n",
       "    <tr>\n",
       "      <th>0</th>\n",
       "      <td>-</td>\n",
       "      <td>-</td>\n",
       "      <td>-</td>\n",
       "      <td>-</td>\n",
       "      <td>-</td>\n",
       "      <td>-</td>\n",
       "      <td>+</td>\n",
       "      <td>-</td>\n",
       "      <td>-</td>\n",
       "      <td>-</td>\n",
       "      <td>-</td>\n",
       "      <td>-</td>\n",
       "    </tr>\n",
       "    <tr>\n",
       "      <th>1</th>\n",
       "      <td>-</td>\n",
       "      <td>+</td>\n",
       "      <td>-</td>\n",
       "      <td>-</td>\n",
       "      <td>-</td>\n",
       "      <td>-</td>\n",
       "      <td>-</td>\n",
       "      <td>-</td>\n",
       "      <td>-</td>\n",
       "      <td>-</td>\n",
       "      <td>-</td>\n",
       "      <td>-</td>\n",
       "    </tr>\n",
       "    <tr>\n",
       "      <th>2</th>\n",
       "      <td>-</td>\n",
       "      <td>+</td>\n",
       "      <td>-</td>\n",
       "      <td>-</td>\n",
       "      <td>-</td>\n",
       "      <td>-</td>\n",
       "      <td>-</td>\n",
       "      <td>-</td>\n",
       "      <td>-</td>\n",
       "      <td>-</td>\n",
       "      <td>-</td>\n",
       "      <td>-</td>\n",
       "    </tr>\n",
       "    <tr>\n",
       "      <th>3</th>\n",
       "      <td>-</td>\n",
       "      <td>+</td>\n",
       "      <td>-</td>\n",
       "      <td>-</td>\n",
       "      <td>-</td>\n",
       "      <td>-</td>\n",
       "      <td>-</td>\n",
       "      <td>-</td>\n",
       "      <td>-</td>\n",
       "      <td>-</td>\n",
       "      <td>-</td>\n",
       "      <td>-</td>\n",
       "    </tr>\n",
       "    <tr>\n",
       "      <th>4</th>\n",
       "      <td>-</td>\n",
       "      <td>-</td>\n",
       "      <td>-</td>\n",
       "      <td>-</td>\n",
       "      <td>-</td>\n",
       "      <td>-</td>\n",
       "      <td>-</td>\n",
       "      <td>-</td>\n",
       "      <td>+</td>\n",
       "      <td>-</td>\n",
       "      <td>-</td>\n",
       "      <td>-</td>\n",
       "    </tr>\n",
       "    <tr>\n",
       "      <th>...</th>\n",
       "      <td>...</td>\n",
       "      <td>...</td>\n",
       "      <td>...</td>\n",
       "      <td>...</td>\n",
       "      <td>...</td>\n",
       "      <td>...</td>\n",
       "      <td>...</td>\n",
       "      <td>...</td>\n",
       "      <td>...</td>\n",
       "      <td>...</td>\n",
       "      <td>...</td>\n",
       "      <td>...</td>\n",
       "    </tr>\n",
       "    <tr>\n",
       "      <th>2351</th>\n",
       "      <td>+</td>\n",
       "      <td>+</td>\n",
       "      <td>+</td>\n",
       "      <td>+</td>\n",
       "      <td>+</td>\n",
       "      <td>+</td>\n",
       "      <td>+</td>\n",
       "      <td>+</td>\n",
       "      <td>+</td>\n",
       "      <td>+</td>\n",
       "      <td>+</td>\n",
       "      <td>+</td>\n",
       "    </tr>\n",
       "    <tr>\n",
       "      <th>2352</th>\n",
       "      <td>+</td>\n",
       "      <td>+</td>\n",
       "      <td>-</td>\n",
       "      <td>+</td>\n",
       "      <td>+</td>\n",
       "      <td>+</td>\n",
       "      <td>+</td>\n",
       "      <td>+</td>\n",
       "      <td>+</td>\n",
       "      <td>+</td>\n",
       "      <td>+</td>\n",
       "      <td>+</td>\n",
       "    </tr>\n",
       "    <tr>\n",
       "      <th>2353</th>\n",
       "      <td>+</td>\n",
       "      <td>+</td>\n",
       "      <td>+</td>\n",
       "      <td>+</td>\n",
       "      <td>+</td>\n",
       "      <td>+</td>\n",
       "      <td>+</td>\n",
       "      <td>+</td>\n",
       "      <td>+</td>\n",
       "      <td>+</td>\n",
       "      <td>+</td>\n",
       "      <td>+</td>\n",
       "    </tr>\n",
       "    <tr>\n",
       "      <th>2354</th>\n",
       "      <td>+</td>\n",
       "      <td>+</td>\n",
       "      <td>+</td>\n",
       "      <td>+</td>\n",
       "      <td>+</td>\n",
       "      <td>+</td>\n",
       "      <td>+</td>\n",
       "      <td>+</td>\n",
       "      <td>+</td>\n",
       "      <td>+</td>\n",
       "      <td>+</td>\n",
       "      <td>+</td>\n",
       "    </tr>\n",
       "    <tr>\n",
       "      <th>2355</th>\n",
       "      <td>+</td>\n",
       "      <td>+</td>\n",
       "      <td>+</td>\n",
       "      <td>+</td>\n",
       "      <td>+</td>\n",
       "      <td>+</td>\n",
       "      <td>+</td>\n",
       "      <td>+</td>\n",
       "      <td>+</td>\n",
       "      <td>+</td>\n",
       "      <td>+</td>\n",
       "      <td>+</td>\n",
       "    </tr>\n",
       "  </tbody>\n",
       "</table>\n",
       "<p>2356 rows × 12 columns</p>\n",
       "</div>"
      ],
      "text/plain": [
       "     0  1  2  3  4  5  6  7  8  9  10 11\n",
       "0     -  -  -  -  -  -  +  -  -  -  -  -\n",
       "1     -  +  -  -  -  -  -  -  -  -  -  -\n",
       "2     -  +  -  -  -  -  -  -  -  -  -  -\n",
       "3     -  +  -  -  -  -  -  -  -  -  -  -\n",
       "4     -  -  -  -  -  -  -  -  +  -  -  -\n",
       "...  .. .. .. .. .. .. .. .. .. .. .. ..\n",
       "2351  +  +  +  +  +  +  +  +  +  +  +  +\n",
       "2352  +  +  -  +  +  +  +  +  +  +  +  +\n",
       "2353  +  +  +  +  +  +  +  +  +  +  +  +\n",
       "2354  +  +  +  +  +  +  +  +  +  +  +  +\n",
       "2355  +  +  +  +  +  +  +  +  +  +  +  +\n",
       "\n",
       "[2356 rows x 12 columns]"
      ]
     },
     "execution_count": 12,
     "metadata": {},
     "output_type": "execute_result"
    }
   ],
   "source": [
    "typeB = pd.DataFrame([*table['Задания с кратким ответом'].map(list).values])\n",
    "typeB"
   ]
  },
  {
   "cell_type": "code",
   "execution_count": 13,
   "metadata": {},
   "outputs": [
    {
     "data": {
      "text/plain": [
       "0     89.261%\n",
       "1     95.331%\n",
       "2     92.784%\n",
       "3     91.002%\n",
       "4     88.497%\n",
       "5     73.175%\n",
       "6     37.479%\n",
       "7     47.835%\n",
       "8     91.851%\n",
       "9     71.477%\n",
       "10    59.253%\n",
       "11    46.222%\n",
       "dtype: object"
      ]
     },
     "execution_count": 13,
     "metadata": {},
     "output_type": "execute_result"
    }
   ],
   "source": [
    "# Считаем процент выполненых (+ или 1)\n",
    "(((typeB == \"+\") | (typeB == '1')).sum()/len(typeB)).map(lambda x: f\"{x:.3%}\")"
   ]
  },
  {
   "cell_type": "markdown",
   "metadata": {},
   "source": [
    "12. Аналогично и с типом С (ответы с развернутым ответом)\n"
   ]
  },
  {
   "cell_type": "code",
   "execution_count": 14,
   "metadata": {},
   "outputs": [
    {
     "data": {
      "text/html": [
       "<div>\n",
       "<style scoped>\n",
       "    .dataframe tbody tr th:only-of-type {\n",
       "        vertical-align: middle;\n",
       "    }\n",
       "\n",
       "    .dataframe tbody tr th {\n",
       "        vertical-align: top;\n",
       "    }\n",
       "\n",
       "    .dataframe thead th {\n",
       "        text-align: right;\n",
       "    }\n",
       "</style>\n",
       "<table border=\"1\" class=\"dataframe\">\n",
       "  <thead>\n",
       "    <tr style=\"text-align: right;\">\n",
       "      <th></th>\n",
       "      <th>0</th>\n",
       "      <th>1</th>\n",
       "      <th>2</th>\n",
       "      <th>3</th>\n",
       "      <th>4</th>\n",
       "      <th>5</th>\n",
       "      <th>6</th>\n",
       "    </tr>\n",
       "  </thead>\n",
       "  <tbody>\n",
       "    <tr>\n",
       "      <th>0</th>\n",
       "      <td>0.0</td>\n",
       "      <td>0.0</td>\n",
       "      <td>0.0</td>\n",
       "      <td>0.000000</td>\n",
       "      <td>0.000000</td>\n",
       "      <td>0.0</td>\n",
       "      <td>0.00</td>\n",
       "    </tr>\n",
       "    <tr>\n",
       "      <th>1</th>\n",
       "      <td>0.0</td>\n",
       "      <td>0.0</td>\n",
       "      <td>0.0</td>\n",
       "      <td>0.000000</td>\n",
       "      <td>0.000000</td>\n",
       "      <td>0.0</td>\n",
       "      <td>0.00</td>\n",
       "    </tr>\n",
       "    <tr>\n",
       "      <th>2</th>\n",
       "      <td>0.0</td>\n",
       "      <td>0.0</td>\n",
       "      <td>0.0</td>\n",
       "      <td>0.000000</td>\n",
       "      <td>0.000000</td>\n",
       "      <td>0.0</td>\n",
       "      <td>0.00</td>\n",
       "    </tr>\n",
       "    <tr>\n",
       "      <th>3</th>\n",
       "      <td>0.0</td>\n",
       "      <td>0.0</td>\n",
       "      <td>0.0</td>\n",
       "      <td>0.000000</td>\n",
       "      <td>0.000000</td>\n",
       "      <td>0.0</td>\n",
       "      <td>0.00</td>\n",
       "    </tr>\n",
       "    <tr>\n",
       "      <th>4</th>\n",
       "      <td>0.0</td>\n",
       "      <td>0.0</td>\n",
       "      <td>0.0</td>\n",
       "      <td>0.000000</td>\n",
       "      <td>0.000000</td>\n",
       "      <td>0.0</td>\n",
       "      <td>0.00</td>\n",
       "    </tr>\n",
       "    <tr>\n",
       "      <th>...</th>\n",
       "      <td>...</td>\n",
       "      <td>...</td>\n",
       "      <td>...</td>\n",
       "      <td>...</td>\n",
       "      <td>...</td>\n",
       "      <td>...</td>\n",
       "      <td>...</td>\n",
       "    </tr>\n",
       "    <tr>\n",
       "      <th>2351</th>\n",
       "      <td>1.0</td>\n",
       "      <td>1.0</td>\n",
       "      <td>1.0</td>\n",
       "      <td>1.000000</td>\n",
       "      <td>1.000000</td>\n",
       "      <td>0.0</td>\n",
       "      <td>0.25</td>\n",
       "    </tr>\n",
       "    <tr>\n",
       "      <th>2352</th>\n",
       "      <td>1.0</td>\n",
       "      <td>1.0</td>\n",
       "      <td>0.5</td>\n",
       "      <td>0.666667</td>\n",
       "      <td>0.666667</td>\n",
       "      <td>1.0</td>\n",
       "      <td>0.25</td>\n",
       "    </tr>\n",
       "    <tr>\n",
       "      <th>2353</th>\n",
       "      <td>1.0</td>\n",
       "      <td>0.5</td>\n",
       "      <td>1.0</td>\n",
       "      <td>0.333333</td>\n",
       "      <td>1.000000</td>\n",
       "      <td>1.0</td>\n",
       "      <td>0.50</td>\n",
       "    </tr>\n",
       "    <tr>\n",
       "      <th>2354</th>\n",
       "      <td>1.0</td>\n",
       "      <td>1.0</td>\n",
       "      <td>1.0</td>\n",
       "      <td>0.000000</td>\n",
       "      <td>1.000000</td>\n",
       "      <td>1.0</td>\n",
       "      <td>0.50</td>\n",
       "    </tr>\n",
       "    <tr>\n",
       "      <th>2355</th>\n",
       "      <td>1.0</td>\n",
       "      <td>1.0</td>\n",
       "      <td>1.0</td>\n",
       "      <td>0.000000</td>\n",
       "      <td>1.000000</td>\n",
       "      <td>1.0</td>\n",
       "      <td>0.50</td>\n",
       "    </tr>\n",
       "  </tbody>\n",
       "</table>\n",
       "<p>2356 rows × 7 columns</p>\n",
       "</div>"
      ],
      "text/plain": [
       "        0    1    2         3         4    5     6\n",
       "0     0.0  0.0  0.0  0.000000  0.000000  0.0  0.00\n",
       "1     0.0  0.0  0.0  0.000000  0.000000  0.0  0.00\n",
       "2     0.0  0.0  0.0  0.000000  0.000000  0.0  0.00\n",
       "3     0.0  0.0  0.0  0.000000  0.000000  0.0  0.00\n",
       "4     0.0  0.0  0.0  0.000000  0.000000  0.0  0.00\n",
       "...   ...  ...  ...       ...       ...  ...   ...\n",
       "2351  1.0  1.0  1.0  1.000000  1.000000  0.0  0.25\n",
       "2352  1.0  1.0  0.5  0.666667  0.666667  1.0  0.25\n",
       "2353  1.0  0.5  1.0  0.333333  1.000000  1.0  0.50\n",
       "2354  1.0  1.0  1.0  0.000000  1.000000  1.0  0.50\n",
       "2355  1.0  1.0  1.0  0.000000  1.000000  1.0  0.50\n",
       "\n",
       "[2356 rows x 7 columns]"
      ]
     },
     "execution_count": 14,
     "metadata": {},
     "output_type": "execute_result"
    }
   ],
   "source": [
    "# Берем все задания с развернутым ответом, и приводим к новому датафрейму\n",
    "# Новый датасет содержит данные на сколько выполнено задание\n",
    "\n",
    "def parse_C(value):\n",
    "    a = np.array(list(map(int, value[::4])))\n",
    "    t = np.array(list(map(int, value[2::4])))\n",
    "    return a / t\n",
    "typeC = pd.DataFrame([*table['Задания с развёрнутым ответом'].map(parse_C).values])\n",
    "typeC"
   ]
  },
  {
   "cell_type": "code",
   "execution_count": 15,
   "metadata": {},
   "outputs": [
    {
     "data": {
      "text/plain": [
       "0    26.146%\n",
       "1     7.470%\n",
       "2    12.564%\n",
       "3     0.509%\n",
       "4     1.104%\n",
       "5     0.382%\n",
       "6     0.042%\n",
       "dtype: object"
      ]
     },
     "execution_count": 15,
     "metadata": {},
     "output_type": "execute_result"
    }
   ],
   "source": [
    "# Вычисляем процентное соотношение и выводим в соответствующем виде\n",
    "((typeC == 1).sum()/len(typeC)).map(lambda x: f\"{x:.3%}\")"
   ]
  },
  {
   "cell_type": "markdown",
   "metadata": {},
   "source": [
    "13. Сделайте анализ по двум школам:\n",
    "    1. по всем выполненным заданиям типа В\n",
    "    2. по заданиям типа С больше 50%\n",
    "    3. по среднему баллу юношей и девушек\n"
   ]
  },
  {
   "cell_type": "code",
   "execution_count": 16,
   "metadata": {},
   "outputs": [],
   "source": [
    "school1 = table[table['№ школы'] == table['№ школы'].unique()[0]]\n",
    "school2 = table[table['№ школы'] == table['№ школы'].unique()[1]]"
   ]
  },
  {
   "cell_type": "code",
   "execution_count": 17,
   "metadata": {},
   "outputs": [],
   "source": [
    "def mean_score(df):\n",
    "    # Средний балл юношей и девушек\n",
    "    male = df[df['Пол'] == 'М']['Балл'].mean()\n",
    "    female = df[df['Пол'] == 'Ж']['Балл'].mean()\n",
    "    return male, female"
   ]
  },
  {
   "cell_type": "markdown",
   "metadata": {},
   "source": [
    "## Школа 1"
   ]
  },
  {
   "cell_type": "code",
   "execution_count": 18,
   "metadata": {},
   "outputs": [
    {
     "data": {
      "image/png": "[encoded data removed]",
      "text/plain": [
       "<Figure size 640x480 with 9 Axes>"
      ]
     },
     "metadata": {},
     "output_type": "display_data"
    }
   ],
   "source": [
    "# Смотрим для школы гистограмму решенных C\n",
    "typeC[(table['№ школы'] == table['№ школы'].unique()[0]).values].hist(grid=False)\n",
    "plt.tight_layout()"
   ]
  },
  {
   "cell_type": "code",
   "execution_count": 19,
   "metadata": {},
   "outputs": [
    {
     "data": {
      "text/plain": [
       "<Axes: >"
      ]
     },
     "execution_count": 19,
     "metadata": {},
     "output_type": "execute_result"
    },
    {
     "data": {
      "image/png": "[encoded data removed]",
      "text/plain": [
       "<Figure size 640x480 with 1 Axes>"
      ]
     },
     "metadata": {},
     "output_type": "display_data"
    }
   ],
   "source": [
    "# Количество выполненых заданий B\n",
    "data = typeB[(table['№ школы'] == table['№ школы'].unique()[0]).values]\n",
    "((data == '+') | (data == '1')).sum().plot.bar()"
   ]
  },
  {
   "cell_type": "code",
   "execution_count": 20,
   "metadata": {},
   "outputs": [
    {
     "name": "stdout",
     "output_type": "stream",
     "text": [
      "Средний балл\n",
      "Юношей: 41.083\n",
      "Девушек: 34.174\n"
     ]
    }
   ],
   "source": [
    "# Средний балл среди юношей и девушек\n",
    "print(\"Средний балл\\nЮношей: {:.3f}\\nДевушек: {:.3f}\".format(*mean_score(school1)))"
   ]
  },
  {
   "cell_type": "markdown",
   "metadata": {},
   "source": [
    "## Школа 1"
   ]
  },
  {
   "cell_type": "code",
   "execution_count": 21,
   "metadata": {},
   "outputs": [
    {
     "data": {
      "image/png": "[encoded data removed]",
      "text/plain": [
       "<Figure size 640x480 with 9 Axes>"
      ]
     },
     "metadata": {},
     "output_type": "display_data"
    }
   ],
   "source": [
    "# Смотрим для школы гистограмму решенных C\n",
    "typeC[(table['№ школы'] == table['№ школы'].unique()[1]).values].hist(grid=False)\n",
    "plt.tight_layout()"
   ]
  },
  {
   "cell_type": "code",
   "execution_count": 22,
   "metadata": {},
   "outputs": [
    {
     "data": {
      "text/plain": [
       "<Axes: >"
      ]
     },
     "execution_count": 22,
     "metadata": {},
     "output_type": "execute_result"
    },
    {
     "data": {
      "image/png": "[encoded data removed]",
      "text/plain": [
       "<Figure size 640x480 with 1 Axes>"
      ]
     },
     "metadata": {},
     "output_type": "display_data"
    }
   ],
   "source": [
    "# Количество выполненых заданий B\n",
    "data = typeB[(table['№ школы'] == table['№ школы'].unique()[1]).values]\n",
    "((data == '+') | (data == '1')).sum().plot.bar()"
   ]
  },
  {
   "cell_type": "code",
   "execution_count": 23,
   "metadata": {},
   "outputs": [
    {
     "name": "stdout",
     "output_type": "stream",
     "text": [
      "Средний балл\n",
      "Юношей: 42.889\n",
      "Девушек: 44.926\n"
     ]
    }
   ],
   "source": [
    "# Средний балл среди юношей и девушек\n",
    "print(\"Средний балл\\nЮношей: {:.3f}\\nДевушек: {:.3f}\".format(*mean_score(school2)))"
   ]
  }
 ],
 "metadata": {
  "kernelspec": {
   "display_name": "Python 3",
   "language": "python",
   "name": "python3"
  },
  "language_info": {
   "codemirror_mode": {
    "name": "ipython",
    "version": 3
   },
   "file_extension": ".py",
   "mimetype": "text/x-python",
   "name": "python",
   "nbconvert_exporter": "python",
   "pygments_lexer": "ipython3",
   "version": "3.11.0"
  },
  "orig_nbformat": 4
 },
 "nbformat": 4,
 "nbformat_minor": 2
}
