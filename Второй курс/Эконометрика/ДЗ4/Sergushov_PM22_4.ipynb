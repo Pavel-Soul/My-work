{
  "nbformat": 4,
  "nbformat_minor": 0,
  "metadata": {
    "colab": {
      "provenance": []
    },
    "kernelspec": {
      "name": "python3",
      "display_name": "Python 3"
    },
    "language_info": {
      "name": "python"
    }
  },
  "cells": [
    {
      "cell_type": "code",
      "execution_count": 2,
      "metadata": {
        "colab": {
          "base_uri": "https://localhost:8080/",
          "height": 605
        },
        "id": "0ZynHHz0H0es",
        "outputId": "7f6a969a-bd18-4d52-db77-96df55e8f3cf"
      },
      "outputs": [
        {
          "output_type": "display_data",
          "data": {
            "text/plain": [
              "<Figure size 640x480 with 1 Axes>"
            ],
            "image/png": "[encoded data removed]"
          },
          "metadata": {}
        },
        {
          "output_type": "stream",
          "name": "stdout",
          "text": [
            "Тест Шапиро-Уилка:\n",
            "Статистика теста: 0.9166824221611023\n",
            "p-значение: 0.2596140205860138\n",
            "Тест Jarque-Bera:\n",
            "Статистика теста: 0.8226697525644242\n",
            "p-значение: 0.66276495017215\n",
            "Тест согласия Хельвига:\n",
            "Статистика теста: (0.40985676973547847, 0.28864923774124357)\n",
            "p-значение: 0.28864923774124357\n"
          ]
        }
      ],
      "source": [
        "import numpy as np\n",
        "import statsmodels.api as sm\n",
        "from scipy.stats import shapiro, jarque_bera\n",
        "import matplotlib.pyplot as plt\n",
        "import statsmodels.stats as stats\n",
        "#№2\n",
        "#  данные X (темп прироста зарплаты) и Y (темп прироста безработицы )\n",
        "X = [530.16, 545.98, 552.03, 526.32, 594.75, 557.53, 643.63, 524.82, 447.75, 385.54, 487.23, 632.77]\n",
        "Y = [7.2, 7.2, 7.1, 7.3, 6.5, 8.5, 8.4, 9.2, 9.8, 11.6, 8.8, 7]\n",
        "\n",
        "#  регрессионная модель\n",
        "X = sm.add_constant(X)  # добавляем константу (intercept)\n",
        "model = sm.OLS(Y, X).fit()\n",
        "\n",
        "#  остатки\n",
        "residuals = model.resid\n",
        "\n",
        "# Визуальная оценка нормальности остатков (Q-Q график)\n",
        "sm.qqplot(residuals, line='s')\n",
        "plt.show()\n",
        "\n",
        "# Тест Шапиро-Уилка\n",
        "shapiro_stat, shapiro_p_value = shapiro(residuals)\n",
        "print(\"Тест Шапиро-Уилка:\")\n",
        "print(\"Статистика теста:\", shapiro_stat)\n",
        "print(\"p-значение:\", shapiro_p_value)\n",
        "\n",
        "# Тест Jarque-Bera\n",
        "jarque_bera_stat, jarque_bera_p_value = jarque_bera(residuals)\n",
        "print(\"Тест Jarque-Bera:\")\n",
        "print(\"Статистика теста:\", jarque_bera_stat)\n",
        "print(\"p-значение:\", jarque_bera_p_value)\n",
        "\n",
        "# Тест согласия Хельвига\n",
        "helwig_test = stats.diagnostic.normal_ad(residuals)\n",
        "print(\"Тест согласия Хельвига:\")\n",
        "print(\"Статистика теста:\", helwig_test)\n",
        "print(\"p-значение:\", helwig_test[1])\n"
      ]
    },
    {
      "cell_type": "markdown",
      "source": [
        "Тест Шапиро-Уилка:\n",
        "Статистика теста: 0.9167\n",
        "p-значение: 0.2596\n",
        "Вывод: На уровне значимости 0.05, нулевая гипотеза о нормальности остатков не отвергается. Это говорит о том, что остатки могут быть аппроксимированы нормальным распределением.\n",
        "\n",
        "Тест Jarque-Bera:\n",
        "Статистика теста: 0.8227\n",
        "p-значение: 0.6628\n",
        "Вывод: На уровне значимости 0.05, нулевая гипотеза о нормальности остатков также не отвергается. Это подтверждает предположение, что остатки могут быть близки к нормальному распределению.\n",
        "\n",
        "Тест согласия Хельвига:\n",
        "Статистика теста: 0.4099\n",
        "p-значение: 0.2886\n",
        "Вывод: Анализ тестом согласия Хельвига также не приводит к отвержению нулевой гипотезы о нормальности остатков на уровне значимости 0.05.\n",
        "В целом, все три теста указывают на то, что остатки могут быть аппроксимированы нормальным распределением. Однако следует помнить, что статистические тесты могут иметь ограничения, и результаты могут быть влияны размером выборки и структурой данных"
      ],
      "metadata": {
        "id": "gjBBem1dJdbH"
      }
    },
    {
      "cell_type": "code",
      "source": [
        "import numpy as np\n",
        "from scipy import stats\n",
        "#№1\n",
        "\n",
        "# данные X (темп прироста зарплаты) и Y (темп прироста безработицы)\n",
        "X = np.array([530.16, 545.98, 552.03, 526.32, 594.75, 557.53, 643.63, 524.82, 447.75, 385.54, 487.23, 632.77])\n",
        "Y = np.array([7.2, 7.2, 7.1, 7.3, 6.5, 8.5, 8.4, 9.2, 9.8, 11.6, 8.8, 7])\n",
        "\n",
        "# Тест Jarque-Bera для X\n",
        "jb_stat_X, jb_p_value_X = stats.jarque_bera(X)\n",
        "print(\"Тест Jarque-Bera для X:\")\n",
        "print(\"Статистика теста:\", jb_stat_X)\n",
        "print(\"p-значение:\", jb_p_value_X)\n",
        "\n",
        "# Тест Колмогорова-Смирнова для X\n",
        "ks_stat_X, ks_p_value_X = stats.kstest(X, 'norm')\n",
        "print(\"Тест Колмогорова-Смирнова для X:\")\n",
        "print(\"Статистика теста:\", ks_stat_X)\n",
        "print(\"p-значение:\", ks_p_value_X)\n",
        "\n",
        "# Тест Jarque-Bera для Y\n",
        "jb_stat_Y, jb_p_value_Y = stats.jarque_bera(Y)\n",
        "print(\"Тест Jarque-Bera для Y:\")\n",
        "print(\"Статистика теста:\", jb_stat_Y)\n",
        "print(\"p-значение:\", jb_p_value_Y)\n",
        "\n",
        "# Тест Колмогорова-Смирнова для Y\n",
        "ks_stat_Y, ks_p_value_Y = stats.kstest(Y, 'norm')\n",
        "print(\"Тест Колмогорова-Смирнова для Y:\")\n",
        "print(\"Статистика теста:\", ks_stat_Y)\n",
        "print(\"p-значение:\", ks_p_value_Y)\n"
      ],
      "metadata": {
        "colab": {
          "base_uri": "https://localhost:8080/"
        },
        "id": "rmDiLxdvJfFk",
        "outputId": "5ba5c4b4-fa26-4e88-c8ce-2d5f52be780c"
      },
      "execution_count": 4,
      "outputs": [
        {
          "output_type": "stream",
          "name": "stdout",
          "text": [
            "Тест Jarque-Bera для X:\n",
            "Статистика теста: 0.39775965429500065\n",
            "p-значение: 0.8196483868993811\n",
            "Тест Колмогорова-Смирнова для X:\n",
            "Статистика теста: 1.0\n",
            "p-значение: 0.0\n",
            "Тест Jarque-Bera для Y:\n",
            "Статистика теста: 1.895053696443014\n",
            "p-значение: 0.38769867642692796\n",
            "Тест Колмогорова-Смирнова для Y:\n",
            "Статистика теста: 0.99999999995984\n",
            "p-значение: 3.520081239374115e-125\n"
          ]
        }
      ]
    },
    {
      "cell_type": "markdown",
      "source": [
        "Вывод для данных X:\n",
        "\n",
        "Тест Jarque-Bera не отвергает нулевую гипотезу о нормальности остатков (p-значение > 0.05), что может указывать на то, что данные X могут быть аппроксимированы нормальным распределением.\n",
        "Тест Колмогорова-Смирнова отвергает гипотезу о нормальности данных X (p-значение < 0.05). Этот тест более чувствителен к отклонениям от нормальности.\n",
        "\n",
        "Вывод для данных Y:\n",
        "\n",
        "Тест Jarque-Bera также не отвергает нулевую гипотезу о нормальности остатков (p-значение > 0.05) для данных Y, что может указывать на то, что данные Y могут быть аппроксимированы нормальным распределением.\n",
        "Тест Колмогорова-Смирнова с очень низким p-значением (практически равным нулю) отвергает гипотезу о нормальности данных Y."
      ],
      "metadata": {
        "id": "8JGjN-SBKfSC"
      }
    },
    {
      "cell_type": "code",
      "source": [
        "#№3"
      ],
      "metadata": {
        "id": "UvM085TPJbfe"
      },
      "execution_count": null,
      "outputs": []
    },
    {
      "cell_type": "markdown",
      "source": [
        "Тест Jarque-Bera:\n",
        "\n",
        "Теоретические условия применения:\n",
        "Нулевая гипотеза теста предполагает, что остатки (оценки регрессии или другие) распределены нормально.\n",
        "Остатки должны быть независимыми и одинаково распределенными (нормально распределенными).\n",
        "Тест Jarque-Bera чувствителен к асимметрии (отклонению от симметрии) и эксцессу (коническости) данных.\n",
        "\n",
        "Тест Колмогорова-Смирнова:\n",
        "\n",
        "Теоретические условия применения:\n",
        "Тест Колмогорова-Смирнова используется для проверки гипотезы о соответствии эмпирической функции распределения (ЭФР) теоретической функции распределения (например, нормального распределения).\n",
        "Данные должны быть непрерывными или дискретными (с небольшим числом уникальных значений).\n",
        "Тест особенно чувствителен к форме и параметрам теоретической функции распределения.\n",
        "\n",
        "Тест Шапиро-Уилка:\n",
        "\n",
        "Теоретические условия применения:\n",
        "Нулевая гипотеза теста предполагает, что данные распределены нормально.\n",
        "Тест Шапиро-Уилка предполагает, что данные независимы и одинаково распределены.\n",
        "Этот тест хорошо работает для небольших выборок (обычно до нескольких тысяч наблюдений).\n",
        "\n",
        "Тест согласия Хельвига:\n",
        "\n",
        "Теоретические условия применения:\n",
        "Тест согласия Хельвига используется для проверки нормальности данных и может применяться к различным типам данных.\n",
        "Нулевая гипотеза теста предполагает, что данные распределены нормально.\n",
        "Этот тест не требует особых условий от данных и может применяться для разного размера выборок.\n",
        "\n"
      ],
      "metadata": {
        "id": "DVPpHMVtK3Ic"
      }
    },
    {
      "cell_type": "code",
      "source": [],
      "metadata": {
        "id": "9YFqHoiFK9Jq"
      },
      "execution_count": null,
      "outputs": []
    }
  ]
}