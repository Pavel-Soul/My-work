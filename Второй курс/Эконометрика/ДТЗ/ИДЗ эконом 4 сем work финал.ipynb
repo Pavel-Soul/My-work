{
 "cells": [
  {
   "cell_type": "code",
   "execution_count": 64,
   "id": "f4addcab",
   "metadata": {},
   "outputs": [],
   "source": [
    "import numpy as np\n",
    "import pandas as pd\n",
    "import matplotlib.pyplot as plt\n",
    "import seaborn as sns\n",
    "import statsmodels.api as sm\n",
    "import sympy as sp\n",
    "import statsmodels.stats as sms\n",
    "from linearmodels import IV2SLS, IV3SLS\n",
    "from sklearn.metrics import r2_score"
   ]
  },
  {
   "cell_type": "markdown",
   "id": "209e3355",
   "metadata": {},
   "source": [
    "Были загружены данные о демографической обстановки в Российской Федерации с 1991 года по 2022 год"
   ]
  },
  {
   "cell_type": "code",
   "execution_count": 3,
   "id": "521636e2",
   "metadata": {},
   "outputs": [
    {
     "data": {
      "text/html": [
       "<div>\n",
       "<style scoped>\n",
       "    .dataframe tbody tr th:only-of-type {\n",
       "        vertical-align: middle;\n",
       "    }\n",
       "\n",
       "    .dataframe tbody tr th {\n",
       "        vertical-align: top;\n",
       "    }\n",
       "\n",
       "    .dataframe thead th {\n",
       "        text-align: right;\n",
       "    }\n",
       "</style>\n",
       "<table border=\"1\" class=\"dataframe\">\n",
       "  <thead>\n",
       "    <tr style=\"text-align: right;\">\n",
       "      <th></th>\n",
       "      <th>Браков на 1000 чел</th>\n",
       "      <th>Коэф. Рожд</th>\n",
       "      <th>Коэф. Смерт</th>\n",
       "      <th>Коэф. Миграц</th>\n",
       "      <th>Заболеваемость</th>\n",
       "      <th>удельный вес населения старше трудоспособного возраста</th>\n",
       "      <th>населения в трудоспособном возрасте</th>\n",
       "      <th>численность экономически активного населения</th>\n",
       "      <th>Безработица</th>\n",
       "      <th>Средняя номинальная зарплата</th>\n",
       "      <th>инвестиции в жил</th>\n",
       "      <th>кв м на 1 чел</th>\n",
       "      <th>охват дошкол обр</th>\n",
       "      <th>загрязнение</th>\n",
       "    </tr>\n",
       "  </thead>\n",
       "  <tbody>\n",
       "    <tr>\n",
       "      <th>0</th>\n",
       "      <td>8.6</td>\n",
       "      <td>12.1</td>\n",
       "      <td>11.4</td>\n",
       "      <td>172.2</td>\n",
       "      <td>603.8</td>\n",
       "      <td>16.5</td>\n",
       "      <td>50.70</td>\n",
       "      <td>74145</td>\n",
       "      <td>5.1</td>\n",
       "      <td>0.548</td>\n",
       "      <td>12.249600</td>\n",
       "      <td>16.5</td>\n",
       "      <td>63.9</td>\n",
       "      <td>31801.0</td>\n",
       "    </tr>\n",
       "    <tr>\n",
       "      <th>1</th>\n",
       "      <td>7.1</td>\n",
       "      <td>10.7</td>\n",
       "      <td>12.2</td>\n",
       "      <td>252.9</td>\n",
       "      <td>614.6</td>\n",
       "      <td>17.0</td>\n",
       "      <td>54.67</td>\n",
       "      <td>75060</td>\n",
       "      <td>5.2</td>\n",
       "      <td>6.000</td>\n",
       "      <td>64.051200</td>\n",
       "      <td>16.8</td>\n",
       "      <td>56.8</td>\n",
       "      <td>28207.0</td>\n",
       "    </tr>\n",
       "    <tr>\n",
       "      <th>2</th>\n",
       "      <td>7.5</td>\n",
       "      <td>9.4</td>\n",
       "      <td>14.5</td>\n",
       "      <td>440.3</td>\n",
       "      <td>676.0</td>\n",
       "      <td>17.3</td>\n",
       "      <td>52.46</td>\n",
       "      <td>70740</td>\n",
       "      <td>5.9</td>\n",
       "      <td>58.700</td>\n",
       "      <td>226.041050</td>\n",
       "      <td>17.4</td>\n",
       "      <td>57.4</td>\n",
       "      <td>24788.3</td>\n",
       "    </tr>\n",
       "    <tr>\n",
       "      <th>3</th>\n",
       "      <td>7.4</td>\n",
       "      <td>9.6</td>\n",
       "      <td>15.7</td>\n",
       "      <td>845.7</td>\n",
       "      <td>646.5</td>\n",
       "      <td>17.5</td>\n",
       "      <td>52.05</td>\n",
       "      <td>72332</td>\n",
       "      <td>8.1</td>\n",
       "      <td>220.400</td>\n",
       "      <td>554.930056</td>\n",
       "      <td>17.7</td>\n",
       "      <td>56.2</td>\n",
       "      <td>21929.0</td>\n",
       "    </tr>\n",
       "    <tr>\n",
       "      <th>4</th>\n",
       "      <td>7.3</td>\n",
       "      <td>9.3</td>\n",
       "      <td>15.1</td>\n",
       "      <td>519.5</td>\n",
       "      <td>671.4</td>\n",
       "      <td>17.8</td>\n",
       "      <td>49.23</td>\n",
       "      <td>72421</td>\n",
       "      <td>9.4</td>\n",
       "      <td>472.400</td>\n",
       "      <td>1026.902195</td>\n",
       "      <td>18.1</td>\n",
       "      <td>55.5</td>\n",
       "      <td>21269.6</td>\n",
       "    </tr>\n",
       "  </tbody>\n",
       "</table>\n",
       "</div>"
      ],
      "text/plain": [
       "   Браков на 1000 чел  Коэф. Рожд  Коэф. Смерт  Коэф. Миграц  Заболеваемость   \\\n",
       "0                 8.6        12.1         11.4         172.2            603.8   \n",
       "1                 7.1        10.7         12.2         252.9            614.6   \n",
       "2                 7.5         9.4         14.5         440.3            676.0   \n",
       "3                 7.4         9.6         15.7         845.7            646.5   \n",
       "4                 7.3         9.3         15.1         519.5            671.4   \n",
       "\n",
       "    удельный вес населения старше трудоспособного возраста   \\\n",
       "0                                               16.5          \n",
       "1                                               17.0          \n",
       "2                                               17.3          \n",
       "3                                               17.5          \n",
       "4                                               17.8          \n",
       "\n",
       "   населения в трудоспособном возрасте  \\\n",
       "0                                50.70   \n",
       "1                                54.67   \n",
       "2                                52.46   \n",
       "3                                52.05   \n",
       "4                                49.23   \n",
       "\n",
       "   численность экономически активного населения  Безработица  \\\n",
       "0                                         74145          5.1   \n",
       "1                                         75060          5.2   \n",
       "2                                         70740          5.9   \n",
       "3                                         72332          8.1   \n",
       "4                                         72421          9.4   \n",
       "\n",
       "   Средняя номинальная зарплата  инвестиции в жил  кв м на 1 чел  \\\n",
       "0                         0.548         12.249600           16.5   \n",
       "1                         6.000         64.051200           16.8   \n",
       "2                        58.700        226.041050           17.4   \n",
       "3                       220.400        554.930056           17.7   \n",
       "4                       472.400       1026.902195           18.1   \n",
       "\n",
       "   охват дошкол обр  загрязнение  \n",
       "0              63.9      31801.0  \n",
       "1              56.8      28207.0  \n",
       "2              57.4      24788.3  \n",
       "3              56.2      21929.0  \n",
       "4              55.5      21269.6  "
      ]
     },
     "execution_count": 3,
     "metadata": {},
     "output_type": "execute_result"
    }
   ],
   "source": [
    "data = pd.read_excel('Данные демография экон.xlsx', usecols = range(1, 15))\n",
    "data.head()"
   ]
  },
  {
   "cell_type": "markdown",
   "id": "3698c665",
   "metadata": {},
   "source": [
    "Была построена матрица корреляции для данных и выделены столбцы с экзогенными переменными"
   ]
  },
  {
   "cell_type": "code",
   "execution_count": 4,
   "id": "de19e7aa",
   "metadata": {},
   "outputs": [
    {
     "data": {
      "image/png": "[encoded data removed]",
      "text/plain": [
       "<Figure size 1080x720 with 2 Axes>"
      ]
     },
     "metadata": {
      "needs_background": "light"
     },
     "output_type": "display_data"
    }
   ],
   "source": [
    "plt.figure(figsize = (15, 10))\n",
    "sns.heatmap(np.round(data.corr().iloc[:, :5], 2), annot = True)\n",
    "plt.show()"
   ]
  },
  {
   "cell_type": "code",
   "execution_count": 27,
   "id": "ab3821a9",
   "metadata": {},
   "outputs": [],
   "source": [
    "C = np.linalg.inv(data.corr())\n",
    "k = data.shape[1]\n",
    "par_corr = np.zeros((k, k))\n",
    "for i in range(k):\n",
    "    for j in range(k):\n",
    "        par_corr[i, j] = - C[i, j] / (C[i, i] * C[j, j])**(1/2)\n",
    "par_corr = pd.DataFrame(par_corr, index = data.columns, columns = data.columns)"
   ]
  },
  {
   "cell_type": "markdown",
   "id": "2c03b28c",
   "metadata": {},
   "source": [
    "Была построена матрица частных коэффициентов корреляции"
   ]
  },
  {
   "cell_type": "code",
   "execution_count": 158,
   "id": "c5f7eba2",
   "metadata": {},
   "outputs": [
    {
     "data": {
      "image/png": "[encoded data removed]",
      "text/plain": [
       "<Figure size 1080x720 with 2 Axes>"
      ]
     },
     "metadata": {
      "needs_background": "light"
     },
     "output_type": "display_data"
    }
   ],
   "source": [
    "plt.figure(figsize = (15, 10))\n",
    "sns.heatmap(np.round(par_corr.iloc[:, :5], 2), annot = True)\n",
    "plt.show()"
   ]
  },
  {
   "cell_type": "markdown",
   "id": "51791c2a",
   "metadata": {},
   "source": [
    "# Зависимые (целевые) переменные\n",
    "- **Y1:** Браков на 1000 чел\n",
    "- **Y2:** Коэффициент рождаемости\n",
    "- **Y3:** Коэффициент смертности\n",
    "- **Y4:** Коэффициент миграции\n",
    "- **Y5:** Заболеваемость\n",
    "\n",
    "# Независимые переменные\n",
    "- **X1:** Удельный вес населения старше трудоспособного возраста\n",
    "- **X2:** Население в трудоспособном возрасте\n",
    "- **X3:** Численность экономически активного населения\n",
    "- **X4:** Безработица\n",
    "- **X5:** Средняя номинальная зарплата\n",
    "- **X6:** Инвестиции в жилое строительство\n",
    "- **X7:** Квадратные метры жилья на 1 человека\n",
    "- **X8:** Охват дошкольным образованием\n",
    "- **X9:** Загрязнение окружающей среды"
   ]
  },
  {
   "cell_type": "code",
   "execution_count": 68,
   "id": "420da08f",
   "metadata": {},
   "outputs": [],
   "source": [
    "Y1 = data['Браков на 1000 чел']\n",
    "Y2 = data['Коэф. Рожд']\n",
    "Y3 = data['Коэф. Смерт']\n",
    "Y4 = data['Коэф. Миграц']\n",
    "Y5 = data['Заболеваемость ']\n",
    "X1 = data[' удельный вес населения старше трудоспособного возраста ']\n",
    "X2 = data['населения в трудоспособном возрасте']\n",
    "X3 = data['численность экономически активного населения']\n",
    "X4 = data['Безработица']\n",
    "X5 = data['Средняя номинальная зарплата']\n",
    "X6 = data['инвестиции в жил']\n",
    "X7 = data['кв м на 1 чел']\n",
    "X8 = data['охват дошкол обр']\n",
    "X9 = data['загрязнение']"
   ]
  },
  {
   "cell_type": "markdown",
   "id": "0357536f",
   "metadata": {},
   "source": [
    "На основе данных о корреляции были построены модели линейной регрессии, самые лучшие модели были оставлены"
   ]
  },
  {
   "cell_type": "code",
   "execution_count": 69,
   "id": "fc183714",
   "metadata": {},
   "outputs": [
    {
     "name": "stdout",
     "output_type": "stream",
     "text": [
      "                                 OLS Regression Results                                \n",
      "=======================================================================================\n",
      "Dep. Variable:     Браков на 1000 чел   R-squared (uncentered):                   0.992\n",
      "Model:                            OLS   Adj. R-squared (uncentered):              0.992\n",
      "Method:                 Least Squares   F-statistic:                              1599.\n",
      "Date:                Sun, 26 May 2024   Prob (F-statistic):                    4.17e-27\n",
      "Time:                        21:25:00   Log-Likelihood:                         -27.269\n",
      "No. Observations:                  27   AIC:                                      58.54\n",
      "Df Residuals:                      25   BIC:                                      61.13\n",
      "Df Model:                           2                                                  \n",
      "Covariance Type:            nonrobust                                                  \n",
      "=======================================================================================================\n",
      "                                          coef    std err          t      P>|t|      [0.025      0.975]\n",
      "-------------------------------------------------------------------------------------------------------\n",
      "населения в трудоспособном возрасте     0.1379      0.004     38.401      0.000       0.131       0.145\n",
      "Средняя номинальная зарплата        -2.382e-05   1.13e-05     -2.109      0.045   -4.71e-05   -5.58e-07\n",
      "==============================================================================\n",
      "Omnibus:                        0.708   Durbin-Watson:                   1.216\n",
      "Prob(Omnibus):                  0.702   Jarque-Bera (JB):                0.094\n",
      "Skew:                           0.093   Prob(JB):                        0.954\n",
      "Kurtosis:                       3.221   Cond. No.                         488.\n",
      "==============================================================================\n",
      "\n",
      "Notes:\n",
      "[1] R² is computed without centering (uncentered) since the model does not contain a constant.\n",
      "[2] Standard Errors assume that the covariance matrix of the errors is correctly specified.\n"
     ]
    }
   ],
   "source": [
    "exog1 = pd.concat([X2, X5], axis = 1)\n",
    "ord_model_1 = sm.OLS(Y1[:-5], exog1[:-5]).fit()\n",
    "print(ord_model_1.summary())"
   ]
  },
  {
   "cell_type": "code",
   "execution_count": 70,
   "id": "e781bc3f",
   "metadata": {},
   "outputs": [
    {
     "data": {
      "text/plain": [
       "(8.47479887421053,\n",
       " 0.0036010019542173687,\n",
       " 5.718425684467006,\n",
       " 0.009015495376334044)"
      ]
     },
     "execution_count": 70,
     "metadata": {},
     "output_type": "execute_result"
    }
   ],
   "source": [
    "sms.diagnostic.het_breuschpagan(ord_model_1.resid, exog1[:-5])"
   ]
  },
  {
   "cell_type": "markdown",
   "id": "ae6691d6",
   "metadata": {},
   "source": [
    "Для всех параметров p-value t статистик < 0.05, значит H0 отвергается, следовательно параметры значимы  \n",
    "F статистика больше табличного значения, значит H0 отвергается, следовательно уравнение значимо  \n",
    "p-value теста Харке-Бера > 0.05, значит H0 не отвергается, следовательно остатки распределены нормально  \n",
    "p-value теста Бреуша Пагана < 0.05, значит H0 отвергается, следовательно распределение остатков гетероскедастично    \n",
    "Статистика Дарбина-Уотсона < dl, следовательно наблюдается положительная автокорреляция  "
   ]
  },
  {
   "cell_type": "code",
   "execution_count": 71,
   "id": "8225906d",
   "metadata": {},
   "outputs": [
    {
     "name": "stdout",
     "output_type": "stream",
     "text": [
      "                                 OLS Regression Results                                \n",
      "=======================================================================================\n",
      "Dep. Variable:             Коэф. Рожд   R-squared (uncentered):                   0.995\n",
      "Model:                            OLS   Adj. R-squared (uncentered):              0.995\n",
      "Method:                 Least Squares   F-statistic:                              2474.\n",
      "Date:                Sun, 26 May 2024   Prob (F-statistic):                    1.85e-29\n",
      "Time:                        21:25:02   Log-Likelihood:                         -31.484\n",
      "No. Observations:                  27   AIC:                                      66.97\n",
      "Df Residuals:                      25   BIC:                                      69.56\n",
      "Df Model:                           2                                                  \n",
      "Covariance Type:            nonrobust                                                  \n",
      "=======================================================================================================\n",
      "                                          coef    std err          t      P>|t|      [0.025      0.975]\n",
      "-------------------------------------------------------------------------------------------------------\n",
      "Браков на 1000 чел                      0.4440      0.215      2.061      0.050       0.000       0.888\n",
      "населения в трудоспособном возрасте     0.1335      0.029      4.669      0.000       0.075       0.192\n",
      "==============================================================================\n",
      "Omnibus:                        2.914   Durbin-Watson:                   0.497\n",
      "Prob(Omnibus):                  0.233   Jarque-Bera (JB):                1.474\n",
      "Skew:                           0.222   Prob(JB):                        0.479\n",
      "Kurtosis:                       1.945   Cond. No.                         80.2\n",
      "==============================================================================\n",
      "\n",
      "Notes:\n",
      "[1] R² is computed without centering (uncentered) since the model does not contain a constant.\n",
      "[2] Standard Errors assume that the covariance matrix of the errors is correctly specified.\n"
     ]
    }
   ],
   "source": [
    "exog2 = pd.concat([Y1, X2], axis = 1)\n",
    "ord_model_2 = sm.OLS(Y2[:-5], exog2[:-5]).fit()\n",
    "print(ord_model_2.summary())"
   ]
  },
  {
   "cell_type": "code",
   "execution_count": 72,
   "id": "c50d1eb7",
   "metadata": {},
   "outputs": [
    {
     "data": {
      "text/plain": [
       "(14.272363055947393,\n",
       " 0.0001581702510942693,\n",
       " 14.017098302187797,\n",
       " 8.266090961662476e-05)"
      ]
     },
     "execution_count": 72,
     "metadata": {},
     "output_type": "execute_result"
    }
   ],
   "source": [
    "sms.diagnostic.het_breuschpagan(ord_model_2.resid, exog2[:-5])"
   ]
  },
  {
   "cell_type": "markdown",
   "id": "da08cd32",
   "metadata": {},
   "source": [
    "Для всех параметров p-value t статистик < 0.05, значит H0 отвергается, следовательно параметры значимы  \n",
    "F статистика больше табличного значения, значит H0 отвергается, следовательно уравнение значимо  \n",
    "p-value теста Харке-Бера > 0.05, значит H0 не отвергается, следовательно остатки распределены нормально  \n",
    "p-value теста Бреуша Пагана < 0.05, значит H0 отвергается, следовательно распределение остатков гетероскедастично    \n",
    "Статистика Дарбина-Уотсона < dl, следовательно наблюдается положительная автокорреляция  "
   ]
  },
  {
   "cell_type": "code",
   "execution_count": 73,
   "id": "4c5ef2d7",
   "metadata": {},
   "outputs": [
    {
     "name": "stdout",
     "output_type": "stream",
     "text": [
      "                                 OLS Regression Results                                \n",
      "=======================================================================================\n",
      "Dep. Variable:            Коэф. Смерт   R-squared (uncentered):                   0.996\n",
      "Model:                            OLS   Adj. R-squared (uncentered):              0.996\n",
      "Method:                 Least Squares   F-statistic:                              3532.\n",
      "Date:                Sun, 26 May 2024   Prob (F-statistic):                    2.20e-31\n",
      "Time:                        21:25:04   Log-Likelihood:                         -33.890\n",
      "No. Observations:                  27   AIC:                                      71.78\n",
      "Df Residuals:                      25   BIC:                                      74.37\n",
      "Df Model:                           2                                                  \n",
      "Covariance Type:            nonrobust                                                  \n",
      "================================================================================================\n",
      "                                   coef    std err          t      P>|t|      [0.025      0.975]\n",
      "------------------------------------------------------------------------------------------------\n",
      "Заболеваемость                   0.0214      0.000     62.896      0.000       0.021       0.022\n",
      "Средняя номинальная зарплата    -0.0001   1.38e-05     -8.112      0.000      -0.000   -8.36e-05\n",
      "==============================================================================\n",
      "Omnibus:                        0.401   Durbin-Watson:                   0.710\n",
      "Prob(Omnibus):                  0.818   Jarque-Bera (JB):                0.028\n",
      "Skew:                           0.075   Prob(JB):                        0.986\n",
      "Kurtosis:                       3.053   Cond. No.                         36.2\n",
      "==============================================================================\n",
      "\n",
      "Notes:\n",
      "[1] R² is computed without centering (uncentered) since the model does not contain a constant.\n",
      "[2] Standard Errors assume that the covariance matrix of the errors is correctly specified.\n"
     ]
    }
   ],
   "source": [
    "exog3 = pd.concat([Y5, X5], axis = 1)\n",
    "ord_model_3 = sm.OLS(Y3[:-5], exog3[:-5]).fit()\n",
    "print(ord_model_3.summary())"
   ]
  },
  {
   "cell_type": "code",
   "execution_count": 74,
   "id": "1996db52",
   "metadata": {},
   "outputs": [
    {
     "data": {
      "text/plain": [
       "(12.102301741750432,\n",
       " 0.0005035961844142824,\n",
       " 10.154506363968682,\n",
       " 0.0005914834801198633)"
      ]
     },
     "execution_count": 74,
     "metadata": {},
     "output_type": "execute_result"
    }
   ],
   "source": [
    "sms.diagnostic.het_breuschpagan(ord_model_3.resid, exog3[:-5])"
   ]
  },
  {
   "cell_type": "markdown",
   "id": "111fee05",
   "metadata": {},
   "source": [
    "Для всех параметров p-value t статистик < 0.05, значит H0 отвергается, следовательно параметры значимы  \n",
    "F статистика больше табличного значения, значит H0 отвергается, следовательно уравнение значимо  \n",
    "p-value теста Харке-Бера > 0.05, значит H0 не отвергается, следовательно остатки распределены нормально  \n",
    "p-value теста Бреуша Пагана < 0.05, значит H0 отвергается, следовательно распределение остатков гетероскедастично    \n",
    "Статистика Дарбина-Уотсона < dl, следовательно наблюдается положительная автокорреляция  "
   ]
  },
  {
   "cell_type": "code",
   "execution_count": 75,
   "id": "4bf2c9fd",
   "metadata": {},
   "outputs": [
    {
     "name": "stdout",
     "output_type": "stream",
     "text": [
      "                                 OLS Regression Results                                \n",
      "=======================================================================================\n",
      "Dep. Variable:        Заболеваемость    R-squared (uncentered):                   0.999\n",
      "Model:                            OLS   Adj. R-squared (uncentered):              0.999\n",
      "Method:                 Least Squares   F-statistic:                          1.085e+04\n",
      "Date:                Sun, 26 May 2024   Prob (F-statistic):                    1.03e-37\n",
      "Time:                        21:25:05   Log-Likelihood:                         -119.11\n",
      "No. Observations:                  27   AIC:                                      244.2\n",
      "Df Residuals:                      24   BIC:                                      248.1\n",
      "Df Model:                           3                                                  \n",
      "Covariance Type:            nonrobust                                                  \n",
      "============================================================================================================================\n",
      "                                                               coef    std err          t      P>|t|      [0.025      0.975]\n",
      "----------------------------------------------------------------------------------------------------------------------------\n",
      " удельный вес населения старше трудоспособного возраста     24.0304      2.411      9.966      0.000      19.054      29.007\n",
      "Безработица                                                 10.7101      1.505      7.117      0.000       7.604      13.816\n",
      "охват дошкол обр                                             2.6764      0.881      3.038      0.006       0.858       4.494\n",
      "==============================================================================\n",
      "Omnibus:                        0.037   Durbin-Watson:                   0.977\n",
      "Prob(Omnibus):                  0.982   Jarque-Bera (JB):                0.217\n",
      "Skew:                          -0.065   Prob(JB):                        0.897\n",
      "Kurtosis:                       2.581   Cond. No.                         39.7\n",
      "==============================================================================\n",
      "\n",
      "Notes:\n",
      "[1] R² is computed without centering (uncentered) since the model does not contain a constant.\n",
      "[2] Standard Errors assume that the covariance matrix of the errors is correctly specified.\n"
     ]
    }
   ],
   "source": [
    "exog5 = pd.concat([X1, X4, X8], axis = 1)\n",
    "ord_model_5 = sm.OLS(Y5[:-5], exog5[:-5]).fit()\n",
    "print(ord_model_5.summary())"
   ]
  },
  {
   "cell_type": "code",
   "execution_count": 76,
   "id": "4188397e",
   "metadata": {},
   "outputs": [
    {
     "data": {
      "text/plain": [
       "(12.3174282054511,\n",
       " 0.00211497115954554,\n",
       " 6.711319176398842,\n",
       " 0.0019003317437399827)"
      ]
     },
     "execution_count": 76,
     "metadata": {},
     "output_type": "execute_result"
    }
   ],
   "source": [
    "sms.diagnostic.het_breuschpagan(ord_model_5.resid, exog5[:-5])"
   ]
  },
  {
   "cell_type": "markdown",
   "id": "bf771f44",
   "metadata": {},
   "source": [
    "Для всех параметров p-value t статистик < 0.05, значит H0 отвергается, следовательно параметры значимы  \n",
    "F статистика больше табличного значения, значит H0 отвергается, следовательно уравнение значимо  \n",
    "p-value теста Харке-Бера > 0.05, значит H0 не отвергается, следовательно остатки распределены нормально  \n",
    "p-value теста Бреуша Пагана < 0.05, значит H0 отвергается, следовательно распределение остатков гетероскедастично    \n",
    "Статистика Дарбина-Уотсона < dl, следовательно наблюдается положительная автокорреляция  "
   ]
  },
  {
   "cell_type": "code",
   "execution_count": 80,
   "id": "ca545c23",
   "metadata": {},
   "outputs": [],
   "source": [
    "Y1_pred = ord_model_1.predict(pd.concat([X2, X5], axis = 1)[-5:])\n",
    "Y2_pred = ord_model_2.predict(pd.concat([Y1_pred, X2[-5:]], axis = 1))\n",
    "Y5_pred = ord_model_5.predict(pd.concat([X1, X4, X8], axis = 1)[-5:])\n",
    "Y3_pred = ord_model_3.predict(pd.concat([Y5_pred, X5[-5:]], axis = 1))"
   ]
  },
  {
   "cell_type": "code",
   "execution_count": 81,
   "id": "3108169a",
   "metadata": {},
   "outputs": [
    {
     "data": {
      "text/plain": [
       "0.994684689974881"
      ]
     },
     "execution_count": 81,
     "metadata": {},
     "output_type": "execute_result"
    }
   ],
   "source": [
    "Y_all = pd.concat([Y1[-5:], Y2[-5:], Y3[-5:], Y5[-5:]])\n",
    "Y_all_pred = pd.concat([Y1_pred, Y2_pred, Y3_pred, Y5_pred])\n",
    "r2_score(Y_all, Y_all_pred)"
   ]
  },
  {
   "cell_type": "markdown",
   "id": "92e28c07",
   "metadata": {},
   "source": [
    "R2 = 0.9946 на тестовой выборке, что говорит о хорошей предсказательной способности модели"
   ]
  },
  {
   "cell_type": "markdown",
   "id": "2c3f02c6",
   "metadata": {},
   "source": [
    "В ходе построений моделей для коэффициента миграции не получилось построить значимой модели, поэтому было решено его не учитывать"
   ]
  },
  {
   "cell_type": "markdown",
   "id": "e205fec1",
   "metadata": {},
   "source": [
    "В ходе работы были получены следующие переменные\n",
    "\n",
    "## Зависимые (целевые) переменные\n",
    "- **Y1:** Браков на 1000 чел\n",
    "- **Y2:** Коэффициент рождаемости\n",
    "- **Y3:** Коэффициент смертности\n",
    "- **Y4:** Заболеваемость\n",
    "\n",
    "## Независимые переменные\n",
    "- **X1:** Удельный вес населения старше трудоспособного возраста\n",
    "- **X2:** Население в трудоспособном возрасте\n",
    "- **X3:** Безработица\n",
    "- **X4:** Средняя номинальная зарплата\n",
    "- **X5:** Охват дошкольным образованием"
   ]
  },
  {
   "cell_type": "code",
   "execution_count": 37,
   "id": "fff52136",
   "metadata": {},
   "outputs": [],
   "source": [
    "Y1 = data['Браков на 1000 чел'].rename('Y1')\n",
    "Y2 = data['Коэф. Рожд'].rename('Y2')\n",
    "Y3 = data['Коэф. Смерт'].rename('Y3')\n",
    "Y4 = data['Заболеваемость '].rename('Y4')\n",
    "X1 = data[' удельный вес населения старше трудоспособного возраста '].rename('X1')\n",
    "X2 = data['населения в трудоспособном возрасте'].rename('X2')\n",
    "X3 = data['Безработица'].rename('X3')\n",
    "X4 = data['Средняя номинальная зарплата'].rename('X4')\n",
    "X5 = data['охват дошкол обр'].rename('X5')"
   ]
  },
  {
   "cell_type": "markdown",
   "id": "0cd86f14",
   "metadata": {},
   "source": [
    "Спецификация модели\n",
    "\n",
    "$Y_1 = b_{11}*X_2 + b_{12}*X_4 + ε_1$  \n",
    "\n",
    "$Y_2 = b_{21}*Y_1 + b_{22}*X_2 + ε_2$ \n",
    "\n",
    "$Y_3 = b_{31}*Y_4 + b_{32}*X_4 + ε_3$ \n",
    "\n",
    "$Y_4 = b_{41}*X_1 + b_{42}*X_3 + b_{43}*X_5 + ε_4$"
   ]
  },
  {
   "cell_type": "markdown",
   "id": "aa3a2186",
   "metadata": {},
   "source": [
    "Метод порядка  \n",
    "\n",
    "1) 1 < 3 - 1 = 2 - уравнение сверхиндентифицируемо  \n",
    "2) 2 < 4 - 1 = 3 - сверхиндентифицируемо  \n",
    "3) 2 < 4 - 1 = 3 - уравнение сверхиндентифицируемо   \n",
    "4) 1 = 2 - 1 = 1- уравнение точно индентифицируемо   "
   ]
  },
  {
   "cell_type": "code",
   "execution_count": 10,
   "id": "9f113685",
   "metadata": {},
   "outputs": [],
   "source": [
    "b11, b12, b21, b22, b31, b32, b41, b42, b43, v1, v2, v3, v4 = sp.symbols('b11, b12, b21, b22, b31, b32, b41, b42, b43, v1, v2, v3, v4')\n",
    "A = sp.Matrix([[1, 0, 0, 0],\n",
    "               [-b21, 1, 0, 0],\n",
    "               [0, 0, 1, -b31],\n",
    "               [0, 0, 0, 1]])\n",
    "B = sp.Matrix([[0, -b11, 0, -b12, 0],\n",
    "               [0, -b22, 0, 0, 0],\n",
    "               [0, 0, 0, -b32, 0],\n",
    "               [-b41, 0, -b42, 0, -b43]])\n",
    "AB = sp.Matrix.hstack(A, B)"
   ]
  },
  {
   "cell_type": "code",
   "execution_count": 11,
   "id": "c9941f32",
   "metadata": {},
   "outputs": [
    {
     "data": {
      "text/latex": [
       "$\\displaystyle \\left[\\begin{matrix}1 & 0 & 0 & 0 & 0 & - b_{11} & 0 & - b_{12} & 0\\\\- b_{21} & 1 & 0 & 0 & 0 & - b_{22} & 0 & 0 & 0\\\\0 & 0 & 1 & - b_{31} & 0 & 0 & 0 & - b_{32} & 0\\\\0 & 0 & 0 & 1 & - b_{41} & 0 & - b_{42} & 0 & - b_{43}\\end{matrix}\\right]$"
      ],
      "text/plain": [
       "Matrix([\n",
       "[   1, 0, 0,    0,    0, -b11,    0, -b12,    0],\n",
       "[-b21, 1, 0,    0,    0, -b22,    0,    0,    0],\n",
       "[   0, 0, 1, -b31,    0,    0,    0, -b32,    0],\n",
       "[   0, 0, 0,    1, -b41,    0, -b42,    0, -b43]])"
      ]
     },
     "execution_count": 11,
     "metadata": {},
     "output_type": "execute_result"
    }
   ],
   "source": [
    "AB"
   ]
  },
  {
   "cell_type": "code",
   "execution_count": 12,
   "id": "095b56c6",
   "metadata": {},
   "outputs": [],
   "source": [
    "R1 = sp.Matrix([[0, 1, 0, 0, 0, 0, 0, 0, 0],\n",
    "                [0, 0, 1, 0, 0, 0, 0, 0, 0],\n",
    "                [0, 0, 0, 1, 0, 0, 0, 0, 0],\n",
    "                [0, 0, 0, 0, 1, 0, 0, 0, 0],\n",
    "                [0, 0, 0, 0, 0, 0, 1, 0, 0],\n",
    "                [0, 0, 0, 0, 0, 0, 0, 0, 1]])\n",
    "R2 = sp.Matrix([[0, 0, 1, 0, 0, 0, 0, 0, 0],\n",
    "                [0, 0, 0, 1, 0, 0, 0, 0, 0],\n",
    "                [0, 0, 0, 0, 1, 0, 0, 0, 0],\n",
    "                [0, 0, 0, 0, 0, 0, 1, 0, 0],\n",
    "                [0, 0, 0, 0, 0, 0, 0, 1, 0],\n",
    "                [0, 0, 0, 0, 0, 0, 0, 0, 1]])\n",
    "R3 = sp.Matrix([[1, 0, 0, 0, 0, 0, 0, 0, 0],\n",
    "                [0, 1, 0, 0, 0, 0, 0, 0, 0],\n",
    "                [0, 0, 0, 0, 1, 0, 0, 0, 0],\n",
    "                [0, 0, 0, 0, 0, 1, 0, 0, 0],\n",
    "                [0, 0, 0, 0, 0, 0, 1, 0, 0],\n",
    "                [0, 0, 0, 0, 0, 0, 0, 0, 1]])\n",
    "R4 = sp.Matrix([[1, 0, 0, 0, 0, 0, 0, 0, 0],\n",
    "                [0, 1, 0, 0, 0, 0, 0, 0, 0],\n",
    "                [0, 0, 1, 0, 0, 0, 0, 0, 0],\n",
    "                [0, 0, 0, 0, 0, 1, 0, 0, 0],\n",
    "                [0, 0, 0, 0, 0, 0, 0, 1, 0]])"
   ]
  },
  {
   "cell_type": "code",
   "execution_count": 13,
   "id": "96e11516",
   "metadata": {},
   "outputs": [
    {
     "data": {
      "text/plain": [
       "3"
      ]
     },
     "execution_count": 13,
     "metadata": {},
     "output_type": "execute_result"
    }
   ],
   "source": [
    "(AB * R1.T).rank()"
   ]
  },
  {
   "cell_type": "markdown",
   "id": "6cee7121",
   "metadata": {},
   "source": [
    "3 = 4 - 1, тогда 1 уравнение идентифицируемо"
   ]
  },
  {
   "cell_type": "code",
   "execution_count": 14,
   "id": "29b75bc7",
   "metadata": {},
   "outputs": [
    {
     "data": {
      "text/plain": [
       "3"
      ]
     },
     "execution_count": 14,
     "metadata": {},
     "output_type": "execute_result"
    }
   ],
   "source": [
    "(AB * R2.T).rank()"
   ]
  },
  {
   "cell_type": "markdown",
   "id": "adb61f4c",
   "metadata": {},
   "source": [
    "3 = 4 - 1, тогда 1 уравнение идентифицируемо"
   ]
  },
  {
   "cell_type": "code",
   "execution_count": 15,
   "id": "1abf757a",
   "metadata": {},
   "outputs": [
    {
     "data": {
      "text/plain": [
       "3"
      ]
     },
     "execution_count": 15,
     "metadata": {},
     "output_type": "execute_result"
    }
   ],
   "source": [
    "(AB * R3.T).rank()"
   ]
  },
  {
   "cell_type": "markdown",
   "id": "e0c9f9c6",
   "metadata": {},
   "source": [
    "3 = 4 - 1, тогда 1 уравнение идентифицируемо"
   ]
  },
  {
   "cell_type": "code",
   "execution_count": 16,
   "id": "499d12b6",
   "metadata": {},
   "outputs": [
    {
     "data": {
      "text/plain": [
       "3"
      ]
     },
     "execution_count": 16,
     "metadata": {},
     "output_type": "execute_result"
    }
   ],
   "source": [
    "(AB * R3.T).rank()"
   ]
  },
  {
   "cell_type": "markdown",
   "id": "8829b6fd",
   "metadata": {},
   "source": [
    "3 = 4 - 1, тогда 1 уравнение идентифицируемо"
   ]
  },
  {
   "cell_type": "markdown",
   "id": "697b4de9",
   "metadata": {},
   "source": [
    "## Трехшаговый МНК"
   ]
  },
  {
   "cell_type": "code",
   "execution_count": 59,
   "id": "8d693f71",
   "metadata": {},
   "outputs": [],
   "source": [
    "data_for_model = pd.concat([Y1, Y2, Y3, Y4, X1, X2, X3, X4, X5], axis = 1)[:-5]"
   ]
  },
  {
   "cell_type": "code",
   "execution_count": 60,
   "id": "b10d1396",
   "metadata": {},
   "outputs": [
    {
     "name": "stdout",
     "output_type": "stream",
     "text": [
      "                           System GLS Estimation Summary                           \n",
      "===================================================================================\n",
      "Estimator:                        GLS   Overall R-squared:                   0.9992\n",
      "No. Equations.:                     4   McElroy's R-squared:                 0.8582\n",
      "No. Observations:                  27   Judge's (OLS) R-squared:             0.8466\n",
      "Date:                Sun, May 26 2024   Berndt's R-squared:                  0.9772\n",
      "Time:                        21:03:52   Dhrymes's R-squared:                 0.9992\n",
      "                                        Cov. Estimator:                      robust\n",
      "                                        Num. Constraints:                      None\n",
      "                    Equation: eq1, Dependent Variable: Y1                     \n",
      "==============================================================================\n",
      "            Parameter  Std. Err.     T-stat    P-value    Lower CI    Upper CI\n",
      "------------------------------------------------------------------------------\n",
      "X2             0.1384     0.0032     43.148     0.0000      0.1321      0.1446\n",
      "X4         -2.575e-05  1.021e-05    -2.5224     0.0117  -4.576e-05  -5.742e-06\n",
      "                    Equation: eq2, Dependent Variable: Y2                     \n",
      "==============================================================================\n",
      "            Parameter  Std. Err.     T-stat    P-value    Lower CI    Upper CI\n",
      "------------------------------------------------------------------------------\n",
      "Y1             0.3002     0.1401     2.1423     0.0322      0.0256      0.5749\n",
      "X2             0.1528     0.0183     8.3546     0.0000      0.1170      0.1887\n",
      "                    Equation: eq3, Dependent Variable: Y3                     \n",
      "==============================================================================\n",
      "            Parameter  Std. Err.     T-stat    P-value    Lower CI    Upper CI\n",
      "------------------------------------------------------------------------------\n",
      "Y4             0.0211     0.0004     54.741     0.0000      0.0204      0.0219\n",
      "X4            -0.0001  1.088e-05    -9.2214     0.0000     -0.0001  -7.898e-05\n",
      "                    Equation: eq4, Dependent Variable: Y4                     \n",
      "==============================================================================\n",
      "            Parameter  Std. Err.     T-stat    P-value    Lower CI    Upper CI\n",
      "------------------------------------------------------------------------------\n",
      "X1             24.794     1.8065     13.725     0.0000      21.253      28.334\n",
      "X3             8.8477     1.1964     7.3953     0.0000      6.5028      11.193\n",
      "X5             2.6406     0.6342     4.1636     0.0000      1.3976      3.8837\n",
      "==============================================================================\n",
      "\n",
      "Covariance Estimator:\n",
      "Heteroskedastic (Robust) Covariance (Debiased: False, GLS: True)\n"
     ]
    }
   ],
   "source": [
    "eq1 = \"Y1 ~ X2 + X4\"\n",
    "eq2 = \"Y2 ~ Y1 + X2\"\n",
    "eq3 = \"Y3 ~ Y4 + X4\"\n",
    "eq4 = \"Y4 ~ X1 + X3 + X5\"\n",
    "equations = dict(eq1=eq1, eq2=eq2, eq3=eq3, eq4=eq4)\n",
    "system_3sls = IV3SLS.from_formula(equations, data_for_model)\n",
    "system_3sls_res = system_3sls.fit(method=\"gls\", cov_type=\"heteroskedastic\")\n",
    "print(system_3sls_res)"
   ]
  },
  {
   "cell_type": "code",
   "execution_count": 62,
   "id": "3008a221",
   "metadata": {},
   "outputs": [
    {
     "data": {
      "text/plain": [
       "eq1_X2     0.138356\n",
       "eq1_X4    -0.000026\n",
       "eq2_Y1     0.300204\n",
       "eq2_X2     0.152834\n",
       "eq3_Y4     0.021122\n",
       "eq3_X4    -0.000100\n",
       "eq4_X1    24.793684\n",
       "eq4_X3     8.847740\n",
       "eq4_X5     2.640649\n",
       "Name: params, dtype: float64"
      ]
     },
     "execution_count": 62,
     "metadata": {},
     "output_type": "execute_result"
    }
   ],
   "source": [
    "par = system_3sls_res.params\n",
    "par"
   ]
  },
  {
   "cell_type": "markdown",
   "id": "5e337d72",
   "metadata": {},
   "source": [
    "Для всех параметров p-value t статистик < 0.05, значит H0 отвергается, следовательно параметры значимы  \n",
    "R2 = 0.9992, что говорит об хорошем качестве модели"
   ]
  },
  {
   "cell_type": "markdown",
   "id": "bf35d44a",
   "metadata": {},
   "source": [
    "После применения Трехшагового МНК были получены следующие оценки  \n",
    "\n",
    "$\\hat{Y_1} = 0.1384*X_2 + -2.575e^{-05}*X_4$  \n",
    "\n",
    "$\\hat{Y_2} = 0.3002*Y_1 + 0.1528*X_2$ \n",
    "\n",
    "$\\hat{Y_3} = 0.0211*Y_4 + -0.0001*X_4$ \n",
    "\n",
    "$\\hat{Y_4} = 24.794*X_1 + 8.8477*X_3 + 2.6406*X_5$"
   ]
  },
  {
   "cell_type": "markdown",
   "id": "58dcd76e",
   "metadata": {},
   "source": [
    "пердсказания модели"
   ]
  },
  {
   "cell_type": "code",
   "execution_count": 66,
   "id": "13ae1ba3",
   "metadata": {},
   "outputs": [],
   "source": [
    "Y1_pred = par['eq1_X2'] * X2[-5:] + par['eq1_X4'] * X4[-5:]\n",
    "Y2_pred =  par['eq2_Y1'] * Y1_pred + par['eq2_X2'] * X2[-5:]\n",
    "Y4_pred = par['eq4_X1'] * X1[-5:] + par['eq4_X3'] * X3[-5:] + par['eq4_X5'] * X5[-5:]\n",
    "Y3_pred = par['eq3_Y4'] * Y4_pred + par['eq3_X4'] * X4[-5:]"
   ]
  },
  {
   "cell_type": "code",
   "execution_count": 67,
   "id": "c9f68dc2",
   "metadata": {},
   "outputs": [
    {
     "data": {
      "text/plain": [
       "0.9949582149412861"
      ]
     },
     "execution_count": 67,
     "metadata": {},
     "output_type": "execute_result"
    }
   ],
   "source": [
    "Y_all = pd.concat([Y1[-5:], Y2[-5:], Y3[-5:], Y4[-5:]])\n",
    "Y_all_pred = pd.concat([Y1_pred, Y2_pred, Y3_pred, Y4_pred])\n",
    "r2_score(Y_all, Y_all_pred)"
   ]
  },
  {
   "cell_type": "markdown",
   "id": "50a36f62",
   "metadata": {},
   "source": [
    "R2 = 0.9949 на тестовой выборке, что говорит о хорошей предсказательной способности модели"
   ]
  },
  {
   "cell_type": "markdown",
   "id": "f47803a6",
   "metadata": {},
   "source": [
    "Вторая модель лучше"
   ]
  },
  {
   "cell_type": "code",
   "execution_count": null,
   "id": "9aae07be",
   "metadata": {},
   "outputs": [],
   "source": []
  }
 ],
 "metadata": {
  "kernelspec": {
   "display_name": "Python 3 (ipykernel)",
   "language": "python",
   "name": "python3"
  },
  "language_info": {
   "codemirror_mode": {
    "name": "ipython",
    "version": 3
   },
   "file_extension": ".py",
   "mimetype": "text/x-python",
   "name": "python",
   "nbconvert_exporter": "python",
   "pygments_lexer": "ipython3",
   "version": "3.9.12"
  }
 },
 "nbformat": 4,
 "nbformat_minor": 5
}
