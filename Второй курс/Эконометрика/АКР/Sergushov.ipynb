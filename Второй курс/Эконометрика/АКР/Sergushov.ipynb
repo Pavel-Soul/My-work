{
  "cells": [
    {
      "cell_type": "markdown",
      "source": [
        "###Сергушов Павел ПМ22-4\n",
        "Вариант 22"
      ],
      "metadata": {
        "id": "OJ4uPytNMCYj"
      }
    },
    {
      "cell_type": "code",
      "source": [
        "import pandas as pd\n",
        "import numpy as np\n",
        "import scipy.stats as stats\n",
        "import matplotlib.pyplot as plt\n",
        "import seaborn as sns"
      ],
      "metadata": {
        "id": "rFccjF2WMD3y"
      },
      "execution_count": 1,
      "outputs": []
    },
    {
      "cell_type": "code",
      "source": [
        "data = pd.read_excel('/content/Книга1.xlsx')\n",
        "data"
      ],
      "metadata": {
        "colab": {
          "base_uri": "https://localhost:8080/",
          "height": 1000
        },
        "id": "TpN6DhzqMDx8",
        "outputId": "8ce6fbe2-6821-4fd8-c2e5-1da468775b74"
      },
      "execution_count": 14,
      "outputs": [
        {
          "output_type": "execute_result",
          "data": {
            "text/plain": [
              "         T  Средняя номинальная заработная плата  \\\n",
              "0   2008 I                                 15424   \n",
              "1       II                                 16962   \n",
              "2      III                                 17556   \n",
              "3       IV                                 18966   \n",
              "4   2009 I                                 17441   \n",
              "5       II                                 18419   \n",
              "6      III                                 18673   \n",
              "7       IV                                 20670   \n",
              "8   2010 I                                 19485   \n",
              "9       II                                 20809   \n",
              "10     III                                 21031   \n",
              "11      IV                                 23491   \n",
              "12  2011 I                                 21354   \n",
              "13      II                                 23154   \n",
              "14     III                                 23352   \n",
              "15      IV                                 26905   \n",
              "16  2012 I                                 24407   \n",
              "17      II                                 26547   \n",
              "18     III                                 26127   \n",
              "19      IV                                 30233   \n",
              "20  2013 I                                 27339   \n",
              "21      II                                 30245   \n",
              "22     III                                 29578   \n",
              "23      IV                                 33269   \n",
              "24  2014 I                                 30057   \n",
              "25      II                                 32963   \n",
              "26     III                                 31730   \n",
              "27      IV                                 35685   \n",
              "28  2015 I                                 31566   \n",
              "29      II                                 34703   \n",
              "30     III                                 32983   \n",
              "31      IV                                 35692   \n",
              "32  2016 I                                 34000   \n",
              "33      II                                 37404   \n",
              "34     III                                 35744   \n",
              "35      IV                                 39824   \n",
              "\n",
              "    Денежная масса М0 (на конец периода)  \n",
              "0                                 3475.5  \n",
              "1                                 3724.9  \n",
              "2                                 3904.2  \n",
              "3                                 3794.8  \n",
              "4                                 3278.3  \n",
              "5                                 3522.5  \n",
              "6                                 3485.6  \n",
              "7                                 4038.1  \n",
              "8                                 3986.1  \n",
              "9                                 4367.7  \n",
              "10                                4524.5  \n",
              "11                                5062.7  \n",
              "12                                4918.2  \n",
              "13                                5192.2  \n",
              "14                                5420.4  \n",
              "15                                5938.6  \n",
              "16                                5704.3  \n",
              "17                                6003.9  \n",
              "18                                5969.2  \n",
              "19                                6430.1  \n",
              "20                                6181.4  \n",
              "21                                6470.3  \n",
              "22                                6414.4  \n",
              "23                                6985.6  \n",
              "24                                6608.2  \n",
              "25                                6763.5  \n",
              "26                                6959.3  \n",
              "27                                7171.5  \n",
              "28                                6540.8  \n",
              "29                                6659.5  \n",
              "30                                6744.9  \n",
              "31                                7239.1  \n",
              "32                                7142.9  \n",
              "33                                7372.7  \n",
              "34                                7412.1  \n",
              "35                                7714.7  "
            ],
            "text/html": [
              "\n",
              "  <div id=\"df-a3b9fa38-9c4d-4c56-8f93-e332b596909a\" class=\"colab-df-container\">\n",
              "    <div>\n",
              "<style scoped>\n",
              "    .dataframe tbody tr th:only-of-type {\n",
              "        vertical-align: middle;\n",
              "    }\n",
              "\n",
              "    .dataframe tbody tr th {\n",
              "        vertical-align: top;\n",
              "    }\n",
              "\n",
              "    .dataframe thead th {\n",
              "        text-align: right;\n",
              "    }\n",
              "</style>\n",
              "<table border=\"1\" class=\"dataframe\">\n",
              "  <thead>\n",
              "    <tr style=\"text-align: right;\">\n",
              "      <th></th>\n",
              "      <th>T</th>\n",
              "      <th>Средняя номинальная заработная плата</th>\n",
              "      <th>Денежная масса М0 (на конец периода)</th>\n",
              "    </tr>\n",
              "  </thead>\n",
              "  <tbody>\n",
              "    <tr>\n",
              "      <th>0</th>\n",
              "      <td>2008 I</td>\n",
              "      <td>15424</td>\n",
              "      <td>3475.5</td>\n",
              "    </tr>\n",
              "    <tr>\n",
              "      <th>1</th>\n",
              "      <td>II</td>\n",
              "      <td>16962</td>\n",
              "      <td>3724.9</td>\n",
              "    </tr>\n",
              "    <tr>\n",
              "      <th>2</th>\n",
              "      <td>III</td>\n",
              "      <td>17556</td>\n",
              "      <td>3904.2</td>\n",
              "    </tr>\n",
              "    <tr>\n",
              "      <th>3</th>\n",
              "      <td>IV</td>\n",
              "      <td>18966</td>\n",
              "      <td>3794.8</td>\n",
              "    </tr>\n",
              "    <tr>\n",
              "      <th>4</th>\n",
              "      <td>2009 I</td>\n",
              "      <td>17441</td>\n",
              "      <td>3278.3</td>\n",
              "    </tr>\n",
              "    <tr>\n",
              "      <th>5</th>\n",
              "      <td>II</td>\n",
              "      <td>18419</td>\n",
              "      <td>3522.5</td>\n",
              "    </tr>\n",
              "    <tr>\n",
              "      <th>6</th>\n",
              "      <td>III</td>\n",
              "      <td>18673</td>\n",
              "      <td>3485.6</td>\n",
              "    </tr>\n",
              "    <tr>\n",
              "      <th>7</th>\n",
              "      <td>IV</td>\n",
              "      <td>20670</td>\n",
              "      <td>4038.1</td>\n",
              "    </tr>\n",
              "    <tr>\n",
              "      <th>8</th>\n",
              "      <td>2010 I</td>\n",
              "      <td>19485</td>\n",
              "      <td>3986.1</td>\n",
              "    </tr>\n",
              "    <tr>\n",
              "      <th>9</th>\n",
              "      <td>II</td>\n",
              "      <td>20809</td>\n",
              "      <td>4367.7</td>\n",
              "    </tr>\n",
              "    <tr>\n",
              "      <th>10</th>\n",
              "      <td>III</td>\n",
              "      <td>21031</td>\n",
              "      <td>4524.5</td>\n",
              "    </tr>\n",
              "    <tr>\n",
              "      <th>11</th>\n",
              "      <td>IV</td>\n",
              "      <td>23491</td>\n",
              "      <td>5062.7</td>\n",
              "    </tr>\n",
              "    <tr>\n",
              "      <th>12</th>\n",
              "      <td>2011 I</td>\n",
              "      <td>21354</td>\n",
              "      <td>4918.2</td>\n",
              "    </tr>\n",
              "    <tr>\n",
              "      <th>13</th>\n",
              "      <td>II</td>\n",
              "      <td>23154</td>\n",
              "      <td>5192.2</td>\n",
              "    </tr>\n",
              "    <tr>\n",
              "      <th>14</th>\n",
              "      <td>III</td>\n",
              "      <td>23352</td>\n",
              "      <td>5420.4</td>\n",
              "    </tr>\n",
              "    <tr>\n",
              "      <th>15</th>\n",
              "      <td>IV</td>\n",
              "      <td>26905</td>\n",
              "      <td>5938.6</td>\n",
              "    </tr>\n",
              "    <tr>\n",
              "      <th>16</th>\n",
              "      <td>2012 I</td>\n",
              "      <td>24407</td>\n",
              "      <td>5704.3</td>\n",
              "    </tr>\n",
              "    <tr>\n",
              "      <th>17</th>\n",
              "      <td>II</td>\n",
              "      <td>26547</td>\n",
              "      <td>6003.9</td>\n",
              "    </tr>\n",
              "    <tr>\n",
              "      <th>18</th>\n",
              "      <td>III</td>\n",
              "      <td>26127</td>\n",
              "      <td>5969.2</td>\n",
              "    </tr>\n",
              "    <tr>\n",
              "      <th>19</th>\n",
              "      <td>IV</td>\n",
              "      <td>30233</td>\n",
              "      <td>6430.1</td>\n",
              "    </tr>\n",
              "    <tr>\n",
              "      <th>20</th>\n",
              "      <td>2013 I</td>\n",
              "      <td>27339</td>\n",
              "      <td>6181.4</td>\n",
              "    </tr>\n",
              "    <tr>\n",
              "      <th>21</th>\n",
              "      <td>II</td>\n",
              "      <td>30245</td>\n",
              "      <td>6470.3</td>\n",
              "    </tr>\n",
              "    <tr>\n",
              "      <th>22</th>\n",
              "      <td>III</td>\n",
              "      <td>29578</td>\n",
              "      <td>6414.4</td>\n",
              "    </tr>\n",
              "    <tr>\n",
              "      <th>23</th>\n",
              "      <td>IV</td>\n",
              "      <td>33269</td>\n",
              "      <td>6985.6</td>\n",
              "    </tr>\n",
              "    <tr>\n",
              "      <th>24</th>\n",
              "      <td>2014 I</td>\n",
              "      <td>30057</td>\n",
              "      <td>6608.2</td>\n",
              "    </tr>\n",
              "    <tr>\n",
              "      <th>25</th>\n",
              "      <td>II</td>\n",
              "      <td>32963</td>\n",
              "      <td>6763.5</td>\n",
              "    </tr>\n",
              "    <tr>\n",
              "      <th>26</th>\n",
              "      <td>III</td>\n",
              "      <td>31730</td>\n",
              "      <td>6959.3</td>\n",
              "    </tr>\n",
              "    <tr>\n",
              "      <th>27</th>\n",
              "      <td>IV</td>\n",
              "      <td>35685</td>\n",
              "      <td>7171.5</td>\n",
              "    </tr>\n",
              "    <tr>\n",
              "      <th>28</th>\n",
              "      <td>2015 I</td>\n",
              "      <td>31566</td>\n",
              "      <td>6540.8</td>\n",
              "    </tr>\n",
              "    <tr>\n",
              "      <th>29</th>\n",
              "      <td>II</td>\n",
              "      <td>34703</td>\n",
              "      <td>6659.5</td>\n",
              "    </tr>\n",
              "    <tr>\n",
              "      <th>30</th>\n",
              "      <td>III</td>\n",
              "      <td>32983</td>\n",
              "      <td>6744.9</td>\n",
              "    </tr>\n",
              "    <tr>\n",
              "      <th>31</th>\n",
              "      <td>IV</td>\n",
              "      <td>35692</td>\n",
              "      <td>7239.1</td>\n",
              "    </tr>\n",
              "    <tr>\n",
              "      <th>32</th>\n",
              "      <td>2016 I</td>\n",
              "      <td>34000</td>\n",
              "      <td>7142.9</td>\n",
              "    </tr>\n",
              "    <tr>\n",
              "      <th>33</th>\n",
              "      <td>II</td>\n",
              "      <td>37404</td>\n",
              "      <td>7372.7</td>\n",
              "    </tr>\n",
              "    <tr>\n",
              "      <th>34</th>\n",
              "      <td>III</td>\n",
              "      <td>35744</td>\n",
              "      <td>7412.1</td>\n",
              "    </tr>\n",
              "    <tr>\n",
              "      <th>35</th>\n",
              "      <td>IV</td>\n",
              "      <td>39824</td>\n",
              "      <td>7714.7</td>\n",
              "    </tr>\n",
              "  </tbody>\n",
              "</table>\n",
              "</div>\n",
              "    <div class=\"colab-df-buttons\">\n",
              "\n",
              "  <div class=\"colab-df-container\">\n",
              "    <button class=\"colab-df-convert\" onclick=\"convertToInteractive('df-a3b9fa38-9c4d-4c56-8f93-e332b596909a')\"\n",
              "            title=\"Convert this dataframe to an interactive table.\"\n",
              "            style=\"display:none;\">\n",
              "\n",
              "  <svg xmlns=\"http://www.w3.org/2000/svg\" height=\"24px\" viewBox=\"0 -960 960 960\">\n",
              "    <path d=\"M120-120v-720h720v720H120Zm60-500h600v-160H180v160Zm220 220h160v-160H400v160Zm0 220h160v-160H400v160ZM180-400h160v-160H180v160Zm440 0h160v-160H620v160ZM180-180h160v-160H180v160Zm440 0h160v-160H620v160Z\"/>\n",
              "  </svg>\n",
              "    </button>\n",
              "\n",
              "  <style>\n",
              "    .colab-df-container {\n",
              "      display:flex;\n",
              "      gap: 12px;\n",
              "    }\n",
              "\n",
              "    .colab-df-convert {\n",
              "      background-color: #E8F0FE;\n",
              "      border: none;\n",
              "      border-radius: 50%;\n",
              "      cursor: pointer;\n",
              "      display: none;\n",
              "      fill: #1967D2;\n",
              "      height: 32px;\n",
              "      padding: 0 0 0 0;\n",
              "      width: 32px;\n",
              "    }\n",
              "\n",
              "    .colab-df-convert:hover {\n",
              "      background-color: #E2EBFA;\n",
              "      box-shadow: 0px 1px 2px rgba(60, 64, 67, 0.3), 0px 1px 3px 1px rgba(60, 64, 67, 0.15);\n",
              "      fill: #174EA6;\n",
              "    }\n",
              "\n",
              "    .colab-df-buttons div {\n",
              "      margin-bottom: 4px;\n",
              "    }\n",
              "\n",
              "    [theme=dark] .colab-df-convert {\n",
              "      background-color: #3B4455;\n",
              "      fill: #D2E3FC;\n",
              "    }\n",
              "\n",
              "    [theme=dark] .colab-df-convert:hover {\n",
              "      background-color: #434B5C;\n",
              "      box-shadow: 0px 1px 3px 1px rgba(0, 0, 0, 0.15);\n",
              "      filter: drop-shadow(0px 1px 2px rgba(0, 0, 0, 0.3));\n",
              "      fill: #FFFFFF;\n",
              "    }\n",
              "  </style>\n",
              "\n",
              "    <script>\n",
              "      const buttonEl =\n",
              "        document.querySelector('#df-a3b9fa38-9c4d-4c56-8f93-e332b596909a button.colab-df-convert');\n",
              "      buttonEl.style.display =\n",
              "        google.colab.kernel.accessAllowed ? 'block' : 'none';\n",
              "\n",
              "      async function convertToInteractive(key) {\n",
              "        const element = document.querySelector('#df-a3b9fa38-9c4d-4c56-8f93-e332b596909a');\n",
              "        const dataTable =\n",
              "          await google.colab.kernel.invokeFunction('convertToInteractive',\n",
              "                                                    [key], {});\n",
              "        if (!dataTable) return;\n",
              "\n",
              "        const docLinkHtml = 'Like what you see? Visit the ' +\n",
              "          '<a target=\"_blank\" href=https://colab.research.google.com/notebooks/data_table.ipynb>data table notebook</a>'\n",
              "          + ' to learn more about interactive tables.';\n",
              "        element.innerHTML = '';\n",
              "        dataTable['output_type'] = 'display_data';\n",
              "        await google.colab.output.renderOutput(dataTable, element);\n",
              "        const docLink = document.createElement('div');\n",
              "        docLink.innerHTML = docLinkHtml;\n",
              "        element.appendChild(docLink);\n",
              "      }\n",
              "    </script>\n",
              "  </div>\n",
              "\n",
              "\n",
              "<div id=\"df-e15c7547-8b15-4bab-8270-620bc03effa0\">\n",
              "  <button class=\"colab-df-quickchart\" onclick=\"quickchart('df-e15c7547-8b15-4bab-8270-620bc03effa0')\"\n",
              "            title=\"Suggest charts.\"\n",
              "            style=\"display:none;\">\n",
              "\n",
              "<svg xmlns=\"http://www.w3.org/2000/svg\" height=\"24px\"viewBox=\"0 0 24 24\"\n",
              "     width=\"24px\">\n",
              "    <g>\n",
              "        <path d=\"M19 3H5c-1.1 0-2 .9-2 2v14c0 1.1.9 2 2 2h14c1.1 0 2-.9 2-2V5c0-1.1-.9-2-2-2zM9 17H7v-7h2v7zm4 0h-2V7h2v10zm4 0h-2v-4h2v4z\"/>\n",
              "    </g>\n",
              "</svg>\n",
              "  </button>\n",
              "\n",
              "<style>\n",
              "  .colab-df-quickchart {\n",
              "      --bg-color: #E8F0FE;\n",
              "      --fill-color: #1967D2;\n",
              "      --hover-bg-color: #E2EBFA;\n",
              "      --hover-fill-color: #174EA6;\n",
              "      --disabled-fill-color: #AAA;\n",
              "      --disabled-bg-color: #DDD;\n",
              "  }\n",
              "\n",
              "  [theme=dark] .colab-df-quickchart {\n",
              "      --bg-color: #3B4455;\n",
              "      --fill-color: #D2E3FC;\n",
              "      --hover-bg-color: #434B5C;\n",
              "      --hover-fill-color: #FFFFFF;\n",
              "      --disabled-bg-color: #3B4455;\n",
              "      --disabled-fill-color: #666;\n",
              "  }\n",
              "\n",
              "  .colab-df-quickchart {\n",
              "    background-color: var(--bg-color);\n",
              "    border: none;\n",
              "    border-radius: 50%;\n",
              "    cursor: pointer;\n",
              "    display: none;\n",
              "    fill: var(--fill-color);\n",
              "    height: 32px;\n",
              "    padding: 0;\n",
              "    width: 32px;\n",
              "  }\n",
              "\n",
              "  .colab-df-quickchart:hover {\n",
              "    background-color: var(--hover-bg-color);\n",
              "    box-shadow: 0 1px 2px rgba(60, 64, 67, 0.3), 0 1px 3px 1px rgba(60, 64, 67, 0.15);\n",
              "    fill: var(--button-hover-fill-color);\n",
              "  }\n",
              "\n",
              "  .colab-df-quickchart-complete:disabled,\n",
              "  .colab-df-quickchart-complete:disabled:hover {\n",
              "    background-color: var(--disabled-bg-color);\n",
              "    fill: var(--disabled-fill-color);\n",
              "    box-shadow: none;\n",
              "  }\n",
              "\n",
              "  .colab-df-spinner {\n",
              "    border: 2px solid var(--fill-color);\n",
              "    border-color: transparent;\n",
              "    border-bottom-color: var(--fill-color);\n",
              "    animation:\n",
              "      spin 1s steps(1) infinite;\n",
              "  }\n",
              "\n",
              "  @keyframes spin {\n",
              "    0% {\n",
              "      border-color: transparent;\n",
              "      border-bottom-color: var(--fill-color);\n",
              "      border-left-color: var(--fill-color);\n",
              "    }\n",
              "    20% {\n",
              "      border-color: transparent;\n",
              "      border-left-color: var(--fill-color);\n",
              "      border-top-color: var(--fill-color);\n",
              "    }\n",
              "    30% {\n",
              "      border-color: transparent;\n",
              "      border-left-color: var(--fill-color);\n",
              "      border-top-color: var(--fill-color);\n",
              "      border-right-color: var(--fill-color);\n",
              "    }\n",
              "    40% {\n",
              "      border-color: transparent;\n",
              "      border-right-color: var(--fill-color);\n",
              "      border-top-color: var(--fill-color);\n",
              "    }\n",
              "    60% {\n",
              "      border-color: transparent;\n",
              "      border-right-color: var(--fill-color);\n",
              "    }\n",
              "    80% {\n",
              "      border-color: transparent;\n",
              "      border-right-color: var(--fill-color);\n",
              "      border-bottom-color: var(--fill-color);\n",
              "    }\n",
              "    90% {\n",
              "      border-color: transparent;\n",
              "      border-bottom-color: var(--fill-color);\n",
              "    }\n",
              "  }\n",
              "</style>\n",
              "\n",
              "  <script>\n",
              "    async function quickchart(key) {\n",
              "      const quickchartButtonEl =\n",
              "        document.querySelector('#' + key + ' button');\n",
              "      quickchartButtonEl.disabled = true;  // To prevent multiple clicks.\n",
              "      quickchartButtonEl.classList.add('colab-df-spinner');\n",
              "      try {\n",
              "        const charts = await google.colab.kernel.invokeFunction(\n",
              "            'suggestCharts', [key], {});\n",
              "      } catch (error) {\n",
              "        console.error('Error during call to suggestCharts:', error);\n",
              "      }\n",
              "      quickchartButtonEl.classList.remove('colab-df-spinner');\n",
              "      quickchartButtonEl.classList.add('colab-df-quickchart-complete');\n",
              "    }\n",
              "    (() => {\n",
              "      let quickchartButtonEl =\n",
              "        document.querySelector('#df-e15c7547-8b15-4bab-8270-620bc03effa0 button');\n",
              "      quickchartButtonEl.style.display =\n",
              "        google.colab.kernel.accessAllowed ? 'block' : 'none';\n",
              "    })();\n",
              "  </script>\n",
              "</div>\n",
              "    </div>\n",
              "  </div>\n"
            ]
          },
          "metadata": {},
          "execution_count": 14
        }
      ]
    },
    {
      "cell_type": "code",
      "execution_count": 15,
      "metadata": {
        "id": "A1PVV9O6kb2g",
        "outputId": "86045809-5778-43a9-d4a9-5261bfb5d13c",
        "colab": {
          "base_uri": "https://localhost:8080/"
        }
      },
      "outputs": [
        {
          "output_type": "execute_result",
          "data": {
            "text/plain": [
              "(0     3475.5\n",
              " 1     3724.9\n",
              " 2     3904.2\n",
              " 3     3794.8\n",
              " 4     3278.3\n",
              " 5     3522.5\n",
              " 6     3485.6\n",
              " 7     4038.1\n",
              " 8     3986.1\n",
              " 9     4367.7\n",
              " 10    4524.5\n",
              " 11    5062.7\n",
              " 12    4918.2\n",
              " 13    5192.2\n",
              " 14    5420.4\n",
              " 15    5938.6\n",
              " 16    5704.3\n",
              " 17    6003.9\n",
              " 18    5969.2\n",
              " 19    6430.1\n",
              " 20    6181.4\n",
              " 21    6470.3\n",
              " 22    6414.4\n",
              " 23    6985.6\n",
              " 24    6608.2\n",
              " 25    6763.5\n",
              " 26    6959.3\n",
              " 27    7171.5\n",
              " 28    6540.8\n",
              " 29    6659.5\n",
              " 30    6744.9\n",
              " 31    7239.1\n",
              " 32    7142.9\n",
              " 33    7372.7\n",
              " 34    7412.1\n",
              " 35    7714.7\n",
              " Name: Денежная масса М0 (на конец периода), dtype: float64,\n",
              " 0     15424\n",
              " 1     16962\n",
              " 2     17556\n",
              " 3     18966\n",
              " 4     17441\n",
              " 5     18419\n",
              " 6     18673\n",
              " 7     20670\n",
              " 8     19485\n",
              " 9     20809\n",
              " 10    21031\n",
              " 11    23491\n",
              " 12    21354\n",
              " 13    23154\n",
              " 14    23352\n",
              " 15    26905\n",
              " 16    24407\n",
              " 17    26547\n",
              " 18    26127\n",
              " 19    30233\n",
              " 20    27339\n",
              " 21    30245\n",
              " 22    29578\n",
              " 23    33269\n",
              " 24    30057\n",
              " 25    32963\n",
              " 26    31730\n",
              " 27    35685\n",
              " 28    31566\n",
              " 29    34703\n",
              " 30    32983\n",
              " 31    35692\n",
              " 32    34000\n",
              " 33    37404\n",
              " 34    35744\n",
              " 35    39824\n",
              " Name: Средняя номинальная заработная плата, dtype: int64)"
            ]
          },
          "metadata": {},
          "execution_count": 15
        }
      ],
      "source": [
        "y = data['Средняя номинальная заработная плата']\n",
        "x = data['Денежная масса М0 (на конец периода)']\n",
        "x, y"
      ]
    },
    {
      "cell_type": "code",
      "execution_count": 16,
      "metadata": {
        "id": "n3Rn_kkmkb2g",
        "outputId": "ca2dc52f-7568-4b12-b2ee-2275ec1e5ab0",
        "colab": {
          "base_uri": "https://localhost:8080/"
        }
      },
      "outputs": [
        {
          "output_type": "execute_result",
          "data": {
            "text/plain": [
              "(array([3475.5, 3724.9, 3904.2, 3794.8, 3278.3, 3522.5, 3485.6, 4038.1,\n",
              "        3986.1, 4367.7, 4524.5, 5062.7, 4918.2, 5192.2, 5420.4, 5938.6,\n",
              "        5704.3, 6003.9, 5969.2, 6430.1, 6181.4, 6470.3, 6414.4, 6985.6,\n",
              "        6608.2, 6763.5, 6959.3, 7171.5, 6540.8, 6659.5, 6744.9, 7239.1,\n",
              "        7142.9, 7372.7, 7412.1, 7714.7]),\n",
              " array([15424, 16962, 17556, 18966, 17441, 18419, 18673, 20670, 19485,\n",
              "        20809, 21031, 23491, 21354, 23154, 23352, 26905, 24407, 26547,\n",
              "        26127, 30233, 27339, 30245, 29578, 33269, 30057, 32963, 31730,\n",
              "        35685, 31566, 34703, 32983, 35692, 34000, 37404, 35744, 39824]))"
            ]
          },
          "metadata": {},
          "execution_count": 16
        }
      ],
      "source": [
        "y = np.array(y)\n",
        "x = np.array(x)\n",
        "x, y"
      ]
    },
    {
      "cell_type": "code",
      "execution_count": 17,
      "metadata": {
        "id": "024bNfqCkb2h",
        "outputId": "faf19c40-afe1-4332-cdaf-ab875172a07c",
        "colab": {
          "base_uri": "https://localhost:8080/",
          "height": 1000
        }
      },
      "outputs": [
        {
          "output_type": "execute_result",
          "data": {
            "text/plain": [
              "         x      y\n",
              "0   3475.5  15424\n",
              "1   3724.9  16962\n",
              "2   3904.2  17556\n",
              "3   3794.8  18966\n",
              "4   3278.3  17441\n",
              "5   3522.5  18419\n",
              "6   3485.6  18673\n",
              "7   4038.1  20670\n",
              "8   3986.1  19485\n",
              "9   4367.7  20809\n",
              "10  4524.5  21031\n",
              "11  5062.7  23491\n",
              "12  4918.2  21354\n",
              "13  5192.2  23154\n",
              "14  5420.4  23352\n",
              "15  5938.6  26905\n",
              "16  5704.3  24407\n",
              "17  6003.9  26547\n",
              "18  5969.2  26127\n",
              "19  6430.1  30233\n",
              "20  6181.4  27339\n",
              "21  6470.3  30245\n",
              "22  6414.4  29578\n",
              "23  6985.6  33269\n",
              "24  6608.2  30057\n",
              "25  6763.5  32963\n",
              "26  6959.3  31730\n",
              "27  7171.5  35685\n",
              "28  6540.8  31566\n",
              "29  6659.5  34703\n",
              "30  6744.9  32983\n",
              "31  7239.1  35692\n",
              "32  7142.9  34000\n",
              "33  7372.7  37404\n",
              "34  7412.1  35744\n",
              "35  7714.7  39824"
            ],
            "text/html": [
              "\n",
              "  <div id=\"df-35498f2b-bcda-4b85-b925-afd809e52a9c\" class=\"colab-df-container\">\n",
              "    <div>\n",
              "<style scoped>\n",
              "    .dataframe tbody tr th:only-of-type {\n",
              "        vertical-align: middle;\n",
              "    }\n",
              "\n",
              "    .dataframe tbody tr th {\n",
              "        vertical-align: top;\n",
              "    }\n",
              "\n",
              "    .dataframe thead th {\n",
              "        text-align: right;\n",
              "    }\n",
              "</style>\n",
              "<table border=\"1\" class=\"dataframe\">\n",
              "  <thead>\n",
              "    <tr style=\"text-align: right;\">\n",
              "      <th></th>\n",
              "      <th>x</th>\n",
              "      <th>y</th>\n",
              "    </tr>\n",
              "  </thead>\n",
              "  <tbody>\n",
              "    <tr>\n",
              "      <th>0</th>\n",
              "      <td>3475.5</td>\n",
              "      <td>15424</td>\n",
              "    </tr>\n",
              "    <tr>\n",
              "      <th>1</th>\n",
              "      <td>3724.9</td>\n",
              "      <td>16962</td>\n",
              "    </tr>\n",
              "    <tr>\n",
              "      <th>2</th>\n",
              "      <td>3904.2</td>\n",
              "      <td>17556</td>\n",
              "    </tr>\n",
              "    <tr>\n",
              "      <th>3</th>\n",
              "      <td>3794.8</td>\n",
              "      <td>18966</td>\n",
              "    </tr>\n",
              "    <tr>\n",
              "      <th>4</th>\n",
              "      <td>3278.3</td>\n",
              "      <td>17441</td>\n",
              "    </tr>\n",
              "    <tr>\n",
              "      <th>5</th>\n",
              "      <td>3522.5</td>\n",
              "      <td>18419</td>\n",
              "    </tr>\n",
              "    <tr>\n",
              "      <th>6</th>\n",
              "      <td>3485.6</td>\n",
              "      <td>18673</td>\n",
              "    </tr>\n",
              "    <tr>\n",
              "      <th>7</th>\n",
              "      <td>4038.1</td>\n",
              "      <td>20670</td>\n",
              "    </tr>\n",
              "    <tr>\n",
              "      <th>8</th>\n",
              "      <td>3986.1</td>\n",
              "      <td>19485</td>\n",
              "    </tr>\n",
              "    <tr>\n",
              "      <th>9</th>\n",
              "      <td>4367.7</td>\n",
              "      <td>20809</td>\n",
              "    </tr>\n",
              "    <tr>\n",
              "      <th>10</th>\n",
              "      <td>4524.5</td>\n",
              "      <td>21031</td>\n",
              "    </tr>\n",
              "    <tr>\n",
              "      <th>11</th>\n",
              "      <td>5062.7</td>\n",
              "      <td>23491</td>\n",
              "    </tr>\n",
              "    <tr>\n",
              "      <th>12</th>\n",
              "      <td>4918.2</td>\n",
              "      <td>21354</td>\n",
              "    </tr>\n",
              "    <tr>\n",
              "      <th>13</th>\n",
              "      <td>5192.2</td>\n",
              "      <td>23154</td>\n",
              "    </tr>\n",
              "    <tr>\n",
              "      <th>14</th>\n",
              "      <td>5420.4</td>\n",
              "      <td>23352</td>\n",
              "    </tr>\n",
              "    <tr>\n",
              "      <th>15</th>\n",
              "      <td>5938.6</td>\n",
              "      <td>26905</td>\n",
              "    </tr>\n",
              "    <tr>\n",
              "      <th>16</th>\n",
              "      <td>5704.3</td>\n",
              "      <td>24407</td>\n",
              "    </tr>\n",
              "    <tr>\n",
              "      <th>17</th>\n",
              "      <td>6003.9</td>\n",
              "      <td>26547</td>\n",
              "    </tr>\n",
              "    <tr>\n",
              "      <th>18</th>\n",
              "      <td>5969.2</td>\n",
              "      <td>26127</td>\n",
              "    </tr>\n",
              "    <tr>\n",
              "      <th>19</th>\n",
              "      <td>6430.1</td>\n",
              "      <td>30233</td>\n",
              "    </tr>\n",
              "    <tr>\n",
              "      <th>20</th>\n",
              "      <td>6181.4</td>\n",
              "      <td>27339</td>\n",
              "    </tr>\n",
              "    <tr>\n",
              "      <th>21</th>\n",
              "      <td>6470.3</td>\n",
              "      <td>30245</td>\n",
              "    </tr>\n",
              "    <tr>\n",
              "      <th>22</th>\n",
              "      <td>6414.4</td>\n",
              "      <td>29578</td>\n",
              "    </tr>\n",
              "    <tr>\n",
              "      <th>23</th>\n",
              "      <td>6985.6</td>\n",
              "      <td>33269</td>\n",
              "    </tr>\n",
              "    <tr>\n",
              "      <th>24</th>\n",
              "      <td>6608.2</td>\n",
              "      <td>30057</td>\n",
              "    </tr>\n",
              "    <tr>\n",
              "      <th>25</th>\n",
              "      <td>6763.5</td>\n",
              "      <td>32963</td>\n",
              "    </tr>\n",
              "    <tr>\n",
              "      <th>26</th>\n",
              "      <td>6959.3</td>\n",
              "      <td>31730</td>\n",
              "    </tr>\n",
              "    <tr>\n",
              "      <th>27</th>\n",
              "      <td>7171.5</td>\n",
              "      <td>35685</td>\n",
              "    </tr>\n",
              "    <tr>\n",
              "      <th>28</th>\n",
              "      <td>6540.8</td>\n",
              "      <td>31566</td>\n",
              "    </tr>\n",
              "    <tr>\n",
              "      <th>29</th>\n",
              "      <td>6659.5</td>\n",
              "      <td>34703</td>\n",
              "    </tr>\n",
              "    <tr>\n",
              "      <th>30</th>\n",
              "      <td>6744.9</td>\n",
              "      <td>32983</td>\n",
              "    </tr>\n",
              "    <tr>\n",
              "      <th>31</th>\n",
              "      <td>7239.1</td>\n",
              "      <td>35692</td>\n",
              "    </tr>\n",
              "    <tr>\n",
              "      <th>32</th>\n",
              "      <td>7142.9</td>\n",
              "      <td>34000</td>\n",
              "    </tr>\n",
              "    <tr>\n",
              "      <th>33</th>\n",
              "      <td>7372.7</td>\n",
              "      <td>37404</td>\n",
              "    </tr>\n",
              "    <tr>\n",
              "      <th>34</th>\n",
              "      <td>7412.1</td>\n",
              "      <td>35744</td>\n",
              "    </tr>\n",
              "    <tr>\n",
              "      <th>35</th>\n",
              "      <td>7714.7</td>\n",
              "      <td>39824</td>\n",
              "    </tr>\n",
              "  </tbody>\n",
              "</table>\n",
              "</div>\n",
              "    <div class=\"colab-df-buttons\">\n",
              "\n",
              "  <div class=\"colab-df-container\">\n",
              "    <button class=\"colab-df-convert\" onclick=\"convertToInteractive('df-35498f2b-bcda-4b85-b925-afd809e52a9c')\"\n",
              "            title=\"Convert this dataframe to an interactive table.\"\n",
              "            style=\"display:none;\">\n",
              "\n",
              "  <svg xmlns=\"http://www.w3.org/2000/svg\" height=\"24px\" viewBox=\"0 -960 960 960\">\n",
              "    <path d=\"M120-120v-720h720v720H120Zm60-500h600v-160H180v160Zm220 220h160v-160H400v160Zm0 220h160v-160H400v160ZM180-400h160v-160H180v160Zm440 0h160v-160H620v160ZM180-180h160v-160H180v160Zm440 0h160v-160H620v160Z\"/>\n",
              "  </svg>\n",
              "    </button>\n",
              "\n",
              "  <style>\n",
              "    .colab-df-container {\n",
              "      display:flex;\n",
              "      gap: 12px;\n",
              "    }\n",
              "\n",
              "    .colab-df-convert {\n",
              "      background-color: #E8F0FE;\n",
              "      border: none;\n",
              "      border-radius: 50%;\n",
              "      cursor: pointer;\n",
              "      display: none;\n",
              "      fill: #1967D2;\n",
              "      height: 32px;\n",
              "      padding: 0 0 0 0;\n",
              "      width: 32px;\n",
              "    }\n",
              "\n",
              "    .colab-df-convert:hover {\n",
              "      background-color: #E2EBFA;\n",
              "      box-shadow: 0px 1px 2px rgba(60, 64, 67, 0.3), 0px 1px 3px 1px rgba(60, 64, 67, 0.15);\n",
              "      fill: #174EA6;\n",
              "    }\n",
              "\n",
              "    .colab-df-buttons div {\n",
              "      margin-bottom: 4px;\n",
              "    }\n",
              "\n",
              "    [theme=dark] .colab-df-convert {\n",
              "      background-color: #3B4455;\n",
              "      fill: #D2E3FC;\n",
              "    }\n",
              "\n",
              "    [theme=dark] .colab-df-convert:hover {\n",
              "      background-color: #434B5C;\n",
              "      box-shadow: 0px 1px 3px 1px rgba(0, 0, 0, 0.15);\n",
              "      filter: drop-shadow(0px 1px 2px rgba(0, 0, 0, 0.3));\n",
              "      fill: #FFFFFF;\n",
              "    }\n",
              "  </style>\n",
              "\n",
              "    <script>\n",
              "      const buttonEl =\n",
              "        document.querySelector('#df-35498f2b-bcda-4b85-b925-afd809e52a9c button.colab-df-convert');\n",
              "      buttonEl.style.display =\n",
              "        google.colab.kernel.accessAllowed ? 'block' : 'none';\n",
              "\n",
              "      async function convertToInteractive(key) {\n",
              "        const element = document.querySelector('#df-35498f2b-bcda-4b85-b925-afd809e52a9c');\n",
              "        const dataTable =\n",
              "          await google.colab.kernel.invokeFunction('convertToInteractive',\n",
              "                                                    [key], {});\n",
              "        if (!dataTable) return;\n",
              "\n",
              "        const docLinkHtml = 'Like what you see? Visit the ' +\n",
              "          '<a target=\"_blank\" href=https://colab.research.google.com/notebooks/data_table.ipynb>data table notebook</a>'\n",
              "          + ' to learn more about interactive tables.';\n",
              "        element.innerHTML = '';\n",
              "        dataTable['output_type'] = 'display_data';\n",
              "        await google.colab.output.renderOutput(dataTable, element);\n",
              "        const docLink = document.createElement('div');\n",
              "        docLink.innerHTML = docLinkHtml;\n",
              "        element.appendChild(docLink);\n",
              "      }\n",
              "    </script>\n",
              "  </div>\n",
              "\n",
              "\n",
              "<div id=\"df-6c9c6aaa-ebfe-4368-94ff-c3b9d91033d7\">\n",
              "  <button class=\"colab-df-quickchart\" onclick=\"quickchart('df-6c9c6aaa-ebfe-4368-94ff-c3b9d91033d7')\"\n",
              "            title=\"Suggest charts.\"\n",
              "            style=\"display:none;\">\n",
              "\n",
              "<svg xmlns=\"http://www.w3.org/2000/svg\" height=\"24px\"viewBox=\"0 0 24 24\"\n",
              "     width=\"24px\">\n",
              "    <g>\n",
              "        <path d=\"M19 3H5c-1.1 0-2 .9-2 2v14c0 1.1.9 2 2 2h14c1.1 0 2-.9 2-2V5c0-1.1-.9-2-2-2zM9 17H7v-7h2v7zm4 0h-2V7h2v10zm4 0h-2v-4h2v4z\"/>\n",
              "    </g>\n",
              "</svg>\n",
              "  </button>\n",
              "\n",
              "<style>\n",
              "  .colab-df-quickchart {\n",
              "      --bg-color: #E8F0FE;\n",
              "      --fill-color: #1967D2;\n",
              "      --hover-bg-color: #E2EBFA;\n",
              "      --hover-fill-color: #174EA6;\n",
              "      --disabled-fill-color: #AAA;\n",
              "      --disabled-bg-color: #DDD;\n",
              "  }\n",
              "\n",
              "  [theme=dark] .colab-df-quickchart {\n",
              "      --bg-color: #3B4455;\n",
              "      --fill-color: #D2E3FC;\n",
              "      --hover-bg-color: #434B5C;\n",
              "      --hover-fill-color: #FFFFFF;\n",
              "      --disabled-bg-color: #3B4455;\n",
              "      --disabled-fill-color: #666;\n",
              "  }\n",
              "\n",
              "  .colab-df-quickchart {\n",
              "    background-color: var(--bg-color);\n",
              "    border: none;\n",
              "    border-radius: 50%;\n",
              "    cursor: pointer;\n",
              "    display: none;\n",
              "    fill: var(--fill-color);\n",
              "    height: 32px;\n",
              "    padding: 0;\n",
              "    width: 32px;\n",
              "  }\n",
              "\n",
              "  .colab-df-quickchart:hover {\n",
              "    background-color: var(--hover-bg-color);\n",
              "    box-shadow: 0 1px 2px rgba(60, 64, 67, 0.3), 0 1px 3px 1px rgba(60, 64, 67, 0.15);\n",
              "    fill: var(--button-hover-fill-color);\n",
              "  }\n",
              "\n",
              "  .colab-df-quickchart-complete:disabled,\n",
              "  .colab-df-quickchart-complete:disabled:hover {\n",
              "    background-color: var(--disabled-bg-color);\n",
              "    fill: var(--disabled-fill-color);\n",
              "    box-shadow: none;\n",
              "  }\n",
              "\n",
              "  .colab-df-spinner {\n",
              "    border: 2px solid var(--fill-color);\n",
              "    border-color: transparent;\n",
              "    border-bottom-color: var(--fill-color);\n",
              "    animation:\n",
              "      spin 1s steps(1) infinite;\n",
              "  }\n",
              "\n",
              "  @keyframes spin {\n",
              "    0% {\n",
              "      border-color: transparent;\n",
              "      border-bottom-color: var(--fill-color);\n",
              "      border-left-color: var(--fill-color);\n",
              "    }\n",
              "    20% {\n",
              "      border-color: transparent;\n",
              "      border-left-color: var(--fill-color);\n",
              "      border-top-color: var(--fill-color);\n",
              "    }\n",
              "    30% {\n",
              "      border-color: transparent;\n",
              "      border-left-color: var(--fill-color);\n",
              "      border-top-color: var(--fill-color);\n",
              "      border-right-color: var(--fill-color);\n",
              "    }\n",
              "    40% {\n",
              "      border-color: transparent;\n",
              "      border-right-color: var(--fill-color);\n",
              "      border-top-color: var(--fill-color);\n",
              "    }\n",
              "    60% {\n",
              "      border-color: transparent;\n",
              "      border-right-color: var(--fill-color);\n",
              "    }\n",
              "    80% {\n",
              "      border-color: transparent;\n",
              "      border-right-color: var(--fill-color);\n",
              "      border-bottom-color: var(--fill-color);\n",
              "    }\n",
              "    90% {\n",
              "      border-color: transparent;\n",
              "      border-bottom-color: var(--fill-color);\n",
              "    }\n",
              "  }\n",
              "</style>\n",
              "\n",
              "  <script>\n",
              "    async function quickchart(key) {\n",
              "      const quickchartButtonEl =\n",
              "        document.querySelector('#' + key + ' button');\n",
              "      quickchartButtonEl.disabled = true;  // To prevent multiple clicks.\n",
              "      quickchartButtonEl.classList.add('colab-df-spinner');\n",
              "      try {\n",
              "        const charts = await google.colab.kernel.invokeFunction(\n",
              "            'suggestCharts', [key], {});\n",
              "      } catch (error) {\n",
              "        console.error('Error during call to suggestCharts:', error);\n",
              "      }\n",
              "      quickchartButtonEl.classList.remove('colab-df-spinner');\n",
              "      quickchartButtonEl.classList.add('colab-df-quickchart-complete');\n",
              "    }\n",
              "    (() => {\n",
              "      let quickchartButtonEl =\n",
              "        document.querySelector('#df-6c9c6aaa-ebfe-4368-94ff-c3b9d91033d7 button');\n",
              "      quickchartButtonEl.style.display =\n",
              "        google.colab.kernel.accessAllowed ? 'block' : 'none';\n",
              "    })();\n",
              "  </script>\n",
              "</div>\n",
              "    </div>\n",
              "  </div>\n"
            ]
          },
          "metadata": {},
          "execution_count": 17
        }
      ],
      "source": [
        "# объедени в датафрейм\n",
        "data = pd.DataFrame({'x': x, 'y': y})\n",
        "data"
      ]
    },
    {
      "cell_type": "markdown",
      "source": [
        "###Оценивание качества спецификации модели."
      ],
      "metadata": {
        "id": "xzrSqq8S_1qY"
      }
    },
    {
      "cell_type": "code",
      "execution_count": 18,
      "metadata": {
        "id": "nazP-XSjkb2j",
        "outputId": "a42a8797-285b-49d8-8ec1-1b5594562a84",
        "colab": {
          "base_uri": "https://localhost:8080/"
        }
      },
      "outputs": [
        {
          "output_type": "execute_result",
          "data": {
            "text/plain": [
              "array([-515.69048256,    4.83625344])"
            ]
          },
          "metadata": {},
          "execution_count": 18
        }
      ],
      "source": [
        "X = np.array([np.ones(len(data)), data['x']]).T\n",
        "y = np.array(data['y'])\n",
        "B = np.linalg.inv(X.T @ X) @ X.T @ y\n",
        "B"
      ]
    },
    {
      "cell_type": "code",
      "execution_count": 19,
      "metadata": {
        "id": "VSBE2ojDkb2j",
        "outputId": "46bff220-c690-49e0-c8ed-8975904011d4",
        "colab": {
          "base_uri": "https://localhost:8080/"
        }
      },
      "outputs": [
        {
          "output_type": "stream",
          "name": "stdout",
          "text": [
            "y_hat = -515.69 + 4.84 * x\n"
          ]
        }
      ],
      "source": [
        "#Произведя расчеты, получаем модель:\n",
        "print('y_hat = {:.2f} + {:.2f} * x'.format(B[0], B[1]))"
      ]
    },
    {
      "cell_type": "code",
      "execution_count": 20,
      "metadata": {
        "id": "3ysWFowCkb2k",
        "outputId": "3389f4b4-49a1-41cf-9a1e-e5e7c56a9c21",
        "colab": {
          "base_uri": "https://localhost:8080/"
        }
      },
      "outputs": [
        {
          "output_type": "stream",
          "name": "stdout",
          "text": [
            "                            OLS Regression Results                            \n",
            "==============================================================================\n",
            "Dep. Variable:                      y   R-squared:                       0.948\n",
            "Model:                            OLS   Adj. R-squared:                  0.946\n",
            "Method:                 Least Squares   F-statistic:                     617.8\n",
            "Date:                Tue, 07 Nov 2023   Prob (F-statistic):           2.18e-23\n",
            "Time:                        14:43:44   Log-Likelihood:                -315.68\n",
            "No. Observations:                  36   AIC:                             635.4\n",
            "Df Residuals:                      34   BIC:                             638.5\n",
            "Df Model:                           1                                         \n",
            "Covariance Type:            nonrobust                                         \n",
            "==============================================================================\n",
            "                 coef    std err          t      P>|t|      [0.025      0.975]\n",
            "------------------------------------------------------------------------------\n",
            "const       -515.6905   1129.819     -0.456      0.651   -2811.759    1780.378\n",
            "x1             4.8363      0.195     24.855      0.000       4.441       5.232\n",
            "==============================================================================\n",
            "Omnibus:                        2.594   Durbin-Watson:                   0.833\n",
            "Prob(Omnibus):                  0.273   Jarque-Bera (JB):                1.524\n",
            "Skew:                           0.215   Prob(JB):                        0.467\n",
            "Kurtosis:                       2.088   Cond. No.                     2.46e+04\n",
            "==============================================================================\n",
            "\n",
            "Notes:\n",
            "[1] Standard Errors assume that the covariance matrix of the errors is correctly specified.\n",
            "[2] The condition number is large, 2.46e+04. This might indicate that there are\n",
            "strong multicollinearity or other numerical problems.\n"
          ]
        }
      ],
      "source": [
        "import statsmodels.api as sm\n",
        "model = sm.OLS(y, X).fit()\n",
        "print(model.summary())"
      ]
    },
    {
      "cell_type": "markdown",
      "source": [
        "###Построение спецификации эконометрической модели."
      ],
      "metadata": {
        "id": "FgBN0l2HAInB"
      }
    },
    {
      "cell_type": "code",
      "execution_count": 21,
      "metadata": {
        "id": "uP86yPtIkb2k",
        "outputId": "bac00b9c-8867-442d-b1bb-48edcc462067",
        "colab": {
          "base_uri": "https://localhost:8080/",
          "height": 472
        }
      },
      "outputs": [
        {
          "output_type": "display_data",
          "data": {
            "text/plain": [
              "<Figure size 500x500 with 1 Axes>"
            ],
            "image/png": "[encoded data removed]"
          },
          "metadata": {}
        }
      ],
      "source": [
        "sns.set(style=\"darkgrid\")\n",
        "plt.figure(figsize=(5, 5))\n",
        "plt.scatter(data['x'], data['y'])\n",
        "plt.title('y от x')\n",
        "plt.show()"
      ]
    },
    {
      "cell_type": "code",
      "execution_count": 22,
      "metadata": {
        "id": "4_q7qQcokb2k",
        "outputId": "2671f020-abe5-4851-a013-0ad5bc52e597",
        "colab": {
          "base_uri": "https://localhost:8080/"
        }
      },
      "outputs": [
        {
          "output_type": "execute_result",
          "data": {
            "text/plain": [
              "0.9735687200882782"
            ]
          },
          "metadata": {},
          "execution_count": 22
        }
      ],
      "source": [
        "#расчет коэффициента корреляции\n",
        "r = np.corrcoef(data['x'], data['y'])[0, 1]\n",
        "r"
      ]
    },
    {
      "cell_type": "code",
      "execution_count": 23,
      "metadata": {
        "id": "K7Tl3bJbkb2l",
        "outputId": "e45161cf-18d5-40fb-8033-8656590a22b2",
        "colab": {
          "base_uri": "https://localhost:8080/"
        }
      },
      "outputs": [
        {
          "output_type": "execute_result",
          "data": {
            "text/plain": [
              "24.85540516226621"
            ]
          },
          "metadata": {},
          "execution_count": 23
        }
      ],
      "source": [
        "#Воспользуемся t-критерием Стьюдента\n",
        "t_stat = r * np.sqrt((len(data['x']) - 2) / (1 - r**2))\n",
        "t_stat"
      ]
    },
    {
      "cell_type": "code",
      "execution_count": 46,
      "metadata": {
        "id": "5GtTWrEekb2l",
        "outputId": "b2b019be-2efa-45cd-ac86-95ef08ce1bea",
        "colab": {
          "base_uri": "https://localhost:8080/"
        }
      },
      "outputs": [
        {
          "output_type": "execute_result",
          "data": {
            "text/plain": [
              "2.032244509317719"
            ]
          },
          "metadata": {},
          "execution_count": 46
        }
      ],
      "source": [
        "#Табличное значение t_table (0.025;n-2)\n",
        "alpha = 0.05\n",
        "t_alpha_2 = stats.t.isf(alpha/2, len(data['x']) - 2)\n",
        "t_alpha_2"
      ]
    },
    {
      "cell_type": "code",
      "execution_count": 25,
      "metadata": {
        "id": "ugzhqHn5kb2l",
        "colab": {
          "base_uri": "https://localhost:8080/"
        },
        "outputId": "b4b9f411-9093-4919-8203-fa3d0ed459bd"
      },
      "outputs": [
        {
          "output_type": "stream",
          "name": "stdout",
          "text": [
            "[-0.449674   24.48715658]\n"
          ]
        }
      ],
      "source": [
        "#Посчитав статистику, получаем, что | t_(stat β_1 ) |\n",
        "def return_t(B, X, y, n):\n",
        "    S = np.sqrt(np.sum((y - X @ B) ** 2) / (n - 3))\n",
        "    S_b = S * np.sqrt(np.linalg.inv(X.T @ X).diagonal())\n",
        "    t_stat = B / S_b\n",
        "    return t_stat\n",
        "\n",
        "t_stats = return_t(B, X, y, len(y))\n",
        "print(t_stats)"
      ]
    },
    {
      "cell_type": "code",
      "execution_count": 26,
      "metadata": {
        "id": "xmnuwipukb2m",
        "outputId": "b5e69f77-4ddf-425a-af14-da578a7b74ce",
        "colab": {
          "base_uri": "https://localhost:8080/"
        }
      },
      "outputs": [
        {
          "output_type": "execute_result",
          "data": {
            "text/plain": [
              "2.032244509317719"
            ]
          },
          "metadata": {},
          "execution_count": 26
        }
      ],
      "source": [
        "#Табличное значение t_table (0.025;n-2)\n",
        "alpha = 0.05\n",
        "\n",
        "t_tabl = stats.t.isf(alpha / 2, len(y) - 2)\n",
        "t_tabl"
      ]
    },
    {
      "cell_type": "code",
      "execution_count": 27,
      "metadata": {
        "id": "1pfdYelfkb2m",
        "outputId": "9203af69-fbf1-40b8-cdc6-1d8ca49af7d3",
        "colab": {
          "base_uri": "https://localhost:8080/"
        }
      },
      "outputs": [
        {
          "output_type": "stream",
          "name": "stdout",
          "text": [
            "F_crit = 4.130017745652016\n",
            "H0 is rejected (Модель значима)\n"
          ]
        }
      ],
      "source": [
        "#F_табл\n",
        "\n",
        "F_stat = r**2 / (1 - r**2) * (len(data['x']) - 2)\n",
        "F_stat\n",
        "alpha = 0.05\n",
        "F_crit = stats.f.isf(alpha, 1, len(data['x']) - 2)\n",
        "print(f\"F_crit = {F_crit}\")\n",
        "if F_stat > F_crit:\n",
        "    print(\"H0 is rejected (Модель значима)\")\n",
        "else:\n",
        "    print(\"H0 is not rejected (Модель не значима)\")"
      ]
    },
    {
      "cell_type": "markdown",
      "source": [
        "Воспользуемся критерием Фишера.\n",
        "Рассчитаем оценку значимости:\n",
        "F_расч\n",
        "F_табл"
      ],
      "metadata": {
        "id": "rckiWtT_Bf8d"
      }
    },
    {
      "cell_type": "code",
      "execution_count": 28,
      "metadata": {
        "id": "NE5JRlk4kb2m",
        "outputId": "4dae259f-9c75-4661-9c70-64ce40c2ee1f",
        "colab": {
          "base_uri": "https://localhost:8080/"
        }
      },
      "outputs": [
        {
          "output_type": "execute_result",
          "data": {
            "text/plain": [
              "617.7911657804096"
            ]
          },
          "metadata": {},
          "execution_count": 28
        }
      ],
      "source": [
        "\n",
        "F_stat"
      ]
    },
    {
      "cell_type": "code",
      "execution_count": 29,
      "metadata": {
        "id": "Tc4irTN7kb2n",
        "outputId": "1de2ebab-e867-4817-b522-63ed511304ff",
        "colab": {
          "base_uri": "https://localhost:8080/"
        }
      },
      "outputs": [
        {
          "output_type": "execute_result",
          "data": {
            "text/plain": [
              "617.7911657804109"
            ]
          },
          "metadata": {},
          "execution_count": 29
        }
      ],
      "source": [
        "r_2 = 1 - (np.sum((y - X @ B) ** 2) / np.sum((y - np.mean(y)) ** 2))\n",
        "r_2\n",
        "F_stat = r_2 / (1 - r_2) * (len(data) - len(B)) / (len(B) - 1)\n",
        "F_stat"
      ]
    },
    {
      "cell_type": "code",
      "execution_count": 30,
      "metadata": {
        "id": "juCR1jYKkb2n",
        "outputId": "c21bcfa8-02fa-42e6-de5a-faf554b4a1fd",
        "colab": {
          "base_uri": "https://localhost:8080/"
        }
      },
      "outputs": [
        {
          "output_type": "execute_result",
          "data": {
            "text/plain": [
              "5.2126186207471665"
            ]
          },
          "metadata": {},
          "execution_count": 30
        }
      ],
      "source": [
        "#найдем среднюю ошибку аппроксимации\n",
        "A_hat = 1 / len(y) * np.sum(abs(1 - X @ B / y)) * 100\n",
        "A_hat"
      ]
    },
    {
      "cell_type": "code",
      "execution_count": 31,
      "metadata": {
        "id": "kDhgGK6Ikb2n",
        "outputId": "11155222-71d3-4bd4-cb63-5fdc520c7913",
        "colab": {
          "base_uri": "https://localhost:8080/"
        }
      },
      "outputs": [
        {
          "output_type": "execute_result",
          "data": {
            "text/plain": [
              "0.9478360527343284"
            ]
          },
          "metadata": {},
          "execution_count": 31
        }
      ],
      "source": [
        "#оэффициент детерминации\n",
        "r_2"
      ]
    },
    {
      "cell_type": "markdown",
      "source": [
        "Проверьте остатки на нормальное распределение одним из тестов."
      ],
      "metadata": {
        "id": "TvLL4WOEC8-w"
      }
    },
    {
      "cell_type": "markdown",
      "source": [
        "###Проверка предпосылки теоремы Гаусса-Маркова о гомоскедастичности случайных возмущений."
      ],
      "metadata": {
        "id": "HZqboZI2DTO8"
      }
    },
    {
      "cell_type": "code",
      "execution_count": 34,
      "metadata": {
        "id": "bVDSddMzkb2n",
        "outputId": "27555279-04c5-43db-9746-d269e60e13ca",
        "colab": {
          "base_uri": "https://localhost:8080/"
        }
      },
      "outputs": [
        {
          "output_type": "stream",
          "name": "stdout",
          "text": [
            "D_stat = 0.83\n"
          ]
        }
      ],
      "source": [
        "#Проверка предпосылки теоремы Гаусса-Маркова об отсутствии автокорреляции случайных возмущений.\n",
        "e = y - X @ B\n",
        "e\n",
        "# Darbin-Watson test for autocorrelation\n",
        "from statsmodels.stats.stattools import durbin_watson\n",
        "\n",
        "# H0: autocorrelation is not present\n",
        "# H1: autocorrelation\n",
        "\n",
        "test = durbin_watson(e)\n",
        "\n",
        "print('D_stat = {:.2f}'.format(test))"
      ]
    },
    {
      "cell_type": "code",
      "execution_count": 35,
      "metadata": {
        "id": "TdPX6RfPkb2o",
        "outputId": "91cbd0e2-aa76-4751-f2e6-fa8732775d9b",
        "colab": {
          "base_uri": "https://localhost:8080/"
        }
      },
      "outputs": [
        {
          "output_type": "stream",
          "name": "stdout",
          "text": [
            "H0 is not rejected (heteroscedasticity is not present)\n"
          ]
        }
      ],
      "source": [
        "e = y - X @ B\n",
        "alpha = 0.05\n",
        "# Breusch-Pagan test for heteroscedasticity\n",
        "from statsmodels.stats.diagnostic import het_breuschpagan\n",
        "from statsmodels.compat import lzip\n",
        "\n",
        "# H0: heteroscedasticity is not present\n",
        "# H1: heteroscedasticity\n",
        "\n",
        "names = ['Lagrange multiplier statistic', 'p-value',\n",
        "        'f-value', 'f p-value']\n",
        "test = het_breuschpagan(e, X)\n",
        "\n",
        "lzip(names, test)\n",
        "if test[1] < alpha:\n",
        "    print('H0 is rejected (heteroscedasticity is present)')\n",
        "else:\n",
        "    print('H0 is not rejected (heteroscedasticity is not present)')"
      ]
    },
    {
      "cell_type": "code",
      "execution_count": 36,
      "metadata": {
        "id": "X_1yZ5X3kb2o",
        "outputId": "e6962f71-0b31-4d51-d30c-350337b1ad35",
        "colab": {
          "base_uri": "https://localhost:8080/",
          "height": 480
        }
      },
      "outputs": [
        {
          "output_type": "display_data",
          "data": {
            "text/plain": [
              "<Figure size 640x480 with 1 Axes>"
            ],
            "image/png": "[encoded data removed]"
          },
          "metadata": {}
        }
      ],
      "source": [
        "sns.scatterplot(x=data['x'], y=e)\n",
        "plt.title('График рассеяния остатков')\n",
        "plt.show()"
      ]
    },
    {
      "cell_type": "code",
      "execution_count": 47,
      "metadata": {
        "id": "2oH4qSBlkb2o",
        "outputId": "8a47af9b-08a1-4512-8ec4-8a6ceef47db9",
        "colab": {
          "base_uri": "https://localhost:8080/"
        }
      },
      "outputs": [
        {
          "output_type": "execute_result",
          "data": {
            "text/plain": [
              "[('Lagrange multiplier statistic', 0.26599871310411016),\n",
              " ('p-value', 0.6060285875669296),\n",
              " ('f-value', 0.2530910594906209),\n",
              " ('f p-value', 0.6181505561066678)]"
            ]
          },
          "metadata": {},
          "execution_count": 47
        }
      ],
      "source": [
        "\n",
        "# Breusch-Pagan test for heteroscedasticity\n",
        "from statsmodels.stats.diagnostic import het_breuschpagan\n",
        "from statsmodels.compat import lzip\n",
        "\n",
        "# H0: heteroscedasticity is not present\n",
        "# H1: heteroscedasticity\n",
        "\n",
        "names = ['Lagrange multiplier statistic', 'p-value',\n",
        "        'f-value', 'f p-value']\n",
        "test = het_breuschpagan(e, X)\n",
        "\n",
        "lzip(names, test)"
      ]
    },
    {
      "cell_type": "markdown",
      "source": [
        "###Построение прогнозного доверительного интервала."
      ],
      "metadata": {
        "id": "ibUO0eWMDwiC"
      }
    },
    {
      "cell_type": "code",
      "execution_count": 49,
      "metadata": {
        "id": "vrlbWTItkb2o",
        "outputId": "a914c15e-3fd8-46cb-b813-34cbc190df70",
        "colab": {
          "base_uri": "https://localhost:8080/"
        }
      },
      "outputs": [
        {
          "output_type": "execute_result",
          "data": {
            "text/plain": [
              "(5924.412083333334, 5642.297222222222)"
            ]
          },
          "metadata": {},
          "execution_count": 49
        }
      ],
      "source": [
        "#Первое значепие\n",
        "x_pred = 1.05 * np.mean(data['x'])\n",
        "x_mean = np.mean(data['x'])\n",
        "x_pred, x_mean\n"
      ]
    },
    {
      "cell_type": "code",
      "execution_count": 39,
      "metadata": {
        "id": "i6T9_Rzgkb2p",
        "outputId": "78b4369c-b157-493a-db03-0274518510f0",
        "colab": {
          "base_uri": "https://localhost:8080/"
        }
      },
      "outputs": [
        {
          "output_type": "execute_result",
          "data": {
            "text/plain": [
              "28136.26785746145"
            ]
          },
          "metadata": {},
          "execution_count": 39
        }
      ],
      "source": [
        "#y_pred=-4542.56 + 1.17x_pred=27390.83195384264\n",
        "y_pred = B[0] + B[1] * x_pred\n",
        "y_pred"
      ]
    },
    {
      "cell_type": "code",
      "execution_count": 40,
      "metadata": {
        "id": "RO2qW6kukb2p",
        "outputId": "c37bb44f-69a1-4cbf-988b-a94255eaa590",
        "colab": {
          "base_uri": "https://localhost:8080/"
        }
      },
      "outputs": [
        {
          "output_type": "execute_result",
          "data": {
            "text/plain": [
              "2641235.6356906025"
            ]
          },
          "metadata": {},
          "execution_count": 40
        }
      ],
      "source": [
        "\n",
        "S2 = 1 / (len(y) - 3) * np.sum((y - X @ B) ** 2)\n",
        "S2"
      ]
    },
    {
      "cell_type": "code",
      "execution_count": 41,
      "metadata": {
        "id": "ykhAq0Vzkb2p",
        "outputId": "788afc7b-af0b-458f-8a93-63e7129fa752",
        "colab": {
          "base_uri": "https://localhost:8080/"
        }
      },
      "outputs": [
        {
          "output_type": "execute_result",
          "data": {
            "text/plain": [
              "2.0345152974493383"
            ]
          },
          "metadata": {},
          "execution_count": 41
        }
      ],
      "source": [
        "alpha = 0.05\n",
        "\n",
        "t_tabl = stats.t.isf(alpha / 2, len(y) - 3)\n",
        "t_tabl"
      ]
    },
    {
      "cell_type": "code",
      "execution_count": 42,
      "metadata": {
        "id": "6E2-OV5mkb2p",
        "outputId": "20e4da1b-9d9e-4097-fcf4-9738884add8d",
        "colab": {
          "base_uri": "https://localhost:8080/"
        }
      },
      "outputs": [
        {
          "output_type": "stream",
          "name": "stdout",
          "text": [
            "i_pred = 28136.27 +- 3353.99\n"
          ]
        }
      ],
      "source": [
        "#Подставив все значения и произведя расчеты\n",
        "n = len(data)\n",
        "\n",
        "si_hat = np.sqrt(S2 * (1 + 1 / n + (x_pred - x_mean) ** 2 / (np.sum((data['x'] - x_mean) ** 2))))\n",
        "print(f'i_pred = {y_pred:.2f} +- {si_hat * t_tabl:.2f}')"
      ]
    }
  ],
  "metadata": {
    "kernelspec": {
      "display_name": "Python 3",
      "language": "python",
      "name": "python3"
    },
    "language_info": {
      "codemirror_mode": {
        "name": "ipython",
        "version": 3
      },
      "file_extension": ".py",
      "mimetype": "text/x-python",
      "name": "python",
      "nbconvert_exporter": "python",
      "pygments_lexer": "ipython3",
      "version": "3.10.10"
    },
    "orig_nbformat": 4,
    "colab": {
      "provenance": []
    }
  },
  "nbformat": 4,
  "nbformat_minor": 0
}