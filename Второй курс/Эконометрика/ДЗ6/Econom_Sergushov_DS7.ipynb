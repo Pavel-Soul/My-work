{
  "nbformat": 4,
  "nbformat_minor": 0,
  "metadata": {
    "colab": {
      "provenance": []
    },
    "kernelspec": {
      "name": "python3",
      "display_name": "Python 3"
    },
    "language_info": {
      "name": "python"
    }
  },
  "cells": [
    {
      "cell_type": "markdown",
      "source": [
        "Cергушов Павел ПМ22-4. ДЗ №7"
      ],
      "metadata": {
        "id": "Ew1Yn1Bz_NIJ"
      }
    },
    {
      "cell_type": "code",
      "source": [
        "import pandas as pd\n",
        "import numpy as np\n",
        "import scipy.stats as stats\n",
        "import matplotlib.pyplot as plt\n",
        "import seaborn as sns\n",
        "import statsmodels.api as sm\n",
        "from statsmodels.stats.diagnostic import het_breuschpagan, acorr_ljungbox\n",
        "from sklearn.linear_model import LinearRegression\n",
        "from statsmodels.stats.stattools import durbin_watson"
      ],
      "metadata": {
        "id": "maPlkvvhcH24"
      },
      "execution_count": 87,
      "outputs": []
    },
    {
      "cell_type": "markdown",
      "source": [
        "### №9 Приведены статистические данные за 25 лет по темпам прироста заработной платы Y%, производительности труда X1%, а также уровню инфляции X2%. Оцените по МНК уравнение регрессии Y = B0 + B1X1 + B2X2 + ε. Оцените качество построенного уравнения, проведя при этом проверку наличия гетероскедастичности и автокорреляции.\n"
      ],
      "metadata": {
        "id": "mkGzS_qLaNBS"
      }
    },
    {
      "cell_type": "code",
      "execution_count": 10,
      "metadata": {
        "id": "PcJmA-p7Z1wz"
      },
      "outputs": [],
      "source": [
        "X1 = [3.5, 2.8, 6.3, 4.5, 3.1, 1.5, 7.6, 6.7, 4.2, 2.7, 4.5, 3.5, 5.0, 2.3, 2.8, 1.5, 6.0, 2.9, 2.8, 2.6, 1.5, 0.9, 0.6, 0.7, 3.1 ]\n",
        "X2 = [4.5, 3.0, 3.1, 3.8, 3.8, 1.1, 2.3, 3.6, 7.5, 8.0, 3.9, 4.7, 6.1, 6.9, 3.5, 7.1, 3.1, 3.7, 3.9, 4.0, 4.8, 4.8, 4.2, 4.9, 3.2 ]\n",
        "Y = [9.0, 6.0, 8.9, 9.0, 7.1, 3.2, 6.5, 9.1, 14.6, 11.9, 9.2, 8.8, 12.0, 12.5, 6.7, 8.5, 5.9, 6.8, 5.6, 4.8, 4.5, 6.7, 5.5, 4.0, 3.3]\n",
        "years = list(range(1, 26))"
      ]
    },
    {
      "cell_type": "code",
      "source": [
        "data = {'Год': years, 'X1': X1, 'X2': X2, 'Y': Y}\n",
        "df = pd.DataFrame(data)\n",
        "print(df)"
      ],
      "metadata": {
        "colab": {
          "base_uri": "https://localhost:8080/"
        },
        "id": "Cm2BiSUYdoqH",
        "outputId": "28c66c1d-3af4-4cd3-e434-95d667d97006"
      },
      "execution_count": 11,
      "outputs": [
        {
          "output_type": "stream",
          "name": "stdout",
          "text": [
            "    Год   X1   X2     Y\n",
            "0     1  3.5  4.5   9.0\n",
            "1     2  2.8  3.0   6.0\n",
            "2     3  6.3  3.1   8.9\n",
            "3     4  4.5  3.8   9.0\n",
            "4     5  3.1  3.8   7.1\n",
            "5     6  1.5  1.1   3.2\n",
            "6     7  7.6  2.3   6.5\n",
            "7     8  6.7  3.6   9.1\n",
            "8     9  4.2  7.5  14.6\n",
            "9    10  2.7  8.0  11.9\n",
            "10   11  4.5  3.9   9.2\n",
            "11   12  3.5  4.7   8.8\n",
            "12   13  5.0  6.1  12.0\n",
            "13   14  2.3  6.9  12.5\n",
            "14   15  2.8  3.5   6.7\n",
            "15   16  1.5  7.1   8.5\n",
            "16   17  6.0  3.1   5.9\n",
            "17   18  2.9  3.7   6.8\n",
            "18   19  2.8  3.9   5.6\n",
            "19   20  2.6  4.0   4.8\n",
            "20   21  1.5  4.8   4.5\n",
            "21   22  0.9  4.8   6.7\n",
            "22   23  0.6  4.2   5.5\n",
            "23   24  0.7  4.9   4.0\n",
            "24   25  3.1  3.2   3.3\n"
          ]
        }
      ]
    },
    {
      "cell_type": "markdown",
      "source": [
        "Y=B0+B1⋅X1+B2⋅X2+ε\n",
        "\n",
        "B=(X\n",
        "T\n",
        " X)\n",
        "−1\n",
        " X\n",
        "T\n",
        " Y"
      ],
      "metadata": {
        "id": "BhXk3bEKgH-S"
      }
    },
    {
      "cell_type": "code",
      "source": [
        "import numpy as np\n",
        "\n",
        "# Создаем матрицу X\n",
        "X = np.column_stack((np.ones(len(years)), X1, X2))\n",
        "\n",
        "# Создаем вектор Y\n",
        "Y = np.array(Y)\n",
        "\n",
        "# Вычисляем оценки коэффициентов\n",
        "B = np.linalg.inv(X.T @ X) @ X.T @ Y\n",
        "\n",
        "\n",
        "print(f\"B0 (Intercept): {B[0]}\")\n",
        "print(f\"B1 (X1): {B[1]}\")\n",
        "print(f\"B2 (X2): {B[2]}\")\n"
      ],
      "metadata": {
        "colab": {
          "base_uri": "https://localhost:8080/"
        },
        "id": "u__7KEpseUKy",
        "outputId": "f94c561d-87ce-4af1-ddb4-36a0e43d1654"
      },
      "execution_count": 12,
      "outputs": [
        {
          "output_type": "stream",
          "name": "stdout",
          "text": [
            "B0 (Intercept): -1.8388347739291422\n",
            "B1 (X1): 0.8485617084230189\n",
            "B2 (X2): 1.508046671452639\n"
          ]
        }
      ]
    },
    {
      "cell_type": "code",
      "source": [
        "# Рассчитываем предсказанные значения\n",
        "Y_predicted = B[0] + B[1] * np.array(X1) + B[2] * np.array(X2)\n",
        "\n",
        "# Рассчитываем остатки (ошибки)\n",
        "residuals = np.array(Y) - Y_predicted\n",
        "\n",
        "\n",
        "for i in range(len(years)):\n",
        "    print(f\"Год {years[i]}: Ошибка (ε) = {residuals[i]}\")\n"
      ],
      "metadata": {
        "colab": {
          "base_uri": "https://localhost:8080/"
        },
        "id": "blh9gY63gSQt",
        "outputId": "48afe012-9645-4893-bbae-cf3501f230a8"
      },
      "execution_count": 13,
      "outputs": [
        {
          "output_type": "stream",
          "name": "stdout",
          "text": [
            "Год 1: Ошибка (ε) = 1.0826587729117003\n",
            "Год 2: Ошибка (ε) = 0.9387219759867724\n",
            "Год 3: Ошибка (ε) = 0.7179513293609414\n",
            "Год 4: Ошибка (ε) = 1.2897297345055287\n",
            "Год 5: Ошибка (ε) = 0.577716126297755\n",
            "Год 6: Ошибка (ε) = 2.1071408726967107\n",
            "Год 7: Ошибка (ε) = -1.5787415544268715\n",
            "Год 8: Ошибка (ε) = -0.17549668973458488\n",
            "Год 9: Ошибка (ε) = 1.5645255626576695\n",
            "Год 10: Ошибка (ε) = -0.6166552104341214\n",
            "Год 11: Ошибка (ε) = 1.3389250673602646\n",
            "Год 12: Ошибка (ε) = 0.5810494386211733\n",
            "Год 13: Ошибка (ε) = 0.39694153595295134\n",
            "Год 14: Ошибка (ε) = 1.9816208115329879\n",
            "Год 15: Ошибка (ε) = 0.8846986402604529\n",
            "Год 16: Ошибка (ε) = -1.6411391560191237\n",
            "Год 17: Ошибка (ε) = -2.0274801581121515\n",
            "Год 18: Ошибка (ε) = 0.5982331351276224\n",
            "Год 19: Ошибка (ε) = -0.8185200283206031\n",
            "Год 20: Ошибка (ε) = -1.5996123537812634\n",
            "Год 21: Ошибка (ε) = -2.1726318116780536\n",
            "Год 22: Ошибка (ε) = 0.5365052133757588\n",
            "Год 23: Ошибка (ε) = 0.4959017287742471\n",
            "Год 24: Ошибка (ε) = -2.1445871120849027\n",
            "Год 25: Ошибка (ε) = -2.3174558708306616\n"
          ]
        }
      ]
    },
    {
      "cell_type": "markdown",
      "source": [
        "Y = −1.8388+0.8486⋅X1​ +1.5080⋅X2\n",
        "​\n"
      ],
      "metadata": {
        "id": "sG6fWXC7hL6m"
      }
    },
    {
      "cell_type": "markdown",
      "source": [
        "B0 (Intercept): -1.8388\n",
        "Это значение представляет ожидаемый уровень заработной платы при нулевых значениях прироста производительности труда (X1) и уровня инфляции (X2). В данном случае, ожидается, что заработная плата будет находиться в отрицательной области.\n",
        "\n",
        "B1 (X1): 0.8486\n",
        "Этот коэффициент указывает на ожидаемое изменение в заработной плате при изменении прироста производительности труда (X1). В данном случае, ожидается, что с увеличением прироста производительности труда на единицу, заработная плата увеличится на 0.8486 единицы.\n",
        "\n",
        "B2 (X2): 1.5080\n",
        "Этот коэффициент указывает на ожидаемое изменение в заработной плате при изменении уровня инфляции (X2). В данном случае, ожидается, что с увеличением уровня инфляции на единицу, заработная плата увеличится на 1.5080 единиц."
      ],
      "metadata": {
        "id": "xwtUEpSmi5Ok"
      }
    },
    {
      "cell_type": "code",
      "source": [
        "# Построим график остатков\n",
        "plt.scatter(Y_predicted, residuals)\n",
        "plt.title('График остатков')\n",
        "plt.xlabel('Предсказанные значения')\n",
        "plt.ylabel('Остатки')\n",
        "plt.show()\n",
        "\n",
        "# Построим коррелограмму остатков\n",
        "sm.graphics.tsa.plot_acf(residuals)\n",
        "plt.title('Коррелограмма остатков')\n",
        "plt.show()\n",
        "\n",
        "# Добавим столбец из единиц в матрицу X\n",
        "X_with_intercept = sm.add_constant(np.column_stack((X1, X2)))\n",
        "\n",
        "# Тест Бройша-Пагана на гетероскедастичность\n",
        "_, p_het, _, _ = het_breuschpagan(residuals, X_with_intercept)\n",
        "print(f'p-значение для теста Бройша-Пагана: {p_het}')\n",
        "\n",
        "\n",
        "\n"
      ],
      "metadata": {
        "colab": {
          "base_uri": "https://localhost:8080/",
          "height": 924
        },
        "id": "KhhnndAni4Ou",
        "outputId": "2abc2a8c-e112-471b-a8d8-1deb322648c4"
      },
      "execution_count": 22,
      "outputs": [
        {
          "output_type": "display_data",
          "data": {
            "text/plain": [
              "<Figure size 640x480 with 1 Axes>"
            ],
            "image/png": "[encoded data removed]"
          },
          "metadata": {}
        },
        {
          "output_type": "display_data",
          "data": {
            "text/plain": [
              "<Figure size 640x480 with 1 Axes>"
            ],
            "image/png": "[encoded data removed]"
          },
          "metadata": {}
        },
        {
          "output_type": "stream",
          "name": "stdout",
          "text": [
            "p-значение для теста Бройша-Пагана: 0.4997898989307997\n"
          ]
        }
      ]
    },
    {
      "cell_type": "markdown",
      "source": [
        "Тест Бройша-Пагана на гетероскедастичность:\n",
        "\n",
        "Полученное p-значение для теста Бройша-Пагана составляет 0.4998.\n",
        "Если p-значение больше выбранного уровня значимости (0.05), то нет оснований отвергать гипотезу о гомоскедастичности (отсутствии гетероскедастичности) в остатках."
      ],
      "metadata": {
        "id": "7FomHC_xmnQG"
      }
    },
    {
      "cell_type": "markdown",
      "source": [
        "Тест на автокорреляцию:\n",
        "\n",
        "В начале на графике наблюдается значительных корреляций, можно предположить, что автокорреляции в остатках есть."
      ],
      "metadata": {
        "id": "K0S84uD1mvmc"
      }
    },
    {
      "cell_type": "markdown",
      "source": [
        "### №5 По квартальным данным за 9 лет анализируют зависимость между экспортом (EX) и импортом (IM).\n",
        "a) Постройте уравнение регрессии текушего импорта на текуший экспорт.\n",
        "\n",
        "б) Проверьте качество построенной модели на основе t-статистик и коэффицента детерминашии R^2.\n",
        "\n",
        "в) Вычислите значение статистики DW Дарбина-Уотсона и на ее основе проанализируйте наличие автокорреляции.\n",
        "\n",
        "г) На основе полученных результатов будет ли отклоняться гипотеза о положительной зависимости между объемами экспорта и импорта.\n",
        "\n",
        "д) По этим же статистическим данным постройте регрессию приращения импорта (ΔIM = IM(t) - IM(t-1)) на прирашение экспорта (ΔEX = EX(t) - EX(t-1)).\n",
        "\n",
        "e) Каково значение статистики DW для построенного уравнения и какой вывод из этого следует.\n",
        "\n",
        "ж) Прокомментируйте полученные результаты."
      ],
      "metadata": {
        "id": "5gWHw6jZoPZc"
      }
    },
    {
      "cell_type": "code",
      "source": [
        "EX = [12.47, 12.65, 12.89,12.97, 13.00, 13.31, 13.25, 12.65, 14.49, 14.47, 14.74, 14.62, 17.60, 17.70, 16.60, 15.26, 19.49, 19.08, 18.69, 18.65, 19.33, 19.11, 18.62, 18.40, 16.15, 16.58, 17.60, 18.48, 15.36, 15.25, 15.61, 15.93, 14.38, 14.30, 14.75, 15.58]\n",
        "IM = [11.07, 11.50, 12.01, 12.28,13.16, 13.43, 13.28, 13.50, 15.32, 15.62, 17.44, 16.14, 16.13, 16.08, 16.55, 15.00, 18.72, 17.80, 16.64, 17.39, 18.70, 18.02, 17.46, 16.96, 15.06, 16.01, 16.63, 17.86, 14.56, 15.64, 16.45, 17.42, 14.30, 14.59, 14.66, 14.95]\n",
        "quarter = list(range(1,37))"
      ],
      "metadata": {
        "id": "_L6FJY94kAoH"
      },
      "execution_count": 45,
      "outputs": []
    },
    {
      "cell_type": "code",
      "source": [
        "data = {'Квартал': quarter, 'EX': EX, 'IM': IM}\n",
        "df = pd.DataFrame(data)\n",
        "print(df)"
      ],
      "metadata": {
        "colab": {
          "base_uri": "https://localhost:8080/"
        },
        "id": "7eZ1wKajv56V",
        "outputId": "b0dca395-8725-41b9-a123-a5d5265c79c0"
      },
      "execution_count": 46,
      "outputs": [
        {
          "output_type": "stream",
          "name": "stdout",
          "text": [
            "    Квартал     EX     IM\n",
            "0         1  12.47  11.07\n",
            "1         2  12.65  11.50\n",
            "2         3  12.89  12.01\n",
            "3         4  12.97  12.28\n",
            "4         5  13.00  13.16\n",
            "5         6  13.31  13.43\n",
            "6         7  13.25  13.28\n",
            "7         8  12.65  13.50\n",
            "8         9  14.49  15.32\n",
            "9        10  14.47  15.62\n",
            "10       11  14.74  17.44\n",
            "11       12  14.62  16.14\n",
            "12       13  17.60  16.13\n",
            "13       14  17.70  16.08\n",
            "14       15  16.60  16.55\n",
            "15       16  15.26  15.00\n",
            "16       17  19.49  18.72\n",
            "17       18  19.08  17.80\n",
            "18       19  18.69  16.64\n",
            "19       20  18.65  17.39\n",
            "20       21  19.33  18.70\n",
            "21       22  19.11  18.02\n",
            "22       23  18.62  17.46\n",
            "23       24  18.40  16.96\n",
            "24       25  16.15  15.06\n",
            "25       26  16.58  16.01\n",
            "26       27  17.60  16.63\n",
            "27       28  18.48  17.86\n",
            "28       29  15.36  14.56\n",
            "29       30  15.25  15.64\n",
            "30       31  15.61  16.45\n",
            "31       32  15.93  17.42\n",
            "32       33  14.38  14.30\n",
            "33       34  14.30  14.59\n",
            "34       35  14.75  14.66\n",
            "35       36  15.58  14.95\n"
          ]
        }
      ]
    },
    {
      "cell_type": "code",
      "source": [
        "#a)\n",
        "# Добавим столбец с константой для уравнения регрессии\n",
        "df['const'] = 1\n",
        "\n",
        "# Определяем зависимую и независимую переменные\n",
        "X = df[['const', 'EX']]\n",
        "y = df['IM']\n",
        "\n",
        "# Строим модель регрессии\n",
        "model = sm.OLS(y, X).fit()\n",
        "\n",
        "# Выводим результаты регрессии\n",
        "print(model.summary())"
      ],
      "metadata": {
        "colab": {
          "base_uri": "https://localhost:8080/"
        },
        "id": "O2bCEMXiwOQc",
        "outputId": "21a93f23-d398-4513-b784-07a125d2ed8c"
      },
      "execution_count": 47,
      "outputs": [
        {
          "output_type": "stream",
          "name": "stdout",
          "text": [
            "                            OLS Regression Results                            \n",
            "==============================================================================\n",
            "Dep. Variable:                     IM   R-squared:                       0.786\n",
            "Model:                            OLS   Adj. R-squared:                  0.780\n",
            "Method:                 Least Squares   F-statistic:                     124.9\n",
            "Date:                Sat, 18 Nov 2023   Prob (F-statistic):           6.27e-13\n",
            "Time:                        09:57:59   Log-Likelihood:                -48.069\n",
            "No. Observations:                  36   AIC:                             100.1\n",
            "Df Residuals:                      34   BIC:                             103.3\n",
            "Df Model:                           1                                         \n",
            "Covariance Type:            nonrobust                                         \n",
            "==============================================================================\n",
            "                 coef    std err          t      P>|t|      [0.025      0.975]\n",
            "------------------------------------------------------------------------------\n",
            "const          2.9492      1.135      2.599      0.014       0.643       5.255\n",
            "EX             0.7933      0.071     11.176      0.000       0.649       0.937\n",
            "==============================================================================\n",
            "Omnibus:                        6.676   Durbin-Watson:                   0.777\n",
            "Prob(Omnibus):                  0.036   Jarque-Bera (JB):                5.205\n",
            "Skew:                           0.772   Prob(JB):                       0.0741\n",
            "Kurtosis:                       4.043   Cond. No.                         115.\n",
            "==============================================================================\n",
            "\n",
            "Notes:\n",
            "[1] Standard Errors assume that the covariance matrix of the errors is correctly specified.\n"
          ]
        }
      ]
    },
    {
      "cell_type": "markdown",
      "source": [
        "IM=2.9492+0.7933⋅EX\n",
        "\n",
        "Здесь:\n",
        "Константа (const) равна 2.9492.\n",
        "\n",
        "Коэффициент при переменной EX равен 0.7933.\n",
        "\n",
        "\n",
        "Также важны следующие статистические характеристики модели:\n",
        "\n",
        "R-squared (коэффициент детерминации): 0.786. Этот показатель указывает на долю вариации зависимой переменной (IM), которая объясняется независимой переменной (EX).\n",
        "\n",
        "P-value для коэффициента при переменной EX равно 0.000, что говорит о статистической значимости этого коэффициента.\n",
        "\n",
        "F-statistic равен 124.9, а P-value для F-statistic равно 6.27e-13. Эти значения свидетельствуют о статистической значимости всей модели.\n",
        "\n",
        "Эта модель объясняет примерно 78.6% вариации в импорте (IM) на основе экспорта (EX)."
      ],
      "metadata": {
        "id": "FY43pq3Zx8tv"
      }
    },
    {
      "cell_type": "code",
      "source": [
        "#б)"
      ],
      "metadata": {
        "id": "WCxnr_gzxNrz"
      },
      "execution_count": null,
      "outputs": []
    },
    {
      "cell_type": "markdown",
      "source": [
        "T-статистики:\n",
        "Для константы (const): t-статистика = 2.599\n",
        "Для коэффициента при переменной EX: t-статистика = 11.176\n",
        "\n",
        "Для каждого коэффициента (const и EX) мы имеем соответствующую t-статистику.\n",
        "T-статистика измеряет, насколько значим каждый из коэффициентов.\n",
        "\n",
        "Коэффициент детерминации R^2:\n",
        "\n",
        "Этот коэффициент указывает на долю вариации зависимой переменной (IM), которая объясняется независимой переменной (EX). В данном случае, R^2 =0.786, что означает, что 78.6% изменчивости импорта объясняется экспортом.\n",
        "\n",
        "Исходя из статистических показателей:\n",
        "\n",
        "Значимость константы (const) и коэффициента при переменной EX (t-статистики) указывает на их статистическую значимость.\n"
      ],
      "metadata": {
        "id": "GeR6Ly7LzNXX"
      }
    },
    {
      "cell_type": "code",
      "source": [
        "#в)\n",
        "# Вычисляем статистику DW\n",
        "dw_statistic = sm.stats.durbin_watson(model.resid)\n",
        "\n",
        "print(f\"DW-статистика: {dw_statistic}\")\n"
      ],
      "metadata": {
        "colab": {
          "base_uri": "https://localhost:8080/"
        },
        "id": "S8FnR4dfz7cF",
        "outputId": "460db9b3-46aa-4664-b108-577d41d77a3e"
      },
      "execution_count": 48,
      "outputs": [
        {
          "output_type": "stream",
          "name": "stdout",
          "text": [
            "DW-статистика: 0.7771118978529755\n"
          ]
        }
      ]
    },
    {
      "cell_type": "markdown",
      "source": [
        "Значение DW-статистики равное 0.777 указывает на то, что остатки регрессии имеют положительную автокорреляцию"
      ],
      "metadata": {
        "id": "B1JEjlGS0cOq"
      }
    },
    {
      "cell_type": "code",
      "source": [
        "#г)\n"
      ],
      "metadata": {
        "id": "C0ypgC-Z0PY9"
      },
      "execution_count": null,
      "outputs": []
    },
    {
      "cell_type": "markdown",
      "source": [
        "\n",
        "Исходя из результатов регрессионного анализа, вы имеете следующее:\n",
        "\n",
        "Коэффициент детерминации R^2=0.786, что говорит о том, что примерно 78.6% изменчивости импорта объясняется экспортом. Это указывает на наличие положительной зависимости между объемами экспорта и импорта.\n",
        "\n",
        "T-статистика для коэффициента при переменной EX: Значение t-статистики равно 11.176, а P-value меньше 0.05, что говорит о статистической значимости коэффициента при переменной EX.\n",
        "\n",
        "DW-статистика: DW-статистика равна 0.777, указывая на положительную автокорреляцию в остатках регрессии.\n",
        "\n",
        "Исходя из этих данных, гипотеза о положительной зависимости между объемами экспорта и импорта не отклоняется. Коэффициент детерминации\n",
        "и статистическая значимость коэффициента при переменной экспорта подтверждают наличие положительной связи."
      ],
      "metadata": {
        "id": "iwXk2jNg0zJn"
      }
    },
    {
      "cell_type": "code",
      "source": [
        "#д)\n",
        "# Создаем столбцы с приращениями\n",
        "df['ΔIM'] = df['IM'].diff()\n",
        "df['ΔEX'] = df['EX'].diff()\n",
        "\n",
        "# Определяем зависимую и независимую переменные\n",
        "X_diff = df[['const', 'ΔEX']]\n",
        "y_diff = df['ΔIM'].dropna()  # Удаляем первую строку, так как для нее ΔIM отсутствует\n"
      ],
      "metadata": {
        "id": "OInBDjht4z-H"
      },
      "execution_count": 72,
      "outputs": []
    },
    {
      "cell_type": "code",
      "source": [
        "# Проверим наличие бесконечных значений\n",
        "print(df[df.applymap(lambda x: x == float('inf') or x == float('-inf'))].count())\n",
        "\n",
        "# Обработаем пропущенные значения\n",
        "df = df.dropna()\n",
        "\n",
        "# Проверим еще раз наличие бесконечных значений и пропущенных значений\n",
        "print(df[df.applymap(lambda x: x == float('inf') or x == float('-inf'))].count())\n",
        "print(df.isnull().sum())\n"
      ],
      "metadata": {
        "colab": {
          "base_uri": "https://localhost:8080/"
        },
        "id": "k5Y2QClM4sol",
        "outputId": "41aa3c87-8a4e-429d-86b1-f7cd926720be"
      },
      "execution_count": 73,
      "outputs": [
        {
          "output_type": "stream",
          "name": "stdout",
          "text": [
            "Квартал    0\n",
            "EX         0\n",
            "IM         0\n",
            "const      0\n",
            "ΔIM        0\n",
            "ΔEX        0\n",
            "dtype: int64\n",
            "Квартал    0\n",
            "EX         0\n",
            "IM         0\n",
            "const      0\n",
            "ΔIM        0\n",
            "ΔEX        0\n",
            "dtype: int64\n",
            "Квартал    0\n",
            "EX         0\n",
            "IM         0\n",
            "const      0\n",
            "ΔIM        0\n",
            "ΔEX        0\n",
            "dtype: int64\n"
          ]
        }
      ]
    },
    {
      "cell_type": "code",
      "source": [
        "# Выведем строки с бесконечными или отсутствующими значениями\n",
        "print(df[df.isin([np.inf, -np.inf, np.nan]).any(axis=1)])\n"
      ],
      "metadata": {
        "colab": {
          "base_uri": "https://localhost:8080/"
        },
        "id": "GYeLv2WW2PVR",
        "outputId": "063efce4-ecc3-4c7d-ea87-10bcd8cf30be"
      },
      "execution_count": 74,
      "outputs": [
        {
          "output_type": "stream",
          "name": "stdout",
          "text": [
            "Empty DataFrame\n",
            "Columns: [Квартал, EX, IM, const, ΔIM, ΔEX]\n",
            "Index: []\n"
          ]
        }
      ]
    },
    {
      "cell_type": "code",
      "source": [
        "# Удаляем строки с пропущенными значениями\n",
        "df_cleaned = df.dropna()\n",
        "\n",
        "# Подготавливаем данные\n",
        "X_diff_sklearn_cleaned = df_cleaned[['ΔEX']]\n",
        "y_diff_sklearn_cleaned = df_cleaned['ΔIM']\n",
        "\n",
        "# Создаем объект линейной регрессии\n",
        "model_diff_sklearn_cleaned = LinearRegression()\n",
        "\n",
        "# Обучаем модель\n",
        "model_diff_sklearn_cleaned.fit(X_diff_sklearn_cleaned, y_diff_sklearn_cleaned)\n",
        "\n",
        "# Выводим результаты регрессии\n",
        "print(f'Коэффициенты регрессии: {model_diff_sklearn_cleaned.coef_}')\n",
        "print(f'Пересечение: {model_diff_sklearn_cleaned.intercept_}')\n"
      ],
      "metadata": {
        "colab": {
          "base_uri": "https://localhost:8080/"
        },
        "id": "OOV_obUh4Dh3",
        "outputId": "2caa83c4-75c5-4d9d-bedb-082fe745ff6a"
      },
      "execution_count": 78,
      "outputs": [
        {
          "output_type": "stream",
          "name": "stdout",
          "text": [
            "Коэффициенты регрессии: [0.82782526]\n",
            "Пересечение: 0.015918002492972774\n"
          ]
        }
      ]
    },
    {
      "cell_type": "code",
      "source": [
        "print(df)"
      ],
      "metadata": {
        "colab": {
          "base_uri": "https://localhost:8080/"
        },
        "id": "QNxhIrZF2Rnp",
        "outputId": "707d4ce2-0b37-4230-dd41-0cc7601abd31"
      },
      "execution_count": 80,
      "outputs": [
        {
          "output_type": "stream",
          "name": "stdout",
          "text": [
            "    Квартал     EX     IM  const   ΔIM   ΔEX\n",
            "4         5  13.00  13.16      1  0.88  0.03\n",
            "5         6  13.31  13.43      1  0.27  0.31\n",
            "6         7  13.25  13.28      1 -0.15 -0.06\n",
            "7         8  12.65  13.50      1  0.22 -0.60\n",
            "8         9  14.49  15.32      1  1.82  1.84\n",
            "9        10  14.47  15.62      1  0.30 -0.02\n",
            "10       11  14.74  17.44      1  1.82  0.27\n",
            "11       12  14.62  16.14      1 -1.30 -0.12\n",
            "12       13  17.60  16.13      1 -0.01  2.98\n",
            "13       14  17.70  16.08      1 -0.05  0.10\n",
            "14       15  16.60  16.55      1  0.47 -1.10\n",
            "15       16  15.26  15.00      1 -1.55 -1.34\n",
            "16       17  19.49  18.72      1  3.72  4.23\n",
            "17       18  19.08  17.80      1 -0.92 -0.41\n",
            "18       19  18.69  16.64      1 -1.16 -0.39\n",
            "19       20  18.65  17.39      1  0.75 -0.04\n",
            "20       21  19.33  18.70      1  1.31  0.68\n",
            "21       22  19.11  18.02      1 -0.68 -0.22\n",
            "22       23  18.62  17.46      1 -0.56 -0.49\n",
            "23       24  18.40  16.96      1 -0.50 -0.22\n",
            "24       25  16.15  15.06      1 -1.90 -2.25\n",
            "25       26  16.58  16.01      1  0.95  0.43\n",
            "26       27  17.60  16.63      1  0.62  1.02\n",
            "27       28  18.48  17.86      1  1.23  0.88\n",
            "28       29  15.36  14.56      1 -3.30 -3.12\n",
            "29       30  15.25  15.64      1  1.08 -0.11\n",
            "30       31  15.61  16.45      1  0.81  0.36\n",
            "31       32  15.93  17.42      1  0.97  0.32\n",
            "32       33  14.38  14.30      1 -3.12 -1.55\n",
            "33       34  14.30  14.59      1  0.29 -0.08\n",
            "34       35  14.75  14.66      1  0.07  0.45\n",
            "35       36  15.58  14.95      1  0.29  0.83\n"
          ]
        }
      ]
    },
    {
      "cell_type": "markdown",
      "source": [
        "Коэффициенты регрессии: 0.82782526\n",
        "\n",
        "Пересечение: 0.015918002492972774"
      ],
      "metadata": {
        "id": "j_eRBiZr5dGK"
      }
    },
    {
      "cell_type": "code",
      "source": [
        "#e)\n",
        "# Получаем остатки регрессии\n",
        "residuals = y_diff_sklearn_cleaned - model_diff_sklearn_cleaned.predict(X_diff_sklearn_cleaned)\n",
        "\n",
        "# Вычисляем значение статистики DW\n",
        "dw_statistic = np.sum(np.diff(residuals) ** 2) / np.sum(residuals ** 2)\n",
        "\n",
        "print(f\"DW-статистика: {dw_statistic}\")\n"
      ],
      "metadata": {
        "colab": {
          "base_uri": "https://localhost:8080/"
        },
        "id": "I3UxSeO32kDI",
        "outputId": "111855ab-84a1-4b1a-90df-97139c4ea88a"
      },
      "execution_count": 81,
      "outputs": [
        {
          "output_type": "stream",
          "name": "stdout",
          "text": [
            "DW-статистика: 2.0603521697838163\n"
          ]
        }
      ]
    },
    {
      "cell_type": "markdown",
      "source": [
        "\n",
        "Значение статистики DW (Дарбина-Уотсона) составляет примерно 2.06. Такое значение близко к 2, что указывает на отсутствие значительной автокорреляции в остатках регрессии. Это хороший результат, так как отсутствие автокорреляции означает, что остатки регрессии независимы друг от друга"
      ],
      "metadata": {
        "id": "1ucRasD56MsC"
      }
    },
    {
      "cell_type": "markdown",
      "source": [
        "###№11 По 30-годовым наблюдениям строится функция инвестиций:\n",
        "i(t)= Bo + B1y(t) + B2r(t) + ε(t)\n",
        "###где i(t) - объем инвестиций в году t; y(t) - ВНП в году t; r(t) - процентная ставка в году t.\n",
        "\n",
        "a) Оцените по МНК коэффициенты искомого уравнения регрессии.\n",
        "\n",
        "б) Оцените статистическую значимость коэффициентов и общее качество уравнения регрессии.\n",
        "\n",
        "b) Используя статистику DW Дарбина-Уотсона, оцените наличие автокор- реляции остатков для построенного уравнения.\n",
        "\n",
        "г) При наличии автокорреляции переоцените уравнение регрессии, используя для этого авторегрессионную схему первого порядка AR(1).\n",
        "\n",
        "д) Спрогнозируйте объем инвестиций на следующий год, если прогнозируемые значения ВНП и процентной ставки составят соответственно у(t+1) = 37 и\n",
        "r(t+1) = 15.\n",
        "\n",
        "e) Постройте 95 %-ный доверительный интервал для среднего значения прогноза."
      ],
      "metadata": {
        "id": "zMCuuXbU6QhU"
      }
    },
    {
      "cell_type": "code",
      "source": [
        "years = list(range(1, 31))\n",
        "Y = [8.58, 10.45, 8.35, 10.65, 9.7, 12.0, 13.45, 14.2, 14.45, 13.85, 16.55, 18.0, 18.4, 20.4, 21.0, 23.75, 25.75, 24.2, 25.2, 26.2, 28.6, 30.6, 31.32, 26.0, 26.85, 32.1, 32.95, 33.3, 33.85, 35.6]\n",
        "R = [18.12, 11.05, 9.0, 17.0, 16.25, 13.8, 19.95, 18.74, 13.8, 9.55, 19.3, 15.2, 12.4, 16.5, 5.95, 17.5, 16.43, 7.4, 15.45, 19.15, 5.45, 9.52, 7.95, 7.45, 19.9, 8.65, 21.35, 11.11, 15.82, 21.67]\n",
        "I = [11.55, 13.25, 10.9, 10.45, 15.1, 17.5, 17.77, 16.1, 10.59, 10.65, 9.32, 11.0, 15.05, 15.1, 22.7, 21.95, 23.1, 25.65, 26.15, 25.55, 28.1, 24.2, 32.3, 21.5, 22.95, 30.45, 24.6, 32.5, 31.2, 29.5]\n"
      ],
      "metadata": {
        "id": "LzvuiC_N27tA"
      },
      "execution_count": 82,
      "outputs": []
    },
    {
      "cell_type": "code",
      "source": [
        "data = {'Год': years, 'Y': Y, 'R': R, 'I': I}\n",
        "df = pd.DataFrame(data)\n",
        "print(df)"
      ],
      "metadata": {
        "colab": {
          "base_uri": "https://localhost:8080/"
        },
        "id": "cYzasbPR-x8p",
        "outputId": "ce1bcbe4-8c27-47fc-8805-ecb5ddbb7712"
      },
      "execution_count": 83,
      "outputs": [
        {
          "output_type": "stream",
          "name": "stdout",
          "text": [
            "    Год      Y      R      I\n",
            "0     1   8.58  18.12  11.55\n",
            "1     2  10.45  11.05  13.25\n",
            "2     3   8.35   9.00  10.90\n",
            "3     4  10.65  17.00  10.45\n",
            "4     5   9.70  16.25  15.10\n",
            "5     6  12.00  13.80  17.50\n",
            "6     7  13.45  19.95  17.77\n",
            "7     8  14.20  18.74  16.10\n",
            "8     9  14.45  13.80  10.59\n",
            "9    10  13.85   9.55  10.65\n",
            "10   11  16.55  19.30   9.32\n",
            "11   12  18.00  15.20  11.00\n",
            "12   13  18.40  12.40  15.05\n",
            "13   14  20.40  16.50  15.10\n",
            "14   15  21.00   5.95  22.70\n",
            "15   16  23.75  17.50  21.95\n",
            "16   17  25.75  16.43  23.10\n",
            "17   18  24.20   7.40  25.65\n",
            "18   19  25.20  15.45  26.15\n",
            "19   20  26.20  19.15  25.55\n",
            "20   21  28.60   5.45  28.10\n",
            "21   22  30.60   9.52  24.20\n",
            "22   23  31.32   7.95  32.30\n",
            "23   24  26.00   7.45  21.50\n",
            "24   25  26.85  19.90  22.95\n",
            "25   26  32.10   8.65  30.45\n",
            "26   27  32.95  21.35  24.60\n",
            "27   28  33.30  11.11  32.50\n",
            "28   29  33.85  15.82  31.20\n",
            "29   30  35.60  21.67  29.50\n"
          ]
        }
      ]
    },
    {
      "cell_type": "code",
      "source": [
        "# Добавление столбца с единичным столбцом для свободного члена\n",
        "df['const'] = 1\n",
        "\n",
        "# Оценка параметров модели с помощью линейной регрессии\n",
        "model = sm.OLS(df['I'], df[['const', 'Y', 'R']])\n",
        "results = model.fit()\n",
        "\n",
        "# Вывод результатов\n",
        "print(results.summary())"
      ],
      "metadata": {
        "colab": {
          "base_uri": "https://localhost:8080/"
        },
        "id": "G_NoNoB1--EZ",
        "outputId": "020890b4-bdaa-4c4d-ea2d-b0d0b0db88d7"
      },
      "execution_count": 84,
      "outputs": [
        {
          "output_type": "stream",
          "name": "stdout",
          "text": [
            "                            OLS Regression Results                            \n",
            "==============================================================================\n",
            "Dep. Variable:                      I   R-squared:                       0.816\n",
            "Model:                            OLS   Adj. R-squared:                  0.803\n",
            "Method:                 Least Squares   F-statistic:                     59.98\n",
            "Date:                Sat, 18 Nov 2023   Prob (F-statistic):           1.17e-10\n",
            "Time:                        10:36:58   Log-Likelihood:                -77.067\n",
            "No. Observations:                  30   AIC:                             160.1\n",
            "Df Residuals:                      27   BIC:                             164.3\n",
            "Df Model:                           2                                         \n",
            "Covariance Type:            nonrobust                                         \n",
            "==============================================================================\n",
            "                 coef    std err          t      P>|t|      [0.025      0.975]\n",
            "------------------------------------------------------------------------------\n",
            "const          6.2242      2.512      2.478      0.020       1.069      11.379\n",
            "Y              0.7697      0.072     10.723      0.000       0.622       0.917\n",
            "R             -0.1838      0.126     -1.453      0.158      -0.443       0.076\n",
            "==============================================================================\n",
            "Omnibus:                        2.818   Durbin-Watson:                   1.066\n",
            "Prob(Omnibus):                  0.244   Jarque-Bera (JB):                1.898\n",
            "Skew:                          -0.412   Prob(JB):                        0.387\n",
            "Kurtosis:                       2.084   Cond. No.                         111.\n",
            "==============================================================================\n",
            "\n",
            "Notes:\n",
            "[1] Standard Errors assume that the covariance matrix of the errors is correctly specified.\n"
          ]
        }
      ]
    },
    {
      "cell_type": "code",
      "source": [
        "#a)\n",
        "import numpy as np\n",
        "\n",
        "# Создание матрицы независимых переменных X\n",
        "X = df[['const', 'Y', 'R']]\n",
        "\n",
        "# Создание вектора зависимой переменной Y\n",
        "Y = df['I']\n",
        "\n",
        "# Оценка коэффициентов по МНК\n",
        "beta_hat = np.linalg.inv(X.T @ X) @ X.T @ Y\n",
        "\n",
        "# Вывод оцененных коэффициентов\n",
        "print(\"Оцененные коэффициенты:\")\n",
        "print(\"const (Bo):\", beta_hat[0])\n",
        "print(\"Y (B1):\", beta_hat[1])\n",
        "print(\"R (B2):\", beta_hat[2])\n",
        "\n"
      ],
      "metadata": {
        "colab": {
          "base_uri": "https://localhost:8080/"
        },
        "id": "RtI6l6SHAUvn",
        "outputId": "2294d9df-ae05-471b-b473-9a58948b92f8"
      },
      "execution_count": 85,
      "outputs": [
        {
          "output_type": "stream",
          "name": "stdout",
          "text": [
            "Оцененные коэффициенты:\n",
            "const (Bo): 6.224224386646137\n",
            "Y (B1): 0.7696839400517588\n",
            "R (B2): -0.18377224568670525\n"
          ]
        }
      ]
    },
    {
      "cell_type": "markdown",
      "source": [
        "Свободный член (Bo): Коэффициент свободного члена равен 6.224.  \n",
        "Это предполагаемое значение для инвестиций (I) при нулевых значениях ВНП (Y) и процентной ставки (R). Это может интерпретироваться как начальный уровень инвестиций при отсутствии влияния ВНП и процентной ставки.\n",
        "\n",
        "Коэффициент для ВНП (B1): Коэффициент для ВНП равен\n",
        "0.770. Это положительное значение указывает на положительную связь между ВНП и инвестициями. С увеличением ВНП на единицу, инвестиции увеличиваются примерно на 0.770 единиц.\n",
        "\n",
        "Коэффициент для процентной ставки (B2): Коэффициент для процентной ставки равен −0.184. Это отрицательное значение может указывать на отрицательную связь между процентной ставкой и инвестициями. Однако статистическая значимость этого коэффициента не подтверждена на уровне значимости 0.05."
      ],
      "metadata": {
        "id": "HnNEOe28DAcL"
      }
    },
    {
      "cell_type": "code",
      "source": [
        "#б)\n"
      ],
      "metadata": {
        "id": "Y5C_d9iXAxrt"
      },
      "execution_count": null,
      "outputs": []
    },
    {
      "cell_type": "markdown",
      "source": [
        "P-values: В предыдущем выводе были предоставлены P-values для каждого коэффициента. P-value меньше 0.05 обычно считается статистически значимым. Ваша модель показывает статистическую значимость для свободного члена (Bo) и ВНП (B1), но не для процентной ставки (B2).\n",
        "Общее качество модели:\n",
        "\n",
        "R-squared (R^2): R-squared показывает, как много изменчивости в зависимой переменной объясняется моделью. Ваш R^2 равен 0.816, что означает, что примерно 81.6% изменчивости переменной инвестиций (I) объяснено моделью. Это может считаться довольно высоким значением.\n",
        "\n",
        "F-статистика: F-статистика и ее P-value также оценивают общую статистическую значимость модели. Значение F-статистики равно 59.98, а P-value меньше 0.05, что подтверждает статистическую значимость модели в целом.\n",
        "\n",
        "Таким образом, модель в целом является статистически значимой, и большая часть"
      ],
      "metadata": {
        "id": "4ufy9pp5DowZ"
      }
    },
    {
      "cell_type": "code",
      "source": [
        "#в)\n",
        "# Расчет статистики DW\n",
        "dw_statistic = durbin_watson(results.resid)\n",
        "\n",
        "# Вывод результата\n",
        "print(\"Статистика DW:\", dw_statistic)"
      ],
      "metadata": {
        "colab": {
          "base_uri": "https://localhost:8080/"
        },
        "id": "PMPASgUnDwXg",
        "outputId": "5b54c903-6008-4a95-c162-982031f4dde1"
      },
      "execution_count": 88,
      "outputs": [
        {
          "output_type": "stream",
          "name": "stdout",
          "text": [
            "Статистика DW: 1.0656209085939317\n"
          ]
        }
      ]
    },
    {
      "cell_type": "markdown",
      "source": [
        "В данном случае значение DW близко к 2, что говорит о том, что в остатках модели, скорее всего, отсутствует систематическая автокорреляция. Это положительный признак, что остатки не содержат значимой зависимости внутри самих себя."
      ],
      "metadata": {
        "id": "Zn34hgAkFrEE"
      }
    },
    {
      "cell_type": "code",
      "source": [
        "#г)\n"
      ],
      "metadata": {
        "id": "moaCvvKfFTRW"
      },
      "execution_count": null,
      "outputs": []
    },
    {
      "cell_type": "markdown",
      "source": [
        "i(t)=β\n",
        "0\n",
        "​\n",
        " +β\n",
        "1\n",
        "​\n",
        " y(t)+β\n",
        "2\n",
        "​\n",
        " r(t)+ρi(t−1)+ε(t)"
      ],
      "metadata": {
        "id": "F_ym2BlUF-qb"
      }
    },
    {
      "cell_type": "code",
      "source": [
        "import statsmodels.api as sm\n",
        "\n",
        "# Создание матрицы независимых переменных X\n",
        "X_ar = df[['const', 'Y', 'R', 'I']].shift(1).dropna()\n",
        "\n",
        "# Создание вектора зависимой переменной Y\n",
        "Y_ar = df['I'].shift(1).dropna()\n",
        "\n",
        "# Оценка коэффициентов по AR(1)\n",
        "model_ar = sm.OLS(Y_ar, sm.add_constant(X_ar))\n",
        "results_ar = model_ar.fit()\n",
        "\n",
        "# Вывод результатов\n",
        "print(results_ar.summary())\n"
      ],
      "metadata": {
        "colab": {
          "base_uri": "https://localhost:8080/"
        },
        "id": "sfTGGmV-F_mU",
        "outputId": "d22c23f2-4029-4b65-f171-1302e9953745"
      },
      "execution_count": 90,
      "outputs": [
        {
          "output_type": "stream",
          "name": "stdout",
          "text": [
            "                            OLS Regression Results                            \n",
            "==============================================================================\n",
            "Dep. Variable:                      I   R-squared:                       1.000\n",
            "Model:                            OLS   Adj. R-squared:                  1.000\n",
            "Method:                 Least Squares   F-statistic:                 8.632e+30\n",
            "Date:                Sat, 18 Nov 2023   Prob (F-statistic):               0.00\n",
            "Time:                        11:02:54   Log-Likelihood:                 903.39\n",
            "No. Observations:                  29   AIC:                            -1799.\n",
            "Df Residuals:                      25   BIC:                            -1793.\n",
            "Df Model:                           3                                         \n",
            "Covariance Type:            nonrobust                                         \n",
            "==============================================================================\n",
            "                 coef    std err          t      P>|t|      [0.025      0.975]\n",
            "------------------------------------------------------------------------------\n",
            "const      -6.389e-15    6.9e-15     -0.926      0.363   -2.06e-14    7.81e-15\n",
            "Y            5.35e-16   3.87e-16      1.384      0.179   -2.61e-16    1.33e-15\n",
            "R          -1.913e-16   3.21e-16     -0.596      0.557   -8.52e-16     4.7e-16\n",
            "I              1.0000   4.46e-16   2.24e+15      0.000       1.000       1.000\n",
            "==============================================================================\n",
            "Omnibus:                        0.590   Durbin-Watson:                   0.123\n",
            "Prob(Omnibus):                  0.745   Jarque-Bera (JB):                0.305\n",
            "Skew:                          -0.249   Prob(JB):                        0.858\n",
            "Kurtosis:                       2.932   Cond. No.                         161.\n",
            "==============================================================================\n",
            "\n",
            "Notes:\n",
            "[1] Standard Errors assume that the covariance matrix of the errors is correctly specified.\n"
          ]
        }
      ]
    },
    {
      "cell_type": "markdown",
      "source": [
        "Модель AR(1) показывает, что влияние предыдущих значений инвестиций (I) сильно положительно и статистически значимо. Однако, константа и коэффициенты для переменных Y и R не являются статистически значимыми"
      ],
      "metadata": {
        "id": "MTapWnUfGeCP"
      }
    },
    {
      "cell_type": "code",
      "source": [
        "#д)\n",
        "# Прогнозируемые значения ВНП и процентной ставки\n",
        "y_forecast = 37\n",
        "r_forecast = 15\n",
        "\n",
        "# Предыдущее значение инвестиций (последнее из имеющихся данных)\n",
        "i_previous = df['I'].iloc[-1]\n",
        "\n",
        "# Подставляем значения в уравнение AR(1)\n",
        "i_forecast = results_ar.params['const'] + results_ar.params['Y'] * y_forecast + results_ar.params['R'] * r_forecast + results_ar.params['I'] * i_previous\n",
        "\n",
        "print(\"Прогноз объема инвестиций на следующий год:\", i_forecast)\n"
      ],
      "metadata": {
        "colab": {
          "base_uri": "https://localhost:8080/"
        },
        "id": "_1AfNwblGF_c",
        "outputId": "04df0a15-3630-48b2-d2c8-13a2a14fcdcc"
      },
      "execution_count": 91,
      "outputs": [
        {
          "output_type": "stream",
          "name": "stdout",
          "text": [
            "Прогноз объема инвестиций на следующий год: 29.499999999999996\n"
          ]
        }
      ]
    },
    {
      "cell_type": "code",
      "source": [
        "#e)\n",
        "import numpy as np\n",
        "\n",
        "# Критическое значение для 95% уровня доверия\n",
        "critical_value = 1.96\n",
        "\n",
        "# Оцененная стандартная ошибка остатков\n",
        "std_error_forecast = np.sqrt(results_ar.mse_resid)\n",
        "\n",
        "# Рассчет доверительного интервала\n",
        "lower_bound = i_forecast - critical_value * std_error_forecast\n",
        "upper_bound = i_forecast + critical_value * std_error_forecast\n",
        "\n",
        "print(\"95%-й доверительный интервал для среднего значения прогноза:\", (lower_bound, upper_bound))\n"
      ],
      "metadata": {
        "colab": {
          "base_uri": "https://localhost:8080/"
        },
        "id": "WWTE_QbMGzfT",
        "outputId": "1c45e103-9329-4c91-8d76-01a5aa08a8f1"
      },
      "execution_count": 92,
      "outputs": [
        {
          "output_type": "stream",
          "name": "stdout",
          "text": [
            "95%-й доверительный интервал для среднего значения прогноза: (29.499999999999982, 29.50000000000001)\n"
          ]
        }
      ]
    },
    {
      "cell_type": "code",
      "source": [],
      "metadata": {
        "id": "r2gfzRMCHH2j"
      },
      "execution_count": 92,
      "outputs": []
    },
    {
      "cell_type": "code",
      "source": [
        "!pip install nbconvert"
      ],
      "metadata": {
        "id": "Yv8_JJdjH3If"
      },
      "execution_count": null,
      "outputs": []
    },
    {
      "cell_type": "code",
      "source": [],
      "metadata": {
        "id": "3M3l4Or_H3Gd"
      },
      "execution_count": null,
      "outputs": []
    },
    {
      "cell_type": "code",
      "source": [],
      "metadata": {
        "id": "BkTC66VuH3EP"
      },
      "execution_count": null,
      "outputs": []
    }
  ]
}