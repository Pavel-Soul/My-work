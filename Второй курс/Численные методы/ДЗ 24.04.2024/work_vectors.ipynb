{
 "cells": [
  {
   "cell_type": "code",
   "execution_count": 3,
   "metadata": {},
   "outputs": [],
   "source": [
    "import matplotlib.pyplot as plt\n",
    "import numpy as np\n",
    "import pandas as pd\n",
    "import seaborn as sns\n",
    "from sympy import symbols, solve"
   ]
  },
  {
   "cell_type": "code",
   "execution_count": 4,
   "metadata": {},
   "outputs": [],
   "source": [
    "matrix = np.array([[2, -1, 3], [-2, 4, 5], [3, 2, -1]])\n"
   ]
  },
  {
   "cell_type": "markdown",
   "metadata": {},
   "source": [
    "## Метод Данилевского"
   ]
  },
  {
   "cell_type": "code",
   "execution_count": 40,
   "metadata": {},
   "outputs": [
    {
     "name": "stdout",
     "output_type": "stream",
     "text": [
      "[-4.28412600340435, 3.762072500784623, 5.522053502619728]\n",
      "\n",
      "[-0.59634993 -0.74753811  1.        ]\n",
      "[ 2.3618035 -1.161669   1.       ]\n",
      "[-0.12908993  3.45466165  1.        ]\n"
     ]
    }
   ],
   "source": [
    "def danilevsky_method(A):\n",
    "    n = len(A)\n",
    "    B_ = np.eye(n)\n",
    "    # Вычисляем матрицу Фронбениуса\n",
    "    for k in range(1, n):\n",
    "        B = np.eye(n)\n",
    "        for j in range(n):\n",
    "            if j == n - k - 1:\n",
    "                B[-k - 1, j] = 1 / A[n - k, n - k - 1]\n",
    "            else:\n",
    "                B[-k - 1, j] = -A[n - k, j] / A[n - k, n - k - 1]\n",
    "        A = np.linalg.inv(B) @ A @ B\n",
    "        B_ @= B\n",
    "    \n",
    "    # Теперь у нас есть матрица Фронбениуса (Записана в A)\n",
    "    # Осталось решить уравнение\n",
    "    alpha = symbols(\"alpha\")\n",
    "    express = (\n",
    "        sum([alpha ** (n - k) * el for k, el in enumerate(A[0], start=1)]) - alpha**n\n",
    "    )\n",
    "    # Найдем собственные значения\n",
    "    values = [complex(i).real for i in solve(express)]\n",
    "    # Найдем собственные векторы\n",
    "    vectors = [B_ @ np.array([i**k for k in range(n - 1, -1, -1)]) for i in values]\n",
    "    return values, vectors\n",
    "\n",
    "\n",
    "values, vectors = danilevsky_method(matrix)\n",
    "print(values)\n",
    "print()\n",
    "print(*vectors, sep=\"\\n\")\n"
   ]
  },
  {
   "attachments": {
    "image.png": {
     "image/png": "[encoded data removed]"
    }
   },
   "cell_type": "markdown",
   "metadata": {},
   "source": [
    "![image.png](attachment:image.png)"
   ]
  },
  {
   "cell_type": "code",
   "execution_count": 41,
   "metadata": {},
   "outputs": [
    {
     "name": "stdout",
     "output_type": "stream",
     "text": [
      "[ 2.55483824  3.20254744 -4.284126  ]\n",
      "[ 2.55483824  3.20254744 -4.284126  ]\n"
     ]
    }
   ],
   "source": [
    "# Проверка первого значения и вектора\n",
    "print(matrix @ vectors[0])\n",
    "print(values[0] * vectors[0])"
   ]
  },
  {
   "cell_type": "markdown",
   "metadata": {},
   "source": [
    "## Метод Крылова"
   ]
  },
  {
   "cell_type": "code",
   "execution_count": 138,
   "metadata": {},
   "outputs": [
    {
     "name": "stdout",
     "output_type": "stream",
     "text": [
      "[-4.28412600340435, 3.762072500784623, 5.522053502619728]\n",
      "\n",
      "[ 17.20611362  21.56825201 -28.85237801]\n",
      "[-11.133028    5.475855   -4.7137825]\n",
      "[-0.07308562  1.95589299  0.56616051]\n"
     ]
    }
   ],
   "source": [
    "def krylov_method(a):\n",
    "    c = []\n",
    "    n = len(a)\n",
    "\n",
    "    c.append([1, *[0] * (n - 1)])  # начальный с [1, 0, 0, ..., 0]\n",
    "\n",
    "    for i in range(n):\n",
    "        c.append(np.dot(a, c[i]))  # рекурсивно вычисляем c\n",
    "\n",
    "    C = np.array(c)\n",
    "\n",
    "    cn = c.pop()  # выделяем столбец свободных членов cn\n",
    "\n",
    "    c = np.array(c).transpose()\n",
    "\n",
    "    for i in range(n):  # транспонируем матрицу коэффициентов C\n",
    "        c[i] = list(reversed(c[i]))\n",
    "\n",
    "    p = np.linalg.solve(c, cn)  # решаем систему C*p = cn\n",
    "\n",
    "    x = symbols(\"x\")  # вычисляем собственные значения\n",
    "    values = solve(x**n - sum(p[i] * x ** (n - i - 1) for i in range(n)))\n",
    "    values = [complex(i).real for i in values]\n",
    "\n",
    "    # Вычисляем собственные векторы\n",
    "    vectors = []\n",
    "\n",
    "    for v in values:\n",
    "        b = np.ones(n)\n",
    "        \n",
    "        for i in range(1, n):  # находим коэффиценты b\n",
    "            b[i] = b[i - 1] * v - p[i - 1]\n",
    "        x = np.sum([b[i] * C[n - i - 1] for i in range(n)], axis=0)\n",
    "        vectors.append(x)\n",
    "    return values, vectors\n",
    "\n",
    "\n",
    "values, vectors = krylov_method(matrix)\n",
    "print(values)\n",
    "print()\n",
    "print(*vectors, sep=\"\\n\")\n"
   ]
  },
  {
   "cell_type": "code",
   "execution_count": 141,
   "metadata": {},
   "outputs": [
    {
     "name": "stdout",
     "output_type": "stream",
     "text": [
      "[-73.71315879 -92.40110927 123.60722289]\n",
      "[-73.71315879 -92.40110927 123.60722289]\n"
     ]
    }
   ],
   "source": [
    "# Проверка первого значения и вектора\n",
    "print(matrix @ vectors[0])\n",
    "print(values[0] * vectors[0])\n"
   ]
  },
  {
   "cell_type": "code",
   "execution_count": 142,
   "metadata": {},
   "outputs": [
    {
     "data": {
      "text/plain": [
       "array([-0.59634993, -0.74753811,  1.        ])"
      ]
     },
     "execution_count": 142,
     "metadata": {},
     "output_type": "execute_result"
    }
   ],
   "source": [
    "vectors[0] / vectors[0][-1]"
   ]
  }
 ],
 "metadata": {
  "kernelspec": {
   "display_name": "Python 3",
   "language": "python",
   "name": "python3"
  },
  "language_info": {
   "codemirror_mode": {
    "name": "ipython",
    "version": 3
   },
   "file_extension": ".py",
   "mimetype": "text/x-python",
   "name": "python",
   "nbconvert_exporter": "python",
   "pygments_lexer": "ipython3",
   "version": "3.12.1"
  }
 },
 "nbformat": 4,
 "nbformat_minor": 2
}
