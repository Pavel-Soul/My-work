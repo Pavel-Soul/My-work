{
 "cells": [
  {
   "cell_type": "markdown",
   "metadata": {},
   "source": [
    " Ознакомиться с решением задачи с помощью первого интерполяционного полинома Ньютона."
   ]
  },
  {
   "cell_type": "code",
   "execution_count": 8,
   "metadata": {},
   "outputs": [],
   "source": [
    "import numpy as np\n",
    "import pandas as pd\n",
    "import matplotlib.pyplot as plt\n",
    "from math import factorial"
   ]
  },
  {
   "cell_type": "code",
   "execution_count": 9,
   "metadata": {},
   "outputs": [],
   "source": [
    "x_0 = 1\n",
    "h = 0.5\n",
    "count = 10\n",
    "\n",
    "\n",
    "def f(x):\n",
    "    return -0.01 * x**3 + 0.02 * x**2 + 0.1 * x + 1.5\n"
   ]
  },
  {
   "cell_type": "code",
   "execution_count": 10,
   "metadata": {},
   "outputs": [
    {
     "data": {
      "text/html": [
       "<div>\n",
       "<style scoped>\n",
       "    .dataframe tbody tr th:only-of-type {\n",
       "        vertical-align: middle;\n",
       "    }\n",
       "\n",
       "    .dataframe tbody tr th {\n",
       "        vertical-align: top;\n",
       "    }\n",
       "\n",
       "    .dataframe thead th {\n",
       "        text-align: right;\n",
       "    }\n",
       "</style>\n",
       "<table border=\"1\" class=\"dataframe\">\n",
       "  <thead>\n",
       "    <tr style=\"text-align: right;\">\n",
       "      <th></th>\n",
       "      <th>x</th>\n",
       "      <th>y</th>\n",
       "    </tr>\n",
       "  </thead>\n",
       "  <tbody>\n",
       "    <tr>\n",
       "      <th>0</th>\n",
       "      <td>1.0</td>\n",
       "      <td>1.61000</td>\n",
       "    </tr>\n",
       "    <tr>\n",
       "      <th>1</th>\n",
       "      <td>1.5</td>\n",
       "      <td>1.66125</td>\n",
       "    </tr>\n",
       "    <tr>\n",
       "      <th>2</th>\n",
       "      <td>2.0</td>\n",
       "      <td>1.70000</td>\n",
       "    </tr>\n",
       "    <tr>\n",
       "      <th>3</th>\n",
       "      <td>2.5</td>\n",
       "      <td>1.71875</td>\n",
       "    </tr>\n",
       "    <tr>\n",
       "      <th>4</th>\n",
       "      <td>3.0</td>\n",
       "      <td>1.71000</td>\n",
       "    </tr>\n",
       "    <tr>\n",
       "      <th>5</th>\n",
       "      <td>3.5</td>\n",
       "      <td>1.66625</td>\n",
       "    </tr>\n",
       "    <tr>\n",
       "      <th>6</th>\n",
       "      <td>4.0</td>\n",
       "      <td>1.58000</td>\n",
       "    </tr>\n",
       "    <tr>\n",
       "      <th>7</th>\n",
       "      <td>4.5</td>\n",
       "      <td>1.44375</td>\n",
       "    </tr>\n",
       "    <tr>\n",
       "      <th>8</th>\n",
       "      <td>5.0</td>\n",
       "      <td>1.25000</td>\n",
       "    </tr>\n",
       "    <tr>\n",
       "      <th>9</th>\n",
       "      <td>5.5</td>\n",
       "      <td>0.99125</td>\n",
       "    </tr>\n",
       "  </tbody>\n",
       "</table>\n",
       "</div>"
      ],
      "text/plain": [
       "     x        y\n",
       "0  1.0  1.61000\n",
       "1  1.5  1.66125\n",
       "2  2.0  1.70000\n",
       "3  2.5  1.71875\n",
       "4  3.0  1.71000\n",
       "5  3.5  1.66625\n",
       "6  4.0  1.58000\n",
       "7  4.5  1.44375\n",
       "8  5.0  1.25000\n",
       "9  5.5  0.99125"
      ]
     },
     "execution_count": 10,
     "metadata": {},
     "output_type": "execute_result"
    }
   ],
   "source": [
    "X = x_0 + np.arange(count) * h\n",
    "Y = f(X)\n",
    "\n",
    "pd.DataFrame(zip(X, Y), columns=[\"x\", \"y\"])"
   ]
  },
  {
   "cell_type": "code",
   "execution_count": 11,
   "metadata": {},
   "outputs": [
    {
     "name": "stdout",
     "output_type": "stream",
     "text": [
      "d1: 0.051, 0.039, 0.019, -0.009, -0.044, -0.086, -0.136, -0.194, -0.259\n",
      "d2: -0.012, -0.02, -0.028, -0.035, -0.042, -0.05, -0.058, -0.065\n",
      "d3: -0.008, -0.008, -0.007, -0.008, -0.008, -0.008, -0.007\n",
      "d4: 0.0, 0.0, -0.0, 0.0, 0.0, 0.0\n",
      "d5: 0.0, -0.0, 0.0, 0.0, 0.0\n",
      "d6: -0.0, 0.0, -0.0, 0.0\n",
      "d7: 0.0, -0.0, 0.0\n",
      "d8: -0.0, 0.0\n",
      "d9: 0.0\n"
     ]
    }
   ],
   "source": [
    "vectors = []\n",
    "y = Y.copy()\n",
    "while len(y) > 1:\n",
    "    y = y[1:] - y[:-1]\n",
    "    vectors.append(y)\n",
    "\n",
    "for i, v in enumerate(vectors):\n",
    "    print(f\"d{i+1}:\", end=' ')\n",
    "    print(*map(lambda x: round(x, 3), v), sep=', ')\n"
   ]
  },
  {
   "cell_type": "code",
   "execution_count": 12,
   "metadata": {},
   "outputs": [
    {
     "data": {
      "text/plain": [
       "array([1.61   , 1.66125, 1.7    , 1.71875, 1.71   , 1.66625, 1.58   ,\n",
       "       1.44375, 1.25   , 0.99125])"
      ]
     },
     "execution_count": 12,
     "metadata": {},
     "output_type": "execute_result"
    }
   ],
   "source": [
    "def get_function(x0, h, vectors):\n",
    "    def delta(k, i=0):\n",
    "        return vectors[k][i]\n",
    "\n",
    "    a = [delta(k) / factorial(k + 1) for k in range(len(vectors))]\n",
    "    a.insert(0, Y[0])\n",
    "\n",
    "    def func(x):\n",
    "        t = (x - x0) / h\n",
    "        elements = [_a * np.prod([t - i for i in range(i)]) for i, _a in enumerate(a)]\n",
    "        return round(sum(elements), 5)\n",
    "\n",
    "    def iter_wrap(x):\n",
    "        if isinstance(x, np.ndarray) or isinstance(x, list):\n",
    "            return np.array(list(map(func, x)))\n",
    "        return func(x)\n",
    "\n",
    "    return iter_wrap\n",
    "\n",
    "\n",
    "func = get_function(x_0, h, vectors)\n",
    "\n",
    "y_ = func(X)\n",
    "y_"
   ]
  },
  {
   "cell_type": "code",
   "execution_count": 13,
   "metadata": {},
   "outputs": [
    {
     "data": {
      "text/plain": [
       "[<matplotlib.lines.Line2D at 0x270fde6a330>]"
      ]
     },
     "execution_count": 13,
     "metadata": {},
     "output_type": "execute_result"
    },
    {
     "data": {
      "image/png": "[encoded data removed]",
      "text/plain": [
       "<Figure size 640x480 with 1 Axes>"
      ]
     },
     "metadata": {},
     "output_type": "display_data"
    }
   ],
   "source": [
    "x = np.linspace(-3, 3, 10)\n",
    "\n",
    "# Точки - изначальные значения\n",
    "plt.scatter(x, f(x))\n",
    "# Линия - Вычисленные через функцию интерполяции\n",
    "plt.plot(x, func(x))\n"
   ]
  }
 ],
 "metadata": {
  "kernelspec": {
   "display_name": "Python 3",
   "language": "python",
   "name": "python3"
  },
  "language_info": {
   "codemirror_mode": {
    "name": "ipython",
    "version": 3
   },
   "file_extension": ".py",
   "mimetype": "text/x-python",
   "name": "python",
   "nbconvert_exporter": "python",
   "pygments_lexer": "ipython3",
   "version": "3.12.1"
  }
 },
 "nbformat": 4,
 "nbformat_minor": 2
}
