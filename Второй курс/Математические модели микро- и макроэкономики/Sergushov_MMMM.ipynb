{
  "nbformat": 4,
  "nbformat_minor": 0,
  "metadata": {
    "colab": {
      "provenance": [],
      "collapsed_sections": [
        "NKZwfXbxB_bQ",
        "HT514EgyCBl-",
        "ft7tsKQQy6cF",
        "ioMFNbF7y-YQ"
      ]
    },
    "kernelspec": {
      "name": "python3",
      "display_name": "Python 3"
    },
    "language_info": {
      "name": "python"
    }
  },
  "cells": [
    {
      "cell_type": "code",
      "execution_count": null,
      "metadata": {
        "id": "UGUcvOwtzjvh"
      },
      "outputs": [],
      "source": [
        "from sympy import *"
      ]
    },
    {
      "cell_type": "markdown",
      "source": [
        "# Лист 17"
      ],
      "metadata": {
        "id": "NKZwfXbxB_bQ"
      }
    },
    {
      "cell_type": "markdown",
      "source": [
        "![image.png](data:image/png;base64,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)"
      ],
      "metadata": {
        "id": "gYLQo7r4zKtz"
      }
    },
    {
      "cell_type": "markdown",
      "source": [
        "## Задание 1"
      ],
      "metadata": {
        "id": "HT514EgyCBl-"
      }
    },
    {
      "cell_type": "code",
      "source": [
        "# Эндогенные переменные\n",
        "C, I, NX, eps = symbols('C, I, NX, eps')\n",
        "\n",
        "# Экзогенные переменные\n",
        "Y, T, G, r = symbols('Y, T, G, r')"
      ],
      "metadata": {
        "id": "9sWw-xfgCC6w"
      },
      "execution_count": null,
      "outputs": []
    },
    {
      "cell_type": "code",
      "source": [
        "a0, a1, b0, b1, c0, c1, d0, d1 = symbols('a0, a1, b0, b1, c0, c1, d0, d1')"
      ],
      "metadata": {
        "id": "qKfHOHcvzdvQ"
      },
      "execution_count": null,
      "outputs": []
    },
    {
      "cell_type": "markdown",
      "source": [
        "$NX = NX(\\epsilon)$\n",
        "\n",
        "$NX_{ϵ}' < 0$\n",
        "\n",
        "Простейшая модель чистого экспорта имеет линейную функцию:\n",
        "\n",
        "$\\begin{cases}\n",
        "NX = a_o + a_1\\cdot ϵ \\\\\n",
        "a_1 = NX_{\\epsilon}' < 0\n",
        "\\end{cases}$"
      ],
      "metadata": {
        "id": "j3vRrCIMzsSV"
      }
    },
    {
      "cell_type": "markdown",
      "source": [
        "## Задание 2"
      ],
      "metadata": {
        "id": "ft7tsKQQy6cF"
      }
    },
    {
      "cell_type": "code",
      "source": [
        "A = solve([Y - C - G - I - NX, I - b0 - b1 * r, NX - c0 - c1*eps], [eps, r], dict=True)[0]\n",
        "A"
      ],
      "metadata": {
        "colab": {
          "base_uri": "https://localhost:8080/"
        },
        "id": "dGjOtBLAy76a",
        "outputId": "6fc3d2ea-8467-4633-d21c-7847ac72346a"
      },
      "execution_count": null,
      "outputs": [
        {
          "output_type": "execute_result",
          "data": {
            "text/plain": [
              "{eps: (NX - c0)/c1, r: (I - b0)/b1}"
            ]
          },
          "metadata": {},
          "execution_count": 80
        }
      ]
    },
    {
      "cell_type": "markdown",
      "source": [
        "## Задание 3"
      ],
      "metadata": {
        "id": "wk1kQTyxy7_r"
      }
    },
    {
      "cell_type": "code",
      "source": [
        "A = solve([Y - C - I - G - NX, C - a0 - a1*(Y-T), I - b0 - b1*r, NX - c0 - c1*eps], [C, I, NX, eps], dict=True)[0]\n",
        "A"
      ],
      "metadata": {
        "colab": {
          "base_uri": "https://localhost:8080/"
        },
        "id": "Hy_bHL6Vy-S4",
        "outputId": "47d706dd-c953-428d-9807-891f05937a68"
      },
      "execution_count": null,
      "outputs": [
        {
          "output_type": "execute_result",
          "data": {
            "text/plain": [
              "{C: -T*a1 + Y*a1 + a0,\n",
              " I: b0 + b1*r,\n",
              " NX: -G + T*a1 - Y*a1 + Y - a0 - b0 - b1*r,\n",
              " eps: (-G + T*a1 - Y*a1 + Y - a0 - b0 - b1*r - c0)/c1}"
            ]
          },
          "metadata": {},
          "execution_count": 81
        }
      ]
    },
    {
      "cell_type": "markdown",
      "source": [
        "## Задание 4"
      ],
      "metadata": {
        "id": "ioMFNbF7y-YQ"
      }
    },
    {
      "cell_type": "code",
      "source": [
        "Delta_r, Delta_G, Delta_T= symbols('Delta_r, Delta_G, Delta_T')"
      ],
      "metadata": {
        "id": "WUBJ7OFyzAR4"
      },
      "execution_count": null,
      "outputs": []
    },
    {
      "cell_type": "code",
      "source": [
        "# Изменение потребительских расходов\n",
        "Delta_C = A[C].diff(T) *Delta_T\n",
        "Delta_C"
      ],
      "metadata": {
        "colab": {
          "base_uri": "https://localhost:8080/"
        },
        "id": "K-IgiqDg2DKN",
        "outputId": "3d8dfdd9-0156-41b2-e4b4-7073e5c4101f"
      },
      "execution_count": null,
      "outputs": [
        {
          "output_type": "execute_result",
          "data": {
            "text/plain": [
              "-Delta_T*a1"
            ],
            "text/latex": "$\\displaystyle - \\Delta_{T} a_{1}$"
          },
          "metadata": {},
          "execution_count": 83
        }
      ]
    },
    {
      "cell_type": "code",
      "source": [
        "# инвест. расх.\n",
        "Delta_I = A[I].diff(r) * Delta_r\n",
        "Delta_I"
      ],
      "metadata": {
        "colab": {
          "base_uri": "https://localhost:8080/"
        },
        "id": "Dcr2waSW2DMt",
        "outputId": "c947bcc8-6b97-47e0-b70e-2398b886cf6f"
      },
      "execution_count": null,
      "outputs": [
        {
          "output_type": "execute_result",
          "data": {
            "text/plain": [
              "Delta_r*b1"
            ],
            "text/latex": "$\\displaystyle \\Delta_{r} b_{1}$"
          },
          "metadata": {},
          "execution_count": 84
        }
      ]
    },
    {
      "cell_type": "code",
      "source": [
        "Delta_NX = A[NX].diff(T) * Delta_T + A[NX].diff(G) * Delta_G + A[NX].diff(r) * Delta_r\n",
        "Delta_NX"
      ],
      "metadata": {
        "colab": {
          "base_uri": "https://localhost:8080/"
        },
        "id": "-7WHw5hE2DPJ",
        "outputId": "bccd7291-f6f0-4b74-e53a-b250a2714f92"
      },
      "execution_count": null,
      "outputs": [
        {
          "output_type": "execute_result",
          "data": {
            "text/plain": [
              "-Delta_G + Delta_T*a1 - Delta_r*b1"
            ],
            "text/latex": "$\\displaystyle - \\Delta_{G} + \\Delta_{T} a_{1} - \\Delta_{r} b_{1}$"
          },
          "metadata": {},
          "execution_count": 85
        }
      ]
    },
    {
      "cell_type": "code",
      "source": [
        "Delta_eps = A[eps].diff(T) * Delta_T + A[eps].diff(G) * Delta_G + A[eps].diff(r) * Delta_r\n",
        "Delta_eps"
      ],
      "metadata": {
        "colab": {
          "base_uri": "https://localhost:8080/"
        },
        "id": "7looDWuw2DRm",
        "outputId": "22b48208-5840-46d9-eb96-8d89991133f4"
      },
      "execution_count": null,
      "outputs": [
        {
          "output_type": "execute_result",
          "data": {
            "text/plain": [
              "-Delta_G/c1 + Delta_T*a1/c1 - Delta_r*b1/c1"
            ],
            "text/latex": "$\\displaystyle - \\frac{\\Delta_{G}}{c_{1}} + \\frac{\\Delta_{T} a_{1}}{c_{1}} - \\frac{\\Delta_{r} b_{1}}{c_{1}}$"
          },
          "metadata": {},
          "execution_count": 86
        }
      ]
    },
    {
      "cell_type": "code",
      "source": [
        "S = Y - A[C] - G\n",
        "Delta_S = S.diff(T) * Delta_T + S.diff(G) * Delta_G\n",
        "Delta_S"
      ],
      "metadata": {
        "colab": {
          "base_uri": "https://localhost:8080/"
        },
        "id": "UVRLHK1M2DUb",
        "outputId": "90c30b76-7784-4ca2-ea01-946463fc840d"
      },
      "execution_count": null,
      "outputs": [
        {
          "output_type": "execute_result",
          "data": {
            "text/plain": [
              "-Delta_G + Delta_T*a1"
            ],
            "text/latex": "$\\displaystyle - \\Delta_{G} + \\Delta_{T} a_{1}$"
          },
          "metadata": {},
          "execution_count": 87
        }
      ]
    },
    {
      "cell_type": "code",
      "source": [
        "Spr = Y - T - A[C]\n",
        "Delta_Spr = Spr.diff(T) * Delta_T\n",
        "Delta_Spr"
      ],
      "metadata": {
        "colab": {
          "base_uri": "https://localhost:8080/"
        },
        "id": "gw4hUo6e2DWd",
        "outputId": "f51ee4e4-531f-4493-af73-d26762755f77"
      },
      "execution_count": null,
      "outputs": [
        {
          "output_type": "execute_result",
          "data": {
            "text/plain": [
              "Delta_T*(a1 - 1)"
            ],
            "text/latex": "$\\displaystyle \\Delta_{T} \\left(a_{1} - 1\\right)$"
          },
          "metadata": {},
          "execution_count": 88
        }
      ]
    },
    {
      "cell_type": "code",
      "source": [
        "Sgov = T - G\n",
        "Delta_Sgov = Sgov.diff(T) * Delta_T + Sgov.diff(G) * Delta_G\n",
        "Delta_Sgov"
      ],
      "metadata": {
        "colab": {
          "base_uri": "https://localhost:8080/"
        },
        "id": "2KdhQTKG2DZC",
        "outputId": "1c39b6a0-57b9-406b-ec68-f29a4693bfc0"
      },
      "execution_count": null,
      "outputs": [
        {
          "output_type": "execute_result",
          "data": {
            "text/plain": [
              "-Delta_G + Delta_T"
            ],
            "text/latex": "$\\displaystyle - \\Delta_{G} + \\Delta_{T}$"
          },
          "metadata": {},
          "execution_count": 89
        }
      ]
    },
    {
      "cell_type": "markdown",
      "source": [
        "## Задание 5"
      ],
      "metadata": {
        "id": "eSUNuYsKzE8S"
      }
    },
    {
      "cell_type": "markdown",
      "source": [
        "![image.png](data:image/png;base64,iVBORw0KGgoAAAANSUhEUgAABZ4AAAAVCAYAAADGpfsiAAAQpElEQVR4Ae1dW5bjKgzMurKgXk+vplfSf7MYz+EhkIQQmNhpILrnzA22DFapSgKTRz9+f38P+2cxMA2YBkwDpgHTgGnANGAaMA2YBkwDpgHTgGnANGAaMA2YBkwDpoGrNPBwA33yf4bf+Df9f24ELP8t/z9X/Yd/09nwf24ErP5Z/ftc9Vv9s/y3/Lf8XyMClquWq2so9R4vTf976N/xaBvPtvF+T5VYZFQrZnsUs1G5Gf/G/6h2duhn+jf976DjUQymf9P/qHZ26Gf6N/3voONRDCvpfyVfR/nQ+hl+q1WaPna37aJ/h8M2nm3jefd8VfHtkswqSMVo+G0yV+Sxvcn0b/rfXuQKQNO/6V+Rx/Ym07/pf3uRKwBN/+vo37hahysl5YZNxr/xPyyeiTo6HdvGs208TyTJ97tixdyK+ftVN88dTf+m/3nU+H5PTP+m//erbp47mv5N//Oo8f2emP5N/+9X3dgdTaum1THl7NHL9L+H/h2PtvFsG897VKVBFFbM9ihmg/Tbb9xa/RuVzhb9rP5Z/dtCyIMgTP+m/0HpbNHN9G/630LIgyBW0v9Kvg7SoXYz/FarVIFsbtxF/w6HbTzbxsvm6arD2yWZdZR1q+G3ybyujv0tpn/T//4qryM0/Zv+6+rY32L6N/3vr/I6QtP/Ovo3rtbhqp5x4xbj3/gfV888PZ2OF9l4/nd8Px/H44H+ff3ESGq2HOyfr9D3+f0vnzzm+qvW/76fBGOC6Dz++SK2jKOBv9ovhGHaYvbv+3givkksCIPhgMbueQSaG7GZjH8B1sunaFy+DsgaGHha/sHBnleiceA+d4QY5JzJtmnxd+tf1zhgh9rJ82ha/Jmi1AIslEcdf71uhmFXwp8CITTk2BwHnA/8r5//0jyuYmzk0fr8N/QftSLFzZlWwg880/zXNQ59dqh/QtoX60LA+Xi4XG9rYyX+RfwH5/9xkDlu+/wPUQGdk9wg6yL07OS1EfrtwH9NFz3nu/GTWLI1JrE9DswB8FKbf5OPbAyax/z5j90f5QC+N4xNfaB9+/DrdYSOT9cYmg38S68kBtTP1jhgJ/jJeO/Vv+hPBFq1EX8pfte1j6sUzdMN8Au0l+uoxr9mE1wgGGmuuKupDzQGvfjpGFSP3CN6LZ07NBuMI66rOjESrU4wV1O8KG4MD+gjrDEgEm4pIu+x5St4HbuHf3K/EwdV/HEMsBPeOmOT3GDXk7Eu0n+6120NJecZPkkrLo+X2njOhRBHNARBtsXrXDCeX8fXsxR6bzHDd7yl7RbIz+8DtsWDyCH5f46vByrCfjENxxp+rV9AMQ1+ElTnN+LKixnwkgv9gY8Vil2+QotNuGpO/BnBa62f4wvFxU8MLFGWx8+14Y9x3jgd/fg3rniRd7GdE/8Z/SsaV2vKSvqHeEg8KviPVevfmazXYrNZ/ovzuIYRYhNnVV4rps3/M/xr+o/jiHHbJf8V/repf2f0EB8A/Tzf1sac898JvCrHn5D/gFGaG8s48jXg8vyXEE+d6cLP5w1/jNeY6NmEPJsptanDy8RV8/71NW792Sg40IU/boqxR4eIQMOo2VgAWhirzzGz6V/zR7Gp+M9wxeLae6jWUW0e0Wz85g5/LVfipjPimffu0+oJzWmYNRs45jgr9pU0jAr/ao6FG/bhB+fOvp6Im98/fhwPXBDEWHAftNhcxT+/Z++xhl/jrRw/1e3CNDP+wlnlxJmcx+vRMKTT8QdsPEOQwivffLo3mRXuWia8gPFtWOi4jljAgE8YUO0Xrp8Sv5+EMV4FI4kFj4HWb2L8HMZFx9IidEr+T+AtMeHcgIHk3HfWKfGf0n9b4xCFA9eUeHJK/Mlh3pB4VPCvWv847K5jKTa0Y5krk+qfuh2PgGcdJ8HYkUdr6V8KDMRFsrlzYJfjthZ+GQNGTvjHBh8K9y0q9OA7a/3nfp85JjUeuK8PsBb/dRzJgvF/RP4D8nZurD//A9brXnv0X9YUtMbsWGOAt+U4YBFekY7Lfuj+qavEv3Rd6uAbPfjzHEL7Skelr/mqc7a67/I4Ev58b99CMQVLH364+syr5k9pKzGV+O/zVcBFYhX8xfuMuYdmy1f5lporJV7We+hZrYwrHxUdE8zovGsWNsDNuFQxwpisjz8N48E15es7+Vfj1hsLDkGNzT38cxd6j2X8Em9sxCI2yL4QfuS10GxrNXUS4uF0vNTGc/7YNn54CEGQbfFdFPTpj2U2ntmi2b+Lgr4+mXHo+Ov9gjTeWcySGBuNMumVhI/CfuKfYkkzpB4b58aM+BvhGTS7wo4+RR5HWR4/y5Pwpgz9yhQsnHPO5BDOiP+U/ouvaOHamHH6VhGr1fQv1QE9x1esf4y1zkMpNrjr2vnvc0KZxwNSirEnj2bMf8xau63rvxW3tfCPaTzFcPn6l5BUG/TTNro23CBr8V+FnQ2I48/If4Deyo3yk0db8g/h6Hzt0j/SVBg2zDPwmNFaY+A+0hpUcpXkceP+ob/Av/psFHp14e9eY9L5l+LSbPAVfPxhIxrjPFZtHAF/7uRbJKbR1oefDdR1qPkj2Do4vs9XARDxJ/gr77FotnLcaq5cplV8z5pW8DWoTTCj867JbNq6qooxDSnw35Fj7+NfjxvPIy0WCXJsVGNzC//87r3HNfwSb3RMHhtqjXOwtI83FX7uNT/uz3kpHk7Hi2w8U+Be6Oh3yrCV2DyZMJnJonlfMmMvW23Z15C0j+OhfB2F4I+30frNiN9jYBgdBnHR5icEtNnmOecbjyEQUmxmxN9Sxym7j0/8fTNYKaMBdsCf9O1/E/x5uDchKFQ5n1wYZsR/Sv+IS9eUNB4ukWMwI34GCR3KGNAFIv6kD1ZTXL+18GOkvF2JzQ7535rHKxh78mgf/oMeSP634rac/sc0HiMj/tzSXvyHByY69+U6QbQRT++Fn+rjs/KfYs+sQ0vWxl78A9b+1178aQ1RWWMmO19jVOYm3cOSqzR+5f7ihyv8vfVno1782N+ijmgYNRseFL6+n/6uD1vHN8eZTf+aP7KtxfEIVyzEnYeyf9C54B8M6vNHvijhxLlypVabWsm+5JaGmdk61lUixnQzNl46nxtSjG/nvyturDZ1xCKjCi0xNlfyz2/Ye9zE3+KNxaZy32nxV/xtnZa0GvrI8XA6XnLjWf5UI4QHwAaR5EW4LJrbkxncOvHqhYmLsv85ibyZFohGCwoyNuB3J3EbNqVovxnxe3wEv8ydh+2LBby54M4o17J4uKtnxO9x3fA/qUDsh59qPoSxrokZ8Z/Sf6ETCX98p5XkVOg4I/4CUjpR5zFdQnKcxkKqm2vhzyjLVjs2a+Z/wNWaxyEeGGNPHu3DP0QANN8Xt7Xwj2ncRaZcU4V4rYUfOJZfS73z60Ab+fxO+DnHZTxK/eyDv8SWWY5r/+Xnf4zomvYY/ziPcFt+xgJP8dwE56TXUrf8KnrPYBX473g2eh0/9U3DqNnoKO5IwhiRfj8P/ofN9Oe+v9C/wEcCqdngohL/GFcwXv8rr6Nlz9K3fE2/Legh7kfcpNVezWmYqS1wV1+PUvwEYwrS3Pw7N2tx8+fTPNKKRQIcG0psbuKfe9B7LOPXeaOxke60Dn7J+/o5iguuq8XD1bE1N579uyx0AxXA5t/iCcHIXw9Bf9U2Jc58G4+0yAVUJYFKAqDY9PR712SW+OlpVIpQLvZoEIQ3Rkv8ZJO3FdfOxz9Cdn3zE/AX2nFhrOfL8vrnKhE4lmoKdJsSPzhXvNZ5TJci/MvWvwTmTONcbGDk+fnvm8cBT57//W4je0ANMcLzyPz4E7K+RtJ/X9zWwj+m8X3qnyYBefFPeiRt5LNr8Z/95i2R42ItsHP+a7lR18Yu/HM99B4P4Ue66lljJF+E/Eu21KhzlS/5YvOaswj8F/crrxnCX4ybPHM7VsXv6CerZksXxQaKMTfJ9yix5X71mA7hzwMrLc0fzRaHFPDf52uGIdbRbA4tjUfFpuZK0a+M0RD+YlwOpv6mtLuyjEfQUm1f6ce9KYL2l8S8lHKVuyX4PYSfj9t7LNy/fDNIj0X8k97pjn/Cf7r7yYaIv9RkHrVeY+CapfCD0z2vYqzq8XA6XmLj+eeLbjLjYqDZaMxk0bw1malD7Cj4R4tWvIRPQp7o8AloFb/SD24+D37wyL0y0TIcnv+0e8B49dcGvaixibebEz+OxQttp5MUJ/ldzL3wB92UP8nCNIJCOif+fv3rGldqypL6L3lU8bO6ER5Y8jdHXAjm5B8JtLtZxsbj3S7/GU61xul5tAP/qv6Jdljcom0t/QsYVP7D9eKaakn8hFBy4B9q2M/P9WhjLf4J5Higcbx//ueICLkBERI/IRqM6/OfIzDSOo+frTG1NYZam+KmFpqfnf9SHlNc7P7JKPHPzqFnI+jWg1+tIxpGzQabegx/8IthbIwT+jCsALAR0x78aKgTzbo/8mYkHprhj6b7fHU3CP5Kc6XGv2Zzo5JndS1X+GbsoFZba17ij4JZiwdmCq5Lz5wqRuhZaqMVR9fzVv47cqxdmyRcj+MBOa7GhvUd5R9CfPa1A3/BNbpHLTZEbzPjR1hazR6t1uLhxnY6XmLjOfywu/yJZdVGIsiEHW23JjO5f+PAixJhhN+6iknrBQzn8B+J4/3Iu22x8Ev9ZsPPw+MKQfJbeOMBipnrR65FG0uN2Liu0/DP8V9yHDSf352lcdwCP+M+LQB8/MICLuMP+YWvmZZ/govyVk5mqG7g/Of6h3xCuTMtfqJ/hUeOEeOHhS/gxnUzjr8GfhIMdqDEBhbWCT/VkRtoPfx8Hm/UOCWP1sTP6XeffqvkP7mUxy0Y1+B/UOO8NkCclqt/hEjhIMQHz2v+Io6f1UZ3zRr8C5DhFMfIOd49/+OHNEgNIPNcRRsxfsvzDzoYfO3CTzRU/q2Z6rNZY/4l6zjvf4Ur9f5abVSejc7wz3OM1BFt/tVsbFNSxaiN08Af86OojWfwn9KW5o9iU/EHB7q0espXdDHnGNdRbsP8azZYf6P5tp4rF2n1TM5x3zXM2IbCJm1G1jEq/HNfcIzj/W7lvxE3+DBgLY+Ci+Uak9e4emyu4p+Qc+LgnhqzDv4ToWpqNei8phWn4zU2nk/E5Oyl9ybzWW/ef/1y+P0EjX/T+bWYLYf/NbhFb8P/W8Rk6hOm/0vpMf0vpv9L2d9g4+3FeJj+Tf8vSmjp7qZ/0/+fCPjiddwohj/T/6fjHyDsz7ga8NV3uZjjl/Ff7M9oWEb7vYx/9Maj/S6Ot+HfY652PNrG8+8eZI7WhtWS2X2Ev/ZOykgMVsM/glHrY/jXyn/Tv6bm8zbT/1r6P8+w3sP4N/51hextNf2b/vdWuI7ur/R/9TpOR1m3Gv518v+vuKqrR7dcrfFX8V/tj47+euur+K/3SB/x6ngb/nVqlaYMx6NtPNvGs6aR7W2rFbOrCTH8exTzUV0Y/8b/qHZ26Gf6N/3voONRDKZ/0/+odnboZ/o3/a+iY9OqaXUVrd7hp+l/D/07Hm3j2Tae76gRy4xpxWyPYjYqOOPf+B/Vzg79TP+m/x10PIrB9G/6H9XODv1M/6b/HXQ8imEl/a/k6ygfWj/Db7VK08futl3073D4jWfXsH8WA9OAacA0YBowDZgGTAOmAdOAacA0YBowDZgGTAOmAdOAacA0YBq4QgP/AT2bpzkhDYVSAAAAAElFTkSuQmCC)"
      ],
      "metadata": {
        "id": "QfScPnrq3bCY"
      }
    },
    {
      "cell_type": "code",
      "source": [
        "# a)\n",
        "K, L, alpha, r, a0, a1, b0, b1, c0, c1, T, G, Delta_T, Delta_G = 554, 2858, 0.65, 3, 91, 0.52, 158, 13, 430, 54, 132, 75, 20, 17\n",
        "C, I, NX, eps = symbols('C, I, NX, eps')\n",
        "Y = K ** alpha * L ** (1 - alpha)\n",
        "A = nsolve([Y - C - I - G - NX, C - a0 - a1*(Y-T), I - b0 - b1*r, NX - c0 - c1*eps], [C, I, NX, eps], [1, 1, 1, 1], dict=True)[0]\n",
        "A, Y"
      ],
      "metadata": {
        "colab": {
          "base_uri": "https://localhost:8080/"
        },
        "id": "jNkHkJOczGo3",
        "outputId": "32984507-8a36-4a7d-8bda-e1301b2fb0d9"
      },
      "execution_count": null,
      "outputs": [
        {
          "output_type": "execute_result",
          "data": {
            "text/plain": [
              "({C: 533.931650341469,\n",
              "  I: 197.000000000000,\n",
              "  NX: 177.859984930587,\n",
              "  eps: -4.66925953832247},\n",
              " 983.7916352720559)"
            ]
          },
          "metadata": {},
          "execution_count": 90
        }
      ]
    },
    {
      "cell_type": "code",
      "source": [
        "S = Y - A[C] - G\n",
        "S"
      ],
      "metadata": {
        "colab": {
          "base_uri": "https://localhost:8080/",
          "height": 37
        },
        "id": "LoJfd5rL3Raz",
        "outputId": "6289251d-923a-45ff-eb4c-bf2a90b9df3f"
      },
      "execution_count": null,
      "outputs": [
        {
          "output_type": "execute_result",
          "data": {
            "text/plain": [
              "374.859984930587"
            ],
            "text/latex": "$\\displaystyle 374.859984930587$"
          },
          "metadata": {},
          "execution_count": 91
        }
      ]
    },
    {
      "cell_type": "code",
      "source": [
        "Spr = Y - T - A[C]\n",
        "Spr"
      ],
      "metadata": {
        "colab": {
          "base_uri": "https://localhost:8080/",
          "height": 37
        },
        "id": "UbvJJirz3RdV",
        "outputId": "6c8a46a0-10c6-4a3e-9da0-7923ea27aed0"
      },
      "execution_count": null,
      "outputs": [
        {
          "output_type": "execute_result",
          "data": {
            "text/plain": [
              "317.859984930587"
            ],
            "text/latex": "$\\displaystyle 317.859984930587$"
          },
          "metadata": {},
          "execution_count": 92
        }
      ]
    },
    {
      "cell_type": "code",
      "source": [
        "Sgov = T - G\n",
        "Sgov"
      ],
      "metadata": {
        "colab": {
          "base_uri": "https://localhost:8080/"
        },
        "id": "ltyZQmsZ3Rf_",
        "outputId": "059bc5ff-5de6-4587-d3d9-cc865ca203db"
      },
      "execution_count": null,
      "outputs": [
        {
          "output_type": "execute_result",
          "data": {
            "text/plain": [
              "57"
            ]
          },
          "metadata": {},
          "execution_count": 93
        }
      ]
    },
    {
      "cell_type": "code",
      "source": [
        "# б)\n",
        "K, L, alpha, r, a0, a1, b0, b1, c0, c1, T, G = 554, 2858, 0.65, 3, 91, 0.52, 158, 13, 430, 54, 152, 92\n",
        "C, I, NX, eps = symbols('C, I, NX, eps')\n",
        "Y = K ** alpha * L ** (1 - alpha)\n",
        "A = nsolve([Y - C - I - G - NX, C - a0 - a1*(Y-T), I - b0 - b1*r, NX - c0 - c1*eps], [C, I, NX, eps], [1, 1, 1, 1], dict=True)[0]\n",
        "A, Y"
      ],
      "metadata": {
        "colab": {
          "base_uri": "https://localhost:8080/"
        },
        "id": "ZN7-0xyC3Rik",
        "outputId": "6a6202ca-fcff-4903-e272-d7a75eb21465"
      },
      "execution_count": null,
      "outputs": [
        {
          "output_type": "execute_result",
          "data": {
            "text/plain": [
              "({C: 523.531650341469,\n",
              "  I: 197.000000000000,\n",
              "  NX: 171.259984930587,\n",
              "  eps: -4.79148176054469},\n",
              " 983.7916352720559)"
            ]
          },
          "metadata": {},
          "execution_count": 121
        }
      ]
    },
    {
      "cell_type": "code",
      "source": [
        "S = Y - A[C] - G\n",
        "S"
      ],
      "metadata": {
        "colab": {
          "base_uri": "https://localhost:8080/",
          "height": 37
        },
        "id": "dVgcTp6i3RmJ",
        "outputId": "54a7eab6-c741-44db-8eab-176e214ae905"
      },
      "execution_count": null,
      "outputs": [
        {
          "output_type": "execute_result",
          "data": {
            "text/plain": [
              "368.259984930587"
            ],
            "text/latex": "$\\displaystyle 368.259984930587$"
          },
          "metadata": {},
          "execution_count": 122
        }
      ]
    },
    {
      "cell_type": "code",
      "source": [
        "Spr = Y - T - A[C]\n",
        "Spr"
      ],
      "metadata": {
        "colab": {
          "base_uri": "https://localhost:8080/",
          "height": 37
        },
        "id": "j3FRClGc3RuL",
        "outputId": "16f2f5a4-3dd1-4012-a861-6bd4d9405f8a"
      },
      "execution_count": null,
      "outputs": [
        {
          "output_type": "execute_result",
          "data": {
            "text/plain": [
              "308.259984930587"
            ],
            "text/latex": "$\\displaystyle 308.259984930587$"
          },
          "metadata": {},
          "execution_count": 123
        }
      ]
    },
    {
      "cell_type": "code",
      "source": [
        "Sgov = T - G\n",
        "Sgov"
      ],
      "metadata": {
        "colab": {
          "base_uri": "https://localhost:8080/"
        },
        "id": "k2IEAETr3Rvi",
        "outputId": "3fab82f5-e04b-4059-c83f-cf4d35703d6d"
      },
      "execution_count": null,
      "outputs": [
        {
          "output_type": "execute_result",
          "data": {
            "text/plain": [
              "60"
            ]
          },
          "metadata": {},
          "execution_count": 124
        }
      ]
    }
  ]
}