{
  "cells": [
    {
      "cell_type": "markdown",
      "metadata": {
        "id": "fVpNg7iqaJSE"
      },
      "source": [
        "# Лист 19"
      ]
    },
    {
      "cell_type": "markdown",
      "metadata": {
        "id": "9CmaE0U7aOny"
      },
      "source": [
        "## Задание 1"
      ]
    },
    {
      "cell_type": "markdown",
      "metadata": {
        "id": "rEdxOat0aRfI"
      },
      "source": [
        "$Y = C(Y - T) + I(r) + G$\n",
        "\n",
        "Предположим, что функции потребления и инвестиций имеют линейную формулу, тогда:\n",
        "\n",
        "$C = a_0 + a_1 \\cdot (Y-T), a_0 > 0, 0 < a_1 < 1$\n",
        "\n",
        "$I = b_0 + b_1 \\cdot r, b_0 > 0, b_1 < 0$\n",
        "\n",
        "Подставив всё получаем выражение:\n",
        "\n",
        "$Y = a_0 + a_1 \\cdot (Y-T) + b_0 + b_1 \\cdot r + G$\n",
        "\n",
        "или\n",
        "\n",
        "$Y = \\frac{a_0 + b_0}{1 - a_1} + \\frac{1}{1-a_1} \\cdot G + \\frac{-a_1}{1 - a_1} \\cdot T + \\frac{b_1}{1 - a_1} \\cdot r$"
      ]
    },
    {
      "cell_type": "markdown",
      "metadata": {
        "id": "6jXCcrOfbhXw"
      },
      "source": [
        "## Задание 2"
      ]
    },
    {
      "cell_type": "markdown",
      "metadata": {
        "id": "HZzyO6GLbkID"
      },
      "source": [
        "$\\frac{M}{P} = L(Y, r)$,\n",
        "\n",
        "где P = const - уровень цен;\n",
        "\n",
        "M / P - реальные запасы денежных средств;\n",
        "\n",
        "L(Y, r) - функция спроса на реальные запасы денежных средств."
      ]
    },
    {
      "cell_type": "markdown",
      "metadata": {
        "id": "MttBNgPCczaf"
      },
      "source": [
        "Перепишем это уравнение:\n",
        "\n",
        "$\\frac {M}{P} = c_1 \\cdot Y + c_2 \\cdot r, c_1 > 0, c_2 < 0$\n",
        "\n",
        "или\n",
        "\n",
        "$r = -\\frac{c_1}{c_2} \\cdot Y + \\frac{1}{c_2} \\cdot \\frac{M}{P}$\n",
        "\n",
        "или\n",
        "\n",
        "$Y = \\frac{1}{c_1} \\cdot {M}{P} + \\frac{-c_2}{c_1} \\cdot r$"
      ]
    },
    {
      "cell_type": "markdown",
      "metadata": {},
      "source": []
    },
    {
      "cell_type": "markdown",
      "metadata": {
        "id": "HrEF7J4Cg42r"
      },
      "source": [
        "## Задание 3"
      ]
    },
    {
      "cell_type": "markdown",
      "metadata": {
        "id": "HMoYANfQg8WD"
      },
      "source": [
        "$\n",
        "\\begin {cases}\n",
        "Y = \\frac{c_2 \\cdot (a_0 + b_0)}{z} + \\frac{c_2}{z} \\cdot G - \\frac{a_1 \\cdot c_2}{z} \\cdot T + \\frac{b_1}{z} \\cdot \\frac{M}{P} \\\\\n",
        "r = -\\frac{c_1 \\cdot (a_0 + b_0)}{z} - \\frac{c_1}{z} \\cdot G + \\frac{a_1 \\cdot c_1}{z} \\cdot T + \\frac{(1 - a_1)}{z} \\cdot \\frac{M}{P} \\\\\n",
        "z = c_2 \\cdot (1 - a_1) + b_1 \\cdot c_1\n",
        "\\end {cases}\n",
        "$"
      ]
    },
    {
      "cell_type": "markdown",
      "metadata": {
        "id": "-3iB7O69iBCX"
      },
      "source": [
        "Из данного уравнения следует, что уровень дохода Y в закрытой экономике зависит от величин гос. расходов G, налогов T, денежной массы T и уровня цен P."
      ]
    },
    {
      "cell_type": "markdown",
      "metadata": {
        "id": "gEvJRmrKiR-d"
      },
      "source": [
        "## Задание 4"
      ]
    },
    {
      "cell_type": "code",
      "execution_count": 1,
      "metadata": {
        "id": "rhZeqnfXiZTx"
      },
      "outputs": [],
      "source": [
        "from sympy import *\n"
      ]
    },
    {
      "cell_type": "code",
      "execution_count": 27,
      "metadata": {
        "colab": {
          "base_uri": "https://localhost:8080/",
          "height": 39
        },
        "id": "UI6zoP11iTsd",
        "outputId": "98e76637-96f9-4ac0-efcb-2b4088f03bd3"
      },
      "outputs": [
        {
          "data": {
            "text/latex": [
              "$\\displaystyle 1700.0 - 100.0 r$"
            ],
            "text/plain": [
              "1700.0 - 100.0*r"
            ]
          },
          "execution_count": 27,
          "metadata": {},
          "output_type": "execute_result"
        }
      ],
      "source": [
        "Y, r = symbols('Y, r')\n",
        "G, T = 100, 100\n",
        "C = 200 + 0.75*(Y-T)\n",
        "I = 200 - 25*r\n",
        "\n",
        "IS = (200 + 200) / (1 - 0.75) + 1 * G / (1 - 0.75) - 0.75 * T / (1 - 0.75) - 25 * r / (1 - 0.75)\n",
        "IS"
      ]
    },
    {
      "cell_type": "markdown",
      "metadata": {
        "id": "RJ8pPYDmm5-M"
      },
      "source": [
        "Построить кривую IS при $r \\in [0,8]$"
      ]
    },
    {
      "cell_type": "code",
      "execution_count": 28,
      "metadata": {
        "colab": {
          "base_uri": "https://localhost:8080/",
          "height": 504
        },
        "id": "DuPnfQRemujL",
        "outputId": "b5bbe648-a764-442b-e9be-ecb038ad282c"
      },
      "outputs": [
        {
          "data": {
            "image/png": "[encoded data removed]",
            "text/plain": [
              "<Figure size 640x480 with 1 Axes>"
            ]
          },
          "metadata": {},
          "output_type": "display_data"
        },
        {
          "data": {
            "text/plain": [
              "<sympy.plotting.plot.Plot at 0x79aa72857ee0>"
            ]
          },
          "execution_count": 28,
          "metadata": {},
          "output_type": "execute_result"
        }
      ],
      "source": [
        "plot(IS, (r, 0, 8))"
      ]
    },
    {
      "cell_type": "code",
      "execution_count": 29,
      "metadata": {
        "colab": {
          "base_uri": "https://localhost:8080/",
          "height": 39
        },
        "id": "1nl5d6kVnFA8",
        "outputId": "69983b3b-a698-4d9b-8fae-f48d7b23c0d0"
      },
      "outputs": [
        {
          "data": {
            "text/latex": [
              "$\\displaystyle 200.0 r - 1200.0$"
            ],
            "text/plain": [
              "200.0*r - 1200.0"
            ]
          },
          "execution_count": 29,
          "metadata": {},
          "output_type": "execute_result"
        }
      ],
      "source": [
        "M, P, c1, c2 = 1000, 2, 1, -100\n",
        "LM = M/P - c1*IS - c2*r\n",
        "LM"
      ]
    },
    {
      "cell_type": "markdown",
      "metadata": {
        "id": "cON4vMFOnbBW"
      },
      "source": [
        "Построить кривую LM при $r \\in [0,8]$"
      ]
    },
    {
      "cell_type": "code",
      "execution_count": 30,
      "metadata": {
        "colab": {
          "base_uri": "https://localhost:8080/",
          "height": 504
        },
        "id": "B8PjOujwnXai",
        "outputId": "f5d391f9-e142-4dbc-9e83-69ee22630c6b"
      },
      "outputs": [
        {
          "data": {
            "image/png": "[encoded data removed]",
            "text/plain": [
              "<Figure size 640x480 with 1 Axes>"
            ]
          },
          "metadata": {},
          "output_type": "display_data"
        },
        {
          "data": {
            "text/plain": [
              "<sympy.plotting.plot.Plot at 0x79aa728b3430>"
            ]
          },
          "execution_count": 30,
          "metadata": {},
          "output_type": "execute_result"
        }
      ],
      "source": [
        "plot(LM, (r, 0, 8))"
      ]
    },
    {
      "cell_type": "markdown",
      "metadata": {
        "id": "K46xVLiRnmNs"
      },
      "source": [
        "Равновесная ставка"
      ]
    },
    {
      "cell_type": "code",
      "execution_count": 31,
      "metadata": {
        "colab": {
          "base_uri": "https://localhost:8080/",
          "height": 37
        },
        "id": "W-UQRCLLnoGE",
        "outputId": "8e2c646e-2516-463c-c9d0-d680523bbd19"
      },
      "outputs": [
        {
          "data": {
            "text/latex": [
              "$\\displaystyle 6.0$"
            ],
            "text/plain": [
              "6.00000000000000"
            ]
          },
          "execution_count": 31,
          "metadata": {},
          "output_type": "execute_result"
        }
      ],
      "source": [
        "r_eq = solve(-c1/c2*IS + 1/c2*M/P - r, r, dict=True)[0][r]\n",
        "r_eq"
      ]
    },
    {
      "cell_type": "markdown",
      "metadata": {
        "id": "Z71aSdccn3xi"
      },
      "source": [
        "Уровень дохода"
      ]
    },
    {
      "cell_type": "code",
      "execution_count": 32,
      "metadata": {
        "colab": {
          "base_uri": "https://localhost:8080/",
          "height": 37
        },
        "id": "n0zcIZHhn5O5",
        "outputId": "3e5cd602-235b-4613-d98b-a5abc214682b"
      },
      "outputs": [
        {
          "data": {
            "text/latex": [
              "$\\displaystyle 1100.0$"
            ],
            "text/plain": [
              "1100.00000000000"
            ]
          },
          "execution_count": 32,
          "metadata": {},
          "output_type": "execute_result"
        }
      ],
      "source": [
        "IS.subs(r, r_eq)"
      ]
    },
    {
      "cell_type": "markdown",
      "metadata": {
        "id": "Y55nJHwXoEEO"
      },
      "source": [
        "Пусть гос. расходы вохросли от 100 до 150."
      ]
    },
    {
      "cell_type": "code",
      "execution_count": 33,
      "metadata": {
        "colab": {
          "base_uri": "https://localhost:8080/"
        },
        "id": "eQxaDqLCrW6n",
        "outputId": "10df8174-3495-4ba0-df4d-236a10a6cd67"
      },
      "outputs": [
        {
          "data": {
            "text/plain": [
              "-50.0"
            ]
          },
          "execution_count": 33,
          "metadata": {},
          "output_type": "execute_result"
        }
      ],
      "source": [
        "a0, a1, b0, b1 = 200, 0.75, 200, -25\n",
        "z = c2 * (1 - a1) + b1 * c1\n",
        "z"
      ]
    },
    {
      "cell_type": "markdown",
      "metadata": {
        "id": "reh19Gd5tGwn"
      },
      "source": [
        "При G = 100"
      ]
    },
    {
      "cell_type": "code",
      "execution_count": 34,
      "metadata": {
        "colab": {
          "base_uri": "https://localhost:8080/",
          "height": 37
        },
        "id": "x2x7uFI6oLJ5",
        "outputId": "2592f957-5dd4-49ef-8554-2b35f99cf84c"
      },
      "outputs": [
        {
          "data": {
            "text/latex": [
              "$\\displaystyle 1100.0$"
            ],
            "text/plain": [
              "1100.00000000000"
            ]
          },
          "execution_count": 34,
          "metadata": {},
          "output_type": "execute_result"
        }
      ],
      "source": [
        "G = 100\n",
        "A = solve([-Y + c2*(a0 + b0)/z + c2/z*G - a1*c2*T/z + b1*M/(z*P), -r - c1*(a0 + b0)/z - c1*G/z + a1*c1*T/z + (1 - a1)*M/(z*P)], [Y, r], dict=True)[0]\n",
        "A[Y]"
      ]
    },
    {
      "cell_type": "markdown",
      "metadata": {
        "id": "Xp0WfdF7tJer"
      },
      "source": [
        "При G = 150"
      ]
    },
    {
      "cell_type": "code",
      "execution_count": 35,
      "metadata": {
        "colab": {
          "base_uri": "https://localhost:8080/",
          "height": 37
        },
        "id": "h2XLhzYys6IS",
        "outputId": "60348a0d-27ae-4d84-bd2f-a5d4c9eaa4ae"
      },
      "outputs": [
        {
          "data": {
            "text/latex": [
              "$\\displaystyle 1200.0$"
            ],
            "text/plain": [
              "1200.00000000000"
            ]
          },
          "execution_count": 35,
          "metadata": {},
          "output_type": "execute_result"
        }
      ],
      "source": [
        "G = 150\n",
        "A = solve([-Y + c2*(a0 + b0)/z + c2/z*G - a1*c2*T/z + b1*M/(z*P), -r - c1*(a0 + b0)/z - c1*G/z + a1*c1*T/z + (1 - a1)*M/(z*P)], [Y, r], dict=True)[0]\n",
        "A[Y]"
      ]
    },
    {
      "cell_type": "markdown",
      "metadata": {
        "id": "huorROIItRpI"
      },
      "source": [
        "При увеличении гос. расходов увеличивается уровень дохода."
      ]
    },
    {
      "cell_type": "markdown",
      "metadata": {
        "id": "NdMTKIw0t6hG"
      },
      "source": [
        "При M = 1000, мы увидели чему равны доходы. Пусть M = 1200"
      ]
    },
    {
      "cell_type": "code",
      "execution_count": 36,
      "metadata": {
        "colab": {
          "base_uri": "https://localhost:8080/",
          "height": 37
        },
        "id": "lLaJslNNtx09",
        "outputId": "859f1d5e-67d7-4518-952f-e00f93a5cc8b"
      },
      "outputs": [
        {
          "data": {
            "text/latex": [
              "$\\displaystyle 1250.0$"
            ],
            "text/plain": [
              "1250.00000000000"
            ]
          },
          "execution_count": 36,
          "metadata": {},
          "output_type": "execute_result"
        }
      ],
      "source": [
        "M = 1200\n",
        "A = solve([-Y + c2*(a0 + b0)/z + c2/z*G - a1*c2*T/z + b1*M/(z*P), -r - c1*(a0 + b0)/z - c1*G/z + a1*c1*T/z + (1 - a1)*M/(z*P)], [Y, r], dict=True)[0]\n",
        "A[Y]"
      ]
    },
    {
      "cell_type": "markdown",
      "metadata": {
        "id": "g7L2XxfkuUl1"
      },
      "source": [
        "С увеличением предложения денег увеличивается уровень дохода."
      ]
    },
    {
      "cell_type": "markdown",
      "metadata": {
        "id": "Lnu15PKQumsH"
      },
      "source": [
        "Пусть мы увеличим налоги до 130."
      ]
    },
    {
      "cell_type": "code",
      "execution_count": 37,
      "metadata": {
        "colab": {
          "base_uri": "https://localhost:8080/",
          "height": 37
        },
        "id": "ux6O8Iisuk2n",
        "outputId": "fda1c2fa-579a-4a94-c14d-ec0920946378"
      },
      "outputs": [
        {
          "data": {
            "text/latex": [
              "$\\displaystyle 1205.0$"
            ],
            "text/plain": [
              "1205.00000000000"
            ]
          },
          "execution_count": 37,
          "metadata": {},
          "output_type": "execute_result"
        }
      ],
      "source": [
        "T = 130\n",
        "A = solve([-Y + c2*(a0 + b0)/z + c2/z*G - a1*c2*T/z + b1*M/(z*P), -r - c1*(a0 + b0)/z - c1*G/z + a1*c1*T/z + (1 - a1)*M/(z*P)], [Y, r], dict=True)[0]\n",
        "A[Y]"
      ]
    },
    {
      "cell_type": "markdown",
      "metadata": {
        "id": "qBkmJRc4uzhI"
      },
      "source": [
        "С увеличением налогов уменьшается уровень дохода."
      ]
    },
    {
      "cell_type": "markdown",
      "metadata": {
        "id": "_hgTnKsvvDh2"
      },
      "source": [
        "$\n",
        "\\begin {cases}\n",
        "Y = \\frac{c_2 \\cdot (a_0 + b_0)}{z} + \\frac{c_2}{z} \\cdot G - \\frac{a_1 \\cdot c_2}{z} \\cdot T + \\frac{b_1}{z} \\cdot \\frac{M}{P} \\\\\n",
        "r = -\\frac{c_1 \\cdot (a_0 + b_0)}{z} - \\frac{c_1}{z} \\cdot G + \\frac{a_1 \\cdot c_1}{z} \\cdot T + \\frac{(1 - a_1)}{z} \\cdot \\frac{M}{P} \\\\\n",
        "z = c_2 \\cdot (1 - a_1) + b_1 \\cdot c_1\n",
        "\\end {cases}\n",
        "$"
      ]
    }
  ],
  "metadata": {
    "colab": {
      "collapsed_sections": [
        "HrEF7J4Cg42r",
        "0XdUnXEXAFK5",
        "Rd0XUNywDmCu"
      ],
      "provenance": []
    },
    "kernelspec": {
      "display_name": "Python 3",
      "name": "python3"
    },
    "language_info": {
      "codemirror_mode": {
        "name": "ipython",
        "version": 3
      },
      "file_extension": ".py",
      "mimetype": "text/x-python",
      "name": "python",
      "nbconvert_exporter": "python",
      "pygments_lexer": "ipython3",
      "version": "3.11.7"
    }
  },
  "nbformat": 4,
  "nbformat_minor": 0
}
