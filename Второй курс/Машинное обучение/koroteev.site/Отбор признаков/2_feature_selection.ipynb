{
  "cells": [
    {
      "cell_type": "markdown",
      "id": "98c33284-f966-4b0a-a97d-30678cbbaf7f",
      "metadata": {
        "id": "98c33284-f966-4b0a-a97d-30678cbbaf7f"
      },
      "source": [
        "# Отбор признаков для моделий"
      ]
    },
    {
      "cell_type": "markdown",
      "id": "96c3feb5-df3f-433c-afc8-661a5ff7991f",
      "metadata": {
        "id": "96c3feb5-df3f-433c-afc8-661a5ff7991f"
      },
      "source": [
        "Ссылка на лекцию https://www.youtube.com/watch?v=2yJSSgppLA0&t=1769s"
      ]
    },
    {
      "cell_type": "code",
      "execution_count": 1,
      "id": "ba7af30a",
      "metadata": {},
      "outputs": [],
      "source": [
        "import matplotlib.pyplot as plt\n",
        "import numpy as np\n",
        "import pandas as pd\n",
        "import seaborn as sns"
      ]
    },
    {
      "cell_type": "markdown",
      "id": "abe110e3-9f78-4b96-8034-d0286d2136e4",
      "metadata": {
        "id": "abe110e3-9f78-4b96-8034-d0286d2136e4",
        "tags": []
      },
      "source": [
        "## Методы основанные на корреляции"
      ]
    },
    {
      "cell_type": "code",
      "execution_count": 2,
      "id": "859339e3-54d9-40ae-8943-0649792fa156",
      "metadata": {
        "execution": {
          "iopub.execute_input": "2024-05-04T10:12:15.616866Z",
          "iopub.status.busy": "2024-05-04T10:12:15.616311Z",
          "iopub.status.idle": "2024-05-04T10:12:15.629130Z",
          "shell.execute_reply": "2024-05-04T10:12:15.628527Z",
          "shell.execute_reply.started": "2024-05-04T10:12:15.616845Z"
        },
        "id": "859339e3-54d9-40ae-8943-0649792fa156",
        "tags": []
      },
      "outputs": [
        {
          "data": {
            "text/plain": [
              "<matplotlib.image.AxesImage at 0x2a2cf0bfb30>"
            ]
          },
          "execution_count": 2,
          "metadata": {},
          "output_type": "execute_result"
        },
        {
          "data": {
            "image/png": "[encoded data removed]",
            "text/plain": [
              "<Figure size 640x480 with 1 Axes>"
            ]
          },
          "metadata": {},
          "output_type": "display_data"
        }
      ],
      "source": [
        "img = np.arange(100*100*3, dtype=int).reshape((100, 100, 3))\n",
        "plt.imshow(img % 64)"
      ]
    },
    {
      "cell_type": "markdown",
      "id": "413fa427",
      "metadata": {},
      "source": [
        "## Алгоритмы полного перебора\n",
        "- Осуществляют перебор всех комбинаций из 1, 2, ... N признаков.\n",
        "- для каждой комбинации строится Фдель и оценивается метрика качества.\n",
        "- Выбирается лучшая модель на основе метрики.\n",
        "- По сравнению с предыдущими двумя подходами, данный подход наиболее\n",
        "требователен к ресурсам.\n",
        "\n",
        "для решения задачи используется класс ExhaustiveFeatureSelector из\n",
        "библиотеки MLxtend."
      ]
    },
    {
      "cell_type": "code",
      "execution_count": null,
      "id": "e79c6ec5",
      "metadata": {},
      "outputs": [],
      "source": []
    },
    {
      "cell_type": "markdown",
      "id": "2219f457-e6ac-450d-824a-efaf98b92d04",
      "metadata": {
        "id": "2219f457-e6ac-450d-824a-efaf98b92d04",
        "tags": []
      },
      "source": [
        "## Методы основанные на статистических характеристиках"
      ]
    },
    {
      "cell_type": "markdown",
      "id": "6569cedc-cfde-4a02-af84-eafc5f22f882",
      "metadata": {
        "id": "6569cedc-cfde-4a02-af84-eafc5f22f882"
      },
      "source": [
        "https://scikit-learn.ru/1-13-feature-selection/?ysclid=lvhy9kgrlk278349951"
      ]
    },
    {
      "cell_type": "markdown",
      "id": "d4d5c21a-dea8-45ec-ae3c-e841a94b0aaa",
      "metadata": {
        "id": "d4d5c21a-dea8-45ec-ae3c-e841a94b0aaa"
      },
      "source": [
        "SelectKBest - выбирает К лучших признаков.    \n",
        "SelectPercentile - выбирает К процентов лучших признаков    \n",
        "В качестве функции выбирается:    \n",
        "Для регрессии: f_regression, mutual_info_regression     \n",
        "Для классификации: chi2, f_classif, mutual_info_classif"
      ]
    },
    {
      "cell_type": "code",
      "execution_count": null,
      "id": "GH0N9Eskt4Wg",
      "metadata": {
        "id": "GH0N9Eskt4Wg"
      },
      "outputs": [],
      "source": []
    },
    {
      "cell_type": "markdown",
      "id": "e71cb3e7-55de-4609-93a5-d00aaedefba1",
      "metadata": {
        "id": "e71cb3e7-55de-4609-93a5-d00aaedefba1",
        "tags": []
      },
      "source": [
        "## Методы обертования"
      ]
    },
    {
      "cell_type": "markdown",
      "id": "44b41466-29a9-4b13-b988-20b9566bcfa8",
      "metadata": {
        "id": "44b41466-29a9-4b13-b988-20b9566bcfa8"
      },
      "source": [
        "Используются методы машинного обучения для отбора признаков    \n",
        "Методы обертования используют 'жадные алгоритмы' - прямые, обратные и полного перебора признаков    \n",
        "Используется библиотека __MLxtend__ https://rasbt.github.io/mlxtend/https://rasbt.github.io/mlxtend/"
      ]
    },
    {
      "cell_type": "code",
      "execution_count": null,
      "id": "be4d3e11-33bc-4398-8060-263e06360cc4",
      "metadata": {
        "execution": {
          "iopub.execute_input": "2024-04-27T12:27:54.084532Z",
          "iopub.status.busy": "2024-04-27T12:27:54.084054Z",
          "iopub.status.idle": "2024-04-27T12:27:54.095329Z",
          "shell.execute_reply": "2024-04-27T12:27:54.094611Z",
          "shell.execute_reply.started": "2024-04-27T12:27:54.084504Z"
        },
        "id": "be4d3e11-33bc-4398-8060-263e06360cc4",
        "tags": []
      },
      "outputs": [],
      "source": [
        "#%pip install mlxtend"
      ]
    },
    {
      "cell_type": "markdown",
      "id": "45228c1d-b034-4ce4-94e7-e538bdb02415",
      "metadata": {
        "id": "45228c1d-b034-4ce4-94e7-e538bdb02415"
      },
      "source": [
        "__Sequential Feature Selector__    \n",
        "- Sequential Forward Selection (SFS)    \n",
        "- Sequential Backward Selection (SBS)     \n",
        "- Sequential Forward Floating Selection (SFFS)    \n",
        "- Sequential Backward Floating Selection (SBFS)    "
      ]
    },
    {
      "cell_type": "code",
      "execution_count": 24,
      "id": "e1d9b60a-6489-4e2d-9843-89ce4fb7488d",
      "metadata": {
        "execution": {
          "iopub.execute_input": "2024-05-04T10:12:29.112519Z",
          "iopub.status.busy": "2024-05-04T10:12:29.111830Z",
          "iopub.status.idle": "2024-05-04T10:12:29.307648Z",
          "shell.execute_reply": "2024-05-04T10:12:29.306531Z",
          "shell.execute_reply.started": "2024-05-04T10:12:29.112490Z"
        },
        "id": "e1d9b60a-6489-4e2d-9843-89ce4fb7488d",
        "tags": []
      },
      "outputs": [],
      "source": [
        "from mlxtend.feature_selection import ExhaustiveFeatureSelector as EFS\n",
        "from sklearn.neighbors import KNeighborsClassifier\n"
      ]
    },
    {
      "cell_type": "code",
      "execution_count": 29,
      "id": "3f625016",
      "metadata": {},
      "outputs": [],
      "source": [
        "dataset = sns.load_dataset(\"iris\")\n",
        "iris_X = dataset.drop(columns=[\"species\"])\n",
        "iris_y = dataset[\"species\"]\n",
        "iris_feature_names = list(iris_X.columns)"
      ]
    },
    {
      "cell_type": "code",
      "execution_count": 30,
      "id": "f3a7d969",
      "metadata": {},
      "outputs": [],
      "source": [
        "knn = KNeighborsClassifier(n_neighbors=3)"
      ]
    },
    {
      "cell_type": "code",
      "execution_count": 26,
      "id": "f86dea5f",
      "metadata": {},
      "outputs": [],
      "source": [
        "efs1 = EFS(\n",
        "    knn,\n",
        "    min_features=2,\n",
        "    max_features=4,\n",
        "    scoring=\"accuracy\",\n",
        "    print_progress=True,\n",
        "    cv=5,\n",
        ")\n"
      ]
    },
    {
      "cell_type": "code",
      "execution_count": 28,
      "id": "f589a4c8",
      "metadata": {},
      "outputs": [
        {
          "name": "stderr",
          "output_type": "stream",
          "text": [
            "c:\\Programs\\Python\\Python312\\Lib\\site-packages\\sklearn\\model_selection\\_validation.py:73: FutureWarning: `fit_params` is deprecated and will be removed in version 1.6. Pass parameters via `params` instead.\n",
            "  warnings.warn(\n"
          ]
        },
        {
          "ename": "ValueError",
          "evalue": "\nAll the 5 fits failed.\nIt is very likely that your model is misconfigured.\nYou can try to debug the error by setting error_score='raise'.\n\nBelow are more details about the failures:\n--------------------------------------------------------------------------------\n5 fits failed with the following error:\nTraceback (most recent call last):\n  File \"c:\\Programs\\Python\\Python312\\Lib\\site-packages\\sklearn\\model_selection\\_validation.py\", line 890, in _fit_and_score\n    estimator.fit(X_train, y_train, **fit_params)\n  File \"c:\\Programs\\Python\\Python312\\Lib\\site-packages\\sklearn\\base.py\", line 1351, in wrapper\n    return fit_method(estimator, *args, **kwargs)\n           ^^^^^^^^^^^^^^^^^^^^^^^^^^^^^^^^^^^^^^\nTypeError: KNeighborsClassifier.fit() got an unexpected keyword argument 'custom_feature_names'\n",
          "output_type": "error",
          "traceback": [
            "\u001b[1;31m---------------------------------------------------------------------------\u001b[0m",
            "\u001b[1;31mValueError\u001b[0m                                Traceback (most recent call last)",
            "Cell \u001b[1;32mIn[28], line 1\u001b[0m\n\u001b[1;32m----> 1\u001b[0m efs1 \u001b[38;5;241m=\u001b[39m \u001b[43mefs1\u001b[49m\u001b[38;5;241;43m.\u001b[39;49m\u001b[43mfit\u001b[49m\u001b[43m(\u001b[49m\u001b[43miris_X\u001b[49m\u001b[43m,\u001b[49m\u001b[43m \u001b[49m\u001b[43miris_y\u001b[49m\u001b[43m,\u001b[49m\u001b[43m \u001b[49m\u001b[43mcustom_feature_names\u001b[49m\u001b[38;5;241;43m=\u001b[39;49m\u001b[43miris_feature_names\u001b[49m\u001b[43m)\u001b[49m\n",
            "File \u001b[1;32mc:\\Programs\\Python\\Python312\\Lib\\site-packages\\mlxtend\\feature_selection\\exhaustive_feature_selector.py:444\u001b[0m, in \u001b[0;36mExhaustiveFeatureSelector.fit\u001b[1;34m(self, X, y, groups, **fit_params)\u001b[0m\n\u001b[0;32m    441\u001b[0m n_jobs \u001b[38;5;241m=\u001b[39m \u001b[38;5;28mmin\u001b[39m(\u001b[38;5;28mself\u001b[39m\u001b[38;5;241m.\u001b[39mn_jobs, all_comb)\n\u001b[0;32m    442\u001b[0m parallel \u001b[38;5;241m=\u001b[39m Parallel(n_jobs\u001b[38;5;241m=\u001b[39mn_jobs, pre_dispatch\u001b[38;5;241m=\u001b[39m\u001b[38;5;28mself\u001b[39m\u001b[38;5;241m.\u001b[39mpre_dispatch)\n\u001b[0;32m    443\u001b[0m work \u001b[38;5;241m=\u001b[39m \u001b[38;5;28menumerate\u001b[39m(\n\u001b[1;32m--> 444\u001b[0m     \u001b[43mparallel\u001b[49m\u001b[43m(\u001b[49m\n\u001b[0;32m    445\u001b[0m \u001b[43m        \u001b[49m\u001b[43mdelayed\u001b[49m\u001b[43m(\u001b[49m\u001b[43m_calc_score\u001b[49m\u001b[43m)\u001b[49m\u001b[43m(\u001b[49m\n\u001b[0;32m    446\u001b[0m \u001b[43m            \u001b[49m\u001b[38;5;28;43mself\u001b[39;49m\u001b[43m,\u001b[49m\n\u001b[0;32m    447\u001b[0m \u001b[43m            \u001b[49m\u001b[43mX_\u001b[49m\u001b[43m,\u001b[49m\n\u001b[0;32m    448\u001b[0m \u001b[43m            \u001b[49m\u001b[43my\u001b[49m\u001b[43m,\u001b[49m\n\u001b[0;32m    449\u001b[0m \u001b[43m            \u001b[49m\u001b[38;5;28;43mlist\u001b[39;49m\u001b[43m(\u001b[49m\u001b[38;5;28;43mset\u001b[39;49m\u001b[43m(\u001b[49m\u001b[43mc\u001b[49m\u001b[43m)\u001b[49m\u001b[38;5;241;43m.\u001b[39;49m\u001b[43munion\u001b[49m\u001b[43m(\u001b[49m\u001b[38;5;28;43mself\u001b[39;49m\u001b[38;5;241;43m.\u001b[39;49m\u001b[43mfixed_features_group_set\u001b[49m\u001b[43m)\u001b[49m\u001b[43m)\u001b[49m\u001b[43m,\u001b[49m\n\u001b[0;32m    450\u001b[0m \u001b[43m            \u001b[49m\u001b[43mgroups\u001b[49m\u001b[38;5;241;43m=\u001b[39;49m\u001b[43mgroups\u001b[49m\u001b[43m,\u001b[49m\n\u001b[0;32m    451\u001b[0m \u001b[43m            \u001b[49m\u001b[43mfeature_groups\u001b[49m\u001b[38;5;241;43m=\u001b[39;49m\u001b[38;5;28;43mself\u001b[39;49m\u001b[38;5;241;43m.\u001b[39;49m\u001b[43mfeature_groups\u001b[49m\u001b[43m,\u001b[49m\n\u001b[0;32m    452\u001b[0m \u001b[43m            \u001b[49m\u001b[38;5;241;43m*\u001b[39;49m\u001b[38;5;241;43m*\u001b[39;49m\u001b[43mfit_params\u001b[49m\u001b[43m,\u001b[49m\n\u001b[0;32m    453\u001b[0m \u001b[43m        \u001b[49m\u001b[43m)\u001b[49m\n\u001b[0;32m    454\u001b[0m \u001b[43m        \u001b[49m\u001b[38;5;28;43;01mfor\u001b[39;49;00m\u001b[43m \u001b[49m\u001b[43mc\u001b[49m\u001b[43m \u001b[49m\u001b[38;5;129;43;01min\u001b[39;49;00m\u001b[43m \u001b[49m\u001b[43mcandidates\u001b[49m\n\u001b[0;32m    455\u001b[0m \u001b[43m    \u001b[49m\u001b[43m)\u001b[49m\n\u001b[0;32m    456\u001b[0m )\n\u001b[0;32m    458\u001b[0m \u001b[38;5;28;01mtry\u001b[39;00m:\n\u001b[0;32m    459\u001b[0m     \u001b[38;5;28;01mfor\u001b[39;00m iteration, (indices, cv_scores) \u001b[38;5;129;01min\u001b[39;00m work:\n",
            "File \u001b[1;32mc:\\Programs\\Python\\Python312\\Lib\\site-packages\\joblib\\parallel.py:1863\u001b[0m, in \u001b[0;36mParallel.__call__\u001b[1;34m(self, iterable)\u001b[0m\n\u001b[0;32m   1861\u001b[0m     output \u001b[38;5;241m=\u001b[39m \u001b[38;5;28mself\u001b[39m\u001b[38;5;241m.\u001b[39m_get_sequential_output(iterable)\n\u001b[0;32m   1862\u001b[0m     \u001b[38;5;28mnext\u001b[39m(output)\n\u001b[1;32m-> 1863\u001b[0m     \u001b[38;5;28;01mreturn\u001b[39;00m output \u001b[38;5;28;01mif\u001b[39;00m \u001b[38;5;28mself\u001b[39m\u001b[38;5;241m.\u001b[39mreturn_generator \u001b[38;5;28;01melse\u001b[39;00m \u001b[38;5;28;43mlist\u001b[39;49m\u001b[43m(\u001b[49m\u001b[43moutput\u001b[49m\u001b[43m)\u001b[49m\n\u001b[0;32m   1865\u001b[0m \u001b[38;5;66;03m# Let's create an ID that uniquely identifies the current call. If the\u001b[39;00m\n\u001b[0;32m   1866\u001b[0m \u001b[38;5;66;03m# call is interrupted early and that the same instance is immediately\u001b[39;00m\n\u001b[0;32m   1867\u001b[0m \u001b[38;5;66;03m# re-used, this id will be used to prevent workers that were\u001b[39;00m\n\u001b[0;32m   1868\u001b[0m \u001b[38;5;66;03m# concurrently finalizing a task from the previous call to run the\u001b[39;00m\n\u001b[0;32m   1869\u001b[0m \u001b[38;5;66;03m# callback.\u001b[39;00m\n\u001b[0;32m   1870\u001b[0m \u001b[38;5;28;01mwith\u001b[39;00m \u001b[38;5;28mself\u001b[39m\u001b[38;5;241m.\u001b[39m_lock:\n",
            "File \u001b[1;32mc:\\Programs\\Python\\Python312\\Lib\\site-packages\\joblib\\parallel.py:1792\u001b[0m, in \u001b[0;36mParallel._get_sequential_output\u001b[1;34m(self, iterable)\u001b[0m\n\u001b[0;32m   1790\u001b[0m \u001b[38;5;28mself\u001b[39m\u001b[38;5;241m.\u001b[39mn_dispatched_batches \u001b[38;5;241m+\u001b[39m\u001b[38;5;241m=\u001b[39m \u001b[38;5;241m1\u001b[39m\n\u001b[0;32m   1791\u001b[0m \u001b[38;5;28mself\u001b[39m\u001b[38;5;241m.\u001b[39mn_dispatched_tasks \u001b[38;5;241m+\u001b[39m\u001b[38;5;241m=\u001b[39m \u001b[38;5;241m1\u001b[39m\n\u001b[1;32m-> 1792\u001b[0m res \u001b[38;5;241m=\u001b[39m \u001b[43mfunc\u001b[49m\u001b[43m(\u001b[49m\u001b[38;5;241;43m*\u001b[39;49m\u001b[43margs\u001b[49m\u001b[43m,\u001b[49m\u001b[43m \u001b[49m\u001b[38;5;241;43m*\u001b[39;49m\u001b[38;5;241;43m*\u001b[39;49m\u001b[43mkwargs\u001b[49m\u001b[43m)\u001b[49m\n\u001b[0;32m   1793\u001b[0m \u001b[38;5;28mself\u001b[39m\u001b[38;5;241m.\u001b[39mn_completed_tasks \u001b[38;5;241m+\u001b[39m\u001b[38;5;241m=\u001b[39m \u001b[38;5;241m1\u001b[39m\n\u001b[0;32m   1794\u001b[0m \u001b[38;5;28mself\u001b[39m\u001b[38;5;241m.\u001b[39mprint_progress()\n",
            "File \u001b[1;32mc:\\Programs\\Python\\Python312\\Lib\\site-packages\\mlxtend\\feature_selection\\utilities.py:98\u001b[0m, in \u001b[0;36m_calc_score\u001b[1;34m(selector, X, y, indices, groups, feature_groups, **fit_params)\u001b[0m\n\u001b[0;32m     96\u001b[0m IDX \u001b[38;5;241m=\u001b[39m _merge_lists(feature_groups, indices)\n\u001b[0;32m     97\u001b[0m \u001b[38;5;28;01mif\u001b[39;00m selector\u001b[38;5;241m.\u001b[39mcv:\n\u001b[1;32m---> 98\u001b[0m     scores \u001b[38;5;241m=\u001b[39m \u001b[43mcross_val_score\u001b[49m\u001b[43m(\u001b[49m\n\u001b[0;32m     99\u001b[0m \u001b[43m        \u001b[49m\u001b[43mselector\u001b[49m\u001b[38;5;241;43m.\u001b[39;49m\u001b[43mest_\u001b[49m\u001b[43m,\u001b[49m\n\u001b[0;32m    100\u001b[0m \u001b[43m        \u001b[49m\u001b[43mX\u001b[49m\u001b[43m[\u001b[49m\u001b[43m:\u001b[49m\u001b[43m,\u001b[49m\u001b[43m \u001b[49m\u001b[43mIDX\u001b[49m\u001b[43m]\u001b[49m\u001b[43m,\u001b[49m\n\u001b[0;32m    101\u001b[0m \u001b[43m        \u001b[49m\u001b[43my\u001b[49m\u001b[43m,\u001b[49m\n\u001b[0;32m    102\u001b[0m \u001b[43m        \u001b[49m\u001b[43mgroups\u001b[49m\u001b[38;5;241;43m=\u001b[39;49m\u001b[43mgroups\u001b[49m\u001b[43m,\u001b[49m\n\u001b[0;32m    103\u001b[0m \u001b[43m        \u001b[49m\u001b[43mcv\u001b[49m\u001b[38;5;241;43m=\u001b[39;49m\u001b[43mselector\u001b[49m\u001b[38;5;241;43m.\u001b[39;49m\u001b[43mcv\u001b[49m\u001b[43m,\u001b[49m\n\u001b[0;32m    104\u001b[0m \u001b[43m        \u001b[49m\u001b[43mscoring\u001b[49m\u001b[38;5;241;43m=\u001b[39;49m\u001b[43mselector\u001b[49m\u001b[38;5;241;43m.\u001b[39;49m\u001b[43mscorer\u001b[49m\u001b[43m,\u001b[49m\n\u001b[0;32m    105\u001b[0m \u001b[43m        \u001b[49m\u001b[43mn_jobs\u001b[49m\u001b[38;5;241;43m=\u001b[39;49m\u001b[38;5;241;43m1\u001b[39;49m\u001b[43m,\u001b[49m\n\u001b[0;32m    106\u001b[0m \u001b[43m        \u001b[49m\u001b[43mpre_dispatch\u001b[49m\u001b[38;5;241;43m=\u001b[39;49m\u001b[43mselector\u001b[49m\u001b[38;5;241;43m.\u001b[39;49m\u001b[43mpre_dispatch\u001b[49m\u001b[43m,\u001b[49m\n\u001b[0;32m    107\u001b[0m \u001b[43m        \u001b[49m\u001b[43mfit_params\u001b[49m\u001b[38;5;241;43m=\u001b[39;49m\u001b[43mfit_params\u001b[49m\u001b[43m,\u001b[49m\n\u001b[0;32m    108\u001b[0m \u001b[43m    \u001b[49m\u001b[43m)\u001b[49m\n\u001b[0;32m    109\u001b[0m \u001b[38;5;28;01melse\u001b[39;00m:\n\u001b[0;32m    110\u001b[0m     selector\u001b[38;5;241m.\u001b[39mest_\u001b[38;5;241m.\u001b[39mfit(X[:, IDX], y, \u001b[38;5;241m*\u001b[39m\u001b[38;5;241m*\u001b[39mfit_params)\n",
            "File \u001b[1;32mc:\\Programs\\Python\\Python312\\Lib\\site-packages\\sklearn\\utils\\_param_validation.py:213\u001b[0m, in \u001b[0;36mvalidate_params.<locals>.decorator.<locals>.wrapper\u001b[1;34m(*args, **kwargs)\u001b[0m\n\u001b[0;32m    207\u001b[0m \u001b[38;5;28;01mtry\u001b[39;00m:\n\u001b[0;32m    208\u001b[0m     \u001b[38;5;28;01mwith\u001b[39;00m config_context(\n\u001b[0;32m    209\u001b[0m         skip_parameter_validation\u001b[38;5;241m=\u001b[39m(\n\u001b[0;32m    210\u001b[0m             prefer_skip_nested_validation \u001b[38;5;129;01mor\u001b[39;00m global_skip_validation\n\u001b[0;32m    211\u001b[0m         )\n\u001b[0;32m    212\u001b[0m     ):\n\u001b[1;32m--> 213\u001b[0m         \u001b[38;5;28;01mreturn\u001b[39;00m \u001b[43mfunc\u001b[49m\u001b[43m(\u001b[49m\u001b[38;5;241;43m*\u001b[39;49m\u001b[43margs\u001b[49m\u001b[43m,\u001b[49m\u001b[43m \u001b[49m\u001b[38;5;241;43m*\u001b[39;49m\u001b[38;5;241;43m*\u001b[39;49m\u001b[43mkwargs\u001b[49m\u001b[43m)\u001b[49m\n\u001b[0;32m    214\u001b[0m \u001b[38;5;28;01mexcept\u001b[39;00m InvalidParameterError \u001b[38;5;28;01mas\u001b[39;00m e:\n\u001b[0;32m    215\u001b[0m     \u001b[38;5;66;03m# When the function is just a wrapper around an estimator, we allow\u001b[39;00m\n\u001b[0;32m    216\u001b[0m     \u001b[38;5;66;03m# the function to delegate validation to the estimator, but we replace\u001b[39;00m\n\u001b[0;32m    217\u001b[0m     \u001b[38;5;66;03m# the name of the estimator by the name of the function in the error\u001b[39;00m\n\u001b[0;32m    218\u001b[0m     \u001b[38;5;66;03m# message to avoid confusion.\u001b[39;00m\n\u001b[0;32m    219\u001b[0m     msg \u001b[38;5;241m=\u001b[39m re\u001b[38;5;241m.\u001b[39msub(\n\u001b[0;32m    220\u001b[0m         \u001b[38;5;124mr\u001b[39m\u001b[38;5;124m\"\u001b[39m\u001b[38;5;124mparameter of \u001b[39m\u001b[38;5;124m\\\u001b[39m\u001b[38;5;124mw+ must be\u001b[39m\u001b[38;5;124m\"\u001b[39m,\n\u001b[0;32m    221\u001b[0m         \u001b[38;5;124mf\u001b[39m\u001b[38;5;124m\"\u001b[39m\u001b[38;5;124mparameter of \u001b[39m\u001b[38;5;132;01m{\u001b[39;00mfunc\u001b[38;5;241m.\u001b[39m\u001b[38;5;18m__qualname__\u001b[39m\u001b[38;5;132;01m}\u001b[39;00m\u001b[38;5;124m must be\u001b[39m\u001b[38;5;124m\"\u001b[39m,\n\u001b[0;32m    222\u001b[0m         \u001b[38;5;28mstr\u001b[39m(e),\n\u001b[0;32m    223\u001b[0m     )\n",
            "File \u001b[1;32mc:\\Programs\\Python\\Python312\\Lib\\site-packages\\sklearn\\model_selection\\_validation.py:714\u001b[0m, in \u001b[0;36mcross_val_score\u001b[1;34m(estimator, X, y, groups, scoring, cv, n_jobs, verbose, fit_params, params, pre_dispatch, error_score)\u001b[0m\n\u001b[0;32m    711\u001b[0m \u001b[38;5;66;03m# To ensure multimetric format is not supported\u001b[39;00m\n\u001b[0;32m    712\u001b[0m scorer \u001b[38;5;241m=\u001b[39m check_scoring(estimator, scoring\u001b[38;5;241m=\u001b[39mscoring)\n\u001b[1;32m--> 714\u001b[0m cv_results \u001b[38;5;241m=\u001b[39m \u001b[43mcross_validate\u001b[49m\u001b[43m(\u001b[49m\n\u001b[0;32m    715\u001b[0m \u001b[43m    \u001b[49m\u001b[43mestimator\u001b[49m\u001b[38;5;241;43m=\u001b[39;49m\u001b[43mestimator\u001b[49m\u001b[43m,\u001b[49m\n\u001b[0;32m    716\u001b[0m \u001b[43m    \u001b[49m\u001b[43mX\u001b[49m\u001b[38;5;241;43m=\u001b[39;49m\u001b[43mX\u001b[49m\u001b[43m,\u001b[49m\n\u001b[0;32m    717\u001b[0m \u001b[43m    \u001b[49m\u001b[43my\u001b[49m\u001b[38;5;241;43m=\u001b[39;49m\u001b[43my\u001b[49m\u001b[43m,\u001b[49m\n\u001b[0;32m    718\u001b[0m \u001b[43m    \u001b[49m\u001b[43mgroups\u001b[49m\u001b[38;5;241;43m=\u001b[39;49m\u001b[43mgroups\u001b[49m\u001b[43m,\u001b[49m\n\u001b[0;32m    719\u001b[0m \u001b[43m    \u001b[49m\u001b[43mscoring\u001b[49m\u001b[38;5;241;43m=\u001b[39;49m\u001b[43m{\u001b[49m\u001b[38;5;124;43m\"\u001b[39;49m\u001b[38;5;124;43mscore\u001b[39;49m\u001b[38;5;124;43m\"\u001b[39;49m\u001b[43m:\u001b[49m\u001b[43m \u001b[49m\u001b[43mscorer\u001b[49m\u001b[43m}\u001b[49m\u001b[43m,\u001b[49m\n\u001b[0;32m    720\u001b[0m \u001b[43m    \u001b[49m\u001b[43mcv\u001b[49m\u001b[38;5;241;43m=\u001b[39;49m\u001b[43mcv\u001b[49m\u001b[43m,\u001b[49m\n\u001b[0;32m    721\u001b[0m \u001b[43m    \u001b[49m\u001b[43mn_jobs\u001b[49m\u001b[38;5;241;43m=\u001b[39;49m\u001b[43mn_jobs\u001b[49m\u001b[43m,\u001b[49m\n\u001b[0;32m    722\u001b[0m \u001b[43m    \u001b[49m\u001b[43mverbose\u001b[49m\u001b[38;5;241;43m=\u001b[39;49m\u001b[43mverbose\u001b[49m\u001b[43m,\u001b[49m\n\u001b[0;32m    723\u001b[0m \u001b[43m    \u001b[49m\u001b[43mfit_params\u001b[49m\u001b[38;5;241;43m=\u001b[39;49m\u001b[43mfit_params\u001b[49m\u001b[43m,\u001b[49m\n\u001b[0;32m    724\u001b[0m \u001b[43m    \u001b[49m\u001b[43mparams\u001b[49m\u001b[38;5;241;43m=\u001b[39;49m\u001b[43mparams\u001b[49m\u001b[43m,\u001b[49m\n\u001b[0;32m    725\u001b[0m \u001b[43m    \u001b[49m\u001b[43mpre_dispatch\u001b[49m\u001b[38;5;241;43m=\u001b[39;49m\u001b[43mpre_dispatch\u001b[49m\u001b[43m,\u001b[49m\n\u001b[0;32m    726\u001b[0m \u001b[43m    \u001b[49m\u001b[43merror_score\u001b[49m\u001b[38;5;241;43m=\u001b[39;49m\u001b[43merror_score\u001b[49m\u001b[43m,\u001b[49m\n\u001b[0;32m    727\u001b[0m \u001b[43m\u001b[49m\u001b[43m)\u001b[49m\n\u001b[0;32m    728\u001b[0m \u001b[38;5;28;01mreturn\u001b[39;00m cv_results[\u001b[38;5;124m\"\u001b[39m\u001b[38;5;124mtest_score\u001b[39m\u001b[38;5;124m\"\u001b[39m]\n",
            "File \u001b[1;32mc:\\Programs\\Python\\Python312\\Lib\\site-packages\\sklearn\\utils\\_param_validation.py:213\u001b[0m, in \u001b[0;36mvalidate_params.<locals>.decorator.<locals>.wrapper\u001b[1;34m(*args, **kwargs)\u001b[0m\n\u001b[0;32m    207\u001b[0m \u001b[38;5;28;01mtry\u001b[39;00m:\n\u001b[0;32m    208\u001b[0m     \u001b[38;5;28;01mwith\u001b[39;00m config_context(\n\u001b[0;32m    209\u001b[0m         skip_parameter_validation\u001b[38;5;241m=\u001b[39m(\n\u001b[0;32m    210\u001b[0m             prefer_skip_nested_validation \u001b[38;5;129;01mor\u001b[39;00m global_skip_validation\n\u001b[0;32m    211\u001b[0m         )\n\u001b[0;32m    212\u001b[0m     ):\n\u001b[1;32m--> 213\u001b[0m         \u001b[38;5;28;01mreturn\u001b[39;00m \u001b[43mfunc\u001b[49m\u001b[43m(\u001b[49m\u001b[38;5;241;43m*\u001b[39;49m\u001b[43margs\u001b[49m\u001b[43m,\u001b[49m\u001b[43m \u001b[49m\u001b[38;5;241;43m*\u001b[39;49m\u001b[38;5;241;43m*\u001b[39;49m\u001b[43mkwargs\u001b[49m\u001b[43m)\u001b[49m\n\u001b[0;32m    214\u001b[0m \u001b[38;5;28;01mexcept\u001b[39;00m InvalidParameterError \u001b[38;5;28;01mas\u001b[39;00m e:\n\u001b[0;32m    215\u001b[0m     \u001b[38;5;66;03m# When the function is just a wrapper around an estimator, we allow\u001b[39;00m\n\u001b[0;32m    216\u001b[0m     \u001b[38;5;66;03m# the function to delegate validation to the estimator, but we replace\u001b[39;00m\n\u001b[0;32m    217\u001b[0m     \u001b[38;5;66;03m# the name of the estimator by the name of the function in the error\u001b[39;00m\n\u001b[0;32m    218\u001b[0m     \u001b[38;5;66;03m# message to avoid confusion.\u001b[39;00m\n\u001b[0;32m    219\u001b[0m     msg \u001b[38;5;241m=\u001b[39m re\u001b[38;5;241m.\u001b[39msub(\n\u001b[0;32m    220\u001b[0m         \u001b[38;5;124mr\u001b[39m\u001b[38;5;124m\"\u001b[39m\u001b[38;5;124mparameter of \u001b[39m\u001b[38;5;124m\\\u001b[39m\u001b[38;5;124mw+ must be\u001b[39m\u001b[38;5;124m\"\u001b[39m,\n\u001b[0;32m    221\u001b[0m         \u001b[38;5;124mf\u001b[39m\u001b[38;5;124m\"\u001b[39m\u001b[38;5;124mparameter of \u001b[39m\u001b[38;5;132;01m{\u001b[39;00mfunc\u001b[38;5;241m.\u001b[39m\u001b[38;5;18m__qualname__\u001b[39m\u001b[38;5;132;01m}\u001b[39;00m\u001b[38;5;124m must be\u001b[39m\u001b[38;5;124m\"\u001b[39m,\n\u001b[0;32m    222\u001b[0m         \u001b[38;5;28mstr\u001b[39m(e),\n\u001b[0;32m    223\u001b[0m     )\n",
            "File \u001b[1;32mc:\\Programs\\Python\\Python312\\Lib\\site-packages\\sklearn\\model_selection\\_validation.py:445\u001b[0m, in \u001b[0;36mcross_validate\u001b[1;34m(estimator, X, y, groups, scoring, cv, n_jobs, verbose, fit_params, params, pre_dispatch, return_train_score, return_estimator, return_indices, error_score)\u001b[0m\n\u001b[0;32m    424\u001b[0m parallel \u001b[38;5;241m=\u001b[39m Parallel(n_jobs\u001b[38;5;241m=\u001b[39mn_jobs, verbose\u001b[38;5;241m=\u001b[39mverbose, pre_dispatch\u001b[38;5;241m=\u001b[39mpre_dispatch)\n\u001b[0;32m    425\u001b[0m results \u001b[38;5;241m=\u001b[39m parallel(\n\u001b[0;32m    426\u001b[0m     delayed(_fit_and_score)(\n\u001b[0;32m    427\u001b[0m         clone(estimator),\n\u001b[1;32m   (...)\u001b[0m\n\u001b[0;32m    442\u001b[0m     \u001b[38;5;28;01mfor\u001b[39;00m train, test \u001b[38;5;129;01min\u001b[39;00m indices\n\u001b[0;32m    443\u001b[0m )\n\u001b[1;32m--> 445\u001b[0m \u001b[43m_warn_or_raise_about_fit_failures\u001b[49m\u001b[43m(\u001b[49m\u001b[43mresults\u001b[49m\u001b[43m,\u001b[49m\u001b[43m \u001b[49m\u001b[43merror_score\u001b[49m\u001b[43m)\u001b[49m\n\u001b[0;32m    447\u001b[0m \u001b[38;5;66;03m# For callable scoring, the return type is only know after calling. If the\u001b[39;00m\n\u001b[0;32m    448\u001b[0m \u001b[38;5;66;03m# return type is a dictionary, the error scores can now be inserted with\u001b[39;00m\n\u001b[0;32m    449\u001b[0m \u001b[38;5;66;03m# the correct key.\u001b[39;00m\n\u001b[0;32m    450\u001b[0m \u001b[38;5;28;01mif\u001b[39;00m \u001b[38;5;28mcallable\u001b[39m(scoring):\n",
            "File \u001b[1;32mc:\\Programs\\Python\\Python312\\Lib\\site-packages\\sklearn\\model_selection\\_validation.py:531\u001b[0m, in \u001b[0;36m_warn_or_raise_about_fit_failures\u001b[1;34m(results, error_score)\u001b[0m\n\u001b[0;32m    524\u001b[0m \u001b[38;5;28;01mif\u001b[39;00m num_failed_fits \u001b[38;5;241m==\u001b[39m num_fits:\n\u001b[0;32m    525\u001b[0m     all_fits_failed_message \u001b[38;5;241m=\u001b[39m (\n\u001b[0;32m    526\u001b[0m         \u001b[38;5;124mf\u001b[39m\u001b[38;5;124m\"\u001b[39m\u001b[38;5;130;01m\\n\u001b[39;00m\u001b[38;5;124mAll the \u001b[39m\u001b[38;5;132;01m{\u001b[39;00mnum_fits\u001b[38;5;132;01m}\u001b[39;00m\u001b[38;5;124m fits failed.\u001b[39m\u001b[38;5;130;01m\\n\u001b[39;00m\u001b[38;5;124m\"\u001b[39m\n\u001b[0;32m    527\u001b[0m         \u001b[38;5;124m\"\u001b[39m\u001b[38;5;124mIt is very likely that your model is misconfigured.\u001b[39m\u001b[38;5;130;01m\\n\u001b[39;00m\u001b[38;5;124m\"\u001b[39m\n\u001b[0;32m    528\u001b[0m         \u001b[38;5;124m\"\u001b[39m\u001b[38;5;124mYou can try to debug the error by setting error_score=\u001b[39m\u001b[38;5;124m'\u001b[39m\u001b[38;5;124mraise\u001b[39m\u001b[38;5;124m'\u001b[39m\u001b[38;5;124m.\u001b[39m\u001b[38;5;130;01m\\n\u001b[39;00m\u001b[38;5;130;01m\\n\u001b[39;00m\u001b[38;5;124m\"\u001b[39m\n\u001b[0;32m    529\u001b[0m         \u001b[38;5;124mf\u001b[39m\u001b[38;5;124m\"\u001b[39m\u001b[38;5;124mBelow are more details about the failures:\u001b[39m\u001b[38;5;130;01m\\n\u001b[39;00m\u001b[38;5;132;01m{\u001b[39;00mfit_errors_summary\u001b[38;5;132;01m}\u001b[39;00m\u001b[38;5;124m\"\u001b[39m\n\u001b[0;32m    530\u001b[0m     )\n\u001b[1;32m--> 531\u001b[0m     \u001b[38;5;28;01mraise\u001b[39;00m \u001b[38;5;167;01mValueError\u001b[39;00m(all_fits_failed_message)\n\u001b[0;32m    533\u001b[0m \u001b[38;5;28;01melse\u001b[39;00m:\n\u001b[0;32m    534\u001b[0m     some_fits_failed_message \u001b[38;5;241m=\u001b[39m (\n\u001b[0;32m    535\u001b[0m         \u001b[38;5;124mf\u001b[39m\u001b[38;5;124m\"\u001b[39m\u001b[38;5;130;01m\\n\u001b[39;00m\u001b[38;5;132;01m{\u001b[39;00mnum_failed_fits\u001b[38;5;132;01m}\u001b[39;00m\u001b[38;5;124m fits failed out of a total of \u001b[39m\u001b[38;5;132;01m{\u001b[39;00mnum_fits\u001b[38;5;132;01m}\u001b[39;00m\u001b[38;5;124m.\u001b[39m\u001b[38;5;130;01m\\n\u001b[39;00m\u001b[38;5;124m\"\u001b[39m\n\u001b[0;32m    536\u001b[0m         \u001b[38;5;124m\"\u001b[39m\u001b[38;5;124mThe score on these train-test partitions for these parameters\u001b[39m\u001b[38;5;124m\"\u001b[39m\n\u001b[1;32m   (...)\u001b[0m\n\u001b[0;32m    540\u001b[0m         \u001b[38;5;124mf\u001b[39m\u001b[38;5;124m\"\u001b[39m\u001b[38;5;124mBelow are more details about the failures:\u001b[39m\u001b[38;5;130;01m\\n\u001b[39;00m\u001b[38;5;132;01m{\u001b[39;00mfit_errors_summary\u001b[38;5;132;01m}\u001b[39;00m\u001b[38;5;124m\"\u001b[39m\n\u001b[0;32m    541\u001b[0m     )\n",
            "\u001b[1;31mValueError\u001b[0m: \nAll the 5 fits failed.\nIt is very likely that your model is misconfigured.\nYou can try to debug the error by setting error_score='raise'.\n\nBelow are more details about the failures:\n--------------------------------------------------------------------------------\n5 fits failed with the following error:\nTraceback (most recent call last):\n  File \"c:\\Programs\\Python\\Python312\\Lib\\site-packages\\sklearn\\model_selection\\_validation.py\", line 890, in _fit_and_score\n    estimator.fit(X_train, y_train, **fit_params)\n  File \"c:\\Programs\\Python\\Python312\\Lib\\site-packages\\sklearn\\base.py\", line 1351, in wrapper\n    return fit_method(estimator, *args, **kwargs)\n           ^^^^^^^^^^^^^^^^^^^^^^^^^^^^^^^^^^^^^^\nTypeError: KNeighborsClassifier.fit() got an unexpected keyword argument 'custom_feature_names'\n"
          ]
        }
      ],
      "source": [
        "efs1 = efs1.fit(iris_X, iris_y, custom_feature_names=iris_feature_names)"
      ]
    },
    {
      "cell_type": "code",
      "execution_count": 5,
      "id": "7934c087-1d58-408f-96b0-e104dc4270bf",
      "metadata": {
        "execution": {
          "iopub.execute_input": "2024-05-04T10:12:30.867290Z",
          "iopub.status.busy": "2024-05-04T10:12:30.866930Z",
          "iopub.status.idle": "2024-05-04T10:12:30.903880Z",
          "shell.execute_reply": "2024-05-04T10:12:30.902933Z",
          "shell.execute_reply.started": "2024-05-04T10:12:30.867265Z"
        },
        "id": "7934c087-1d58-408f-96b0-e104dc4270bf",
        "outputId": "0de1a20a-5d27-4956-8493-81beaf3a9e3e",
        "tags": []
      },
      "outputs": [
        {
          "data": {
            "text/html": [
              "<div>\n",
              "<style scoped>\n",
              "    .dataframe tbody tr th:only-of-type {\n",
              "        vertical-align: middle;\n",
              "    }\n",
              "\n",
              "    .dataframe tbody tr th {\n",
              "        vertical-align: top;\n",
              "    }\n",
              "\n",
              "    .dataframe thead th {\n",
              "        text-align: right;\n",
              "    }\n",
              "</style>\n",
              "<table border=\"1\" class=\"dataframe\">\n",
              "  <thead>\n",
              "    <tr style=\"text-align: right;\">\n",
              "      <th></th>\n",
              "      <th>sepal_length</th>\n",
              "      <th>sepal_width</th>\n",
              "      <th>petal_length</th>\n",
              "      <th>petal_width</th>\n",
              "      <th>species</th>\n",
              "    </tr>\n",
              "  </thead>\n",
              "  <tbody>\n",
              "    <tr>\n",
              "      <th>0</th>\n",
              "      <td>5.1</td>\n",
              "      <td>3.5</td>\n",
              "      <td>1.4</td>\n",
              "      <td>0.2</td>\n",
              "      <td>setosa</td>\n",
              "    </tr>\n",
              "    <tr>\n",
              "      <th>1</th>\n",
              "      <td>4.9</td>\n",
              "      <td>3.0</td>\n",
              "      <td>1.4</td>\n",
              "      <td>0.2</td>\n",
              "      <td>setosa</td>\n",
              "    </tr>\n",
              "    <tr>\n",
              "      <th>2</th>\n",
              "      <td>4.7</td>\n",
              "      <td>3.2</td>\n",
              "      <td>1.3</td>\n",
              "      <td>0.2</td>\n",
              "      <td>setosa</td>\n",
              "    </tr>\n",
              "    <tr>\n",
              "      <th>3</th>\n",
              "      <td>4.6</td>\n",
              "      <td>3.1</td>\n",
              "      <td>1.5</td>\n",
              "      <td>0.2</td>\n",
              "      <td>setosa</td>\n",
              "    </tr>\n",
              "    <tr>\n",
              "      <th>4</th>\n",
              "      <td>5.0</td>\n",
              "      <td>3.6</td>\n",
              "      <td>1.4</td>\n",
              "      <td>0.2</td>\n",
              "      <td>setosa</td>\n",
              "    </tr>\n",
              "    <tr>\n",
              "      <th>...</th>\n",
              "      <td>...</td>\n",
              "      <td>...</td>\n",
              "      <td>...</td>\n",
              "      <td>...</td>\n",
              "      <td>...</td>\n",
              "    </tr>\n",
              "    <tr>\n",
              "      <th>145</th>\n",
              "      <td>6.7</td>\n",
              "      <td>3.0</td>\n",
              "      <td>5.2</td>\n",
              "      <td>2.3</td>\n",
              "      <td>virginica</td>\n",
              "    </tr>\n",
              "    <tr>\n",
              "      <th>146</th>\n",
              "      <td>6.3</td>\n",
              "      <td>2.5</td>\n",
              "      <td>5.0</td>\n",
              "      <td>1.9</td>\n",
              "      <td>virginica</td>\n",
              "    </tr>\n",
              "    <tr>\n",
              "      <th>147</th>\n",
              "      <td>6.5</td>\n",
              "      <td>3.0</td>\n",
              "      <td>5.2</td>\n",
              "      <td>2.0</td>\n",
              "      <td>virginica</td>\n",
              "    </tr>\n",
              "    <tr>\n",
              "      <th>148</th>\n",
              "      <td>6.2</td>\n",
              "      <td>3.4</td>\n",
              "      <td>5.4</td>\n",
              "      <td>2.3</td>\n",
              "      <td>virginica</td>\n",
              "    </tr>\n",
              "    <tr>\n",
              "      <th>149</th>\n",
              "      <td>5.9</td>\n",
              "      <td>3.0</td>\n",
              "      <td>5.1</td>\n",
              "      <td>1.8</td>\n",
              "      <td>virginica</td>\n",
              "    </tr>\n",
              "  </tbody>\n",
              "</table>\n",
              "<p>150 rows × 5 columns</p>\n",
              "</div>"
            ],
            "text/plain": [
              "     sepal_length  sepal_width  petal_length  petal_width    species\n",
              "0             5.1          3.5           1.4          0.2     setosa\n",
              "1             4.9          3.0           1.4          0.2     setosa\n",
              "2             4.7          3.2           1.3          0.2     setosa\n",
              "3             4.6          3.1           1.5          0.2     setosa\n",
              "4             5.0          3.6           1.4          0.2     setosa\n",
              "..            ...          ...           ...          ...        ...\n",
              "145           6.7          3.0           5.2          2.3  virginica\n",
              "146           6.3          2.5           5.0          1.9  virginica\n",
              "147           6.5          3.0           5.2          2.0  virginica\n",
              "148           6.2          3.4           5.4          2.3  virginica\n",
              "149           5.9          3.0           5.1          1.8  virginica\n",
              "\n",
              "[150 rows x 5 columns]"
            ]
          },
          "execution_count": 5,
          "metadata": {},
          "output_type": "execute_result"
        }
      ],
      "source": [
        "dataset"
      ]
    },
    {
      "cell_type": "code",
      "execution_count": null,
      "id": "8c367f16-360b-483c-ab30-dda6f3f03134",
      "metadata": {
        "execution": {
          "iopub.execute_input": "2024-05-04T09:55:37.265020Z",
          "iopub.status.busy": "2024-05-04T09:55:37.264203Z",
          "iopub.status.idle": "2024-05-04T09:58:28.737121Z",
          "shell.execute_reply": "2024-05-04T09:58:28.736366Z",
          "shell.execute_reply.started": "2024-05-04T09:55:37.264991Z"
        },
        "id": "8c367f16-360b-483c-ab30-dda6f3f03134",
        "outputId": "cd3c3eb7-1333-46c9-bf5e-f1d168c1befd",
        "tags": []
      },
      "outputs": [
        {
          "name": "stderr",
          "output_type": "stream",
          "text": [
            "\n",
            "[2024-05-04 09:57:23] Features: 1/9 -- score: 0.07472373267847746\n",
            "[2024-05-04 09:57:32] Features: 2/9 -- score: 0.4059283655825443\n",
            "[2024-05-04 09:57:42] Features: 3/9 -- score: 0.44719669729657746\n",
            "[2024-05-04 09:57:50] Features: 4/9 -- score: 0.4648293963254593\n",
            "[2024-05-04 09:58:00] Features: 5/9 -- score: 0.47770534550195565\n",
            "[2024-05-04 09:58:09] Features: 6/9 -- score: 0.4882360587547121\n",
            "[2024-05-04 09:58:17] Features: 7/9 -- score: 0.48862897985705\n",
            "[2024-05-04 09:58:24] Features: 8/9 -- score: 0.48843855546895293\n",
            "[2024-05-04 09:58:28] Features: 9/9 -- score: 0.48810916179337227"
          ]
        }
      ],
      "source": [
        "from mlxtend.feature_selection import SequentialFeatureSelector as SFS\n",
        "\n",
        "sfs1 = SFS(knn,\n",
        "           k_features=9,\n",
        "           forward=True, # прямой и обратный перебор\n",
        "           floating=False,\n",
        "           verbose=2,\n",
        "           scoring='f1',\n",
        "           cv=0)\n",
        "\n",
        "sfs1 = sfs1.fit(X, y)"
      ]
    },
    {
      "cell_type": "code",
      "execution_count": null,
      "id": "e5fbbb95-7b57-4112-952c-815786beb653",
      "metadata": {
        "execution": {
          "iopub.execute_input": "2024-05-04T09:58:28.738924Z",
          "iopub.status.busy": "2024-05-04T09:58:28.738514Z",
          "iopub.status.idle": "2024-05-04T09:58:28.752446Z",
          "shell.execute_reply": "2024-05-04T09:58:28.751896Z",
          "shell.execute_reply.started": "2024-05-04T09:58:28.738896Z"
        },
        "id": "e5fbbb95-7b57-4112-952c-815786beb653",
        "outputId": "61b40421-1a92-411e-fc9f-3ef6133313d6",
        "tags": []
      },
      "outputs": [
        {
          "data": {
            "text/plain": [
              "{1: {'feature_idx': (6,),\n",
              "  'cv_scores': array([0.07472373]),\n",
              "  'avg_score': 0.07472373267847746,\n",
              "  'feature_names': ('logsumabs_1',)},\n",
              " 2: {'feature_idx': (0, 6),\n",
              "  'cv_scores': array([0.40592837]),\n",
              "  'avg_score': 0.4059283655825443,\n",
              "  'feature_names': ('time', 'logsumabs_1')},\n",
              " 3: {'feature_idx': (0, 2, 6),\n",
              "  'cv_scores': array([0.4471967]),\n",
              "  'avg_score': 0.44719669729657746,\n",
              "  'feature_names': ('time', 'employee_count_nm', 'logsumabs_1')},\n",
              " 4: {'feature_idx': (0, 2, 5, 6),\n",
              "  'cv_scores': array([0.4648294]),\n",
              "  'avg_score': 0.4648293963254593,\n",
              "  'feature_names': ('time',\n",
              "   'employee_count_nm',\n",
              "   'logsumabs_0',\n",
              "   'logsumabs_1')},\n",
              " 5: {'feature_idx': (0, 1, 2, 5, 6),\n",
              "  'cv_scores': array([0.47770535]),\n",
              "  'avg_score': 0.47770534550195565,\n",
              "  'feature_names': ('time',\n",
              "   'customer_age',\n",
              "   'employee_count_nm',\n",
              "   'logsumabs_0',\n",
              "   'logsumabs_1')},\n",
              " 6: {'feature_idx': (0, 1, 2, 4, 5, 6),\n",
              "  'cv_scores': array([0.48823606]),\n",
              "  'avg_score': 0.4882360587547121,\n",
              "  'feature_names': ('time',\n",
              "   'customer_age',\n",
              "   'employee_count_nm',\n",
              "   'report',\n",
              "   'logsumabs_0',\n",
              "   'logsumabs_1')},\n",
              " 7: {'feature_idx': (0, 1, 2, 3, 4, 5, 6),\n",
              "  'cv_scores': array([0.48862898]),\n",
              "  'avg_score': 0.48862897985705,\n",
              "  'feature_names': ('time',\n",
              "   'customer_age',\n",
              "   'employee_count_nm',\n",
              "   'bankemplstatus',\n",
              "   'report',\n",
              "   'logsumabs_0',\n",
              "   'logsumabs_1')},\n",
              " 8: {'feature_idx': (0, 1, 2, 3, 4, 5, 6, 7),\n",
              "  'cv_scores': array([0.48843856]),\n",
              "  'avg_score': 0.48843855546895293,\n",
              "  'feature_names': ('time',\n",
              "   'customer_age',\n",
              "   'employee_count_nm',\n",
              "   'bankemplstatus',\n",
              "   'report',\n",
              "   'logsumabs_0',\n",
              "   'logsumabs_1',\n",
              "   'logsumabs_2')},\n",
              " 9: {'feature_idx': (0, 1, 2, 3, 4, 5, 6, 7, 8),\n",
              "  'cv_scores': array([0.48810916]),\n",
              "  'avg_score': 0.48810916179337227,\n",
              "  'feature_names': ('time',\n",
              "   'customer_age',\n",
              "   'employee_count_nm',\n",
              "   'bankemplstatus',\n",
              "   'report',\n",
              "   'logsumabs_0',\n",
              "   'logsumabs_1',\n",
              "   'logsumabs_2',\n",
              "   'logsumabs_3')}}"
            ]
          },
          "execution_count": 11,
          "metadata": {},
          "output_type": "execute_result"
        }
      ],
      "source": [
        "sfs1.subsets_"
      ]
    },
    {
      "cell_type": "markdown",
      "id": "cb97039d-339a-45ed-abad-a286ee1ee188",
      "metadata": {
        "id": "cb97039d-339a-45ed-abad-a286ee1ee188"
      },
      "source": [
        "__ExhaustiveFeatureSelector - полный перебор__"
      ]
    },
    {
      "cell_type": "code",
      "execution_count": null,
      "id": "a63f3a34-4e19-453d-8d03-170283e87911",
      "metadata": {
        "id": "a63f3a34-4e19-453d-8d03-170283e87911",
        "outputId": "c9af6316-6fd9-4c19-e4a9-09420cd0530a",
        "tags": []
      },
      "outputs": [
        {
          "name": "stderr",
          "output_type": "stream",
          "text": [
            "Features: 511/511"
          ]
        }
      ],
      "source": [
        "from sklearn.neighbors import KNeighborsClassifier\n",
        "from mlxtend.feature_selection import ExhaustiveFeatureSelector as EFS\n",
        "\n",
        "knn = KNeighborsClassifier(n_neighbors=3)\n",
        "\n",
        "efs1 = EFS(knn,\n",
        "           min_features=1,\n",
        "           max_features=9,\n",
        "           scoring='f1',\n",
        "           print_progress=True,\n",
        "           cv=5)\n",
        "\n",
        "efs1 = efs1.fit(X, y)\n"
      ]
    },
    {
      "cell_type": "code",
      "execution_count": null,
      "id": "c0dc6dd2-12ba-4670-ae98-98769f8f69b0",
      "metadata": {
        "execution": {
          "iopub.execute_input": "2024-05-04T10:50:26.672907Z",
          "iopub.status.busy": "2024-05-04T10:50:26.672521Z",
          "iopub.status.idle": "2024-05-04T10:50:26.688861Z",
          "shell.execute_reply": "2024-05-04T10:50:26.688221Z",
          "shell.execute_reply.started": "2024-05-04T10:50:26.672888Z"
        },
        "id": "c0dc6dd2-12ba-4670-ae98-98769f8f69b0",
        "outputId": "f5c5fa4b-c41f-44ed-f693-a7940609b816"
      },
      "outputs": [
        {
          "name": "stdout",
          "output_type": "stream",
          "text": [
            "Best accuracy score: 0.37\n",
            "Best subset (indices): (0, 1, 2, 3, 4, 5, 6)\n",
            "Best subset (corresponding names): ('time', 'customer_age', 'employee_count_nm', 'bankemplstatus', 'report', 'logsumabs_0', 'logsumabs_1')\n"
          ]
        }
      ],
      "source": [
        "print('Best accuracy score: %.2f' % efs1.best_score_)\n",
        "print('Best subset (indices):', efs1.best_idx_)\n",
        "print('Best subset (corresponding names):', efs1.best_feature_names_)"
      ]
    },
    {
      "cell_type": "markdown",
      "id": "ac6a6c9c-ca7d-4c0a-9d07-dea2ee2ff6b2",
      "metadata": {
        "id": "ac6a6c9c-ca7d-4c0a-9d07-dea2ee2ff6b2",
        "tags": []
      },
      "source": [
        "## Методы вложения"
      ]
    },
    {
      "cell_type": "markdown",
      "id": "3fac121b-2470-4eef-8f70-63807988e709",
      "metadata": {
        "id": "3fac121b-2470-4eef-8f70-63807988e709"
      },
      "source": [
        "__Модели для оценки важности признаков:__    \n",
        "- Линейные модели.\n",
        "- Метод опорных векторов с l1-регулирезацией.    \n",
        "- Дерево решений.\n",
        "- Ассамблевые модели на основе деревьев решений."
      ]
    },
    {
      "cell_type": "markdown",
      "id": "9670f2e4-c1bb-4ae4-8da0-7fa481269534",
      "metadata": {
        "id": "9670f2e4-c1bb-4ae4-8da0-7fa481269534"
      },
      "source": [
        "SelectFromModel - можно пременить для выбора признаков"
      ]
    },
    {
      "cell_type": "code",
      "execution_count": null,
      "id": "fa061e00-acf7-4453-9386-07e8339a3ede",
      "metadata": {
        "execution": {
          "iopub.execute_input": "2024-04-27T13:30:53.027330Z",
          "iopub.status.busy": "2024-04-27T13:30:53.026637Z",
          "iopub.status.idle": "2024-04-27T13:30:53.035455Z",
          "shell.execute_reply": "2024-04-27T13:30:53.034813Z",
          "shell.execute_reply.started": "2024-04-27T13:30:53.027288Z"
        },
        "id": "fa061e00-acf7-4453-9386-07e8339a3ede"
      },
      "outputs": [],
      "source": [
        "from sklearn.feature_selection import SelectFromModel"
      ]
    },
    {
      "cell_type": "markdown",
      "id": "f03dc308-b57b-450b-b395-ac2be20d8b71",
      "metadata": {
        "id": "f03dc308-b57b-450b-b395-ac2be20d8b71"
      },
      "source": [
        "### Логистическая регрессия"
      ]
    },
    {
      "cell_type": "code",
      "execution_count": null,
      "id": "e583c16d-f013-46b6-8f6e-fbd6a644d7db",
      "metadata": {
        "execution": {
          "iopub.execute_input": "2024-05-04T10:55:46.268937Z",
          "iopub.status.busy": "2024-05-04T10:55:46.268516Z",
          "iopub.status.idle": "2024-05-04T10:55:46.282006Z",
          "shell.execute_reply": "2024-05-04T10:55:46.281382Z",
          "shell.execute_reply.started": "2024-05-04T10:55:46.268916Z"
        },
        "id": "e583c16d-f013-46b6-8f6e-fbd6a644d7db",
        "tags": []
      },
      "outputs": [],
      "source": [
        "#%pip install shap"
      ]
    },
    {
      "cell_type": "code",
      "execution_count": null,
      "id": "c4178b67-f188-42ed-a53f-790b509e1ed0",
      "metadata": {
        "execution": {
          "iopub.execute_input": "2024-05-04T10:52:56.726147Z",
          "iopub.status.busy": "2024-05-04T10:52:56.725693Z",
          "iopub.status.idle": "2024-05-04T10:52:56.744590Z",
          "shell.execute_reply": "2024-05-04T10:52:56.743958Z",
          "shell.execute_reply.started": "2024-05-04T10:52:56.726127Z"
        },
        "id": "c4178b67-f188-42ed-a53f-790b509e1ed0",
        "tags": []
      },
      "outputs": [],
      "source": [
        "from sklearn.linear_model import LogisticRegression\n",
        "from sklearn.metrics import roc_auc_score, roc_curve\n",
        "from sklearn.metrics import auc, f1_score, classification_report"
      ]
    },
    {
      "cell_type": "code",
      "execution_count": null,
      "id": "2086558f-bf16-4f16-b576-88255f55f5e2",
      "metadata": {
        "execution": {
          "iopub.execute_input": "2024-05-04T10:55:00.843040Z",
          "iopub.status.busy": "2024-05-04T10:55:00.842698Z",
          "iopub.status.idle": "2024-05-04T10:55:01.138778Z",
          "shell.execute_reply": "2024-05-04T10:55:01.137968Z",
          "shell.execute_reply.started": "2024-05-04T10:55:00.843020Z"
        },
        "id": "2086558f-bf16-4f16-b576-88255f55f5e2",
        "outputId": "b1ae72b0-f662-4d8c-a539-7de58a6899b7",
        "tags": []
      },
      "outputs": [
        {
          "data": {
            "text/html": [
              "<style>#sk-container-id-1 {color: black;background-color: white;}#sk-container-id-1 pre{padding: 0;}#sk-container-id-1 div.sk-toggleable {background-color: white;}#sk-container-id-1 label.sk-toggleable__label {cursor: pointer;display: block;width: 100%;margin-bottom: 0;padding: 0.3em;box-sizing: border-box;text-align: center;}#sk-container-id-1 label.sk-toggleable__label-arrow:before {content: \"▸\";float: left;margin-right: 0.25em;color: #696969;}#sk-container-id-1 label.sk-toggleable__label-arrow:hover:before {color: black;}#sk-container-id-1 div.sk-estimator:hover label.sk-toggleable__label-arrow:before {color: black;}#sk-container-id-1 div.sk-toggleable__content {max-height: 0;max-width: 0;overflow: hidden;text-align: left;background-color: #f0f8ff;}#sk-container-id-1 div.sk-toggleable__content pre {margin: 0.2em;color: black;border-radius: 0.25em;background-color: #f0f8ff;}#sk-container-id-1 input.sk-toggleable__control:checked~div.sk-toggleable__content {max-height: 200px;max-width: 100%;overflow: auto;}#sk-container-id-1 input.sk-toggleable__control:checked~label.sk-toggleable__label-arrow:before {content: \"▾\";}#sk-container-id-1 div.sk-estimator input.sk-toggleable__control:checked~label.sk-toggleable__label {background-color: #d4ebff;}#sk-container-id-1 div.sk-label input.sk-toggleable__control:checked~label.sk-toggleable__label {background-color: #d4ebff;}#sk-container-id-1 input.sk-hidden--visually {border: 0;clip: rect(1px 1px 1px 1px);clip: rect(1px, 1px, 1px, 1px);height: 1px;margin: -1px;overflow: hidden;padding: 0;position: absolute;width: 1px;}#sk-container-id-1 div.sk-estimator {font-family: monospace;background-color: #f0f8ff;border: 1px dotted black;border-radius: 0.25em;box-sizing: border-box;margin-bottom: 0.5em;}#sk-container-id-1 div.sk-estimator:hover {background-color: #d4ebff;}#sk-container-id-1 div.sk-parallel-item::after {content: \"\";width: 100%;border-bottom: 1px solid gray;flex-grow: 1;}#sk-container-id-1 div.sk-label:hover label.sk-toggleable__label {background-color: #d4ebff;}#sk-container-id-1 div.sk-serial::before {content: \"\";position: absolute;border-left: 1px solid gray;box-sizing: border-box;top: 0;bottom: 0;left: 50%;z-index: 0;}#sk-container-id-1 div.sk-serial {display: flex;flex-direction: column;align-items: center;background-color: white;padding-right: 0.2em;padding-left: 0.2em;position: relative;}#sk-container-id-1 div.sk-item {position: relative;z-index: 1;}#sk-container-id-1 div.sk-parallel {display: flex;align-items: stretch;justify-content: center;background-color: white;position: relative;}#sk-container-id-1 div.sk-item::before, #sk-container-id-1 div.sk-parallel-item::before {content: \"\";position: absolute;border-left: 1px solid gray;box-sizing: border-box;top: 0;bottom: 0;left: 50%;z-index: -1;}#sk-container-id-1 div.sk-parallel-item {display: flex;flex-direction: column;z-index: 1;position: relative;background-color: white;}#sk-container-id-1 div.sk-parallel-item:first-child::after {align-self: flex-end;width: 50%;}#sk-container-id-1 div.sk-parallel-item:last-child::after {align-self: flex-start;width: 50%;}#sk-container-id-1 div.sk-parallel-item:only-child::after {width: 0;}#sk-container-id-1 div.sk-dashed-wrapped {border: 1px dashed gray;margin: 0 0.4em 0.5em 0.4em;box-sizing: border-box;padding-bottom: 0.4em;background-color: white;}#sk-container-id-1 div.sk-label label {font-family: monospace;font-weight: bold;display: inline-block;line-height: 1.2em;}#sk-container-id-1 div.sk-label-container {text-align: center;}#sk-container-id-1 div.sk-container {/* jupyter's `normalize.less` sets `[hidden] { display: none; }` but bootstrap.min.css set `[hidden] { display: none !important; }` so we also need the `!important` here to be able to override the default hidden behavior on the sphinx rendered scikit-learn.org. See: https://github.com/scikit-learn/scikit-learn/issues/21755 */display: inline-block !important;position: relative;}#sk-container-id-1 div.sk-text-repr-fallback {display: none;}</style><div id=\"sk-container-id-1\" class=\"sk-top-container\"><div class=\"sk-text-repr-fallback\"><pre>LogisticRegression(C=1000, max_iter=1000, penalty=&#x27;l1&#x27;, solver=&#x27;liblinear&#x27;)</pre><b>In a Jupyter environment, please rerun this cell to show the HTML representation or trust the notebook. <br />On GitHub, the HTML representation is unable to render, please try loading this page with nbviewer.org.</b></div><div class=\"sk-container\" hidden><div class=\"sk-item\"><div class=\"sk-estimator sk-toggleable\"><input class=\"sk-toggleable__control sk-hidden--visually\" id=\"sk-estimator-id-1\" type=\"checkbox\" checked><label for=\"sk-estimator-id-1\" class=\"sk-toggleable__label sk-toggleable__label-arrow\">LogisticRegression</label><div class=\"sk-toggleable__content\"><pre>LogisticRegression(C=1000, max_iter=1000, penalty=&#x27;l1&#x27;, solver=&#x27;liblinear&#x27;)</pre></div></div></div></div></div>"
            ],
            "text/plain": [
              "LogisticRegression(C=1000, max_iter=1000, penalty='l1', solver='liblinear')"
            ]
          },
          "execution_count": 15,
          "metadata": {},
          "output_type": "execute_result"
        }
      ],
      "source": [
        "# Используем L1-регуляризацию\n",
        "model = LogisticRegression(C=1000, solver='liblinear', penalty='l1', max_iter=1000)\n",
        "model.fit(X_train, y_train)"
      ]
    },
    {
      "cell_type": "code",
      "execution_count": null,
      "id": "971abcfb-b609-479d-a5d1-f132af2d9d4e",
      "metadata": {
        "execution": {
          "iopub.execute_input": "2024-05-04T11:06:52.202805Z",
          "iopub.status.busy": "2024-05-04T11:06:52.202269Z",
          "iopub.status.idle": "2024-05-04T11:06:52.221524Z",
          "shell.execute_reply": "2024-05-04T11:06:52.220690Z",
          "shell.execute_reply.started": "2024-05-04T11:06:52.202771Z"
        },
        "id": "971abcfb-b609-479d-a5d1-f132af2d9d4e",
        "outputId": "48dc63c9-ab5e-4afe-cd8a-d4ec44fa3e2a"
      },
      "outputs": [
        {
          "data": {
            "text/plain": [
              "array([[-0.0547124 , -0.17118667, -0.21804785, -8.90202108, -0.03960441,\n",
              "         0.04180159, -0.05315739, -0.11927922,  0.0133169 ]])"
            ]
          },
          "execution_count": 25,
          "metadata": {},
          "output_type": "execute_result"
        }
      ],
      "source": [
        "model.coef_"
      ]
    },
    {
      "cell_type": "code",
      "execution_count": null,
      "id": "d36191ae-22b4-4b94-8fff-369b694d9d15",
      "metadata": {
        "execution": {
          "iopub.execute_input": "2024-05-04T11:06:01.320997Z",
          "iopub.status.busy": "2024-05-04T11:06:01.320636Z",
          "iopub.status.idle": "2024-05-04T11:06:01.403527Z",
          "shell.execute_reply": "2024-05-04T11:06:01.402839Z",
          "shell.execute_reply.started": "2024-05-04T11:06:01.320971Z"
        },
        "id": "d36191ae-22b4-4b94-8fff-369b694d9d15",
        "outputId": "c11aad5a-ecd6-452b-e71a-6e36467ddf10",
        "tags": []
      },
      "outputs": [
        {
          "name": "stdout",
          "output_type": "stream",
          "text": [
            "              precision    recall  f1-score   support\n",
            "\n",
            "           0       0.94      0.98      0.96     11717\n",
            "           1       0.55      0.29      0.38      1083\n",
            "\n",
            "    accuracy                           0.92     12800\n",
            "   macro avg       0.74      0.63      0.67     12800\n",
            "weighted avg       0.90      0.92      0.91     12800\n",
            "\n"
          ]
        }
      ],
      "source": [
        "y_test_pred = model.predict(X_test)\n",
        "print(classification_report(y_test, y_test_pred))"
      ]
    },
    {
      "cell_type": "code",
      "execution_count": null,
      "id": "e93df72b-26e5-4c56-be96-7971ff2109c8",
      "metadata": {
        "execution": {
          "iopub.execute_input": "2024-05-04T10:59:28.847456Z",
          "iopub.status.busy": "2024-05-04T10:59:28.847081Z",
          "iopub.status.idle": "2024-05-04T10:59:29.736439Z",
          "shell.execute_reply": "2024-05-04T10:59:29.735762Z",
          "shell.execute_reply.started": "2024-05-04T10:59:28.847437Z"
        },
        "id": "e93df72b-26e5-4c56-be96-7971ff2109c8",
        "outputId": "9d34aef3-05c2-44ef-dae0-bde56d712d70",
        "tags": []
      },
      "outputs": [
        {
          "data": {
            "image/png": "[encoded data removed]",
            "text/plain": [
              "<Figure size 576x367.2 with 2 Axes>"
            ]
          },
          "metadata": {
            "needs_background": "light"
          },
          "output_type": "display_data"
        }
      ],
      "source": [
        "import shap\n",
        "explainer = shap.LinearExplainer(model, X_train, feature_perturbation=\"interventional\")\n",
        "shap_values = explainer.shap_values(X_test)\n",
        "shap.summary_plot(shap_values, X_test)"
      ]
    },
    {
      "cell_type": "markdown",
      "id": "f744d084-8e2c-4829-8f88-21f76db08b40",
      "metadata": {
        "id": "f744d084-8e2c-4829-8f88-21f76db08b40"
      },
      "source": [
        "### Линейный классификатор на основе SVM"
      ]
    },
    {
      "cell_type": "code",
      "execution_count": null,
      "id": "08a80b72-4120-41c8-b9a2-9825874843ea",
      "metadata": {
        "execution": {
          "iopub.execute_input": "2024-04-27T13:18:37.947272Z",
          "iopub.status.busy": "2024-04-27T13:18:37.946528Z",
          "iopub.status.idle": "2024-04-27T13:18:37.958668Z",
          "shell.execute_reply": "2024-04-27T13:18:37.957967Z",
          "shell.execute_reply.started": "2024-04-27T13:18:37.947240Z"
        },
        "id": "08a80b72-4120-41c8-b9a2-9825874843ea"
      },
      "outputs": [],
      "source": [
        "from sklearn.svm import LinearSVC"
      ]
    },
    {
      "cell_type": "code",
      "execution_count": null,
      "id": "ec0d491e-d1e8-4385-bc44-54112906cefd",
      "metadata": {
        "execution": {
          "iopub.execute_input": "2024-04-27T13:20:17.928430Z",
          "iopub.status.busy": "2024-04-27T13:20:17.927769Z",
          "iopub.status.idle": "2024-04-27T13:20:17.937066Z",
          "shell.execute_reply": "2024-04-27T13:20:17.936439Z",
          "shell.execute_reply.started": "2024-04-27T13:20:17.928388Z"
        },
        "id": "ec0d491e-d1e8-4385-bc44-54112906cefd"
      },
      "outputs": [],
      "source": [
        "model = LinearSVC(C=0.01, penalty='l1', max_iter=2000, dual=False)"
      ]
    },
    {
      "cell_type": "markdown",
      "id": "04a0ce94-ce8d-4f5a-9a0f-c2d01603ecf6",
      "metadata": {
        "id": "04a0ce94-ce8d-4f5a-9a0f-c2d01603ecf6"
      },
      "source": [
        "### Дерево решений"
      ]
    },
    {
      "cell_type": "code",
      "execution_count": null,
      "id": "32000555-7018-424a-a63f-32ca43a2438f",
      "metadata": {
        "execution": {
          "iopub.execute_input": "2024-04-27T13:38:27.721020Z",
          "iopub.status.busy": "2024-04-27T13:38:27.720305Z",
          "iopub.status.idle": "2024-04-27T13:38:27.729535Z",
          "shell.execute_reply": "2024-04-27T13:38:27.728957Z",
          "shell.execute_reply.started": "2024-04-27T13:38:27.720979Z"
        },
        "id": "32000555-7018-424a-a63f-32ca43a2438f",
        "tags": []
      },
      "outputs": [],
      "source": [
        "from sklearn.tree import DecisionTreeClassifier, DecisionTreeRegressor"
      ]
    },
    {
      "cell_type": "code",
      "execution_count": null,
      "id": "a69fdc6a-ad98-495b-adaa-29959feb52d0",
      "metadata": {
        "execution": {
          "iopub.execute_input": "2024-04-27T13:33:39.127326Z",
          "iopub.status.busy": "2024-04-27T13:33:39.126649Z",
          "iopub.status.idle": "2024-04-27T13:33:39.140143Z",
          "shell.execute_reply": "2024-04-27T13:33:39.139470Z",
          "shell.execute_reply.started": "2024-04-27T13:33:39.127297Z"
        },
        "id": "a69fdc6a-ad98-495b-adaa-29959feb52d0"
      },
      "outputs": [],
      "source": [
        "model = DecisionTreeClassifier()"
      ]
    },
    {
      "cell_type": "markdown",
      "id": "ca220241-2048-4019-b072-eccef58531fb",
      "metadata": {
        "id": "ca220241-2048-4019-b072-eccef58531fb"
      },
      "source": [
        "### Ассамблевые модели на основе деревьев решений"
      ]
    },
    {
      "cell_type": "code",
      "execution_count": null,
      "id": "e135ac03-8c43-4cca-96ac-597021b840b1",
      "metadata": {
        "execution": {
          "iopub.execute_input": "2024-04-27T13:37:55.182937Z",
          "iopub.status.busy": "2024-04-27T13:37:55.182242Z",
          "iopub.status.idle": "2024-04-27T13:37:55.272566Z",
          "shell.execute_reply": "2024-04-27T13:37:55.271872Z",
          "shell.execute_reply.started": "2024-04-27T13:37:55.182897Z"
        },
        "id": "e135ac03-8c43-4cca-96ac-597021b840b1"
      },
      "outputs": [],
      "source": [
        "from sklearn.ensemble import GradientBoostingClassifier, RandomForestClassifier"
      ]
    },
    {
      "cell_type": "markdown",
      "id": "d9f3e1c4-43e6-4f46-85fd-0b60fef48496",
      "metadata": {
        "id": "d9f3e1c4-43e6-4f46-85fd-0b60fef48496",
        "tags": []
      },
      "source": [
        "## Гибридные методы"
      ]
    },
    {
      "cell_type": "markdown",
      "id": "8b02dadd-10b5-492f-80ff-a6d139f500cf",
      "metadata": {
        "id": "8b02dadd-10b5-492f-80ff-a6d139f500cf"
      },
      "source": [
        "### Рекурсивное добавление и удаление признаков"
      ]
    },
    {
      "cell_type": "markdown",
      "id": "cd9285ad-eb6e-4330-a870-410f37a23d26",
      "metadata": {
        "id": "cd9285ad-eb6e-4330-a870-410f37a23d26"
      },
      "source": [
        "Recursive Feature Addition.   \n",
        "Recursive Feature Eliminftion"
      ]
    },
    {
      "cell_type": "code",
      "execution_count": null,
      "id": "5f75cf28-77de-4379-8c38-29bd14c5c911",
      "metadata": {
        "id": "5f75cf28-77de-4379-8c38-29bd14c5c911"
      },
      "outputs": [],
      "source": []
    },
    {
      "cell_type": "markdown",
      "id": "4df8f748-9d95-4d22-afb8-c3bc6295a111",
      "metadata": {
        "id": "4df8f748-9d95-4d22-afb8-c3bc6295a111"
      },
      "source": [
        "### Определения важности признаков на основе перемешевания данных"
      ]
    },
    {
      "cell_type": "markdown",
      "id": "4bd0821d-0fc1-4596-ab84-0e38a57a04f7",
      "metadata": {
        "id": "4bd0821d-0fc1-4596-ab84-0e38a57a04f7"
      },
      "source": [
        "Permuation feature imporance    \n",
        "Feature selection by random shuffling"
      ]
    },
    {
      "cell_type": "code",
      "execution_count": null,
      "id": "6ade0b5c-d123-4b04-86ed-21e0cb4b5f73",
      "metadata": {
        "execution": {
          "iopub.execute_input": "2024-04-27T14:02:22.216099Z",
          "iopub.status.busy": "2024-04-27T14:02:22.215371Z",
          "iopub.status.idle": "2024-04-27T14:02:22.245297Z",
          "shell.execute_reply": "2024-04-27T14:02:22.244612Z",
          "shell.execute_reply.started": "2024-04-27T14:02:22.216056Z"
        },
        "id": "6ade0b5c-d123-4b04-86ed-21e0cb4b5f73"
      },
      "outputs": [],
      "source": [
        "from sklearn.inspection import permutation_importance"
      ]
    },
    {
      "cell_type": "code",
      "execution_count": null,
      "id": "3ff0f9cb-66a7-410e-a2dc-b095847baaf1",
      "metadata": {
        "execution": {
          "iopub.execute_input": "2024-04-27T14:03:46.949840Z",
          "iopub.status.busy": "2024-04-27T14:03:46.949167Z",
          "iopub.status.idle": "2024-04-27T14:03:46.975847Z",
          "shell.execute_reply": "2024-04-27T14:03:46.975226Z",
          "shell.execute_reply.started": "2024-04-27T14:03:46.949807Z"
        },
        "id": "3ff0f9cb-66a7-410e-a2dc-b095847baaf1",
        "outputId": "f3e58e41-bc70-477a-904f-7ac16f42f448",
        "tags": []
      },
      "outputs": [
        {
          "name": "stdout",
          "output_type": "stream",
          "text": [
            "[0.46666667 0.         0.        ]\n",
            "[0.22110832 0.         0.        ]\n"
          ]
        }
      ],
      "source": [
        "X = [[1, 9, 9],[1, 9, 9],[1, 9, 9],\n",
        "     [0, 9, 9],[0, 9, 9],[0, 9, 9]]\n",
        "y = [1, 1, 1, 0, 0, 0]\n",
        "clf = LogisticRegression().fit(X, y)\n",
        "result = permutation_importance(clf, X, y, n_repeats=10,\n",
        "                                random_state=0)\n",
        "print(result.importances_mean)\n",
        "print(result.importances_std)"
      ]
    },
    {
      "cell_type": "code",
      "execution_count": null,
      "id": "ebbe91cc-4a47-419d-b34a-52639e6221e8",
      "metadata": {
        "id": "ebbe91cc-4a47-419d-b34a-52639e6221e8"
      },
      "outputs": [],
      "source": []
    }
  ],
  "metadata": {
    "colab": {
      "provenance": []
    },
    "kernelspec": {
      "display_name": "DataSphere Kernel",
      "language": "python",
      "name": "python3"
    },
    "language_info": {
      "codemirror_mode": {
        "name": "ipython",
        "version": 3
      },
      "file_extension": ".py",
      "mimetype": "text/x-python",
      "name": "python",
      "nbconvert_exporter": "python",
      "pygments_lexer": "ipython3",
      "version": "3.10.12"
    }
  },
  "nbformat": 4,
  "nbformat_minor": 5
}
