{
 "cells": [
  {
   "cell_type": "code",
   "execution_count": 1,
   "metadata": {},
   "outputs": [],
   "source": [
    "import pandas as pd\n",
    "from matplotlib import pyplot as plt\n",
    "import numpy as np"
   ]
  },
  {
   "cell_type": "markdown",
   "metadata": {},
   "source": [
    "1. Загрузите данные по вариантам в ноутбук.\n"
   ]
  },
  {
   "cell_type": "code",
   "execution_count": 2,
   "metadata": {},
   "outputs": [
    {
     "data": {
      "text/html": [
       "<div>\n",
       "<style scoped>\n",
       "    .dataframe tbody tr th:only-of-type {\n",
       "        vertical-align: middle;\n",
       "    }\n",
       "\n",
       "    .dataframe tbody tr th {\n",
       "        vertical-align: top;\n",
       "    }\n",
       "\n",
       "    .dataframe thead th {\n",
       "        text-align: right;\n",
       "    }\n",
       "</style>\n",
       "<table border=\"1\" class=\"dataframe\">\n",
       "  <thead>\n",
       "    <tr style=\"text-align: right;\">\n",
       "      <th></th>\n",
       "      <th>№ школы</th>\n",
       "      <th>Класс</th>\n",
       "      <th>Пол</th>\n",
       "      <th>Номер варианта</th>\n",
       "      <th>Задания с кратким ответом</th>\n",
       "      <th>Задания с развёрнутым ответом</th>\n",
       "      <th>Устная часть</th>\n",
       "      <th>Первичный балл</th>\n",
       "      <th>Балл</th>\n",
       "      <th>Минимальный балл</th>\n",
       "    </tr>\n",
       "    <tr>\n",
       "      <th>№</th>\n",
       "      <th></th>\n",
       "      <th></th>\n",
       "      <th></th>\n",
       "      <th></th>\n",
       "      <th></th>\n",
       "      <th></th>\n",
       "      <th></th>\n",
       "      <th></th>\n",
       "      <th></th>\n",
       "      <th></th>\n",
       "    </tr>\n",
       "  </thead>\n",
       "  <tbody>\n",
       "    <tr>\n",
       "      <th>1.0</th>\n",
       "      <td>152.0</td>\n",
       "      <td>11</td>\n",
       "      <td>М</td>\n",
       "      <td>333.0</td>\n",
       "      <td>----001---00---000--1-+0---</td>\n",
       "      <td>0(3)0(3)0(3)0(3)0(3)</td>\n",
       "      <td>NaN</td>\n",
       "      <td>3.0</td>\n",
       "      <td>10.0</td>\n",
       "      <td>36.0</td>\n",
       "    </tr>\n",
       "    <tr>\n",
       "      <th>2.0</th>\n",
       "      <td>140.0</td>\n",
       "      <td>12</td>\n",
       "      <td>Ж</td>\n",
       "      <td>332.0</td>\n",
       "      <td>----100---01-+-000--0--1---</td>\n",
       "      <td>0(3)0(3)0(3)0(3)0(3)</td>\n",
       "      <td>NaN</td>\n",
       "      <td>4.0</td>\n",
       "      <td>14.0</td>\n",
       "      <td>36.0</td>\n",
       "    </tr>\n",
       "    <tr>\n",
       "      <th>3.0</th>\n",
       "      <td>137.0</td>\n",
       "      <td>11</td>\n",
       "      <td>М</td>\n",
       "      <td>328.0</td>\n",
       "      <td>--+-010---00---101--0--1---</td>\n",
       "      <td>0(3)0(3)0(3)0(3)0(3)</td>\n",
       "      <td>NaN</td>\n",
       "      <td>5.0</td>\n",
       "      <td>17.0</td>\n",
       "      <td>36.0</td>\n",
       "    </tr>\n",
       "    <tr>\n",
       "      <th>4.0</th>\n",
       "      <td>148.0</td>\n",
       "      <td>11</td>\n",
       "      <td>М</td>\n",
       "      <td>333.0</td>\n",
       "      <td>-+--000--+01---100--0--1---</td>\n",
       "      <td>0(3)0(3)0(3)0(3)0(3)</td>\n",
       "      <td>NaN</td>\n",
       "      <td>5.0</td>\n",
       "      <td>17.0</td>\n",
       "      <td>36.0</td>\n",
       "    </tr>\n",
       "    <tr>\n",
       "      <th>5.0</th>\n",
       "      <td>153.0</td>\n",
       "      <td>11</td>\n",
       "      <td>Ж</td>\n",
       "      <td>333.0</td>\n",
       "      <td>-+--100---00---100-+0--1---</td>\n",
       "      <td>0(3)0(3)0(3)0(3)0(3)</td>\n",
       "      <td>NaN</td>\n",
       "      <td>5.0</td>\n",
       "      <td>17.0</td>\n",
       "      <td>36.0</td>\n",
       "    </tr>\n",
       "    <tr>\n",
       "      <th>...</th>\n",
       "      <td>...</td>\n",
       "      <td>...</td>\n",
       "      <td>...</td>\n",
       "      <td>...</td>\n",
       "      <td>...</td>\n",
       "      <td>...</td>\n",
       "      <td>...</td>\n",
       "      <td>...</td>\n",
       "      <td>...</td>\n",
       "      <td>...</td>\n",
       "    </tr>\n",
       "    <tr>\n",
       "      <th>1176.0</th>\n",
       "      <td>148.0</td>\n",
       "      <td>11</td>\n",
       "      <td>М</td>\n",
       "      <td>332.0</td>\n",
       "      <td>++++222+++22+++222++2++2+++</td>\n",
       "      <td>3(3)3(3)3(3)3(3)2(3)</td>\n",
       "      <td>NaN</td>\n",
       "      <td>51.0</td>\n",
       "      <td>98.0</td>\n",
       "      <td>36.0</td>\n",
       "    </tr>\n",
       "    <tr>\n",
       "      <th>1177.0</th>\n",
       "      <td>148.0</td>\n",
       "      <td>11</td>\n",
       "      <td>М</td>\n",
       "      <td>330.0</td>\n",
       "      <td>++++222+++22+++222++2++2+++</td>\n",
       "      <td>3(3)3(3)3(3)3(3)2(3)</td>\n",
       "      <td>NaN</td>\n",
       "      <td>51.0</td>\n",
       "      <td>98.0</td>\n",
       "      <td>36.0</td>\n",
       "    </tr>\n",
       "    <tr>\n",
       "      <th>1178.0</th>\n",
       "      <td>152.0</td>\n",
       "      <td>11</td>\n",
       "      <td>Ж</td>\n",
       "      <td>330.0</td>\n",
       "      <td>++++222+++22+++222++2++2+++</td>\n",
       "      <td>3(3)3(3)3(3)2(3)3(3)</td>\n",
       "      <td>NaN</td>\n",
       "      <td>51.0</td>\n",
       "      <td>98.0</td>\n",
       "      <td>36.0</td>\n",
       "    </tr>\n",
       "    <tr>\n",
       "      <th>1179.0</th>\n",
       "      <td>147.0</td>\n",
       "      <td>11</td>\n",
       "      <td>М</td>\n",
       "      <td>332.0</td>\n",
       "      <td>++++222+++22+++222++2++2+++</td>\n",
       "      <td>3(3)3(3)3(3)3(3)3(3)</td>\n",
       "      <td>NaN</td>\n",
       "      <td>52.0</td>\n",
       "      <td>100.0</td>\n",
       "      <td>36.0</td>\n",
       "    </tr>\n",
       "    <tr>\n",
       "      <th>1180.0</th>\n",
       "      <td>148.0</td>\n",
       "      <td>11</td>\n",
       "      <td>М</td>\n",
       "      <td>328.0</td>\n",
       "      <td>++++222+++22+++222++2++2+++</td>\n",
       "      <td>3(3)3(3)3(3)3(3)3(3)</td>\n",
       "      <td>NaN</td>\n",
       "      <td>52.0</td>\n",
       "      <td>100.0</td>\n",
       "      <td>36.0</td>\n",
       "    </tr>\n",
       "  </tbody>\n",
       "</table>\n",
       "<p>1180 rows × 10 columns</p>\n",
       "</div>"
      ],
      "text/plain": [
       "        № школы Класс Пол  Номер варианта    Задания с кратким ответом  \\\n",
       "№                                                                        \n",
       "1.0       152.0    11   М           333.0  ----001---00---000--1-+0---   \n",
       "2.0       140.0    12   Ж           332.0  ----100---01-+-000--0--1---   \n",
       "3.0       137.0    11   М           328.0  --+-010---00---101--0--1---   \n",
       "4.0       148.0    11   М           333.0  -+--000--+01---100--0--1---   \n",
       "5.0       153.0    11   Ж           333.0  -+--100---00---100-+0--1---   \n",
       "...         ...   ...  ..             ...                          ...   \n",
       "1176.0    148.0    11   М           332.0  ++++222+++22+++222++2++2+++   \n",
       "1177.0    148.0    11   М           330.0  ++++222+++22+++222++2++2+++   \n",
       "1178.0    152.0    11   Ж           330.0  ++++222+++22+++222++2++2+++   \n",
       "1179.0    147.0    11   М           332.0  ++++222+++22+++222++2++2+++   \n",
       "1180.0    148.0    11   М           328.0  ++++222+++22+++222++2++2+++   \n",
       "\n",
       "       Задания с развёрнутым ответом Устная часть  Первичный балл   Балл  \\\n",
       "№                                                                          \n",
       "1.0             0(3)0(3)0(3)0(3)0(3)          NaN             3.0   10.0   \n",
       "2.0             0(3)0(3)0(3)0(3)0(3)          NaN             4.0   14.0   \n",
       "3.0             0(3)0(3)0(3)0(3)0(3)          NaN             5.0   17.0   \n",
       "4.0             0(3)0(3)0(3)0(3)0(3)          NaN             5.0   17.0   \n",
       "5.0             0(3)0(3)0(3)0(3)0(3)          NaN             5.0   17.0   \n",
       "...                              ...          ...             ...    ...   \n",
       "1176.0          3(3)3(3)3(3)3(3)2(3)          NaN            51.0   98.0   \n",
       "1177.0          3(3)3(3)3(3)3(3)2(3)          NaN            51.0   98.0   \n",
       "1178.0          3(3)3(3)3(3)2(3)3(3)          NaN            51.0   98.0   \n",
       "1179.0          3(3)3(3)3(3)3(3)3(3)          NaN            52.0  100.0   \n",
       "1180.0          3(3)3(3)3(3)3(3)3(3)          NaN            52.0  100.0   \n",
       "\n",
       "        Минимальный балл  \n",
       "№                         \n",
       "1.0                 36.0  \n",
       "2.0                 36.0  \n",
       "3.0                 36.0  \n",
       "4.0                 36.0  \n",
       "5.0                 36.0  \n",
       "...                  ...  \n",
       "1176.0              36.0  \n",
       "1177.0              36.0  \n",
       "1178.0              36.0  \n",
       "1179.0              36.0  \n",
       "1180.0              36.0  \n",
       "\n",
       "[1180 rows x 10 columns]"
      ]
     },
     "execution_count": 2,
     "metadata": {},
     "output_type": "execute_result"
    }
   ],
   "source": [
    "# Загружаем вариант, заголовками берем третью строку, первый столбец берем как индексы\n",
    "table = pd.read_excel(\"Вариант 3.xlsx\", header=2, index_col=0)\n",
    "# Удаляем строку содержащую итоговые данные\n",
    "table = table.drop(table.index[-1])\n",
    "table\n"
   ]
  },
  {
   "cell_type": "markdown",
   "metadata": {},
   "source": [
    "2. Сделайте описательную статистику полученных данных.\n"
   ]
  },
  {
   "cell_type": "code",
   "execution_count": 3,
   "metadata": {},
   "outputs": [
    {
     "data": {
      "text/html": [
       "<div>\n",
       "<style scoped>\n",
       "    .dataframe tbody tr th:only-of-type {\n",
       "        vertical-align: middle;\n",
       "    }\n",
       "\n",
       "    .dataframe tbody tr th {\n",
       "        vertical-align: top;\n",
       "    }\n",
       "\n",
       "    .dataframe thead th {\n",
       "        text-align: right;\n",
       "    }\n",
       "</style>\n",
       "<table border=\"1\" class=\"dataframe\">\n",
       "  <thead>\n",
       "    <tr style=\"text-align: right;\">\n",
       "      <th></th>\n",
       "      <th>№ школы</th>\n",
       "      <th>Номер варианта</th>\n",
       "      <th>Первичный балл</th>\n",
       "      <th>Балл</th>\n",
       "      <th>Минимальный балл</th>\n",
       "    </tr>\n",
       "  </thead>\n",
       "  <tbody>\n",
       "    <tr>\n",
       "      <th>count</th>\n",
       "      <td>1180.000000</td>\n",
       "      <td>1180.000000</td>\n",
       "      <td>1180.000000</td>\n",
       "      <td>1180.000000</td>\n",
       "      <td>1180.0</td>\n",
       "    </tr>\n",
       "    <tr>\n",
       "      <th>mean</th>\n",
       "      <td>141.312712</td>\n",
       "      <td>329.559322</td>\n",
       "      <td>23.699153</td>\n",
       "      <td>52.047458</td>\n",
       "      <td>36.0</td>\n",
       "    </tr>\n",
       "    <tr>\n",
       "      <th>std</th>\n",
       "      <td>30.796792</td>\n",
       "      <td>39.578149</td>\n",
       "      <td>10.480897</td>\n",
       "      <td>14.965477</td>\n",
       "      <td>0.0</td>\n",
       "    </tr>\n",
       "    <tr>\n",
       "      <th>min</th>\n",
       "      <td>111.000000</td>\n",
       "      <td>101.000000</td>\n",
       "      <td>3.000000</td>\n",
       "      <td>10.000000</td>\n",
       "      <td>36.0</td>\n",
       "    </tr>\n",
       "    <tr>\n",
       "      <th>25%</th>\n",
       "      <td>133.000000</td>\n",
       "      <td>329.000000</td>\n",
       "      <td>15.000000</td>\n",
       "      <td>41.000000</td>\n",
       "      <td>36.0</td>\n",
       "    </tr>\n",
       "    <tr>\n",
       "      <th>50%</th>\n",
       "      <td>146.000000</td>\n",
       "      <td>330.000000</td>\n",
       "      <td>22.000000</td>\n",
       "      <td>49.000000</td>\n",
       "      <td>36.0</td>\n",
       "    </tr>\n",
       "    <tr>\n",
       "      <th>75%</th>\n",
       "      <td>152.000000</td>\n",
       "      <td>332.000000</td>\n",
       "      <td>31.250000</td>\n",
       "      <td>60.250000</td>\n",
       "      <td>36.0</td>\n",
       "    </tr>\n",
       "    <tr>\n",
       "      <th>max</th>\n",
       "      <td>1106.000000</td>\n",
       "      <td>506.000000</td>\n",
       "      <td>52.000000</td>\n",
       "      <td>100.000000</td>\n",
       "      <td>36.0</td>\n",
       "    </tr>\n",
       "  </tbody>\n",
       "</table>\n",
       "</div>"
      ],
      "text/plain": [
       "           № школы  Номер варианта  Первичный балл         Балл  \\\n",
       "count  1180.000000     1180.000000     1180.000000  1180.000000   \n",
       "mean    141.312712      329.559322       23.699153    52.047458   \n",
       "std      30.796792       39.578149       10.480897    14.965477   \n",
       "min     111.000000      101.000000        3.000000    10.000000   \n",
       "25%     133.000000      329.000000       15.000000    41.000000   \n",
       "50%     146.000000      330.000000       22.000000    49.000000   \n",
       "75%     152.000000      332.000000       31.250000    60.250000   \n",
       "max    1106.000000      506.000000       52.000000   100.000000   \n",
       "\n",
       "       Минимальный балл  \n",
       "count            1180.0  \n",
       "mean               36.0  \n",
       "std                 0.0  \n",
       "min                36.0  \n",
       "25%                36.0  \n",
       "50%                36.0  \n",
       "75%                36.0  \n",
       "max                36.0  "
      ]
     },
     "execution_count": 3,
     "metadata": {},
     "output_type": "execute_result"
    }
   ],
   "source": [
    "table.describe()\n"
   ]
  },
  {
   "cell_type": "markdown",
   "metadata": {},
   "source": [
    "3. Найдите процент учащихся, выполнивших работу ниже среднего.\n"
   ]
  },
  {
   "cell_type": "code",
   "execution_count": 4,
   "metadata": {},
   "outputs": [
    {
     "data": {
      "text/plain": [
       "'56.271%'"
      ]
     },
     "execution_count": 4,
     "metadata": {},
     "output_type": "execute_result"
    }
   ],
   "source": [
    "# Для каждой строки указываем меньше ли балл чем средний, считаем количество True через сумму\n",
    "le = (table[\"Балл\"] < table[\"Балл\"].mean()).sum()\n",
    "\n",
    "# Переводим в проценты\n",
    "f\"{le / len(table):.3%}\""
   ]
  },
  {
   "cell_type": "markdown",
   "metadata": {},
   "source": [
    "4. Найти процент учащихся не сдавших экзамен.\n"
   ]
  },
  {
   "cell_type": "code",
   "execution_count": 5,
   "metadata": {},
   "outputs": [
    {
     "data": {
      "text/plain": [
       "'7.712%'"
      ]
     },
     "execution_count": 5,
     "metadata": {},
     "output_type": "execute_result"
    }
   ],
   "source": [
    "# Находим стрки где балл меньше минимального\n",
    "lose = (table[\"Балл\"] < table[\"Минимальный балл\"]).sum()\n",
    "\n",
    "f\"{lose / len(table):.3%}\""
   ]
  },
  {
   "cell_type": "markdown",
   "metadata": {},
   "source": [
    "5. Постройте круговую диаграмму, показывающую распределение сдавших и не сдавших экзамен.\n"
   ]
  },
  {
   "cell_type": "code",
   "execution_count": 6,
   "metadata": {},
   "outputs": [
    {
     "data": {
      "image/png": "[encoded data removed]",
      "text/plain": [
       "<Figure size 640x480 with 1 Axes>"
      ]
     },
     "metadata": {},
     "output_type": "display_data"
    }
   ],
   "source": [
    "# Считаем количество не сдавших\n",
    "failed = (table[\"Балл\"] < table[\"Минимальный балл\"]).sum()\n",
    "# Считаем количество сдавших\n",
    "passed = len(table) - failed\n",
    "plt.pie(\n",
    "    [passed, failed],\n",
    "    labels=[\"Сдали\", \"Не сдали\"],\n",
    "    colors=[\"g\", \"r\"],\n",
    ")\n",
    "None"
   ]
  },
  {
   "cell_type": "markdown",
   "metadata": {},
   "source": [
    "6. Постройте ядерную оценку плотности распределению баллов за экзамен.\n"
   ]
  },
  {
   "cell_type": "code",
   "execution_count": 7,
   "metadata": {},
   "outputs": [
    {
     "data": {
      "text/plain": [
       "<Axes: ylabel='Density'>"
      ]
     },
     "execution_count": 7,
     "metadata": {},
     "output_type": "execute_result"
    },
    {
     "data": {
      "image/png": "[encoded data removed]",
      "text/plain": [
       "<Figure size 640x480 with 1 Axes>"
      ]
     },
     "metadata": {},
     "output_type": "display_data"
    }
   ],
   "source": [
    "table[\"Балл\"].plot.kde()"
   ]
  },
  {
   "cell_type": "markdown",
   "metadata": {},
   "source": [
    "7. Найдите процентное соотношение учащихся, сдавших экзамен на «отлично», «хорошо», «удовлетворительно», «неудовлетворительно».\n"
   ]
  },
  {
   "cell_type": "code",
   "execution_count": 8,
   "metadata": {},
   "outputs": [
    {
     "name": "stdout",
     "output_type": "stream",
     "text": [
      "Отлично: 9.153%\n",
      "Хорошо: 40.424%\n",
      "Удовлетворительно: 48.390%\n",
      "Неудовлетворительно: 2.034%\n",
      "\n"
     ]
    }
   ],
   "source": [
    "great = (table[\"Балл\"] > 75).sum()\n",
    "well = (table[\"Балл\"] > 50).sum() - great\n",
    "sat = (table[\"Балл\"] > 25).sum() - great - well\n",
    "unsat = len(table) - great - well - sat\n",
    "good = np.array([great, well, sat, unsat]) / len(table)\n",
    "print(\n",
    "    \"Отлично: {:.3%}\\nХорошо: {:.3%}\\nУдовлетворительно: {:.3%}\\nНеудовлетворительно: {:.3%}\\n\".format(\n",
    "        *good\n",
    "    )\n",
    ")"
   ]
  },
  {
   "cell_type": "markdown",
   "metadata": {},
   "source": [
    "8. Какое процентное соотношение юношей и девушек писало данный экзамен?\n"
   ]
  },
  {
   "cell_type": "code",
   "execution_count": 9,
   "metadata": {},
   "outputs": [
    {
     "name": "stdout",
     "output_type": "stream",
     "text": [
      "Юноши: 68.644%\n",
      "Девушки: 31.356%\n"
     ]
    }
   ],
   "source": [
    "male = (table[\"Пол\"] == \"М\").sum()\n",
    "female = (table[\"Пол\"] == \"Ж\").sum()\n",
    "print(f\"Юноши: {male/len(table):.3%}\\nДевушки: {female/len(table):.3%}\")"
   ]
  },
  {
   "cell_type": "markdown",
   "metadata": {},
   "source": [
    "9. Сколько школ принимало участие в экзамене?\n"
   ]
  },
  {
   "cell_type": "code",
   "execution_count": 10,
   "metadata": {},
   "outputs": [
    {
     "data": {
      "text/plain": [
       "19"
      ]
     },
     "execution_count": 10,
     "metadata": {},
     "output_type": "execute_result"
    }
   ],
   "source": [
    "# Берем уникальные значения из столбца с номрами школ и считаем их кол-во\n",
    "len(table[\"№ школы\"].unique())"
   ]
  },
  {
   "cell_type": "markdown",
   "metadata": {},
   "source": [
    "10. Сколько всего заданий с кратким ответом? С развернутым ответом?\n"
   ]
  },
  {
   "cell_type": "code",
   "execution_count": 11,
   "metadata": {},
   "outputs": [
    {
     "name": "stdout",
     "output_type": "stream",
     "text": [
      "Задания с длинным ответом 5\n",
      "Задания с коротким ответом 27\n"
     ]
    }
   ],
   "source": [
    "# short_ans_count = len(table['Задания с кратким ответом'].iloc[0])\n",
    "long_ans = len(table['Задания с развёрнутым ответом'].iloc[0])//4\n",
    "short_ans = len(table['Задания с кратким ответом'].iloc[0])\n",
    "print(f\"Задания с длинным ответом {long_ans}\\nЗадания с коротким ответом {short_ans}\")"
   ]
  },
  {
   "cell_type": "markdown",
   "metadata": {},
   "source": [
    "11. Пусть задания с кратким ответом будут задания типа В. Соответственно всего по экзамену вопросов класса В: $В_1$, ... $В_к$ Посчитайте процент выполненных и невыполненных заданий по каждому вопросу класса В.\n"
   ]
  },
  {
   "cell_type": "code",
   "execution_count": 12,
   "metadata": {},
   "outputs": [
    {
     "data": {
      "text/html": [
       "<div>\n",
       "<style scoped>\n",
       "    .dataframe tbody tr th:only-of-type {\n",
       "        vertical-align: middle;\n",
       "    }\n",
       "\n",
       "    .dataframe tbody tr th {\n",
       "        vertical-align: top;\n",
       "    }\n",
       "\n",
       "    .dataframe thead th {\n",
       "        text-align: right;\n",
       "    }\n",
       "</style>\n",
       "<table border=\"1\" class=\"dataframe\">\n",
       "  <thead>\n",
       "    <tr style=\"text-align: right;\">\n",
       "      <th></th>\n",
       "      <th>0</th>\n",
       "      <th>1</th>\n",
       "      <th>2</th>\n",
       "      <th>3</th>\n",
       "      <th>4</th>\n",
       "      <th>5</th>\n",
       "      <th>6</th>\n",
       "      <th>7</th>\n",
       "      <th>8</th>\n",
       "      <th>9</th>\n",
       "      <th>...</th>\n",
       "      <th>17</th>\n",
       "      <th>18</th>\n",
       "      <th>19</th>\n",
       "      <th>20</th>\n",
       "      <th>21</th>\n",
       "      <th>22</th>\n",
       "      <th>23</th>\n",
       "      <th>24</th>\n",
       "      <th>25</th>\n",
       "      <th>26</th>\n",
       "    </tr>\n",
       "  </thead>\n",
       "  <tbody>\n",
       "    <tr>\n",
       "      <th>0</th>\n",
       "      <td>-</td>\n",
       "      <td>-</td>\n",
       "      <td>-</td>\n",
       "      <td>-</td>\n",
       "      <td>0</td>\n",
       "      <td>0</td>\n",
       "      <td>1</td>\n",
       "      <td>-</td>\n",
       "      <td>-</td>\n",
       "      <td>-</td>\n",
       "      <td>...</td>\n",
       "      <td>0</td>\n",
       "      <td>-</td>\n",
       "      <td>-</td>\n",
       "      <td>1</td>\n",
       "      <td>-</td>\n",
       "      <td>+</td>\n",
       "      <td>0</td>\n",
       "      <td>-</td>\n",
       "      <td>-</td>\n",
       "      <td>-</td>\n",
       "    </tr>\n",
       "    <tr>\n",
       "      <th>1</th>\n",
       "      <td>-</td>\n",
       "      <td>-</td>\n",
       "      <td>-</td>\n",
       "      <td>-</td>\n",
       "      <td>1</td>\n",
       "      <td>0</td>\n",
       "      <td>0</td>\n",
       "      <td>-</td>\n",
       "      <td>-</td>\n",
       "      <td>-</td>\n",
       "      <td>...</td>\n",
       "      <td>0</td>\n",
       "      <td>-</td>\n",
       "      <td>-</td>\n",
       "      <td>0</td>\n",
       "      <td>-</td>\n",
       "      <td>-</td>\n",
       "      <td>1</td>\n",
       "      <td>-</td>\n",
       "      <td>-</td>\n",
       "      <td>-</td>\n",
       "    </tr>\n",
       "    <tr>\n",
       "      <th>2</th>\n",
       "      <td>-</td>\n",
       "      <td>-</td>\n",
       "      <td>+</td>\n",
       "      <td>-</td>\n",
       "      <td>0</td>\n",
       "      <td>1</td>\n",
       "      <td>0</td>\n",
       "      <td>-</td>\n",
       "      <td>-</td>\n",
       "      <td>-</td>\n",
       "      <td>...</td>\n",
       "      <td>1</td>\n",
       "      <td>-</td>\n",
       "      <td>-</td>\n",
       "      <td>0</td>\n",
       "      <td>-</td>\n",
       "      <td>-</td>\n",
       "      <td>1</td>\n",
       "      <td>-</td>\n",
       "      <td>-</td>\n",
       "      <td>-</td>\n",
       "    </tr>\n",
       "    <tr>\n",
       "      <th>3</th>\n",
       "      <td>-</td>\n",
       "      <td>+</td>\n",
       "      <td>-</td>\n",
       "      <td>-</td>\n",
       "      <td>0</td>\n",
       "      <td>0</td>\n",
       "      <td>0</td>\n",
       "      <td>-</td>\n",
       "      <td>-</td>\n",
       "      <td>+</td>\n",
       "      <td>...</td>\n",
       "      <td>0</td>\n",
       "      <td>-</td>\n",
       "      <td>-</td>\n",
       "      <td>0</td>\n",
       "      <td>-</td>\n",
       "      <td>-</td>\n",
       "      <td>1</td>\n",
       "      <td>-</td>\n",
       "      <td>-</td>\n",
       "      <td>-</td>\n",
       "    </tr>\n",
       "    <tr>\n",
       "      <th>4</th>\n",
       "      <td>-</td>\n",
       "      <td>+</td>\n",
       "      <td>-</td>\n",
       "      <td>-</td>\n",
       "      <td>1</td>\n",
       "      <td>0</td>\n",
       "      <td>0</td>\n",
       "      <td>-</td>\n",
       "      <td>-</td>\n",
       "      <td>-</td>\n",
       "      <td>...</td>\n",
       "      <td>0</td>\n",
       "      <td>-</td>\n",
       "      <td>+</td>\n",
       "      <td>0</td>\n",
       "      <td>-</td>\n",
       "      <td>-</td>\n",
       "      <td>1</td>\n",
       "      <td>-</td>\n",
       "      <td>-</td>\n",
       "      <td>-</td>\n",
       "    </tr>\n",
       "    <tr>\n",
       "      <th>...</th>\n",
       "      <td>...</td>\n",
       "      <td>...</td>\n",
       "      <td>...</td>\n",
       "      <td>...</td>\n",
       "      <td>...</td>\n",
       "      <td>...</td>\n",
       "      <td>...</td>\n",
       "      <td>...</td>\n",
       "      <td>...</td>\n",
       "      <td>...</td>\n",
       "      <td>...</td>\n",
       "      <td>...</td>\n",
       "      <td>...</td>\n",
       "      <td>...</td>\n",
       "      <td>...</td>\n",
       "      <td>...</td>\n",
       "      <td>...</td>\n",
       "      <td>...</td>\n",
       "      <td>...</td>\n",
       "      <td>...</td>\n",
       "      <td>...</td>\n",
       "    </tr>\n",
       "    <tr>\n",
       "      <th>1175</th>\n",
       "      <td>+</td>\n",
       "      <td>+</td>\n",
       "      <td>+</td>\n",
       "      <td>+</td>\n",
       "      <td>2</td>\n",
       "      <td>2</td>\n",
       "      <td>2</td>\n",
       "      <td>+</td>\n",
       "      <td>+</td>\n",
       "      <td>+</td>\n",
       "      <td>...</td>\n",
       "      <td>2</td>\n",
       "      <td>+</td>\n",
       "      <td>+</td>\n",
       "      <td>2</td>\n",
       "      <td>+</td>\n",
       "      <td>+</td>\n",
       "      <td>2</td>\n",
       "      <td>+</td>\n",
       "      <td>+</td>\n",
       "      <td>+</td>\n",
       "    </tr>\n",
       "    <tr>\n",
       "      <th>1176</th>\n",
       "      <td>+</td>\n",
       "      <td>+</td>\n",
       "      <td>+</td>\n",
       "      <td>+</td>\n",
       "      <td>2</td>\n",
       "      <td>2</td>\n",
       "      <td>2</td>\n",
       "      <td>+</td>\n",
       "      <td>+</td>\n",
       "      <td>+</td>\n",
       "      <td>...</td>\n",
       "      <td>2</td>\n",
       "      <td>+</td>\n",
       "      <td>+</td>\n",
       "      <td>2</td>\n",
       "      <td>+</td>\n",
       "      <td>+</td>\n",
       "      <td>2</td>\n",
       "      <td>+</td>\n",
       "      <td>+</td>\n",
       "      <td>+</td>\n",
       "    </tr>\n",
       "    <tr>\n",
       "      <th>1177</th>\n",
       "      <td>+</td>\n",
       "      <td>+</td>\n",
       "      <td>+</td>\n",
       "      <td>+</td>\n",
       "      <td>2</td>\n",
       "      <td>2</td>\n",
       "      <td>2</td>\n",
       "      <td>+</td>\n",
       "      <td>+</td>\n",
       "      <td>+</td>\n",
       "      <td>...</td>\n",
       "      <td>2</td>\n",
       "      <td>+</td>\n",
       "      <td>+</td>\n",
       "      <td>2</td>\n",
       "      <td>+</td>\n",
       "      <td>+</td>\n",
       "      <td>2</td>\n",
       "      <td>+</td>\n",
       "      <td>+</td>\n",
       "      <td>+</td>\n",
       "    </tr>\n",
       "    <tr>\n",
       "      <th>1178</th>\n",
       "      <td>+</td>\n",
       "      <td>+</td>\n",
       "      <td>+</td>\n",
       "      <td>+</td>\n",
       "      <td>2</td>\n",
       "      <td>2</td>\n",
       "      <td>2</td>\n",
       "      <td>+</td>\n",
       "      <td>+</td>\n",
       "      <td>+</td>\n",
       "      <td>...</td>\n",
       "      <td>2</td>\n",
       "      <td>+</td>\n",
       "      <td>+</td>\n",
       "      <td>2</td>\n",
       "      <td>+</td>\n",
       "      <td>+</td>\n",
       "      <td>2</td>\n",
       "      <td>+</td>\n",
       "      <td>+</td>\n",
       "      <td>+</td>\n",
       "    </tr>\n",
       "    <tr>\n",
       "      <th>1179</th>\n",
       "      <td>+</td>\n",
       "      <td>+</td>\n",
       "      <td>+</td>\n",
       "      <td>+</td>\n",
       "      <td>2</td>\n",
       "      <td>2</td>\n",
       "      <td>2</td>\n",
       "      <td>+</td>\n",
       "      <td>+</td>\n",
       "      <td>+</td>\n",
       "      <td>...</td>\n",
       "      <td>2</td>\n",
       "      <td>+</td>\n",
       "      <td>+</td>\n",
       "      <td>2</td>\n",
       "      <td>+</td>\n",
       "      <td>+</td>\n",
       "      <td>2</td>\n",
       "      <td>+</td>\n",
       "      <td>+</td>\n",
       "      <td>+</td>\n",
       "    </tr>\n",
       "  </tbody>\n",
       "</table>\n",
       "<p>1180 rows × 27 columns</p>\n",
       "</div>"
      ],
      "text/plain": [
       "     0  1  2  3  4  5  6  7  8  9   ... 17 18 19 20 21 22 23 24 25 26\n",
       "0     -  -  -  -  0  0  1  -  -  -  ...  0  -  -  1  -  +  0  -  -  -\n",
       "1     -  -  -  -  1  0  0  -  -  -  ...  0  -  -  0  -  -  1  -  -  -\n",
       "2     -  -  +  -  0  1  0  -  -  -  ...  1  -  -  0  -  -  1  -  -  -\n",
       "3     -  +  -  -  0  0  0  -  -  +  ...  0  -  -  0  -  -  1  -  -  -\n",
       "4     -  +  -  -  1  0  0  -  -  -  ...  0  -  +  0  -  -  1  -  -  -\n",
       "...  .. .. .. .. .. .. .. .. .. ..  ... .. .. .. .. .. .. .. .. .. ..\n",
       "1175  +  +  +  +  2  2  2  +  +  +  ...  2  +  +  2  +  +  2  +  +  +\n",
       "1176  +  +  +  +  2  2  2  +  +  +  ...  2  +  +  2  +  +  2  +  +  +\n",
       "1177  +  +  +  +  2  2  2  +  +  +  ...  2  +  +  2  +  +  2  +  +  +\n",
       "1178  +  +  +  +  2  2  2  +  +  +  ...  2  +  +  2  +  +  2  +  +  +\n",
       "1179  +  +  +  +  2  2  2  +  +  +  ...  2  +  +  2  +  +  2  +  +  +\n",
       "\n",
       "[1180 rows x 27 columns]"
      ]
     },
     "execution_count": 12,
     "metadata": {},
     "output_type": "execute_result"
    }
   ],
   "source": [
    "typeB = pd.DataFrame([*table['Задания с кратким ответом'].map(list).values])\n",
    "typeB"
   ]
  },
  {
   "cell_type": "code",
   "execution_count": 13,
   "metadata": {},
   "outputs": [
    {
     "data": {
      "text/plain": [
       "0     85.339%\n",
       "1     86.864%\n",
       "2     62.203%\n",
       "3     44.492%\n",
       "4     44.407%\n",
       "5     36.780%\n",
       "6     27.712%\n",
       "7     65.593%\n",
       "8     73.983%\n",
       "9     35.000%\n",
       "10    45.169%\n",
       "11    31.780%\n",
       "12    56.610%\n",
       "13    51.017%\n",
       "14    42.542%\n",
       "15    63.729%\n",
       "16    36.271%\n",
       "17    42.034%\n",
       "18    81.949%\n",
       "19    75.085%\n",
       "20    32.119%\n",
       "21    50.763%\n",
       "22    62.034%\n",
       "23    39.831%\n",
       "24    29.915%\n",
       "25    36.949%\n",
       "26    29.746%\n",
       "dtype: object"
      ]
     },
     "execution_count": 13,
     "metadata": {},
     "output_type": "execute_result"
    }
   ],
   "source": [
    "# Считаем процент выполненых (+ или 1)\n",
    "(((typeB == \"+\") | (typeB == '1')).sum()/len(typeB)).map(lambda x: f\"{x:.3%}\")"
   ]
  },
  {
   "cell_type": "markdown",
   "metadata": {},
   "source": [
    "12. Аналогично и с типом С (ответы с развернутым ответом)\n"
   ]
  },
  {
   "cell_type": "code",
   "execution_count": 14,
   "metadata": {},
   "outputs": [
    {
     "data": {
      "text/html": [
       "<div>\n",
       "<style scoped>\n",
       "    .dataframe tbody tr th:only-of-type {\n",
       "        vertical-align: middle;\n",
       "    }\n",
       "\n",
       "    .dataframe tbody tr th {\n",
       "        vertical-align: top;\n",
       "    }\n",
       "\n",
       "    .dataframe thead th {\n",
       "        text-align: right;\n",
       "    }\n",
       "</style>\n",
       "<table border=\"1\" class=\"dataframe\">\n",
       "  <thead>\n",
       "    <tr style=\"text-align: right;\">\n",
       "      <th></th>\n",
       "      <th>0</th>\n",
       "      <th>1</th>\n",
       "      <th>2</th>\n",
       "      <th>3</th>\n",
       "      <th>4</th>\n",
       "    </tr>\n",
       "  </thead>\n",
       "  <tbody>\n",
       "    <tr>\n",
       "      <th>0</th>\n",
       "      <td>0.0</td>\n",
       "      <td>0.0</td>\n",
       "      <td>0.0</td>\n",
       "      <td>0.000000</td>\n",
       "      <td>0.000000</td>\n",
       "    </tr>\n",
       "    <tr>\n",
       "      <th>1</th>\n",
       "      <td>0.0</td>\n",
       "      <td>0.0</td>\n",
       "      <td>0.0</td>\n",
       "      <td>0.000000</td>\n",
       "      <td>0.000000</td>\n",
       "    </tr>\n",
       "    <tr>\n",
       "      <th>2</th>\n",
       "      <td>0.0</td>\n",
       "      <td>0.0</td>\n",
       "      <td>0.0</td>\n",
       "      <td>0.000000</td>\n",
       "      <td>0.000000</td>\n",
       "    </tr>\n",
       "    <tr>\n",
       "      <th>3</th>\n",
       "      <td>0.0</td>\n",
       "      <td>0.0</td>\n",
       "      <td>0.0</td>\n",
       "      <td>0.000000</td>\n",
       "      <td>0.000000</td>\n",
       "    </tr>\n",
       "    <tr>\n",
       "      <th>4</th>\n",
       "      <td>0.0</td>\n",
       "      <td>0.0</td>\n",
       "      <td>0.0</td>\n",
       "      <td>0.000000</td>\n",
       "      <td>0.000000</td>\n",
       "    </tr>\n",
       "    <tr>\n",
       "      <th>...</th>\n",
       "      <td>...</td>\n",
       "      <td>...</td>\n",
       "      <td>...</td>\n",
       "      <td>...</td>\n",
       "      <td>...</td>\n",
       "    </tr>\n",
       "    <tr>\n",
       "      <th>1175</th>\n",
       "      <td>1.0</td>\n",
       "      <td>1.0</td>\n",
       "      <td>1.0</td>\n",
       "      <td>1.000000</td>\n",
       "      <td>0.666667</td>\n",
       "    </tr>\n",
       "    <tr>\n",
       "      <th>1176</th>\n",
       "      <td>1.0</td>\n",
       "      <td>1.0</td>\n",
       "      <td>1.0</td>\n",
       "      <td>1.000000</td>\n",
       "      <td>0.666667</td>\n",
       "    </tr>\n",
       "    <tr>\n",
       "      <th>1177</th>\n",
       "      <td>1.0</td>\n",
       "      <td>1.0</td>\n",
       "      <td>1.0</td>\n",
       "      <td>0.666667</td>\n",
       "      <td>1.000000</td>\n",
       "    </tr>\n",
       "    <tr>\n",
       "      <th>1178</th>\n",
       "      <td>1.0</td>\n",
       "      <td>1.0</td>\n",
       "      <td>1.0</td>\n",
       "      <td>1.000000</td>\n",
       "      <td>1.000000</td>\n",
       "    </tr>\n",
       "    <tr>\n",
       "      <th>1179</th>\n",
       "      <td>1.0</td>\n",
       "      <td>1.0</td>\n",
       "      <td>1.0</td>\n",
       "      <td>1.000000</td>\n",
       "      <td>1.000000</td>\n",
       "    </tr>\n",
       "  </tbody>\n",
       "</table>\n",
       "<p>1180 rows × 5 columns</p>\n",
       "</div>"
      ],
      "text/plain": [
       "        0    1    2         3         4\n",
       "0     0.0  0.0  0.0  0.000000  0.000000\n",
       "1     0.0  0.0  0.0  0.000000  0.000000\n",
       "2     0.0  0.0  0.0  0.000000  0.000000\n",
       "3     0.0  0.0  0.0  0.000000  0.000000\n",
       "4     0.0  0.0  0.0  0.000000  0.000000\n",
       "...   ...  ...  ...       ...       ...\n",
       "1175  1.0  1.0  1.0  1.000000  0.666667\n",
       "1176  1.0  1.0  1.0  1.000000  0.666667\n",
       "1177  1.0  1.0  1.0  0.666667  1.000000\n",
       "1178  1.0  1.0  1.0  1.000000  1.000000\n",
       "1179  1.0  1.0  1.0  1.000000  1.000000\n",
       "\n",
       "[1180 rows x 5 columns]"
      ]
     },
     "execution_count": 14,
     "metadata": {},
     "output_type": "execute_result"
    }
   ],
   "source": [
    "# Берем все задания с развернутым ответом, и приводим к новому датафрейму\n",
    "# Новый датасет содержит данные на сколько выполнено задание\n",
    "\n",
    "def parse_C(value):\n",
    "    a = np.array(list(map(int, value[::4])))\n",
    "    t = np.array(list(map(int, value[2::4])))\n",
    "    return a / t\n",
    "typeC = pd.DataFrame([*table['Задания с развёрнутым ответом'].map(parse_C).values])\n",
    "typeC"
   ]
  },
  {
   "cell_type": "code",
   "execution_count": 15,
   "metadata": {},
   "outputs": [
    {
     "data": {
      "text/plain": [
       "0     2.119%\n",
       "1    13.983%\n",
       "2     6.525%\n",
       "3     1.017%\n",
       "4     9.661%\n",
       "dtype: object"
      ]
     },
     "execution_count": 15,
     "metadata": {},
     "output_type": "execute_result"
    }
   ],
   "source": [
    "# Вычисляем процентное соотношение и выводим в соответствующем виде\n",
    "((typeC == 1).sum()/len(typeC)).map(lambda x: f\"{x:.3%}\")"
   ]
  },
  {
   "cell_type": "markdown",
   "metadata": {},
   "source": [
    "13. Сделайте анализ по двум школам:\n",
    "    1. по всем выполненным заданиям типа В\n",
    "    2. по заданиям типа С больше 50%\n",
    "    3. по среднему баллу юношей и девушек\n"
   ]
  },
  {
   "cell_type": "code",
   "execution_count": 16,
   "metadata": {},
   "outputs": [],
   "source": [
    "school1 = table[table['№ школы'] == table['№ школы'].unique()[0]]\n",
    "school2 = table[table['№ школы'] == table['№ школы'].unique()[1]]"
   ]
  },
  {
   "cell_type": "code",
   "execution_count": 17,
   "metadata": {},
   "outputs": [],
   "source": [
    "def mean_score(df):\n",
    "    # Средний балл юношей и девушек\n",
    "    male = df[df['Пол'] == 'М']['Балл'].mean()\n",
    "    female = df[df['Пол'] == 'Ж']['Балл'].mean()\n",
    "    return male, female"
   ]
  },
  {
   "cell_type": "markdown",
   "metadata": {},
   "source": [
    "## Школа 1"
   ]
  },
  {
   "cell_type": "code",
   "execution_count": 18,
   "metadata": {},
   "outputs": [
    {
     "data": {
      "image/png": "[encoded data removed]",
      "text/plain": [
       "<Figure size 640x480 with 6 Axes>"
      ]
     },
     "metadata": {},
     "output_type": "display_data"
    }
   ],
   "source": [
    "# Смотрим для школы гистограмму решенных C\n",
    "typeC[(table['№ школы'] == table['№ школы'].unique()[0]).values].hist(grid=False)\n",
    "plt.tight_layout()"
   ]
  },
  {
   "cell_type": "code",
   "execution_count": 19,
   "metadata": {},
   "outputs": [
    {
     "data": {
      "text/plain": [
       "<Axes: >"
      ]
     },
     "execution_count": 19,
     "metadata": {},
     "output_type": "execute_result"
    },
    {
     "data": {
      "image/png": "[encoded data removed]",
      "text/plain": [
       "<Figure size 640x480 with 1 Axes>"
      ]
     },
     "metadata": {},
     "output_type": "display_data"
    }
   ],
   "source": [
    "# Количество выполненых заданий B\n",
    "data = typeB[(table['№ школы'] == table['№ школы'].unique()[0]).values]\n",
    "((data == '+') | (data == '1')).sum().plot.bar()"
   ]
  },
  {
   "cell_type": "code",
   "execution_count": 20,
   "metadata": {},
   "outputs": [
    {
     "name": "stdout",
     "output_type": "stream",
     "text": [
      "Средний балл\n",
      "Юношей: 53.899\n",
      "Девушек: 58.118\n"
     ]
    }
   ],
   "source": [
    "# Средний балл среди юношей и девушек\n",
    "print(\"Средний балл\\nЮношей: {:.3f}\\nДевушек: {:.3f}\".format(*mean_score(school1)))"
   ]
  },
  {
   "cell_type": "markdown",
   "metadata": {},
   "source": [
    "## Школа 1"
   ]
  },
  {
   "cell_type": "code",
   "execution_count": 21,
   "metadata": {},
   "outputs": [
    {
     "data": {
      "image/png": "[encoded data removed]",
      "text/plain": [
       "<Figure size 640x480 with 6 Axes>"
      ]
     },
     "metadata": {},
     "output_type": "display_data"
    }
   ],
   "source": [
    "# Смотрим для школы гистограмму решенных C\n",
    "typeC[(table['№ школы'] == table['№ школы'].unique()[1]).values].hist(grid=False)\n",
    "plt.tight_layout()"
   ]
  },
  {
   "cell_type": "code",
   "execution_count": 22,
   "metadata": {},
   "outputs": [
    {
     "data": {
      "text/plain": [
       "<Axes: >"
      ]
     },
     "execution_count": 22,
     "metadata": {},
     "output_type": "execute_result"
    },
    {
     "data": {
      "image/png": "[encoded data removed]",
      "text/plain": [
       "<Figure size 640x480 with 1 Axes>"
      ]
     },
     "metadata": {},
     "output_type": "display_data"
    }
   ],
   "source": [
    "# Количество выполненых заданий B\n",
    "data = typeB[(table['№ школы'] == table['№ школы'].unique()[1]).values]\n",
    "((data == '+') | (data == '1')).sum().plot.bar()"
   ]
  },
  {
   "cell_type": "code",
   "execution_count": 23,
   "metadata": {},
   "outputs": [
    {
     "name": "stdout",
     "output_type": "stream",
     "text": [
      "Средний балл\n",
      "Юношей: 50.648\n",
      "Девушек: 49.545\n"
     ]
    }
   ],
   "source": [
    "# Средний балл среди юношей и девушек\n",
    "print(\"Средний балл\\nЮношей: {:.3f}\\nДевушек: {:.3f}\".format(*mean_score(school2)))"
   ]
  }
 ],
 "metadata": {
  "kernelspec": {
   "display_name": "Python 3",
   "language": "python",
   "name": "python3"
  },
  "language_info": {
   "codemirror_mode": {
    "name": "ipython",
    "version": 3
   },
   "file_extension": ".py",
   "mimetype": "text/x-python",
   "name": "python",
   "nbconvert_exporter": "python",
   "pygments_lexer": "ipython3",
   "version": "3.11.0"
  },
  "orig_nbformat": 4
 },
 "nbformat": 4,
 "nbformat_minor": 2
}
