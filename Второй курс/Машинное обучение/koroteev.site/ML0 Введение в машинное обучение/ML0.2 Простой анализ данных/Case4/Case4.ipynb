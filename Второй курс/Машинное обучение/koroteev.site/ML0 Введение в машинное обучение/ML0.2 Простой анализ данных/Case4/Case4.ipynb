{
 "cells": [
  {
   "cell_type": "code",
   "execution_count": 1,
   "metadata": {},
   "outputs": [],
   "source": [
    "import pandas as pd\n",
    "from matplotlib import pyplot as plt\n",
    "import numpy as np"
   ]
  },
  {
   "cell_type": "markdown",
   "metadata": {},
   "source": [
    "1. Загрузите данные по вариантам в ноутбук.\n"
   ]
  },
  {
   "cell_type": "code",
   "execution_count": 2,
   "metadata": {},
   "outputs": [
    {
     "data": {
      "text/html": [
       "<div>\n",
       "<style scoped>\n",
       "    .dataframe tbody tr th:only-of-type {\n",
       "        vertical-align: middle;\n",
       "    }\n",
       "\n",
       "    .dataframe tbody tr th {\n",
       "        vertical-align: top;\n",
       "    }\n",
       "\n",
       "    .dataframe thead th {\n",
       "        text-align: right;\n",
       "    }\n",
       "</style>\n",
       "<table border=\"1\" class=\"dataframe\">\n",
       "  <thead>\n",
       "    <tr style=\"text-align: right;\">\n",
       "      <th></th>\n",
       "      <th>№ школы</th>\n",
       "      <th>Класс</th>\n",
       "      <th>Пол</th>\n",
       "      <th>Номер варианта</th>\n",
       "      <th>Задания с кратким ответом</th>\n",
       "      <th>Задания с развёрнутым ответом</th>\n",
       "      <th>Устная часть</th>\n",
       "      <th>Первичный балл</th>\n",
       "      <th>Балл</th>\n",
       "      <th>Минимальный балл</th>\n",
       "    </tr>\n",
       "    <tr>\n",
       "      <th>№</th>\n",
       "      <th></th>\n",
       "      <th></th>\n",
       "      <th></th>\n",
       "      <th></th>\n",
       "      <th></th>\n",
       "      <th></th>\n",
       "      <th></th>\n",
       "      <th></th>\n",
       "      <th></th>\n",
       "      <th></th>\n",
       "    </tr>\n",
       "  </thead>\n",
       "  <tbody>\n",
       "    <tr>\n",
       "      <th>1.0</th>\n",
       "      <td>148.0</td>\n",
       "      <td>13</td>\n",
       "      <td>М</td>\n",
       "      <td>505.0</td>\n",
       "      <td>-----------------------</td>\n",
       "      <td>0(3)0(2)0(3)0(4)</td>\n",
       "      <td>NaN</td>\n",
       "      <td>0.0</td>\n",
       "      <td>0.0</td>\n",
       "      <td>40.0</td>\n",
       "    </tr>\n",
       "    <tr>\n",
       "      <th>2.0</th>\n",
       "      <td>147.0</td>\n",
       "      <td>11</td>\n",
       "      <td>М</td>\n",
       "      <td>328.0</td>\n",
       "      <td>-----------------------</td>\n",
       "      <td>0(3)0(2)0(3)0(4)</td>\n",
       "      <td>NaN</td>\n",
       "      <td>0.0</td>\n",
       "      <td>0.0</td>\n",
       "      <td>40.0</td>\n",
       "    </tr>\n",
       "    <tr>\n",
       "      <th>3.0</th>\n",
       "      <td>111.0</td>\n",
       "      <td>11</td>\n",
       "      <td>М</td>\n",
       "      <td>330.0</td>\n",
       "      <td>---+---+-+-------------</td>\n",
       "      <td>0(3)0(2)0(3)0(4)</td>\n",
       "      <td>NaN</td>\n",
       "      <td>3.0</td>\n",
       "      <td>20.0</td>\n",
       "      <td>40.0</td>\n",
       "    </tr>\n",
       "    <tr>\n",
       "      <th>4.0</th>\n",
       "      <td>140.0</td>\n",
       "      <td>11</td>\n",
       "      <td>М</td>\n",
       "      <td>328.0</td>\n",
       "      <td>---+---------++--------</td>\n",
       "      <td>0(3)0(2)0(3)0(4)</td>\n",
       "      <td>NaN</td>\n",
       "      <td>3.0</td>\n",
       "      <td>20.0</td>\n",
       "      <td>40.0</td>\n",
       "    </tr>\n",
       "    <tr>\n",
       "      <th>5.0</th>\n",
       "      <td>148.0</td>\n",
       "      <td>11</td>\n",
       "      <td>М</td>\n",
       "      <td>328.0</td>\n",
       "      <td>----+---------+-----+--</td>\n",
       "      <td>0(3)0(2)0(3)0(4)</td>\n",
       "      <td>NaN</td>\n",
       "      <td>3.0</td>\n",
       "      <td>20.0</td>\n",
       "      <td>40.0</td>\n",
       "    </tr>\n",
       "    <tr>\n",
       "      <th>...</th>\n",
       "      <td>...</td>\n",
       "      <td>...</td>\n",
       "      <td>...</td>\n",
       "      <td>...</td>\n",
       "      <td>...</td>\n",
       "      <td>...</td>\n",
       "      <td>...</td>\n",
       "      <td>...</td>\n",
       "      <td>...</td>\n",
       "      <td>...</td>\n",
       "    </tr>\n",
       "    <tr>\n",
       "      <th>137.0</th>\n",
       "      <td>148.0</td>\n",
       "      <td>11</td>\n",
       "      <td>Ж</td>\n",
       "      <td>328.0</td>\n",
       "      <td>+++++++++++++++++++--++</td>\n",
       "      <td>3(3)2(2)3(3)4(4)</td>\n",
       "      <td>NaN</td>\n",
       "      <td>33.0</td>\n",
       "      <td>94.0</td>\n",
       "      <td>40.0</td>\n",
       "    </tr>\n",
       "    <tr>\n",
       "      <th>138.0</th>\n",
       "      <td>147.0</td>\n",
       "      <td>11</td>\n",
       "      <td>М</td>\n",
       "      <td>333.0</td>\n",
       "      <td>+++++++++++++++++++++++</td>\n",
       "      <td>3(3)2(2)2(3)4(4)</td>\n",
       "      <td>NaN</td>\n",
       "      <td>34.0</td>\n",
       "      <td>97.0</td>\n",
       "      <td>40.0</td>\n",
       "    </tr>\n",
       "    <tr>\n",
       "      <th>139.0</th>\n",
       "      <td>140.0</td>\n",
       "      <td>11</td>\n",
       "      <td>М</td>\n",
       "      <td>329.0</td>\n",
       "      <td>+++++++++++++++++++-+++</td>\n",
       "      <td>3(3)2(2)3(3)4(4)</td>\n",
       "      <td>NaN</td>\n",
       "      <td>34.0</td>\n",
       "      <td>97.0</td>\n",
       "      <td>40.0</td>\n",
       "    </tr>\n",
       "    <tr>\n",
       "      <th>140.0</th>\n",
       "      <td>148.0</td>\n",
       "      <td>11</td>\n",
       "      <td>Ж</td>\n",
       "      <td>332.0</td>\n",
       "      <td>-++++++++++++++++++++++</td>\n",
       "      <td>3(3)2(2)3(3)4(4)</td>\n",
       "      <td>NaN</td>\n",
       "      <td>34.0</td>\n",
       "      <td>97.0</td>\n",
       "      <td>40.0</td>\n",
       "    </tr>\n",
       "    <tr>\n",
       "      <th>141.0</th>\n",
       "      <td>148.0</td>\n",
       "      <td>11</td>\n",
       "      <td>М</td>\n",
       "      <td>329.0</td>\n",
       "      <td>+++++++++++++++++++++++</td>\n",
       "      <td>3(3)2(2)3(3)4(4)</td>\n",
       "      <td>NaN</td>\n",
       "      <td>35.0</td>\n",
       "      <td>100.0</td>\n",
       "      <td>40.0</td>\n",
       "    </tr>\n",
       "  </tbody>\n",
       "</table>\n",
       "<p>141 rows × 10 columns</p>\n",
       "</div>"
      ],
      "text/plain": [
       "       № школы Класс Пол  Номер варианта Задания с кратким ответом  \\\n",
       "№                                                                    \n",
       "1.0      148.0    13   М           505.0   -----------------------   \n",
       "2.0      147.0    11   М           328.0   -----------------------   \n",
       "3.0      111.0    11   М           330.0   ---+---+-+-------------   \n",
       "4.0      140.0    11   М           328.0   ---+---------++--------   \n",
       "5.0      148.0    11   М           328.0   ----+---------+-----+--   \n",
       "...        ...   ...  ..             ...                       ...   \n",
       "137.0    148.0    11   Ж           328.0   +++++++++++++++++++--++   \n",
       "138.0    147.0    11   М           333.0   +++++++++++++++++++++++   \n",
       "139.0    140.0    11   М           329.0   +++++++++++++++++++-+++   \n",
       "140.0    148.0    11   Ж           332.0   -++++++++++++++++++++++   \n",
       "141.0    148.0    11   М           329.0   +++++++++++++++++++++++   \n",
       "\n",
       "      Задания с развёрнутым ответом Устная часть  Первичный балл   Балл  \\\n",
       "№                                                                         \n",
       "1.0                0(3)0(2)0(3)0(4)          NaN             0.0    0.0   \n",
       "2.0                0(3)0(2)0(3)0(4)          NaN             0.0    0.0   \n",
       "3.0                0(3)0(2)0(3)0(4)          NaN             3.0   20.0   \n",
       "4.0                0(3)0(2)0(3)0(4)          NaN             3.0   20.0   \n",
       "5.0                0(3)0(2)0(3)0(4)          NaN             3.0   20.0   \n",
       "...                             ...          ...             ...    ...   \n",
       "137.0              3(3)2(2)3(3)4(4)          NaN            33.0   94.0   \n",
       "138.0              3(3)2(2)2(3)4(4)          NaN            34.0   97.0   \n",
       "139.0              3(3)2(2)3(3)4(4)          NaN            34.0   97.0   \n",
       "140.0              3(3)2(2)3(3)4(4)          NaN            34.0   97.0   \n",
       "141.0              3(3)2(2)3(3)4(4)          NaN            35.0  100.0   \n",
       "\n",
       "       Минимальный балл  \n",
       "№                        \n",
       "1.0                40.0  \n",
       "2.0                40.0  \n",
       "3.0                40.0  \n",
       "4.0                40.0  \n",
       "5.0                40.0  \n",
       "...                 ...  \n",
       "137.0              40.0  \n",
       "138.0              40.0  \n",
       "139.0              40.0  \n",
       "140.0              40.0  \n",
       "141.0              40.0  \n",
       "\n",
       "[141 rows x 10 columns]"
      ]
     },
     "execution_count": 2,
     "metadata": {},
     "output_type": "execute_result"
    }
   ],
   "source": [
    "# Загружаем вариант, заголовками берем третью строку, первый столбец берем как индексы\n",
    "table = pd.read_excel(\"Вариант 4.xlsx\", header=2, index_col=0)\n",
    "# Удаляем строку содержащую итоговые данные\n",
    "table = table.drop(table.index[-1])\n",
    "table\n"
   ]
  },
  {
   "cell_type": "markdown",
   "metadata": {},
   "source": [
    "2. Сделайте описательную статистику полученных данных.\n"
   ]
  },
  {
   "cell_type": "code",
   "execution_count": 3,
   "metadata": {},
   "outputs": [
    {
     "data": {
      "text/html": [
       "<div>\n",
       "<style scoped>\n",
       "    .dataframe tbody tr th:only-of-type {\n",
       "        vertical-align: middle;\n",
       "    }\n",
       "\n",
       "    .dataframe tbody tr th {\n",
       "        vertical-align: top;\n",
       "    }\n",
       "\n",
       "    .dataframe thead th {\n",
       "        text-align: right;\n",
       "    }\n",
       "</style>\n",
       "<table border=\"1\" class=\"dataframe\">\n",
       "  <thead>\n",
       "    <tr style=\"text-align: right;\">\n",
       "      <th></th>\n",
       "      <th>№ школы</th>\n",
       "      <th>Номер варианта</th>\n",
       "      <th>Первичный балл</th>\n",
       "      <th>Балл</th>\n",
       "      <th>Минимальный балл</th>\n",
       "    </tr>\n",
       "  </thead>\n",
       "  <tbody>\n",
       "    <tr>\n",
       "      <th>count</th>\n",
       "      <td>141.000000</td>\n",
       "      <td>141.000000</td>\n",
       "      <td>141.000000</td>\n",
       "      <td>141.000000</td>\n",
       "      <td>141.0</td>\n",
       "    </tr>\n",
       "    <tr>\n",
       "      <th>mean</th>\n",
       "      <td>145.092199</td>\n",
       "      <td>337.184397</td>\n",
       "      <td>17.723404</td>\n",
       "      <td>60.780142</td>\n",
       "      <td>40.0</td>\n",
       "    </tr>\n",
       "    <tr>\n",
       "      <th>std</th>\n",
       "      <td>6.910552</td>\n",
       "      <td>47.394786</td>\n",
       "      <td>8.762017</td>\n",
       "      <td>19.419832</td>\n",
       "      <td>0.0</td>\n",
       "    </tr>\n",
       "    <tr>\n",
       "      <th>min</th>\n",
       "      <td>111.000000</td>\n",
       "      <td>105.000000</td>\n",
       "      <td>0.000000</td>\n",
       "      <td>0.000000</td>\n",
       "      <td>40.0</td>\n",
       "    </tr>\n",
       "    <tr>\n",
       "      <th>25%</th>\n",
       "      <td>144.000000</td>\n",
       "      <td>329.000000</td>\n",
       "      <td>11.000000</td>\n",
       "      <td>50.000000</td>\n",
       "      <td>40.0</td>\n",
       "    </tr>\n",
       "    <tr>\n",
       "      <th>50%</th>\n",
       "      <td>148.000000</td>\n",
       "      <td>331.000000</td>\n",
       "      <td>19.000000</td>\n",
       "      <td>64.000000</td>\n",
       "      <td>40.0</td>\n",
       "    </tr>\n",
       "    <tr>\n",
       "      <th>75%</th>\n",
       "      <td>148.000000</td>\n",
       "      <td>332.000000</td>\n",
       "      <td>25.000000</td>\n",
       "      <td>75.000000</td>\n",
       "      <td>40.0</td>\n",
       "    </tr>\n",
       "    <tr>\n",
       "      <th>max</th>\n",
       "      <td>153.000000</td>\n",
       "      <td>601.000000</td>\n",
       "      <td>35.000000</td>\n",
       "      <td>100.000000</td>\n",
       "      <td>40.0</td>\n",
       "    </tr>\n",
       "  </tbody>\n",
       "</table>\n",
       "</div>"
      ],
      "text/plain": [
       "          № школы  Номер варианта  Первичный балл        Балл  \\\n",
       "count  141.000000      141.000000      141.000000  141.000000   \n",
       "mean   145.092199      337.184397       17.723404   60.780142   \n",
       "std      6.910552       47.394786        8.762017   19.419832   \n",
       "min    111.000000      105.000000        0.000000    0.000000   \n",
       "25%    144.000000      329.000000       11.000000   50.000000   \n",
       "50%    148.000000      331.000000       19.000000   64.000000   \n",
       "75%    148.000000      332.000000       25.000000   75.000000   \n",
       "max    153.000000      601.000000       35.000000  100.000000   \n",
       "\n",
       "       Минимальный балл  \n",
       "count             141.0  \n",
       "mean               40.0  \n",
       "std                 0.0  \n",
       "min                40.0  \n",
       "25%                40.0  \n",
       "50%                40.0  \n",
       "75%                40.0  \n",
       "max                40.0  "
      ]
     },
     "execution_count": 3,
     "metadata": {},
     "output_type": "execute_result"
    }
   ],
   "source": [
    "table.describe()\n"
   ]
  },
  {
   "cell_type": "markdown",
   "metadata": {},
   "source": [
    "3. Найдите процент учащихся, выполнивших работу ниже среднего.\n"
   ]
  },
  {
   "cell_type": "code",
   "execution_count": 4,
   "metadata": {},
   "outputs": [
    {
     "data": {
      "text/plain": [
       "'46.099%'"
      ]
     },
     "execution_count": 4,
     "metadata": {},
     "output_type": "execute_result"
    }
   ],
   "source": [
    "# Для каждой строки указываем меньше ли балл чем средний, считаем количество True через сумму\n",
    "le = (table[\"Балл\"] < table[\"Балл\"].mean()).sum()\n",
    "\n",
    "# Переводим в проценты\n",
    "f\"{le / len(table):.3%}\""
   ]
  },
  {
   "cell_type": "markdown",
   "metadata": {},
   "source": [
    "4. Найти процент учащихся не сдавших экзамен.\n"
   ]
  },
  {
   "cell_type": "code",
   "execution_count": 5,
   "metadata": {},
   "outputs": [
    {
     "data": {
      "text/plain": [
       "'11.348%'"
      ]
     },
     "execution_count": 5,
     "metadata": {},
     "output_type": "execute_result"
    }
   ],
   "source": [
    "# Находим стрки где балл меньше минимального\n",
    "lose = (table[\"Балл\"] < table[\"Минимальный балл\"]).sum()\n",
    "\n",
    "f\"{lose / len(table):.3%}\""
   ]
  },
  {
   "cell_type": "markdown",
   "metadata": {},
   "source": [
    "5. Постройте круговую диаграмму, показывающую распределение сдавших и не сдавших экзамен.\n"
   ]
  },
  {
   "cell_type": "code",
   "execution_count": 6,
   "metadata": {},
   "outputs": [
    {
     "data": {
      "image/png": "[encoded data removed]",
      "text/plain": [
       "<Figure size 640x480 with 1 Axes>"
      ]
     },
     "metadata": {},
     "output_type": "display_data"
    }
   ],
   "source": [
    "# Считаем количество не сдавших\n",
    "failed = (table[\"Балл\"] < table[\"Минимальный балл\"]).sum()\n",
    "# Считаем количество сдавших\n",
    "passed = len(table) - failed\n",
    "plt.pie(\n",
    "    [passed, failed],\n",
    "    labels=[\"Сдали\", \"Не сдали\"],\n",
    "    colors=[\"g\", \"r\"],\n",
    ")\n",
    "None"
   ]
  },
  {
   "cell_type": "markdown",
   "metadata": {},
   "source": [
    "6. Постройте ядерную оценку плотности распределению баллов за экзамен.\n"
   ]
  },
  {
   "cell_type": "code",
   "execution_count": 7,
   "metadata": {},
   "outputs": [
    {
     "data": {
      "text/plain": [
       "<Axes: ylabel='Density'>"
      ]
     },
     "execution_count": 7,
     "metadata": {},
     "output_type": "execute_result"
    },
    {
     "data": {
      "image/png": "[encoded data removed]",
      "text/plain": [
       "<Figure size 640x480 with 1 Axes>"
      ]
     },
     "metadata": {},
     "output_type": "display_data"
    }
   ],
   "source": [
    "table[\"Балл\"].plot.kde()"
   ]
  },
  {
   "cell_type": "markdown",
   "metadata": {},
   "source": [
    "7. Найдите процентное соотношение учащихся, сдавших экзамен на «отлично», «хорошо», «удовлетворительно», «неудовлетворительно».\n"
   ]
  },
  {
   "cell_type": "code",
   "execution_count": 8,
   "metadata": {},
   "outputs": [
    {
     "name": "stdout",
     "output_type": "stream",
     "text": [
      "Отлично: 23.404%\n",
      "Хорошо: 46.809%\n",
      "Удовлетворительно: 24.823%\n",
      "Неудовлетворительно: 4.965%\n",
      "\n"
     ]
    }
   ],
   "source": [
    "great = (table[\"Балл\"] > 75).sum()\n",
    "well = (table[\"Балл\"] > 50).sum() - great\n",
    "sat = (table[\"Балл\"] > 25).sum() - great - well\n",
    "unsat = len(table) - great - well - sat\n",
    "good = np.array([great, well, sat, unsat]) / len(table)\n",
    "print(\n",
    "    \"Отлично: {:.3%}\\nХорошо: {:.3%}\\nУдовлетворительно: {:.3%}\\nНеудовлетворительно: {:.3%}\\n\".format(\n",
    "        *good\n",
    "    )\n",
    ")"
   ]
  },
  {
   "cell_type": "markdown",
   "metadata": {},
   "source": [
    "8. Какое процентное соотношение юношей и девушек писало данный экзамен?\n"
   ]
  },
  {
   "cell_type": "code",
   "execution_count": 9,
   "metadata": {},
   "outputs": [
    {
     "name": "stdout",
     "output_type": "stream",
     "text": [
      "Юноши: 77.305%\n",
      "Девушки: 22.695%\n"
     ]
    }
   ],
   "source": [
    "male = (table[\"Пол\"] == \"М\").sum()\n",
    "female = (table[\"Пол\"] == \"Ж\").sum()\n",
    "print(f\"Юноши: {male/len(table):.3%}\\nДевушки: {female/len(table):.3%}\")"
   ]
  },
  {
   "cell_type": "markdown",
   "metadata": {},
   "source": [
    "9. Сколько школ принимало участие в экзамене?\n"
   ]
  },
  {
   "cell_type": "code",
   "execution_count": 10,
   "metadata": {},
   "outputs": [
    {
     "data": {
      "text/plain": [
       "10"
      ]
     },
     "execution_count": 10,
     "metadata": {},
     "output_type": "execute_result"
    }
   ],
   "source": [
    "# Берем уникальные значения из столбца с номрами школ и считаем их кол-во\n",
    "len(table[\"№ школы\"].unique())"
   ]
  },
  {
   "cell_type": "markdown",
   "metadata": {},
   "source": [
    "10. Сколько всего заданий с кратким ответом? С развернутым ответом?\n"
   ]
  },
  {
   "cell_type": "code",
   "execution_count": 11,
   "metadata": {},
   "outputs": [
    {
     "name": "stdout",
     "output_type": "stream",
     "text": [
      "Задания с длинным ответом 4\n",
      "Задания с коротким ответом 23\n"
     ]
    }
   ],
   "source": [
    "# short_ans_count = len(table['Задания с кратким ответом'].iloc[0])\n",
    "long_ans = len(table['Задания с развёрнутым ответом'].iloc[0])//4\n",
    "short_ans = len(table['Задания с кратким ответом'].iloc[0])\n",
    "print(f\"Задания с длинным ответом {long_ans}\\nЗадания с коротким ответом {short_ans}\")"
   ]
  },
  {
   "cell_type": "markdown",
   "metadata": {},
   "source": [
    "11. Пусть задания с кратким ответом будут задания типа В. Соответственно всего по экзамену вопросов класса В: $В_1$, ... $В_к$ Посчитайте процент выполненных и невыполненных заданий по каждому вопросу класса В.\n"
   ]
  },
  {
   "cell_type": "code",
   "execution_count": 12,
   "metadata": {},
   "outputs": [
    {
     "data": {
      "text/html": [
       "<div>\n",
       "<style scoped>\n",
       "    .dataframe tbody tr th:only-of-type {\n",
       "        vertical-align: middle;\n",
       "    }\n",
       "\n",
       "    .dataframe tbody tr th {\n",
       "        vertical-align: top;\n",
       "    }\n",
       "\n",
       "    .dataframe thead th {\n",
       "        text-align: right;\n",
       "    }\n",
       "</style>\n",
       "<table border=\"1\" class=\"dataframe\">\n",
       "  <thead>\n",
       "    <tr style=\"text-align: right;\">\n",
       "      <th></th>\n",
       "      <th>0</th>\n",
       "      <th>1</th>\n",
       "      <th>2</th>\n",
       "      <th>3</th>\n",
       "      <th>4</th>\n",
       "      <th>5</th>\n",
       "      <th>6</th>\n",
       "      <th>7</th>\n",
       "      <th>8</th>\n",
       "      <th>9</th>\n",
       "      <th>...</th>\n",
       "      <th>13</th>\n",
       "      <th>14</th>\n",
       "      <th>15</th>\n",
       "      <th>16</th>\n",
       "      <th>17</th>\n",
       "      <th>18</th>\n",
       "      <th>19</th>\n",
       "      <th>20</th>\n",
       "      <th>21</th>\n",
       "      <th>22</th>\n",
       "    </tr>\n",
       "  </thead>\n",
       "  <tbody>\n",
       "    <tr>\n",
       "      <th>0</th>\n",
       "      <td>-</td>\n",
       "      <td>-</td>\n",
       "      <td>-</td>\n",
       "      <td>-</td>\n",
       "      <td>-</td>\n",
       "      <td>-</td>\n",
       "      <td>-</td>\n",
       "      <td>-</td>\n",
       "      <td>-</td>\n",
       "      <td>-</td>\n",
       "      <td>...</td>\n",
       "      <td>-</td>\n",
       "      <td>-</td>\n",
       "      <td>-</td>\n",
       "      <td>-</td>\n",
       "      <td>-</td>\n",
       "      <td>-</td>\n",
       "      <td>-</td>\n",
       "      <td>-</td>\n",
       "      <td>-</td>\n",
       "      <td>-</td>\n",
       "    </tr>\n",
       "    <tr>\n",
       "      <th>1</th>\n",
       "      <td>-</td>\n",
       "      <td>-</td>\n",
       "      <td>-</td>\n",
       "      <td>-</td>\n",
       "      <td>-</td>\n",
       "      <td>-</td>\n",
       "      <td>-</td>\n",
       "      <td>-</td>\n",
       "      <td>-</td>\n",
       "      <td>-</td>\n",
       "      <td>...</td>\n",
       "      <td>-</td>\n",
       "      <td>-</td>\n",
       "      <td>-</td>\n",
       "      <td>-</td>\n",
       "      <td>-</td>\n",
       "      <td>-</td>\n",
       "      <td>-</td>\n",
       "      <td>-</td>\n",
       "      <td>-</td>\n",
       "      <td>-</td>\n",
       "    </tr>\n",
       "    <tr>\n",
       "      <th>2</th>\n",
       "      <td>-</td>\n",
       "      <td>-</td>\n",
       "      <td>-</td>\n",
       "      <td>+</td>\n",
       "      <td>-</td>\n",
       "      <td>-</td>\n",
       "      <td>-</td>\n",
       "      <td>+</td>\n",
       "      <td>-</td>\n",
       "      <td>+</td>\n",
       "      <td>...</td>\n",
       "      <td>-</td>\n",
       "      <td>-</td>\n",
       "      <td>-</td>\n",
       "      <td>-</td>\n",
       "      <td>-</td>\n",
       "      <td>-</td>\n",
       "      <td>-</td>\n",
       "      <td>-</td>\n",
       "      <td>-</td>\n",
       "      <td>-</td>\n",
       "    </tr>\n",
       "    <tr>\n",
       "      <th>3</th>\n",
       "      <td>-</td>\n",
       "      <td>-</td>\n",
       "      <td>-</td>\n",
       "      <td>+</td>\n",
       "      <td>-</td>\n",
       "      <td>-</td>\n",
       "      <td>-</td>\n",
       "      <td>-</td>\n",
       "      <td>-</td>\n",
       "      <td>-</td>\n",
       "      <td>...</td>\n",
       "      <td>+</td>\n",
       "      <td>+</td>\n",
       "      <td>-</td>\n",
       "      <td>-</td>\n",
       "      <td>-</td>\n",
       "      <td>-</td>\n",
       "      <td>-</td>\n",
       "      <td>-</td>\n",
       "      <td>-</td>\n",
       "      <td>-</td>\n",
       "    </tr>\n",
       "    <tr>\n",
       "      <th>4</th>\n",
       "      <td>-</td>\n",
       "      <td>-</td>\n",
       "      <td>-</td>\n",
       "      <td>-</td>\n",
       "      <td>+</td>\n",
       "      <td>-</td>\n",
       "      <td>-</td>\n",
       "      <td>-</td>\n",
       "      <td>-</td>\n",
       "      <td>-</td>\n",
       "      <td>...</td>\n",
       "      <td>-</td>\n",
       "      <td>+</td>\n",
       "      <td>-</td>\n",
       "      <td>-</td>\n",
       "      <td>-</td>\n",
       "      <td>-</td>\n",
       "      <td>-</td>\n",
       "      <td>+</td>\n",
       "      <td>-</td>\n",
       "      <td>-</td>\n",
       "    </tr>\n",
       "    <tr>\n",
       "      <th>...</th>\n",
       "      <td>...</td>\n",
       "      <td>...</td>\n",
       "      <td>...</td>\n",
       "      <td>...</td>\n",
       "      <td>...</td>\n",
       "      <td>...</td>\n",
       "      <td>...</td>\n",
       "      <td>...</td>\n",
       "      <td>...</td>\n",
       "      <td>...</td>\n",
       "      <td>...</td>\n",
       "      <td>...</td>\n",
       "      <td>...</td>\n",
       "      <td>...</td>\n",
       "      <td>...</td>\n",
       "      <td>...</td>\n",
       "      <td>...</td>\n",
       "      <td>...</td>\n",
       "      <td>...</td>\n",
       "      <td>...</td>\n",
       "      <td>...</td>\n",
       "    </tr>\n",
       "    <tr>\n",
       "      <th>136</th>\n",
       "      <td>+</td>\n",
       "      <td>+</td>\n",
       "      <td>+</td>\n",
       "      <td>+</td>\n",
       "      <td>+</td>\n",
       "      <td>+</td>\n",
       "      <td>+</td>\n",
       "      <td>+</td>\n",
       "      <td>+</td>\n",
       "      <td>+</td>\n",
       "      <td>...</td>\n",
       "      <td>+</td>\n",
       "      <td>+</td>\n",
       "      <td>+</td>\n",
       "      <td>+</td>\n",
       "      <td>+</td>\n",
       "      <td>+</td>\n",
       "      <td>-</td>\n",
       "      <td>-</td>\n",
       "      <td>+</td>\n",
       "      <td>+</td>\n",
       "    </tr>\n",
       "    <tr>\n",
       "      <th>137</th>\n",
       "      <td>+</td>\n",
       "      <td>+</td>\n",
       "      <td>+</td>\n",
       "      <td>+</td>\n",
       "      <td>+</td>\n",
       "      <td>+</td>\n",
       "      <td>+</td>\n",
       "      <td>+</td>\n",
       "      <td>+</td>\n",
       "      <td>+</td>\n",
       "      <td>...</td>\n",
       "      <td>+</td>\n",
       "      <td>+</td>\n",
       "      <td>+</td>\n",
       "      <td>+</td>\n",
       "      <td>+</td>\n",
       "      <td>+</td>\n",
       "      <td>+</td>\n",
       "      <td>+</td>\n",
       "      <td>+</td>\n",
       "      <td>+</td>\n",
       "    </tr>\n",
       "    <tr>\n",
       "      <th>138</th>\n",
       "      <td>+</td>\n",
       "      <td>+</td>\n",
       "      <td>+</td>\n",
       "      <td>+</td>\n",
       "      <td>+</td>\n",
       "      <td>+</td>\n",
       "      <td>+</td>\n",
       "      <td>+</td>\n",
       "      <td>+</td>\n",
       "      <td>+</td>\n",
       "      <td>...</td>\n",
       "      <td>+</td>\n",
       "      <td>+</td>\n",
       "      <td>+</td>\n",
       "      <td>+</td>\n",
       "      <td>+</td>\n",
       "      <td>+</td>\n",
       "      <td>-</td>\n",
       "      <td>+</td>\n",
       "      <td>+</td>\n",
       "      <td>+</td>\n",
       "    </tr>\n",
       "    <tr>\n",
       "      <th>139</th>\n",
       "      <td>-</td>\n",
       "      <td>+</td>\n",
       "      <td>+</td>\n",
       "      <td>+</td>\n",
       "      <td>+</td>\n",
       "      <td>+</td>\n",
       "      <td>+</td>\n",
       "      <td>+</td>\n",
       "      <td>+</td>\n",
       "      <td>+</td>\n",
       "      <td>...</td>\n",
       "      <td>+</td>\n",
       "      <td>+</td>\n",
       "      <td>+</td>\n",
       "      <td>+</td>\n",
       "      <td>+</td>\n",
       "      <td>+</td>\n",
       "      <td>+</td>\n",
       "      <td>+</td>\n",
       "      <td>+</td>\n",
       "      <td>+</td>\n",
       "    </tr>\n",
       "    <tr>\n",
       "      <th>140</th>\n",
       "      <td>+</td>\n",
       "      <td>+</td>\n",
       "      <td>+</td>\n",
       "      <td>+</td>\n",
       "      <td>+</td>\n",
       "      <td>+</td>\n",
       "      <td>+</td>\n",
       "      <td>+</td>\n",
       "      <td>+</td>\n",
       "      <td>+</td>\n",
       "      <td>...</td>\n",
       "      <td>+</td>\n",
       "      <td>+</td>\n",
       "      <td>+</td>\n",
       "      <td>+</td>\n",
       "      <td>+</td>\n",
       "      <td>+</td>\n",
       "      <td>+</td>\n",
       "      <td>+</td>\n",
       "      <td>+</td>\n",
       "      <td>+</td>\n",
       "    </tr>\n",
       "  </tbody>\n",
       "</table>\n",
       "<p>141 rows × 23 columns</p>\n",
       "</div>"
      ],
      "text/plain": [
       "    0  1  2  3  4  5  6  7  8  9   ... 13 14 15 16 17 18 19 20 21 22\n",
       "0    -  -  -  -  -  -  -  -  -  -  ...  -  -  -  -  -  -  -  -  -  -\n",
       "1    -  -  -  -  -  -  -  -  -  -  ...  -  -  -  -  -  -  -  -  -  -\n",
       "2    -  -  -  +  -  -  -  +  -  +  ...  -  -  -  -  -  -  -  -  -  -\n",
       "3    -  -  -  +  -  -  -  -  -  -  ...  +  +  -  -  -  -  -  -  -  -\n",
       "4    -  -  -  -  +  -  -  -  -  -  ...  -  +  -  -  -  -  -  +  -  -\n",
       "..  .. .. .. .. .. .. .. .. .. ..  ... .. .. .. .. .. .. .. .. .. ..\n",
       "136  +  +  +  +  +  +  +  +  +  +  ...  +  +  +  +  +  +  -  -  +  +\n",
       "137  +  +  +  +  +  +  +  +  +  +  ...  +  +  +  +  +  +  +  +  +  +\n",
       "138  +  +  +  +  +  +  +  +  +  +  ...  +  +  +  +  +  +  -  +  +  +\n",
       "139  -  +  +  +  +  +  +  +  +  +  ...  +  +  +  +  +  +  +  +  +  +\n",
       "140  +  +  +  +  +  +  +  +  +  +  ...  +  +  +  +  +  +  +  +  +  +\n",
       "\n",
       "[141 rows x 23 columns]"
      ]
     },
     "execution_count": 12,
     "metadata": {},
     "output_type": "execute_result"
    }
   ],
   "source": [
    "typeB = pd.DataFrame([*table['Задания с кратким ответом'].map(list).values])\n",
    "typeB"
   ]
  },
  {
   "cell_type": "code",
   "execution_count": 13,
   "metadata": {},
   "outputs": [
    {
     "data": {
      "text/plain": [
       "0     81.560%\n",
       "1     60.993%\n",
       "2     79.433%\n",
       "3     78.723%\n",
       "4     68.085%\n",
       "5     61.702%\n",
       "6     92.199%\n",
       "7     86.525%\n",
       "8     49.645%\n",
       "9     59.574%\n",
       "10    43.262%\n",
       "11    53.901%\n",
       "12    60.993%\n",
       "13    76.596%\n",
       "14    71.631%\n",
       "15    62.411%\n",
       "16    68.085%\n",
       "17    31.206%\n",
       "18    68.085%\n",
       "19    12.766%\n",
       "20    34.043%\n",
       "21    36.879%\n",
       "22    17.730%\n",
       "dtype: object"
      ]
     },
     "execution_count": 13,
     "metadata": {},
     "output_type": "execute_result"
    }
   ],
   "source": [
    "# Считаем процент выполненых (+ или 1)\n",
    "(((typeB == \"+\") | (typeB == '1')).sum()/len(typeB)).map(lambda x: f\"{x:.3%}\")"
   ]
  },
  {
   "cell_type": "markdown",
   "metadata": {},
   "source": [
    "12. Аналогично и с типом С (ответы с развернутым ответом)\n"
   ]
  },
  {
   "cell_type": "code",
   "execution_count": 14,
   "metadata": {},
   "outputs": [
    {
     "data": {
      "text/html": [
       "<div>\n",
       "<style scoped>\n",
       "    .dataframe tbody tr th:only-of-type {\n",
       "        vertical-align: middle;\n",
       "    }\n",
       "\n",
       "    .dataframe tbody tr th {\n",
       "        vertical-align: top;\n",
       "    }\n",
       "\n",
       "    .dataframe thead th {\n",
       "        text-align: right;\n",
       "    }\n",
       "</style>\n",
       "<table border=\"1\" class=\"dataframe\">\n",
       "  <thead>\n",
       "    <tr style=\"text-align: right;\">\n",
       "      <th></th>\n",
       "      <th>0</th>\n",
       "      <th>1</th>\n",
       "      <th>2</th>\n",
       "      <th>3</th>\n",
       "    </tr>\n",
       "  </thead>\n",
       "  <tbody>\n",
       "    <tr>\n",
       "      <th>0</th>\n",
       "      <td>0.0</td>\n",
       "      <td>0.0</td>\n",
       "      <td>0.000000</td>\n",
       "      <td>0.0</td>\n",
       "    </tr>\n",
       "    <tr>\n",
       "      <th>1</th>\n",
       "      <td>0.0</td>\n",
       "      <td>0.0</td>\n",
       "      <td>0.000000</td>\n",
       "      <td>0.0</td>\n",
       "    </tr>\n",
       "    <tr>\n",
       "      <th>2</th>\n",
       "      <td>0.0</td>\n",
       "      <td>0.0</td>\n",
       "      <td>0.000000</td>\n",
       "      <td>0.0</td>\n",
       "    </tr>\n",
       "    <tr>\n",
       "      <th>3</th>\n",
       "      <td>0.0</td>\n",
       "      <td>0.0</td>\n",
       "      <td>0.000000</td>\n",
       "      <td>0.0</td>\n",
       "    </tr>\n",
       "    <tr>\n",
       "      <th>4</th>\n",
       "      <td>0.0</td>\n",
       "      <td>0.0</td>\n",
       "      <td>0.000000</td>\n",
       "      <td>0.0</td>\n",
       "    </tr>\n",
       "    <tr>\n",
       "      <th>...</th>\n",
       "      <td>...</td>\n",
       "      <td>...</td>\n",
       "      <td>...</td>\n",
       "      <td>...</td>\n",
       "    </tr>\n",
       "    <tr>\n",
       "      <th>136</th>\n",
       "      <td>1.0</td>\n",
       "      <td>1.0</td>\n",
       "      <td>1.000000</td>\n",
       "      <td>1.0</td>\n",
       "    </tr>\n",
       "    <tr>\n",
       "      <th>137</th>\n",
       "      <td>1.0</td>\n",
       "      <td>1.0</td>\n",
       "      <td>0.666667</td>\n",
       "      <td>1.0</td>\n",
       "    </tr>\n",
       "    <tr>\n",
       "      <th>138</th>\n",
       "      <td>1.0</td>\n",
       "      <td>1.0</td>\n",
       "      <td>1.000000</td>\n",
       "      <td>1.0</td>\n",
       "    </tr>\n",
       "    <tr>\n",
       "      <th>139</th>\n",
       "      <td>1.0</td>\n",
       "      <td>1.0</td>\n",
       "      <td>1.000000</td>\n",
       "      <td>1.0</td>\n",
       "    </tr>\n",
       "    <tr>\n",
       "      <th>140</th>\n",
       "      <td>1.0</td>\n",
       "      <td>1.0</td>\n",
       "      <td>1.000000</td>\n",
       "      <td>1.0</td>\n",
       "    </tr>\n",
       "  </tbody>\n",
       "</table>\n",
       "<p>141 rows × 4 columns</p>\n",
       "</div>"
      ],
      "text/plain": [
       "       0    1         2    3\n",
       "0    0.0  0.0  0.000000  0.0\n",
       "1    0.0  0.0  0.000000  0.0\n",
       "2    0.0  0.0  0.000000  0.0\n",
       "3    0.0  0.0  0.000000  0.0\n",
       "4    0.0  0.0  0.000000  0.0\n",
       "..   ...  ...       ...  ...\n",
       "136  1.0  1.0  1.000000  1.0\n",
       "137  1.0  1.0  0.666667  1.0\n",
       "138  1.0  1.0  1.000000  1.0\n",
       "139  1.0  1.0  1.000000  1.0\n",
       "140  1.0  1.0  1.000000  1.0\n",
       "\n",
       "[141 rows x 4 columns]"
      ]
     },
     "execution_count": 14,
     "metadata": {},
     "output_type": "execute_result"
    }
   ],
   "source": [
    "# Берем все задания с развернутым ответом, и приводим к новому датафрейму\n",
    "# Новый датасет содержит данные на сколько выполнено задание\n",
    "\n",
    "def parse_C(value):\n",
    "    a = np.array(list(map(int, value[::4])))\n",
    "    t = np.array(list(map(int, value[2::4])))\n",
    "    return a / t\n",
    "typeC = pd.DataFrame([*table['Задания с развёрнутым ответом'].map(parse_C).values])\n",
    "typeC"
   ]
  },
  {
   "cell_type": "code",
   "execution_count": 15,
   "metadata": {},
   "outputs": [
    {
     "data": {
      "text/plain": [
       "0    37.589%\n",
       "1    34.043%\n",
       "2    17.021%\n",
       "3     6.383%\n",
       "dtype: object"
      ]
     },
     "execution_count": 15,
     "metadata": {},
     "output_type": "execute_result"
    }
   ],
   "source": [
    "# Вычисляем процентное соотношение и выводим в соответствующем виде\n",
    "((typeC == 1).sum()/len(typeC)).map(lambda x: f\"{x:.3%}\")"
   ]
  },
  {
   "cell_type": "markdown",
   "metadata": {},
   "source": [
    "13. Сделайте анализ по двум школам:\n",
    "    1. по всем выполненным заданиям типа В\n",
    "    2. по заданиям типа С больше 50%\n",
    "    3. по среднему баллу юношей и девушек\n"
   ]
  },
  {
   "cell_type": "code",
   "execution_count": 16,
   "metadata": {},
   "outputs": [],
   "source": [
    "school1 = table[table['№ школы'] == table['№ школы'].unique()[0]]\n",
    "school2 = table[table['№ школы'] == table['№ школы'].unique()[1]]"
   ]
  },
  {
   "cell_type": "code",
   "execution_count": 17,
   "metadata": {},
   "outputs": [],
   "source": [
    "def mean_score(df):\n",
    "    # Средний балл юношей и девушек\n",
    "    male = df[df['Пол'] == 'М']['Балл'].mean()\n",
    "    female = df[df['Пол'] == 'Ж']['Балл'].mean()\n",
    "    return male, female"
   ]
  },
  {
   "cell_type": "markdown",
   "metadata": {},
   "source": [
    "## Школа 1"
   ]
  },
  {
   "cell_type": "code",
   "execution_count": 18,
   "metadata": {},
   "outputs": [
    {
     "data": {
      "image/png": "[encoded data removed]",
      "text/plain": [
       "<Figure size 640x480 with 4 Axes>"
      ]
     },
     "metadata": {},
     "output_type": "display_data"
    }
   ],
   "source": [
    "# Смотрим для школы гистограмму решенных C\n",
    "typeC[(table['№ школы'] == table['№ школы'].unique()[0]).values].hist(grid=False)\n",
    "plt.tight_layout()"
   ]
  },
  {
   "cell_type": "code",
   "execution_count": 19,
   "metadata": {},
   "outputs": [
    {
     "data": {
      "text/plain": [
       "<Axes: >"
      ]
     },
     "execution_count": 19,
     "metadata": {},
     "output_type": "execute_result"
    },
    {
     "data": {
      "image/png": "[encoded data removed]",
      "text/plain": [
       "<Figure size 640x480 with 1 Axes>"
      ]
     },
     "metadata": {},
     "output_type": "display_data"
    }
   ],
   "source": [
    "# Количество выполненых заданий B\n",
    "data = typeB[(table['№ школы'] == table['№ школы'].unique()[0]).values]\n",
    "((data == '+') | (data == '1')).sum().plot.bar()"
   ]
  },
  {
   "cell_type": "code",
   "execution_count": 20,
   "metadata": {},
   "outputs": [
    {
     "name": "stdout",
     "output_type": "stream",
     "text": [
      "Средний балл\n",
      "Юношей: 61.833\n",
      "Девушек: 67.519\n"
     ]
    }
   ],
   "source": [
    "# Средний балл среди юношей и девушек\n",
    "print(\"Средний балл\\nЮношей: {:.3f}\\nДевушек: {:.3f}\".format(*mean_score(school1)))"
   ]
  },
  {
   "cell_type": "markdown",
   "metadata": {},
   "source": [
    "## Школа 1"
   ]
  },
  {
   "cell_type": "code",
   "execution_count": 21,
   "metadata": {},
   "outputs": [
    {
     "data": {
      "image/png": "[encoded data removed]",
      "text/plain": [
       "<Figure size 640x480 with 4 Axes>"
      ]
     },
     "metadata": {},
     "output_type": "display_data"
    }
   ],
   "source": [
    "# Смотрим для школы гистограмму решенных C\n",
    "typeC[(table['№ школы'] == table['№ школы'].unique()[1]).values].hist(grid=False)\n",
    "plt.tight_layout()"
   ]
  },
  {
   "cell_type": "code",
   "execution_count": 22,
   "metadata": {},
   "outputs": [
    {
     "data": {
      "text/plain": [
       "<Axes: >"
      ]
     },
     "execution_count": 22,
     "metadata": {},
     "output_type": "execute_result"
    },
    {
     "data": {
      "image/png": "[encoded data removed]",
      "text/plain": [
       "<Figure size 640x480 with 1 Axes>"
      ]
     },
     "metadata": {},
     "output_type": "display_data"
    }
   ],
   "source": [
    "# Количество выполненых заданий B\n",
    "data = typeB[(table['№ школы'] == table['№ школы'].unique()[1]).values]\n",
    "((data == '+') | (data == '1')).sum().plot.bar()"
   ]
  },
  {
   "cell_type": "code",
   "execution_count": 23,
   "metadata": {},
   "outputs": [
    {
     "name": "stdout",
     "output_type": "stream",
     "text": [
      "Средний балл\n",
      "Юношей: 50.000\n",
      "Девушек: nan\n"
     ]
    }
   ],
   "source": [
    "# Средний балл среди юношей и девушек\n",
    "print(\"Средний балл\\nЮношей: {:.3f}\\nДевушек: {:.3f}\".format(*mean_score(school2)))"
   ]
  }
 ],
 "metadata": {
  "kernelspec": {
   "display_name": "Python 3",
   "language": "python",
   "name": "python3"
  },
  "language_info": {
   "codemirror_mode": {
    "name": "ipython",
    "version": 3
   },
   "file_extension": ".py",
   "mimetype": "text/x-python",
   "name": "python",
   "nbconvert_exporter": "python",
   "pygments_lexer": "ipython3",
   "version": "3.11.0"
  },
  "orig_nbformat": 4
 },
 "nbformat": 4,
 "nbformat_minor": 2
}
