{
 "cells": [
  {
   "cell_type": "code",
   "execution_count": 22,
   "metadata": {},
   "outputs": [],
   "source": [
    "from tinkoff.invest import Client\n",
    "from tinkoff.invest.constants import INVEST_GRPC_API_SANDBOX\n",
    "import numpy as np\n",
    "import matplotlib.pyplot as plt\n"
   ]
  },
  {
   "cell_type": "code",
   "execution_count": 6,
   "metadata": {},
   "outputs": [
    {
     "name": "stdout",
     "output_type": "stream",
     "text": [
      "GetAccountsResponse(accounts=[])\n"
     ]
    }
   ],
   "source": [
    "TOKEN = \"t.dliBtI1Ts_2UZJqhmUgbhzs01Lw6dL5cSUJoDk60y8k0eMVMcX5CbG6i-taBlS4ea3lFcS0pfNjgBzooPgu99A\"\n",
    "\n",
    "with Client(TOKEN, target=INVEST_GRPC_API_SANDBOX) as client:\n",
    "    print(client.users.get_accounts())\n"
   ]
  },
  {
   "cell_type": "code",
   "execution_count": 10,
   "metadata": {},
   "outputs": [],
   "source": [
    "from datetime import timedelta\n",
    "\n",
    "from tinkoff.invest import CandleInterval, Client\n",
    "from tinkoff.invest.schemas import CandleSource\n",
    "from tinkoff.invest.utils import now\n",
    "\n",
    "candles = []\n",
    "\n",
    "def main():\n",
    "    with Client(TOKEN) as client:\n",
    "        for candle in client.get_all_candles(\n",
    "            instrument_id=\"BBG004730N88\",\n",
    "            from_=now() - timedelta(days=365),\n",
    "            interval=CandleInterval.CANDLE_INTERVAL_HOUR,\n",
    "            candle_source_type=CandleSource.CANDLE_SOURCE_UNSPECIFIED,\n",
    "        ):\n",
    "            candles.append(candle)\n",
    "\n",
    "if __name__ == \"__main__\":\n",
    "    main()\n"
   ]
  },
  {
   "cell_type": "code",
   "execution_count": 52,
   "metadata": {},
   "outputs": [
    {
     "name": "stdout",
     "output_type": "stream",
     "text": [
      "HistoricCandle(open=Quotation(units=225, nano=220000000), high=Quotation(units=225, nano=880000000), low=Quotation(units=225, nano=100000000), close=Quotation(units=225, nano=190000000), volume=505577, time=datetime.datetime(2023, 4, 17, 13, 0, tzinfo=datetime.timezone.utc), is_complete=True, candle_source=<CandleSource.CANDLE_SOURCE_EXCHANGE: 1>)\n",
      "HistoricCandle(open=Quotation(units=225, nano=200000000), high=Quotation(units=226, nano=300000000), low=Quotation(units=224, nano=870000000), close=Quotation(units=226, nano=100000000), volume=503381, time=datetime.datetime(2023, 4, 17, 14, 0, tzinfo=datetime.timezone.utc), is_complete=True, candle_source=<CandleSource.CANDLE_SOURCE_EXCHANGE: 1>)\n",
      "HistoricCandle(open=Quotation(units=226, nano=100000000), high=Quotation(units=226, nano=870000000), low=Quotation(units=226, nano=100000000), close=Quotation(units=226, nano=630000000), volume=582911, time=datetime.datetime(2023, 4, 17, 15, 0, tzinfo=datetime.timezone.utc), is_complete=True, candle_source=<CandleSource.CANDLE_SOURCE_EXCHANGE: 1>)\n",
      "HistoricCandle(open=Quotation(units=226, nano=510000000), high=Quotation(units=228, nano=200000000), low=Quotation(units=226, nano=510000000), close=Quotation(units=227, nano=650000000), volume=690305, time=datetime.datetime(2023, 4, 17, 16, 0, tzinfo=datetime.timezone.utc), is_complete=True, candle_source=<CandleSource.CANDLE_SOURCE_EXCHANGE: 1>)\n",
      "HistoricCandle(open=Quotation(units=227, nano=690000000), high=Quotation(units=228, nano=100000000), low=Quotation(units=227, nano=500000000), close=Quotation(units=227, nano=700000000), volume=289148, time=datetime.datetime(2023, 4, 17, 17, 0, tzinfo=datetime.timezone.utc), is_complete=True, candle_source=<CandleSource.CANDLE_SOURCE_EXCHANGE: 1>)\n",
      "HistoricCandle(open=Quotation(units=227, nano=730000000), high=Quotation(units=227, nano=950000000), low=Quotation(units=227, nano=430000000), close=Quotation(units=227, nano=840000000), volume=144124, time=datetime.datetime(2023, 4, 17, 18, 0, tzinfo=datetime.timezone.utc), is_complete=True, candle_source=<CandleSource.CANDLE_SOURCE_EXCHANGE: 1>)\n",
      "HistoricCandle(open=Quotation(units=227, nano=840000000), high=Quotation(units=228, nano=0), low=Quotation(units=227, nano=770000000), close=Quotation(units=227, nano=900000000), volume=104785, time=datetime.datetime(2023, 4, 17, 19, 0, tzinfo=datetime.timezone.utc), is_complete=True, candle_source=<CandleSource.CANDLE_SOURCE_EXCHANGE: 1>)\n",
      "HistoricCandle(open=Quotation(units=227, nano=910000000), high=Quotation(units=228, nano=200000000), low=Quotation(units=227, nano=510000000), close=Quotation(units=228, nano=100000000), volume=240651, time=datetime.datetime(2023, 4, 17, 20, 0, tzinfo=datetime.timezone.utc), is_complete=True, candle_source=<CandleSource.CANDLE_SOURCE_EXCHANGE: 1>)\n",
      "HistoricCandle(open=Quotation(units=227, nano=890000000), high=Quotation(units=227, nano=890000000), low=Quotation(units=227, nano=890000000), close=Quotation(units=227, nano=890000000), volume=31014, time=datetime.datetime(2023, 4, 18, 6, 0, tzinfo=datetime.timezone.utc), is_complete=True, candle_source=<CandleSource.CANDLE_SOURCE_EXCHANGE: 1>)\n",
      "HistoricCandle(open=Quotation(units=227, nano=890000000), high=Quotation(units=229, nano=280000000), low=Quotation(units=227, nano=50000000), close=Quotation(units=229, nano=110000000), volume=1738098, time=datetime.datetime(2023, 4, 18, 7, 0, tzinfo=datetime.timezone.utc), is_complete=True, candle_source=<CandleSource.CANDLE_SOURCE_EXCHANGE: 1>)\n",
      "HistoricCandle(open=Quotation(units=229, nano=160000000), high=Quotation(units=229, nano=840000000), low=Quotation(units=228, nano=900000000), close=Quotation(units=229, nano=300000000), volume=1095165, time=datetime.datetime(2023, 4, 18, 8, 0, tzinfo=datetime.timezone.utc), is_complete=True, candle_source=<CandleSource.CANDLE_SOURCE_EXCHANGE: 1>)\n",
      "HistoricCandle(open=Quotation(units=229, nano=300000000), high=Quotation(units=229, nano=480000000), low=Quotation(units=227, nano=710000000), close=Quotation(units=227, nano=830000000), volume=1096820, time=datetime.datetime(2023, 4, 18, 9, 0, tzinfo=datetime.timezone.utc), is_complete=True, candle_source=<CandleSource.CANDLE_SOURCE_EXCHANGE: 1>)\n",
      "HistoricCandle(open=Quotation(units=227, nano=830000000), high=Quotation(units=229, nano=0), low=Quotation(units=227, nano=500000000), close=Quotation(units=228, nano=320000000), volume=608811, time=datetime.datetime(2023, 4, 18, 10, 0, tzinfo=datetime.timezone.utc), is_complete=True, candle_source=<CandleSource.CANDLE_SOURCE_EXCHANGE: 1>)\n",
      "HistoricCandle(open=Quotation(units=228, nano=300000000), high=Quotation(units=229, nano=230000000), low=Quotation(units=228, nano=10000000), close=Quotation(units=228, nano=970000000), volume=577103, time=datetime.datetime(2023, 4, 18, 11, 0, tzinfo=datetime.timezone.utc), is_complete=True, candle_source=<CandleSource.CANDLE_SOURCE_EXCHANGE: 1>)\n",
      "HistoricCandle(open=Quotation(units=228, nano=970000000), high=Quotation(units=229, nano=50000000), low=Quotation(units=228, nano=620000000), close=Quotation(units=228, nano=930000000), volume=366298, time=datetime.datetime(2023, 4, 18, 12, 0, tzinfo=datetime.timezone.utc), is_complete=True, candle_source=<CandleSource.CANDLE_SOURCE_EXCHANGE: 1>)\n",
      "HistoricCandle(open=Quotation(units=228, nano=930000000), high=Quotation(units=230, nano=810000000), low=Quotation(units=228, nano=890000000), close=Quotation(units=230, nano=760000000), volume=1615923, time=datetime.datetime(2023, 4, 18, 13, 0, tzinfo=datetime.timezone.utc), is_complete=True, candle_source=<CandleSource.CANDLE_SOURCE_EXCHANGE: 1>)\n",
      "HistoricCandle(open=Quotation(units=230, nano=770000000), high=Quotation(units=231, nano=330000000), low=Quotation(units=230, nano=300000000), close=Quotation(units=231, nano=300000000), volume=741565, time=datetime.datetime(2023, 4, 18, 14, 0, tzinfo=datetime.timezone.utc), is_complete=True, candle_source=<CandleSource.CANDLE_SOURCE_EXCHANGE: 1>)\n",
      "HistoricCandle(open=Quotation(units=231, nano=290000000), high=Quotation(units=231, nano=800000000), low=Quotation(units=231, nano=40000000), close=Quotation(units=231, nano=390000000), volume=681521, time=datetime.datetime(2023, 4, 18, 15, 0, tzinfo=datetime.timezone.utc), is_complete=True, candle_source=<CandleSource.CANDLE_SOURCE_EXCHANGE: 1>)\n",
      "HistoricCandle(open=Quotation(units=231, nano=380000000), high=Quotation(units=232, nano=440000000), low=Quotation(units=230, nano=910000000), close=Quotation(units=232, nano=350000000), volume=423795, time=datetime.datetime(2023, 4, 18, 16, 0, tzinfo=datetime.timezone.utc), is_complete=True, candle_source=<CandleSource.CANDLE_SOURCE_EXCHANGE: 1>)\n",
      "HistoricCandle(open=Quotation(units=232, nano=370000000), high=Quotation(units=232, nano=390000000), low=Quotation(units=231, nano=900000000), close=Quotation(units=231, nano=930000000), volume=273706, time=datetime.datetime(2023, 4, 18, 17, 0, tzinfo=datetime.timezone.utc), is_complete=True, candle_source=<CandleSource.CANDLE_SOURCE_EXCHANGE: 1>)\n"
     ]
    },
    {
     "data": {
      "image/png": "[encoded data removed]",
      "text/plain": [
       "<Figure size 640x480 with 1 Axes>"
      ]
     },
     "metadata": {},
     "output_type": "display_data"
    }
   ],
   "source": [
    "def draw_candles(mas):\n",
    "    _min = min([candle.low.nano for candle in mas]) // 10**6\n",
    "    _max = max([candle.high.nano for candle in mas]) // 10**6\n",
    "    canvas = np.zeros((_max - _min + 40, len(mas) * 70 - 20, 3), float)\n",
    "\n",
    "    for i, candle in enumerate(mas):\n",
    "        color = [1, 0, 0] if candle.open.nano > candle.close.nano else [0, 1, 0]\n",
    "        print(candle)\n",
    "        height = slice(*sorted([candle.close.nano // 10**6, candle.open.nano // 10**6]))\n",
    "        width = slice(i * 70, i * 70 + 50)\n",
    "        canvas[height, width] = color\n",
    "\n",
    "        height = slice(*sorted([candle.low.nano // 10**6, candle.high.nano // 10**6]))\n",
    "        width = slice(i * 70 + 20, i * 70 + 30)\n",
    "        canvas[height, width] = color\n",
    "\n",
    "    plt.imshow(canvas)\n",
    "\n",
    "\n",
    "draw_candles(candles[:20])\n"
   ]
  },
  {
   "cell_type": "code",
   "execution_count": 20,
   "metadata": {},
   "outputs": [
    {
     "data": {
      "text/plain": [
       "{'open': Quotation(units=225, nano=220000000),\n",
       " 'high': Quotation(units=225, nano=880000000),\n",
       " 'low': Quotation(units=225, nano=100000000),\n",
       " 'close': Quotation(units=225, nano=190000000),\n",
       " 'volume': 505577,\n",
       " 'time': datetime.datetime(2023, 4, 17, 13, 0, tzinfo=datetime.timezone.utc),\n",
       " 'is_complete': True,\n",
       " 'candle_source': <CandleSource.CANDLE_SOURCE_EXCHANGE: 1>}"
      ]
     },
     "execution_count": 20,
     "metadata": {},
     "output_type": "execute_result"
    }
   ],
   "source": [
    "vars(candles[0])"
   ]
  },
  {
   "cell_type": "code",
   "execution_count": 35,
   "metadata": {},
   "outputs": [
    {
     "data": {
      "text/plain": [
       "{'open': Quotation(units=225, nano=200000000),\n",
       " 'high': Quotation(units=226, nano=300000000),\n",
       " 'low': Quotation(units=224, nano=870000000),\n",
       " 'close': Quotation(units=226, nano=100000000),\n",
       " 'volume': 503381,\n",
       " 'time': datetime.datetime(2023, 4, 17, 14, 0, tzinfo=datetime.timezone.utc),\n",
       " 'is_complete': True,\n",
       " 'candle_source': <CandleSource.CANDLE_SOURCE_EXCHANGE: 1>}"
      ]
     },
     "execution_count": 35,
     "metadata": {},
     "output_type": "execute_result"
    }
   ],
   "source": [
    "vars(candles[1])"
   ]
  },
  {
   "cell_type": "code",
   "execution_count": 53,
   "metadata": {},
   "outputs": [],
   "source": [
    "import matplotlib.pyplot as plt"
   ]
  },
  {
   "cell_type": "code",
   "execution_count": 68,
   "metadata": {},
   "outputs": [
    {
     "data": {
      "image/png": "[encoded data removed]",
      "text/plain": [
       "<Figure size 640x480 with 1 Axes>"
      ]
     },
     "metadata": {},
     "output_type": "display_data"
    }
   ],
   "source": [
    "def layer(values):\n",
    "    new_values = [0 for _ in range(len(values) + 1)]\n",
    "    for n, i in enumerate(values):\n",
    "        new_values[n] += i // 2\n",
    "        new_values[n + 1] += i // 2\n",
    "    return new_values\n",
    "\n",
    "\n",
    "def vis(values):\n",
    "    plt.bar(range(len(values)), values)\n",
    "\n",
    "\n",
    "values = [1e+7]\n",
    "\n",
    "layers = 30\n",
    "for _ in range(layers):\n",
    "    values = layer(values)\n",
    "\n",
    "vis(values)\n"
   ]
  },
  {
   "cell_type": "code",
   "execution_count": 71,
   "metadata": {},
   "outputs": [],
   "source": [
    "from scipy.stats import norm"
   ]
  },
  {
   "cell_type": "code",
   "execution_count": 88,
   "metadata": {},
   "outputs": [
    {
     "data": {
      "text/plain": [
       "<BarContainer object of 34 artists>"
      ]
     },
     "execution_count": 88,
     "metadata": {},
     "output_type": "execute_result"
    },
    {
     "data": {
      "image/png": "[encoded data removed]",
      "text/plain": [
       "<Figure size 640x480 with 1 Axes>"
      ]
     },
     "metadata": {},
     "output_type": "display_data"
    }
   ],
   "source": [
    "x = np.arange(-5, 5, 0.3)\n",
    "\n",
    "# plot normal distribution with mean 0 and standard deviation 1\n",
    "plt.bar(x, norm.pdf(x, 0, 1))\n"
   ]
  }
 ],
 "metadata": {
  "kernelspec": {
   "display_name": "Python 3",
   "language": "python",
   "name": "python3"
  },
  "language_info": {
   "codemirror_mode": {
    "name": "ipython",
    "version": 3
   },
   "file_extension": ".py",
   "mimetype": "text/x-python",
   "name": "python",
   "nbconvert_exporter": "python",
   "pygments_lexer": "ipython3",
   "version": "3.12.1"
  }
 },
 "nbformat": 4,
 "nbformat_minor": 2
}
