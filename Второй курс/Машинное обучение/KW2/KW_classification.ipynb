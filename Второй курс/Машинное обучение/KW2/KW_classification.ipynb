{
 "cells": [
  {
   "cell_type": "code",
   "execution_count": 408,
   "metadata": {},
   "outputs": [],
   "source": [
    "import warnings\n",
    "\n",
    "from time import time\n",
    "import pandas as pd\n",
    "from pandas.api.types import is_numeric_dtype\n",
    "from sklearn.datasets import fetch_openml\n",
    "from sklearn.linear_model import LogisticRegression\n",
    "from sklearn.metrics import (\n",
    "    accuracy_score,\n",
    "    confusion_matrix,\n",
    ")\n",
    "from sklearn.neural_network import MLPClassifier\n",
    "from sklearn.pipeline import make_pipeline\n",
    "from sklearn.preprocessing import PolynomialFeatures\n",
    "from sklearn.svm import SVC\n",
    "\n",
    "warnings.filterwarnings('ignore')"
   ]
  },
  {
   "cell_type": "markdown",
   "metadata": {},
   "source": [
    "---\n",
    "## 1\n",
    "Загрузите предложенный вам датасет с помощью функции `sklearn.datasets.fetch_openml`.\n",
    "\n",
    "Выведите текстовое описание загруженного датасета.\n",
    "\n",
    "Обозначьте целевую переменную за `y`, а остальные данные за `X`."
   ]
  },
  {
   "cell_type": "code",
   "execution_count": 409,
   "metadata": {},
   "outputs": [],
   "source": [
    "# Загружем датасет\n",
    "dataset = fetch_openml('students_scores')"
   ]
  },
  {
   "cell_type": "code",
   "execution_count": 410,
   "metadata": {},
   "outputs": [
    {
     "name": "stdout",
     "output_type": "stream",
     "text": [
      "This is a dataset about the actors and actresses that have\n",
      "voice characters in Disney movies\n",
      "\n",
      "Downloaded from openml.org.\n"
     ]
    }
   ],
   "source": [
    "# Выводим текстовое описание датасета\n",
    "print(dataset.DESCR)"
   ]
  },
  {
   "cell_type": "code",
   "execution_count": 411,
   "metadata": {},
   "outputs": [],
   "source": [
    "# Обознчим переменные\n",
    "X = dataset.data\n",
    "y = dataset.target"
   ]
  },
  {
   "cell_type": "code",
   "execution_count": 412,
   "metadata": {},
   "outputs": [
    {
     "data": {
      "text/html": [
       "<div>\n",
       "<style scoped>\n",
       "    .dataframe tbody tr th:only-of-type {\n",
       "        vertical-align: middle;\n",
       "    }\n",
       "\n",
       "    .dataframe tbody tr th {\n",
       "        vertical-align: top;\n",
       "    }\n",
       "\n",
       "    .dataframe thead th {\n",
       "        text-align: right;\n",
       "    }\n",
       "</style>\n",
       "<table border=\"1\" class=\"dataframe\">\n",
       "  <thead>\n",
       "    <tr style=\"text-align: right;\">\n",
       "      <th></th>\n",
       "      <th>race.ethnicity</th>\n",
       "      <th>parental.level.of.education</th>\n",
       "      <th>lunch</th>\n",
       "      <th>test.preparation.course</th>\n",
       "      <th>math.score</th>\n",
       "      <th>reading.score</th>\n",
       "      <th>writing.score</th>\n",
       "    </tr>\n",
       "  </thead>\n",
       "  <tbody>\n",
       "    <tr>\n",
       "      <th>782</th>\n",
       "      <td>group B</td>\n",
       "      <td>high school</td>\n",
       "      <td>free/reduced</td>\n",
       "      <td>completed</td>\n",
       "      <td>76.0</td>\n",
       "      <td>85.0</td>\n",
       "      <td>82.0</td>\n",
       "    </tr>\n",
       "    <tr>\n",
       "      <th>342</th>\n",
       "      <td>group B</td>\n",
       "      <td>high school</td>\n",
       "      <td>standard</td>\n",
       "      <td>completed</td>\n",
       "      <td>69.0</td>\n",
       "      <td>76.0</td>\n",
       "      <td>74.0</td>\n",
       "    </tr>\n",
       "    <tr>\n",
       "      <th>534</th>\n",
       "      <td>group B</td>\n",
       "      <td>high school</td>\n",
       "      <td>standard</td>\n",
       "      <td>completed</td>\n",
       "      <td>73.0</td>\n",
       "      <td>69.0</td>\n",
       "      <td>68.0</td>\n",
       "    </tr>\n",
       "    <tr>\n",
       "      <th>66</th>\n",
       "      <td>group D</td>\n",
       "      <td>some high school</td>\n",
       "      <td>free/reduced</td>\n",
       "      <td>none</td>\n",
       "      <td>45.0</td>\n",
       "      <td>37.0</td>\n",
       "      <td>37.0</td>\n",
       "    </tr>\n",
       "    <tr>\n",
       "      <th>256</th>\n",
       "      <td>group C</td>\n",
       "      <td>associate's degree</td>\n",
       "      <td>free/reduced</td>\n",
       "      <td>none</td>\n",
       "      <td>64.0</td>\n",
       "      <td>73.0</td>\n",
       "      <td>68.0</td>\n",
       "    </tr>\n",
       "  </tbody>\n",
       "</table>\n",
       "</div>"
      ],
      "text/plain": [
       "    race.ethnicity parental.level.of.education         lunch  \\\n",
       "782        group B                 high school  free/reduced   \n",
       "342        group B                 high school      standard   \n",
       "534        group B                 high school      standard   \n",
       "66         group D            some high school  free/reduced   \n",
       "256        group C          associate's degree  free/reduced   \n",
       "\n",
       "    test.preparation.course  math.score  reading.score  writing.score  \n",
       "782               completed        76.0           85.0           82.0  \n",
       "342               completed        69.0           76.0           74.0  \n",
       "534               completed        73.0           69.0           68.0  \n",
       "66                     none        45.0           37.0           37.0  \n",
       "256                    none        64.0           73.0           68.0  "
      ]
     },
     "execution_count": 412,
     "metadata": {},
     "output_type": "execute_result"
    }
   ],
   "source": [
    "X.sample(5)"
   ]
  },
  {
   "cell_type": "code",
   "execution_count": 413,
   "metadata": {},
   "outputs": [
    {
     "data": {
      "text/plain": [
       "676    female\n",
       "310    female\n",
       "280      male\n",
       "308    female\n",
       "216    female\n",
       "Name: gender, dtype: object"
      ]
     },
     "execution_count": 413,
     "metadata": {},
     "output_type": "execute_result"
    }
   ],
   "source": [
    "y.sample(5)"
   ]
  },
  {
   "cell_type": "code",
   "execution_count": 414,
   "metadata": {},
   "outputs": [],
   "source": [
    "# Создаем словарь для сохранения информации о моделях\n",
    "models_info = {}"
   ]
  },
  {
   "cell_type": "markdown",
   "metadata": {},
   "source": [
    "---\n",
    "## 2\n",
    "Выведите основную статистическую информацию о данных. \n",
    "\n",
    "**Сделайте количественное описание датасета:**\n",
    "- число строк (объектов)\n",
    "- число столбцов (признаков)\n",
    "- статистику по признакам\n",
    "- количество классов (значений целевой переменной)."
   ]
  },
  {
   "cell_type": "code",
   "execution_count": 415,
   "metadata": {},
   "outputs": [
    {
     "name": "stdout",
     "output_type": "stream",
     "text": [
      "<class 'pandas.core.frame.DataFrame'>\n",
      "RangeIndex: 1000 entries, 0 to 999\n",
      "Data columns (total 7 columns):\n",
      " #   Column                       Non-Null Count  Dtype  \n",
      "---  ------                       --------------  -----  \n",
      " 0   race.ethnicity               1000 non-null   object \n",
      " 1   parental.level.of.education  1000 non-null   object \n",
      " 2   lunch                        1000 non-null   object \n",
      " 3   test.preparation.course      1000 non-null   object \n",
      " 4   math.score                   1000 non-null   float64\n",
      " 5   reading.score                1000 non-null   float64\n",
      " 6   writing.score                1000 non-null   float64\n",
      "dtypes: float64(3), object(4)\n",
      "memory usage: 54.8+ KB\n"
     ]
    }
   ],
   "source": [
    "# Число строк и столбцов\n",
    "X.info()"
   ]
  },
  {
   "cell_type": "code",
   "execution_count": 416,
   "metadata": {},
   "outputs": [
    {
     "data": {
      "text/html": [
       "<div>\n",
       "<style scoped>\n",
       "    .dataframe tbody tr th:only-of-type {\n",
       "        vertical-align: middle;\n",
       "    }\n",
       "\n",
       "    .dataframe tbody tr th {\n",
       "        vertical-align: top;\n",
       "    }\n",
       "\n",
       "    .dataframe thead th {\n",
       "        text-align: right;\n",
       "    }\n",
       "</style>\n",
       "<table border=\"1\" class=\"dataframe\">\n",
       "  <thead>\n",
       "    <tr style=\"text-align: right;\">\n",
       "      <th></th>\n",
       "      <th>math.score</th>\n",
       "      <th>reading.score</th>\n",
       "      <th>writing.score</th>\n",
       "    </tr>\n",
       "  </thead>\n",
       "  <tbody>\n",
       "    <tr>\n",
       "      <th>count</th>\n",
       "      <td>1000.00000</td>\n",
       "      <td>1000.000000</td>\n",
       "      <td>1000.000000</td>\n",
       "    </tr>\n",
       "    <tr>\n",
       "      <th>mean</th>\n",
       "      <td>66.08900</td>\n",
       "      <td>69.169000</td>\n",
       "      <td>68.054000</td>\n",
       "    </tr>\n",
       "    <tr>\n",
       "      <th>std</th>\n",
       "      <td>15.16308</td>\n",
       "      <td>14.600192</td>\n",
       "      <td>15.195657</td>\n",
       "    </tr>\n",
       "    <tr>\n",
       "      <th>min</th>\n",
       "      <td>0.00000</td>\n",
       "      <td>17.000000</td>\n",
       "      <td>10.000000</td>\n",
       "    </tr>\n",
       "    <tr>\n",
       "      <th>25%</th>\n",
       "      <td>57.00000</td>\n",
       "      <td>59.000000</td>\n",
       "      <td>57.750000</td>\n",
       "    </tr>\n",
       "    <tr>\n",
       "      <th>50%</th>\n",
       "      <td>66.00000</td>\n",
       "      <td>70.000000</td>\n",
       "      <td>69.000000</td>\n",
       "    </tr>\n",
       "    <tr>\n",
       "      <th>75%</th>\n",
       "      <td>77.00000</td>\n",
       "      <td>79.000000</td>\n",
       "      <td>79.000000</td>\n",
       "    </tr>\n",
       "    <tr>\n",
       "      <th>max</th>\n",
       "      <td>100.00000</td>\n",
       "      <td>100.000000</td>\n",
       "      <td>100.000000</td>\n",
       "    </tr>\n",
       "  </tbody>\n",
       "</table>\n",
       "</div>"
      ],
      "text/plain": [
       "       math.score  reading.score  writing.score\n",
       "count  1000.00000    1000.000000    1000.000000\n",
       "mean     66.08900      69.169000      68.054000\n",
       "std      15.16308      14.600192      15.195657\n",
       "min       0.00000      17.000000      10.000000\n",
       "25%      57.00000      59.000000      57.750000\n",
       "50%      66.00000      70.000000      69.000000\n",
       "75%      77.00000      79.000000      79.000000\n",
       "max     100.00000     100.000000     100.000000"
      ]
     },
     "execution_count": 416,
     "metadata": {},
     "output_type": "execute_result"
    }
   ],
   "source": [
    "# Статистика по признакам\n",
    "X.describe()"
   ]
  },
  {
   "cell_type": "code",
   "execution_count": 417,
   "metadata": {},
   "outputs": [
    {
     "name": "stdout",
     "output_type": "stream",
     "text": [
      "1) male\n",
      "2) female\n",
      "\n",
      "Всего классов - 2\n"
     ]
    }
   ],
   "source": [
    "# Классы целевой переменной\n",
    "print(*[f\"{n+1}) {val}\" for n, val in enumerate(set(y))], sep='\\n')\n",
    "print(\"\\nВсего классов -\", len(set(y)))"
   ]
  },
  {
   "cell_type": "markdown",
   "metadata": {},
   "source": [
    "---\n",
    "## 3\n",
    "\n",
    "Убедитесь, что данные пригодны для моделирования. \n",
    "\n",
    "В данных не должно быть пропущенных значений, все признаки должны быть численными.\n",
    "\n",
    "Если эти условия нарушаются, исправьте это."
   ]
  },
  {
   "cell_type": "code",
   "execution_count": 418,
   "metadata": {},
   "outputs": [],
   "source": [
    "# Сначала заменим отсутствующие данные на средние\n",
    "X = X.fillna(X.mean())"
   ]
  },
  {
   "cell_type": "code",
   "execution_count": 419,
   "metadata": {},
   "outputs": [
    {
     "name": "stdout",
     "output_type": "stream",
     "text": [
      "Заменяные столбцы:\n",
      "- race.ethnicity\n",
      "- parental.level.of.education\n",
      "- lunch\n",
      "- test.preparation.course\n"
     ]
    }
   ],
   "source": [
    "# Заменяем все не числовые данные на числовые\n",
    "y = pd.factorize(y, sort=True)[0]\n",
    "\n",
    "print(\"Заменяные столбцы:\")\n",
    "# Проходим по столбцам\n",
    "for col_name in X.columns:\n",
    "    # Если значения не числовые\n",
    "    if not is_numeric_dtype(X[col_name].dtype):\n",
    "        print(f\"- {col_name}\")\n",
    "        # Заменяем на числовые\n",
    "        X[col_name] = pd.factorize(X[col_name], sort=True)[0]\n"
   ]
  },
  {
   "cell_type": "code",
   "execution_count": 420,
   "metadata": {},
   "outputs": [
    {
     "data": {
      "text/html": [
       "<div>\n",
       "<style scoped>\n",
       "    .dataframe tbody tr th:only-of-type {\n",
       "        vertical-align: middle;\n",
       "    }\n",
       "\n",
       "    .dataframe tbody tr th {\n",
       "        vertical-align: top;\n",
       "    }\n",
       "\n",
       "    .dataframe thead th {\n",
       "        text-align: right;\n",
       "    }\n",
       "</style>\n",
       "<table border=\"1\" class=\"dataframe\">\n",
       "  <thead>\n",
       "    <tr style=\"text-align: right;\">\n",
       "      <th></th>\n",
       "      <th>race.ethnicity</th>\n",
       "      <th>parental.level.of.education</th>\n",
       "      <th>lunch</th>\n",
       "      <th>test.preparation.course</th>\n",
       "      <th>math.score</th>\n",
       "      <th>reading.score</th>\n",
       "      <th>writing.score</th>\n",
       "    </tr>\n",
       "  </thead>\n",
       "  <tbody>\n",
       "    <tr>\n",
       "      <th>466</th>\n",
       "      <td>3</td>\n",
       "      <td>0</td>\n",
       "      <td>0</td>\n",
       "      <td>1</td>\n",
       "      <td>26.0</td>\n",
       "      <td>31.0</td>\n",
       "      <td>38.0</td>\n",
       "    </tr>\n",
       "    <tr>\n",
       "      <th>599</th>\n",
       "      <td>3</td>\n",
       "      <td>5</td>\n",
       "      <td>1</td>\n",
       "      <td>1</td>\n",
       "      <td>65.0</td>\n",
       "      <td>82.0</td>\n",
       "      <td>81.0</td>\n",
       "    </tr>\n",
       "    <tr>\n",
       "      <th>940</th>\n",
       "      <td>2</td>\n",
       "      <td>3</td>\n",
       "      <td>0</td>\n",
       "      <td>0</td>\n",
       "      <td>72.0</td>\n",
       "      <td>66.0</td>\n",
       "      <td>72.0</td>\n",
       "    </tr>\n",
       "    <tr>\n",
       "      <th>734</th>\n",
       "      <td>4</td>\n",
       "      <td>4</td>\n",
       "      <td>0</td>\n",
       "      <td>1</td>\n",
       "      <td>53.0</td>\n",
       "      <td>58.0</td>\n",
       "      <td>57.0</td>\n",
       "    </tr>\n",
       "    <tr>\n",
       "      <th>167</th>\n",
       "      <td>1</td>\n",
       "      <td>3</td>\n",
       "      <td>0</td>\n",
       "      <td>0</td>\n",
       "      <td>58.0</td>\n",
       "      <td>76.0</td>\n",
       "      <td>78.0</td>\n",
       "    </tr>\n",
       "  </tbody>\n",
       "</table>\n",
       "</div>"
      ],
      "text/plain": [
       "     race.ethnicity  parental.level.of.education  lunch  \\\n",
       "466               3                            0      0   \n",
       "599               3                            5      1   \n",
       "940               2                            3      0   \n",
       "734               4                            4      0   \n",
       "167               1                            3      0   \n",
       "\n",
       "     test.preparation.course  math.score  reading.score  writing.score  \n",
       "466                        1        26.0           31.0           38.0  \n",
       "599                        1        65.0           82.0           81.0  \n",
       "940                        0        72.0           66.0           72.0  \n",
       "734                        1        53.0           58.0           57.0  \n",
       "167                        0        58.0           76.0           78.0  "
      ]
     },
     "execution_count": 420,
     "metadata": {},
     "output_type": "execute_result"
    }
   ],
   "source": [
    "X.sample(5)"
   ]
  },
  {
   "cell_type": "markdown",
   "metadata": {},
   "source": [
    "---\n",
    "## 4\n",
    "\n",
    "Обучите модель логистической регрессии на рассматриваемых данных из библиотеки `sklearn`.\n",
    "\n",
    "Рассчитайте метрики accuracy и выведите таблицу классификации.\n"
   ]
  },
  {
   "cell_type": "code",
   "execution_count": 421,
   "metadata": {},
   "outputs": [],
   "source": [
    "# Строим модель\n",
    "logreg = LogisticRegression()\n",
    "# Обучаем\n",
    "interval = time()\n",
    "logreg.fit(X, y)\n",
    "interval = time() - interval\n",
    "\n",
    "# Предсказываем новые данные\n",
    "y_pred = logreg.predict(X)"
   ]
  },
  {
   "cell_type": "code",
   "execution_count": 422,
   "metadata": {},
   "outputs": [
    {
     "name": "stdout",
     "output_type": "stream",
     "text": [
      "accuracy = 0.90\n",
      "\n",
      "Матрица классификации:\n"
     ]
    },
    {
     "data": {
      "text/html": [
       "<div>\n",
       "<style scoped>\n",
       "    .dataframe tbody tr th:only-of-type {\n",
       "        vertical-align: middle;\n",
       "    }\n",
       "\n",
       "    .dataframe tbody tr th {\n",
       "        vertical-align: top;\n",
       "    }\n",
       "\n",
       "    .dataframe thead th {\n",
       "        text-align: right;\n",
       "    }\n",
       "</style>\n",
       "<table border=\"1\" class=\"dataframe\">\n",
       "  <thead>\n",
       "    <tr style=\"text-align: right;\">\n",
       "      <th></th>\n",
       "      <th>0</th>\n",
       "      <th>1</th>\n",
       "    </tr>\n",
       "  </thead>\n",
       "  <tbody>\n",
       "    <tr>\n",
       "      <th>0</th>\n",
       "      <td>470</td>\n",
       "      <td>48</td>\n",
       "    </tr>\n",
       "    <tr>\n",
       "      <th>1</th>\n",
       "      <td>57</td>\n",
       "      <td>425</td>\n",
       "    </tr>\n",
       "  </tbody>\n",
       "</table>\n",
       "</div>"
      ],
      "text/plain": [
       "     0    1\n",
       "0  470   48\n",
       "1   57  425"
      ]
     },
     "execution_count": 422,
     "metadata": {},
     "output_type": "execute_result"
    }
   ],
   "source": [
    "ac_logistic = accuracy_score(y, y_pred)\n",
    "print(f'accuracy = {ac_logistic:.3f}')\n",
    "print('\\nМатрица классификации:')\n",
    "pd.DataFrame(confusion_matrix(y, y_pred))"
   ]
  },
  {
   "cell_type": "code",
   "execution_count": 423,
   "metadata": {},
   "outputs": [],
   "source": [
    "# Сохраняем данные о модели\n",
    "models_info[\"Логистическая регрессия\"] = {\n",
    "    \"Время обучения\": interval,\n",
    "    \"Точность\": ac_logistic,\n",
    "}"
   ]
  },
  {
   "cell_type": "markdown",
   "metadata": {},
   "source": [
    "---\n",
    "## 5\n",
    "Обучите полиномиальную модель классификации.\n",
    "\n",
    "Рассчитайте метрики accuracy и выведите таблицу классификации.\n",
    "\n",
    "Попробуйте разные степени полинома и выберите ту, которая работает лучше."
   ]
  },
  {
   "cell_type": "code",
   "execution_count": 424,
   "metadata": {},
   "outputs": [
    {
     "name": "stdout",
     "output_type": "stream",
     "text": [
      "--------------------\n",
      "Модель 1-й степени полинома\n",
      "accuracy = 0.89\n",
      "\n",
      "Матрица классификации:\n",
      "     0    1\n",
      "0  469   49\n",
      "1   58  424\n",
      "--------------------\n",
      "Модель 2-й степени полинома\n",
      "accuracy = 0.89\n",
      "\n",
      "Матрица классификации:\n",
      "     0    1\n",
      "0  469   49\n",
      "1   57  425\n",
      "--------------------\n",
      "Модель 3-й степени полинома\n",
      "accuracy = 0.90\n",
      "\n",
      "Матрица классификации:\n",
      "     0    1\n",
      "0  466   52\n",
      "1   51  431\n",
      "--------------------\n",
      "Модель 4-й степени полинома\n",
      "accuracy = 0.90\n",
      "\n",
      "Матрица классификации:\n",
      "     0    1\n",
      "0  471   47\n",
      "1   56  426\n",
      "--------------------\n",
      "Модель 5-й степени полинома\n",
      "accuracy = 0.89\n",
      "\n",
      "Матрица классификации:\n",
      "     0    1\n",
      "0  469   49\n",
      "1   58  424\n",
      "--------------------\n",
      "Модель 6-й степени полинома\n",
      "accuracy = 0.89\n",
      "\n",
      "Матрица классификации:\n",
      "     0    1\n",
      "0  471   47\n",
      "1   63  419\n",
      "--------------------\n",
      "Модель 7-й степени полинома\n",
      "accuracy = 0.89\n",
      "\n",
      "Матрица классификации:\n",
      "     0    1\n",
      "0  466   52\n",
      "1   55  427\n",
      "--------------------\n",
      "Модель 8-й степени полинома\n",
      "accuracy = 0.88\n",
      "\n",
      "Матрица классификации:\n",
      "     0    1\n",
      "0  471   47\n",
      "1   69  413\n",
      "--------------------\n",
      "Модель 9-й степени полинома\n",
      "accuracy = 0.88\n",
      "\n",
      "Матрица классификации:\n",
      "     0    1\n",
      "0  484   34\n",
      "1   82  400\n"
     ]
    }
   ],
   "source": [
    "ac_poly = 0\n",
    "\n",
    "for n in range(9):\n",
    "    # Создаем модель логистической регрессии\n",
    "    logreg = LogisticRegression()\n",
    "\n",
    "    # Объединяем ее с полиномиальной предобработкой\n",
    "    X_poly = PolynomialFeatures(degree=n+1)\n",
    "    model = make_pipeline(X_poly, logreg)\n",
    "\n",
    "    # Обучаем модель\n",
    "    interval = time()\n",
    "    model.fit(X, y)\n",
    "    interval = time() - interval\n",
    "    # Предсказываем новые данные\n",
    "    y_pred = model.predict(X)\n",
    "    ac = accuracy_score(y, y_pred)\n",
    "    if ac > ac_poly:\n",
    "        ac_poly = ac\n",
    "        inter = interval\n",
    "\n",
    "    print('-'*20)\n",
    "    print(f'Модель {n+1}-й степени полинома')\n",
    "    print(f'accuracy = {ac:.3f}')\n",
    "    print('\\nМатрица классификации:')\n",
    "    print(pd.DataFrame(confusion_matrix(y, y_pred)))\n"
   ]
  },
  {
   "cell_type": "markdown",
   "metadata": {},
   "source": [
    "Результаты почти одинаковые, но наилучший у 3-й и 4-й степени полинома"
   ]
  },
  {
   "cell_type": "code",
   "execution_count": 425,
   "metadata": {},
   "outputs": [],
   "source": [
    "# Сохраняем данные о модели\n",
    "models_info[\"Полиномиальная регрессия\"] = {\n",
    "    \"Время обучения\": interval,\n",
    "    \"Точность\": ac_poly,\n",
    "}"
   ]
  },
  {
   "cell_type": "markdown",
   "metadata": {},
   "source": [
    "---\n",
    "## 6\n",
    "Обучите модель классификации по методу опорных векторов.\n",
    "\n",
    "Рассчитайте метрики accuracy и выведите таблицу классификации.\n",
    "\n",
    "Попробуйте разные ядерные функции и выберите ту, которая работает лучше.\n"
   ]
  },
  {
   "cell_type": "code",
   "execution_count": 426,
   "metadata": {},
   "outputs": [
    {
     "name": "stdout",
     "output_type": "stream",
     "text": [
      "\n",
      "\n",
      "--------------------\n",
      "Ядро модели - linear\n",
      "accuracy = 0.90\n",
      "\n",
      "Матрица классификации:\n",
      "     0    1\n",
      "0  469   49\n",
      "1   56  426\n",
      "\n",
      "\n",
      "--------------------\n",
      "Ядро модели - poly\n",
      "accuracy = 0.88\n",
      "\n",
      "Матрица классификации:\n",
      "     0    1\n",
      "0  455   63\n",
      "1   62  420\n",
      "\n",
      "\n",
      "--------------------\n",
      "Ядро модели - rbf\n",
      "accuracy = 0.88\n",
      "\n",
      "Матрица классификации:\n",
      "     0    1\n",
      "0  465   53\n",
      "1   70  412\n",
      "\n",
      "\n",
      "--------------------\n",
      "Ядро модели - sigmoid\n",
      "accuracy = 0.45\n",
      "\n",
      "Матрица классификации:\n",
      "     0    1\n",
      "0  247  271\n",
      "1  276  206\n"
     ]
    }
   ],
   "source": [
    "ac_svc = 0\n",
    "for ker in [\"linear\", \"poly\", \"rbf\", \"sigmoid\"]:\n",
    "    # Строим модель\n",
    "    svm_linear = SVC(kernel=ker, max_iter=10_000)\n",
    "    # Обучаем модель\n",
    "    interval = time()\n",
    "    svm_linear.fit(X, y)\n",
    "    interval = time() - interval\n",
    "\n",
    "    # Предсказываем новые данные\n",
    "    y_pred = svm_linear.predict(X)\n",
    "\n",
    "    ac = accuracy_score(y, y_pred)\n",
    "    if ac > ac_poly:\n",
    "        ac_svc = ac\n",
    "        inter = interval\n",
    "\n",
    "    ac_svc = max(ac_svc, ac)\n",
    "    print('\\n\\n'+'-'*20)\n",
    "    print('Ядро модели -', ker)\n",
    "    print(f'accuracy = {ac:.3f}')\n",
    "    print('\\nМатрица классификации:')\n",
    "    print(pd.DataFrame(confusion_matrix(y, y_pred)))\n"
   ]
  },
  {
   "cell_type": "markdown",
   "metadata": {},
   "source": [
    "Лучше всего себя показала модель с линейным ядром"
   ]
  },
  {
   "cell_type": "code",
   "execution_count": 427,
   "metadata": {},
   "outputs": [],
   "source": [
    "# Сохраняем данные о модели\n",
    "models_info[\"Метод опорных векторов\"] = {\n",
    "    \"Время обучения\": interval,\n",
    "    \"Точность\": ac_svc,\n",
    "}"
   ]
  },
  {
   "cell_type": "markdown",
   "metadata": {},
   "source": [
    "---\n",
    "## 7\n",
    "\n",
    "Обучите модель классификации Перцептрон.\n",
    "\n",
    "Рассчитайте метрики accuracy и выведите таблицу классификации. \n"
   ]
  },
  {
   "cell_type": "code",
   "execution_count": 428,
   "metadata": {},
   "outputs": [],
   "source": [
    "# Создаем модель\n",
    "clf = MLPClassifier()\n",
    "# Обучаем\n",
    "interval = time()\n",
    "clf.fit(X, y)\n",
    "interval = time() - interval\n",
    "\n",
    "# Предсказываем новые данные\n",
    "y_pred = clf.predict(X)"
   ]
  },
  {
   "cell_type": "code",
   "execution_count": 429,
   "metadata": {},
   "outputs": [
    {
     "name": "stdout",
     "output_type": "stream",
     "text": [
      "accuracy = 0.90\n",
      "\n",
      "Матрица классификации:\n"
     ]
    },
    {
     "data": {
      "text/html": [
       "<div>\n",
       "<style scoped>\n",
       "    .dataframe tbody tr th:only-of-type {\n",
       "        vertical-align: middle;\n",
       "    }\n",
       "\n",
       "    .dataframe tbody tr th {\n",
       "        vertical-align: top;\n",
       "    }\n",
       "\n",
       "    .dataframe thead th {\n",
       "        text-align: right;\n",
       "    }\n",
       "</style>\n",
       "<table border=\"1\" class=\"dataframe\">\n",
       "  <thead>\n",
       "    <tr style=\"text-align: right;\">\n",
       "      <th></th>\n",
       "      <th>0</th>\n",
       "      <th>1</th>\n",
       "    </tr>\n",
       "  </thead>\n",
       "  <tbody>\n",
       "    <tr>\n",
       "      <th>0</th>\n",
       "      <td>473</td>\n",
       "      <td>45</td>\n",
       "    </tr>\n",
       "    <tr>\n",
       "      <th>1</th>\n",
       "      <td>57</td>\n",
       "      <td>425</td>\n",
       "    </tr>\n",
       "  </tbody>\n",
       "</table>\n",
       "</div>"
      ],
      "text/plain": [
       "     0    1\n",
       "0  473   45\n",
       "1   57  425"
      ]
     },
     "execution_count": 429,
     "metadata": {},
     "output_type": "execute_result"
    }
   ],
   "source": [
    "ac_perc = accuracy_score(y, y_pred)\n",
    "print(f'accuracy = {ac_perc:.3f}')\n",
    "print('\\nМатрица классификации:')\n",
    "pd.DataFrame(confusion_matrix(y, y_pred))"
   ]
  },
  {
   "cell_type": "code",
   "execution_count": 430,
   "metadata": {},
   "outputs": [],
   "source": [
    "# Сохраняем данные о модели\n",
    "models_info[\"Персептрон\"] = {\n",
    "    \"Время обучения\": interval,\n",
    "    \"Точность\": ac_perc,\n",
    "}"
   ]
  },
  {
   "cell_type": "markdown",
   "metadata": {},
   "source": [
    "---\n",
    "## 8\n",
    "Выведите итоговую таблицу сравнения всех моделей.\n",
    "\n",
    "В таблице должна быть информация о эффективности и времени обучения каждой модели.\n",
    "\n",
    "Сделайте вывод о применимости и эффективности моделей для классификации объектов в данной задаче.\n"
   ]
  },
  {
   "cell_type": "code",
   "execution_count": 431,
   "metadata": {},
   "outputs": [
    {
     "data": {
      "text/html": [
       "<div>\n",
       "<style scoped>\n",
       "    .dataframe tbody tr th:only-of-type {\n",
       "        vertical-align: middle;\n",
       "    }\n",
       "\n",
       "    .dataframe tbody tr th {\n",
       "        vertical-align: top;\n",
       "    }\n",
       "\n",
       "    .dataframe thead th {\n",
       "        text-align: right;\n",
       "    }\n",
       "</style>\n",
       "<table border=\"1\" class=\"dataframe\">\n",
       "  <thead>\n",
       "    <tr style=\"text-align: right;\">\n",
       "      <th></th>\n",
       "      <th>Логистическая регрессия</th>\n",
       "      <th>Полиномиальная регрессия</th>\n",
       "      <th>Метод опорных векторов</th>\n",
       "      <th>Персептрон</th>\n",
       "    </tr>\n",
       "  </thead>\n",
       "  <tbody>\n",
       "    <tr>\n",
       "      <th>Время обучения</th>\n",
       "      <td>0.018</td>\n",
       "      <td>1.846155</td>\n",
       "      <td>0.052537</td>\n",
       "      <td>1.040964</td>\n",
       "    </tr>\n",
       "    <tr>\n",
       "      <th>Точность</th>\n",
       "      <td>0.895</td>\n",
       "      <td>0.897000</td>\n",
       "      <td>0.895000</td>\n",
       "      <td>0.898000</td>\n",
       "    </tr>\n",
       "  </tbody>\n",
       "</table>\n",
       "</div>"
      ],
      "text/plain": [
       "                Логистическая регрессия  Полиномиальная регрессия  \\\n",
       "Время обучения                    0.018                  1.846155   \n",
       "Точность                          0.895                  0.897000   \n",
       "\n",
       "                Метод опорных векторов  Персептрон  \n",
       "Время обучения                0.052537    1.040964  \n",
       "Точность                      0.895000    0.898000  "
      ]
     },
     "execution_count": 431,
     "metadata": {},
     "output_type": "execute_result"
    }
   ],
   "source": [
    "pd.DataFrame(models_info)"
   ]
  },
  {
   "cell_type": "markdown",
   "metadata": {},
   "source": [
    "На основе полученных результатов можно сделать вывод, что все модели хорошо себя показали, но самой быстрой оказалась логистическая регрессия, а самой точной - персептрон"
   ]
  }
 ],
 "metadata": {
  "kernelspec": {
   "display_name": "Python 3",
   "language": "python",
   "name": "python3"
  },
  "language_info": {
   "codemirror_mode": {
    "name": "ipython",
    "version": 3
   },
   "file_extension": ".py",
   "mimetype": "text/x-python",
   "name": "python",
   "nbconvert_exporter": "python",
   "pygments_lexer": "ipython3",
   "version": "3.11.0"
  }
 },
 "nbformat": 4,
 "nbformat_minor": 2
}
