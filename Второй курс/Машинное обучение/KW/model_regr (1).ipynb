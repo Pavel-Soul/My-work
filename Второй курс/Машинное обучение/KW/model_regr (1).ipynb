{
 "cells": [
  {
   "cell_type": "markdown",
   "id": "661a9cee",
   "metadata": {},
   "source": [
    "# Тема: Модели регрессии"
   ]
  },
  {
   "cell_type": "markdown",
   "id": "1febeaa7",
   "metadata": {},
   "source": [
    "#### Цель работы\n",
    "\n",
    "Познакомиться с основными приемами работы с моделями регрессии в scikit-learn.\n",
    "\n",
    "#### Задания для выполнения\n",
    "\n",
    "1. Загрузите встроенные датасет о ценах на недвижимость в Калифорнии.\n",
    "2. Постройте модель регрессии для предсказания цены конкретного объекта.\n",
    "3. Оцените качество построенной модели с помощью коэффициента детерминации.\n",
    "4. Постройте альтернативную полиномиальную модель, сравните ее с предыдущей.\n"
   ]
  },
  {
   "cell_type": "code",
   "execution_count": 36,
   "id": "1f70c954",
   "metadata": {},
   "outputs": [],
   "source": [
    "import numpy as np\n",
    "import matplotlib.pyplot as plt \n",
    "import pandas as pd\n",
    "\n",
    "from sklearn.linear_model import LinearRegression\n",
    "from sklearn.metrics import r2_score, mean_squared_error\n",
    "from sklearn.preprocessing import PolynomialFeatures\n",
    "from sklearn.datasets import fetch_california_housing"
   ]
  },
  {
   "cell_type": "code",
   "execution_count": 64,
   "id": "500d84d3",
   "metadata": {},
   "outputs": [],
   "source": [
    "from sklearn.datasets import load_diabetes"
   ]
  },
  {
   "cell_type": "code",
   "execution_count": 61,
   "id": "51dabdf5",
   "metadata": {},
   "outputs": [],
   "source": [
    "from sklearn.svm import SVR\n",
    "from sklearn.neighbors import KNeighborsRegressor\n",
    "from sklearn.tree import DecisionTreeRegressor\n",
    "from sklearn.neural_network import MLPRegressor"
   ]
  },
  {
   "cell_type": "markdown",
   "id": "b9d442f1",
   "metadata": {},
   "source": [
    "## 1. Загрузите встроенные датасет о ценах на недвижимость в Калифорнии."
   ]
  },
  {
   "cell_type": "code",
   "execution_count": null,
   "id": "94a4b864",
   "metadata": {},
   "outputs": [],
   "source": []
  },
  {
   "cell_type": "markdown",
   "id": "d5849cab",
   "metadata": {},
   "source": [
    "## 2. Постройте модель регрессии для предсказания цены конкретного объекта."
   ]
  },
  {
   "cell_type": "code",
   "execution_count": null,
   "id": "ca899c5d",
   "metadata": {},
   "outputs": [],
   "source": []
  },
  {
   "cell_type": "markdown",
   "id": "98f95770",
   "metadata": {},
   "source": [
    "## 3. Оцените качество построенной модели с помощью визуализации и коэффициента детерминации."
   ]
  },
  {
   "cell_type": "code",
   "execution_count": null,
   "id": "35eb03d5",
   "metadata": {},
   "outputs": [],
   "source": []
  },
  {
   "cell_type": "markdown",
   "id": "2622f721",
   "metadata": {},
   "source": [
    "## 4. Постройте альтернативную полиномиальную модель, сравните ее с предыдущей."
   ]
  },
  {
   "cell_type": "code",
   "execution_count": null,
   "id": "56db5b4a",
   "metadata": {},
   "outputs": [],
   "source": []
  }
 ],
 "metadata": {
  "kernelspec": {
   "display_name": "Python 3 (ipykernel)",
   "language": "python",
   "name": "python3"
  },
  "language_info": {
   "codemirror_mode": {
    "name": "ipython",
    "version": 3
   },
   "file_extension": ".py",
   "mimetype": "text/x-python",
   "name": "python",
   "nbconvert_exporter": "python",
   "pygments_lexer": "ipython3",
   "version": "3.10.9"
  }
 },
 "nbformat": 4,
 "nbformat_minor": 5
}
