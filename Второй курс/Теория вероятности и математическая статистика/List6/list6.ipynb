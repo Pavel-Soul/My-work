{
 "cells": [
  {
   "cell_type": "code",
   "execution_count": 19,
   "metadata": {},
   "outputs": [],
   "source": [
    "import numpy as np\n",
    "from math import e, factorial, log"
   ]
  },
  {
   "cell_type": "markdown",
   "metadata": {},
   "source": [
    "---\n",
    "## 6.1"
   ]
  },
  {
   "cell_type": "code",
   "execution_count": 2,
   "metadata": {},
   "outputs": [],
   "source": [
    "xi = np.array([0, 1, 2, 3, 4, 5, 6, 7, 8, 9, 10])\n",
    "ni = np.array([146, 97, 73, 34, 23, 10, 6, 3, 4, 2, 2])"
   ]
  },
  {
   "cell_type": "code",
   "execution_count": 3,
   "metadata": {},
   "outputs": [
    {
     "data": {
      "text/plain": [
       "1.535"
      ]
     },
     "execution_count": 3,
     "metadata": {},
     "output_type": "execute_result"
    }
   ],
   "source": [
    "lambd = sum(xi*ni)/sum(ni)\n",
    "lambd\n",
    "# Параметр λ"
   ]
  },
  {
   "cell_type": "markdown",
   "metadata": {},
   "source": [
    "Для распределения Пуассона:\n",
    "\n",
    "$P(X = k) = \\dfrac{e^{-λ} * λ^k}{k!}$\n",
    "\n",
    "где k - число сделок, λ - параметр распределения."
   ]
  },
  {
   "cell_type": "code",
   "execution_count": 4,
   "metadata": {},
   "outputs": [
    {
     "data": {
      "text/plain": [
       "0.4538198228847038"
      ]
     },
     "execution_count": 4,
     "metadata": {},
     "output_type": "execute_result"
    }
   ],
   "source": [
    "# Методом моментов\n",
    "\n",
    "# P(X ≥ 2) = 1 - P(X < 2)\n",
    "# P(X < 2) = P(X = 0) + P(X = 1)\n",
    "def P(k, lambd=lambd):\n",
    "    return e**-lambd * lambd**k / factorial(k)\n",
    "\n",
    "1 - sum(P(i) for i in [0, 1])"
   ]
  },
  {
   "cell_type": "code",
   "execution_count": 5,
   "metadata": {},
   "outputs": [
    {
     "data": {
      "text/plain": [
       "0.3925"
      ]
     },
     "execution_count": 5,
     "metadata": {},
     "output_type": "execute_result"
    }
   ],
   "source": [
    "# По таблице\n",
    "ni[xi >= 2].sum()/400\n",
    "# 37%"
   ]
  },
  {
   "cell_type": "markdown",
   "metadata": {},
   "source": [
    "---\n",
    "## 6.2"
   ]
  },
  {
   "cell_type": "markdown",
   "metadata": {},
   "source": [
    "Математическое ожидание (первый момент):\\\n",
    "$E(X) = \\dfrac{a + b}{2}$\n",
    "\n",
    "Дисперсия (второй момент):\\\n",
    "$Var(X) = \\dfrac{(b - a)^2}{12}$\n",
    "\n",
    "Теперь мы можем использовать эти выражения для оценки параметров a и b.\n",
    "\n",
    "---\n",
    "**Оценка параметра a:**\n",
    "\n",
    "Используем первый момент (математическое ожидание) для оценки параметра a:\\\n",
    "$E(X) = \\dfrac{a + b}{2}$\\\n",
    "Решим это уравнение относительно a:\\\n",
    "$a = 2 \\cdot E(X) - b$\n",
    "\n",
    "---\n",
    "**Оценка параметра b:**\n",
    "\n",
    "Используем второй момент (дисперсия) для оценки параметра b:\\\n",
    "$Var(X) = \\dfrac{(b - a)^2}{12}$\n",
    "\n",
    "Подставим оценку a из шага 1 в это уравнение и решим его относительно b:\\\n",
    "$Var(X) = \\dfrac{(b - (2 \\cdot E(X) - b))^2}{12} = \\dfrac{(b - E(X))^2}{3}$"
   ]
  },
  {
   "cell_type": "markdown",
   "metadata": {},
   "source": [
    "---\n",
    "## 6.3"
   ]
  },
  {
   "cell_type": "code",
   "execution_count": 6,
   "metadata": {},
   "outputs": [],
   "source": [
    "xi = np.array([4.55, 11.55, 18.55, 25.55, 32.55, 39.55, 46.55, 53.55, 60.55])\n",
    "ni = np.array([219, 98, 50, 25, 17, 7, 2, 4, 1])"
   ]
  },
  {
   "cell_type": "code",
   "execution_count": 69,
   "metadata": {},
   "outputs": [],
   "source": [
    "def func(x, t, lambd):\n",
    "    return lambd * e ** (-lambd * (x - t))"
   ]
  },
  {
   "cell_type": "code",
   "execution_count": 70,
   "metadata": {},
   "outputs": [
    {
     "data": {
      "text/plain": [
       "11.566548463356975"
      ]
     },
     "execution_count": 70,
     "metadata": {},
     "output_type": "execute_result"
    }
   ],
   "source": [
    "# Мат ожидание\n",
    "E = sum(xi*ni)/sum(ni)\n",
    "E"
   ]
  },
  {
   "cell_type": "code",
   "execution_count": 71,
   "metadata": {},
   "outputs": [
    {
     "data": {
      "text/plain": [
       "101.59074269682384"
      ]
     },
     "execution_count": 71,
     "metadata": {},
     "output_type": "execute_result"
    }
   ],
   "source": [
    "# Дисперсия\n",
    "V = sum(xi**2*ni)/sum(ni) - E**2\n",
    "V"
   ]
  },
  {
   "cell_type": "code",
   "execution_count": 73,
   "metadata": {},
   "outputs": [
    {
     "data": {
      "text/plain": [
       "0.09921399382041826"
      ]
     },
     "execution_count": 73,
     "metadata": {},
     "output_type": "execute_result"
    }
   ],
   "source": [
    "# Параметр λ\n",
    "lambd = 1/V**0.5\n",
    "lambd"
   ]
  },
  {
   "cell_type": "code",
   "execution_count": 74,
   "metadata": {},
   "outputs": [
    {
     "data": {
      "text/plain": [
       "1.487325145222595"
      ]
     },
     "execution_count": 74,
     "metadata": {},
     "output_type": "execute_result"
    }
   ],
   "source": [
    "# Параметр 𝜏\n",
    "t = E - 1/lambd\n",
    "t"
   ]
  },
  {
   "cell_type": "markdown",
   "metadata": {},
   "source": [
    "---\n",
    "### А вот дальше я не понял, что не так"
   ]
  },
  {
   "cell_type": "code",
   "execution_count": 75,
   "metadata": {},
   "outputs": [
    {
     "data": {
      "text/plain": [
       "0.00996638161854642"
      ]
     },
     "execution_count": 75,
     "metadata": {},
     "output_type": "execute_result"
    }
   ],
   "source": [
    "# Вроде, подставив в уравнение ответ, мы должны получить 0.9066\n",
    "# Но не получаем\n",
    "lambd * e ** (-lambd * (24.65 - t))"
   ]
  },
  {
   "cell_type": "code",
   "execution_count": 76,
   "metadata": {},
   "outputs": [
    {
     "data": {
      "text/plain": [
       "-20.812172962185457"
      ]
     },
     "execution_count": 76,
     "metadata": {},
     "output_type": "execute_result"
    }
   ],
   "source": [
    "# lambd * e ** (-lambd * (x - t)) = 0.9066\n",
    "# e ** (-lambd * (x - t)) = 0.9066 / lambd\n",
    "# -lambd * (x - t) = ln(0.9066 / lambd)\n",
    "# x - t = ln(0.9066 / lambd) / -lambd\n",
    "# x = ln(0.9066 / lambd) / -lambd + t\n",
    "x = log(0.9066 / lambd) / -lambd + t\n",
    "x"
   ]
  },
  {
   "cell_type": "code",
   "execution_count": 83,
   "metadata": {},
   "outputs": [
    {
     "data": {
      "text/plain": [
       "0.00859907056349321"
      ]
     },
     "execution_count": 83,
     "metadata": {},
     "output_type": "execute_result"
    }
   ],
   "source": [
    "lambd*e**(-lambd*24.65)"
   ]
  }
 ],
 "metadata": {
  "kernelspec": {
   "display_name": "Python 3",
   "language": "python",
   "name": "python3"
  },
  "language_info": {
   "codemirror_mode": {
    "name": "ipython",
    "version": 3
   },
   "file_extension": ".py",
   "mimetype": "text/x-python",
   "name": "python",
   "nbconvert_exporter": "python",
   "pygments_lexer": "ipython3",
   "version": "3.11.0"
  },
  "orig_nbformat": 4
 },
 "nbformat": 4,
 "nbformat_minor": 2
}
