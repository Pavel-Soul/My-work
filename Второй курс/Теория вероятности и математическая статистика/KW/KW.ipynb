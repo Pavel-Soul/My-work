{
 "cells": [
  {
   "cell_type": "markdown",
   "metadata": {},
   "source": [
    "---\n",
    "# 1\n",
    "\n",
    "В группе учится 29 студентов. Ими были получены следующие 100-балльные оценки: 90, 79, 53, 62, 66, 68, 75, 0, 82, 29, 0, 29, 68, 90, 0, 60, 44, 44, 70, 68, 70, 89, 0, 68, 0, 66, 0, 59, 70.\n",
    "\n",
    "Найдите: \n",
    "\n",
    "1) A – среднюю положительную оценку в группе; \n",
    "2) M – медиану положительных оценок в группе; \n",
    "3) H – среднее гармоническое и G – среднее геометрическое оценок, которые не менее M; \n",
    "4) Q – медианную оценку в той части группы, в которой студенты набрали не менее M баллов; \n",
    "5) N – количество студентов, оценки которых оказались между H и Q (включая границы)."
   ]
  },
  {
   "cell_type": "code",
   "execution_count": 26,
   "metadata": {},
   "outputs": [],
   "source": [
    "import numpy as np\n",
    "from scipy.stats import gmean, hmean"
   ]
  },
  {
   "cell_type": "code",
   "execution_count": 27,
   "metadata": {},
   "outputs": [],
   "source": [
    "data = np.array([90, 79, 53, 62, 66, 68, 75, 0, 82, 29, 0, 29, 68, 90, 0, 60, 44, 44, 70, 68, 70, 89, 0, 68, 0, 66, 0, 59, 70])"
   ]
  },
  {
   "cell_type": "code",
   "execution_count": 28,
   "metadata": {},
   "outputs": [
    {
     "data": {
      "text/plain": [
       "65.17391304347827"
      ]
     },
     "execution_count": 28,
     "metadata": {},
     "output_type": "execute_result"
    }
   ],
   "source": [
    "A = data[data > 0].mean()\n",
    "A"
   ]
  },
  {
   "cell_type": "code",
   "execution_count": 29,
   "metadata": {},
   "outputs": [
    {
     "data": {
      "text/plain": [
       "68.0"
      ]
     },
     "execution_count": 29,
     "metadata": {},
     "output_type": "execute_result"
    }
   ],
   "source": [
    "M = np.median(data[data > 0])\n",
    "M"
   ]
  },
  {
   "cell_type": "code",
   "execution_count": 30,
   "metadata": {},
   "outputs": [
    {
     "data": {
      "text/plain": [
       "75.00337543461531"
      ]
     },
     "execution_count": 30,
     "metadata": {},
     "output_type": "execute_result"
    }
   ],
   "source": [
    "H = hmean(data[data >= M])\n",
    "H"
   ]
  },
  {
   "cell_type": "code",
   "execution_count": 31,
   "metadata": {},
   "outputs": [
    {
     "data": {
      "text/plain": [
       "75.45182859778731"
      ]
     },
     "execution_count": 31,
     "metadata": {},
     "output_type": "execute_result"
    }
   ],
   "source": [
    "G = gmean(data[data >= M])\n",
    "G"
   ]
  },
  {
   "cell_type": "code",
   "execution_count": 32,
   "metadata": {},
   "outputs": [
    {
     "data": {
      "text/plain": [
       "70.0"
      ]
     },
     "execution_count": 32,
     "metadata": {},
     "output_type": "execute_result"
    }
   ],
   "source": [
    "Q = np.median(data[data >= M])\n",
    "Q"
   ]
  },
  {
   "cell_type": "code",
   "execution_count": 33,
   "metadata": {},
   "outputs": [
    {
     "data": {
      "text/plain": [
       "4"
      ]
     },
     "execution_count": 33,
     "metadata": {},
     "output_type": "execute_result"
    }
   ],
   "source": [
    "N = len(data[(data <= H) & (data >= Q)])\n",
    "N"
   ]
  },
  {
   "cell_type": "markdown",
   "metadata": {},
   "source": [
    "---\n",
    "# 2\n",
    "Следующие 28 чисел – это умноженные на 10000 и округленные до ближайшего целого дневные логарифмические доходности акции компании АВС: -431, 491, -82, -48, -195, 120, -361, -53, -20, -550, 44, 64, -11, 98, -457, 135, -394, 163, 407, -62, -137, 198, 88, 151, 265, -137, -346, -466. \n",
    "\n",
    "Будем называть их преобразованными доходностями (ПД). \n",
    "\n",
    "Финансовый аналитик Глеб предполагает, что преобразованные доходности (как и исходные) приближенно распределены по нормальному закону. Чтобы проверить свое предположение Глеб нашел нижнюю квартиль L и верхнюю квартиль H нормального распределения N(μ,σ2), для которого μ\n",
    " – это среднее арифметическое ПД, а σ – эмпирическое стандартное отклонение ПД. Затем Глеб подсчитал количество ПД, попавших в интервал от L до H (надеясь, что в этот интервал попадет половина ПД). Результат этого вычисления показался ему недостаточно убедительным. Чтобы окончательно развеять сомнения относительно нормальности ПД, Глеб построил на одном рисунке графики функций: F^(x)\n",
    " и F(x)\n",
    ", где F^(x)\n",
    " – эмпирическая функция распределения ПД, а F(x)\n",
    " – функция распределения N(μ,σ2)\n",
    ". В качестве меры совпадения двух графиков Глеб решил использовать расстояние d\n",
    " между функциями F^(x)\n",
    " и F(x)\n",
    ", которое он вычислил, исходя из определения: d=sup|F^(x)−F(x)|\n",
    ". В ответе укажите результаты вычислений Глеба: 1) среднее арифметическое ПД; 2) эмпирическое стандартное отклонение ПД; 3) квартили L и H; 4) количество ПД, попавших в интервал от L до H; 5) расстояние между функциями F^(x)\n",
    " и F(x)\n",
    "."
   ]
  },
  {
   "cell_type": "code",
   "execution_count": 47,
   "metadata": {},
   "outputs": [
    {
     "name": "stdout",
     "output_type": "stream",
     "text": [
      "1) Среднее арифметическое ПД: 3.96\n",
      "2) Эмпирическое стандартное отклонение ПД: 108.65\n",
      "3) Квартиль L: -69.32\n",
      "   Квартиль H: 77.25\n",
      "4) Количество ПД, попавших в интервал от L до H: 13\n",
      "5) Расстояние между функциями F^(x) и F(x): 238.015\n"
     ]
    }
   ],
   "source": [
    "import numpy as np\n",
    "from scipy.stats import norm\n",
    "import matplotlib.pyplot as plt\n",
    "from statsmodels.distributions.empirical_distribution import ECDF\n",
    "\n",
    "values = [-9, 9, -138, -145, 186, 78, 34, -37, -19, -68, -82, 158, 96, -189, 24, 84, -99, 125, -39, 26, 62, -91, 239, -211, 2, 129, 2, -16]\n",
    "\n",
    "PD = np.mean(values)\n",
    "\n",
    "STD = np.std(values)\n",
    "\n",
    "L = norm.ppf(0.25, loc=PD, scale=STD)\n",
    "H = norm.ppf(0.75, loc=PD, scale=STD)\n",
    "\n",
    "# 4) Количество ПД, попавших в интервал от L до H\n",
    "count_in_range = sum((L <= values) & (values <= H))\n",
    "\n",
    "# 5) Расстояние между функциями F^(x) и F(x)\n",
    "# ecdf_ = ECDF(values)\n",
    "# arr = ecdf_.cdf.probabilities\n",
    "norm_cdf = norm.cdf(values, loc=PD, scale=STD)\n",
    "distance = np.max(np.abs(values - norm_cdf))\n",
    "# Вывод результатов\n",
    "print(\"1) Среднее арифметическое ПД:\", round(PD, 2))\n",
    "print(\"2) Эмпирическое стандартное отклонение ПД:\", round(STD, 2))\n",
    "print(\"3) Квартиль L:\", round(L, 2))\n",
    "print(\"   Квартиль H:\", round(H, 2))\n",
    "print(\"4) Количество ПД, попавших в интервал от L до H:\", count_in_range)\n",
    "print(\"5) Расстояние между функциями F^(x) и F(x):\", round(distance, 3))\n",
    "\n",
    " "
   ]
  },
  {
   "cell_type": "code",
   "execution_count": 44,
   "metadata": {},
   "outputs": [
    {
     "data": {
      "text/plain": [
       "['__call__',\n",
       " '__class__',\n",
       " '__delattr__',\n",
       " '__dict__',\n",
       " '__dir__',\n",
       " '__doc__',\n",
       " '__eq__',\n",
       " '__format__',\n",
       " '__ge__',\n",
       " '__getattribute__',\n",
       " '__getstate__',\n",
       " '__gt__',\n",
       " '__hash__',\n",
       " '__init__',\n",
       " '__init_subclass__',\n",
       " '__le__',\n",
       " '__lt__',\n",
       " '__module__',\n",
       " '__ne__',\n",
       " '__new__',\n",
       " '__reduce__',\n",
       " '__reduce_ex__',\n",
       " '__repr__',\n",
       " '__setattr__',\n",
       " '__sizeof__',\n",
       " '__str__',\n",
       " '__subclasshook__',\n",
       " '__weakref__',\n",
       " 'n',\n",
       " 'side',\n",
       " 'x',\n",
       " 'y']"
      ]
     },
     "execution_count": 44,
     "metadata": {},
     "output_type": "execute_result"
    }
   ],
   "source": [
    "dir(ecdf_)"
   ]
  }
 ],
 "metadata": {
  "kernelspec": {
   "display_name": "Python 3",
   "language": "python",
   "name": "python3"
  },
  "language_info": {
   "codemirror_mode": {
    "name": "ipython",
    "version": 3
   },
   "file_extension": ".py",
   "mimetype": "text/x-python",
   "name": "python",
   "nbconvert_exporter": "python",
   "pygments_lexer": "ipython3",
   "version": "3.11.0"
  },
  "orig_nbformat": 4
 },
 "nbformat": 4,
 "nbformat_minor": 2
}
