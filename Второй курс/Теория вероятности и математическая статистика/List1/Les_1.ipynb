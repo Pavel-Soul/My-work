{
 "cells": [
  {
   "cell_type": "code",
   "execution_count": 2,
   "metadata": {},
   "outputs": [],
   "source": [
    "import numpy as np\n",
    "from math import lcm"
   ]
  },
  {
   "cell_type": "code",
   "execution_count": 3,
   "metadata": {},
   "outputs": [],
   "source": [
    "from scipy.stats import rv_discrete"
   ]
  },
  {
   "cell_type": "code",
   "execution_count": 4,
   "metadata": {},
   "outputs": [],
   "source": [
    "table = np.array([\n",
    "    [1/6, 1/12, 1/6],\n",
    "    [1/6, 1/6, 1/4]\n",
    "])\n",
    "_l = lcm(*(1/table).astype(int).ravel())\n",
    "X = [-2, -1, 0]\n",
    "Y = [1, 2]\n",
    "\n",
    "data = []\n",
    "for x_n, x in enumerate(X):\n",
    "    for y_n, y in enumerate(Y):\n",
    "        # print(x, y)\n",
    "        v = round(1/table[y_n, x_n])\n",
    "        data.extend([(x, y)]*round(_l/v))\n",
    "\n",
    "data = np.array(data)"
   ]
  },
  {
   "cell_type": "code",
   "execution_count": 5,
   "metadata": {},
   "outputs": [
    {
     "data": {
      "text/plain": [
       "1.25"
      ]
     },
     "execution_count": 5,
     "metadata": {},
     "output_type": "execute_result"
    }
   ],
   "source": [
    "rv_discrete(values=[[1,2,3,4], [0.25, 0.25, 0.25, 0.25]]).var()"
   ]
  },
  {
   "cell_type": "code",
   "execution_count": 6,
   "metadata": {},
   "outputs": [],
   "source": [
    "class Test:\n",
    "    def __init__(self, X, Y, table):\n",
    "        table = np.array(table)\n",
    "        data = []\n",
    "        _l = lcm(*(1 / table).astype(int).ravel())\n",
    "        for x_n, x in enumerate(X):\n",
    "            for y_n, y in enumerate(Y):\n",
    "                v = round(1 / table[y_n, x_n])\n",
    "                data.extend([(x, y)] * round(_l / v))\n",
    "\n",
    "        self.data = np.array(data)\n",
    "    \n",
    "    def var(self):\n",
    "        rv_discrete(values=[])\n",
    "\n",
    "\n",
    "table = [[1 / 6, 1 / 12, 1 / 6], [1 / 6, 1 / 6, 1 / 4]]\n",
    "X = [-2, -1, 0]\n",
    "Y = [1, 2]\n",
    "t = Test(X, Y, table)\n",
    "# t = Test(1,2,3)"
   ]
  },
  {
   "cell_type": "markdown",
   "metadata": {},
   "source": [
    "# 6"
   ]
  },
  {
   "cell_type": "code",
   "execution_count": 7,
   "metadata": {},
   "outputs": [
    {
     "data": {
      "text/plain": [
       "(20.98415, 78.6748987775)"
      ]
     },
     "execution_count": 7,
     "metadata": {},
     "output_type": "execute_result"
    }
   ],
   "source": [
    "k = 100000\n",
    "np.random.seed(1223)\n",
    "d = (np.random.randint(1, 7, (36, k)) == 6).sum(0)\n",
    "\n",
    "data = [sum(np.random.randint(1, 7, t)) for t in d]\n",
    "\n",
    "np.mean(data), np.var(data)"
   ]
  },
  {
   "cell_type": "code",
   "execution_count": 8,
   "metadata": {},
   "outputs": [
    {
     "name": "stdout",
     "output_type": "stream",
     "text": [
      "Ожидаемое значение (математическое ожидание) S: 20.98881\n",
      "Дисперсия S: 78.41644478389998\n"
     ]
    }
   ],
   "source": [
    "import numpy as np\n",
    "\n",
    "# Количество игральных костей\n",
    "total_dice = 36\n",
    "\n",
    "# Количество бросков\n",
    "num_simulations = 100000  # Вы можете увеличить это число для более точных результатов\n",
    "\n",
    "# Список для хранения сумм очков S при каждой симуляции\n",
    "sums = []\n",
    "\n",
    "for _ in range(num_simulations):\n",
    "    # Бросаем все игральные кости в первый раз\n",
    "    first_throw = np.random.randint(1, 7, total_dice)\n",
    "    \n",
    "    # Подсчитываем, сколько раз выпало 6 очков\n",
    "    num_sixes = np.count_nonzero(first_throw == 6)\n",
    "    \n",
    "    # Бросаем только кости, на которых выпало 6 очков в первый раз\n",
    "    second_throw = np.random.randint(1, 7, num_sixes)\n",
    "    \n",
    "    # Вычисляем сумму очков S во второй раз\n",
    "    S = np.sum(second_throw)\n",
    "    \n",
    "    sums.append(S)\n",
    "\n",
    "# Находим ожидаемое значение (математическое ожидание) S\n",
    "expected_value = np.mean(sums)\n",
    "\n",
    "# Находим дисперсию S\n",
    "variance = np.var(sums)\n",
    "\n",
    "print(\"Ожидаемое значение (математическое ожидание) S:\", expected_value)\n",
    "print(\"Дисперсия S:\", variance)\n"
   ]
  },
  {
   "cell_type": "code",
   "execution_count": 100,
   "metadata": {},
   "outputs": [
    {
     "data": {
      "text/plain": [
       "(21.0125, 78.49514375)"
      ]
     },
     "execution_count": 100,
     "metadata": {},
     "output_type": "execute_result"
    }
   ],
   "source": [
    "t = rv_discrete(values=[range(1, 7), [1/6]*6])\n",
    "data = np.array([t.rvs(size=(t.rvs(size=36)==6).sum()).sum() for _ in range(10000)])\n",
    "data.mean(), data.var()"
   ]
  },
  {
   "cell_type": "code",
   "execution_count": null,
   "metadata": {},
   "outputs": [],
   "source": []
  },
  {
   "cell_type": "markdown",
   "metadata": {},
   "source": [
    "Мат ожидание количества шестерок при броске 36 кубиков - среднее значение количество всех чисел равно, всего их 6, 36/6 = 6 (среднее кол-во шестерок)"
   ]
  },
  {
   "cell_type": "markdown",
   "metadata": {},
   "source": [
    "Мат ожидание суммы на n кубиках - 3.5 * n"
   ]
  },
  {
   "cell_type": "markdown",
   "metadata": {},
   "source": [
    "6 * 3.5 = 21 (Мат ожидание общей суммы)"
   ]
  },
  {
   "cell_type": "markdown",
   "metadata": {},
   "source": [
    "# 7"
   ]
  },
  {
   "cell_type": "code",
   "execution_count": 10,
   "metadata": {},
   "outputs": [],
   "source": [
    "# Среднее кол-во бросков\n",
    "k = 1\n",
    "while round(1/6 * sum((5/6)**n for n in range(k)), 4) != 1:\n",
    "    k += 1"
   ]
  },
  {
   "cell_type": "code",
   "execution_count": 112,
   "metadata": {},
   "outputs": [
    {
     "data": {
      "text/plain": [
       "6.000000000000002"
      ]
     },
     "execution_count": 112,
     "metadata": {},
     "output_type": "execute_result"
    }
   ],
   "source": [
    "sum((5/6)**i*1/6 * (i+1) for i in range(10000))"
   ]
  },
  {
   "cell_type": "code",
   "execution_count": 102,
   "metadata": {},
   "outputs": [
    {
     "name": "stdout",
     "output_type": "stream",
     "text": [
      "0.16666666666666666 0 0.0\n",
      "0.1388888888888889 1 0.48611111111111116\n",
      "0.11574074074074076 2 0.8101851851851853\n",
      "0.09645061728395064 3 1.0127314814814818\n",
      "0.0803755144032922 4 1.1252572016460909\n",
      "0.06697959533607684 5 1.1721429183813445\n",
      "0.0558163294467307 6 1.1721429183813448\n",
      "0.04651360787227558 7 1.1395833928707515\n",
      "0.038761339893562986 8 1.0853175170197635\n",
      "0.032301116577969156 9 1.0174851722060283\n"
     ]
    }
   ],
   "source": [
    "# Ожидание что получится с n-го раза\n",
    "for i in range(10):\n",
    "    print(t := (5/6)**i*1/6, i, t*3.5*i)"
   ]
  },
  {
   "cell_type": "markdown",
   "metadata": {},
   "source": [
    "$\\sum\\limits^{\\infty}_{k=1} (\\dfrac{5}{6})^k\\cdot \\dfrac{k}{6}\\cdot 3.5$"
   ]
  },
  {
   "cell_type": "code",
   "execution_count": 106,
   "metadata": {},
   "outputs": [
    {
     "data": {
      "text/plain": [
       "17.500000000000032"
      ]
     },
     "execution_count": 106,
     "metadata": {},
     "output_type": "execute_result"
    }
   ],
   "source": [
    "t = 1000\n",
    "sum((5/6)**i * i / 6 * 3.5 for i in range(t))"
   ]
  },
  {
   "cell_type": "code",
   "execution_count": 13,
   "metadata": {},
   "outputs": [
    {
     "data": {
      "text/plain": [
       "(14.98054, 280.2578213084)"
      ]
     },
     "execution_count": 13,
     "metadata": {},
     "output_type": "execute_result"
    }
   ],
   "source": [
    "from random import randint\n",
    "\n",
    "\n",
    "def test():\n",
    "    i = 0\n",
    "    while (t := randint(1, 6)) != 6:\n",
    "        i += t\n",
    "    return i\n",
    "\n",
    "t = 100000\n",
    "data = np.array([test() for _ in range(t)])\n",
    "data.mean(), data.var()"
   ]
  },
  {
   "cell_type": "code",
   "execution_count": 58,
   "metadata": {},
   "outputs": [],
   "source": [
    "import random\n",
    "\n",
    "\n",
    "def Y(y):\n",
    "    # Берем случайное число от 5 до 7 включительно\n",
    "    # y = random.randint(5, 7)\n",
    "    # Случайное число от 0 до y\n",
    "    return random.uniform(0, y)\n",
    "\n",
    "data = np.array([[Y(i) for i in [5,6,7]] for _ in range(1000000)])\n"
   ]
  },
  {
   "cell_type": "code",
   "execution_count": 59,
   "metadata": {},
   "outputs": [
    {
     "data": {
      "text/plain": [
       "3.2240177268564483"
      ]
     },
     "execution_count": 59,
     "metadata": {},
     "output_type": "execute_result"
    }
   ],
   "source": [
    "data.var()"
   ]
  },
  {
   "cell_type": "markdown",
   "metadata": {},
   "source": [
    "# 9"
   ]
  },
  {
   "cell_type": "code",
   "execution_count": 75,
   "metadata": {},
   "outputs": [
    {
     "data": {
      "text/plain": [
       "(3.49187, 20.310723903099998)"
      ]
     },
     "execution_count": 75,
     "metadata": {},
     "output_type": "execute_result"
    }
   ],
   "source": [
    "import random\n",
    "def test(*k):\n",
    "    s = 0\n",
    "    while random.randint(1, 6) not in k:\n",
    "        s += 1\n",
    "    return s\n",
    "\n",
    "\n",
    "data = np.array([[test(*i) for i in [[6], [5,6]]] for _ in range(100000)])\n",
    "data.mean(), data.var()"
   ]
  },
  {
   "cell_type": "code",
   "execution_count": null,
   "metadata": {},
   "outputs": [
    {
     "data": {
      "text/plain": [
       "1.5"
      ]
     },
     "execution_count": 58,
     "metadata": {},
     "output_type": "execute_result"
    }
   ],
   "source": [
    "data[data.sum(1)==1][:, 1].mean()"
   ]
  },
  {
   "cell_type": "code",
   "execution_count": null,
   "metadata": {},
   "outputs": [
    {
     "data": {
      "text/plain": [
       "-1.0"
      ]
     },
     "execution_count": 62,
     "metadata": {},
     "output_type": "execute_result"
    }
   ],
   "source": [
    "data[data[:, 1]==1][:, 0].mean()  # y = 1"
   ]
  },
  {
   "cell_type": "code",
   "execution_count": null,
   "metadata": {},
   "outputs": [
    {
     "data": {
      "text/plain": [
       "-0.8571428571428571"
      ]
     },
     "execution_count": 61,
     "metadata": {},
     "output_type": "execute_result"
    }
   ],
   "source": [
    "data[data[:, 1]==2][:, 0].mean()  # y = 1"
   ]
  },
  {
   "cell_type": "code",
   "execution_count": null,
   "metadata": {},
   "outputs": [
    {
     "data": {
      "text/plain": [
       "3.0"
      ]
     },
     "execution_count": 60,
     "metadata": {},
     "output_type": "execute_result"
    }
   ],
   "source": [
    "from math import factorial\n",
    "def C(n, k):\n",
    "    return factorial(n)/factorial(k)/factorial(n-k)\n",
    "\n",
    "C(3,2)"
   ]
  },
  {
   "cell_type": "code",
   "execution_count": null,
   "metadata": {},
   "outputs": [
    {
     "data": {
      "text/plain": [
       "1.75"
      ]
     },
     "execution_count": 64,
     "metadata": {},
     "output_type": "execute_result"
    }
   ],
   "source": [
    "1/6 * sum(sum(C(t, i)*i/(2**t) for i in range(1, t+1)) for t in range(1, 7))"
   ]
  },
  {
   "cell_type": "markdown",
   "metadata": {},
   "source": [
    "X = [-2, -1, 0]\n",
    "Y = [[1, 2]]\n",
    "X + Y\n"
   ]
  }
 ],
 "metadata": {
  "kernelspec": {
   "display_name": "Python 3",
   "language": "python",
   "name": "python3"
  },
  "language_info": {
   "codemirror_mode": {
    "name": "ipython",
    "version": 3
   },
   "file_extension": ".py",
   "mimetype": "text/x-python",
   "name": "python",
   "nbconvert_exporter": "python",
   "pygments_lexer": "ipython3",
   "version": "3.11.0"
  },
  "orig_nbformat": 4
 },
 "nbformat": 4,
 "nbformat_minor": 2
}
