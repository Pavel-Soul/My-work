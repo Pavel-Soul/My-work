{
 "cells": [
  {
   "cell_type": "code",
   "execution_count": 61,
   "metadata": {},
   "outputs": [],
   "source": [
    "import numpy as np\n",
    "import matplotlib.pyplot as plt\n",
    "import seaborn as sns\n",
    "import numpy as np\n",
    "import scipy\n",
    "import sympy as sp"
   ]
  },
  {
   "cell_type": "code",
   "execution_count": 9,
   "metadata": {},
   "outputs": [],
   "source": [
    "from scipy.stats import skew, kurtosis, norm\n"
   ]
  },
  {
   "cell_type": "code",
   "execution_count": 10,
   "metadata": {},
   "outputs": [
    {
     "name": "stdout",
     "output_type": "stream",
     "text": [
      "X1: Mean = 5, Standard Deviation = 1\n",
      "X2: Mean = -7, Standard Deviation = 2\n",
      "X3: Mean = 4, Standard Deviation = 0.500000000000000\n",
      "X4: Mean = 9, Standard Deviation = 3\n",
      "X5: Mean = -0.150000000000000, Standard Deviation = 0.100000000000000\n"
     ]
    }
   ],
   "source": [
    "from sympy import symbols\n",
    "from sympy.stats import Normal, density, E, std\n",
    "\n",
    "# Определяем символьные переменные\n",
    "X1, X2, X3, X4, X5 = symbols(\"X1 X2 X3 X4 X5\")\n",
    "\n",
    "# Задаем параметры нормальных распределений\n",
    "mu = [5, -7, 4, 9, -0.15]  # Средние значения для каждой компоненты\n",
    "sigma = [1, 2, 0.5, 3, 0.1]  # Стандартные отклонения для каждой компоненты\n",
    "\n",
    "# Определяем нормальные случайные переменные\n",
    "X1_var = Normal(\"X1\", mu[0], sigma[0])\n",
    "X2_var = Normal(\"X2\", mu[1], sigma[1])\n",
    "X3_var = Normal(\"X3\", mu[2], sigma[2])\n",
    "X4_var = Normal(\"X4\", mu[3], sigma[3])\n",
    "X5_var = Normal(\"X5\", mu[4], sigma[4])\n",
    "\n",
    "# Создаем вектор случайных переменных\n",
    "random_vector = [X1_var, X2_var, X3_var, X4_var, X5_var]\n",
    "\n",
    "# Выводим параметры случайных переменных\n",
    "for var, mean, std_dev in zip(random_vector, mu, sigma):\n",
    "    print(f\"{var}: Mean = {E(var)}, Standard Deviation = {std(var)}\")"
   ]
  },
  {
   "cell_type": "markdown",
   "metadata": {},
   "source": [
    "---\n",
    "\n",
    "# 2.4\n"
   ]
  },
  {
   "cell_type": "code",
   "execution_count": 11,
   "metadata": {},
   "outputs": [],
   "source": [
    "from scipy.stats import uniform, expon\n"
   ]
  },
  {
   "cell_type": "code",
   "execution_count": 12,
   "metadata": {},
   "outputs": [
    {
     "data": {
      "text/latex": [
       "$\\displaystyle \\frac{\\int\\limits_{-\\infty}^{\\infty} e^{- x^{2} - 3 x y - 6 x - \\frac{5 y^{2}}{2} - 10 y - 10}\\, dy}{2 \\pi}$"
      ],
      "text/plain": [
       "Integral(e**(-x**2 - 3*x*y - 6*x - 5*y**2/2 - 10*y - 10), (y, -oo, oo))/(2*pi)"
      ]
     },
     "execution_count": 12,
     "metadata": {},
     "output_type": "execute_result"
    }
   ],
   "source": [
    "from sympy import *\n",
    "from sympy.abc import x, y\n",
    "\n",
    "t = integrate(\"1/(2*pi) * e**(-x**2-3*x*y-5/2*y**2-6*x-10*y-10)\", (y, -oo, oo))\n",
    "t"
   ]
  },
  {
   "cell_type": "code",
   "execution_count": 13,
   "metadata": {},
   "outputs": [
    {
     "ename": "NameError",
     "evalue": "name 'itegraee' is not defined",
     "output_type": "error",
     "traceback": [
      "\u001b[1;31m---------------------------------------------------------------------------\u001b[0m",
      "\u001b[1;31mNameError\u001b[0m                                 Traceback (most recent call last)",
      "\u001b[1;32md:\\Университет\\Второй курс\\TVMS\\List3\\Les_3.ipynb Ячейка 7\u001b[0m line \u001b[0;36m1\n\u001b[1;32m----> <a href='vscode-notebook-cell:/d%3A/%D0%A3%D0%BD%D0%B8%D0%B2%D0%B5%D1%80%D1%81%D0%B8%D1%82%D0%B5%D1%82/%D0%92%D1%82%D0%BE%D1%80%D0%BE%D0%B9%20%D0%BA%D1%83%D1%80%D1%81/TVMS/List3/Les_3.ipynb#W6sZmlsZQ%3D%3D?line=0'>1</a>\u001b[0m itegraee\n",
      "\u001b[1;31mNameError\u001b[0m: name 'itegraee' is not defined"
     ]
    }
   ],
   "source": [
    "itegraee\n"
   ]
  },
  {
   "cell_type": "code",
   "execution_count": null,
   "metadata": {},
   "outputs": [
    {
     "data": {
      "text/plain": [
       "(0.30833862103993287, 0.10982443473874541)"
      ]
     },
     "execution_count": 147,
     "metadata": {},
     "output_type": "execute_result"
    }
   ],
   "source": [
    "a, b = 2, 5\n",
    "k = 10**4\n",
    "x = uniform.rvs(loc=a, scale=b - a, size=k)\n",
    "Y = expon.rvs(scale=1 / x, size=k)\n",
    "Y.mean(), Y.var()\n"
   ]
  },
  {
   "cell_type": "code",
   "execution_count": null,
   "metadata": {},
   "outputs": [
    {
     "data": {
      "text/plain": [
       "(0.3049028740334739, 0.10744469017393349)"
      ]
     },
     "execution_count": 155,
     "metadata": {},
     "output_type": "execute_result"
    }
   ],
   "source": [
    "a, b = 2, 5\n",
    "k = 10**4\n",
    "x = uniform(loc=a, scale=b - a).rvs(k)\n",
    "Y = expon(scale=1 / x).rvs(k)\n",
    "Y.mean(), Y.var()\n"
   ]
  },
  {
   "cell_type": "code",
   "execution_count": null,
   "metadata": {},
   "outputs": [
    {
     "data": {
      "text/plain": [
       "5.006800753243168"
      ]
     },
     "execution_count": 113,
     "metadata": {},
     "output_type": "execute_result"
    }
   ],
   "source": [
    "expon(a, b - a).rvs(100000).mean()"
   ]
  },
  {
   "cell_type": "markdown",
   "metadata": {},
   "source": [
    "---\n",
    "\n",
    "# 3.1\n"
   ]
  },
  {
   "cell_type": "code",
   "execution_count": null,
   "metadata": {},
   "outputs": [],
   "source": [
    "def ecscess(mas):\n",
    "    \"\"\"\n",
    "    Ищет эксцесс и четвертый эмпирический момент\n",
    "\n",
    "    Args:\n",
    "        mas (list): Список данных\n",
    "\n",
    "    Returns:\n",
    "        tuple: эксцесс, момент\n",
    "    \"\"\"\n",
    "    # 4-й имперический момент\n",
    "    m4 = (mas - mas.mean() ** 4).mean()\n",
    "\n",
    "    # Эксцесс\n",
    "    E = m4 / mas.var() ** 4\n",
    "\n",
    "    return E, m4"
   ]
  },
  {
   "cell_type": "code",
   "execution_count": null,
   "metadata": {},
   "outputs": [],
   "source": [
    "cosl = np.cos(np.arange(1, 101))\n",
    "sinl = np.sin(np.arange(1, 101))\n"
   ]
  },
  {
   "cell_type": "code",
   "execution_count": null,
   "metadata": {},
   "outputs": [
    {
     "data": {
      "text/plain": [
       "(-0.0012717101366042016, 0.7090008871157724)"
      ]
     },
     "execution_count": 89,
     "metadata": {},
     "output_type": "execute_result"
    }
   ],
   "source": [
    "# а\n",
    "sinl.mean(), sinl.std()\n"
   ]
  },
  {
   "cell_type": "code",
   "execution_count": null,
   "metadata": {},
   "outputs": [
    {
     "data": {
      "text/plain": [
       "(-0.019916540568111096, -0.0012717101392196672)"
      ]
     },
     "execution_count": 90,
     "metadata": {},
     "output_type": "execute_result"
    }
   ],
   "source": [
    "# б\n",
    "ecscess(sinl)\n"
   ]
  },
  {
   "cell_type": "code",
   "execution_count": null,
   "metadata": {},
   "outputs": [
    {
     "data": {
      "text/plain": [
       "0.005957063514864488"
      ]
     },
     "execution_count": 91,
     "metadata": {},
     "output_type": "execute_result"
    }
   ],
   "source": [
    "skew(sinl, bias=True)\n"
   ]
  },
  {
   "cell_type": "code",
   "execution_count": null,
   "metadata": {},
   "outputs": [
    {
     "data": {
      "text/plain": [
       "-1.5081297338390796"
      ]
     },
     "execution_count": 98,
     "metadata": {},
     "output_type": "execute_result"
    }
   ],
   "source": [
    "# Эксцесс\n",
    "kurtosis(sinl)\n"
   ]
  },
  {
   "cell_type": "code",
   "execution_count": null,
   "metadata": {},
   "outputs": [
    {
     "name": "stderr",
     "output_type": "stream",
     "text": [
      "c:\\Programs\\Python\\Python311\\Lib\\site-packages\\seaborn\\axisgrid.py:118: UserWarning: The figure layout has changed to tight\n",
      "  self._figure.tight_layout(*args, **kwargs)\n"
     ]
    },
    {
     "data": {
      "text/plain": [
       "<seaborn.axisgrid.FacetGrid at 0x20830b12850>"
      ]
     },
     "execution_count": 93,
     "metadata": {},
     "output_type": "execute_result"
    },
    {
     "data": {
      "image/png": "[encoded data removed]",
      "text/plain": [
       "<Figure size 500x500 with 1 Axes>"
      ]
     },
     "metadata": {},
     "output_type": "display_data"
    }
   ],
   "source": [
    "sns.displot(sinl, kde=True)\n"
   ]
  },
  {
   "cell_type": "code",
   "execution_count": null,
   "metadata": {},
   "outputs": [
    {
     "data": {
      "text/plain": [
       "[<matplotlib.lines.Line2D at 0x20831c01cd0>]"
      ]
     },
     "execution_count": 94,
     "metadata": {},
     "output_type": "execute_result"
    },
    {
     "data": {
      "image/png": "[encoded data removed]",
      "text/plain": [
       "<Figure size 640x480 with 1 Axes>"
      ]
     },
     "metadata": {},
     "output_type": "display_data"
    }
   ],
   "source": [
    "# в, г\n",
    "def dest(mas):\n",
    "    mas = np.array(mas)\n",
    "    l = len(mas)\n",
    "\n",
    "    def f(x):\n",
    "        return sum(mas < x) / l\n",
    "\n",
    "    return f\n",
    "\n",
    "\n",
    "f_sin = dest(sinl)\n",
    "f_cos = dest(cosl)\n",
    "X_sin = np.linspace(min(sinl), max(sinl), 100)\n",
    "Y_sin = [f_sin(i) for i in X_sin]\n",
    "X_cos = np.linspace(min(cosl), max(cosl), 100)\n",
    "Y_cos = [f_cos(i) for i in X_cos]\n",
    "plt.plot(X_sin, Y_sin, \"r\")\n",
    "plt.plot(X_cos, Y_cos, \"g\")\n"
   ]
  },
  {
   "cell_type": "markdown",
   "metadata": {},
   "source": [
    "---\n",
    "\n",
    "# 3.2\n"
   ]
  },
  {
   "cell_type": "code",
   "execution_count": 18,
   "metadata": {},
   "outputs": [],
   "source": [
    "def is_even(num):\n",
    "    if num % 2 == 0 or num == 1:\n",
    "        return False\n",
    "    for i in range(3, int(num**0.5) + 1, 2):\n",
    "        if num % i == 0:\n",
    "            return False\n",
    "    return True\n",
    "\n",
    "\n",
    "def even_range(start, stop=None):\n",
    "    if stop is None:\n",
    "        stop = start\n",
    "        start = 0\n",
    "    for i in range(start, stop):\n",
    "        if is_even(i):\n",
    "            yield i\n",
    "\n",
    "\n",
    "mas = np.array(list(even_range(3, 99992)))"
   ]
  },
  {
   "cell_type": "code",
   "execution_count": 19,
   "metadata": {},
   "outputs": [
    {
     "data": {
      "text/plain": [
       "0.08788574351776704"
      ]
     },
     "execution_count": 19,
     "metadata": {},
     "output_type": "execute_result"
    }
   ],
   "source": [
    "# Смещение\n",
    "skew(mas)\n"
   ]
  },
  {
   "cell_type": "code",
   "execution_count": 17,
   "metadata": {},
   "outputs": [
    {
     "data": {
      "text/plain": [
       "-1.0926019048834879"
      ]
     },
     "execution_count": 17,
     "metadata": {},
     "output_type": "execute_result"
    }
   ],
   "source": [
    "# Эксцесс\n",
    "kurtosis(np.hstack([mas, -mas]))\n"
   ]
  },
  {
   "cell_type": "markdown",
   "metadata": {},
   "source": [
    "---\n",
    "\n",
    "# 3.3\n"
   ]
  },
  {
   "cell_type": "code",
   "execution_count": 21,
   "metadata": {},
   "outputs": [
    {
     "data": {
      "text/plain": [
       "array([11, 13, 17, 19, 23, 29, 31, 37, 41, 43, 47, 53, 59, 61, 67, 71, 73,\n",
       "       79, 83, 89, 97])"
      ]
     },
     "execution_count": 21,
     "metadata": {},
     "output_type": "execute_result"
    }
   ],
   "source": [
    "mas = np.array(list(even_range(10, 100)))\n",
    "mas\n"
   ]
  },
  {
   "cell_type": "code",
   "execution_count": 44,
   "metadata": {},
   "outputs": [
    {
     "data": {
      "text/plain": [
       "41.781014648871015"
      ]
     },
     "execution_count": 44,
     "metadata": {},
     "output_type": "execute_result"
    }
   ],
   "source": [
    "# Среднее геометрическое\n",
    "G = scipy.stats.gmean(mas)\n",
    "G\n"
   ]
  },
  {
   "cell_type": "code",
   "execution_count": 30,
   "metadata": {},
   "outputs": [
    {
     "data": {
      "text/plain": [
       "33.51277429915806"
      ]
     },
     "execution_count": 30,
     "metadata": {},
     "output_type": "execute_result"
    }
   ],
   "source": [
    "# Среднее гармоническое\n",
    "scipy.stats.hmean(mas)\n"
   ]
  },
  {
   "cell_type": "code",
   "execution_count": 32,
   "metadata": {},
   "outputs": [],
   "source": [
    "def power_mean(mas, a=2):\n",
    "    mas = np.array(mas)\n",
    "    return (mas**a).mean() ** (1 / a)"
   ]
  },
  {
   "cell_type": "code",
   "execution_count": 35,
   "metadata": {},
   "outputs": [
    {
     "data": {
      "text/plain": [
       "60.697103107111786"
      ]
     },
     "execution_count": 35,
     "metadata": {},
     "output_type": "execute_result"
    }
   ],
   "source": [
    "power_mean(mas, 3)\n"
   ]
  },
  {
   "cell_type": "code",
   "execution_count": 41,
   "metadata": {},
   "outputs": [
    {
     "data": {
      "text/plain": [
       "array([47, 97, 97, 79, 79])"
      ]
     },
     "execution_count": 41,
     "metadata": {},
     "output_type": "execute_result"
    }
   ],
   "source": [
    "np.random.seed(1223)\n",
    "G5 = np.random.choice(mas, 5)\n",
    "G5"
   ]
  },
  {
   "cell_type": "markdown",
   "metadata": {},
   "source": [
    "---\n",
    "# 3.4"
   ]
  },
  {
   "cell_type": "code",
   "execution_count": 54,
   "metadata": {},
   "outputs": [
    {
     "data": {
      "text/plain": [
       "0.478"
      ]
     },
     "execution_count": 54,
     "metadata": {},
     "output_type": "execute_result"
    }
   ],
   "source": [
    "np.random.seed(1223)\n",
    "t = []\n",
    "for i in range(10000):\n",
    "    G5 = np.random.choice(mas, 5)\n",
    "    t.append(scipy.stats.gmean(G5))\n",
    "(np.array(t) < G).mean()"
   ]
  },
  {
   "cell_type": "code",
   "execution_count": 59,
   "metadata": {},
   "outputs": [
    {
     "data": {
      "text/plain": [
       "43.60887490814362"
      ]
     },
     "execution_count": 59,
     "metadata": {},
     "output_type": "execute_result"
    }
   ],
   "source": [
    "np.random.seed(1223)\n",
    "t = []\n",
    "for i in range(10000):\n",
    "    G5 = np.random.choice(mas, 5)\n",
    "    t.append(scipy.stats.gmean(G5))\n",
    "np.mean(t)\n",
    "# plt.hist(t)"
   ]
  }
 ],
 "metadata": {
  "kernelspec": {
   "display_name": "Python 3",
   "language": "python",
   "name": "python3"
  },
  "language_info": {
   "codemirror_mode": {
    "name": "ipython",
    "version": 3
   },
   "file_extension": ".py",
   "mimetype": "text/x-python",
   "name": "python",
   "nbconvert_exporter": "python",
   "pygments_lexer": "ipython3",
   "version": "3.11.0"
  },
  "orig_nbformat": 4
 },
 "nbformat": 4,
 "nbformat_minor": 2
}
