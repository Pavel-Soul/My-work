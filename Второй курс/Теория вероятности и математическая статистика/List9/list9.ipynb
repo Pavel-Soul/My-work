{
  "cells": [
    {
      "cell_type": "code",
      "execution_count": 2,
      "metadata": {
        "id": "ye0tzXjV5MIr"
      },
      "outputs": [],
      "source": [
        "import pandas as pd\n",
        "import scipy.stats\n",
        "import numpy as np\n",
        "from scipy.stats import norm"
      ]
    },
    {
      "cell_type": "markdown",
      "metadata": {
        "id": "EJKxjGgc70ve"
      },
      "source": [
        "# 9.1\n",
        "\n",
        "Пусть x – реализация случайной выборки X1, X2, . . . , X1000 из распределения N(µ, 2,72) (данные в файле). Проверяется на уровне значимости α = 0,05\n",
        "\n",
        "основная гипотеза\\\n",
        "H0 : µ = 1, 25\\\n",
        "против альтернативной гипотезы\\\n",
        "H1 : µ 6= 1,25.\n",
        "\n",
        "1. Найдите значение статистики критерия z = Zнабл. = Z(x),\n",
        "   критическое множество Kα и на 5% уровне значимости проверить основную гипотезу H0;\n",
        "2. Найдите P–значение критерия и также сделать выводы.\n",
        "3. Найдите вероятность ошибки второго рода β и мощность критерия\n",
        "   W для µ = µ1 = 0,95 и сделать выводы.\n",
        "4. Написать программу на платформе JupyterP ython, которая моделирует гистограмму P V (P–значений\n",
        "   критерия) и сделать выводы.\n"
      ]
    },
    {
      "cell_type": "code",
      "execution_count": 16,
      "metadata": {
        "id": "x5hpXEtJ58B8"
      },
      "outputs": [],
      "source": [
        "data = pd.read_csv(\"sample9_1_PM2023.csv\", names=[\"x\"])"
      ]
    },
    {
      "cell_type": "code",
      "execution_count": 17,
      "metadata": {
        "colab": {
          "base_uri": "https://localhost:8080/",
          "height": 423
        },
        "id": "hfrzMx816CRY",
        "outputId": "a1f0a8de-f9be-4d7c-bbc9-195ed4601cda"
      },
      "outputs": [
        {
          "data": {
            "text/html": [
              "<div>\n",
              "<style scoped>\n",
              "    .dataframe tbody tr th:only-of-type {\n",
              "        vertical-align: middle;\n",
              "    }\n",
              "\n",
              "    .dataframe tbody tr th {\n",
              "        vertical-align: top;\n",
              "    }\n",
              "\n",
              "    .dataframe thead th {\n",
              "        text-align: right;\n",
              "    }\n",
              "</style>\n",
              "<table border=\"1\" class=\"dataframe\">\n",
              "  <thead>\n",
              "    <tr style=\"text-align: right;\">\n",
              "      <th></th>\n",
              "      <th>x</th>\n",
              "    </tr>\n",
              "  </thead>\n",
              "  <tbody>\n",
              "    <tr>\n",
              "      <th>0</th>\n",
              "      <td>-1.520364</td>\n",
              "    </tr>\n",
              "    <tr>\n",
              "      <th>1</th>\n",
              "      <td>0.709026</td>\n",
              "    </tr>\n",
              "    <tr>\n",
              "      <th>2</th>\n",
              "      <td>4.487076</td>\n",
              "    </tr>\n",
              "    <tr>\n",
              "      <th>3</th>\n",
              "      <td>0.774559</td>\n",
              "    </tr>\n",
              "    <tr>\n",
              "      <th>4</th>\n",
              "      <td>4.967267</td>\n",
              "    </tr>\n",
              "    <tr>\n",
              "      <th>...</th>\n",
              "      <td>...</td>\n",
              "    </tr>\n",
              "    <tr>\n",
              "      <th>995</th>\n",
              "      <td>-0.198150</td>\n",
              "    </tr>\n",
              "    <tr>\n",
              "      <th>996</th>\n",
              "      <td>0.905657</td>\n",
              "    </tr>\n",
              "    <tr>\n",
              "      <th>997</th>\n",
              "      <td>2.223575</td>\n",
              "    </tr>\n",
              "    <tr>\n",
              "      <th>998</th>\n",
              "      <td>3.286491</td>\n",
              "    </tr>\n",
              "    <tr>\n",
              "      <th>999</th>\n",
              "      <td>-3.535852</td>\n",
              "    </tr>\n",
              "  </tbody>\n",
              "</table>\n",
              "<p>1000 rows × 1 columns</p>\n",
              "</div>"
            ],
            "text/plain": [
              "            x\n",
              "0   -1.520364\n",
              "1    0.709026\n",
              "2    4.487076\n",
              "3    0.774559\n",
              "4    4.967267\n",
              "..        ...\n",
              "995 -0.198150\n",
              "996  0.905657\n",
              "997  2.223575\n",
              "998  3.286491\n",
              "999 -3.535852\n",
              "\n",
              "[1000 rows x 1 columns]"
            ]
          },
          "execution_count": 17,
          "metadata": {},
          "output_type": "execute_result"
        }
      ],
      "source": [
        "data"
      ]
    },
    {
      "cell_type": "code",
      "execution_count": 18,
      "metadata": {
        "id": "Jfmiuixg6C9a"
      },
      "outputs": [],
      "source": [
        "x = data[\"x\"]\n",
        "x_mean = x.mean()\n",
        "x_std = x.std()"
      ]
    },
    {
      "cell_type": "code",
      "execution_count": 19,
      "metadata": {
        "colab": {
          "base_uri": "https://localhost:8080/"
        },
        "id": "q1uNtTVXLFiv",
        "outputId": "0d524f17-dec7-4f76-b69b-438d718ed94d"
      },
      "outputs": [
        {
          "data": {
            "text/plain": [
              "1000"
            ]
          },
          "execution_count": 19,
          "metadata": {},
          "output_type": "execute_result"
        }
      ],
      "source": [
        "n = x.shape[0]\n",
        "n"
      ]
    },
    {
      "cell_type": "markdown",
      "metadata": {
        "id": "BVaWpSaL86NP"
      },
      "source": [
        "Так как σ^2 известна, то берем\n",
        "\n",
        "\\begin{equation}\n",
        "Z = \\frac{\\bar{x}-\\mu_0}{\\frac{σ}{\\sqrt{n}}}\n",
        "\\end{equation}\n",
        "\n",
        "Иначе бы взяли T\n"
      ]
    },
    {
      "cell_type": "markdown",
      "metadata": {
        "id": "WvhbMOcQ9yb6"
      },
      "source": [
        "Так как H1: μ != 1.25, то K_α - двусторонняя\n"
      ]
    },
    {
      "cell_type": "markdown",
      "metadata": {
        "id": "TXpnK0z0-3Y9"
      },
      "source": [
        "## 1\n",
        "\n",
        "Найдите значение статистики критерия z = Zнабл. = Z(~x) \\\n",
        "Критическое множество Kα \\\n",
        "На 5% уровне значимости проверить основную гипотезу H0\n"
      ]
    },
    {
      "cell_type": "code",
      "execution_count": 20,
      "metadata": {
        "colab": {
          "base_uri": "https://localhost:8080/"
        },
        "id": "e4XmCyPZ-34k",
        "outputId": "81a99271-3a57-43f7-fc0d-346f80a4d582"
      },
      "outputs": [
        {
          "name": "stdout",
          "output_type": "stream",
          "text": [
            "Значение статистики критерия z: -0.5622343260114797\n"
          ]
        }
      ],
      "source": [
        "\n",
        "\n",
        "# Среднее и стандартное отклонение из гипотезы H0\n",
        "mu_h0 = 1.25\n",
        "sigma_h0 = 2.7\n",
        "\n",
        "# Вычисление z-статистики\n",
        "z_statistic = (np.mean(x) - mu_h0) / (sigma_h0 / np.sqrt(len(x)))\n",
        "\n",
        "print(f\"Значение статистики критерия z: {z_statistic}\")"
      ]
    },
    {
      "cell_type": "code",
      "execution_count": 21,
      "metadata": {
        "colab": {
          "base_uri": "https://localhost:8080/"
        },
        "id": "Ry43ITWo-4YY",
        "outputId": "8b85d27a-1888-47a5-c0b7-7d380bfbb219"
      },
      "outputs": [
        {
          "name": "stdout",
          "output_type": "stream",
          "text": [
            "Критическое значение для уровня значимости 0.05: 1.959963984540054\n"
          ]
        }
      ],
      "source": [
        "# Уровень значимости\n",
        "alpha = 0.05\n",
        "\n",
        "# Критическое значение для двустороннего теста\n",
        "z_critical = norm.ppf(1 - alpha / 2)\n",
        "\n",
        "print(f\"Критическое значение для уровня значимости {alpha}: {z_critical}\")"
      ]
    },
    {
      "cell_type": "markdown",
      "metadata": {
        "id": "T10lIYrUARQJ"
      },
      "source": [
        "## 2\n"
      ]
    },
    {
      "cell_type": "code",
      "execution_count": 33,
      "metadata": {
        "colab": {
          "base_uri": "https://localhost:8080/"
        },
        "id": "lUoTe9kd_LI-",
        "outputId": "78a4f372-2441-422a-b578-1382240b3e31"
      },
      "outputs": [
        {
          "name": "stdout",
          "output_type": "stream",
          "text": [
            "P-значение критерия: 0.5739563770550329\n"
          ]
        }
      ],
      "source": [
        "# P-значение для двустороннего теста\n",
        "p_value = 2 * (1 - norm.cdf(np.abs(z_statistic)))\n",
        "\n",
        "print(\"P-значение критерия:\", p_value)"
      ]
    },
    {
      "cell_type": "code",
      "execution_count": 24,
      "metadata": {
        "colab": {
          "base_uri": "https://localhost:8080/"
        },
        "id": "CMdRBPjI_kCd",
        "outputId": "3c96b821-64b6-4a94-83b2-e2104d23ef54"
      },
      "outputs": [
        {
          "name": "stdout",
          "output_type": "stream",
          "text": [
            "Не отвергаем основную гипотезу H0\n"
          ]
        }
      ],
      "source": [
        "if p_value < alpha:\n",
        "    print(\"Отвергаем основную гипотезу H0\")\n",
        "else:\n",
        "    print(\"Не отвергаем основную гипотезу H0\")"
      ]
    },
    {
      "cell_type": "markdown",
      "metadata": {
        "id": "s1nVOfDoAWFN"
      },
      "source": [
        "## 3\n",
        "\n",
        "Найдите вероятность ошибки второго рода β и мощность критерия\n",
        "W для µ = µ1 = 0,95 и сделать выводы.\n"
      ]
    },
    {
      "cell_type": "code",
      "execution_count": 25,
      "metadata": {
        "id": "rKVLUJaF_ny7"
      },
      "outputs": [],
      "source": [
        "def Phi0(x):\n",
        "    return norm(0.95, 2.7**2).cdf(x) - 1 / 2"
      ]
    },
    {
      "cell_type": "code",
      "execution_count": 26,
      "metadata": {
        "id": "XigmJolY_zQn"
      },
      "outputs": [],
      "source": [
        "alpha = 0.05\n",
        "zalpha = norm(0.95, 2.7**2).isf(alpha)"
      ]
    },
    {
      "cell_type": "code",
      "execution_count": 27,
      "metadata": {
        "id": "L6MgOjvjK7Ix"
      },
      "outputs": [],
      "source": [
        "mu_1 = 0.95\n",
        "mu_0 = 1.25\n",
        "\n",
        "beta = 1 / 2 + Phi0(zalpha - np.sqrt(n) / sigma_h0 * (mu_1 - mu_0))\n",
        "\n",
        "calpha = mu_0 + sigma_h0 / np.sqrt(n) * zalpha\n",
        "c0 = (mu_0 + mu_1) / 2"
      ]
    },
    {
      "cell_type": "code",
      "execution_count": 28,
      "metadata": {
        "colab": {
          "base_uri": "https://localhost:8080/"
        },
        "id": "5ZuAjUiOLkvB",
        "outputId": "a2732eb5-bd0f-4a45-d367-e75d7e01a14f"
      },
      "outputs": [
        {
          "data": {
            "text/plain": [
              "(0.9832830889646, 0.01671691103539996)"
            ]
          },
          "execution_count": 28,
          "metadata": {},
          "output_type": "execute_result"
        }
      ],
      "source": [
        "beta, 1 - beta"
      ]
    },
    {
      "cell_type": "markdown",
      "metadata": {
        "id": "ukgx8jhZOjyM"
      },
      "source": [
        "# 9.2\n"
      ]
    },
    {
      "cell_type": "code",
      "execution_count": 30,
      "metadata": {
        "colab": {
          "base_uri": "https://localhost:8080/",
          "height": 363
        },
        "id": "VHzaAEVvoag9",
        "outputId": "b03dbc7b-004c-4bda-82f9-0f33c873a324"
      },
      "outputs": [
        {
          "data": {
            "text/html": [
              "<div>\n",
              "<style scoped>\n",
              "    .dataframe tbody tr th:only-of-type {\n",
              "        vertical-align: middle;\n",
              "    }\n",
              "\n",
              "    .dataframe tbody tr th {\n",
              "        vertical-align: top;\n",
              "    }\n",
              "\n",
              "    .dataframe thead th {\n",
              "        text-align: right;\n",
              "    }\n",
              "</style>\n",
              "<table border=\"1\" class=\"dataframe\">\n",
              "  <thead>\n",
              "    <tr style=\"text-align: right;\">\n",
              "      <th></th>\n",
              "      <th>x</th>\n",
              "    </tr>\n",
              "  </thead>\n",
              "  <tbody>\n",
              "    <tr>\n",
              "      <th>0</th>\n",
              "      <td>27.041459</td>\n",
              "    </tr>\n",
              "    <tr>\n",
              "      <th>1</th>\n",
              "      <td>3.943612</td>\n",
              "    </tr>\n",
              "    <tr>\n",
              "      <th>2</th>\n",
              "      <td>19.334803</td>\n",
              "    </tr>\n",
              "    <tr>\n",
              "      <th>3</th>\n",
              "      <td>9.086020</td>\n",
              "    </tr>\n",
              "    <tr>\n",
              "      <th>4</th>\n",
              "      <td>13.472668</td>\n",
              "    </tr>\n",
              "    <tr>\n",
              "      <th>5</th>\n",
              "      <td>21.338875</td>\n",
              "    </tr>\n",
              "    <tr>\n",
              "      <th>6</th>\n",
              "      <td>19.527265</td>\n",
              "    </tr>\n",
              "    <tr>\n",
              "      <th>7</th>\n",
              "      <td>14.866979</td>\n",
              "    </tr>\n",
              "    <tr>\n",
              "      <th>8</th>\n",
              "      <td>4.732571</td>\n",
              "    </tr>\n",
              "    <tr>\n",
              "      <th>9</th>\n",
              "      <td>17.328405</td>\n",
              "    </tr>\n",
              "  </tbody>\n",
              "</table>\n",
              "</div>"
            ],
            "text/plain": [
              "           x\n",
              "0  27.041459\n",
              "1   3.943612\n",
              "2  19.334803\n",
              "3   9.086020\n",
              "4  13.472668\n",
              "5  21.338875\n",
              "6  19.527265\n",
              "7  14.866979\n",
              "8   4.732571\n",
              "9  17.328405"
            ]
          },
          "execution_count": 30,
          "metadata": {},
          "output_type": "execute_result"
        }
      ],
      "source": [
        "data = pd.read_csv(\"sample9_2_PM2023.csv\", names=[\"x\"])\n",
        "data"
      ]
    },
    {
      "cell_type": "code",
      "execution_count": 31,
      "metadata": {
        "colab": {
          "base_uri": "https://localhost:8080/"
        },
        "id": "2lxzRPNIOlCS",
        "outputId": "618c5e7f-f5e5-41d0-87ae-3360a017a674"
      },
      "outputs": [
        {
          "name": "stdout",
          "output_type": "stream",
          "text": [
            "1) t = 0.5831039501860182\n",
            "2) P-значение = 0.5741416681136751\n",
            "3) beta = [1.]\n",
            "   Мощность критерия = [3.49305029e-11]\n"
          ]
        },
        {
          "name": "stderr",
          "output_type": "stream",
          "text": [
            "c:\\Programs\\Python\\Python311\\Lib\\site-packages\\numpy\\core\\fromnumeric.py:3502: FutureWarning: In a future version, DataFrame.mean(axis=None) will return a scalar mean over the entire DataFrame. To retain the old behavior, use 'frame.mean(axis=0)' or just 'frame.mean()'\n",
            "  return mean(axis=axis, dtype=dtype, out=out, **kwargs)\n"
          ]
        }
      ],
      "source": [
        "# Параметры гипотезы\n",
        "mu_0 = 13.7\n",
        "alpha = 0.05\n",
        "mu_1 = 3.00536\n",
        "\n",
        "# Рассчитываем t-статистику\n",
        "t_stat = (np.mean(data) - mu_0) / (np.std(data, ddof=1) / np.sqrt(len(data)))\n",
        "\n",
        "# Рассчитываем P-значение\n",
        "p_value = 2 * (1 - scipy.stats.t.cdf(np.abs(t_stat), df=len(data) - 1))\n",
        "\n",
        "# Вероятность ошибки второго рода\n",
        "beta = scipy.stats.norm.cdf(\n",
        "    (\n",
        "        scipy.stats.norm.ppf(1 - alpha / 2)\n",
        "        - (mu_1 - mu_0) / (np.std(data, ddof=1) / np.sqrt(len(data)))\n",
        "    )\n",
        ")\n",
        "\n",
        "power = 1 - beta\n",
        "\n",
        "# Вывод результатов\n",
        "print(f\"1) t = {t_stat[0]}\")\n",
        "print(f\"2) P-значение = {p_value[0]}\")\n",
        "print(f\"3) beta = {beta}\")\n",
        "print(f\"   Мощность критерия = {power}\")"
      ]
    },
    {
      "cell_type": "markdown",
      "metadata": {
        "id": "T0TDZQFVPy4B"
      },
      "source": [
        "# 9.3\n",
        "\n",
        "Дана выборка объема n=13. Выборка из совокупности с нормальным распределением. Известено средним квадратичным отклонением σ = 3. Выдвигается гипотеза H0: µ = µ0 = 17 для уровня значимости a = 0.05\n",
        "\n",
        "Требуется:\n",
        "а) найти мощность критерия для проверки гипотезы H1 : µ = µ1 = 16;\n",
        "б) найти объем выборки n, при котором мощность критерия не меньше 0, 92.\n"
      ]
    },
    {
      "cell_type": "code",
      "execution_count": null,
      "metadata": {
        "id": "ETT57cx3QGpu"
      },
      "outputs": [],
      "source": [
        "import scipy.stats as stats\n",
        "import numpy as np\n",
        "from scipy.optimize import fsolve"
      ]
    },
    {
      "cell_type": "code",
      "execution_count": null,
      "metadata": {
        "id": "WMgPDnnSPz3U"
      },
      "outputs": [],
      "source": [
        "# Данные из условия\n",
        "alpha = 0.05\n",
        "sigma = 3\n",
        "mu0 = 17\n",
        "mu1 = 16\n",
        "delta = mu0 - mu1\n",
        "z_critical = stats.norm.ppf(1 - alpha)"
      ]
    },
    {
      "cell_type": "markdown",
      "metadata": {
        "id": "Og92oNsWQox4"
      },
      "source": [
        "\\begin{equation}\n",
        "W = P(Z > Z\\_{1-\\alpha} - \\frac{δ\\sqrt{n}}{\\sigma})\n",
        "\\end{equation}\n"
      ]
    },
    {
      "cell_type": "code",
      "execution_count": null,
      "metadata": {
        "colab": {
          "base_uri": "https://localhost:8080/"
        },
        "id": "Ivv29617QDlv",
        "outputId": "60cd8a08-3cd8-4b20-df1c-71001aff0197"
      },
      "outputs": [
        {
          "name": "stdout",
          "output_type": "stream",
          "text": [
            "Мощность критерия для H1: µ = 16: 0.3289\n",
            "Объем выборки n для мощности не менее 0.92: 84\n"
          ]
        }
      ],
      "source": [
        "# Функция для расчета мощности критерия\n",
        "def power_of_test(n):\n",
        "    return 1 - stats.norm.cdf(z_critical - delta * np.sqrt(n) / sigma)\n",
        "\n",
        "\n",
        "# а) Найти мощность критерия для H1: µ = 16\n",
        "power = power_of_test(13)  # Примерный объем выборки из условия\n",
        "print(f\"Мощность критерия для H1: µ = 16: {power:.4f}\")\n",
        "\n",
        "# б) Найти объем выборки n, при котором мощность критерия не меньше 0.92\n",
        "target_power = 0.92\n",
        "n_solution = fsolve(lambda n: power_of_test(n) - target_power, 13)[0]\n",
        "print(f\"Объем выборки n для мощности не менее 0.92: {int(np.ceil(n_solution))}\")"
      ]
    }
  ],
  "metadata": {
    "colab": {
      "collapsed_sections": [
        "EJKxjGgc70ve",
        "ukgx8jhZOjyM"
      ],
      "provenance": []
    },
    "kernelspec": {
      "display_name": "Python 3",
      "name": "python3"
    },
    "language_info": {
      "codemirror_mode": {
        "name": "ipython",
        "version": 3
      },
      "file_extension": ".py",
      "mimetype": "text/x-python",
      "name": "python",
      "nbconvert_exporter": "python",
      "pygments_lexer": "ipython3",
      "version": "3.11.0"
    }
  },
  "nbformat": 4,
  "nbformat_minor": 0
}
