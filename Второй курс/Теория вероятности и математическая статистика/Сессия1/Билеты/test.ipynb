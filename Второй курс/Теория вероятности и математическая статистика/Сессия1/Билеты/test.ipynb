{
 "cells": [
  {
   "cell_type": "code",
   "execution_count": 1,
   "metadata": {},
   "outputs": [],
   "source": [
    "import numpy as np\n",
    "import pandas as pd\n",
    "import matplotlib.pyplot as plt\n",
    "from IPython.display import Markdown, display\n",
    "from scipy import stats\n",
    "import tvt"
   ]
  },
  {
   "cell_type": "code",
   "execution_count": 2,
   "metadata": {},
   "outputs": [],
   "source": [
    "def ans(n):\n",
    "    display(Markdown(tvt.Q3.mas[n]))"
   ]
  },
  {
   "cell_type": "code",
   "execution_count": 3,
   "metadata": {},
   "outputs": [
    {
     "data": {
      "text/markdown": [
       "\n",
       "Известно, что доля возвратов по кредитам в банке имеет распределение $F(x) = x^β$ , $0 \\le x \\le 1$. Наблюдения показали, что в среднем она составляет 78%. Методом моментов оцените параметр β и вероятность того, что она опуститься ниже 67%.\n",
       "$\\nu_1=\\hat{\\nu_1}; f(x)=F'(x)=\\beta x^{\\beta-1}$\n",
       "$\\nu_1=E(x)=\\int^1_0x f(x) dx = \\beta \\int^1_0x^\\beta dx = \\frac{\\beta x^{\\beta+1}}{\\beta+1} |^1_0 = \\frac{\\beta}{\\beta+1}=\\bar{x}=0.78$\n",
       "⇒ $\\beta = 3.54545$\n",
       "$P(x < 0.67) = F(0,67) =  0.67^{3.54545}=0.2417$\n",
       "\n"
      ],
      "text/plain": [
       "<IPython.core.display.Markdown object>"
      ]
     },
     "metadata": {},
     "output_type": "display_data"
    }
   ],
   "source": [
    "ans(19)\n",
    "# tvt.Q3.mas[19]"
   ]
  },
  {
   "cell_type": "code",
   "execution_count": 4,
   "metadata": {},
   "outputs": [
    {
     "name": "stdout",
     "output_type": "stream",
     "text": [
      "Requirement already satisfied: tvp in c:\\programs\\python\\python312\\lib\\site-packages (3)Note: you may need to restart the kernel to use updated packages.\n",
      "\n",
      "Collecting tvp\n",
      "  Downloading tvp-11.tar.gz (4.2 kB)\n",
      "  Installing build dependencies: started\n",
      "  Installing build dependencies: still running...\n",
      "  Installing build dependencies: finished with status 'done'\n",
      "  Getting requirements to build wheel: started\n",
      "  Getting requirements to build wheel: finished with status 'done'\n",
      "  Preparing metadata (pyproject.toml): started\n",
      "  Preparing metadata (pyproject.toml): finished with status 'done'\n",
      "Building wheels for collected packages: tvp\n",
      "  Building wheel for tvp (pyproject.toml): started\n",
      "  Building wheel for tvp (pyproject.toml): finished with status 'done'\n",
      "  Created wheel for tvp: filename=tvp-11-py3-none-any.whl size=4368 sha256=a5c2b91b618c206ab1ba5ca231b81c8c9a9d52aecf31bcea58d4c7ccab9b27f6\n",
      "  Stored in directory: c:\\users\\dash-more\\appdata\\local\\pip\\cache\\wheels\\32\\77\\36\\68cc018d6b6693e9ef81ee08456d34c4783592f8481e2db7eb\n",
      "Successfully built tvp\n",
      "Installing collected packages: tvp\n",
      "  Attempting uninstall: tvp\n",
      "    Found existing installation: tvp 3\n",
      "    Uninstalling tvp-3:\n",
      "      Successfully uninstalled tvp-3\n",
      "Successfully installed tvp-11\n"
     ]
    },
    {
     "ename": "",
     "evalue": "",
     "output_type": "error",
     "traceback": [
      "\u001b[1;31mThe Kernel crashed while executing code in the the current cell or a previous cell. Please review the code in the cell(s) to identify a possible cause of the failure. Click <a href='https://aka.ms/vscodeJupyterKernelCrash'>here</a> for more info. View Jupyter <a href='command:jupyter.viewOutput'>log</a> for further details."
     ]
    }
   ],
   "source": [
    "pip install --upgrade tvp"
   ]
  },
  {
   "cell_type": "code",
   "execution_count": null,
   "metadata": {},
   "outputs": [],
   "source": [
    "import tvp"
   ]
  },
  {
   "cell_type": "code",
   "execution_count": 29,
   "metadata": {},
   "outputs": [
    {
     "data": {
      "text/plain": [
       "0.11449664947385385"
      ]
     },
     "execution_count": 29,
     "metadata": {},
     "output_type": "execute_result"
    }
   ],
   "source": [
    "X = stats.f(3,5)\n",
    "X.cdf(10.7) - X.cdf(3.1)"
   ]
  },
  {
   "cell_type": "code",
   "execution_count": 5,
   "metadata": {},
   "outputs": [
    {
     "data": {
      "text/plain": [
       "1.3472067792290034"
      ]
     },
     "execution_count": 5,
     "metadata": {},
     "output_type": "execute_result"
    }
   ],
   "source": [
    "X = stats.chi2(5)\n",
    "X.ppf(1-0.93)"
   ]
  }
 ],
 "metadata": {
  "kernelspec": {
   "display_name": "Python 3",
   "language": "python",
   "name": "python3"
  },
  "language_info": {
   "codemirror_mode": {
    "name": "ipython",
    "version": 3
   },
   "file_extension": ".py",
   "mimetype": "text/x-python",
   "name": "python",
   "nbconvert_exporter": "python",
   "pygments_lexer": "ipython3",
   "version": "3.12.1"
  }
 },
 "nbformat": 4,
 "nbformat_minor": 2
}
