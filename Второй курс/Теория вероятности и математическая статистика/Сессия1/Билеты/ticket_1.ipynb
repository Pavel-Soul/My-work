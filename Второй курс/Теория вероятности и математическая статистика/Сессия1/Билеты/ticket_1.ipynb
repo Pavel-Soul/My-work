{
 "cells": [
  {
   "cell_type": "markdown",
   "metadata": {},
   "source": [
    "# Билет 401"
   ]
  },
  {
   "cell_type": "markdown",
   "metadata": {},
   "source": [
    "1) []\n",
    "2) []\n",
    "3) [x]\n",
    "4) [x]\n",
    "5) []\n",
    "6) []"
   ]
  },
  {
   "cell_type": "code",
   "execution_count": 213,
   "metadata": {},
   "outputs": [],
   "source": [
    "import numpy as np\n",
    "import matplotlib.pyplot as plt\n",
    "from pathlib import Path\n",
    "import pandas as pd\n",
    "\n",
    "df_dir = Path(r\"D:\\Университет\\Второй курс\\TVMS\\Сессия1\\Папка\\PM23_4\\DataSets\")"
   ]
  },
  {
   "cell_type": "markdown",
   "metadata": {},
   "source": [
    "---\n",
    "## № 1\n",
    "- Сформулируйте определение выборочной функции распределения и докажите ее сходимость по\n",
    "вероятности к теоретической функции распределения.\n",
    "- Выведите формулы для математического ожидания и\n",
    "дисперсии выборочной функции распределния."
   ]
  },
  {
   "cell_type": "markdown",
   "metadata": {},
   "source": [
    "---\n",
    "## № 2\n",
    "По двум независимым выборкам $X_1, X_2,\\dots,X_n$ объема $n$ из $N(\\mu_X;\\sigma_X^2)$ и $Y_1, Y_2,\\dots,X_m$ объема $m$ из $N(\\mu_Y;\\sigma_Y^2)$\n",
    "c неизвестными, но равными дисперсиями $\\sigma_X^2 = \\sigma_Y^2 = \\sigma^2$, проверяется на уровне значимости $\\alpha$\n",
    "основная гипотеза $H_0:\\mu_X = \\mu_Y$ против альтернативной гипотезы $H_0:\\mu_X \\ne \\mu_Y$.\n",
    "\n",
    "1) Приведите необходимую статистику $\\mathbb{F}$ - критерия однофакторного дисперсионного анализа и критическое множество для проверки $H_0$ против $H_1$.\n",
    "\n",
    "2) Приведите (с выводом и необходимыми пояснениями в обозначениях) обоснование равенства процентных точек $f_\\alpha(1;n+m-2)$ распределения Фишера и $t^2_{\\frac{\\alpha}{2}}(n+m-2)$ распределения Стьюдента с $n + m - 2$ свободы."
   ]
  },
  {
   "cell_type": "markdown",
   "metadata": {},
   "source": [
    "---\n",
    "## № 3\n",
    "Число $\\pi$ до 30 знака после запятой имеет вид: 3.141592653589793238462643383279\n",
    "\n",
    "Число $e$ до 30 знака после запятой имеет вид: 2.718281828459045235360287471352\n",
    "\n",
    "- Используя критерий однородности $X^2$, проверьте на уровне значимости $\\alpha = 0.05$ гипотезу $H_0$ о том, что последовательности цифр после запятой для\n",
    "обоих чисел принадлежат одной генеральной совокупности\n",
    "- Найдите $P$-значение критерия"
   ]
  },
  {
   "cell_type": "code",
   "execution_count": 15,
   "metadata": {},
   "outputs": [],
   "source": [
    "from scipy.stats import chisquare, chi2"
   ]
  },
  {
   "cell_type": "code",
   "execution_count": 82,
   "metadata": {},
   "outputs": [],
   "source": [
    "pi_ = \"3.141592653589793238462643383279\".split(\".\")[-1]\n",
    "e_ = \"2.718281828459045235360287471352\".split(\".\")[-1]\n",
    "\n",
    "# Частоты распределений\n",
    "observed_pi = [pi_.count(str(i)) for i in range(10)]\n",
    "expected_e = [e_.count(str(i)) for i in range(10)]\n"
   ]
  },
  {
   "cell_type": "code",
   "execution_count": 83,
   "metadata": {},
   "outputs": [
    {
     "name": "stdout",
     "output_type": "stream",
     "text": [
      "Статистика хи-квадрат: 19.916666666666668\n",
      "P-значение: 0.018433706772751614\n"
     ]
    }
   ],
   "source": [
    "# Применение критерия хи-квадрат\n",
    "chi2_statistic, p_value = chisquare(observed_pi, f_exp=expected_e)\n",
    "\n",
    "# Вывод результатов\n",
    "print(\"Статистика хи-квадрат:\", chi2_statistic)\n",
    "print(\"P-значение:\", p_value)\n"
   ]
  },
  {
   "cell_type": "code",
   "execution_count": 84,
   "metadata": {},
   "outputs": [
    {
     "name": "stdout",
     "output_type": "stream",
     "text": [
      "Статистика хи-квадрат: 19.916666666666668\n",
      "P-значение: 0.01843370677275158\n"
     ]
    }
   ],
   "source": [
    "# Ручной подсчет chi2\n",
    "\n",
    "chi2_statistic = 0\n",
    "# 10 разных цифр\n",
    "for j in range(10):\n",
    "    O = observed_pi[j]\n",
    "    E = expected_e[j]\n",
    "    \n",
    "    chi2_statistic += (O - E) ** 2 / E\n",
    "\n",
    "# 10 цифр -> 9 степеней свободы\n",
    "\n",
    "p_value = 1 - chi2.cdf(chi2_statistic, 9)\n",
    "print(\"Статистика хи-квадрат:\", chi2_statistic)\n",
    "print(\"P-значение:\", p_value)\n"
   ]
  },
  {
   "cell_type": "markdown",
   "metadata": {},
   "source": [
    "- $O_j$ - частота j в 1-й группе\n",
    "- $E_j$ - частота j во 2-й группе\n",
    "\n",
    "$statistic = \\sum\\limits_{j=0}^{10}\\dfrac{(O_j-E_j)^2}{E_j}$"
   ]
  },
  {
   "cell_type": "markdown",
   "metadata": {},
   "source": [
    "---\n",
    "## № 4\n",
    "В группе $\\Omega$ учатся 26 студентов, $\\Omega = \\{1, 2,\\dots, 26\\}$\n",
    "\n",
    "Пусть $X(i)$ - 100-балльная оценка студента $i \\in \\Omega$.\n",
    "\n",
    "Из группы $\\Omega$ случайным образом 9 раз выбирается студент $\\omega \\in \\Omega$.\\\n",
    "Повторный выбор допускается.\n",
    "\n",
    "Пусть $\\omega_j$ - студент, полученный после выбора $j = 1,\\dots,9$, $X(\\omega_j)$ - его оценка. \n",
    "\n",
    "Среднюю оценку на случайной выборке обозначим $\\bar X = \\dfrac{1}{9}\\sum X(\\omega_j)$.\n",
    "\n",
    "Оценки в группе даны: 70, 62, 0, 73, 90, 91, 53, 0, 68, 70, 76, 60, 89, 72, 89, 82, 76, 100, 54, 0, 38, 77, 55, 98, 0, 83. \n",
    "\n",
    "Требуется найти: \n",
    "\n",
    "1) Дисперсию $Var(\\bar X)$\n",
    "2) Центральный момент $\\mu_3(\\bar X)$"
   ]
  },
  {
   "cell_type": "code",
   "execution_count": 89,
   "metadata": {},
   "outputs": [],
   "source": [
    "import numpy as np\n",
    "def moment(X, k=1):\n",
    "    return np.mean((X - np.mean(X))**k)"
   ]
  },
  {
   "cell_type": "code",
   "execution_count": 98,
   "metadata": {},
   "outputs": [],
   "source": [
    "scores = [70, 62, 0, 73, 90, 91, 53, 0, 68, 70, 76, 60, 89, 72, 89, 82, 76, 100, 54, 0, 38, 77, 55, 98, 0, 83]"
   ]
  },
  {
   "cell_type": "code",
   "execution_count": 94,
   "metadata": {},
   "outputs": [
    {
     "data": {
      "text/plain": [
       "101.74556213017752"
      ]
     },
     "execution_count": 94,
     "metadata": {},
     "output_type": "execute_result"
    }
   ],
   "source": [
    "# Делим на размер выборки\n",
    "var = np.var(scores)/9\n",
    "var"
   ]
  },
  {
   "cell_type": "code",
   "execution_count": 99,
   "metadata": {},
   "outputs": [
    {
     "data": {
      "text/plain": [
       "-375.2430587164315"
      ]
     },
     "execution_count": 99,
     "metadata": {},
     "output_type": "execute_result"
    }
   ],
   "source": [
    "# Делим на размер выборки **2\n",
    "moment(scores, 3)/9**2"
   ]
  },
  {
   "cell_type": "markdown",
   "metadata": {},
   "source": [
    "---\n",
    "## № 5\n",
    "Пусть $\\overrightarrow{x} = (x_1, \\dots, x_{45})$ - реализация случайной выборки $\\overrightarrow{X} = (X_1, \\dots, X_{45})$ из нормального распределения $N(1.62; \\sigma^2)$.\n",
    "\n",
    "Проверяется на уровне значимости $\\alpha = 0.02$ гипотеза $H_0:\\sigma = 1.11$ против альтернативной гипотезы $H_1:\\sigma \\ne 1.11$ с критическим множеством вида $K_\\alpha = (0;A) \\cup (B;+\\infty)$\n",
    "\n",
    "1) Найдите значение статистики критерия $X_0^2$ \n",
    "2) Найдите границы А и В критического множества и проверьте гипотезу $H_0$\n",
    "3) Найдите $P$-значение критерия\n",
    "4) Найдите вероятность ошибки второго рода $\\beta$ для $\\sigma_1 = 1.21$\n",
    "\n",
    "Исходные данные: \n",
    "$$\\overrightarrow{x} = \n",
    "(4.592, 1.501, 2.534, 0.126, 1.182, 2.718, 0.549, 0.605, 1.348,\\\\\n",
    "2.048, 1.049, 2.698, 1.675, -0.421, 1.969, 0.604, 4.144, -0.18,\\\\\n",
    "2.663, 0.087, 0.38, 1.54, 0.934, -0.151, 0.664, 3.639, -0.42,\\\\\n",
    "1.865, 2.941, 0.958, 1.73, 2.504, 2.289, 0.514, 1.108, 3.794,\\\\\n",
    "0.461, -1.722, -1.461, 0.952, 2.531,2.889, -0.958, 3.428, 2.215)$$"
   ]
  },
  {
   "cell_type": "code",
   "execution_count": 211,
   "metadata": {},
   "outputs": [
    {
     "data": {
      "text/plain": [
       "(1.3799708214510304, 1.0662863405411012, 38.07856422677416)"
      ]
     },
     "execution_count": 211,
     "metadata": {},
     "output_type": "execute_result"
    }
   ],
   "source": [
    "# Значения из условия задачи\n",
    "n = 45\n",
    "sigma_0 = 1.11\n",
    "\n",
    "# Предположим, что у нас есть значения выборки X (не предоставлены в задаче)\n",
    "# В данном случае создадим случайную выборку для иллюстрации\n",
    "import numpy as np\n",
    "np.random.seed(42)  # для воспроизводимости результатов\n",
    "X = np.random.normal(loc=1.62, scale=sigma_0, size=n)\n",
    "\n",
    "# Вычисление выборочного среднего\n",
    "sample_mean = np.mean(X)\n",
    "\n",
    "# Вычисление исправленной выборочной дисперсии\n",
    "sample_variance = np.sum((X - sample_mean)**2) / (n - 1)\n",
    "\n",
    "# Вычисление статистики критерия\n",
    "chi_squared_statistic = (n - 1) * sample_variance / sigma_0**2\n",
    "\n",
    "sample_mean, sample_variance, chi_squared_statistic\n"
   ]
  },
  {
   "cell_type": "code",
   "execution_count": 194,
   "metadata": {},
   "outputs": [],
   "source": [
    "def chi2_test(group1, group2, alpha=0.05):\n",
    "    assert len(group1) == len(group2), 'Группы не равны'\n",
    "    statistic = 0\n",
    "    for O_, E_ in zip(group1, group2):\n",
    "        statistic += (O_ - E_) ** 2 / E_\n",
    "        \n",
    "    p_value = 1 - chi2.cdf(statistic, len(group1)-1)\n",
    "    return statistic, p_value"
   ]
  },
  {
   "cell_type": "code",
   "execution_count": 190,
   "metadata": {},
   "outputs": [],
   "source": [
    "X = np.array(\n",
    "    (\n",
    "        4.592,\n",
    "        1.501,\n",
    "        2.534,\n",
    "        0.126,\n",
    "        1.182,\n",
    "        2.718,\n",
    "        0.549,\n",
    "        0.605,\n",
    "        1.348,\n",
    "        2.048,\n",
    "        1.049,\n",
    "        2.698,\n",
    "        1.675,\n",
    "        -0.421,\n",
    "        1.969,\n",
    "        0.604,\n",
    "        4.144,\n",
    "        -0.18,\n",
    "        2.663,\n",
    "        0.087,\n",
    "        0.38,\n",
    "        1.54,\n",
    "        0.934,\n",
    "        -0.151,\n",
    "        0.664,\n",
    "        3.639,\n",
    "        -0.42,\n",
    "        1.865,\n",
    "        2.941,\n",
    "        0.958,\n",
    "        1.73,\n",
    "        2.504,\n",
    "        2.289,\n",
    "        0.514,\n",
    "        1.108,\n",
    "        3.794,\n",
    "        0.461,\n",
    "        -1.722,\n",
    "        -1.461,\n",
    "        0.952,\n",
    "        2.531,\n",
    "        2.889,\n",
    "        -0.958,\n",
    "        3.428,\n",
    "        2.215,\n",
    "    )\n",
    ")\n"
   ]
  },
  {
   "cell_type": "code",
   "execution_count": 191,
   "metadata": {},
   "outputs": [],
   "source": [
    "from math import ceil, floor\n",
    "group_X = {i+0.5: sum((X < i))/len(X) for i in np.linspace(floor(min(X)), ceil(max(X)), 10)}"
   ]
  },
  {
   "cell_type": "code",
   "execution_count": 209,
   "metadata": {},
   "outputs": [
    {
     "name": "stdout",
     "output_type": "stream",
     "text": [
      "Статистика хи-квадрат: 739.183791855177\n",
      "P-значение: 0.0\n"
     ]
    }
   ],
   "source": [
    "from scipy.stats import norm\n",
    "\n",
    "n = len(X)\n",
    "mean = 1.62\n",
    "sigma = 1.11\n",
    "\n",
    "dist = norm(loc=mean, scale=sigma**2)\n",
    "observed = (np.array(list(group_X.values()))*10000).astype(int)\n",
    "expected = (np.array([dist.cdf(i) for i in group_X])*10000).astype(int)\n",
    "\n",
    "chi2_statistic, p_value = chi2_test(observed, expected)\n",
    "\n",
    "print(\"Статистика хи-квадрат:\", chi2_statistic)\n",
    "print(\"P-значение:\", p_value)"
   ]
  },
  {
   "cell_type": "code",
   "execution_count": 196,
   "metadata": {},
   "outputs": [
    {
     "data": {
      "text/plain": [
       "[<matplotlib.lines.Line2D at 0x1d99139c6e0>]"
      ]
     },
     "execution_count": 196,
     "metadata": {},
     "output_type": "execute_result"
    },
    {
     "data": {
      "image/png": "[encoded data removed]",
      "text/plain": [
       "<Figure size 640x480 with 1 Axes>"
      ]
     },
     "metadata": {},
     "output_type": "display_data"
    }
   ],
   "source": [
    "plt.plot(list(group_X.values()))\n",
    "plt.plot([dist.cdf(i) for i in group_X])"
   ]
  },
  {
   "cell_type": "code",
   "execution_count": 108,
   "metadata": {},
   "outputs": [
    {
     "data": {
      "text/plain": [
       "(25.148025382824503, 68.7095129693454)"
      ]
     },
     "execution_count": 108,
     "metadata": {},
     "output_type": "execute_result"
    }
   ],
   "source": [
    "from scipy.stats import chi2\n",
    "\n",
    "# Заданные значения\n",
    "alpha = 0.02\n",
    "sigma_0 = 1.11\n",
    "\n",
    "\n",
    "# Найдем критические значения хи-квадрат\n",
    "# В ручную - по таблице\n",
    "chi2_critical_lower = chi2.ppf(alpha / 2, df=n - 1)\n",
    "chi2_critical_upper = chi2.ppf(1 - alpha / 2, df=n - 1)\n",
    "\n",
    "# Выведем критические значения\n",
    "chi2_critical_lower, chi2_critical_upper"
   ]
  },
  {
   "cell_type": "markdown",
   "metadata": {},
   "source": [
    "---\n",
    "## № 6\n",
    "По содержащейся в файле `ds6.4.9.csv` реализации случайной выборки из двумерного нормального\n",
    "распределения \n",
    "$$N\\left(\\big(\\mathbb{E}(X);\\mathbb{E}(Y)\\big);\\begin{Vmatrix}Var(X) & Cov(X, Y)\\\\Cov(X, Y) & Var(Y)\\end{Vmatrix}\\right) = N\\left((-3;1);\\begin{Vmatrix}\\sigma^{2} &\\rho\\sigma^2\\\\\\rho\\sigma^2 & \\sigma^{2}\\end{Vmatrix}\\right)$$\n",
    "с неизвестными параметрами $\\rho\\in (-1, 1)$ и $\\sigma > 0$\n",
    "\n",
    "1) Запишите логарифм функции правдоподобия, $\\ln L(\\rho, \\sigma)$\n",
    "2) Найдите оценки максимального правдоподобия $\\hat \\rho$ и $\\hat \\sigma$"
   ]
  },
  {
   "cell_type": "code",
   "execution_count": 223,
   "metadata": {},
   "outputs": [
    {
     "data": {
      "text/html": [
       "<div>\n",
       "<style scoped>\n",
       "    .dataframe tbody tr th:only-of-type {\n",
       "        vertical-align: middle;\n",
       "    }\n",
       "\n",
       "    .dataframe tbody tr th {\n",
       "        vertical-align: top;\n",
       "    }\n",
       "\n",
       "    .dataframe thead th {\n",
       "        text-align: right;\n",
       "    }\n",
       "</style>\n",
       "<table border=\"1\" class=\"dataframe\">\n",
       "  <thead>\n",
       "    <tr style=\"text-align: right;\">\n",
       "      <th></th>\n",
       "      <th>X</th>\n",
       "      <th>Y</th>\n",
       "    </tr>\n",
       "  </thead>\n",
       "  <tbody>\n",
       "    <tr>\n",
       "      <th>3</th>\n",
       "      <td>-5.325100</td>\n",
       "      <td>3.595445</td>\n",
       "    </tr>\n",
       "    <tr>\n",
       "      <th>34</th>\n",
       "      <td>-3.108179</td>\n",
       "      <td>1.223342</td>\n",
       "    </tr>\n",
       "    <tr>\n",
       "      <th>32</th>\n",
       "      <td>-4.807182</td>\n",
       "      <td>1.584633</td>\n",
       "    </tr>\n",
       "  </tbody>\n",
       "</table>\n",
       "</div>"
      ],
      "text/plain": [
       "           X         Y\n",
       "3  -5.325100  3.595445\n",
       "34 -3.108179  1.223342\n",
       "32 -4.807182  1.584633"
      ]
     },
     "execution_count": 223,
     "metadata": {},
     "output_type": "execute_result"
    }
   ],
   "source": [
    "df = pd.read_csv(df_dir / \"ds6.4.9.csv\", delimiter=';', names=('X','Y'), decimal=',')\n",
    "df.sample(3)"
   ]
  },
  {
   "cell_type": "code",
   "execution_count": 226,
   "metadata": {},
   "outputs": [
    {
     "data": {
      "text/plain": [
       "1.3653078442094841"
      ]
     },
     "execution_count": 226,
     "metadata": {},
     "output_type": "execute_result"
    }
   ],
   "source": [
    "df.Y.mean()"
   ]
  },
  {
   "cell_type": "code",
   "execution_count": 227,
   "metadata": {},
   "outputs": [
    {
     "name": "stdout",
     "output_type": "stream",
     "text": [
      "Логарифм функции правдоподобия: -146.8910487121241\n"
     ]
    }
   ],
   "source": [
    "from scipy.stats import multivariate_normal\n",
    "\n",
    "data = df\n",
    "\n",
    "# Заданные параметры\n",
    "mu = np.array([-3, 1])\n",
    "\n",
    "# Функция для вычисления логарифма функции правдоподобия для каждой строки данных\n",
    "def log_likelihood(row, rho, sigma):\n",
    "    covariance_matrix = np.array([[sigma**2, rho*sigma**2], [rho*sigma**2, sigma**2]])\n",
    "    mvn = multivariate_normal(mu, covariance_matrix)\n",
    "    return mvn.logpdf(row)\n",
    "\n",
    "# Заданные значения параметров (предположим)\n",
    "rho_value = 0.5\n",
    "sigma_value = 2.0\n",
    "\n",
    "# Вычисление логарифма функции правдоподобия для каждой строки данных\n",
    "data['log_likelihood'] = data.apply(lambda row: log_likelihood(row, rho_value, sigma_value), axis=1)\n",
    "\n",
    "# Вычисление суммарного логарифма функции правдоподобия\n",
    "total_log_likelihood = data['log_likelihood'].sum()\n",
    "\n",
    "# Вывод результата\n",
    "print(f\"Логарифм функции правдоподобия: {total_log_likelihood}\")\n"
   ]
  },
  {
   "cell_type": "code",
   "execution_count": 236,
   "metadata": {},
   "outputs": [
    {
     "ename": "ValueError",
     "evalue": "The input matrix must be symmetric positive semidefinite.",
     "output_type": "error",
     "traceback": [
      "\u001b[1;31m---------------------------------------------------------------------------\u001b[0m",
      "\u001b[1;31mValueError\u001b[0m                                Traceback (most recent call last)",
      "Cell \u001b[1;32mIn[236], line 14\u001b[0m\n\u001b[0;32m     11\u001b[0m initial_params \u001b[38;5;241m=\u001b[39m [\u001b[38;5;241m0.5\u001b[39m, \u001b[38;5;241m2.0\u001b[39m]  \u001b[38;5;66;03m# Можете выбрать другие начальные значения\u001b[39;00m\n\u001b[0;32m     13\u001b[0m \u001b[38;5;66;03m# Минимизация (максимизация отрицательного логарифма функции правдоподобия)\u001b[39;00m\n\u001b[1;32m---> 14\u001b[0m result \u001b[38;5;241m=\u001b[39m \u001b[43mminimize\u001b[49m\u001b[43m(\u001b[49m\u001b[43mneg_log_likelihood\u001b[49m\u001b[43m,\u001b[49m\u001b[43m \u001b[49m\u001b[43minitial_params\u001b[49m\u001b[43m,\u001b[49m\u001b[43m \u001b[49m\u001b[43margs\u001b[49m\u001b[38;5;241;43m=\u001b[39;49m\u001b[43m(\u001b[49m\u001b[43mdata\u001b[49m\u001b[43m[\u001b[49m\u001b[43m[\u001b[49m\u001b[38;5;124;43m'\u001b[39;49m\u001b[38;5;124;43mX\u001b[39;49m\u001b[38;5;124;43m'\u001b[39;49m\u001b[43m,\u001b[49m\u001b[43m \u001b[49m\u001b[38;5;124;43m'\u001b[39;49m\u001b[38;5;124;43mY\u001b[39;49m\u001b[38;5;124;43m'\u001b[39;49m\u001b[43m]\u001b[49m\u001b[43m]\u001b[49m\u001b[38;5;241;43m.\u001b[39;49m\u001b[43mvalues\u001b[49m\u001b[43m,\u001b[49m\u001b[43m)\u001b[49m\u001b[43m,\u001b[49m\u001b[43m \u001b[49m\u001b[43mmethod\u001b[49m\u001b[38;5;241;43m=\u001b[39;49m\u001b[38;5;124;43m'\u001b[39;49m\u001b[38;5;124;43mBFGS\u001b[39;49m\u001b[38;5;124;43m'\u001b[39;49m\u001b[43m)\u001b[49m\n\u001b[0;32m     17\u001b[0m \u001b[38;5;66;03m# Получение оценок максимального правдоподобия\u001b[39;00m\n\u001b[0;32m     18\u001b[0m rho_hat, sigma_hat \u001b[38;5;241m=\u001b[39m result\u001b[38;5;241m.\u001b[39mx\n",
      "File \u001b[1;32mc:\\Programs\\Python\\Python312\\Lib\\site-packages\\scipy\\optimize\\_minimize.py:705\u001b[0m, in \u001b[0;36mminimize\u001b[1;34m(fun, x0, args, method, jac, hess, hessp, bounds, constraints, tol, callback, options)\u001b[0m\n\u001b[0;32m    703\u001b[0m     res \u001b[38;5;241m=\u001b[39m _minimize_cg(fun, x0, args, jac, callback, \u001b[38;5;241m*\u001b[39m\u001b[38;5;241m*\u001b[39moptions)\n\u001b[0;32m    704\u001b[0m \u001b[38;5;28;01melif\u001b[39;00m meth \u001b[38;5;241m==\u001b[39m \u001b[38;5;124m'\u001b[39m\u001b[38;5;124mbfgs\u001b[39m\u001b[38;5;124m'\u001b[39m:\n\u001b[1;32m--> 705\u001b[0m     res \u001b[38;5;241m=\u001b[39m \u001b[43m_minimize_bfgs\u001b[49m\u001b[43m(\u001b[49m\u001b[43mfun\u001b[49m\u001b[43m,\u001b[49m\u001b[43m \u001b[49m\u001b[43mx0\u001b[49m\u001b[43m,\u001b[49m\u001b[43m \u001b[49m\u001b[43margs\u001b[49m\u001b[43m,\u001b[49m\u001b[43m \u001b[49m\u001b[43mjac\u001b[49m\u001b[43m,\u001b[49m\u001b[43m \u001b[49m\u001b[43mcallback\u001b[49m\u001b[43m,\u001b[49m\u001b[43m \u001b[49m\u001b[38;5;241;43m*\u001b[39;49m\u001b[38;5;241;43m*\u001b[39;49m\u001b[43moptions\u001b[49m\u001b[43m)\u001b[49m\n\u001b[0;32m    706\u001b[0m \u001b[38;5;28;01melif\u001b[39;00m meth \u001b[38;5;241m==\u001b[39m \u001b[38;5;124m'\u001b[39m\u001b[38;5;124mnewton-cg\u001b[39m\u001b[38;5;124m'\u001b[39m:\n\u001b[0;32m    707\u001b[0m     res \u001b[38;5;241m=\u001b[39m _minimize_newtoncg(fun, x0, args, jac, hess, hessp, callback,\n\u001b[0;32m    708\u001b[0m                              \u001b[38;5;241m*\u001b[39m\u001b[38;5;241m*\u001b[39moptions)\n",
      "File \u001b[1;32mc:\\Programs\\Python\\Python312\\Lib\\site-packages\\scipy\\optimize\\_optimize.py:1445\u001b[0m, in \u001b[0;36m_minimize_bfgs\u001b[1;34m(fun, x0, args, jac, callback, gtol, norm, eps, maxiter, disp, return_all, finite_diff_rel_step, xrtol, **unknown_options)\u001b[0m\n\u001b[0;32m   1442\u001b[0m pk \u001b[38;5;241m=\u001b[39m \u001b[38;5;241m-\u001b[39mnp\u001b[38;5;241m.\u001b[39mdot(Hk, gfk)\n\u001b[0;32m   1443\u001b[0m \u001b[38;5;28;01mtry\u001b[39;00m:\n\u001b[0;32m   1444\u001b[0m     alpha_k, fc, gc, old_fval, old_old_fval, gfkp1 \u001b[38;5;241m=\u001b[39m \\\n\u001b[1;32m-> 1445\u001b[0m              \u001b[43m_line_search_wolfe12\u001b[49m\u001b[43m(\u001b[49m\u001b[43mf\u001b[49m\u001b[43m,\u001b[49m\u001b[43m \u001b[49m\u001b[43mmyfprime\u001b[49m\u001b[43m,\u001b[49m\u001b[43m \u001b[49m\u001b[43mxk\u001b[49m\u001b[43m,\u001b[49m\u001b[43m \u001b[49m\u001b[43mpk\u001b[49m\u001b[43m,\u001b[49m\u001b[43m \u001b[49m\u001b[43mgfk\u001b[49m\u001b[43m,\u001b[49m\n\u001b[0;32m   1446\u001b[0m \u001b[43m                                  \u001b[49m\u001b[43mold_fval\u001b[49m\u001b[43m,\u001b[49m\u001b[43m \u001b[49m\u001b[43mold_old_fval\u001b[49m\u001b[43m,\u001b[49m\u001b[43m \u001b[49m\u001b[43mamin\u001b[49m\u001b[38;5;241;43m=\u001b[39;49m\u001b[38;5;241;43m1e-100\u001b[39;49m\u001b[43m,\u001b[49m\u001b[43m \u001b[49m\u001b[43mamax\u001b[49m\u001b[38;5;241;43m=\u001b[39;49m\u001b[38;5;241;43m1e100\u001b[39;49m\u001b[43m)\u001b[49m\n\u001b[0;32m   1447\u001b[0m \u001b[38;5;28;01mexcept\u001b[39;00m _LineSearchError:\n\u001b[0;32m   1448\u001b[0m     \u001b[38;5;66;03m# Line search failed to find a better solution.\u001b[39;00m\n\u001b[0;32m   1449\u001b[0m     warnflag \u001b[38;5;241m=\u001b[39m \u001b[38;5;241m2\u001b[39m\n",
      "File \u001b[1;32mc:\\Programs\\Python\\Python312\\Lib\\site-packages\\scipy\\optimize\\_optimize.py:1215\u001b[0m, in \u001b[0;36m_line_search_wolfe12\u001b[1;34m(f, fprime, xk, pk, gfk, old_fval, old_old_fval, **kwargs)\u001b[0m\n\u001b[0;32m   1201\u001b[0m \u001b[38;5;250m\u001b[39m\u001b[38;5;124;03m\"\"\"\u001b[39;00m\n\u001b[0;32m   1202\u001b[0m \u001b[38;5;124;03mSame as line_search_wolfe1, but fall back to line_search_wolfe2 if\u001b[39;00m\n\u001b[0;32m   1203\u001b[0m \u001b[38;5;124;03msuitable step length is not found, and raise an exception if a\u001b[39;00m\n\u001b[1;32m   (...)\u001b[0m\n\u001b[0;32m   1210\u001b[0m \n\u001b[0;32m   1211\u001b[0m \u001b[38;5;124;03m\"\"\"\u001b[39;00m\n\u001b[0;32m   1213\u001b[0m extra_condition \u001b[38;5;241m=\u001b[39m kwargs\u001b[38;5;241m.\u001b[39mpop(\u001b[38;5;124m'\u001b[39m\u001b[38;5;124mextra_condition\u001b[39m\u001b[38;5;124m'\u001b[39m, \u001b[38;5;28;01mNone\u001b[39;00m)\n\u001b[1;32m-> 1215\u001b[0m ret \u001b[38;5;241m=\u001b[39m \u001b[43mline_search_wolfe1\u001b[49m\u001b[43m(\u001b[49m\u001b[43mf\u001b[49m\u001b[43m,\u001b[49m\u001b[43m \u001b[49m\u001b[43mfprime\u001b[49m\u001b[43m,\u001b[49m\u001b[43m \u001b[49m\u001b[43mxk\u001b[49m\u001b[43m,\u001b[49m\u001b[43m \u001b[49m\u001b[43mpk\u001b[49m\u001b[43m,\u001b[49m\u001b[43m \u001b[49m\u001b[43mgfk\u001b[49m\u001b[43m,\u001b[49m\n\u001b[0;32m   1216\u001b[0m \u001b[43m                         \u001b[49m\u001b[43mold_fval\u001b[49m\u001b[43m,\u001b[49m\u001b[43m \u001b[49m\u001b[43mold_old_fval\u001b[49m\u001b[43m,\u001b[49m\n\u001b[0;32m   1217\u001b[0m \u001b[43m                         \u001b[49m\u001b[38;5;241;43m*\u001b[39;49m\u001b[38;5;241;43m*\u001b[39;49m\u001b[43mkwargs\u001b[49m\u001b[43m)\u001b[49m\n\u001b[0;32m   1219\u001b[0m \u001b[38;5;28;01mif\u001b[39;00m ret[\u001b[38;5;241m0\u001b[39m] \u001b[38;5;129;01mis\u001b[39;00m \u001b[38;5;129;01mnot\u001b[39;00m \u001b[38;5;28;01mNone\u001b[39;00m \u001b[38;5;129;01mand\u001b[39;00m extra_condition \u001b[38;5;129;01mis\u001b[39;00m \u001b[38;5;129;01mnot\u001b[39;00m \u001b[38;5;28;01mNone\u001b[39;00m:\n\u001b[0;32m   1220\u001b[0m     xp1 \u001b[38;5;241m=\u001b[39m xk \u001b[38;5;241m+\u001b[39m ret[\u001b[38;5;241m0\u001b[39m] \u001b[38;5;241m*\u001b[39m pk\n",
      "File \u001b[1;32mc:\\Programs\\Python\\Python312\\Lib\\site-packages\\scipy\\optimize\\_linesearch.py:84\u001b[0m, in \u001b[0;36mline_search_wolfe1\u001b[1;34m(f, fprime, xk, pk, gfk, old_fval, old_old_fval, args, c1, c2, amax, amin, xtol)\u001b[0m\n\u001b[0;32m     80\u001b[0m     \u001b[38;5;28;01mreturn\u001b[39;00m np\u001b[38;5;241m.\u001b[39mdot(gval[\u001b[38;5;241m0\u001b[39m], pk)\n\u001b[0;32m     82\u001b[0m derphi0 \u001b[38;5;241m=\u001b[39m np\u001b[38;5;241m.\u001b[39mdot(gfk, pk)\n\u001b[1;32m---> 84\u001b[0m stp, fval, old_fval \u001b[38;5;241m=\u001b[39m \u001b[43mscalar_search_wolfe1\u001b[49m\u001b[43m(\u001b[49m\n\u001b[0;32m     85\u001b[0m \u001b[43m        \u001b[49m\u001b[43mphi\u001b[49m\u001b[43m,\u001b[49m\u001b[43m \u001b[49m\u001b[43mderphi\u001b[49m\u001b[43m,\u001b[49m\u001b[43m \u001b[49m\u001b[43mold_fval\u001b[49m\u001b[43m,\u001b[49m\u001b[43m \u001b[49m\u001b[43mold_old_fval\u001b[49m\u001b[43m,\u001b[49m\u001b[43m \u001b[49m\u001b[43mderphi0\u001b[49m\u001b[43m,\u001b[49m\n\u001b[0;32m     86\u001b[0m \u001b[43m        \u001b[49m\u001b[43mc1\u001b[49m\u001b[38;5;241;43m=\u001b[39;49m\u001b[43mc1\u001b[49m\u001b[43m,\u001b[49m\u001b[43m \u001b[49m\u001b[43mc2\u001b[49m\u001b[38;5;241;43m=\u001b[39;49m\u001b[43mc2\u001b[49m\u001b[43m,\u001b[49m\u001b[43m \u001b[49m\u001b[43mamax\u001b[49m\u001b[38;5;241;43m=\u001b[39;49m\u001b[43mamax\u001b[49m\u001b[43m,\u001b[49m\u001b[43m \u001b[49m\u001b[43mamin\u001b[49m\u001b[38;5;241;43m=\u001b[39;49m\u001b[43mamin\u001b[49m\u001b[43m,\u001b[49m\u001b[43m \u001b[49m\u001b[43mxtol\u001b[49m\u001b[38;5;241;43m=\u001b[39;49m\u001b[43mxtol\u001b[49m\u001b[43m)\u001b[49m\n\u001b[0;32m     88\u001b[0m \u001b[38;5;28;01mreturn\u001b[39;00m stp, fc[\u001b[38;5;241m0\u001b[39m], gc[\u001b[38;5;241m0\u001b[39m], fval, old_fval, gval[\u001b[38;5;241m0\u001b[39m]\n",
      "File \u001b[1;32mc:\\Programs\\Python\\Python312\\Lib\\site-packages\\scipy\\optimize\\_linesearch.py:160\u001b[0m, in \u001b[0;36mscalar_search_wolfe1\u001b[1;34m(phi, derphi, phi0, old_phi0, derphi0, c1, c2, amax, amin, xtol)\u001b[0m\n\u001b[0;32m    158\u001b[0m \u001b[38;5;28;01mif\u001b[39;00m task[:\u001b[38;5;241m2\u001b[39m] \u001b[38;5;241m==\u001b[39m \u001b[38;5;124mb\u001b[39m\u001b[38;5;124m'\u001b[39m\u001b[38;5;124mFG\u001b[39m\u001b[38;5;124m'\u001b[39m:\n\u001b[0;32m    159\u001b[0m     alpha1 \u001b[38;5;241m=\u001b[39m stp\n\u001b[1;32m--> 160\u001b[0m     phi1 \u001b[38;5;241m=\u001b[39m \u001b[43mphi\u001b[49m\u001b[43m(\u001b[49m\u001b[43mstp\u001b[49m\u001b[43m)\u001b[49m\n\u001b[0;32m    161\u001b[0m     derphi1 \u001b[38;5;241m=\u001b[39m derphi(stp)\n\u001b[0;32m    162\u001b[0m \u001b[38;5;28;01melse\u001b[39;00m:\n",
      "File \u001b[1;32mc:\\Programs\\Python\\Python312\\Lib\\site-packages\\scipy\\optimize\\_linesearch.py:75\u001b[0m, in \u001b[0;36mline_search_wolfe1.<locals>.phi\u001b[1;34m(s)\u001b[0m\n\u001b[0;32m     73\u001b[0m \u001b[38;5;28;01mdef\u001b[39;00m \u001b[38;5;21mphi\u001b[39m(s):\n\u001b[0;32m     74\u001b[0m     fc[\u001b[38;5;241m0\u001b[39m] \u001b[38;5;241m+\u001b[39m\u001b[38;5;241m=\u001b[39m \u001b[38;5;241m1\u001b[39m\n\u001b[1;32m---> 75\u001b[0m     \u001b[38;5;28;01mreturn\u001b[39;00m \u001b[43mf\u001b[49m\u001b[43m(\u001b[49m\u001b[43mxk\u001b[49m\u001b[43m \u001b[49m\u001b[38;5;241;43m+\u001b[39;49m\u001b[43m \u001b[49m\u001b[43ms\u001b[49m\u001b[38;5;241;43m*\u001b[39;49m\u001b[43mpk\u001b[49m\u001b[43m,\u001b[49m\u001b[43m \u001b[49m\u001b[38;5;241;43m*\u001b[39;49m\u001b[43margs\u001b[49m\u001b[43m)\u001b[49m\n",
      "File \u001b[1;32mc:\\Programs\\Python\\Python312\\Lib\\site-packages\\scipy\\optimize\\_differentiable_functions.py:267\u001b[0m, in \u001b[0;36mScalarFunction.fun\u001b[1;34m(self, x)\u001b[0m\n\u001b[0;32m    265\u001b[0m \u001b[38;5;28;01mif\u001b[39;00m \u001b[38;5;129;01mnot\u001b[39;00m np\u001b[38;5;241m.\u001b[39marray_equal(x, \u001b[38;5;28mself\u001b[39m\u001b[38;5;241m.\u001b[39mx):\n\u001b[0;32m    266\u001b[0m     \u001b[38;5;28mself\u001b[39m\u001b[38;5;241m.\u001b[39m_update_x_impl(x)\n\u001b[1;32m--> 267\u001b[0m \u001b[38;5;28;43mself\u001b[39;49m\u001b[38;5;241;43m.\u001b[39;49m\u001b[43m_update_fun\u001b[49m\u001b[43m(\u001b[49m\u001b[43m)\u001b[49m\n\u001b[0;32m    268\u001b[0m \u001b[38;5;28;01mreturn\u001b[39;00m \u001b[38;5;28mself\u001b[39m\u001b[38;5;241m.\u001b[39mf\n",
      "File \u001b[1;32mc:\\Programs\\Python\\Python312\\Lib\\site-packages\\scipy\\optimize\\_differentiable_functions.py:251\u001b[0m, in \u001b[0;36mScalarFunction._update_fun\u001b[1;34m(self)\u001b[0m\n\u001b[0;32m    249\u001b[0m \u001b[38;5;28;01mdef\u001b[39;00m \u001b[38;5;21m_update_fun\u001b[39m(\u001b[38;5;28mself\u001b[39m):\n\u001b[0;32m    250\u001b[0m     \u001b[38;5;28;01mif\u001b[39;00m \u001b[38;5;129;01mnot\u001b[39;00m \u001b[38;5;28mself\u001b[39m\u001b[38;5;241m.\u001b[39mf_updated:\n\u001b[1;32m--> 251\u001b[0m         \u001b[38;5;28;43mself\u001b[39;49m\u001b[38;5;241;43m.\u001b[39;49m\u001b[43m_update_fun_impl\u001b[49m\u001b[43m(\u001b[49m\u001b[43m)\u001b[49m\n\u001b[0;32m    252\u001b[0m         \u001b[38;5;28mself\u001b[39m\u001b[38;5;241m.\u001b[39mf_updated \u001b[38;5;241m=\u001b[39m \u001b[38;5;28;01mTrue\u001b[39;00m\n",
      "File \u001b[1;32mc:\\Programs\\Python\\Python312\\Lib\\site-packages\\scipy\\optimize\\_differentiable_functions.py:155\u001b[0m, in \u001b[0;36mScalarFunction.__init__.<locals>.update_fun\u001b[1;34m()\u001b[0m\n\u001b[0;32m    154\u001b[0m \u001b[38;5;28;01mdef\u001b[39;00m \u001b[38;5;21mupdate_fun\u001b[39m():\n\u001b[1;32m--> 155\u001b[0m     \u001b[38;5;28mself\u001b[39m\u001b[38;5;241m.\u001b[39mf \u001b[38;5;241m=\u001b[39m \u001b[43mfun_wrapped\u001b[49m\u001b[43m(\u001b[49m\u001b[38;5;28;43mself\u001b[39;49m\u001b[38;5;241;43m.\u001b[39;49m\u001b[43mx\u001b[49m\u001b[43m)\u001b[49m\n",
      "File \u001b[1;32mc:\\Programs\\Python\\Python312\\Lib\\site-packages\\scipy\\optimize\\_differentiable_functions.py:137\u001b[0m, in \u001b[0;36mScalarFunction.__init__.<locals>.fun_wrapped\u001b[1;34m(x)\u001b[0m\n\u001b[0;32m    133\u001b[0m \u001b[38;5;28mself\u001b[39m\u001b[38;5;241m.\u001b[39mnfev \u001b[38;5;241m+\u001b[39m\u001b[38;5;241m=\u001b[39m \u001b[38;5;241m1\u001b[39m\n\u001b[0;32m    134\u001b[0m \u001b[38;5;66;03m# Send a copy because the user may overwrite it.\u001b[39;00m\n\u001b[0;32m    135\u001b[0m \u001b[38;5;66;03m# Overwriting results in undefined behaviour because\u001b[39;00m\n\u001b[0;32m    136\u001b[0m \u001b[38;5;66;03m# fun(self.x) will change self.x, with the two no longer linked.\u001b[39;00m\n\u001b[1;32m--> 137\u001b[0m fx \u001b[38;5;241m=\u001b[39m \u001b[43mfun\u001b[49m\u001b[43m(\u001b[49m\u001b[43mnp\u001b[49m\u001b[38;5;241;43m.\u001b[39;49m\u001b[43mcopy\u001b[49m\u001b[43m(\u001b[49m\u001b[43mx\u001b[49m\u001b[43m)\u001b[49m\u001b[43m,\u001b[49m\u001b[43m \u001b[49m\u001b[38;5;241;43m*\u001b[39;49m\u001b[43margs\u001b[49m\u001b[43m)\u001b[49m\n\u001b[0;32m    138\u001b[0m \u001b[38;5;66;03m# Make sure the function returns a true scalar\u001b[39;00m\n\u001b[0;32m    139\u001b[0m \u001b[38;5;28;01mif\u001b[39;00m \u001b[38;5;129;01mnot\u001b[39;00m np\u001b[38;5;241m.\u001b[39misscalar(fx):\n",
      "Cell \u001b[1;32mIn[236], line 7\u001b[0m, in \u001b[0;36mneg_log_likelihood\u001b[1;34m(params, data)\u001b[0m\n\u001b[0;32m      5\u001b[0m rho, sigma \u001b[38;5;241m=\u001b[39m params\n\u001b[0;32m      6\u001b[0m covariance_matrix \u001b[38;5;241m=\u001b[39m np\u001b[38;5;241m.\u001b[39marray([[sigma\u001b[38;5;241m*\u001b[39m\u001b[38;5;241m*\u001b[39m\u001b[38;5;241m2\u001b[39m, rho\u001b[38;5;241m*\u001b[39msigma\u001b[38;5;241m*\u001b[39m\u001b[38;5;241m*\u001b[39m\u001b[38;5;241m2\u001b[39m], [rho\u001b[38;5;241m*\u001b[39msigma\u001b[38;5;241m*\u001b[39m\u001b[38;5;241m*\u001b[39m\u001b[38;5;241m2\u001b[39m, sigma\u001b[38;5;241m*\u001b[39m\u001b[38;5;241m*\u001b[39m\u001b[38;5;241m2\u001b[39m]])\n\u001b[1;32m----> 7\u001b[0m mvn \u001b[38;5;241m=\u001b[39m \u001b[43mmultivariate_normal\u001b[49m\u001b[43m(\u001b[49m\u001b[43mmu\u001b[49m\u001b[43m,\u001b[49m\u001b[43m \u001b[49m\u001b[43mcovariance_matrix\u001b[49m\u001b[43m)\u001b[49m\n\u001b[0;32m      8\u001b[0m \u001b[38;5;28;01mreturn\u001b[39;00m \u001b[38;5;241m-\u001b[39mmvn\u001b[38;5;241m.\u001b[39mlogpdf(data)\u001b[38;5;241m.\u001b[39msum()\n",
      "File \u001b[1;32mc:\\Programs\\Python\\Python312\\Lib\\site-packages\\scipy\\stats\\_multivariate.py:398\u001b[0m, in \u001b[0;36mmultivariate_normal_gen.__call__\u001b[1;34m(self, mean, cov, allow_singular, seed)\u001b[0m\n\u001b[0;32m    393\u001b[0m \u001b[38;5;28;01mdef\u001b[39;00m \u001b[38;5;21m__call__\u001b[39m(\u001b[38;5;28mself\u001b[39m, mean\u001b[38;5;241m=\u001b[39m\u001b[38;5;28;01mNone\u001b[39;00m, cov\u001b[38;5;241m=\u001b[39m\u001b[38;5;241m1\u001b[39m, allow_singular\u001b[38;5;241m=\u001b[39m\u001b[38;5;28;01mFalse\u001b[39;00m, seed\u001b[38;5;241m=\u001b[39m\u001b[38;5;28;01mNone\u001b[39;00m):\n\u001b[0;32m    394\u001b[0m \u001b[38;5;250m    \u001b[39m\u001b[38;5;124;03m\"\"\"Create a frozen multivariate normal distribution.\u001b[39;00m\n\u001b[0;32m    395\u001b[0m \n\u001b[0;32m    396\u001b[0m \u001b[38;5;124;03m    See `multivariate_normal_frozen` for more information.\u001b[39;00m\n\u001b[0;32m    397\u001b[0m \u001b[38;5;124;03m    \"\"\"\u001b[39;00m\n\u001b[1;32m--> 398\u001b[0m     \u001b[38;5;28;01mreturn\u001b[39;00m \u001b[43mmultivariate_normal_frozen\u001b[49m\u001b[43m(\u001b[49m\u001b[43mmean\u001b[49m\u001b[43m,\u001b[49m\u001b[43m \u001b[49m\u001b[43mcov\u001b[49m\u001b[43m,\u001b[49m\n\u001b[0;32m    399\u001b[0m \u001b[43m                                      \u001b[49m\u001b[43mallow_singular\u001b[49m\u001b[38;5;241;43m=\u001b[39;49m\u001b[43mallow_singular\u001b[49m\u001b[43m,\u001b[49m\n\u001b[0;32m    400\u001b[0m \u001b[43m                                      \u001b[49m\u001b[43mseed\u001b[49m\u001b[38;5;241;43m=\u001b[39;49m\u001b[43mseed\u001b[49m\u001b[43m)\u001b[49m\n",
      "File \u001b[1;32mc:\\Programs\\Python\\Python312\\Lib\\site-packages\\scipy\\stats\\_multivariate.py:839\u001b[0m, in \u001b[0;36mmultivariate_normal_frozen.__init__\u001b[1;34m(self, mean, cov, allow_singular, seed, maxpts, abseps, releps)\u001b[0m\n\u001b[0;32m    796\u001b[0m \u001b[38;5;250m\u001b[39m\u001b[38;5;124;03m\"\"\"Create a frozen multivariate normal distribution.\u001b[39;00m\n\u001b[0;32m    797\u001b[0m \n\u001b[0;32m    798\u001b[0m \u001b[38;5;124;03mParameters\u001b[39;00m\n\u001b[1;32m   (...)\u001b[0m\n\u001b[0;32m    835\u001b[0m \n\u001b[0;32m    836\u001b[0m \u001b[38;5;124;03m\"\"\"\u001b[39;00m\n\u001b[0;32m    837\u001b[0m \u001b[38;5;28mself\u001b[39m\u001b[38;5;241m.\u001b[39m_dist \u001b[38;5;241m=\u001b[39m multivariate_normal_gen(seed)\n\u001b[0;32m    838\u001b[0m \u001b[38;5;28mself\u001b[39m\u001b[38;5;241m.\u001b[39mdim, \u001b[38;5;28mself\u001b[39m\u001b[38;5;241m.\u001b[39mmean, \u001b[38;5;28mself\u001b[39m\u001b[38;5;241m.\u001b[39mcov_object \u001b[38;5;241m=\u001b[39m (\n\u001b[1;32m--> 839\u001b[0m     \u001b[38;5;28;43mself\u001b[39;49m\u001b[38;5;241;43m.\u001b[39;49m\u001b[43m_dist\u001b[49m\u001b[38;5;241;43m.\u001b[39;49m\u001b[43m_process_parameters\u001b[49m\u001b[43m(\u001b[49m\u001b[43mmean\u001b[49m\u001b[43m,\u001b[49m\u001b[43m \u001b[49m\u001b[43mcov\u001b[49m\u001b[43m,\u001b[49m\u001b[43m \u001b[49m\u001b[43mallow_singular\u001b[49m\u001b[43m)\u001b[49m)\n\u001b[0;32m    840\u001b[0m \u001b[38;5;28mself\u001b[39m\u001b[38;5;241m.\u001b[39mallow_singular \u001b[38;5;241m=\u001b[39m allow_singular \u001b[38;5;129;01mor\u001b[39;00m \u001b[38;5;28mself\u001b[39m\u001b[38;5;241m.\u001b[39mcov_object\u001b[38;5;241m.\u001b[39m_allow_singular\n\u001b[0;32m    841\u001b[0m \u001b[38;5;28;01mif\u001b[39;00m \u001b[38;5;129;01mnot\u001b[39;00m maxpts:\n",
      "File \u001b[1;32mc:\\Programs\\Python\\Python312\\Lib\\site-packages\\scipy\\stats\\_multivariate.py:422\u001b[0m, in \u001b[0;36mmultivariate_normal_gen._process_parameters\u001b[1;34m(self, mean, cov, allow_singular)\u001b[0m\n\u001b[0;32m    415\u001b[0m dim, mean, cov \u001b[38;5;241m=\u001b[39m \u001b[38;5;28mself\u001b[39m\u001b[38;5;241m.\u001b[39m_process_parameters_psd(\u001b[38;5;28;01mNone\u001b[39;00m, mean, cov)\n\u001b[0;32m    416\u001b[0m \u001b[38;5;66;03m# After input validation, some methods then processed the arrays\u001b[39;00m\n\u001b[0;32m    417\u001b[0m \u001b[38;5;66;03m# with a `_PSD` object and used that to perform computation.\u001b[39;00m\n\u001b[0;32m    418\u001b[0m \u001b[38;5;66;03m# To avoid branching statements in each method depending on whether\u001b[39;00m\n\u001b[0;32m    419\u001b[0m \u001b[38;5;66;03m# `cov` is an array or `Covariance` object, we always process the\u001b[39;00m\n\u001b[0;32m    420\u001b[0m \u001b[38;5;66;03m# array with `_PSD`, and then use wrapper that satisfies the\u001b[39;00m\n\u001b[0;32m    421\u001b[0m \u001b[38;5;66;03m# `Covariance` interface, `CovViaPSD`.\u001b[39;00m\n\u001b[1;32m--> 422\u001b[0m psd \u001b[38;5;241m=\u001b[39m \u001b[43m_PSD\u001b[49m\u001b[43m(\u001b[49m\u001b[43mcov\u001b[49m\u001b[43m,\u001b[49m\u001b[43m \u001b[49m\u001b[43mallow_singular\u001b[49m\u001b[38;5;241;43m=\u001b[39;49m\u001b[43mallow_singular\u001b[49m\u001b[43m)\u001b[49m\n\u001b[0;32m    423\u001b[0m cov_object \u001b[38;5;241m=\u001b[39m _covariance\u001b[38;5;241m.\u001b[39mCovViaPSD(psd)\n\u001b[0;32m    424\u001b[0m \u001b[38;5;28;01mreturn\u001b[39;00m dim, mean, cov_object\n",
      "File \u001b[1;32mc:\\Programs\\Python\\Python312\\Lib\\site-packages\\scipy\\stats\\_multivariate.py:172\u001b[0m, in \u001b[0;36m_PSD.__init__\u001b[1;34m(self, M, cond, rcond, lower, check_finite, allow_singular)\u001b[0m\n\u001b[0;32m    170\u001b[0m \u001b[38;5;28;01mif\u001b[39;00m np\u001b[38;5;241m.\u001b[39mmin(s) \u001b[38;5;241m<\u001b[39m \u001b[38;5;241m-\u001b[39meps:\n\u001b[0;32m    171\u001b[0m     msg \u001b[38;5;241m=\u001b[39m \u001b[38;5;124m\"\u001b[39m\u001b[38;5;124mThe input matrix must be symmetric positive semidefinite.\u001b[39m\u001b[38;5;124m\"\u001b[39m\n\u001b[1;32m--> 172\u001b[0m     \u001b[38;5;28;01mraise\u001b[39;00m \u001b[38;5;167;01mValueError\u001b[39;00m(msg)\n\u001b[0;32m    173\u001b[0m d \u001b[38;5;241m=\u001b[39m s[s \u001b[38;5;241m>\u001b[39m eps]\n\u001b[0;32m    174\u001b[0m \u001b[38;5;28;01mif\u001b[39;00m \u001b[38;5;28mlen\u001b[39m(d) \u001b[38;5;241m<\u001b[39m \u001b[38;5;28mlen\u001b[39m(s) \u001b[38;5;129;01mand\u001b[39;00m \u001b[38;5;129;01mnot\u001b[39;00m allow_singular:\n",
      "\u001b[1;31mValueError\u001b[0m: The input matrix must be symmetric positive semidefinite."
     ]
    }
   ],
   "source": [
    "from scipy.optimize import minimize\n",
    "\n",
    "# Функция для минимизации (минус логарифма функции правдоподобия)\n",
    "def neg_log_likelihood(params, data):\n",
    "    rho, sigma = params\n",
    "    covariance_matrix = np.array([[sigma**2, rho*sigma**2], [rho*sigma**2, sigma**2]])\n",
    "    mvn = multivariate_normal(mu, covariance_matrix)\n",
    "    return -mvn.logpdf(data).sum()\n",
    "\n",
    "# Начальные значения для параметров\n",
    "initial_params = [0.5, 2.0]  # Можете выбрать другие начальные значения\n",
    "\n",
    "# Минимизация (максимизация отрицательного логарифма функции правдоподобия)\n",
    "result = minimize(neg_log_likelihood, initial_params, args=(data[['X', 'Y']].values,), method='BFGS')\n",
    "\n",
    "\n",
    "# Получение оценок максимального правдоподобия\n",
    "rho_hat, sigma_hat = result.x\n",
    "\n",
    "print(f\"Оценка максимального правдоподобия для rho: {rho_hat}\")\n",
    "print(f\"Оценка максимального правдоподобия для sigma: {sigma_hat}\")\n"
   ]
  },
  {
   "cell_type": "code",
   "execution_count": 238,
   "metadata": {},
   "outputs": [
    {
     "name": "stderr",
     "output_type": "stream",
     "text": [
      "c:\\Programs\\Python\\Python312\\Lib\\site-packages\\scipy\\optimize\\_hessian_update_strategy.py:182: UserWarning: delta_grad == 0.0. Check if the approximated function is linear. If the function is linear better results can be obtained by defining the Hessian as zero instead of using quasi-Newton approximations.\n",
      "  warn('delta_grad == 0.0. Check if the approximated '\n"
     ]
    },
    {
     "name": "stdout",
     "output_type": "stream",
     "text": [
      "Оценка максимального правдоподобия для rho: -0.7277750836023325\n",
      "Оценка максимального правдоподобия для sigma: 1.2284774245095706\n"
     ]
    }
   ],
   "source": [
    "from scipy.optimize import minimize\n",
    "\n",
    "# Функция для минимизации (минус логарифма функции правдоподобия)\n",
    "def neg_log_likelihood(params, data):\n",
    "    rho, sigma = params\n",
    "    covariance_matrix = np.array([[sigma**2, rho*sigma**2], [rho*sigma**2, sigma**2]])\n",
    "    mvn = multivariate_normal(mu, covariance_matrix)\n",
    "    return -mvn.logpdf(data).sum()\n",
    "\n",
    "# Ограничения для параметров\n",
    "constraints = ({'type': 'ineq', 'fun': lambda params: params[0] - (-1)},  # Ограничение на rho: rho > -1\n",
    "               {'type': 'ineq', 'fun': lambda params: 1 - params[0]},       # Ограничение на rho: rho < 1\n",
    "               {'type': 'ineq', 'fun': lambda params: params[1]})            # Ограничение на sigma: sigma > 0\n",
    "\n",
    "# Начальные значения для параметров\n",
    "initial_params = [0.0, 1.0]  # Можете выбрать другие начальные значения\n",
    "\n",
    "# Минимизация с ограничениями\n",
    "result = minimize(neg_log_likelihood, initial_params, args=(data[['X', 'Y']].values,), method='trust-constr', constraints=constraints)\n",
    "\n",
    "# Получение оценок максимального правдоподобия\n",
    "rho_hat, sigma_hat = result.x\n",
    "\n",
    "print(f\"Оценка максимального правдоподобия для rho: {rho_hat}\")\n",
    "print(f\"Оценка максимального правдоподобия для sigma: {sigma_hat}\")\n"
   ]
  },
  {
   "cell_type": "code",
   "execution_count": 235,
   "metadata": {},
   "outputs": [
    {
     "data": {
      "text/plain": [
       "146.8910487121241"
      ]
     },
     "execution_count": 235,
     "metadata": {},
     "output_type": "execute_result"
    }
   ],
   "source": [
    "neg_log_likelihood(initial_params, (data[['X', 'Y']].values))"
   ]
  },
  {
   "cell_type": "markdown",
   "metadata": {},
   "source": [
    "---\n",
    "\n",
    "По двум независимым выборкам  $X_1, X_2, . . . , X_n$ объема n из $N(µ_X; σ 2_X)$ и $Y_1, Y_2, . . . , Y_m$ объема m из $N(µ_Y ; σ^2_Y )$ c неизвестными, но равными дисперсиями $σ^2_X = σ^2_Y = σ^2$ , проверяется на уровне значимости α основная гипотеза $H_0 : µ_X = µ_Y$ против альтернативной гипотезы $H_1 : µ_X \\neq µ_Y$ Приведите необходимую статистику F – критерия однофакторного дисперсионного анализа и критическое множество для проверки H0 против H1. 2) Приведите (с выводом и необходимыми пояснениями в обозначениях) обоснование равенства процентных точек fα(1; n + m − 2) распределения Фишера и t 2 α 2 (n + m − 2) распределения Стьюдента с n + m − 2 свободы.\n",
    "\n",
    "\n",
    "1. При данных условиях F-критерий однофакторного дисперсионного анализа эквивалентен T-критерию для проверки $H_0$ против $H_1$ \n",
    "При $k=2; n_1=n; n_2=m$\n",
    " $F-отношение = \\frac{SSTR/(k-1)}{ SSE / (n_1+n_2-k)} = \\frac{SSTR}{ SSE / (n+m-2)}$\n",
    " $SSTR = n_1(\\overline{X_1} - \\overline{X})^2 + n_2(\\overline{X_2} - \\overline{X})^2 = n(\\overline{X} - \\dfrac {1} {n+m}(n\\overline{X}+ m\\overline{Y}))^2+m(\\overline{Y} - \\dfrac {1} {n+m}(n\\overline{X}+ m\\overline{Y}))^2 = n(\\dfrac {m(\\overline{X}-\\overline{Y})}{n+m})^2+m(\\dfrac {n(\\overline{X}-\\overline{Y})}{n+m})^2 = \\dfrac{nm}{n+m}(\\overline{X}-\\overline{Y})^2$\n",
    " $SSE = (n_1-1)s_1^2 +(n_2-1)s_2^2=(n+m-2)s_p^2$, где \n",
    " $s^2_p= \\frac{(n-1)s^2_x + (m-1)s^2_y}{n+m-2}$\n",
    "$=> F= \\frac{(\\bar{X} - \\bar{Y})^2}{s^2_p (1/n + 1/m)} = T^2$ - T-статистика в квадрате.\n",
    "$K_α^\\prime = \\{x_{ij} = (x_1, …, x_n, y_1, …, y_m):F > f_α(1; n+m-2) \\}$\n",
    "2.  Пусть Q=n+m-2\n",
    "$P(F > f_α(1; n+m-2)) = P(\\frac{χ^2(1) \\cdot Q}{χ^2(Q)} > f_α(1; Q))=$\n",
    " = $P (\\frac{Z^2}{\\frac{1}{Q}Σ(Z^2_k)} > f_α(1; Q))$ =\n",
    " $=P(\\frac{|Z|}{\\sqrt{\\frac{1}{Q}Σ(Z^2_k)}}) > \\sqrt{f_α(1, Q)})=$\n",
    " \n",
    " = $P(-\\sqrt{f_α(1, Q)} < \\frac{Z}{\\sqrt{\\frac{1}{Q}Σ(Z^2_k)}}) < \\sqrt{f_α(1, Q)})=$\n",
    " \n",
    " = $P( -\\sqrt{f_α(1, Q)} < t \\sim t(Q) < \\sqrt{f_α(1, Q)}) =\\alpha  ⇒ \\text{в силу монотонности } F_t^{-1}(x),  \n",
    " \\sqrt{f_α(1, Q)}= t_{\\dfrac{\\alpha}{2}}(Q)=> $\n",
    " \n",
    " $t_{α/2}(Q) ⇒ P(-t_{α/2}(Q) < t < t_{α/2}(Q)) = α$\n",
    "$=> f_α (1; n+m-2) = t^2_{\\dfrac{α}{2}} (n+m-2)$\n"
   ]
  }
 ],
 "metadata": {
  "kernelspec": {
   "display_name": "Python 3",
   "language": "python",
   "name": "python3"
  },
  "language_info": {
   "codemirror_mode": {
    "name": "ipython",
    "version": 3
   },
   "file_extension": ".py",
   "mimetype": "text/x-python",
   "name": "python",
   "nbconvert_exporter": "python",
   "pygments_lexer": "ipython3",
   "version": "3.12.1"
  }
 },
 "nbformat": 4,
 "nbformat_minor": 2
}
