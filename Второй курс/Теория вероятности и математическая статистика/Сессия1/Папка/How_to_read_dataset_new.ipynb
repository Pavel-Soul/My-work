{
 "cells": [
  {
   "cell_type": "code",
   "execution_count": 16,
   "id": "3bcd6d07",
   "metadata": {},
   "outputs": [],
   "source": [
    "xy='x1 = 46, y1 = 44 x2 = 55, y2 = 45 x3 = 56, y3 = 54\\\n",
    "x4 = 76, y4 = 71 x5 = 82, y5 = 82 x6 = 49, y6 = 52 x7 = 41, y7 = 36 x8 = 58, y8 = 66 x9 = 88, y9 = 86\\\n",
    "x10 = 82, y10 = 89 x11 = 35, y11 = 32 x12 = 79, y12 = 78 x13 = 75, y13 = 82 x14 = 36, y14 = 39\\\n",
    "x15 = 68, y15 = 68 x16 = 40, y16 = 30 x17 = 52, y17 = 56 x18 = 49, y18 = 49 x19 = 77, y19 = 86\\\n",
    "x20 = 32, y20 = 44 x21 = 89, y21 = 84 x22 = 43, y22 = 48 x23 = 89, y23 = 90 x24 = 95, y24 = 85\\\n",
    "x25 = 89, y25 = 79'"
   ]
  },
  {
   "cell_type": "code",
   "execution_count": 17,
   "id": "5fb50ff5",
   "metadata": {},
   "outputs": [],
   "source": [
    "import numpy as np"
   ]
  },
  {
   "cell_type": "code",
   "execution_count": 18,
   "id": "d71c3fe4",
   "metadata": {},
   "outputs": [],
   "source": [
    "sample=np.array(list(map(lambda x: (int(x[0].split('=')[1]), int(x[1].split('=')[1])), list(map(lambda x: x.split(','), xy.split('x')))[1:])))"
   ]
  },
  {
   "cell_type": "code",
   "execution_count": 19,
   "id": "f280c446",
   "metadata": {},
   "outputs": [
    {
     "data": {
      "text/plain": [
       "array([[46, 44],\n",
       "       [55, 45],\n",
       "       [56, 54],\n",
       "       [76, 71],\n",
       "       [82, 82],\n",
       "       [49, 52],\n",
       "       [41, 36],\n",
       "       [58, 66],\n",
       "       [88, 86],\n",
       "       [82, 89],\n",
       "       [35, 32],\n",
       "       [79, 78],\n",
       "       [75, 82],\n",
       "       [36, 39],\n",
       "       [68, 68],\n",
       "       [40, 30],\n",
       "       [52, 56],\n",
       "       [49, 49],\n",
       "       [77, 86],\n",
       "       [32, 44],\n",
       "       [89, 84],\n",
       "       [43, 48],\n",
       "       [89, 90],\n",
       "       [95, 85],\n",
       "       [89, 79]])"
      ]
     },
     "execution_count": 19,
     "metadata": {},
     "output_type": "execute_result"
    }
   ],
   "source": [
    "sample"
   ]
  },
  {
   "cell_type": "code",
   "execution_count": 20,
   "id": "935f0c4b",
   "metadata": {},
   "outputs": [
    {
     "data": {
      "text/plain": [
       "array([[46, 44],\n",
       "       [55, 45],\n",
       "       [56, 54],\n",
       "       [76, 71],\n",
       "       [82, 82],\n",
       "       [49, 52],\n",
       "       [41, 36],\n",
       "       [58, 66],\n",
       "       [88, 86],\n",
       "       [82, 89],\n",
       "       [35, 32],\n",
       "       [79, 78],\n",
       "       [75, 82],\n",
       "       [36, 39],\n",
       "       [68, 68],\n",
       "       [40, 30],\n",
       "       [52, 56],\n",
       "       [49, 49],\n",
       "       [77, 86],\n",
       "       [32, 44],\n",
       "       [89, 84],\n",
       "       [43, 48],\n",
       "       [89, 90],\n",
       "       [95, 85],\n",
       "       [89, 79]])"
      ]
     },
     "execution_count": 20,
     "metadata": {},
     "output_type": "execute_result"
    }
   ],
   "source": [
    "mask = sample > 0\n",
    "sample[mask[:, 0] & mask[:, 1]]"
   ]
  },
  {
   "cell_type": "code",
   "execution_count": 21,
   "id": "9186e91c",
   "metadata": {},
   "outputs": [
    {
     "data": {
      "text/plain": [
       "(array([46, 55, 56, 76, 82, 49, 41, 58, 88, 82, 35, 79, 75, 36, 68, 40, 52,\n",
       "        49, 77, 32, 89, 43, 89, 95, 89]),\n",
       " array([44, 45, 54, 71, 82, 52, 36, 66, 86, 89, 32, 78, 82, 39, 68, 30, 56,\n",
       "        49, 86, 44, 84, 48, 90, 85, 79]))"
      ]
     },
     "execution_count": 21,
     "metadata": {},
     "output_type": "execute_result"
    }
   ],
   "source": [
    "x,y =sample[mask[:, 0] & mask[:, 1]].T\n",
    "x,y"
   ]
  },
  {
   "cell_type": "code",
   "execution_count": 22,
   "id": "bbecab7d",
   "metadata": {},
   "outputs": [
    {
     "data": {
      "text/plain": [
       "392.375"
      ]
     },
     "execution_count": 22,
     "metadata": {},
     "output_type": "execute_result"
    }
   ],
   "source": [
    "np.cov(x,y,ddof=1)[0][1]"
   ]
  },
  {
   "cell_type": "code",
   "execution_count": 23,
   "id": "0b4c6636",
   "metadata": {},
   "outputs": [
    {
     "data": {
      "text/plain": [
       "0.9524172053928188"
      ]
     },
     "execution_count": 23,
     "metadata": {},
     "output_type": "execute_result"
    }
   ],
   "source": [
    "np.corrcoef(x,y)[0][1]"
   ]
  },
  {
   "cell_type": "code",
   "execution_count": 9,
   "id": "51dfb416",
   "metadata": {},
   "outputs": [
    {
     "data": {
      "text/plain": [
       "array([[-1.9944772 ,  2.05342855],\n",
       "       [ 0.307309  , -0.50941497],\n",
       "       [-0.11098817,  3.67612044],\n",
       "       ...,\n",
       "       [-2.10590585,  0.72181851],\n",
       "       [-1.30676021, -0.65717439],\n",
       "       [-0.66137456,  0.90090156]])"
      ]
     },
     "execution_count": 9,
     "metadata": {},
     "output_type": "execute_result"
    }
   ],
   "source": [
    "from scipy.stats import multivariate_normal\n",
    "mu = np.array([0., 1.])\n",
    "Sigma = np.array([[ 1. , -0.5], [-0.5,  1.5]])\n",
    "W= multivariate_normal(mu, Sigma)\n",
    "sample=W.rvs(size=1000)\n",
    "sample"
   ]
  },
  {
   "cell_type": "code",
   "execution_count": 10,
   "id": "c9abd0f5",
   "metadata": {},
   "outputs": [],
   "source": [
    "data='4,193; 3,998; 5,62; 4,677; 4,571; 3,26; 4,221; 4,998; 4,379; 4,632; 3,266; 3,286; 4,062; 4,336; 4,089;\\\n",
    "5,079; 2,979; 4,379; 4,724; 4,168; 4,595; 3,348; 3,549; 4,037; 4,372'"
   ]
  },
  {
   "cell_type": "code",
   "execution_count": 11,
   "id": "429f83b4",
   "metadata": {},
   "outputs": [
    {
     "data": {
      "text/plain": [
       "'4,193; 3,998; 5,62; 4,677; 4,571; 3,26; 4,221; 4,998; 4,379; 4,632; 3,266; 3,286; 4,062; 4,336; 4,089;5,079; 2,979; 4,379; 4,724; 4,168; 4,595; 3,348; 3,549; 4,037; 4,372'"
      ]
     },
     "execution_count": 11,
     "metadata": {},
     "output_type": "execute_result"
    }
   ],
   "source": [
    "data='4,193; 3,998; 5,62; 4,677; 4,571; 3,26; 4,221; 4,998; 4,379; 4,632; 3,266; 3,286; 4,062; 4,336; 4,089;\\\n",
    "5,079; 2,979; 4,379; 4,724; 4,168; 4,595; 3,348; 3,549; 4,037; 4,372'\n",
    "data"
   ]
  },
  {
   "cell_type": "code",
   "execution_count": 24,
   "id": "21a78e57",
   "metadata": {},
   "outputs": [],
   "source": [
    "data='0,594; 1,441; 1,668; 1,083; 0,894; 0,393; 1,884; 1,5; -0,181; 2,159; 0,48; 1,074; 0,76; 0,758; 1,049; -0,7;\\\n",
    "1,335; 1,036; 0,86; 2,296; 0,325; -0,889; -0,882; 1,497; -0,497; 0,477; 1,297; -2,654; 1,487; -0,191; -0,063; 0,861;\\\n",
    "-1,421; 1,353; -0,914'"
   ]
  },
  {
   "cell_type": "code",
   "execution_count": 25,
   "id": "02ed5f0d",
   "metadata": {},
   "outputs": [],
   "source": [
    "def fmt(data):\n",
    "    a=data.replace(',','.')\n",
    "    b=a.split(';')\n",
    "    c=np.array(list(map(float, list(b))))\n",
    "    return c"
   ]
  },
  {
   "cell_type": "code",
   "execution_count": 26,
   "id": "311ac24b",
   "metadata": {},
   "outputs": [
    {
     "data": {
      "text/plain": [
       "array([ 0.594,  1.441,  1.668,  1.083,  0.894,  0.393,  1.884,  1.5  ,\n",
       "       -0.181,  2.159,  0.48 ,  1.074,  0.76 ,  0.758,  1.049, -0.7  ,\n",
       "        1.335,  1.036,  0.86 ,  2.296,  0.325, -0.889, -0.882,  1.497,\n",
       "       -0.497,  0.477,  1.297, -2.654,  1.487, -0.191, -0.063,  0.861,\n",
       "       -1.421,  1.353, -0.914])"
      ]
     },
     "execution_count": 26,
     "metadata": {},
     "output_type": "execute_result"
    }
   ],
   "source": [
    "x=fmt(data)# Применяем функцию fmt, которая преобразует строку данных в массив данных\n",
    "x"
   ]
  },
  {
   "cell_type": "code",
   "execution_count": 27,
   "id": "da7abf3a",
   "metadata": {},
   "outputs": [
    {
     "data": {
      "text/plain": [
       "0.5762571428571428"
      ]
     },
     "execution_count": 27,
     "metadata": {},
     "output_type": "execute_result"
    }
   ],
   "source": [
    "x.mean()"
   ]
  },
  {
   "cell_type": "code",
   "execution_count": null,
   "id": "f4d9d2f5",
   "metadata": {},
   "outputs": [],
   "source": []
  }
 ],
 "metadata": {
  "kernelspec": {
   "display_name": "Python 3 (ipykernel)",
   "language": "python",
   "name": "python3"
  },
  "language_info": {
   "codemirror_mode": {
    "name": "ipython",
    "version": 3
   },
   "file_extension": ".py",
   "mimetype": "text/x-python",
   "name": "python",
   "nbconvert_exporter": "python",
   "pygments_lexer": "ipython3",
   "version": "3.9.18"
  },
  "latex_envs": {
   "LaTeX_envs_menu_present": true,
   "autoclose": false,
   "autocomplete": true,
   "bibliofile": "biblio.bib",
   "cite_by": "apalike",
   "current_citInitial": 1,
   "eqLabelWithNumbers": true,
   "eqNumInitial": 1,
   "hotkeys": {
    "equation": "Ctrl-E",
    "itemize": "Ctrl-I"
   },
   "labels_anchors": false,
   "latex_user_defs": false,
   "report_style_numbering": false,
   "user_envs_cfg": false
  }
 },
 "nbformat": 4,
 "nbformat_minor": 5
}
