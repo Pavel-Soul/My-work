{
 "cells": [
  {
   "cell_type": "markdown",
   "metadata": {},
   "source": [
    "## Лист 8\n",
    "Шевкунов Даниил ПМ22-4"
   ]
  },
  {
   "cell_type": "code",
   "execution_count": 64,
   "metadata": {},
   "outputs": [],
   "source": [
    "import scipy.stats as stats\n",
    "import math\n",
    "import numpy as np\n",
    "import pandas as pd"
   ]
  },
  {
   "cell_type": "code",
   "execution_count": 30,
   "metadata": {},
   "outputs": [],
   "source": [
    "def zstat(alpha):\n",
    "    return stats.norm.ppf(1 - (1-alpha) / 2)"
   ]
  },
  {
   "cell_type": "code",
   "execution_count": 18,
   "metadata": {},
   "outputs": [
    {
     "name": "stdout",
     "output_type": "stream",
     "text": [
      "а) 80%-ный доверительный интервал: (174.05924309211832, 201.7407569078817)\n",
      "б) Уровень доверия: 95.927%\n"
     ]
    }
   ],
   "source": [
    "# 1\n",
    "# Исходные данные\n",
    "mean = 187.9\n",
    "std = 32.4\n",
    "n = 9\n",
    "\n",
    "# а) Найдем 80%-ный доверительный интервал\n",
    "interval_80 = stats.norm.interval(0.8, loc=mean, scale=std / n**0.5)\n",
    "\n",
    "\n",
    "# б) Найдем уровень доверия для заданного интервала\n",
    "Z = (210 - mean) * n**0.5 / std\n",
    "confidence_level = 1 - 2 * (1 - stats.norm.cdf(Z))\n",
    "\n",
    "print(\"а) 80%-ный доверительный интервал:\", interval_80)\n",
    "print(f\"б) Уровень доверия: {confidence_level:.3%}\")"
   ]
  },
  {
   "cell_type": "code",
   "execution_count": 37,
   "metadata": {},
   "outputs": [
    {
     "name": "stdout",
     "output_type": "stream",
     "text": [
      "Объем выборки: 2165\n"
     ]
    }
   ],
   "source": [
    "# 2\n",
    "\n",
    "# Уровень доверия\n",
    "confidence_level = 0.98\n",
    "\n",
    "# Максимальная допустимая ошибка\n",
    "max_error = 0.025\n",
    "\n",
    "# Предполагаемая доля\n",
    "p = 0.5\n",
    "\n",
    "# Вычисление объема выборки\n",
    "n = math.ceil((zstat(confidence_level) ** 2 * p * (1 - p)) / max_error**2)\n",
    "\n",
    "print(\"Объем выборки:\", n)"
   ]
  },
  {
   "cell_type": "code",
   "execution_count": 46,
   "metadata": {},
   "outputs": [
    {
     "name": "stdout",
     "output_type": "stream",
     "text": [
      "а) Доверительный интервал: (0.9286417876460265, 0.9713582123539735)\n",
      "б) Вероятность, что женщина выше: 0.10020773084642709\n"
     ]
    }
   ],
   "source": [
    "# 3\n",
    "sample_size = 400\n",
    "man_mean = 177.8\n",
    "man_std = 7.62\n",
    "women_mean = 165.1\n",
    "women_std = 6.35\n",
    "\n",
    "women_gr_man = 380\n",
    "\n",
    "# Доля пар где жена выше\n",
    "wgh = women_gr_man / sample_size\n",
    "\n",
    "Z = zstat(0.95)\n",
    "\n",
    "error = Z * ((wgh * (1 - wgh)) / sample_size) ** 0.5\n",
    "\n",
    "confidence_interval = (wgh - error, wgh + error)\n",
    "print(\"а) Доверительный интервал:\", confidence_interval)\n",
    "\n",
    "\n",
    "# Вычисление вероятности что случайная замужняя женщина выше случайного женатого мужчины\n",
    "probability_wife_above_husband = 1 - stats.norm.cdf(\n",
    "    0, loc=women_mean - man_mean, scale=math.sqrt(women_std**2 + man_std**2)\n",
    ")\n",
    "print(\"б) Вероятность, что женщина выше:\", probability_wife_above_husband)"
   ]
  },
  {
   "cell_type": "code",
   "execution_count": 42,
   "metadata": {},
   "outputs": [
    {
     "name": "stdout",
     "output_type": "stream",
     "text": [
      "Доверительный интервал: (0.7151362464869317, 3.2848637535130685)\n"
     ]
    }
   ],
   "source": [
    "# 4\n",
    "# Заданные данные\n",
    "x = [-2, 1, 2, 3, 4, 2, 5]\n",
    "n = [2, 1, 2, 2, 2, 1, 1]\n",
    "sample = np.repeat(x, n)\n",
    "\n",
    "# Значение Z для уровня доверия 95%\n",
    "z_value = zstat(0.95)\n",
    "\n",
    "# Вычисление доверительного интервала\n",
    "confidence_interval = (\n",
    "    sample.mean() - z_value * (sample.std() / np.sqrt(len(sample))),\n",
    "    sample.mean() + z_value * (sample.std() / np.sqrt(len(sample))),\n",
    ")\n",
    "\n",
    "print(\"Доверительный интервал:\", confidence_interval)"
   ]
  },
  {
   "cell_type": "code",
   "execution_count": 55,
   "metadata": {},
   "outputs": [
    {
     "name": "stdout",
     "output_type": "stream",
     "text": [
      "Минимальная сумма в рублях: 76314.40116531836\n"
     ]
    }
   ],
   "source": [
    "# 5\n",
    "\n",
    "# Курсы доллара за последние пять дней\n",
    "exchange_rates = np.array([99.25, 100.64, 103.44, 101.35, 97.65])\n",
    "\n",
    "# Вычисление среднего значения и стандартного отклонения\n",
    "mean = np.mean(exchange_rates)\n",
    "std = np.std(exchange_rates, ddof=1)\n",
    "\n",
    "\n",
    "# Стоимость вещи в долларах\n",
    "cost_in_dollars = 719.34\n",
    "\n",
    "# Вычисление квантиля нормального распределения\n",
    "# price = stats.norm.ppf(0.99, loc=mean, scale=std)\n",
    "price = mean + zstat(0.99) * std\n",
    "\n",
    "# Вычисление минимальной суммы в рублях\n",
    "print(\"Минимальная сумма в рублях:\", price * cost_in_dollars)"
   ]
  },
  {
   "cell_type": "code",
   "execution_count": 60,
   "metadata": {},
   "outputs": [
    {
     "name": "stdout",
     "output_type": "stream",
     "text": [
      "97%-ый доверительный интервал для годового роста:  (15.147530398402736, 24.852469601597264)\n",
      "97%-ый доверительный интервал для цены актива в конце следующего года:  (115.14753039840274, 124.85246960159726)\n"
     ]
    }
   ],
   "source": [
    "# 6\n",
    "\n",
    "# Исходные данные\n",
    "n = 5  # Размер выборки\n",
    "mean = 20  # средний годовой рост\n",
    "std = 5  # стандартное отклонение годового роста\n",
    "confidence_level = 0.97  # уровень доверия\n",
    "initial_price = 100  # начальная цена актива в долларах\n",
    "\n",
    "\n",
    "# Значение Z-статистики для 97% уровня доверия\n",
    "z_value = zstat(confidence_level)\n",
    "\n",
    "\n",
    "# Вычисление доверительного интервала\n",
    "error = z_value * (std / math.sqrt(n))\n",
    "confidence_interval = (mean - error, mean + error)\n",
    "\n",
    "# Вычисление доверительного интервала для цены актива в конце следующего года\n",
    "final_price_interval = (\n",
    "    initial_price * (1 + confidence_interval[0] / 100),\n",
    "    initial_price * (1 + confidence_interval[1] / 100),\n",
    ")\n",
    "\n",
    "print(\"97%-ый доверительный интервал для годового роста: \", confidence_interval)\n",
    "print(\n",
    "    \"97%-ый доверительный интервал для цены актива в конце следующего года: \",\n",
    "    final_price_interval,\n",
    ")"
   ]
  },
  {
   "cell_type": "code",
   "execution_count": 63,
   "metadata": {},
   "outputs": [
    {
     "name": "stdout",
     "output_type": "stream",
     "text": [
      "90% доверительный интервал для среднего квадратичного отклонения: (19.74049955262717, 34.61249782279546)\n"
     ]
    }
   ],
   "source": [
    "# 7\n",
    "# Исходные данные\n",
    "sample_size = 19\n",
    "sample_std = 25\n",
    "confidence_level = 0.90\n",
    "\n",
    "# Вычисление квантилей хи-квадрат\n",
    "# А руками бы искали в таблице...\n",
    "chi2_lower = stats.chi2.ppf((1 - confidence_level) / 2, df=sample_size - 1)\n",
    "chi2_upper = stats.chi2.ppf((1 + confidence_level) / 2, df=sample_size - 1)\n",
    "\n",
    "# Вычисление доверительного интервала\n",
    "confidence_interval = (\n",
    "    ((sample_size - 1) * sample_std**2 / chi2_upper) ** 0.5,\n",
    "    ((sample_size - 1) * sample_std**2 / chi2_lower) ** 0.5,\n",
    ")\n",
    "\n",
    "print(\n",
    "    f\"90% доверительный интервал для среднего квадратичного отклонения: {confidence_interval}\"\n",
    ")"
   ]
  },
  {
   "cell_type": "code",
   "execution_count": 91,
   "metadata": {},
   "outputs": [],
   "source": [
    "# 8\n",
    "data = pd.read_csv(\n",
    "    r\"D:\\DISTR\\Загрузки\\iMe Desktop\\sample88.csv\",\n",
    "    header=None,\n",
    "    names=['x', 'y'],\n",
    "    decimal=\",\",\n",
    "    sep=\";\",\n",
    "    encoding=\"cp1251\",\n",
    ")"
   ]
  },
  {
   "cell_type": "code",
   "execution_count": 117,
   "metadata": {},
   "outputs": [
    {
     "name": "stdout",
     "output_type": "stream",
     "text": [
      "а) Выборочный коэффициент кореляции: 0.94304\n"
     ]
    }
   ],
   "source": [
    "dif_x = data.x - data.x.mean()\n",
    "dif_y = data.y - data.y.mean()\n",
    "\n",
    "r = sum(dif_x * dif_y) / (sum(dif_x**2) * sum(dif_y**2)) ** 0.5\n",
    "print(f\"а) Выборочный коэффициент кореляции: {r:.5f}\")"
   ]
  },
  {
   "cell_type": "code",
   "execution_count": 121,
   "metadata": {},
   "outputs": [
    {
     "name": "stdout",
     "output_type": "stream",
     "text": [
      "б) Доверительный интервал коэффициента кореляции: (0.8976670776032922, 0.9686278167868622)\n"
     ]
    }
   ],
   "source": [
    "# Трансформация r в z\n",
    "z = 0.5 * math.log((1 + r) / (1 - r))\n",
    "\n",
    "# Размер выборки\n",
    "n = data.shape[0]\n",
    "# Уровень доверия\n",
    "confidence_level = 0.92\n",
    "\n",
    "# Квантили стандартного нормального распределения\n",
    "z_alpha_2 = zstat(confidence_level)\n",
    "\n",
    "# Стандартная ошибка z\n",
    "se_z = 1 / math.sqrt(n - 3)\n",
    "\n",
    "# Доверительный интервал для z\n",
    "z_interval_lower = z - z_alpha_2 * se_z\n",
    "z_interval_upper = z + z_alpha_2 * se_z\n",
    "\n",
    "# Обратное преобразование интервала для r\n",
    "r_interval_lower = (math.exp(2 * z_interval_lower) - 1) / (\n",
    "    math.exp(2 * z_interval_lower) + 1\n",
    ")\n",
    "r_interval_upper = (math.exp(2 * z_interval_upper) - 1) / (\n",
    "    math.exp(2 * z_interval_upper) + 1\n",
    ")\n",
    "\n",
    "print(\n",
    "    f\"б) Доверительный интервал коэффициента кореляции: ({r_interval_lower}, {r_interval_upper})\"\n",
    ")"
   ]
  }
 ],
 "metadata": {
  "kernelspec": {
   "display_name": "Python 3",
   "language": "python",
   "name": "python3"
  },
  "language_info": {
   "codemirror_mode": {
    "name": "ipython",
    "version": 3
   },
   "file_extension": ".py",
   "mimetype": "text/x-python",
   "name": "python",
   "nbconvert_exporter": "python",
   "pygments_lexer": "ipython3",
   "version": "3.11.0"
  }
 },
 "nbformat": 4,
 "nbformat_minor": 2
}
