{
 "cells": [
  {
   "cell_type": "code",
   "execution_count": 140,
   "metadata": {},
   "outputs": [],
   "source": [
    "from scipy.stats import rv_discrete\n",
    "import numpy as np\n",
    "import matplotlib.pyplot as plt\n",
    "from functools import lru_cache"
   ]
  },
  {
   "cell_type": "code",
   "execution_count": null,
   "metadata": {},
   "outputs": [],
   "source": []
  },
  {
   "cell_type": "code",
   "execution_count": 172,
   "metadata": {},
   "outputs": [
    {
     "data": {
      "text/plain": [
       "<matplotlib.image.AxesImage at 0x23e180ca250>"
      ]
     },
     "execution_count": 172,
     "metadata": {},
     "output_type": "execute_result"
    },
    {
     "data": {
      "image/png": "[encoded data removed]",
      "text/plain": [
       "<Figure size 640x480 with 1 Axes>"
      ]
     },
     "metadata": {},
     "output_type": "display_data"
    }
   ],
   "source": [
    "number = 1\n",
    "step = 255\n",
    "data = []\n",
    "for number in range(10000):\n",
    "    color = [0,0,0]\n",
    "    if number % 3 == 0:\n",
    "        color[number % 3] = abs((number // 3) % (step * 2) - step)\n",
    "        data.append(color)\n",
    "\n",
    "# plt.imshow([data, data, data])\n",
    "plt.imshow(np.array([data]).repeat(500, axis=0))\n",
    "    # color = \"#{:0<2x}{:0<2x}{:0<2x}\".format(*color)\n",
    "    # print(color)"
   ]
  },
  {
   "cell_type": "code",
   "execution_count": 168,
   "metadata": {},
   "outputs": [
    {
     "data": {
      "text/plain": [
       "array([[[255,   0,   0],\n",
       "        [254,   0,   0],\n",
       "        [253,   0,   0],\n",
       "        ...,\n",
       "        [ 16,   0,   0],\n",
       "        [ 17,   0,   0],\n",
       "        [ 18,   0,   0]],\n",
       "\n",
       "       [[255,   0,   0],\n",
       "        [254,   0,   0],\n",
       "        [253,   0,   0],\n",
       "        ...,\n",
       "        [ 16,   0,   0],\n",
       "        [ 17,   0,   0],\n",
       "        [ 18,   0,   0]]])"
      ]
     },
     "execution_count": 168,
     "metadata": {},
     "output_type": "execute_result"
    }
   ],
   "source": [
    "np.array([data]).repeat(2, axis=0)"
   ]
  },
  {
   "cell_type": "code",
   "execution_count": null,
   "metadata": {},
   "outputs": [],
   "source": [
    "1234543212"
   ]
  },
  {
   "cell_type": "code",
   "execution_count": 133,
   "metadata": {},
   "outputs": [
    {
     "name": "stdout",
     "output_type": "stream",
     "text": [
      "5\n",
      "4\n",
      "3\n",
      "2\n",
      "1\n",
      "0\n",
      "1\n",
      "2\n",
      "3\n",
      "4\n",
      "5\n",
      "4\n",
      "3\n",
      "2\n",
      "1\n",
      "0\n",
      "1\n",
      "2\n",
      "3\n",
      "4\n",
      "5\n",
      "4\n",
      "3\n",
      "2\n",
      "1\n"
     ]
    }
   ],
   "source": [
    "for i in range(25):\n",
    "    print(abs(i%10-5))\n"
   ]
  },
  {
   "cell_type": "markdown",
   "metadata": {},
   "source": [
    "Несимметричная игральная кость подбрасывается до тех пор, пока не выпадут цифры 1 и 2. Пусть X — число сделанных при этом бросков. Даны вероятности появления цифр в одном броске: P(1) = 0.1 и P(2) = 0.2. Требуется найти:\n",
    "1) E(X);\n",
    "2) дисперсию X, если известно, что из 1 и 2 сначала выпала цифра 1.\\\n",
    "    Указание: разберите пример на применение формулы полного математического ожидания (лекция 14, слайд 13 из курса ТВ-2017)."
   ]
  },
  {
   "cell_type": "code",
   "execution_count": 65,
   "metadata": {},
   "outputs": [],
   "source": [
    "def C(n, k):\n",
    "    if 0 <= k <= n:\n",
    "        nn = 1\n",
    "        kk = 1\n",
    "        for t in range(1, min(k, n - k) + 1):\n",
    "            nn *= n\n",
    "            kk *= t\n",
    "            n -= 1\n",
    "        return nn // kk\n",
    "    else:\n",
    "        return 0"
   ]
  },
  {
   "cell_type": "code",
   "execution_count": 73,
   "metadata": {},
   "outputs": [
    {
     "data": {
      "text/plain": [
       "0.16000000000000003"
      ]
     },
     "execution_count": 73,
     "metadata": {},
     "output_type": "execute_result"
    }
   ],
   "source": [
    "r = 1\n",
    "p = 0.2\n",
    "k = 1\n",
    "\n",
    "C(r+k-1, k)*p**r*(1-p)**k"
   ]
  },
  {
   "cell_type": "code",
   "execution_count": 80,
   "metadata": {},
   "outputs": [
    {
     "data": {
      "text/plain": [
       "[10.3188511585162]"
      ]
     },
     "execution_count": 80,
     "metadata": {},
     "output_type": "execute_result"
    }
   ],
   "source": [
    "from sympy import solve\n",
    "\n",
    "\n",
    "solve(\"0.8**n-0.1\")"
   ]
  },
  {
   "cell_type": "code",
   "execution_count": 44,
   "metadata": {},
   "outputs": [
    {
     "data": {
      "text/plain": [
       "10.6466"
      ]
     },
     "execution_count": 44,
     "metadata": {},
     "output_type": "execute_result"
    },
    {
     "data": {
      "image/png": "[encoded data removed]",
      "text/plain": [
       "<Figure size 640x480 with 1 Axes>"
      ]
     },
     "metadata": {},
     "output_type": "display_data"
    }
   ],
   "source": [
    "# E(X)\n",
    "\n",
    "def X(values):\n",
    "    t = np.random.choice(values[0], p=values[1], size=int(10/min(values[1])))\n",
    "    return max(np.where(t == 1)[0][0], np.where(t == 2)[0][0])\n",
    "\n",
    "values = [[1, 2, 3], [0.1, 0.2, 0.7]]\n",
    "data = [X(values) for _ in range(10000)]\n",
    "plt.hist(data)\n",
    "np.mean(data)"
   ]
  },
  {
   "cell_type": "code",
   "execution_count": 61,
   "metadata": {},
   "outputs": [
    {
     "data": {
      "text/plain": [
       "28.13727271"
      ]
     },
     "execution_count": 61,
     "metadata": {},
     "output_type": "execute_result"
    },
    {
     "data": {
      "image/png": "[encoded data removed]",
      "text/plain": [
       "<Figure size 640x480 with 1 Axes>"
      ]
     },
     "metadata": {},
     "output_type": "display_data"
    }
   ],
   "source": [
    "# var(X)\n",
    "\n",
    "\n",
    "\n",
    "def X(values):\n",
    "    while True:\n",
    "        # t = rv_discrete(values=values).rvs(size=int(10/min(values[1])))\n",
    "        t = np.random.choice(values[0], p=values[1], size=int(100/min(values[1])))\n",
    "        if np.where(t == 1)[0][0] < np.where(t == 2)[0][0]:\n",
    "            break\n",
    "    return max(np.where(t == 1)[0][0], np.where(t == 2)[0][0])\n",
    "\n",
    "values = [[1, 2, 3], [0.1, 0.2, 0.7]]\n",
    "data = [X(values) for _ in range(10000)]\n",
    "plt.hist(data)\n",
    "np.var(data)"
   ]
  },
  {
   "cell_type": "markdown",
   "metadata": {},
   "source": [
    "Несимметричная игральная кость подбрасывается до тех пор, пока не выпадут цифры 1, 2 и 3. Пусть X — число сделанных при этом бросков. Даны вероятности появления цифр в одном броске: P(1) = 0.1, P(2) = 0.2 и P(3) = 0.3. Требуется найти:\n",
    "1) E(X);\n",
    "2) дисперсию X, если известно, что из 1, 2 и 3 сначала выпала цифра 1, затем — 2."
   ]
  },
  {
   "cell_type": "code",
   "execution_count": 56,
   "metadata": {},
   "outputs": [
    {
     "data": {
      "text/plain": [
       "11.1666"
      ]
     },
     "execution_count": 56,
     "metadata": {},
     "output_type": "execute_result"
    },
    {
     "data": {
      "image/png": "[encoded data removed]",
      "text/plain": [
       "<Figure size 640x480 with 1 Axes>"
      ]
     },
     "metadata": {},
     "output_type": "display_data"
    }
   ],
   "source": [
    "# E(X)\n",
    "\n",
    "\n",
    "def X(values):\n",
    "    t = np.random.choice(values[0], p=values[1], size=int(100 / min(values[1])))\n",
    "    return max(np.where(t == i)[0][0] for i in [1, 2, 3])\n",
    "\n",
    "\n",
    "values = [[1, 2, 3, 4], [0.1, 0.2, 0.3, 0.4]]\n",
    "data = [X(values) for _ in range(10000)]\n",
    "plt.hist(data)\n",
    "np.mean(data)"
   ]
  },
  {
   "cell_type": "code",
   "execution_count": null,
   "metadata": {},
   "outputs": [
    {
     "data": {
      "text/plain": [
       "29.42847951"
      ]
     },
     "metadata": {},
     "output_type": "display_data"
    },
    {
     "data": {
      "image/png": "[encoded data removed]",
      "text/plain": [
       "<Figure size 640x480 with 1 Axes>"
      ]
     },
     "metadata": {},
     "output_type": "display_data"
    }
   ],
   "source": [
    "# var(X)\n",
    "\n",
    "\n",
    "\n",
    "def X(values):\n",
    "    while True:\n",
    "        # t = rv_discrete(values=values).rvs(size=int(10/min(values[1])))\n",
    "        t = np.random.choice(values[0], p=values[1], size=int(100/min(values[1])))\n",
    "        if np.where(t == 1)[0][0] < np.where(t == 2)[0][0]:\n",
    "            break\n",
    "    return max(np.where(t == 1)[0][0], np.where(t == 2)[0][0])\n",
    "\n",
    "values = [[1, 2, 3], [0.1, 0.2, 0.7]]\n",
    "data = [X(values) for _ in range(10000)]\n",
    "plt.hist(data)\n",
    "np.var(data)"
   ]
  },
  {
   "cell_type": "code",
   "execution_count": 81,
   "metadata": {},
   "outputs": [
    {
     "data": {
      "text/plain": [
       "152.79999999999998"
      ]
     },
     "execution_count": 81,
     "metadata": {},
     "output_type": "execute_result"
    }
   ],
   "source": [
    "0.3 * np.mean([0, 16*10]) + 0.7 * np.mean([0, 16*23])"
   ]
  },
  {
   "cell_type": "code",
   "execution_count": null,
   "metadata": {},
   "outputs": [],
   "source": []
  },
  {
   "cell_type": "code",
   "execution_count": 109,
   "metadata": {},
   "outputs": [],
   "source": [
    "from collections import Counter\n",
    "def dist(data):\n",
    "    plt.hist(data)\n",
    "    # plt.scatter(*zip(*sorted(Counter(data).items())))"
   ]
  },
  {
   "cell_type": "code",
   "execution_count": 110,
   "metadata": {},
   "outputs": [
    {
     "data": {
      "image/png": "[encoded data removed]",
      "text/plain": [
       "<Figure size 640x480 with 1 Axes>"
      ]
     },
     "metadata": {},
     "output_type": "display_data"
    }
   ],
   "source": [
    "def dice():\n",
    "    d = np.random.randint(1, 7)\n",
    "    while np.random.randint(0, 2, 30).sum() != 11:\n",
    "        d += np.random.randint(1, 7)\n",
    "    return d\n",
    "\n",
    "dist([dice() for _ in range(1000)])    "
   ]
  },
  {
   "cell_type": "code",
   "execution_count": 95,
   "metadata": {},
   "outputs": [],
   "source": [
    "a = [dice() for _ in range(1000)]"
   ]
  },
  {
   "cell_type": "code",
   "execution_count": 99,
   "metadata": {},
   "outputs": [
    {
     "data": {
      "text/plain": [
       "[(1,\n",
       "  2,\n",
       "  3,\n",
       "  4,\n",
       "  5,\n",
       "  6,\n",
       "  7,\n",
       "  8,\n",
       "  9,\n",
       "  10,\n",
       "  11,\n",
       "  12,\n",
       "  13,\n",
       "  14,\n",
       "  15,\n",
       "  16,\n",
       "  17,\n",
       "  18,\n",
       "  19,\n",
       "  20,\n",
       "  21,\n",
       "  22,\n",
       "  23,\n",
       "  24,\n",
       "  25,\n",
       "  26,\n",
       "  27,\n",
       "  28,\n",
       "  29,\n",
       "  30,\n",
       "  31,\n",
       "  32,\n",
       "  33,\n",
       "  34,\n",
       "  35,\n",
       "  36,\n",
       "  37,\n",
       "  38,\n",
       "  39,\n",
       "  40,\n",
       "  41,\n",
       "  42,\n",
       "  43,\n",
       "  44,\n",
       "  45,\n",
       "  46,\n",
       "  47,\n",
       "  48,\n",
       "  49,\n",
       "  50,\n",
       "  51,\n",
       "  52,\n",
       "  53,\n",
       "  54,\n",
       "  55,\n",
       "  56,\n",
       "  57,\n",
       "  58,\n",
       "  59,\n",
       "  60,\n",
       "  61,\n",
       "  62,\n",
       "  63,\n",
       "  64,\n",
       "  65,\n",
       "  66,\n",
       "  67,\n",
       "  69,\n",
       "  70,\n",
       "  71,\n",
       "  72,\n",
       "  73,\n",
       "  74,\n",
       "  75,\n",
       "  76,\n",
       "  77,\n",
       "  78,\n",
       "  79,\n",
       "  80,\n",
       "  81,\n",
       "  82,\n",
       "  83,\n",
       "  84,\n",
       "  85,\n",
       "  86,\n",
       "  87,\n",
       "  88,\n",
       "  89,\n",
       "  90,\n",
       "  91,\n",
       "  92,\n",
       "  93,\n",
       "  94,\n",
       "  95,\n",
       "  96,\n",
       "  97,\n",
       "  98,\n",
       "  99,\n",
       "  100,\n",
       "  101,\n",
       "  102,\n",
       "  103,\n",
       "  104,\n",
       "  105,\n",
       "  106,\n",
       "  107,\n",
       "  108,\n",
       "  109,\n",
       "  110,\n",
       "  111,\n",
       "  112,\n",
       "  113,\n",
       "  114,\n",
       "  115,\n",
       "  116,\n",
       "  117,\n",
       "  118,\n",
       "  119,\n",
       "  121,\n",
       "  122,\n",
       "  123,\n",
       "  125,\n",
       "  126,\n",
       "  127,\n",
       "  128,\n",
       "  129,\n",
       "  130,\n",
       "  131,\n",
       "  132,\n",
       "  133,\n",
       "  134,\n",
       "  135,\n",
       "  136,\n",
       "  137,\n",
       "  138,\n",
       "  139,\n",
       "  140,\n",
       "  141,\n",
       "  142,\n",
       "  144,\n",
       "  145,\n",
       "  146,\n",
       "  148,\n",
       "  150,\n",
       "  151,\n",
       "  152,\n",
       "  153,\n",
       "  156,\n",
       "  158,\n",
       "  160,\n",
       "  161,\n",
       "  162,\n",
       "  163,\n",
       "  164,\n",
       "  166,\n",
       "  167,\n",
       "  168,\n",
       "  169,\n",
       "  170,\n",
       "  171,\n",
       "  172,\n",
       "  173,\n",
       "  174,\n",
       "  175,\n",
       "  177,\n",
       "  179,\n",
       "  181,\n",
       "  183,\n",
       "  184,\n",
       "  186,\n",
       "  189,\n",
       "  190,\n",
       "  194,\n",
       "  196,\n",
       "  197,\n",
       "  198,\n",
       "  200,\n",
       "  202,\n",
       "  204,\n",
       "  207,\n",
       "  208,\n",
       "  209,\n",
       "  212,\n",
       "  215,\n",
       "  216,\n",
       "  217,\n",
       "  218,\n",
       "  219,\n",
       "  220,\n",
       "  221,\n",
       "  223,\n",
       "  224,\n",
       "  225,\n",
       "  227,\n",
       "  230,\n",
       "  236,\n",
       "  237,\n",
       "  238,\n",
       "  245,\n",
       "  253,\n",
       "  258,\n",
       "  260,\n",
       "  261,\n",
       "  264,\n",
       "  268,\n",
       "  273,\n",
       "  274,\n",
       "  275,\n",
       "  280,\n",
       "  308,\n",
       "  315,\n",
       "  316,\n",
       "  317,\n",
       "  320,\n",
       "  338,\n",
       "  339,\n",
       "  341,\n",
       "  346,\n",
       "  349,\n",
       "  364,\n",
       "  417,\n",
       "  418),\n",
       " (11,\n",
       "  11,\n",
       "  9,\n",
       "  17,\n",
       "  9,\n",
       "  17,\n",
       "  12,\n",
       "  16,\n",
       "  15,\n",
       "  10,\n",
       "  18,\n",
       "  9,\n",
       "  10,\n",
       "  11,\n",
       "  18,\n",
       "  16,\n",
       "  10,\n",
       "  8,\n",
       "  17,\n",
       "  11,\n",
       "  9,\n",
       "  6,\n",
       "  14,\n",
       "  13,\n",
       "  11,\n",
       "  7,\n",
       "  12,\n",
       "  10,\n",
       "  10,\n",
       "  6,\n",
       "  13,\n",
       "  12,\n",
       "  5,\n",
       "  7,\n",
       "  11,\n",
       "  7,\n",
       "  4,\n",
       "  11,\n",
       "  11,\n",
       "  4,\n",
       "  7,\n",
       "  5,\n",
       "  9,\n",
       "  14,\n",
       "  11,\n",
       "  5,\n",
       "  7,\n",
       "  4,\n",
       "  10,\n",
       "  4,\n",
       "  8,\n",
       "  4,\n",
       "  3,\n",
       "  5,\n",
       "  7,\n",
       "  6,\n",
       "  5,\n",
       "  2,\n",
       "  6,\n",
       "  6,\n",
       "  6,\n",
       "  5,\n",
       "  3,\n",
       "  6,\n",
       "  4,\n",
       "  3,\n",
       "  5,\n",
       "  9,\n",
       "  6,\n",
       "  4,\n",
       "  5,\n",
       "  7,\n",
       "  7,\n",
       "  3,\n",
       "  8,\n",
       "  8,\n",
       "  3,\n",
       "  8,\n",
       "  8,\n",
       "  4,\n",
       "  3,\n",
       "  6,\n",
       "  2,\n",
       "  2,\n",
       "  3,\n",
       "  3,\n",
       "  7,\n",
       "  2,\n",
       "  2,\n",
       "  6,\n",
       "  3,\n",
       "  5,\n",
       "  8,\n",
       "  5,\n",
       "  2,\n",
       "  4,\n",
       "  6,\n",
       "  3,\n",
       "  4,\n",
       "  3,\n",
       "  4,\n",
       "  5,\n",
       "  4,\n",
       "  3,\n",
       "  4,\n",
       "  5,\n",
       "  2,\n",
       "  4,\n",
       "  3,\n",
       "  3,\n",
       "  1,\n",
       "  3,\n",
       "  4,\n",
       "  3,\n",
       "  4,\n",
       "  1,\n",
       "  2,\n",
       "  2,\n",
       "  4,\n",
       "  3,\n",
       "  2,\n",
       "  4,\n",
       "  1,\n",
       "  3,\n",
       "  8,\n",
       "  3,\n",
       "  1,\n",
       "  3,\n",
       "  3,\n",
       "  3,\n",
       "  1,\n",
       "  3,\n",
       "  2,\n",
       "  5,\n",
       "  3,\n",
       "  3,\n",
       "  1,\n",
       "  4,\n",
       "  2,\n",
       "  1,\n",
       "  2,\n",
       "  3,\n",
       "  1,\n",
       "  2,\n",
       "  4,\n",
       "  1,\n",
       "  3,\n",
       "  2,\n",
       "  1,\n",
       "  1,\n",
       "  2,\n",
       "  2,\n",
       "  1,\n",
       "  1,\n",
       "  4,\n",
       "  2,\n",
       "  4,\n",
       "  1,\n",
       "  1,\n",
       "  2,\n",
       "  3,\n",
       "  1,\n",
       "  1,\n",
       "  1,\n",
       "  1,\n",
       "  2,\n",
       "  2,\n",
       "  1,\n",
       "  4,\n",
       "  1,\n",
       "  1,\n",
       "  1,\n",
       "  3,\n",
       "  2,\n",
       "  1,\n",
       "  2,\n",
       "  1,\n",
       "  2,\n",
       "  1,\n",
       "  1,\n",
       "  1,\n",
       "  2,\n",
       "  2,\n",
       "  2,\n",
       "  2,\n",
       "  1,\n",
       "  1,\n",
       "  2,\n",
       "  1,\n",
       "  1,\n",
       "  1,\n",
       "  1,\n",
       "  2,\n",
       "  1,\n",
       "  1,\n",
       "  1,\n",
       "  1,\n",
       "  1,\n",
       "  1,\n",
       "  1,\n",
       "  1,\n",
       "  1,\n",
       "  2,\n",
       "  2,\n",
       "  1,\n",
       "  1,\n",
       "  1,\n",
       "  1,\n",
       "  1,\n",
       "  1,\n",
       "  1,\n",
       "  1,\n",
       "  1,\n",
       "  1,\n",
       "  1,\n",
       "  1,\n",
       "  1,\n",
       "  1,\n",
       "  2,\n",
       "  1,\n",
       "  1,\n",
       "  1)]"
      ]
     },
     "execution_count": 99,
     "metadata": {},
     "output_type": "execute_result"
    }
   ],
   "source": [
    "list(zip(*sorted(Counter(a).items())))"
   ]
  }
 ],
 "metadata": {
  "kernelspec": {
   "display_name": "Python 3",
   "language": "python",
   "name": "python3"
  },
  "language_info": {
   "codemirror_mode": {
    "name": "ipython",
    "version": 3
   },
   "file_extension": ".py",
   "mimetype": "text/x-python",
   "name": "python",
   "nbconvert_exporter": "python",
   "pygments_lexer": "ipython3",
   "version": "3.11.0"
  },
  "orig_nbformat": 4
 },
 "nbformat": 4,
 "nbformat_minor": 2
}
