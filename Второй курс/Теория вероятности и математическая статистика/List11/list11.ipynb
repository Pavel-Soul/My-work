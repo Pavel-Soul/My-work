{
 "cells": [
  {
   "cell_type": "code",
   "execution_count": 18,
   "metadata": {},
   "outputs": [],
   "source": [
    "import numpy as np\n",
    "import pandas as pd\n",
    "import matplotlib.pyplot as plt"
   ]
  },
  {
   "cell_type": "code",
   "execution_count": 80,
   "metadata": {},
   "outputs": [
    {
     "data": {
      "text/html": [
       "<div>\n",
       "<style scoped>\n",
       "    .dataframe tbody tr th:only-of-type {\n",
       "        vertical-align: middle;\n",
       "    }\n",
       "\n",
       "    .dataframe tbody tr th {\n",
       "        vertical-align: top;\n",
       "    }\n",
       "\n",
       "    .dataframe thead th {\n",
       "        text-align: right;\n",
       "    }\n",
       "</style>\n",
       "<table border=\"1\" class=\"dataframe\">\n",
       "  <thead>\n",
       "    <tr style=\"text-align: right;\">\n",
       "      <th></th>\n",
       "      <th>A</th>\n",
       "      <th>B</th>\n",
       "      <th>C</th>\n",
       "    </tr>\n",
       "  </thead>\n",
       "  <tbody>\n",
       "    <tr>\n",
       "      <th>24</th>\n",
       "      <td>0.374313</td>\n",
       "      <td>0.386902</td>\n",
       "      <td>3.830329</td>\n",
       "    </tr>\n",
       "    <tr>\n",
       "      <th>16</th>\n",
       "      <td>-0.918474</td>\n",
       "      <td>2.972042</td>\n",
       "      <td>-0.136350</td>\n",
       "    </tr>\n",
       "    <tr>\n",
       "      <th>9</th>\n",
       "      <td>2.482038</td>\n",
       "      <td>1.029028</td>\n",
       "      <td>0.294575</td>\n",
       "    </tr>\n",
       "    <tr>\n",
       "      <th>3</th>\n",
       "      <td>0.874066</td>\n",
       "      <td>0.176824</td>\n",
       "      <td>3.860822</td>\n",
       "    </tr>\n",
       "    <tr>\n",
       "      <th>48</th>\n",
       "      <td>NaN</td>\n",
       "      <td>NaN</td>\n",
       "      <td>0.228617</td>\n",
       "    </tr>\n",
       "    <tr>\n",
       "      <th>41</th>\n",
       "      <td>NaN</td>\n",
       "      <td>NaN</td>\n",
       "      <td>1.315156</td>\n",
       "    </tr>\n",
       "    <tr>\n",
       "      <th>17</th>\n",
       "      <td>2.869470</td>\n",
       "      <td>1.394746</td>\n",
       "      <td>2.466386</td>\n",
       "    </tr>\n",
       "    <tr>\n",
       "      <th>42</th>\n",
       "      <td>NaN</td>\n",
       "      <td>NaN</td>\n",
       "      <td>1.010008</td>\n",
       "    </tr>\n",
       "    <tr>\n",
       "      <th>47</th>\n",
       "      <td>NaN</td>\n",
       "      <td>NaN</td>\n",
       "      <td>4.185940</td>\n",
       "    </tr>\n",
       "    <tr>\n",
       "      <th>38</th>\n",
       "      <td>NaN</td>\n",
       "      <td>NaN</td>\n",
       "      <td>4.623310</td>\n",
       "    </tr>\n",
       "  </tbody>\n",
       "</table>\n",
       "</div>"
      ],
      "text/plain": [
       "           A         B         C\n",
       "24  0.374313  0.386902  3.830329\n",
       "16 -0.918474  2.972042 -0.136350\n",
       "9   2.482038  1.029028  0.294575\n",
       "3   0.874066  0.176824  3.860822\n",
       "48       NaN       NaN  0.228617\n",
       "41       NaN       NaN  1.315156\n",
       "17  2.869470  1.394746  2.466386\n",
       "42       NaN       NaN  1.010008\n",
       "47       NaN       NaN  4.185940\n",
       "38       NaN       NaN  4.623310"
      ]
     },
     "execution_count": 80,
     "metadata": {},
     "output_type": "execute_result"
    }
   ],
   "source": [
    "data = pd.read_csv(\"./sample11_1.csv\", names=['A', 'B', 'C'], delimiter=';').astype(float)\n",
    "data.sample(10)"
   ]
  },
  {
   "cell_type": "code",
   "execution_count": 72,
   "metadata": {},
   "outputs": [
    {
     "name": "stdout",
     "output_type": "stream",
     "text": [
      "1.388554651955357\n"
     ]
    },
    {
     "data": {
      "text/plain": [
       "25.29427188059901"
      ]
     },
     "execution_count": 72,
     "metadata": {},
     "output_type": "execute_result"
    }
   ],
   "source": [
    "def msb(data):\n",
    "    groups = [data[g].dropna() for g in data.columns]\n",
    "    mean = sum(sum(g) for g in groups)/sum(len(g) for g in groups)\n",
    "    print(mean)\n",
    "    return sum([len(j) * (j.mean() - mean)**2 for j in groups])/(len(groups)-1)\n",
    "\n",
    "msb(data)"
   ]
  },
  {
   "cell_type": "code",
   "execution_count": 83,
   "metadata": {},
   "outputs": [
    {
     "name": "stdout",
     "output_type": "stream",
     "text": [
      "1) Межгрупповая дисперсия (MSB): 200.61629966267398\n",
      "2) Среднегрупповая дисперсия (MSW): nan\n",
      "3) Значение статистики критерия F: nan\n",
      "4) Критическое множество K_alpha: 3.589823483586648\n",
      "5) P-значение ANOVA: 0.0001395847288308801\n",
      "   Гипотеза о совпадении ожидаемых значений отвергается.\n"
     ]
    },
    {
     "ename": "ValueError",
     "evalue": "data has 153 elements and groups has 51",
     "output_type": "error",
     "traceback": [
      "\u001b[1;31m---------------------------------------------------------------------------\u001b[0m",
      "\u001b[1;31mValueError\u001b[0m                                Traceback (most recent call last)",
      "Cell \u001b[1;32mIn[83], line 37\u001b[0m\n\u001b[0;32m     34\u001b[0m     \u001b[38;5;28mprint\u001b[39m(\u001b[38;5;124m\"\u001b[39m\u001b[38;5;124m   Нет оснований отвергнуть гипотезу о совпадении ожидаемых значений.\u001b[39m\u001b[38;5;124m\"\u001b[39m)\n\u001b[0;32m     36\u001b[0m \u001b[38;5;66;03m# 6) P-значение и выводы\u001b[39;00m\n\u001b[1;32m---> 37\u001b[0m tukey_results \u001b[38;5;241m=\u001b[39m \u001b[43mpairwise_tukeyhsd\u001b[49m\u001b[43m(\u001b[49m\u001b[43mdata\u001b[49m\u001b[38;5;241;43m.\u001b[39;49m\u001b[43mvalues\u001b[49m\u001b[38;5;241;43m.\u001b[39;49m\u001b[43mflatten\u001b[49m\u001b[43m(\u001b[49m\u001b[43m)\u001b[49m\u001b[43m,\u001b[49m\u001b[43m \u001b[49m\u001b[38;5;28;43mrange\u001b[39;49m\u001b[43m(\u001b[49m\u001b[38;5;28;43mlen\u001b[39;49m\u001b[43m(\u001b[49m\u001b[43mdata\u001b[49m\u001b[43m)\u001b[49m\u001b[43m)\u001b[49m\u001b[43m)\u001b[49m\n\u001b[0;32m     38\u001b[0m \u001b[38;5;28mprint\u001b[39m(\u001b[38;5;124mf\u001b[39m\u001b[38;5;124m\"\u001b[39m\u001b[38;5;124m6) P-значение для критерия Тьюки: \u001b[39m\u001b[38;5;132;01m{\u001b[39;00mtukey_results\u001b[38;5;241m.\u001b[39mpvalues[\u001b[38;5;241m0\u001b[39m]\u001b[38;5;132;01m}\u001b[39;00m\u001b[38;5;124m\"\u001b[39m)\n\u001b[0;32m     39\u001b[0m \u001b[38;5;28;01mif\u001b[39;00m tukey_results\u001b[38;5;241m.\u001b[39mpvalues[\u001b[38;5;241m0\u001b[39m] \u001b[38;5;241m<\u001b[39m \u001b[38;5;241m0.05\u001b[39m:\n",
      "File \u001b[1;32mc:\\Programs\\Python\\Python311\\Lib\\site-packages\\statsmodels\\stats\\multicomp.py:44\u001b[0m, in \u001b[0;36mpairwise_tukeyhsd\u001b[1;34m(endog, groups, alpha)\u001b[0m\n\u001b[0;32m     14\u001b[0m \u001b[38;5;28;01mdef\u001b[39;00m \u001b[38;5;21mpairwise_tukeyhsd\u001b[39m(endog, groups, alpha\u001b[38;5;241m=\u001b[39m\u001b[38;5;241m0.05\u001b[39m):\n\u001b[0;32m     15\u001b[0m \u001b[38;5;250m    \u001b[39m\u001b[38;5;124;03m\"\"\"\u001b[39;00m\n\u001b[0;32m     16\u001b[0m \u001b[38;5;124;03m    Calculate all pairwise comparisons with TukeyHSD confidence intervals\u001b[39;00m\n\u001b[0;32m     17\u001b[0m \n\u001b[1;32m   (...)\u001b[0m\n\u001b[0;32m     41\u001b[0m \u001b[38;5;124;03m    statsmodels.sandbox.stats.multicomp.TukeyHSDResults\u001b[39;00m\n\u001b[0;32m     42\u001b[0m \u001b[38;5;124;03m    \"\"\"\u001b[39;00m\n\u001b[1;32m---> 44\u001b[0m     \u001b[38;5;28;01mreturn\u001b[39;00m \u001b[43mMultiComparison\u001b[49m\u001b[43m(\u001b[49m\u001b[43mendog\u001b[49m\u001b[43m,\u001b[49m\u001b[43m \u001b[49m\u001b[43mgroups\u001b[49m\u001b[43m)\u001b[49m\u001b[38;5;241m.\u001b[39mtukeyhsd(alpha\u001b[38;5;241m=\u001b[39malpha)\n",
      "File \u001b[1;32mc:\\Programs\\Python\\Python311\\Lib\\site-packages\\statsmodels\\sandbox\\stats\\multicomp.py:811\u001b[0m, in \u001b[0;36mMultiComparison.__init__\u001b[1;34m(self, data, groups, group_order)\u001b[0m\n\u001b[0;32m    808\u001b[0m \u001b[38;5;28;01mdef\u001b[39;00m \u001b[38;5;21m__init__\u001b[39m(\u001b[38;5;28mself\u001b[39m, data, groups, group_order\u001b[38;5;241m=\u001b[39m\u001b[38;5;28;01mNone\u001b[39;00m):\n\u001b[0;32m    810\u001b[0m     \u001b[38;5;28;01mif\u001b[39;00m \u001b[38;5;28mlen\u001b[39m(data) \u001b[38;5;241m!=\u001b[39m \u001b[38;5;28mlen\u001b[39m(groups):\n\u001b[1;32m--> 811\u001b[0m         \u001b[38;5;28;01mraise\u001b[39;00m \u001b[38;5;167;01mValueError\u001b[39;00m(\u001b[38;5;124m'\u001b[39m\u001b[38;5;124mdata has \u001b[39m\u001b[38;5;132;01m%d\u001b[39;00m\u001b[38;5;124m elements and groups has \u001b[39m\u001b[38;5;132;01m%d\u001b[39;00m\u001b[38;5;124m'\u001b[39m \u001b[38;5;241m%\u001b[39m (\u001b[38;5;28mlen\u001b[39m(data), \u001b[38;5;28mlen\u001b[39m(groups)))\n\u001b[0;32m    812\u001b[0m     \u001b[38;5;28mself\u001b[39m\u001b[38;5;241m.\u001b[39mdata \u001b[38;5;241m=\u001b[39m np\u001b[38;5;241m.\u001b[39masarray(data)\n\u001b[0;32m    813\u001b[0m     \u001b[38;5;28mself\u001b[39m\u001b[38;5;241m.\u001b[39mgroups \u001b[38;5;241m=\u001b[39m groups \u001b[38;5;241m=\u001b[39m np\u001b[38;5;241m.\u001b[39masarray(groups)\n",
      "\u001b[1;31mValueError\u001b[0m: data has 153 elements and groups has 51"
     ]
    }
   ],
   "source": [
    "import pandas as pd\n",
    "from scipy.stats import f_oneway\n",
    "from scipy import stats\n",
    "import statsmodels.api as sm\n",
    "from statsmodels.stats.multicomp import pairwise_tukeyhsd\n",
    "\n",
    "\n",
    "# Разделите данные на группы\n",
    "grouped_data = [data[col].dropna() for col in data.columns]\n",
    "\n",
    "# 1) Межгрупповая дисперсия\n",
    "msb = sum(data[col].var() * len(data[col]) for col in data.columns) / (len(data.columns) - 1)\n",
    "print(f\"1) Межгрупповая дисперсия (MSB): {msb}\")\n",
    "\n",
    "# 2) Среднегрупповая дисперсия\n",
    "msw = data.values.flatten().var()\n",
    "print(f\"2) Среднегрупповая дисперсия (MSW): {msw}\")\n",
    "\n",
    "# 3) Значение статистики критерия F\n",
    "f_statistic = msb / msw\n",
    "print(f\"3) Значение статистики критерия F: {f_statistic}\")\n",
    "\n",
    "# 4) Критическое множество K_alpha на уровне значимости 0,03\n",
    "alpha = 0.03\n",
    "critical_value = stats.f.ppf(1 - alpha, len(data.columns) - 1, len(data.values.flatten()) - len(data.columns))\n",
    "print(f\"4) Критическое множество K_alpha: {critical_value}\")\n",
    "\n",
    "# 5) Проверка гипотезы о совпадении ожидаемых значений показателей\n",
    "p_value_anova = f_oneway(*grouped_data)[1]\n",
    "print(f\"5) P-значение ANOVA: {p_value_anova}\")\n",
    "if p_value_anova < 0.05:\n",
    "    print(\"   Гипотеза о совпадении ожидаемых значений отвергается.\")\n",
    "else:\n",
    "    print(\"   Нет оснований отвергнуть гипотезу о совпадении ожидаемых значений.\")\n",
    "\n",
    "# 6) P-значение и выводы\n",
    "tukey_results = pairwise_tukeyhsd(data.values.flatten(), range(len(data)))\n",
    "print(f\"6) P-значение для критерия Тьюки: {tukey_results.pvalues[0]}\")\n",
    "if tukey_results.pvalues[0] < 0.05:\n",
    "    print(\"   Гипотеза о совпадении средних значений отвергается.\")\n",
    "else:\n",
    "    print(\"   Нет оснований отвергнуть гипотезу о совпадении средних значений.\")\n",
    "\n",
    "# 7) 90% доверительные интервалы для ожидаемых значений\n",
    "X = sm.add_constant(range(len(data)))  # добавляем константу для вычисления интервалов\n",
    "model = sm.OLS(data.values.flatten(), X).fit()\n",
    "confidence_intervals = model.conf_int(alpha=0.1)\n",
    "print(\"7) 90% доверительные интервалы для ожидаемых значений:\")\n",
    "print(confidence_intervals)\n"
   ]
  },
  {
   "cell_type": "code",
   "execution_count": 98,
   "metadata": {},
   "outputs": [
    {
     "name": "stdout",
     "output_type": "stream",
     "text": [
      "1) Межгрупповая дисперсия (MSB): 0.45168342643926823\n",
      "2) Среднегрупповая дисперсия (MSW): 3.0051131593908975\n",
      "3) Значение статистики критерия F: 0.15030496439968316\n",
      "4) Критическое множество K_alpha: 3.6218235345714844\n",
      "5) P-значение ANOVA: 0.0001395847288308801\n",
      "   Гипотеза о совпадении ожидаемых значений отвергается.\n",
      "6) P-значение для критерия Тьюки: 0.13740149298993942\n",
      "   Нет оснований отвергнуть гипотезу о совпадении средних значений.\n",
      "7) 90% доверительные интервалы для ожидаемых значений:\n",
      "[[0.31102893 1.26325889]\n",
      " [0.17164766 0.82624868]]\n"
     ]
    }
   ],
   "source": [
    "import numpy as np\n",
    "from scipy.stats import f_oneway\n",
    "from statsmodels.stats.multicomp import pairwise_tukeyhsd\n",
    "import statsmodels.api as sm\n",
    "\n",
    "# Замените data_arrays на ваши массивы с группами данных\n",
    "data_arrays = [data[col].dropna().values for col in data.columns]\n",
    "\n",
    "# 1) Межгрупповая дисперсия\n",
    "msb = np.var(np.concatenate([len(group) * [group.mean()] for group in data_arrays])).mean()\n",
    "print(f\"1) Межгрупповая дисперсия (MSB): {msb}\")\n",
    "\n",
    "# 2) Среднегрупповая дисперсия\n",
    "msw = np.var(np.concatenate(data_arrays))\n",
    "print(f\"2) Среднегрупповая дисперсия (MSW): {msw}\")\n",
    "\n",
    "# 3) Значение статистики критерия F\n",
    "f_statistic = msb / msw\n",
    "print(f\"3) Значение статистики критерия F: {f_statistic}\")\n",
    "\n",
    "# 4) Критическое множество K_alpha на уровне значимости 0,03\n",
    "alpha = 0.03\n",
    "k_alpha = len(data_arrays) - 1\n",
    "critical_value = stats.f.ppf(1 - alpha, k_alpha, np.sum([len(group) for group in data_arrays]) - len(data_arrays))\n",
    "print(f\"4) Критическое множество K_alpha: {critical_value}\")\n",
    "\n",
    "# 5) Проверка гипотезы о совпадении ожидаемых значений показателей\n",
    "p_value_anova = f_oneway(*data_arrays)[1]\n",
    "print(f\"5) P-значение ANOVA: {p_value_anova}\")\n",
    "if p_value_anova < 0.05:\n",
    "    print(\"   Гипотеза о совпадении ожидаемых значений отвергается.\")\n",
    "else:\n",
    "    print(\"   Нет оснований отвергнуть гипотезу о совпадении ожидаемых значений.\")\n",
    "\n",
    "# 6) P-значение и выводы\n",
    "tukey_results = pairwise_tukeyhsd(np.concatenate(data_arrays), np.concatenate([i * np.ones_like(data) for i, data in enumerate(data_arrays)]))\n",
    "print(f\"6) P-значение для критерия Тьюки: {tukey_results.pvalues[0]}\")\n",
    "if tukey_results.pvalues[0] < 0.05:\n",
    "    print(\"   Гипотеза о совпадении средних значений отвергается.\")\n",
    "else:\n",
    "    print(\"   Нет оснований отвергнуть гипотезу о совпадении средних значений.\")\n",
    "\n",
    "# 7) 90% доверительные интервалы для ожидаемых значений\n",
    "X = sm.add_constant(np.concatenate([i * np.ones_like(data) for i, data in enumerate(data_arrays)]))  # добавляем константу для вычисления интервалов\n",
    "model = sm.OLS(np.concatenate(data_arrays), X, missing='drop').fit()\n",
    "confidence_intervals = model.conf_int(alpha=0.1)\n",
    "print(\"7) 90% доверительные интервалы для ожидаемых значений:\")\n",
    "print(confidence_intervals)\n"
   ]
  },
  {
   "cell_type": "code",
   "execution_count": 95,
   "metadata": {},
   "outputs": [
    {
     "data": {
      "text/plain": [
       "0.45168342643926823"
      ]
     },
     "execution_count": 95,
     "metadata": {},
     "output_type": "execute_result"
    }
   ],
   "source": [
    "np.var(np.concatenate([len(group) * [group.mean()] for group in data_arrays]))#.mean()"
   ]
  }
 ],
 "metadata": {
  "kernelspec": {
   "display_name": "Python 3",
   "language": "python",
   "name": "python3"
  },
  "language_info": {
   "codemirror_mode": {
    "name": "ipython",
    "version": 3
   },
   "file_extension": ".py",
   "mimetype": "text/x-python",
   "name": "python",
   "nbconvert_exporter": "python",
   "pygments_lexer": "ipython3",
   "version": "3.11.0"
  }
 },
 "nbformat": 4,
 "nbformat_minor": 2
}
